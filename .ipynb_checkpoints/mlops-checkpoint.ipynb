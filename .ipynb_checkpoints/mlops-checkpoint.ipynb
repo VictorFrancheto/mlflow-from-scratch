{
 "cells": [
  {
   "cell_type": "markdown",
   "id": "f8cf1105",
   "metadata": {},
   "source": [
    "# 🛠️ MLflow Hands-On\n",
    "\n",
    "🎯 **Our goal** is to demonstrate how to integrate **MLflow** into a *machine learning* project, showcasing its role in tracking and managing experiments efficiently.\n",
    "\n",
    "We'll start by **fitting an initial boosting model**, logging parameters, metrics, and artifacts. Then, we'll move on to **hyperparameter optimization using Optuna**, with the entire workflow tracked and versioned through MLflow.\n",
    "\n",
    "---------------\n",
    "\n",
    "🛒 **Dataset**\n",
    "For this project, we used the **Wholesale Customers Data Set**, available from the [UCI Machine Learning Repository](https://archive.ics.uci.edu/ml/datasets/Wholesale+customers).\n",
    "\n",
    "This dataset provides insights into customer spending habits across different product categories, making it a useful resource for unsupervised learning and clustering tasks."
   ]
  },
  {
   "cell_type": "markdown",
   "id": "3ca9df87",
   "metadata": {},
   "source": [
    "## 📚 Importing libraries"
   ]
  },
  {
   "cell_type": "code",
   "execution_count": 1,
   "id": "f3c05965",
   "metadata": {},
   "outputs": [],
   "source": [
    "# Data Manipulation\n",
    "import pandas as pd\n",
    "import numpy as np\n",
    "\n",
    "# Visualization\n",
    "import matplotlib.pyplot as plt\n",
    "import seaborn as sns\n",
    "%matplotlib inline\n",
    "\n",
    "# Modeling and Evaluation\n",
    "import xgboost as xgb\n",
    "from xgboost import XGBClassifier\n",
    "from sklearn.model_selection import train_test_split\n",
    "from sklearn.metrics import mean_squared_error\n",
    "from sklearn.metrics import (\n",
    "    accuracy_score, precision_score, recall_score, \n",
    "    f1_score, roc_auc_score, confusion_matrix, ConfusionMatrixDisplay\n",
    ")\n",
    "\n",
    "# Optimization and Experiment Tracking\n",
    "import optuna\n",
    "import mlflow\n",
    "\n",
    "#  Utilities\n",
    "import warnings\n",
    "import json\n",
    "import math\n",
    "from datetime import datetime, timedelta\n",
    "\n",
    "from sklearn.metrics import f1_score\n",
    "import math\n",
    "\n",
    "# Suppress Warnings\n",
    "warnings.filterwarnings('ignore')\n"
   ]
  },
  {
   "cell_type": "markdown",
   "id": "87b2d448",
   "metadata": {},
   "source": [
    "## 📥 Import dataset"
   ]
  },
  {
   "cell_type": "code",
   "execution_count": 2,
   "id": "10eb2d90",
   "metadata": {},
   "outputs": [
    {
     "data": {
      "text/html": [
       "<div>\n",
       "<style scoped>\n",
       "    .dataframe tbody tr th:only-of-type {\n",
       "        vertical-align: middle;\n",
       "    }\n",
       "\n",
       "    .dataframe tbody tr th {\n",
       "        vertical-align: top;\n",
       "    }\n",
       "\n",
       "    .dataframe thead th {\n",
       "        text-align: right;\n",
       "    }\n",
       "</style>\n",
       "<table border=\"1\" class=\"dataframe\">\n",
       "  <thead>\n",
       "    <tr style=\"text-align: right;\">\n",
       "      <th></th>\n",
       "      <th>Channel</th>\n",
       "      <th>Region</th>\n",
       "      <th>Fresh</th>\n",
       "      <th>Milk</th>\n",
       "      <th>Grocery</th>\n",
       "      <th>Frozen</th>\n",
       "      <th>Detergents_Paper</th>\n",
       "      <th>Delicassen</th>\n",
       "    </tr>\n",
       "  </thead>\n",
       "  <tbody>\n",
       "    <tr>\n",
       "      <th>435</th>\n",
       "      <td>1</td>\n",
       "      <td>3</td>\n",
       "      <td>29703</td>\n",
       "      <td>12051</td>\n",
       "      <td>16027</td>\n",
       "      <td>13135</td>\n",
       "      <td>182</td>\n",
       "      <td>2204</td>\n",
       "    </tr>\n",
       "    <tr>\n",
       "      <th>436</th>\n",
       "      <td>1</td>\n",
       "      <td>3</td>\n",
       "      <td>39228</td>\n",
       "      <td>1431</td>\n",
       "      <td>764</td>\n",
       "      <td>4510</td>\n",
       "      <td>93</td>\n",
       "      <td>2346</td>\n",
       "    </tr>\n",
       "    <tr>\n",
       "      <th>437</th>\n",
       "      <td>2</td>\n",
       "      <td>3</td>\n",
       "      <td>14531</td>\n",
       "      <td>15488</td>\n",
       "      <td>30243</td>\n",
       "      <td>437</td>\n",
       "      <td>14841</td>\n",
       "      <td>1867</td>\n",
       "    </tr>\n",
       "    <tr>\n",
       "      <th>438</th>\n",
       "      <td>1</td>\n",
       "      <td>3</td>\n",
       "      <td>10290</td>\n",
       "      <td>1981</td>\n",
       "      <td>2232</td>\n",
       "      <td>1038</td>\n",
       "      <td>168</td>\n",
       "      <td>2125</td>\n",
       "    </tr>\n",
       "    <tr>\n",
       "      <th>439</th>\n",
       "      <td>1</td>\n",
       "      <td>3</td>\n",
       "      <td>2787</td>\n",
       "      <td>1698</td>\n",
       "      <td>2510</td>\n",
       "      <td>65</td>\n",
       "      <td>477</td>\n",
       "      <td>52</td>\n",
       "    </tr>\n",
       "  </tbody>\n",
       "</table>\n",
       "</div>"
      ],
      "text/plain": [
       "     Channel  Region  Fresh   Milk  Grocery  Frozen  Detergents_Paper  \\\n",
       "435        1       3  29703  12051    16027   13135               182   \n",
       "436        1       3  39228   1431      764    4510                93   \n",
       "437        2       3  14531  15488    30243     437             14841   \n",
       "438        1       3  10290   1981     2232    1038               168   \n",
       "439        1       3   2787   1698     2510      65               477   \n",
       "\n",
       "     Delicassen  \n",
       "435        2204  \n",
       "436        2346  \n",
       "437        1867  \n",
       "438        2125  \n",
       "439          52  "
      ]
     },
     "execution_count": 2,
     "metadata": {},
     "output_type": "execute_result"
    }
   ],
   "source": [
    "df = pd.read_csv('Wholesale customers data.csv')\n",
    "df.tail()"
   ]
  },
  {
   "cell_type": "markdown",
   "id": "21fb0d2f",
   "metadata": {},
   "source": [
    "## 🔍 Checking for missing values"
   ]
  },
  {
   "cell_type": "code",
   "execution_count": 3,
   "id": "5fb4187d",
   "metadata": {},
   "outputs": [
    {
     "data": {
      "text/plain": [
       "Channel             0\n",
       "Region              0\n",
       "Fresh               0\n",
       "Milk                0\n",
       "Grocery             0\n",
       "Frozen              0\n",
       "Detergents_Paper    0\n",
       "Delicassen          0\n",
       "dtype: int64"
      ]
     },
     "execution_count": 3,
     "metadata": {},
     "output_type": "execute_result"
    }
   ],
   "source": [
    "df.isnull().sum()"
   ]
  },
  {
   "cell_type": "markdown",
   "id": "1d4adb35",
   "metadata": {},
   "source": [
    "## 🎯 Declare feature vector and target variable"
   ]
  },
  {
   "cell_type": "code",
   "execution_count": 4,
   "id": "9de4c41f",
   "metadata": {},
   "outputs": [
    {
     "data": {
      "text/plain": [
       "0    2\n",
       "1    2\n",
       "2    2\n",
       "3    1\n",
       "4    2\n",
       "Name: Channel, dtype: int64"
      ]
     },
     "execution_count": 4,
     "metadata": {},
     "output_type": "execute_result"
    }
   ],
   "source": [
    "X = df.drop('Channel', axis=1)\n",
    "\n",
    "y = df['Channel']\n",
    "y.head()"
   ]
  },
  {
   "cell_type": "markdown",
   "id": "d6476a55",
   "metadata": {},
   "source": [
    "We can see that the \\$y\\$ labels currently contain the values \\$1\\$ and \\$2\\$. For simplicity and easier interpretation, we will convert them to \\$0\\$ and \\$1\\$ for further analysis."
   ]
  },
  {
   "cell_type": "code",
   "execution_count": 5,
   "id": "9bc12073",
   "metadata": {},
   "outputs": [],
   "source": [
    "y[y == 2] = 0\n",
    "y[y == 1] = 1"
   ]
  },
  {
   "cell_type": "markdown",
   "id": "10985fa1",
   "metadata": {},
   "source": [
    "Now, I will convert the dataset into an optimized data structure called **Dmatrix** that XGBoost supports and gives it acclaimed performance and efficiency gains"
   ]
  },
  {
   "cell_type": "code",
   "execution_count": 6,
   "id": "dcb97249",
   "metadata": {},
   "outputs": [],
   "source": [
    "data_dmatrix = xgb.DMatrix(data=X,label=y)"
   ]
  },
  {
   "cell_type": "markdown",
   "id": "aa1c39f7",
   "metadata": {},
   "source": [
    "## ✂️ Split data into separate training and test set"
   ]
  },
  {
   "cell_type": "code",
   "execution_count": 7,
   "id": "9db6392e",
   "metadata": {},
   "outputs": [],
   "source": [
    "X_train, X_test, y_train, y_test = train_test_split(X, y, test_size = 0.3, random_state = 123)"
   ]
  },
  {
   "cell_type": "markdown",
   "id": "d1d9c042",
   "metadata": {},
   "source": [
    "## 🔧 Train the XGBoost Classifier\n",
    "\n",
    "Now it's time to train our **XGBoost classifier**!\n",
    "Before we begin, it’s important to understand the different types of parameters that XGBoost offers. These parameters control the model’s behavior, performance, and complexity.\n",
    "\n",
    "There are **four main categories** of parameters you should know:\n",
    "\n",
    "\n",
    "### ⚙️ General parameters\n",
    "\n",
    "These define which **booster type** to use (e.g., tree-based or linear).\n",
    "Common options include:\n",
    "\n",
    "* `gbtree` – tree-based models (default)\n",
    "* `gblinear` – linear models\n",
    "* `dart` – tree-based models with dropout\n",
    "\n",
    "\n",
    "### 🌲 Booster parameters\n",
    "\n",
    "These depend on the selected booster type and control the training process of individual trees or models.\n",
    "\n",
    "\n",
    "### 🎯 Learning task parameters\n",
    "\n",
    "These define the **objective function** and the type of learning task (e.g., regression, classification, ranking).\n",
    "\n",
    "### 💻 Command line parameters\n",
    "\n",
    "These relate to the CLI (Command Line Interface) version of XGBoost, and aren’t usually needed when using the Python API.\n",
    "\n",
    "\n",
    "## 🧠 Key Parameters to know\n",
    "\n",
    "Here are some of the most important parameters you'll likely tune:\n",
    "\n",
    "* **`learning_rate`** – Controls the step size shrinkage to prevent overfitting. Range: `[0, 1]`.\n",
    "* **`max_depth`** – Maximum depth of a tree. Deeper trees can capture more complex patterns.\n",
    "* **`subsample`** – Fraction of the training data to use for each tree. Lower values can help prevent overfitting.\n",
    "* **`colsample_bytree`** – Fraction of features to use for each tree. Higher values may lead to overfitting.\n",
    "* **`n_estimators`** – Number of boosting rounds (i.e., trees).\n",
    "* **`objective`** – Specifies the learning task and the corresponding loss function:\n",
    "\n",
    "  * `reg:squarederror` – for regression\n",
    "  * `binary:logistic` – for binary classification (probability output)\n",
    "  * `reg:logistic` – for classification with decision outputs\n",
    "\n",
    "\n",
    "## 🛡️ Regularization parameters\n",
    "\n",
    "XGBoost also offers regularization to reduce model complexity and avoid overfitting:\n",
    "\n",
    "* **`gamma`** – Minimum loss reduction required to make a split. Higher values result in fewer splits.\n",
    "* **`alpha`** – L1 regularization term on weights (Lasso). Encourages sparsity.\n",
    "* **`lambda`** – L2 regularization term on weights (Ridge). Adds smoothness.\n",
    "\n",
    "Even though we're using **trees as base learners**, XGBoost also supports linear models (`gblinear`) and dropout-based trees (`dart`) via the `booster` parameter.\n",
    "\n",
    "---\n",
    "\n",
    "Imagine you're a data scientist, and it's time to fine-tune your machine learning model. Fortunately, after some experimentation, you’ve found that the parameter combination below delivers a satisfactory performance for your classification task.\n"
   ]
  },
  {
   "cell_type": "code",
   "execution_count": 8,
   "id": "5a4a6229",
   "metadata": {},
   "outputs": [
    {
     "name": "stdout",
     "output_type": "stream",
     "text": [
      "XGBClassifier(alpha=0.0, base_score=None, booster='gbtree', callbacks=None,\n",
      "              colsample_bylevel=None, colsample_bynode=None,\n",
      "              colsample_bytree=0.8, device=None, early_stopping_rounds=None,\n",
      "              enable_categorical=False, eval_metric='logloss',\n",
      "              feature_types=None, gamma=None, grow_policy=None,\n",
      "              importance_type=None, interaction_constraints=None, lambda=1.0,\n",
      "              learning_rate=0.1, max_bin=None, max_cat_threshold=None,\n",
      "              max_cat_to_onehot=None, max_delta_step=None, max_depth=6,\n",
      "              max_leaves=None, min_child_weight=None, missing=nan,\n",
      "              monotone_constraints=None, multi_strategy=None, n_estimators=None,\n",
      "              n_jobs=None, ...)\n"
     ]
    }
   ],
   "source": [
    "params = {\n",
    "    # Target function for binary classification\n",
    "    \"objective\": \"binary:logistic\",\n",
    "\n",
    "    # Evaluation metric\n",
    "    \"eval_metric\": \"logloss\",\n",
    "\n",
    "    # Booster type (default is 'gbtree')\n",
    "    \"booster\": \"gbtree\",\n",
    "\n",
    "    # Learning rate (step size shrinkage)\n",
    "    \"learning_rate\": 0.1,\n",
    "\n",
    "    # Maximum depth of each tree\n",
    "    \"max_depth\": 6,\n",
    "\n",
    "    # Subsample ratio of the training instances\n",
    "    \"subsample\": 0.8,\n",
    "\n",
    "    # Subsample ratio of columns for each tree\n",
    "    \"colsample_bytree\": 0.8,\n",
    "\n",
    "    # L2 regularization term on weights (Ridge)\n",
    "    \"lambda\": 1.0,\n",
    "\n",
    "    # L1 regularization term on weights (Lasso)\n",
    "    \"alpha\": 0.0}\n",
    "\n",
    "#------------------\n",
    "\n",
    "# Instantiate the classifier\n",
    "xgb_clf = XGBClassifier(**params)\n",
    "\n",
    "# Fit the classifier to the training data\n",
    "xgb_clf.fit(X_train, y_train)\n",
    "print(xgb_clf)"
   ]
  },
  {
   "cell_type": "markdown",
   "id": "9c809017",
   "metadata": {},
   "source": [
    "## 🔮 Make Predictions with XGBoost Classifier"
   ]
  },
  {
   "cell_type": "code",
   "execution_count": 9,
   "id": "eb25b790",
   "metadata": {},
   "outputs": [],
   "source": [
    "# make predictions on test data\n",
    "y_pred = xgb_clf.predict(X_test)"
   ]
  },
  {
   "cell_type": "markdown",
   "id": "b4cb2d2d",
   "metadata": {},
   "source": [
    "## ✅ Check Accuracy Score"
   ]
  },
  {
   "cell_type": "code",
   "execution_count": 10,
   "id": "b53760a2",
   "metadata": {},
   "outputs": [
    {
     "name": "stdout",
     "output_type": "stream",
     "text": [
      "ccuracy:  0.9318\n",
      "recision: 0.9474\n",
      "ecall:    0.9574\n",
      "f1 Score:  0.9524\n",
      "AUC:       0.9527\n"
     ]
    },
    {
     "data": {
      "text/plain": [
       "<sklearn.metrics._plot.confusion_matrix.ConfusionMatrixDisplay at 0x1f407bbe760>"
      ]
     },
     "execution_count": 10,
     "metadata": {},
     "output_type": "execute_result"
    },
    {
     "data": {
      "image/png": "[encoded data removed]",
      "text/plain": [
       "<Figure size 432x288 with 2 Axes>"
      ]
     },
     "metadata": {
      "needs_background": "light"
     },
     "output_type": "display_data"
    }
   ],
   "source": [
    "# Evaluate metrics\n",
    "accuracy = accuracy_score(y_test, y_pred)\n",
    "precision = precision_score(y_test, y_pred)\n",
    "recall = recall_score(y_test, y_pred)\n",
    "f1 = f1_score(y_test, y_pred)\n",
    "auc = roc_auc_score(y_test, xgb_clf.predict_proba(X_test)[:, 1])\n",
    "\n",
    "# Print scores\n",
    "print(f'ccuracy:  {accuracy:.4f}')\n",
    "print(f'recision: {precision:.4f}')\n",
    "print(f'ecall:    {recall:.4f}')\n",
    "print(f'f1 Score:  {f1:.4f}')\n",
    "print(f'AUC:       {auc:.4f}')\n",
    "\n",
    "# Confusion Matrix\n",
    "cm = confusion_matrix(y_test, y_pred)\n",
    "disp = ConfusionMatrixDisplay(confusion_matrix=cm)\n",
    "disp.plot(cmap='Blues')"
   ]
  },
  {
   "cell_type": "markdown",
   "id": "85f01fe9",
   "metadata": {},
   "source": [
    "## 🔍 Feature importance with XGBoost"
   ]
  },
  {
   "cell_type": "code",
   "execution_count": 11,
   "id": "2c7604df",
   "metadata": {},
   "outputs": [
    {
     "data": {
      "image/png": "[encoded data removed]",
      "text/plain": [
       "<Figure size 720x432 with 1 Axes>"
      ]
     },
     "metadata": {
      "needs_background": "light"
     },
     "output_type": "display_data"
    }
   ],
   "source": [
    "importances = xgb_clf.get_booster().get_score(importance_type='gain')\n",
    "\n",
    "# Convert to DataFrame and sort\n",
    "importance_df = pd.DataFrame({\n",
    "    'Feature': list(importances.keys()),\n",
    "    'Importance': list(importances.values())\n",
    "}).sort_values(by='Importance', ascending=False)\n",
    "\n",
    "# Optional: show only top N features\n",
    "top_n = 10\n",
    "importance_df = importance_df.head(top_n)\n",
    "\n",
    "# Plot with seaborn\n",
    "plt.figure(figsize=(10, 6))\n",
    "sns.barplot(data=importance_df, x='Importance', y='Feature', palette='viridis')\n",
    "plt.title(f\"Top {top_n} Feature Importances (Gain)\")\n",
    "plt.xlabel(\"Gain\")\n",
    "plt.ylabel(\"Feature\")\n",
    "plt.tight_layout()\n",
    "plt.show()\n"
   ]
  },
  {
   "cell_type": "markdown",
   "id": "556edbaa",
   "metadata": {},
   "source": [
    "------------"
   ]
  },
  {
   "cell_type": "markdown",
   "id": "38e762fd",
   "metadata": {},
   "source": [
    "📦 **Project Handoff to MLOps**\n",
    "\n",
    "Now, imagine this is the final output of a data scientist's work. This project will be handed over to a machine learning engineer, who will be responsible for versioning the model using MLflow.\n",
    "\n",
    "The engineer will set up experiment tracking, store the generated artifacts, monitor model performance metrics, and ensure the entire workflow is reproducible all as part of a well-structured MLOps pipeline.\n",
    "\n",
    "🎯 **Next Step: Hyperparameter Optimization**\n",
    "\n",
    "From this point on, we will perform hyperparameter optimization using Optuna. Meanwhile, MLflow will continue to log each experiment, allowing us to compare versions and easily identify the best set of parameters.\n",
    "\n",
    "\n",
    "---------"
   ]
  },
  {
   "cell_type": "markdown",
   "id": "544afdb2",
   "metadata": {},
   "source": [
    "## ⚙️ MLOps in Practice: Managing the Machine Learning Model Lifecycle\n",
    "\n",
    "Now, we explore how **MLOps** practices help structure, automate, and scale the machine learning model lifecycle — from data preparation and model training to deployment, monitoring, and continuous improvement. We'll demonstrate how tools like **MLflow** can streamline this process and ensure reproducibility, traceability, and collaboration across teams."
   ]
  },
  {
   "cell_type": "markdown",
   "id": "3940ddd0",
   "metadata": {},
   "source": [
    "## 🚀 Initializing the MLflow Server\n",
    "\n",
    "To start the MLflow tracking server locally, follow the steps based on your environment:\n",
    "\n",
    "---\n",
    "\n",
    "### 🐍 **Using Anaconda**\n",
    "\n",
    "1. Open the **Anaconda Command Prompt**  \n",
    "2. Navigate to your project directory:\n",
    "\n",
    "   ```bash\n",
    "   cd your-project-path\n",
    "\n",
    "3. Run the MLflow server:\n",
    "\n",
    "   ```bash\n",
    "   python -m mlflow server --host 127.0.0.1 --port 8282\n",
    "\n",
    "\n",
    "### 💻 **Using VS Code**\n",
    "\n",
    "1. Open the **terminal** in VS Code\n",
    "2. Run the command below:\n",
    "\n",
    "   ```bash\n",
    "   py -m mlflow server --host 127.0.0.1 --port 8282\n",
    "\n",
    "✅ Make sure you're using the same Python environment or kernel as the one used in your notebook or training script.\n",
    "\n",
    "-----\n",
    "\n",
    "🛰️  Now, let's define the address of the MLflow tracking server — that is, where the experiment logs (parameters, metrics, models, etc.) will be sent and stored."
   ]
  },
  {
   "cell_type": "code",
   "execution_count": 12,
   "id": "e89f0788",
   "metadata": {},
   "outputs": [],
   "source": [
    "mlflow.set_tracking_uri(\"http://127.0.0.1:8282\")"
   ]
  },
  {
   "cell_type": "markdown",
   "id": "21494f27",
   "metadata": {},
   "source": [
    "Access the URL above from a new tab in your browser: [http://127.0.0.1:8282](http://127.0.0.1:8282)\n"
   ]
  },
  {
   "cell_type": "markdown",
   "id": "42c05a52",
   "metadata": {},
   "source": [
    "## 📈 **Monitoring the Trained Model**\n",
    "\n",
    "To properly monitor the performance of the trained model, we will generate a series of visualizations that will help us better understand how the model is behaving.\n",
    "\n",
    "These plots will assist in:\n",
    "\n",
    "* Evaluating predictive quality\n",
    "* Identifying potential bias or imbalance\n",
    "* Detecting signs of overfitting or underfitting\n",
    "* Supporting model explainability and transparency\n",
    "\n",
    "By visualizing key metrics and outputs, we can gain valuable insights that go beyond raw numbers and ensure the model remains reliable over time."
   ]
  },
  {
   "cell_type": "code",
   "execution_count": 13,
   "id": "5b9e477a",
   "metadata": {},
   "outputs": [],
   "source": [
    "def plot_corr(df, target='Channel', save_path=None, top_n=None):\n",
    "    '''\n",
    "    Parameters:\n",
    "    - df: pandas DataFrame containing the dataset\n",
    "    - target: string, name of the target column\n",
    "    - save_path: optional path to save the figure (as PNG)\n",
    "    - top_n: optional, number of top features to display based on absolute correlation\n",
    "    '''\n",
    "    # Compute correlations with the target \n",
    "    corr = df.corr()[target].drop(target)\n",
    "    corr = corr.reindex(corr.abs().sort_values().index)\n",
    "\n",
    "    # Optionally show only top N correlated features\n",
    "    if top_n:\n",
    "        corr = corr.tail(top_n)\n",
    "\n",
    "    # Set clean white style\n",
    "    sns.set_style(\"white\")\n",
    "    fig, ax = plt.subplots(figsize=(10, 0.5 * len(corr) + 1))\n",
    "\n",
    "    # Plot horizontal bars with elegant color\n",
    "    bars = ax.barh(\n",
    "        corr.index, corr.values,\n",
    "        color=\"#4C72B0\", edgecolor=\"black\", height=0.6\n",
    "    )\n",
    "\n",
    "    # Add correlation values next to bars\n",
    "    for bar in bars:\n",
    "        width = bar.get_width()\n",
    "        ax.text(\n",
    "            x=width + 0.02 if width > 0 else width - 0.02,\n",
    "            y=bar.get_y() + bar.get_height() / 2,\n",
    "            s=f\"{width:.2f}\",\n",
    "            va='center',\n",
    "            ha='left' if width > 0 else 'right',\n",
    "            fontsize=11)\n",
    "\n",
    "    # Clean and minimal axes\n",
    "    ax.set_title(f\"Correlation with '{target}'\", fontsize=16, pad=12)\n",
    "    ax.set_xlabel(\"Correlation Coefficient\", fontsize=13)\n",
    "    ax.set_ylabel(\"\")\n",
    "    ax.spines['right'].set_visible(False)\n",
    "    ax.spines['top'].set_visible(False)\n",
    "    ax.spines['left'].set_color('#cccccc')\n",
    "    ax.spines['bottom'].set_color('#cccccc')\n",
    "    plt.grid(axis='x', linestyle='--', alpha=0.4)\n",
    "    plt.xticks(fontsize=11)\n",
    "    plt.yticks(fontsize=11)\n",
    "    plt.tight_layout()\n",
    "\n",
    "    # Save figure if needed\n",
    "    if save_path:\n",
    "        plt.savefig(save_path, dpi=300, bbox_inches='tight')\n",
    "\n",
    "    plt.show()\n"
   ]
  },
  {
   "cell_type": "code",
   "execution_count": 14,
   "id": "8201dc6e",
   "metadata": {},
   "outputs": [
    {
     "data": {
      "image/png": "[encoded data removed]",
      "text/plain": [
       "<Figure size 720x324 with 1 Axes>"
      ]
     },
     "metadata": {},
     "output_type": "display_data"
    }
   ],
   "source": [
    "plot_corr(df)"
   ]
  },
  {
   "cell_type": "code",
   "execution_count": 15,
   "id": "10eb45b5",
   "metadata": {},
   "outputs": [],
   "source": [
    "def plot_confusion_matrix(y_true, y_pred, labels=None, save_path=None):\n",
    "    '''\n",
    "    Plots a styled confusion matrix with annotated counts.\n",
    "\n",
    "    Parameters:\n",
    "    - y_true: array-like, true target labels\n",
    "    - y_pred: array-like, predicted labels\n",
    "    - labels: optional list of label names (for axis ticks)\n",
    "    - save_path: optional path to save the figure as PNG\n",
    "    '''\n",
    "    # Compute confusion matrix\n",
    "    cm = confusion_matrix(y_true, y_pred)\n",
    "\n",
    "    # Set seaborn style\n",
    "    sns.set_style(\"whitegrid\", {\n",
    "        \"axes.facecolor\": \"#eaeaf2\",\n",
    "        \"grid.linewidth\": 1.2\n",
    "    })\n",
    "\n",
    "    # Create figure\n",
    "    fig, ax = plt.subplots(figsize=(8, 6))\n",
    "\n",
    "    # Plot heatmap\n",
    "    sns.heatmap(\n",
    "        cm, annot=True, fmt=\"d\", cmap=\"Blues\",\n",
    "        cbar=False, square=True, linewidths=0.5,\n",
    "        xticklabels=labels if labels else \"auto\",\n",
    "        yticklabels=labels if labels else \"auto\",\n",
    "        ax=ax\n",
    "    )\n",
    "\n",
    "    # Titles and labels\n",
    "    ax.set_title(\"Confusion Matrix\", fontsize=16, pad=12)\n",
    "    ax.set_xlabel(\"Predicted Labels\", fontsize=13)\n",
    "    ax.set_ylabel(\"True Labels\", fontsize=13)\n",
    "    ax.tick_params(axis='both', labelsize=12)\n",
    "\n",
    "    # Adjust layout\n",
    "    plt.tight_layout()\n",
    "\n",
    "    # Save if path provided\n",
    "    if save_path:\n",
    "        plt.savefig(save_path, format=\"png\", dpi=600)\n",
    "\n",
    "    # Close and return figure\n",
    "    plt.close(fig)\n",
    "    return fig\n"
   ]
  },
  {
   "cell_type": "code",
   "execution_count": 16,
   "id": "ebb947b0",
   "metadata": {},
   "outputs": [
    {
     "data": {
      "image/png": "[encoded data removed]",
      "text/plain": [
       "<Figure size 576x432 with 1 Axes>"
      ]
     },
     "execution_count": 16,
     "metadata": {},
     "output_type": "execute_result"
    }
   ],
   "source": [
    "plot_confusion_matrix(y_test, y_pred, labels=['Class 0', 'Class 1'])"
   ]
  },
  {
   "cell_type": "code",
   "execution_count": 17,
   "id": "8f56e464",
   "metadata": {},
   "outputs": [],
   "source": [
    "def plot_feature_importance(model, booster=\"gbtree\", top_n=10, importance_type=None, save_path=None):\n",
    "    '''\n",
    "    Plots feature importance for a trained XGBoost model (either Booster or XGBClassifier).\n",
    "    '''\n",
    "    if importance_type is None:\n",
    "        importance_type = \"weight\" if booster == \"gblinear\" else \"gain\"\n",
    "\n",
    "    # Handle both Booster and XGBClassifier\n",
    "    if hasattr(model, \"get_booster\"):\n",
    "        booster_model = model.get_booster()\n",
    "    else:\n",
    "        booster_model = model  # assume it's already a Booster\n",
    "\n",
    "    # Extract feature importances\n",
    "    importances = booster_model.get_score(importance_type=importance_type)\n",
    "\n",
    "    importance_df = pd.DataFrame({\n",
    "        'Feature': list(importances.keys()),\n",
    "        'Importance': list(importances.values())\n",
    "    }).sort_values(by='Importance', ascending=False)\n",
    "\n",
    "    if top_n:\n",
    "        importance_df = importance_df.head(top_n)\n",
    "\n",
    "    sns.set_style(\"white\")\n",
    "    plt.figure(figsize=(10, 6))\n",
    "    sns.barplot(data=importance_df, x='Importance', y='Feature', palette='viridis')\n",
    "\n",
    "    plt.title(f\"Top {top_n} Feature Importances ({importance_type.title()})\", fontsize=14)\n",
    "    plt.xlabel(importance_type.title(), fontsize=12)\n",
    "    plt.ylabel(\"Feature\", fontsize=12)\n",
    "    plt.xticks(fontsize=11)\n",
    "    plt.yticks(fontsize=11)\n",
    "    plt.grid(axis='x', linestyle='--', alpha=0.3)\n",
    "    plt.tight_layout()\n",
    "\n",
    "    if save_path:\n",
    "        plt.savefig(save_path, dpi=300, bbox_inches='tight', facecolor='white')\n",
    "\n",
    "    fig = plt.gcf()\n",
    "    plt.close()\n",
    "    return fig\n"
   ]
  },
  {
   "cell_type": "code",
   "execution_count": 18,
   "id": "54e7c627",
   "metadata": {},
   "outputs": [
    {
     "data": {
      "image/png": "[encoded data removed]",
      "text/plain": [
       "<Figure size 720x432 with 1 Axes>"
      ]
     },
     "execution_count": 18,
     "metadata": {},
     "output_type": "execute_result"
    }
   ],
   "source": [
    "plot_feature_importance(xgb_clf, booster=\"gbtree\", top_n=10, importance_type=None, save_path=None)"
   ]
  },
  {
   "cell_type": "markdown",
   "id": "b36ab2d8",
   "metadata": {},
   "source": [
    "## 🧪 Creating the experiment in MLflow"
   ]
  },
  {
   "cell_type": "code",
   "execution_count": 19,
   "id": "ec479566",
   "metadata": {},
   "outputs": [],
   "source": [
    "# Function to create an MLflow experiment\n",
    "def create_experiment(experiment_name):\n",
    "    '''\n",
    "    Creates an MLflow experiment if it doesn't already exist.\n",
    "    \n",
    "    Parameters:\n",
    "    - experiment_name: string, name of the experiment to create or retrieve\n",
    "    \n",
    "    Returns:\n",
    "    - experiment_id: the ID of the existing or newly created experiment\n",
    "    '''\n",
    "\n",
    "    # Check if the experiment already exists by name\n",
    "    if experiment := mlflow.get_experiment_by_name(experiment_name):\n",
    "        # If it exists, return its ID\n",
    "        return experiment.experiment_id\n",
    "    else:\n",
    "        # If it doesn't exist, create a new one and return its ID\n",
    "        return mlflow.create_experiment(experiment_name)"
   ]
  },
  {
   "cell_type": "code",
   "execution_count": 20,
   "id": "6f0317ff",
   "metadata": {},
   "outputs": [
    {
     "name": "stdout",
     "output_type": "stream",
     "text": [
      "The ID of experiment is: 522595451471574861\n"
     ]
    }
   ],
   "source": [
    "# creating the experiment\n",
    "id_experiment = create_experiment('mlflow-project')\n",
    "print(f'The ID of experiment is: {id_experiment}')"
   ]
  },
  {
   "cell_type": "markdown",
   "id": "2355e269",
   "metadata": {},
   "source": [
    "View it in your browser: [http://127.0.0.1:8282](http://127.0.0.1:8282)\n"
   ]
  },
  {
   "cell_type": "markdown",
   "id": "eec12ea6",
   "metadata": {},
   "source": [
    "## 📝 Defining the Logging Callback\n",
    "\n",
    "Callback registration that notifies when a new trial iteration improves upon the current best result.\n"
   ]
  },
  {
   "cell_type": "code",
   "execution_count": 21,
   "id": "757fcad7",
   "metadata": {},
   "outputs": [],
   "source": [
    "def f1_score_callback(study, frozen_trial):\n",
    "    '''\n",
    "    Callback to track and report whenever a new trial improves the F1-score.\n",
    "    The current best score is stored in study.user_attrs['winner'].\n",
    "    '''\n",
    "\n",
    "    # Get the current best (\"winner\") from study attributes\n",
    "    current_winner = study.user_attrs.get(\"winner\", None)\n",
    "\n",
    "    # Check if there's a new best value\n",
    "    if study.best_value and current_winner != study.best_value:\n",
    "        # Update winner\n",
    "        study.set_user_attr(\"winner\", study.best_value)\n",
    "\n",
    "        # Log improvement\n",
    "        if current_winner:\n",
    "            improvement = (abs(current_winner - study.best_value) / study.best_value) * 100\n",
    "            print(\n",
    "                f\"Trial {frozen_trial.number} reached F1-score: {frozen_trial.value:.4f} \"\n",
    "                f\"with an improvement of {improvement:.4f}% over the previous best.\"\n",
    "            )\n",
    "        else:\n",
    "            # First time logging a best value\n",
    "            print(\n",
    "                f\"Initial trial {frozen_trial.number} reached F1-score: {frozen_trial.value:.4f}\"\n",
    "            )\n"
   ]
  },
  {
   "cell_type": "code",
   "execution_count": 22,
   "id": "2c2050dc",
   "metadata": {},
   "outputs": [],
   "source": [
    "def optimize_hyperparameters(trial):\n",
    "    # define dtrain usando X_train, y_train\n",
    "    dtrain = xgb.DMatrix(X_train, label=y_train)\n",
    "\n",
    "    # define dvalid com os dados de teste\n",
    "    dvalid = xgb.DMatrix(X_test, label=y_test)\n",
    "\n",
    "    # hiperparâmetros\n",
    "    params = {\n",
    "        \"objective\": \"binary:logistic\",\n",
    "        \"eval_metric\": \"logloss\",\n",
    "        \"booster\": trial.suggest_categorical(\"booster\", [\"gbtree\", \"gblinear\", \"dart\"]),\n",
    "        \"learning_rate\": trial.suggest_float(\"learning_rate\", 0.01, 0.3),\n",
    "        \"max_depth\": trial.suggest_int(\"max_depth\", 3, 10),\n",
    "        \"subsample\": trial.suggest_float(\"subsample\", 0.5, 1.0),\n",
    "        \"colsample_bytree\": trial.suggest_float(\"colsample_bytree\", 0.5, 1.0),\n",
    "        \"lambda\": trial.suggest_float(\"lambda\", 1e-8, 1.0, log=True),\n",
    "        \"alpha\": trial.suggest_float(\"alpha\", 1e-8, 1.0, log=True),\n",
    "    }\n",
    "\n",
    "    with mlflow.start_run(nested=True):\n",
    "        # treina o modelo\n",
    "        model = xgb.train(params, dtrain)\n",
    "\n",
    "        # faz predições\n",
    "        preds_proba = model.predict(dvalid)\n",
    "        preds = [1 if p > 0.5 else 0 for p in preds_proba]\n",
    "\n",
    "        # calcula f1-score\n",
    "        f1 = f1_score(y_test, preds)\n",
    "\n",
    "        # registra no MLflow\n",
    "        mlflow.log_params(params)\n",
    "        mlflow.log_metric(\"f1_score\", f1)\n",
    "\n",
    "    return 1.0 - f1  # porque estamos minimizando\n"
   ]
  },
  {
   "cell_type": "code",
   "execution_count": 23,
   "id": "966c0b50",
   "metadata": {},
   "outputs": [
    {
     "name": "stderr",
     "output_type": "stream",
     "text": [
      "[I 2025-07-17 16:45:42,779] A new study created in memory with name: no-name-28575b18-29cc-4837-88ff-91fca9c84000\n",
      "[I 2025-07-17 16:45:43,094] Trial 0 finished with value: 0.11428571428571432 and parameters: {'booster': 'gbtree', 'learning_rate': 0.02977869833123463, 'max_depth': 8, 'subsample': 0.9953299313578718, 'colsample_bytree': 0.8212021473765707, 'lambda': 0.20104450740448385, 'alpha': 0.03420873739372944}. Best is trial 0 with value: 0.11428571428571432.\n"
     ]
    },
    {
     "name": "stdout",
     "output_type": "stream",
     "text": [
      "🏃 View run salty-grub-735 at: http://127.0.0.1:8282/#/experiments/522595451471574861/runs/d3a255406d204e20964f00f03f6cc661\n",
      "🧪 View experiment at: http://127.0.0.1:8282/#/experiments/522595451471574861\n",
      "Initial trial 0 reached F1-score: 0.1143\n"
     ]
    },
    {
     "name": "stderr",
     "output_type": "stream",
     "text": [
      "[I 2025-07-17 16:45:43,390] Trial 1 finished with value: 0.05208333333333337 and parameters: {'booster': 'gbtree', 'learning_rate': 0.08849156928753779, 'max_depth': 6, 'subsample': 0.7385883152058312, 'colsample_bytree': 0.855778358270078, 'lambda': 0.7481887873903277, 'alpha': 1.0441333549549905e-08}. Best is trial 1 with value: 0.05208333333333337.\n"
     ]
    },
    {
     "name": "stdout",
     "output_type": "stream",
     "text": [
      "🏃 View run lyrical-bear-897 at: http://127.0.0.1:8282/#/experiments/522595451471574861/runs/83c72e509e4d45f18aebbef16547c678\n",
      "🧪 View experiment at: http://127.0.0.1:8282/#/experiments/522595451471574861\n",
      "Trial 1 reached F1-score: 0.0521 with an improvement of 119.4286% over the previous best.\n"
     ]
    },
    {
     "name": "stderr",
     "output_type": "stream",
     "text": [
      "[I 2025-07-17 16:45:43,784] Trial 2 finished with value: 0.16814159292035402 and parameters: {'booster': 'gbtree', 'learning_rate': 0.01748872401084865, 'max_depth': 3, 'subsample': 0.7080319353278246, 'colsample_bytree': 0.9785485982126778, 'lambda': 0.06061310581240269, 'alpha': 0.15752801844583905}. Best is trial 1 with value: 0.05208333333333337.\n"
     ]
    },
    {
     "name": "stdout",
     "output_type": "stream",
     "text": [
      "🏃 View run dazzling-goat-697 at: http://127.0.0.1:8282/#/experiments/522595451471574861/runs/8d1e01df43d8448883c5c7cf80652931\n",
      "🧪 View experiment at: http://127.0.0.1:8282/#/experiments/522595451471574861\n"
     ]
    },
    {
     "name": "stderr",
     "output_type": "stream",
     "text": [
      "[I 2025-07-17 16:45:44,109] Trial 3 finished with value: 0.16814159292035402 and parameters: {'booster': 'dart', 'learning_rate': 0.02480527066938271, 'max_depth': 7, 'subsample': 0.6588399289583255, 'colsample_bytree': 0.8297492962796368, 'lambda': 1.895239656486981e-08, 'alpha': 0.017064694526135387}. Best is trial 1 with value: 0.05208333333333337.\n"
     ]
    },
    {
     "name": "stdout",
     "output_type": "stream",
     "text": [
      "🏃 View run fun-elk-681 at: http://127.0.0.1:8282/#/experiments/522595451471574861/runs/7f6c5ea54f9d4bd0bde07eccff2c993e\n",
      "🧪 View experiment at: http://127.0.0.1:8282/#/experiments/522595451471574861\n"
     ]
    },
    {
     "name": "stderr",
     "output_type": "stream",
     "text": [
      "[I 2025-07-17 16:45:44,405] Trial 4 finished with value: 0.07070707070707072 and parameters: {'booster': 'gblinear', 'learning_rate': 0.09586889170644759, 'max_depth': 10, 'subsample': 0.6202398018846556, 'colsample_bytree': 0.9591511007206464, 'lambda': 0.013134310082287973, 'alpha': 0.0003377030156845043}. Best is trial 1 with value: 0.05208333333333337.\n"
     ]
    },
    {
     "name": "stdout",
     "output_type": "stream",
     "text": [
      "🏃 View run dapper-shark-947 at: http://127.0.0.1:8282/#/experiments/522595451471574861/runs/85430adcdb3e478b8a35c2b329caae6c\n",
      "🧪 View experiment at: http://127.0.0.1:8282/#/experiments/522595451471574861\n"
     ]
    },
    {
     "name": "stderr",
     "output_type": "stream",
     "text": [
      "[I 2025-07-17 16:45:44,726] Trial 5 finished with value: 0.06315789473684208 and parameters: {'booster': 'dart', 'learning_rate': 0.1983902862373572, 'max_depth': 10, 'subsample': 0.5655154687743732, 'colsample_bytree': 0.6188750484099208, 'lambda': 0.053805964716097825, 'alpha': 0.000768050532262878}. Best is trial 1 with value: 0.05208333333333337.\n"
     ]
    },
    {
     "name": "stdout",
     "output_type": "stream",
     "text": [
      "🏃 View run kindly-flea-90 at: http://127.0.0.1:8282/#/experiments/522595451471574861/runs/cac3ee71033946499a85c28ec18628e3\n",
      "🧪 View experiment at: http://127.0.0.1:8282/#/experiments/522595451471574861\n"
     ]
    },
    {
     "name": "stderr",
     "output_type": "stream",
     "text": [
      "[I 2025-07-17 16:45:45,041] Trial 6 finished with value: 0.07070707070707072 and parameters: {'booster': 'gblinear', 'learning_rate': 0.10296883701920238, 'max_depth': 7, 'subsample': 0.5935080257081549, 'colsample_bytree': 0.6117494824871639, 'lambda': 0.009482541888397315, 'alpha': 0.06821161175584829}. Best is trial 1 with value: 0.05208333333333337.\n"
     ]
    },
    {
     "name": "stdout",
     "output_type": "stream",
     "text": [
      "🏃 View run rumbling-asp-349 at: http://127.0.0.1:8282/#/experiments/522595451471574861/runs/7acf711eb3264474965295b0fcd4060d\n",
      "🧪 View experiment at: http://127.0.0.1:8282/#/experiments/522595451471574861\n"
     ]
    },
    {
     "name": "stderr",
     "output_type": "stream",
     "text": [
      "[I 2025-07-17 16:45:45,381] Trial 7 finished with value: 0.06598984771573602 and parameters: {'booster': 'gblinear', 'learning_rate': 0.13527870846963994, 'max_depth': 5, 'subsample': 0.952234793954735, 'colsample_bytree': 0.5681356140916934, 'lambda': 3.497318563606227e-05, 'alpha': 0.002873599237464771}. Best is trial 1 with value: 0.05208333333333337.\n"
     ]
    },
    {
     "name": "stdout",
     "output_type": "stream",
     "text": [
      "🏃 View run dapper-seal-736 at: http://127.0.0.1:8282/#/experiments/522595451471574861/runs/439cd1b7ea814269a2bc182784f00812\n",
      "🧪 View experiment at: http://127.0.0.1:8282/#/experiments/522595451471574861\n"
     ]
    },
    {
     "name": "stderr",
     "output_type": "stream",
     "text": [
      "[I 2025-07-17 16:45:45,684] Trial 8 finished with value: 0.16814159292035402 and parameters: {'booster': 'gbtree', 'learning_rate': 0.015346401165973154, 'max_depth': 8, 'subsample': 0.6891266596164134, 'colsample_bytree': 0.7600542874195102, 'lambda': 0.1125501892470077, 'alpha': 2.0063070205179868e-07}. Best is trial 1 with value: 0.05208333333333337.\n"
     ]
    },
    {
     "name": "stdout",
     "output_type": "stream",
     "text": [
      "🏃 View run kindly-elk-492 at: http://127.0.0.1:8282/#/experiments/522595451471574861/runs/74221e9b26cd48cb866b9975b4d228af\n",
      "🧪 View experiment at: http://127.0.0.1:8282/#/experiments/522595451471574861\n"
     ]
    },
    {
     "name": "stderr",
     "output_type": "stream",
     "text": [
      "[I 2025-07-17 16:45:46,000] Trial 9 finished with value: 0.06315789473684208 and parameters: {'booster': 'dart', 'learning_rate': 0.12531854421675662, 'max_depth': 5, 'subsample': 0.5893961843223143, 'colsample_bytree': 0.8654319403046884, 'lambda': 4.1191459650938643e-07, 'alpha': 9.497295507051856e-07}. Best is trial 1 with value: 0.05208333333333337.\n"
     ]
    },
    {
     "name": "stdout",
     "output_type": "stream",
     "text": [
      "🏃 View run upset-mouse-922 at: http://127.0.0.1:8282/#/experiments/522595451471574861/runs/461c0ee952af4b6aad0ad9517dff5dbb\n",
      "🧪 View experiment at: http://127.0.0.1:8282/#/experiments/522595451471574861\n"
     ]
    },
    {
     "name": "stderr",
     "output_type": "stream",
     "text": [
      "[I 2025-07-17 16:45:46,360] Trial 10 finished with value: 0.037837837837837784 and parameters: {'booster': 'gbtree', 'learning_rate': 0.2437666910382289, 'max_depth': 3, 'subsample': 0.8296638002191601, 'colsample_bytree': 0.7213286870979719, 'lambda': 0.00022017408623127525, 'alpha': 1.6882295388843425e-08}. Best is trial 10 with value: 0.037837837837837784.\n"
     ]
    },
    {
     "name": "stdout",
     "output_type": "stream",
     "text": [
      "🏃 View run burly-pug-214 at: http://127.0.0.1:8282/#/experiments/522595451471574861/runs/3e50ed4ce098473abce2c4d3dbd45f1b\n",
      "🧪 View experiment at: http://127.0.0.1:8282/#/experiments/522595451471574861\n",
      "Trial 10 reached F1-score: 0.0378 with an improvement of 37.6488% over the previous best.\n"
     ]
    },
    {
     "name": "stderr",
     "output_type": "stream",
     "text": [
      "[I 2025-07-17 16:45:46,758] Trial 11 finished with value: 0.05319148936170215 and parameters: {'booster': 'gbtree', 'learning_rate': 0.2991401243555373, 'max_depth': 3, 'subsample': 0.8337915491606697, 'colsample_bytree': 0.6850355074909799, 'lambda': 0.0002742279692325177, 'alpha': 1.4040505992297117e-08}. Best is trial 10 with value: 0.037837837837837784.\n"
     ]
    },
    {
     "name": "stdout",
     "output_type": "stream",
     "text": [
      "🏃 View run bittersweet-gnat-437 at: http://127.0.0.1:8282/#/experiments/522595451471574861/runs/8a77ca94ff294de7a601b41cccd7dfa6\n",
      "🧪 View experiment at: http://127.0.0.1:8282/#/experiments/522595451471574861\n"
     ]
    },
    {
     "name": "stderr",
     "output_type": "stream",
     "text": [
      "[I 2025-07-17 16:45:47,107] Trial 12 finished with value: 0.05319148936170215 and parameters: {'booster': 'gbtree', 'learning_rate': 0.21497568988607704, 'max_depth': 5, 'subsample': 0.7909026101336645, 'colsample_bytree': 0.7201896645075272, 'lambda': 0.00023911864273060108, 'alpha': 1.3255806841252919e-05}. Best is trial 10 with value: 0.037837837837837784.\n"
     ]
    },
    {
     "name": "stdout",
     "output_type": "stream",
     "text": [
      "🏃 View run puzzled-lynx-561 at: http://127.0.0.1:8282/#/experiments/522595451471574861/runs/d65aa60cdcfb423aa864b2281d0f3b49\n",
      "🧪 View experiment at: http://127.0.0.1:8282/#/experiments/522595451471574861\n"
     ]
    },
    {
     "name": "stderr",
     "output_type": "stream",
     "text": [
      "[I 2025-07-17 16:45:47,465] Trial 13 finished with value: 0.021052631578947323 and parameters: {'booster': 'gbtree', 'learning_rate': 0.27358320157919513, 'max_depth': 4, 'subsample': 0.8677878127170248, 'colsample_bytree': 0.9044791228452427, 'lambda': 4.1430871950118614e-06, 'alpha': 1.9829228046733724e-08}. Best is trial 13 with value: 0.021052631578947323.\n"
     ]
    },
    {
     "name": "stdout",
     "output_type": "stream",
     "text": [
      "🏃 View run stylish-perch-557 at: http://127.0.0.1:8282/#/experiments/522595451471574861/runs/5274028cfdc54b449172476041bd99ad\n",
      "🧪 View experiment at: http://127.0.0.1:8282/#/experiments/522595451471574861\n",
      "Trial 13 reached F1-score: 0.0211 with an improvement of 79.7297% over the previous best.\n"
     ]
    },
    {
     "name": "stderr",
     "output_type": "stream",
     "text": [
      "[I 2025-07-17 16:45:47,893] Trial 14 finished with value: 0.037837837837837784 and parameters: {'booster': 'gbtree', 'learning_rate': 0.28678367912684766, 'max_depth': 4, 'subsample': 0.8899768357230952, 'colsample_bytree': 0.9157625182381285, 'lambda': 5.5417724695899195e-06, 'alpha': 8.934552791162316e-06}. Best is trial 13 with value: 0.021052631578947323.\n"
     ]
    },
    {
     "name": "stdout",
     "output_type": "stream",
     "text": [
      "🏃 View run gaudy-cat-42 at: http://127.0.0.1:8282/#/experiments/522595451471574861/runs/9a20a15208fe4106a862aaf3bd07420a\n",
      "🧪 View experiment at: http://127.0.0.1:8282/#/experiments/522595451471574861\n"
     ]
    },
    {
     "name": "stderr",
     "output_type": "stream",
     "text": [
      "[I 2025-07-17 16:45:48,258] Trial 15 finished with value: 0.037837837837837784 and parameters: {'booster': 'gbtree', 'learning_rate': 0.233217614028934, 'max_depth': 3, 'subsample': 0.8702894611571887, 'colsample_bytree': 0.7882182306963442, 'lambda': 2.6930221785588517e-06, 'alpha': 1.2145569665642238e-07}. Best is trial 13 with value: 0.021052631578947323.\n"
     ]
    },
    {
     "name": "stdout",
     "output_type": "stream",
     "text": [
      "🏃 View run painted-mouse-909 at: http://127.0.0.1:8282/#/experiments/522595451471574861/runs/6a42bc2593494fa48e2492a0c99c1fd4\n",
      "🧪 View experiment at: http://127.0.0.1:8282/#/experiments/522595451471574861\n"
     ]
    },
    {
     "name": "stderr",
     "output_type": "stream",
     "text": [
      "[I 2025-07-17 16:45:48,671] Trial 16 finished with value: 0.043010752688172005 and parameters: {'booster': 'gbtree', 'learning_rate': 0.2549430895072844, 'max_depth': 4, 'subsample': 0.8097604592143951, 'colsample_bytree': 0.9025524770775537, 'lambda': 0.002212482970385605, 'alpha': 3.325437104663058e-06}. Best is trial 13 with value: 0.021052631578947323.\n"
     ]
    },
    {
     "name": "stdout",
     "output_type": "stream",
     "text": [
      "🏃 View run bustling-grouse-686 at: http://127.0.0.1:8282/#/experiments/522595451471574861/runs/652ce24843e64a2c9c5331f803622654\n",
      "🧪 View experiment at: http://127.0.0.1:8282/#/experiments/522595451471574861\n"
     ]
    },
    {
     "name": "stderr",
     "output_type": "stream",
     "text": [
      "[I 2025-07-17 16:45:49,024] Trial 17 finished with value: 0.05820105820105825 and parameters: {'booster': 'gbtree', 'learning_rate': 0.17034257539879818, 'max_depth': 4, 'subsample': 0.917963520632856, 'colsample_bytree': 0.6855461405844653, 'lambda': 2.5183831214452037e-07, 'alpha': 1.0191604801355774e-07}. Best is trial 13 with value: 0.021052631578947323.\n"
     ]
    },
    {
     "name": "stdout",
     "output_type": "stream",
     "text": [
      "🏃 View run clean-eel-990 at: http://127.0.0.1:8282/#/experiments/522595451471574861/runs/c3f6171532e5477182776971748cc8b1\n",
      "🧪 View experiment at: http://127.0.0.1:8282/#/experiments/522595451471574861\n"
     ]
    },
    {
     "name": "stderr",
     "output_type": "stream",
     "text": [
      "[I 2025-07-17 16:45:49,449] Trial 18 finished with value: 0.0736842105263158 and parameters: {'booster': 'dart', 'learning_rate': 0.261714757476798, 'max_depth': 6, 'subsample': 0.768808535388429, 'colsample_bytree': 0.5172488335967025, 'lambda': 3.199668311585761e-05, 'alpha': 5.9742427051488476e-05}. Best is trial 13 with value: 0.021052631578947323.\n"
     ]
    },
    {
     "name": "stdout",
     "output_type": "stream",
     "text": [
      "🏃 View run stylish-frog-462 at: http://127.0.0.1:8282/#/experiments/522595451471574861/runs/653a961371bd4fa2a932e2cc9ad92a2b\n",
      "🧪 View experiment at: http://127.0.0.1:8282/#/experiments/522595451471574861\n"
     ]
    },
    {
     "name": "stderr",
     "output_type": "stream",
     "text": [
      "[I 2025-07-17 16:45:49,828] Trial 19 finished with value: 0.061224489795918324 and parameters: {'booster': 'gblinear', 'learning_rate': 0.17978765361298224, 'max_depth': 4, 'subsample': 0.8452321548299235, 'colsample_bytree': 0.7281428094564434, 'lambda': 0.001401773694634819, 'alpha': 8.446184053875698e-07}. Best is trial 13 with value: 0.021052631578947323.\n"
     ]
    },
    {
     "name": "stdout",
     "output_type": "stream",
     "text": [
      "🏃 View run placid-hen-392 at: http://127.0.0.1:8282/#/experiments/522595451471574861/runs/000718dc89f54c9cbb2a8385edc07e34\n",
      "🧪 View experiment at: http://127.0.0.1:8282/#/experiments/522595451471574861\n"
     ]
    },
    {
     "name": "stderr",
     "output_type": "stream",
     "text": [
      "[I 2025-07-17 16:45:50,181] Trial 20 finished with value: 0.048648648648648596 and parameters: {'booster': 'gbtree', 'learning_rate': 0.25875358532850745, 'max_depth': 3, 'subsample': 0.9379898075988609, 'colsample_bytree': 0.9158277818910646, 'lambda': 6.365263702960175e-06, 'alpha': 0.6842648520255276}. Best is trial 13 with value: 0.021052631578947323.\n"
     ]
    },
    {
     "name": "stdout",
     "output_type": "stream",
     "text": [
      "🏃 View run welcoming-shad-700 at: http://127.0.0.1:8282/#/experiments/522595451471574861/runs/ed024567d3064c25b60ae517f4938c14\n",
      "🧪 View experiment at: http://127.0.0.1:8282/#/experiments/522595451471574861\n"
     ]
    },
    {
     "name": "stderr",
     "output_type": "stream",
     "text": [
      "[I 2025-07-17 16:45:50,559] Trial 21 finished with value: 0.048648648648648596 and parameters: {'booster': 'gbtree', 'learning_rate': 0.2958142134505141, 'max_depth': 4, 'subsample': 0.8847809327253284, 'colsample_bytree': 0.9309714378072464, 'lambda': 1.5603088610436211e-06, 'alpha': 5.1149466875071544e-08}. Best is trial 13 with value: 0.021052631578947323.\n"
     ]
    },
    {
     "name": "stdout",
     "output_type": "stream",
     "text": [
      "🏃 View run luxuriant-kite-277 at: http://127.0.0.1:8282/#/experiments/522595451471574861/runs/0d397d7723334e6fbfbfa7fdbbe7f542\n",
      "🧪 View experiment at: http://127.0.0.1:8282/#/experiments/522595451471574861\n"
     ]
    },
    {
     "name": "stderr",
     "output_type": "stream",
     "text": [
      "[I 2025-07-17 16:45:50,924] Trial 22 finished with value: 0.053763440860215006 and parameters: {'booster': 'gbtree', 'learning_rate': 0.274982314449464, 'max_depth': 5, 'subsample': 0.8986959829267576, 'colsample_bytree': 0.9998333550954842, 'lambda': 1.3988699509105744e-05, 'alpha': 4.1761219865094916e-05}. Best is trial 13 with value: 0.021052631578947323.\n"
     ]
    },
    {
     "name": "stdout",
     "output_type": "stream",
     "text": [
      "🏃 View run bedecked-skunk-39 at: http://127.0.0.1:8282/#/experiments/522595451471574861/runs/2462f7b5b7c5413fab74b5f67307b446\n",
      "🧪 View experiment at: http://127.0.0.1:8282/#/experiments/522595451471574861\n"
     ]
    },
    {
     "name": "stderr",
     "output_type": "stream",
     "text": [
      "[I 2025-07-17 16:45:51,297] Trial 23 finished with value: 0.037837837837837784 and parameters: {'booster': 'gbtree', 'learning_rate': 0.2302638712772887, 'max_depth': 4, 'subsample': 0.9819806793425339, 'colsample_bytree': 0.8847774481281814, 'lambda': 7.649250684847186e-08, 'alpha': 6.016369596214405e-06}. Best is trial 13 with value: 0.021052631578947323.\n"
     ]
    },
    {
     "name": "stdout",
     "output_type": "stream",
     "text": [
      "🏃 View run fortunate-mole-313 at: http://127.0.0.1:8282/#/experiments/522595451471574861/runs/9bef613aa5e74fd99f556945a876fe40\n",
      "🧪 View experiment at: http://127.0.0.1:8282/#/experiments/522595451471574861\n"
     ]
    },
    {
     "name": "stderr",
     "output_type": "stream",
     "text": [
      "[I 2025-07-17 16:45:51,762] Trial 24 finished with value: 0.043010752688172005 and parameters: {'booster': 'gbtree', 'learning_rate': 0.23590479289182495, 'max_depth': 3, 'subsample': 0.8478617623669994, 'colsample_bytree': 0.7921574128726813, 'lambda': 0.0001801228172444822, 'alpha': 5.062863588331062e-07}. Best is trial 13 with value: 0.021052631578947323.\n"
     ]
    },
    {
     "name": "stdout",
     "output_type": "stream",
     "text": [
      "🏃 View run legendary-ant-552 at: http://127.0.0.1:8282/#/experiments/522595451471574861/runs/785d6793b38d402e997b53d4841ef875\n",
      "🧪 View experiment at: http://127.0.0.1:8282/#/experiments/522595451471574861\n"
     ]
    },
    {
     "name": "stderr",
     "output_type": "stream",
     "text": [
      "[I 2025-07-17 16:45:52,166] Trial 25 finished with value: 0.05820105820105825 and parameters: {'booster': 'gbtree', 'learning_rate': 0.28163129475995685, 'max_depth': 4, 'subsample': 0.5028361378522137, 'colsample_bytree': 0.9476732788712635, 'lambda': 9.496437806982641e-07, 'alpha': 3.1706324460702e-08}. Best is trial 13 with value: 0.021052631578947323.\n"
     ]
    },
    {
     "name": "stdout",
     "output_type": "stream",
     "text": [
      "🏃 View run skillful-yak-942 at: http://127.0.0.1:8282/#/experiments/522595451471574861/runs/1c3cce0b9f484ffcb6ed18193c1b96e9\n",
      "🧪 View experiment at: http://127.0.0.1:8282/#/experiments/522595451471574861\n"
     ]
    },
    {
     "name": "stderr",
     "output_type": "stream",
     "text": [
      "[I 2025-07-17 16:45:52,615] Trial 26 finished with value: 0.05882352941176472 and parameters: {'booster': 'gbtree', 'learning_rate': 0.2095313901272986, 'max_depth': 6, 'subsample': 0.7999935156485963, 'colsample_bytree': 0.6708472505492284, 'lambda': 8.74092232254711e-06, 'alpha': 2.99781442080546e-07}. Best is trial 13 with value: 0.021052631578947323.\n"
     ]
    },
    {
     "name": "stdout",
     "output_type": "stream",
     "text": [
      "🏃 View run respected-jay-511 at: http://127.0.0.1:8282/#/experiments/522595451471574861/runs/be679add280e4bdbb26ea02b66b669cf\n",
      "🧪 View experiment at: http://127.0.0.1:8282/#/experiments/522595451471574861\n"
     ]
    },
    {
     "name": "stderr",
     "output_type": "stream",
     "text": [
      "[I 2025-07-17 16:45:53,043] Trial 27 finished with value: 0.05945945945945941 and parameters: {'booster': 'gbtree', 'learning_rate': 0.27577487517511035, 'max_depth': 5, 'subsample': 0.7611123848609205, 'colsample_bytree': 0.7624527329217465, 'lambda': 6.47561086959726e-05, 'alpha': 2.460362813760531e-06}. Best is trial 13 with value: 0.021052631578947323.\n"
     ]
    },
    {
     "name": "stdout",
     "output_type": "stream",
     "text": [
      "🏃 View run stately-finch-343 at: http://127.0.0.1:8282/#/experiments/522595451471574861/runs/0751884a048f4136b5207e6e5645a75d\n",
      "🧪 View experiment at: http://127.0.0.1:8282/#/experiments/522595451471574861\n"
     ]
    },
    {
     "name": "stderr",
     "output_type": "stream",
     "text": [
      "[I 2025-07-17 16:45:53,462] Trial 28 finished with value: 0.04347826086956519 and parameters: {'booster': 'dart', 'learning_rate': 0.24669296325600792, 'max_depth': 3, 'subsample': 0.9425652741271867, 'colsample_bytree': 0.8347140808629472, 'lambda': 0.0008215374471439585, 'alpha': 3.910312172299385e-08}. Best is trial 13 with value: 0.021052631578947323.\n"
     ]
    },
    {
     "name": "stdout",
     "output_type": "stream",
     "text": [
      "🏃 View run rare-panda-347 at: http://127.0.0.1:8282/#/experiments/522595451471574861/runs/28ea4080a5764294b93b3272e202bf30\n",
      "🧪 View experiment at: http://127.0.0.1:8282/#/experiments/522595451471574861\n"
     ]
    },
    {
     "name": "stderr",
     "output_type": "stream",
     "text": [
      "[I 2025-07-17 16:45:53,826] Trial 29 finished with value: 0.061224489795918324 and parameters: {'booster': 'gblinear', 'learning_rate': 0.18594460650264205, 'max_depth': 4, 'subsample': 0.9957128091931715, 'colsample_bytree': 0.8118139400874274, 'lambda': 8.66969506271237e-08, 'alpha': 1.7720979587783065e-05}. Best is trial 13 with value: 0.021052631578947323.\n"
     ]
    },
    {
     "name": "stdout",
     "output_type": "stream",
     "text": [
      "🏃 View run stately-shoat-575 at: http://127.0.0.1:8282/#/experiments/522595451471574861/runs/e6f8775b1bd34d36ab91b90f42e5d676\n",
      "🧪 View experiment at: http://127.0.0.1:8282/#/experiments/522595451471574861\n"
     ]
    },
    {
     "name": "stderr",
     "output_type": "stream",
     "text": [
      "[I 2025-07-17 16:45:54,230] Trial 30 finished with value: 0.06735751295336789 and parameters: {'booster': 'gbtree', 'learning_rate': 0.05482565179822976, 'max_depth': 9, 'subsample': 0.8684064318056942, 'colsample_bytree': 0.8692070790198484, 'lambda': 4.4162779006184326e-06, 'alpha': 0.00023935445694131372}. Best is trial 13 with value: 0.021052631578947323.\n"
     ]
    },
    {
     "name": "stdout",
     "output_type": "stream",
     "text": [
      "🏃 View run thoughtful-snipe-31 at: http://127.0.0.1:8282/#/experiments/522595451471574861/runs/8ee25ba4ad68429bb3f3900593eb03af\n",
      "🧪 View experiment at: http://127.0.0.1:8282/#/experiments/522595451471574861\n"
     ]
    },
    {
     "name": "stderr",
     "output_type": "stream",
     "text": [
      "[I 2025-07-17 16:45:54,639] Trial 31 finished with value: 0.043010752688172005 and parameters: {'booster': 'gbtree', 'learning_rate': 0.22624077613702517, 'max_depth': 3, 'subsample': 0.8781781865771398, 'colsample_bytree': 0.7814130261189693, 'lambda': 2.481529389663748e-06, 'alpha': 1.0311392207000228e-07}. Best is trial 13 with value: 0.021052631578947323.\n"
     ]
    },
    {
     "name": "stdout",
     "output_type": "stream",
     "text": [
      "🏃 View run omniscient-crow-808 at: http://127.0.0.1:8282/#/experiments/522595451471574861/runs/b954f13bde1d4b5ebeae81fe9e8376b4\n",
      "🧪 View experiment at: http://127.0.0.1:8282/#/experiments/522595451471574861\n"
     ]
    },
    {
     "name": "stderr",
     "output_type": "stream",
     "text": [
      "[I 2025-07-17 16:45:55,013] Trial 32 finished with value: 0.032258064516129004 and parameters: {'booster': 'gbtree', 'learning_rate': 0.27729439492796537, 'max_depth': 3, 'subsample': 0.8151540596124129, 'colsample_bytree': 0.7286884179769527, 'lambda': 6.115986138807437e-07, 'alpha': 1.5715423675048593e-08}. Best is trial 13 with value: 0.021052631578947323.\n"
     ]
    },
    {
     "name": "stdout",
     "output_type": "stream",
     "text": [
      "🏃 View run enthused-sow-653 at: http://127.0.0.1:8282/#/experiments/522595451471574861/runs/1e7238bb0b344da683e2601ac8dfe004\n",
      "🧪 View experiment at: http://127.0.0.1:8282/#/experiments/522595451471574861\n"
     ]
    },
    {
     "name": "stderr",
     "output_type": "stream",
     "text": [
      "[I 2025-07-17 16:45:55,422] Trial 33 finished with value: 0.053763440860215006 and parameters: {'booster': 'gbtree', 'learning_rate': 0.28458588859324413, 'max_depth': 3, 'subsample': 0.820146369499702, 'colsample_bytree': 0.6359874192872231, 'lambda': 7.52874741057109e-07, 'alpha': 1.1684457094652619e-08}. Best is trial 13 with value: 0.021052631578947323.\n"
     ]
    },
    {
     "name": "stdout",
     "output_type": "stream",
     "text": [
      "🏃 View run illustrious-koi-870 at: http://127.0.0.1:8282/#/experiments/522595451471574861/runs/b19c9d72720842958d837e0c29b188b8\n",
      "🧪 View experiment at: http://127.0.0.1:8282/#/experiments/522595451471574861\n"
     ]
    },
    {
     "name": "stderr",
     "output_type": "stream",
     "text": [
      "[I 2025-07-17 16:45:55,799] Trial 34 finished with value: 0.048648648648648596 and parameters: {'booster': 'gbtree', 'learning_rate': 0.26622403912353093, 'max_depth': 4, 'subsample': 0.9082171746140334, 'colsample_bytree': 0.729097993711167, 'lambda': 1.4176446150324808e-07, 'alpha': 2.7657107839410255e-08}. Best is trial 13 with value: 0.021052631578947323.\n"
     ]
    },
    {
     "name": "stdout",
     "output_type": "stream",
     "text": [
      "🏃 View run nervous-shad-749 at: http://127.0.0.1:8282/#/experiments/522595451471574861/runs/67bd557fb00546a6a61e0844231d187a\n",
      "🧪 View experiment at: http://127.0.0.1:8282/#/experiments/522595451471574861\n"
     ]
    },
    {
     "name": "stderr",
     "output_type": "stream",
     "text": [
      "[I 2025-07-17 16:45:56,199] Trial 35 finished with value: 0.05820105820105825 and parameters: {'booster': 'gbtree', 'learning_rate': 0.2990991907696793, 'max_depth': 3, 'subsample': 0.7314446035288508, 'colsample_bytree': 0.8421959769014016, 'lambda': 2.2074819005356325e-08, 'alpha': 1.256354688716631e-08}. Best is trial 13 with value: 0.021052631578947323.\n"
     ]
    },
    {
     "name": "stdout",
     "output_type": "stream",
     "text": [
      "🏃 View run nosy-seal-672 at: http://127.0.0.1:8282/#/experiments/522595451471574861/runs/ab9f1bc6c9a34950bfcb5a5fe936e0bc\n",
      "🧪 View experiment at: http://127.0.0.1:8282/#/experiments/522595451471574861\n"
     ]
    },
    {
     "name": "stderr",
     "output_type": "stream",
     "text": [
      "[I 2025-07-17 16:45:56,561] Trial 36 finished with value: 0.043010752688172005 and parameters: {'booster': 'gbtree', 'learning_rate': 0.24809938351960803, 'max_depth': 5, 'subsample': 0.7296275788020201, 'colsample_bytree': 0.9698852985971842, 'lambda': 3.011051076931399e-05, 'alpha': 0.008599683568100064}. Best is trial 13 with value: 0.021052631578947323.\n"
     ]
    },
    {
     "name": "stdout",
     "output_type": "stream",
     "text": [
      "🏃 View run youthful-robin-441 at: http://127.0.0.1:8282/#/experiments/522595451471574861/runs/0f0d3cb07b0c48dfa26b66d01b91d235\n",
      "🧪 View experiment at: http://127.0.0.1:8282/#/experiments/522595451471574861\n"
     ]
    },
    {
     "name": "stderr",
     "output_type": "stream",
     "text": [
      "[I 2025-07-17 16:45:56,913] Trial 37 finished with value: 0.05820105820105825 and parameters: {'booster': 'dart', 'learning_rate': 0.2834043402148362, 'max_depth': 7, 'subsample': 0.7848365865826687, 'colsample_bytree': 0.6570581462891433, 'lambda': 9.979503788577763e-06, 'alpha': 8.657872272782151e-07}. Best is trial 13 with value: 0.021052631578947323.\n"
     ]
    },
    {
     "name": "stdout",
     "output_type": "stream",
     "text": [
      "🏃 View run dapper-lark-442 at: http://127.0.0.1:8282/#/experiments/522595451471574861/runs/61c4580b621d415089e8601996448df7\n",
      "🧪 View experiment at: http://127.0.0.1:8282/#/experiments/522595451471574861\n"
     ]
    },
    {
     "name": "stderr",
     "output_type": "stream",
     "text": [
      "[I 2025-07-17 16:45:57,277] Trial 38 finished with value: 0.0625 and parameters: {'booster': 'gblinear', 'learning_rate': 0.24221513216850835, 'max_depth': 4, 'subsample': 0.8596699297584618, 'colsample_bytree': 0.7192481172181697, 'lambda': 0.8413858312894195, 'alpha': 4.3407378931355085e-08}. Best is trial 13 with value: 0.021052631578947323.\n"
     ]
    },
    {
     "name": "stdout",
     "output_type": "stream",
     "text": [
      "🏃 View run skillful-shoat-132 at: http://127.0.0.1:8282/#/experiments/522595451471574861/runs/da64b2aa92964787870078611ce743ac\n",
      "🧪 View experiment at: http://127.0.0.1:8282/#/experiments/522595451471574861\n"
     ]
    },
    {
     "name": "stderr",
     "output_type": "stream",
     "text": [
      "[I 2025-07-17 16:45:57,657] Trial 39 finished with value: 0.053763440860215006 and parameters: {'booster': 'gbtree', 'learning_rate': 0.266580408431791, 'max_depth': 6, 'subsample': 0.967647559575222, 'colsample_bytree': 0.5868939176812137, 'lambda': 0.00010260388831030455, 'alpha': 2.6174728051999967e-07}. Best is trial 13 with value: 0.021052631578947323.\n"
     ]
    },
    {
     "name": "stdout",
     "output_type": "stream",
     "text": [
      "🏃 View run capable-zebra-520 at: http://127.0.0.1:8282/#/experiments/522595451471574861/runs/81e615cb839d49a396f668352f30d57b\n",
      "🧪 View experiment at: http://127.0.0.1:8282/#/experiments/522595451471574861\n"
     ]
    },
    {
     "name": "stderr",
     "output_type": "stream",
     "text": [
      "[I 2025-07-17 16:45:58,023] Trial 40 finished with value: 0.04210526315789476 and parameters: {'booster': 'gbtree', 'learning_rate': 0.15289532803874992, 'max_depth': 8, 'subsample': 0.6994569366738267, 'colsample_bytree': 0.697485097440897, 'lambda': 0.005821025071851558, 'alpha': 0.0017679688080437421}. Best is trial 13 with value: 0.021052631578947323.\n"
     ]
    },
    {
     "name": "stdout",
     "output_type": "stream",
     "text": [
      "🏃 View run charming-pug-617 at: http://127.0.0.1:8282/#/experiments/522595451471574861/runs/dd7900ed7d5348449742323860f5a747\n",
      "🧪 View experiment at: http://127.0.0.1:8282/#/experiments/522595451471574861\n"
     ]
    },
    {
     "name": "stderr",
     "output_type": "stream",
     "text": [
      "[I 2025-07-17 16:45:58,495] Trial 41 finished with value: 0.043010752688172005 and parameters: {'booster': 'gbtree', 'learning_rate': 0.2169819604813856, 'max_depth': 3, 'subsample': 0.831308640978129, 'colsample_bytree': 0.8144071271722458, 'lambda': 2.7341832361343773e-06, 'alpha': 7.443489868402142e-08}. Best is trial 13 with value: 0.021052631578947323.\n"
     ]
    },
    {
     "name": "stdout",
     "output_type": "stream",
     "text": [
      "🏃 View run placid-cat-496 at: http://127.0.0.1:8282/#/experiments/522595451471574861/runs/d1f31a00d0b940bbbcd047d773b01893\n",
      "🧪 View experiment at: http://127.0.0.1:8282/#/experiments/522595451471574861\n"
     ]
    },
    {
     "name": "stderr",
     "output_type": "stream",
     "text": [
      "[I 2025-07-17 16:45:58,863] Trial 42 finished with value: 0.043010752688172005 and parameters: {'booster': 'gbtree', 'learning_rate': 0.2028536884377888, 'max_depth': 3, 'subsample': 0.8886134443705953, 'colsample_bytree': 0.7872185313340972, 'lambda': 5.982530016289091e-07, 'alpha': 1.0254291194736661e-07}. Best is trial 13 with value: 0.021052631578947323.\n"
     ]
    },
    {
     "name": "stdout",
     "output_type": "stream",
     "text": [
      "🏃 View run delightful-swan-61 at: http://127.0.0.1:8282/#/experiments/522595451471574861/runs/28450d9b130748438dd8d8c34a6c9fdf\n",
      "🧪 View experiment at: http://127.0.0.1:8282/#/experiments/522595451471574861\n"
     ]
    },
    {
     "name": "stderr",
     "output_type": "stream",
     "text": [
      "[I 2025-07-17 16:45:59,265] Trial 43 finished with value: 0.053763440860215006 and parameters: {'booster': 'gbtree', 'learning_rate': 0.23149195368320713, 'max_depth': 3, 'subsample': 0.9162655308317461, 'colsample_bytree': 0.7553989884385676, 'lambda': 1.4895494636870105e-06, 'alpha': 1.165596582235041e-08}. Best is trial 13 with value: 0.021052631578947323.\n"
     ]
    },
    {
     "name": "stdout",
     "output_type": "stream",
     "text": [
      "🏃 View run sedate-tern-844 at: http://127.0.0.1:8282/#/experiments/522595451471574861/runs/adff3f5e662a4887adadb04f564d5e70\n",
      "🧪 View experiment at: http://127.0.0.1:8282/#/experiments/522595451471574861\n"
     ]
    },
    {
     "name": "stderr",
     "output_type": "stream",
     "text": [
      "[I 2025-07-17 16:45:59,693] Trial 44 finished with value: 0.043010752688172005 and parameters: {'booster': 'gbtree', 'learning_rate': 0.2506874721693069, 'max_depth': 4, 'subsample': 0.8588048189685781, 'colsample_bytree': 0.8896707726457674, 'lambda': 1.7572197628792512e-05, 'alpha': 1.4980911426225011e-07}. Best is trial 13 with value: 0.021052631578947323.\n"
     ]
    },
    {
     "name": "stdout",
     "output_type": "stream",
     "text": [
      "🏃 View run trusting-sloth-38 at: http://127.0.0.1:8282/#/experiments/522595451471574861/runs/ab1e3e53d44b49dbb4a979aca5b53e9b\n",
      "🧪 View experiment at: http://127.0.0.1:8282/#/experiments/522595451471574861\n"
     ]
    },
    {
     "name": "stderr",
     "output_type": "stream",
     "text": [
      "[I 2025-07-17 16:46:00,056] Trial 45 finished with value: 0.037837837837837784 and parameters: {'booster': 'gbtree', 'learning_rate': 0.2879680301452246, 'max_depth': 3, 'subsample': 0.8220360891026826, 'colsample_bytree': 0.9301710818332859, 'lambda': 2.8509051136760777e-07, 'alpha': 2.021970744520043e-06}. Best is trial 13 with value: 0.021052631578947323.\n"
     ]
    },
    {
     "name": "stdout",
     "output_type": "stream",
     "text": [
      "🏃 View run abrasive-cow-147 at: http://127.0.0.1:8282/#/experiments/522595451471574861/runs/b00ac6a99f3e4aa7aaa9d4cfe76e26d0\n",
      "🧪 View experiment at: http://127.0.0.1:8282/#/experiments/522595451471574861\n"
     ]
    },
    {
     "name": "stderr",
     "output_type": "stream",
     "text": [
      "[I 2025-07-17 16:46:00,466] Trial 46 finished with value: 0.06382978723404253 and parameters: {'booster': 'dart', 'learning_rate': 0.2691005752717965, 'max_depth': 5, 'subsample': 0.6609703089289477, 'colsample_bytree': 0.8535932323670551, 'lambda': 1.03031264612025e-08, 'alpha': 4.2540602834781734e-07}. Best is trial 13 with value: 0.021052631578947323.\n"
     ]
    },
    {
     "name": "stdout",
     "output_type": "stream",
     "text": [
      "🏃 View run worried-owl-142 at: http://127.0.0.1:8282/#/experiments/522595451471574861/runs/30e7d3e31c304786a95f319943d68540\n",
      "🧪 View experiment at: http://127.0.0.1:8282/#/experiments/522595451471574861\n"
     ]
    },
    {
     "name": "stderr",
     "output_type": "stream",
     "text": [
      "[I 2025-07-17 16:46:00,846] Trial 47 finished with value: 0.08823529411764708 and parameters: {'booster': 'gblinear', 'learning_rate': 0.07342990074399938, 'max_depth': 4, 'subsample': 0.7844985700055348, 'colsample_bytree': 0.7066806021322198, 'lambda': 6.940246040718771e-05, 'alpha': 1.819813733174093e-08}. Best is trial 13 with value: 0.021052631578947323.\n"
     ]
    },
    {
     "name": "stdout",
     "output_type": "stream",
     "text": [
      "🏃 View run classy-jay-803 at: http://127.0.0.1:8282/#/experiments/522595451471574861/runs/5628d3b6946145b39315f4d92689d24e\n",
      "🧪 View experiment at: http://127.0.0.1:8282/#/experiments/522595451471574861\n"
     ]
    },
    {
     "name": "stderr",
     "output_type": "stream",
     "text": [
      "[I 2025-07-17 16:46:01,227] Trial 48 finished with value: 0.05319148936170215 and parameters: {'booster': 'gbtree', 'learning_rate': 0.1911881031256873, 'max_depth': 3, 'subsample': 0.9273225732212407, 'colsample_bytree': 0.7416232320815989, 'lambda': 0.000544983270443772, 'alpha': 2.6438304355935463e-08}. Best is trial 13 with value: 0.021052631578947323.\n"
     ]
    },
    {
     "name": "stdout",
     "output_type": "stream",
     "text": [
      "🏃 View run powerful-yak-83 at: http://127.0.0.1:8282/#/experiments/522595451471574861/runs/4b0ddda91a9941b0840da5104edc53de\n",
      "🧪 View experiment at: http://127.0.0.1:8282/#/experiments/522595451471574861\n"
     ]
    },
    {
     "name": "stderr",
     "output_type": "stream",
     "text": [
      "[I 2025-07-17 16:46:01,610] Trial 49 finished with value: 0.037837837837837784 and parameters: {'booster': 'gbtree', 'learning_rate': 0.21905053241404687, 'max_depth': 3, 'subsample': 0.8118931756175747, 'colsample_bytree': 0.9888177785916715, 'lambda': 3.4753875856552617e-06, 'alpha': 8.212662110428158e-06}. Best is trial 13 with value: 0.021052631578947323.\n"
     ]
    },
    {
     "name": "stdout",
     "output_type": "stream",
     "text": [
      "🏃 View run colorful-jay-534 at: http://127.0.0.1:8282/#/experiments/522595451471574861/runs/c24263ed8f1341d296b11dc30858fd5c\n",
      "🧪 View experiment at: http://127.0.0.1:8282/#/experiments/522595451471574861\n"
     ]
    },
    {
     "name": "stderr",
     "output_type": "stream",
     "text": [
      "[I 2025-07-17 16:46:02,063] Trial 50 finished with value: 0.03664921465968585 and parameters: {'booster': 'gbtree', 'learning_rate': 0.11127535934747117, 'max_depth': 9, 'subsample': 0.9579165679541044, 'colsample_bytree': 0.9571684425531009, 'lambda': 0.02890517287254961, 'alpha': 1.7276734629944982e-07}. Best is trial 13 with value: 0.021052631578947323.\n"
     ]
    },
    {
     "name": "stdout",
     "output_type": "stream",
     "text": [
      "🏃 View run clumsy-foal-875 at: http://127.0.0.1:8282/#/experiments/522595451471574861/runs/4c06a5ac3436440f80593bfe37a44fa1\n",
      "🧪 View experiment at: http://127.0.0.1:8282/#/experiments/522595451471574861\n"
     ]
    },
    {
     "name": "stderr",
     "output_type": "stream",
     "text": [
      "[I 2025-07-17 16:46:02,466] Trial 51 finished with value: 0.04166666666666663 and parameters: {'booster': 'gbtree', 'learning_rate': 0.12610183993051569, 'max_depth': 10, 'subsample': 0.9577678362098799, 'colsample_bytree': 0.9629984472834088, 'lambda': 0.05716028035611455, 'alpha': 1.776002139645018e-07}. Best is trial 13 with value: 0.021052631578947323.\n"
     ]
    },
    {
     "name": "stdout",
     "output_type": "stream",
     "text": [
      "🏃 View run likeable-skink-433 at: http://127.0.0.1:8282/#/experiments/522595451471574861/runs/d43f2ffd6f0f446d91f4b70f2bf38189\n",
      "🧪 View experiment at: http://127.0.0.1:8282/#/experiments/522595451471574861\n"
     ]
    },
    {
     "name": "stderr",
     "output_type": "stream",
     "text": [
      "[I 2025-07-17 16:46:02,796] Trial 52 finished with value: 0.04761904761904767 and parameters: {'booster': 'gbtree', 'learning_rate': 0.10384430857621918, 'max_depth': 9, 'subsample': 0.8973893685946022, 'colsample_bytree': 0.9473010202395209, 'lambda': 0.005044657096449891, 'alpha': 6.784239042435384e-08}. Best is trial 13 with value: 0.021052631578947323.\n"
     ]
    },
    {
     "name": "stdout",
     "output_type": "stream",
     "text": [
      "🏃 View run awesome-fly-460 at: http://127.0.0.1:8282/#/experiments/522595451471574861/runs/2b4c750c1fed4c06b324d9344f6ad6a7\n",
      "🧪 View experiment at: http://127.0.0.1:8282/#/experiments/522595451471574861\n"
     ]
    },
    {
     "name": "stderr",
     "output_type": "stream",
     "text": [
      "[I 2025-07-17 16:46:03,187] Trial 53 finished with value: 0.048128342245989275 and parameters: {'booster': 'gbtree', 'learning_rate': 0.15448042808287515, 'max_depth': 9, 'subsample': 0.8680950513550254, 'colsample_bytree': 0.9071510080510179, 'lambda': 0.2441496227471971, 'alpha': 1.0278989300512549e-06}. Best is trial 13 with value: 0.021052631578947323.\n"
     ]
    },
    {
     "name": "stdout",
     "output_type": "stream",
     "text": [
      "🏃 View run bustling-mare-139 at: http://127.0.0.1:8282/#/experiments/522595451471574861/runs/62932f1f04c34315aeb178fab54df9b4\n",
      "🧪 View experiment at: http://127.0.0.1:8282/#/experiments/522595451471574861\n"
     ]
    },
    {
     "name": "stderr",
     "output_type": "stream",
     "text": [
      "[I 2025-07-17 16:46:03,535] Trial 54 finished with value: 0.032258064516129004 and parameters: {'booster': 'gbtree', 'learning_rate': 0.16962894296443834, 'max_depth': 7, 'subsample': 0.842166325724828, 'colsample_bytree': 0.921824710708238, 'lambda': 0.33397329444141266, 'alpha': 5.287208772171637e-08}. Best is trial 13 with value: 0.021052631578947323.\n"
     ]
    },
    {
     "name": "stdout",
     "output_type": "stream",
     "text": [
      "🏃 View run glamorous-foal-173 at: http://127.0.0.1:8282/#/experiments/522595451471574861/runs/7a8800a6c9fc4363af568a49609fe5bd\n",
      "🧪 View experiment at: http://127.0.0.1:8282/#/experiments/522595451471574861\n"
     ]
    },
    {
     "name": "stderr",
     "output_type": "stream",
     "text": [
      "[I 2025-07-17 16:46:03,928] Trial 55 finished with value: 0.048128342245989275 and parameters: {'booster': 'gbtree', 'learning_rate': 0.10891473828682643, 'max_depth': 7, 'subsample': 0.844983647671801, 'colsample_bytree': 0.8835306009903856, 'lambda': 0.31624713595752635, 'alpha': 2.471338481143046e-08}. Best is trial 13 with value: 0.021052631578947323.\n"
     ]
    },
    {
     "name": "stdout",
     "output_type": "stream",
     "text": [
      "🏃 View run receptive-cat-306 at: http://127.0.0.1:8282/#/experiments/522595451471574861/runs/914643945c304a788c31d52d682309d4\n",
      "🧪 View experiment at: http://127.0.0.1:8282/#/experiments/522595451471574861\n"
     ]
    },
    {
     "name": "stderr",
     "output_type": "stream",
     "text": [
      "[I 2025-07-17 16:46:04,271] Trial 56 finished with value: 0.04255319148936165 and parameters: {'booster': 'gbtree', 'learning_rate': 0.14097566220273083, 'max_depth': 8, 'subsample': 0.9749105610873214, 'colsample_bytree': 0.9248531363100748, 'lambda': 0.07207604276714279, 'alpha': 0.00016016639270937798}. Best is trial 13 with value: 0.021052631578947323.\n"
     ]
    },
    {
     "name": "stdout",
     "output_type": "stream",
     "text": [
      "🏃 View run hilarious-asp-929 at: http://127.0.0.1:8282/#/experiments/522595451471574861/runs/a644e2019fdf4985bce3d12fe41d76c0\n",
      "🧪 View experiment at: http://127.0.0.1:8282/#/experiments/522595451471574861\n"
     ]
    },
    {
     "name": "stderr",
     "output_type": "stream",
     "text": [
      "[I 2025-07-17 16:46:04,603] Trial 57 finished with value: 0.07920792079207917 and parameters: {'booster': 'gblinear', 'learning_rate': 0.07763987421220826, 'max_depth': 7, 'subsample': 0.751518530202425, 'colsample_bytree': 0.9434708824732592, 'lambda': 0.407879776200089, 'alpha': 5.878487039393303e-08}. Best is trial 13 with value: 0.021052631578947323.\n"
     ]
    },
    {
     "name": "stdout",
     "output_type": "stream",
     "text": [
      "🏃 View run youthful-bug-381 at: http://127.0.0.1:8282/#/experiments/522595451471574861/runs/c283f899cfce415a8e57ebf5a87fa6ab\n",
      "🧪 View experiment at: http://127.0.0.1:8282/#/experiments/522595451471574861\n"
     ]
    },
    {
     "name": "stderr",
     "output_type": "stream",
     "text": [
      "[I 2025-07-17 16:46:05,020] Trial 58 finished with value: 0.04255319148936165 and parameters: {'booster': 'dart', 'learning_rate': 0.09029854850580261, 'max_depth': 9, 'subsample': 0.9352234843687922, 'colsample_bytree': 0.9740477420855527, 'lambda': 0.00862669324315258, 'alpha': 4.91282836458757e-07}. Best is trial 13 with value: 0.021052631578947323.\n"
     ]
    },
    {
     "name": "stdout",
     "output_type": "stream",
     "text": [
      "🏃 View run rogue-dove-538 at: http://127.0.0.1:8282/#/experiments/522595451471574861/runs/d97fd7498b3c4cf3a2f5bbbc75266bbe\n",
      "🧪 View experiment at: http://127.0.0.1:8282/#/experiments/522595451471574861\n"
     ]
    },
    {
     "name": "stderr",
     "output_type": "stream",
     "text": [
      "[I 2025-07-17 16:46:05,373] Trial 59 finished with value: 0.043010752688172005 and parameters: {'booster': 'gbtree', 'learning_rate': 0.17037765542222427, 'max_depth': 6, 'subsample': 0.838390047543703, 'colsample_bytree': 0.8927861836851714, 'lambda': 0.09859798891339303, 'alpha': 2.069519633998152e-08}. Best is trial 13 with value: 0.021052631578947323.\n"
     ]
    },
    {
     "name": "stdout",
     "output_type": "stream",
     "text": [
      "🏃 View run nosy-frog-825 at: http://127.0.0.1:8282/#/experiments/522595451471574861/runs/5871d16253234cb795227bbd5ab1606e\n",
      "🧪 View experiment at: http://127.0.0.1:8282/#/experiments/522595451471574861\n"
     ]
    },
    {
     "name": "stderr",
     "output_type": "stream",
     "text": [
      "[I 2025-07-17 16:46:05,714] Trial 60 finished with value: 0.07462686567164178 and parameters: {'booster': 'gbtree', 'learning_rate': 0.03705090304552498, 'max_depth': 8, 'subsample': 0.7726340993747238, 'colsample_bytree': 0.8608704720751201, 'lambda': 0.02385422526910948, 'alpha': 2.751572014774619e-05}. Best is trial 13 with value: 0.021052631578947323.\n"
     ]
    },
    {
     "name": "stdout",
     "output_type": "stream",
     "text": [
      "🏃 View run vaunted-cat-969 at: http://127.0.0.1:8282/#/experiments/522595451471574861/runs/6c1911f957774765a2520ea0054dca9f\n",
      "🧪 View experiment at: http://127.0.0.1:8282/#/experiments/522595451471574861\n"
     ]
    },
    {
     "name": "stderr",
     "output_type": "stream",
     "text": [
      "[I 2025-07-17 16:46:06,085] Trial 61 finished with value: 0.048648648648648596 and parameters: {'booster': 'gbtree', 'learning_rate': 0.257390337257845, 'max_depth': 4, 'subsample': 0.882606011659062, 'colsample_bytree': 0.9185918334328698, 'lambda': 1.4666173710886622e-06, 'alpha': 1.3435003574386897e-07}. Best is trial 13 with value: 0.021052631578947323.\n"
     ]
    },
    {
     "name": "stdout",
     "output_type": "stream",
     "text": [
      "🏃 View run nervous-kit-579 at: http://127.0.0.1:8282/#/experiments/522595451471574861/runs/529967ef4c5744e29d9bc073619857fc\n",
      "🧪 View experiment at: http://127.0.0.1:8282/#/experiments/522595451471574861\n"
     ]
    },
    {
     "name": "stderr",
     "output_type": "stream",
     "text": [
      "[I 2025-07-17 16:46:06,449] Trial 62 finished with value: 0.037837837837837784 and parameters: {'booster': 'gbtree', 'learning_rate': 0.2912351663434786, 'max_depth': 10, 'subsample': 0.8573552434640327, 'colsample_bytree': 0.7648254699924282, 'lambda': 0.022051468160808285, 'alpha': 4.695593550023122e-08}. Best is trial 13 with value: 0.021052631578947323.\n"
     ]
    },
    {
     "name": "stdout",
     "output_type": "stream",
     "text": [
      "🏃 View run nebulous-trout-176 at: http://127.0.0.1:8282/#/experiments/522595451471574861/runs/d552c2ebda1e48489461e2ecc5786920\n",
      "🧪 View experiment at: http://127.0.0.1:8282/#/experiments/522595451471574861\n"
     ]
    },
    {
     "name": "stderr",
     "output_type": "stream",
     "text": [
      "[I 2025-07-17 16:46:06,784] Trial 63 finished with value: 0.048128342245989275 and parameters: {'booster': 'gbtree', 'learning_rate': 0.27082814815992323, 'max_depth': 5, 'subsample': 0.9061127309537051, 'colsample_bytree': 0.6645155836064252, 'lambda': 2.0635208972403643e-05, 'alpha': 2.5423186763398935e-07}. Best is trial 13 with value: 0.021052631578947323.\n"
     ]
    },
    {
     "name": "stdout",
     "output_type": "stream",
     "text": [
      "🏃 View run caring-loon-242 at: http://127.0.0.1:8282/#/experiments/522595451471574861/runs/489e9a84099e46c7a9fb5ddc7d37b2b6\n",
      "🧪 View experiment at: http://127.0.0.1:8282/#/experiments/522595451471574861\n"
     ]
    },
    {
     "name": "stderr",
     "output_type": "stream",
     "text": [
      "[I 2025-07-17 16:46:07,172] Trial 64 finished with value: 0.043010752688172005 and parameters: {'booster': 'gbtree', 'learning_rate': 0.11569337622678191, 'max_depth': 3, 'subsample': 0.7930678350694, 'colsample_bytree': 0.9894682029021897, 'lambda': 4.4856410760703014e-07, 'alpha': 1.4043770430227108e-06}. Best is trial 13 with value: 0.021052631578947323.\n"
     ]
    },
    {
     "name": "stdout",
     "output_type": "stream",
     "text": [
      "🏃 View run hilarious-horse-850 at: http://127.0.0.1:8282/#/experiments/522595451471574861/runs/f4d7fa160bca4406893231abb92562aa\n",
      "🧪 View experiment at: http://127.0.0.1:8282/#/experiments/522595451471574861\n"
     ]
    },
    {
     "name": "stderr",
     "output_type": "stream",
     "text": [
      "[I 2025-07-17 16:46:07,606] Trial 65 finished with value: 0.048128342245989275 and parameters: {'booster': 'gbtree', 'learning_rate': 0.23651289927825483, 'max_depth': 4, 'subsample': 0.8040372001798423, 'colsample_bytree': 0.9456621589610892, 'lambda': 0.002983817958791451, 'alpha': 5.604943491063441e-06}. Best is trial 13 with value: 0.021052631578947323.\n"
     ]
    },
    {
     "name": "stdout",
     "output_type": "stream",
     "text": [
      "🏃 View run exultant-tern-549 at: http://127.0.0.1:8282/#/experiments/522595451471574861/runs/ccc4fd938f3743a397e88cc2c9131dad\n",
      "🧪 View experiment at: http://127.0.0.1:8282/#/experiments/522595451471574861\n"
     ]
    },
    {
     "name": "stderr",
     "output_type": "stream",
     "text": [
      "[I 2025-07-17 16:46:07,946] Trial 66 finished with value: 0.037837837837837784 and parameters: {'booster': 'gbtree', 'learning_rate': 0.2783993410416465, 'max_depth': 3, 'subsample': 0.8772734548306481, 'colsample_bytree': 0.9024440260160049, 'lambda': 5.00353341343622e-06, 'alpha': 1.0336501302604737e-08}. Best is trial 13 with value: 0.021052631578947323.\n"
     ]
    },
    {
     "name": "stdout",
     "output_type": "stream",
     "text": [
      "🏃 View run thundering-koi-726 at: http://127.0.0.1:8282/#/experiments/522595451471574861/runs/2a10c376129c448986aa38c92f61824f\n",
      "🧪 View experiment at: http://127.0.0.1:8282/#/experiments/522595451471574861\n"
     ]
    },
    {
     "name": "stderr",
     "output_type": "stream",
     "text": [
      "[I 2025-07-17 16:46:08,284] Trial 67 finished with value: 0.03191489361702127 and parameters: {'booster': 'gbtree', 'learning_rate': 0.16765909424465866, 'max_depth': 5, 'subsample': 0.8252737640165555, 'colsample_bytree': 0.8034596206696853, 'lambda': 2.237225487093345e-07, 'alpha': 0.0006781693958705497}. Best is trial 13 with value: 0.021052631578947323.\n"
     ]
    },
    {
     "name": "stdout",
     "output_type": "stream",
     "text": [
      "🏃 View run selective-goat-243 at: http://127.0.0.1:8282/#/experiments/522595451471574861/runs/685300d0d50c4674a75f9ebd9b2b9a4c\n",
      "🧪 View experiment at: http://127.0.0.1:8282/#/experiments/522595451471574861\n"
     ]
    },
    {
     "name": "stderr",
     "output_type": "stream",
     "text": [
      "[I 2025-07-17 16:46:08,617] Trial 68 finished with value: 0.03743315508021394 and parameters: {'booster': 'gbtree', 'learning_rate': 0.16687260944967203, 'max_depth': 5, 'subsample': 0.8230612320768791, 'colsample_bytree': 0.8728569194329037, 'lambda': 1.7405663639246672e-07, 'alpha': 0.0006650303953136653}. Best is trial 13 with value: 0.021052631578947323.\n"
     ]
    },
    {
     "name": "stdout",
     "output_type": "stream",
     "text": [
      "🏃 View run classy-mole-866 at: http://127.0.0.1:8282/#/experiments/522595451471574861/runs/9f94a7ef22de49d990aab3c5defcc720\n",
      "🧪 View experiment at: http://127.0.0.1:8282/#/experiments/522595451471574861\n"
     ]
    },
    {
     "name": "stderr",
     "output_type": "stream",
     "text": [
      "[I 2025-07-17 16:46:08,963] Trial 69 finished with value: 0.048128342245989275 and parameters: {'booster': 'gbtree', 'learning_rate': 0.17071220283876035, 'max_depth': 5, 'subsample': 0.8273429930488333, 'colsample_bytree': 0.826955925771947, 'lambda': 4.430913296963449e-08, 'alpha': 0.0006847200267975888}. Best is trial 13 with value: 0.021052631578947323.\n"
     ]
    },
    {
     "name": "stdout",
     "output_type": "stream",
     "text": [
      "🏃 View run puzzled-mole-923 at: http://127.0.0.1:8282/#/experiments/522595451471574861/runs/b699928364bd41d0858682339d0f4d2a\n",
      "🧪 View experiment at: http://127.0.0.1:8282/#/experiments/522595451471574861\n"
     ]
    },
    {
     "name": "stderr",
     "output_type": "stream",
     "text": [
      "[I 2025-07-17 16:46:09,307] Trial 70 finished with value: 0.048128342245989275 and parameters: {'booster': 'dart', 'learning_rate': 0.1450628700748426, 'max_depth': 6, 'subsample': 0.7721656503797822, 'colsample_bytree': 0.801561787556764, 'lambda': 2.204900192783846e-07, 'alpha': 0.004337097903606326}. Best is trial 13 with value: 0.021052631578947323.\n"
     ]
    },
    {
     "name": "stdout",
     "output_type": "stream",
     "text": [
      "🏃 View run lyrical-mink-277 at: http://127.0.0.1:8282/#/experiments/522595451471574861/runs/19242c3824384e979e2b9b42b78a5813\n",
      "🧪 View experiment at: http://127.0.0.1:8282/#/experiments/522595451471574861\n"
     ]
    },
    {
     "name": "stderr",
     "output_type": "stream",
     "text": [
      "[I 2025-07-17 16:46:09,684] Trial 71 finished with value: 0.03743315508021394 and parameters: {'booster': 'gbtree', 'learning_rate': 0.17699086515750515, 'max_depth': 5, 'subsample': 0.8447106681630641, 'colsample_bytree': 0.7414071669371329, 'lambda': 1.2367639822224166e-07, 'alpha': 8.252774502822607e-05}. Best is trial 13 with value: 0.021052631578947323.\n"
     ]
    },
    {
     "name": "stdout",
     "output_type": "stream",
     "text": [
      "🏃 View run enthused-dog-701 at: http://127.0.0.1:8282/#/experiments/522595451471574861/runs/9dd5d8e1d7dd499181200f19cbd85903\n",
      "🧪 View experiment at: http://127.0.0.1:8282/#/experiments/522595451471574861\n"
     ]
    },
    {
     "name": "stderr",
     "output_type": "stream",
     "text": [
      "[I 2025-07-17 16:46:10,022] Trial 72 finished with value: 0.048128342245989275 and parameters: {'booster': 'gbtree', 'learning_rate': 0.16242095805725995, 'max_depth': 5, 'subsample': 0.8082358884051282, 'colsample_bytree': 0.7697408409015551, 'lambda': 4.4573952928041005e-08, 'alpha': 0.0005879731364837368}. Best is trial 13 with value: 0.021052631578947323.\n"
     ]
    },
    {
     "name": "stdout",
     "output_type": "stream",
     "text": [
      "🏃 View run rogue-elk-122 at: http://127.0.0.1:8282/#/experiments/522595451471574861/runs/01553ee997fe489ebc8bf563d5e346be\n",
      "🧪 View experiment at: http://127.0.0.1:8282/#/experiments/522595451471574861\n"
     ]
    },
    {
     "name": "stderr",
     "output_type": "stream",
     "text": [
      "[I 2025-07-17 16:46:10,385] Trial 73 finished with value: 0.032258064516129004 and parameters: {'booster': 'gbtree', 'learning_rate': 0.18437290643796533, 'max_depth': 6, 'subsample': 0.8368899897106713, 'colsample_bytree': 0.7476527731848418, 'lambda': 1.0189680898679354e-07, 'alpha': 0.002348139479503067}. Best is trial 13 with value: 0.021052631578947323.\n"
     ]
    },
    {
     "name": "stdout",
     "output_type": "stream",
     "text": [
      "🏃 View run thundering-snail-256 at: http://127.0.0.1:8282/#/experiments/522595451471574861/runs/96cd71574b6e442c95d0989ea5fa982e\n",
      "🧪 View experiment at: http://127.0.0.1:8282/#/experiments/522595451471574861\n"
     ]
    },
    {
     "name": "stderr",
     "output_type": "stream",
     "text": [
      "[I 2025-07-17 16:46:10,730] Trial 74 finished with value: 0.021276595744680882 and parameters: {'booster': 'gbtree', 'learning_rate': 0.1796670847190412, 'max_depth': 6, 'subsample': 0.8419196124724215, 'colsample_bytree': 0.7436661935071145, 'lambda': 1.2848066760365725e-07, 'alpha': 0.04726456982111197}. Best is trial 13 with value: 0.021052631578947323.\n"
     ]
    },
    {
     "name": "stdout",
     "output_type": "stream",
     "text": [
      "🏃 View run indecisive-cod-630 at: http://127.0.0.1:8282/#/experiments/522595451471574861/runs/c509eb33e4b54bf797bb277ea540d31e\n",
      "🧪 View experiment at: http://127.0.0.1:8282/#/experiments/522595451471574861\n"
     ]
    },
    {
     "name": "stderr",
     "output_type": "stream",
     "text": [
      "[I 2025-07-17 16:46:11,079] Trial 75 finished with value: 0.043010752688172005 and parameters: {'booster': 'gbtree', 'learning_rate': 0.19681728892838504, 'max_depth': 6, 'subsample': 0.8233103787680729, 'colsample_bytree': 0.8766206977236223, 'lambda': 3.061280679550398e-08, 'alpha': 0.001797824290757862}. Best is trial 13 with value: 0.021052631578947323.\n"
     ]
    },
    {
     "name": "stdout",
     "output_type": "stream",
     "text": [
      "🏃 View run rumbling-fox-637 at: http://127.0.0.1:8282/#/experiments/522595451471574861/runs/1b810779bf7d4bc983dd5fc762ef1228\n",
      "🧪 View experiment at: http://127.0.0.1:8282/#/experiments/522595451471574861\n"
     ]
    },
    {
     "name": "stderr",
     "output_type": "stream",
     "text": [
      "[I 2025-07-17 16:46:11,465] Trial 76 finished with value: 0.07216494845360821 and parameters: {'booster': 'gblinear', 'learning_rate': 0.16374198426534678, 'max_depth': 7, 'subsample': 0.7460785556381093, 'colsample_bytree': 0.8418490208575142, 'lambda': 2.0080769252105687e-07, 'alpha': 0.05253486989341876}. Best is trial 13 with value: 0.021052631578947323.\n"
     ]
    },
    {
     "name": "stdout",
     "output_type": "stream",
     "text": [
      "🏃 View run bold-stoat-653 at: http://127.0.0.1:8282/#/experiments/522595451471574861/runs/a66c364338b849b689dc7f89aa1b2ec3\n",
      "🧪 View experiment at: http://127.0.0.1:8282/#/experiments/522595451471574861\n"
     ]
    },
    {
     "name": "stderr",
     "output_type": "stream",
     "text": [
      "[I 2025-07-17 16:46:11,830] Trial 77 finished with value: 0.05759162303664922 and parameters: {'booster': 'gbtree', 'learning_rate': 0.18235200581382394, 'max_depth': 6, 'subsample': 0.7183449949559841, 'colsample_bytree': 0.5063096807743686, 'lambda': 5.859008776278134e-08, 'alpha': 0.36655959427310614}. Best is trial 13 with value: 0.021052631578947323.\n"
     ]
    },
    {
     "name": "stdout",
     "output_type": "stream",
     "text": [
      "🏃 View run kindly-horse-506 at: http://127.0.0.1:8282/#/experiments/522595451471574861/runs/1ce737f9a25c498dba2b5a11ecf08f77\n",
      "🧪 View experiment at: http://127.0.0.1:8282/#/experiments/522595451471574861\n"
     ]
    },
    {
     "name": "stderr",
     "output_type": "stream",
     "text": [
      "[I 2025-07-17 16:46:12,143] Trial 78 finished with value: 0.02645502645502651 and parameters: {'booster': 'gbtree', 'learning_rate': 0.13462148590817685, 'max_depth': 6, 'subsample': 0.8581933984673827, 'colsample_bytree': 0.7768607899745427, 'lambda': 1.1951892975521794e-07, 'alpha': 0.01017723811454378}. Best is trial 13 with value: 0.021052631578947323.\n"
     ]
    },
    {
     "name": "stdout",
     "output_type": "stream",
     "text": [
      "🏃 View run sedate-crane-324 at: http://127.0.0.1:8282/#/experiments/522595451471574861/runs/957f15375e754985b12d79cc3c7c71cd\n",
      "🧪 View experiment at: http://127.0.0.1:8282/#/experiments/522595451471574861\n"
     ]
    },
    {
     "name": "stderr",
     "output_type": "stream",
     "text": [
      "[I 2025-07-17 16:46:12,491] Trial 79 finished with value: 0.02645502645502651 and parameters: {'booster': 'gbtree', 'learning_rate': 0.13210985323137747, 'max_depth': 6, 'subsample': 0.8613830271281336, 'colsample_bytree': 0.7445985862600111, 'lambda': 8.911571923915023e-08, 'alpha': 0.02580325103081544}. Best is trial 13 with value: 0.021052631578947323.\n"
     ]
    },
    {
     "name": "stdout",
     "output_type": "stream",
     "text": [
      "🏃 View run bemused-sponge-517 at: http://127.0.0.1:8282/#/experiments/522595451471574861/runs/935c6c95918744ff858d74378b6abe22\n",
      "🧪 View experiment at: http://127.0.0.1:8282/#/experiments/522595451471574861\n"
     ]
    },
    {
     "name": "stderr",
     "output_type": "stream",
     "text": [
      "[I 2025-07-17 16:46:12,826] Trial 80 finished with value: 0.05820105820105825 and parameters: {'booster': 'gbtree', 'learning_rate': 0.12897119056025397, 'max_depth': 7, 'subsample': 0.8590836674591272, 'colsample_bytree': 0.6982184433979819, 'lambda': 1.0602527264748159e-07, 'alpha': 0.02196791499550448}. Best is trial 13 with value: 0.021052631578947323.\n"
     ]
    },
    {
     "name": "stdout",
     "output_type": "stream",
     "text": [
      "🏃 View run gregarious-bat-795 at: http://127.0.0.1:8282/#/experiments/522595451471574861/runs/df461c8b3875492e85913f121986056a\n",
      "🧪 View experiment at: http://127.0.0.1:8282/#/experiments/522595451471574861\n"
     ]
    },
    {
     "name": "stderr",
     "output_type": "stream",
     "text": [
      "[I 2025-07-17 16:46:13,192] Trial 81 finished with value: 0.02645502645502651 and parameters: {'booster': 'gbtree', 'learning_rate': 0.14571106038249812, 'max_depth': 6, 'subsample': 0.8452351287918375, 'colsample_bytree': 0.7505596495116998, 'lambda': 4.0872737928526773e-07, 'alpha': 0.12003417992057999}. Best is trial 13 with value: 0.021052631578947323.\n"
     ]
    },
    {
     "name": "stdout",
     "output_type": "stream",
     "text": [
      "🏃 View run gregarious-fowl-54 at: http://127.0.0.1:8282/#/experiments/522595451471574861/runs/31b2217913604d2d9d4e3d6701324bed\n",
      "🧪 View experiment at: http://127.0.0.1:8282/#/experiments/522595451471574861\n"
     ]
    },
    {
     "name": "stderr",
     "output_type": "stream",
     "text": [
      "[I 2025-07-17 16:46:13,529] Trial 82 finished with value: 0.02645502645502651 and parameters: {'booster': 'gbtree', 'learning_rate': 0.1376398388197664, 'max_depth': 6, 'subsample': 0.8472603789031475, 'colsample_bytree': 0.7469317751543174, 'lambda': 3.546068696772605e-07, 'alpha': 0.18049595946086885}. Best is trial 13 with value: 0.021052631578947323.\n"
     ]
    },
    {
     "name": "stdout",
     "output_type": "stream",
     "text": [
      "🏃 View run respected-hawk-516 at: http://127.0.0.1:8282/#/experiments/522595451471574861/runs/88ee51a83bad4bfb84a8bf88cf17e0b6\n",
      "🧪 View experiment at: http://127.0.0.1:8282/#/experiments/522595451471574861\n"
     ]
    },
    {
     "name": "stderr",
     "output_type": "stream",
     "text": [
      "[I 2025-07-17 16:46:13,886] Trial 83 finished with value: 0.02645502645502651 and parameters: {'booster': 'gbtree', 'learning_rate': 0.13582401996654553, 'max_depth': 6, 'subsample': 0.8490397892166729, 'colsample_bytree': 0.7787426053411314, 'lambda': 3.7775253989877803e-07, 'alpha': 0.11245855845628965}. Best is trial 13 with value: 0.021052631578947323.\n"
     ]
    },
    {
     "name": "stdout",
     "output_type": "stream",
     "text": [
      "🏃 View run valuable-perch-0 at: http://127.0.0.1:8282/#/experiments/522595451471574861/runs/18783e87780c451db2e4055555c06c59\n",
      "🧪 View experiment at: http://127.0.0.1:8282/#/experiments/522595451471574861\n"
     ]
    },
    {
     "name": "stderr",
     "output_type": "stream",
     "text": [
      "[I 2025-07-17 16:46:14,218] Trial 84 finished with value: 0.03664921465968585 and parameters: {'booster': 'gbtree', 'learning_rate': 0.1333949532589568, 'max_depth': 6, 'subsample': 0.872250436057192, 'colsample_bytree': 0.729482156342451, 'lambda': 4.502756579884969e-07, 'alpha': 0.09903281168813331}. Best is trial 13 with value: 0.021052631578947323.\n"
     ]
    },
    {
     "name": "stdout",
     "output_type": "stream",
     "text": [
      "🏃 View run rebellious-shrew-294 at: http://127.0.0.1:8282/#/experiments/522595451471574861/runs/bf2c8c0cf8ff40689b0e718c7a0fe581\n",
      "🧪 View experiment at: http://127.0.0.1:8282/#/experiments/522595451471574861\n"
     ]
    },
    {
     "name": "stderr",
     "output_type": "stream",
     "text": [
      "[I 2025-07-17 16:46:14,575] Trial 85 finished with value: 0.05319148936170215 and parameters: {'booster': 'gbtree', 'learning_rate': 0.14615971379110798, 'max_depth': 6, 'subsample': 0.895690879605062, 'colsample_bytree': 0.779925259780079, 'lambda': 8.474533824085095e-07, 'alpha': 0.17370385112548592}. Best is trial 13 with value: 0.021052631578947323.\n"
     ]
    },
    {
     "name": "stdout",
     "output_type": "stream",
     "text": [
      "🏃 View run overjoyed-squid-234 at: http://127.0.0.1:8282/#/experiments/522595451471574861/runs/5db262d4af9d45e6b9070cf5c7de1a4e\n",
      "🧪 View experiment at: http://127.0.0.1:8282/#/experiments/522595451471574861\n"
     ]
    },
    {
     "name": "stderr",
     "output_type": "stream",
     "text": [
      "[I 2025-07-17 16:46:14,913] Trial 86 finished with value: 0.02645502645502651 and parameters: {'booster': 'gbtree', 'learning_rate': 0.11994283776677866, 'max_depth': 6, 'subsample': 0.860070941141551, 'colsample_bytree': 0.7992637139712975, 'lambda': 3.477854230915062e-07, 'alpha': 0.010440506324878824}. Best is trial 13 with value: 0.021052631578947323.\n"
     ]
    },
    {
     "name": "stdout",
     "output_type": "stream",
     "text": [
      "🏃 View run learned-skink-112 at: http://127.0.0.1:8282/#/experiments/522595451471574861/runs/f6ab7876369a4e8a8786aec93322a4db\n",
      "🧪 View experiment at: http://127.0.0.1:8282/#/experiments/522595451471574861\n"
     ]
    },
    {
     "name": "stderr",
     "output_type": "stream",
     "text": [
      "[I 2025-07-17 16:46:15,295] Trial 87 finished with value: 0.02645502645502651 and parameters: {'booster': 'gbtree', 'learning_rate': 0.11699233218077645, 'max_depth': 6, 'subsample': 0.8560993500668181, 'colsample_bytree': 0.7998848829132018, 'lambda': 2.76039929314897e-07, 'alpha': 0.008333580340947134}. Best is trial 13 with value: 0.021052631578947323.\n"
     ]
    },
    {
     "name": "stdout",
     "output_type": "stream",
     "text": [
      "🏃 View run grandiose-foal-105 at: http://127.0.0.1:8282/#/experiments/522595451471574861/runs/3247017d30ac47d78540396c6814e14a\n",
      "🧪 View experiment at: http://127.0.0.1:8282/#/experiments/522595451471574861\n"
     ]
    },
    {
     "name": "stderr",
     "output_type": "stream",
     "text": [
      "[I 2025-07-17 16:46:15,671] Trial 88 finished with value: 0.02645502645502651 and parameters: {'booster': 'gbtree', 'learning_rate': 0.11808123087572407, 'max_depth': 6, 'subsample': 0.8538534015947499, 'colsample_bytree': 0.7745596940315951, 'lambda': 3.256084002653386e-07, 'alpha': 0.012494836860244366}. Best is trial 13 with value: 0.021052631578947323.\n"
     ]
    },
    {
     "name": "stdout",
     "output_type": "stream",
     "text": [
      "🏃 View run bedecked-crow-408 at: http://127.0.0.1:8282/#/experiments/522595451471574861/runs/a477201ff4244e7c8025036a7d52a405\n",
      "🧪 View experiment at: http://127.0.0.1:8282/#/experiments/522595451471574861\n"
     ]
    },
    {
     "name": "stderr",
     "output_type": "stream",
     "text": [
      "[I 2025-07-17 16:46:16,063] Trial 89 finished with value: 0.04255319148936165 and parameters: {'booster': 'dart', 'learning_rate': 0.13771930826035492, 'max_depth': 6, 'subsample': 0.911547180130396, 'colsample_bytree': 0.7983376998599121, 'lambda': 1.3749872545281197e-08, 'alpha': 0.03079045447044375}. Best is trial 13 with value: 0.021052631578947323.\n"
     ]
    },
    {
     "name": "stdout",
     "output_type": "stream",
     "text": [
      "🏃 View run nebulous-wolf-962 at: http://127.0.0.1:8282/#/experiments/522595451471574861/runs/7dd38714838a4d86922ca4ecca4ca720\n",
      "🧪 View experiment at: http://127.0.0.1:8282/#/experiments/522595451471574861\n"
     ]
    },
    {
     "name": "stderr",
     "output_type": "stream",
     "text": [
      "[I 2025-07-17 16:46:16,482] Trial 90 finished with value: 0.04712041884816753 and parameters: {'booster': 'gbtree', 'learning_rate': 0.09974953007093407, 'max_depth': 6, 'subsample': 0.8851762497612754, 'colsample_bytree': 0.7124651358327733, 'lambda': 1.1494059582538782e-06, 'alpha': 0.22306973423621665}. Best is trial 13 with value: 0.021052631578947323.\n"
     ]
    },
    {
     "name": "stdout",
     "output_type": "stream",
     "text": [
      "🏃 View run awesome-midge-455 at: http://127.0.0.1:8282/#/experiments/522595451471574861/runs/cf9819addd2942aa9fb06ffada802572\n",
      "🧪 View experiment at: http://127.0.0.1:8282/#/experiments/522595451471574861\n"
     ]
    },
    {
     "name": "stderr",
     "output_type": "stream",
     "text": [
      "[I 2025-07-17 16:46:16,872] Trial 91 finished with value: 0.02645502645502651 and parameters: {'booster': 'gbtree', 'learning_rate': 0.12174295296001111, 'max_depth': 6, 'subsample': 0.8540969221615115, 'colsample_bytree': 0.77419639353596, 'lambda': 3.2570946955325593e-07, 'alpha': 0.010603631709153058}. Best is trial 13 with value: 0.021052631578947323.\n"
     ]
    },
    {
     "name": "stdout",
     "output_type": "stream",
     "text": [
      "🏃 View run industrious-doe-450 at: http://127.0.0.1:8282/#/experiments/522595451471574861/runs/4adf3cfcf4a74000b78253d848111dec\n",
      "🧪 View experiment at: http://127.0.0.1:8282/#/experiments/522595451471574861\n"
     ]
    },
    {
     "name": "stderr",
     "output_type": "stream",
     "text": [
      "[I 2025-07-17 16:46:17,253] Trial 92 finished with value: 0.02645502645502651 and parameters: {'booster': 'gbtree', 'learning_rate': 0.12049209520633192, 'max_depth': 6, 'subsample': 0.861659353142362, 'colsample_bytree': 0.7513833654535501, 'lambda': 3.7302341161093863e-07, 'alpha': 0.0858656172862541}. Best is trial 13 with value: 0.021052631578947323.\n"
     ]
    },
    {
     "name": "stdout",
     "output_type": "stream",
     "text": [
      "🏃 View run beautiful-goat-403 at: http://127.0.0.1:8282/#/experiments/522595451471574861/runs/527c3bea01f341c1a9da90a515bee80b\n",
      "🧪 View experiment at: http://127.0.0.1:8282/#/experiments/522595451471574861\n"
     ]
    },
    {
     "name": "stderr",
     "output_type": "stream",
     "text": [
      "[I 2025-07-17 16:46:17,614] Trial 93 finished with value: 0.03191489361702127 and parameters: {'booster': 'gbtree', 'learning_rate': 0.1312478419118119, 'max_depth': 6, 'subsample': 0.8662983807570012, 'colsample_bytree': 0.8156590315851046, 'lambda': 7.367055328210087e-08, 'alpha': 0.011844395751085124}. Best is trial 13 with value: 0.021052631578947323.\n"
     ]
    },
    {
     "name": "stdout",
     "output_type": "stream",
     "text": [
      "🏃 View run bemused-croc-478 at: http://127.0.0.1:8282/#/experiments/522595451471574861/runs/adac6e9627bb4c18b35c54d4c52c0b6a\n",
      "🧪 View experiment at: http://127.0.0.1:8282/#/experiments/522595451471574861\n"
     ]
    },
    {
     "name": "stderr",
     "output_type": "stream",
     "text": [
      "[I 2025-07-17 16:46:17,987] Trial 94 finished with value: 0.04761904761904767 and parameters: {'booster': 'gbtree', 'learning_rate': 0.1165616700023755, 'max_depth': 6, 'subsample': 0.9239440797571903, 'colsample_bytree': 0.7388428751863612, 'lambda': 2.1169367416648208e-08, 'alpha': 0.0055312337050015415}. Best is trial 13 with value: 0.021052631578947323.\n"
     ]
    },
    {
     "name": "stdout",
     "output_type": "stream",
     "text": [
      "🏃 View run whimsical-stork-423 at: http://127.0.0.1:8282/#/experiments/522595451471574861/runs/6fe550e540e644378b93fc44382b32af\n",
      "🧪 View experiment at: http://127.0.0.1:8282/#/experiments/522595451471574861\n"
     ]
    },
    {
     "name": "stderr",
     "output_type": "stream",
     "text": [
      "[I 2025-07-17 16:46:18,345] Trial 95 finished with value: 0.03191489361702127 and parameters: {'booster': 'gbtree', 'learning_rate': 0.14768111999460865, 'max_depth': 7, 'subsample': 0.8491361452045242, 'colsample_bytree': 0.7587438424808954, 'lambda': 2.1737110898595423e-06, 'alpha': 0.05540760769318922}. Best is trial 13 with value: 0.021052631578947323.\n"
     ]
    },
    {
     "name": "stdout",
     "output_type": "stream",
     "text": [
      "🏃 View run defiant-wolf-999 at: http://127.0.0.1:8282/#/experiments/522595451471574861/runs/a5977d85802f4993a47585feb4958ecf\n",
      "🧪 View experiment at: http://127.0.0.1:8282/#/experiments/522595451471574861\n"
     ]
    },
    {
     "name": "stderr",
     "output_type": "stream",
     "text": [
      "[I 2025-07-17 16:46:18,713] Trial 96 finished with value: 0.06598984771573602 and parameters: {'booster': 'gblinear', 'learning_rate': 0.15769178801719755, 'max_depth': 7, 'subsample': 0.872890104173824, 'colsample_bytree': 0.7890244734747416, 'lambda': 6.43356359253034e-07, 'alpha': 0.018202218600116365}. Best is trial 13 with value: 0.021052631578947323.\n"
     ]
    },
    {
     "name": "stdout",
     "output_type": "stream",
     "text": [
      "🏃 View run valuable-snipe-725 at: http://127.0.0.1:8282/#/experiments/522595451471574861/runs/033ba21a3bfa4fd5a6fa0391bc1c2ebd\n",
      "🧪 View experiment at: http://127.0.0.1:8282/#/experiments/522595451471574861\n"
     ]
    },
    {
     "name": "stderr",
     "output_type": "stream",
     "text": [
      "[I 2025-07-17 16:46:19,059] Trial 97 finished with value: 0.05820105820105825 and parameters: {'booster': 'gbtree', 'learning_rate': 0.1392084482850016, 'max_depth': 6, 'subsample': 0.8944526124638649, 'colsample_bytree': 0.6826883294232275, 'lambda': 3.414151331064691e-08, 'alpha': 0.6042948514266464}. Best is trial 13 with value: 0.021052631578947323.\n"
     ]
    },
    {
     "name": "stdout",
     "output_type": "stream",
     "text": [
      "🏃 View run defiant-shad-891 at: http://127.0.0.1:8282/#/experiments/522595451471574861/runs/8b620b55feba40449f618bf3a1ea10ff\n",
      "🧪 View experiment at: http://127.0.0.1:8282/#/experiments/522595451471574861\n"
     ]
    },
    {
     "name": "stderr",
     "output_type": "stream",
     "text": [
      "[I 2025-07-17 16:46:19,405] Trial 98 finished with value: 0.02617801047120416 and parameters: {'booster': 'gbtree', 'learning_rate': 0.1076478424922309, 'max_depth': 6, 'subsample': 0.8361261736451604, 'colsample_bytree': 0.7777713145340801, 'lambda': 1.465240314522959e-07, 'alpha': 0.03541022911355472}. Best is trial 13 with value: 0.021052631578947323.\n"
     ]
    },
    {
     "name": "stdout",
     "output_type": "stream",
     "text": [
      "🏃 View run shivering-rook-592 at: http://127.0.0.1:8282/#/experiments/522595451471574861/runs/b2ee7886f99b4de589a964d797ddb076\n",
      "🧪 View experiment at: http://127.0.0.1:8282/#/experiments/522595451471574861\n"
     ]
    },
    {
     "name": "stderr",
     "output_type": "stream",
     "text": [
      "[I 2025-07-17 16:46:19,758] Trial 99 finished with value: 0.03157894736842104 and parameters: {'booster': 'gbtree', 'learning_rate': 0.09376307500629269, 'max_depth': 6, 'subsample': 0.8385025179793716, 'colsample_bytree': 0.7346045481389699, 'lambda': 1.44060513179963e-07, 'alpha': 0.03168412368765118}. Best is trial 13 with value: 0.021052631578947323.\n"
     ]
    },
    {
     "name": "stdout",
     "output_type": "stream",
     "text": [
      "🏃 View run whimsical-whale-911 at: http://127.0.0.1:8282/#/experiments/522595451471574861/runs/d8f6d629d95841eab256078656922166\n",
      "🧪 View experiment at: http://127.0.0.1:8282/#/experiments/522595451471574861\n"
     ]
    },
    {
     "name": "stderr",
     "output_type": "stream",
     "text": [
      "2025/07/17 16:46:32 WARNING mlflow.utils.environment: Encountered an unexpected error while inferring pip requirements (model URI: C:\\Users\\VICTOR~1.FRA\\AppData\\Local\\Temp\\tmppy5gzq3v\\model, flavor: xgboost). Fall back to return ['xgboost==2.1.4']. Set logging level to DEBUG to see the full traceback. \n"
     ]
    },
    {
     "name": "stdout",
     "output_type": "stream",
     "text": [
      "🏃 View run experiment_1 at: http://127.0.0.1:8282/#/experiments/522595451471574861/runs/c589294d377c4f4daefbb06f03e00165\n",
      "🧪 View experiment at: http://127.0.0.1:8282/#/experiments/522595451471574861\n",
      "✅ Model and figures logged successfully — check the 'model/' folder in Artifacts.\n"
     ]
    }
   ],
   "source": [
    "# ----------------------------------------------------------\n",
    "# IMPORTS\n",
    "# ----------------------------------------------------------\n",
    "import math, optuna, mlflow, xgboost as xgb, tempfile, shutil\n",
    "from sklearn.metrics import f1_score, accuracy_score, log_loss\n",
    "from sklearn.model_selection import train_test_split\n",
    "try:\n",
    "    from mlflow.models.signature import infer_signature   # MLflow ≤ 3.1\n",
    "except ImportError:\n",
    "    from mlflow.models import infer_signature             # MLflow ≥ 3.2\n",
    "\n",
    "# ----------------------------------------------------------\n",
    "# PREPARE DATA (EXAMPLE)\n",
    "# ----------------------------------------------------------\n",
    "# Assume X and y already exist\n",
    "# X, y = ...\n",
    "\n",
    "X_train, X_test, y_train, y_test = train_test_split(X, y, test_size=0.3, random_state=123)\n",
    "\n",
    "# Convert to DMatrix for XGBoost\n",
    "dtrain = xgb.DMatrix(X_train, label=y_train)\n",
    "dtest = xgb.DMatrix(X_test, label=y_test)\n",
    "\n",
    "# ----------------------------------------------------------\n",
    "# EXPERIMENT / MAIN RUN\n",
    "# ----------------------------------------------------------\n",
    "run_name = \"experiment_1\"\n",
    "mlflow.set_experiment(experiment_id=id_experiment)\n",
    "\n",
    "with mlflow.start_run(run_name=run_name):\n",
    "\n",
    "    # 1) Run Optuna study\n",
    "    study = optuna.create_study(direction=\"minimize\")\n",
    "    study.optimize(optimize_hyperparameters, n_trials=100, callbacks=[f1_score_callback])\n",
    "\n",
    "    # 2) Log best parameters and metrics\n",
    "    mlflow.log_params(study.best_params)\n",
    "    mlflow.log_metric(\"best_f1_score\", 1.0 - study.best_value)  # Because we're minimizing 1 - f1\n",
    "    mlflow.set_tags({\n",
    "        \"project\": \"DSA MLOps Project 1\",\n",
    "        \"optimizer_engine\": \"optuna\",\n",
    "        \"model_family\": \"xgboost\",\n",
    "        \"task\": \"binary_classification\",\n",
    "        \"feature_set_version\": 1\n",
    "    })\n",
    "\n",
    "    # 3) Final training using best params\n",
    "    final_model = xgb.train(study.best_params, dtrain)\n",
    "\n",
    "    # 4) Log figures\n",
    "    y_pred_test = final_model.predict(dtest)\n",
    "    y_pred_binary = [1 if p > 0.5 else 0 for p in y_pred_test]\n",
    "\n",
    "    mlflow.log_figure(\n",
    "        plot_feature_importance(final_model, booster=study.best_params[\"booster\"]),\n",
    "        \"feature_importance.png\"\n",
    "    )\n",
    "    mlflow.log_figure(\n",
    "        plot_confusion_matrix(y_test, y_pred_binary),\n",
    "        \"confusion_matrix.png\"\n",
    "    )\n",
    "\n",
    "    # 5) Signature for model input/output\n",
    "    signature = infer_signature(X_train, final_model.predict(dtrain))\n",
    "\n",
    "    # ------------------------------------------------------\n",
    "    # 6) SAVE MODEL MANUALLY IN 'model/' FOLDER\n",
    "    # ------------------------------------------------------\n",
    "    tmp_dir = tempfile.mkdtemp()\n",
    "    model_save_path = f\"{tmp_dir}/model\"\n",
    "\n",
    "    mlflow.xgboost.save_model(\n",
    "        final_model,\n",
    "        path=model_save_path,\n",
    "        input_example=X_train.iloc[[0]],\n",
    "        signature=signature,\n",
    "        model_format=\"ubj\",\n",
    "        metadata={\"model_data_version\": 1}\n",
    "    )\n",
    "\n",
    "    mlflow.log_artifacts(model_save_path, artifact_path=\"model\")\n",
    "    shutil.rmtree(tmp_dir)\n",
    "\n",
    "print(\"✅ Model and figures logged successfully — check the 'model/' folder in Artifacts.\")\n"
   ]
  },
  {
   "cell_type": "code",
   "execution_count": null,
   "id": "4fb13686",
   "metadata": {},
   "outputs": [],
   "source": []
  },
  {
   "cell_type": "code",
   "execution_count": null,
   "id": "e28f0264",
   "metadata": {},
   "outputs": [],
   "source": []
  },
  {
   "cell_type": "code",
   "execution_count": null,
   "id": "6aa8fd77",
   "metadata": {},
   "outputs": [],
   "source": []
  }
 ],
 "metadata": {
  "kernelspec": {
   "display_name": "Python 3 (ipykernel)",
   "language": "python",
   "name": "python3"
  },
  "language_info": {
   "codemirror_mode": {
    "name": "ipython",
    "version": 3
   },
   "file_extension": ".py",
   "mimetype": "text/x-python",
   "name": "python",
   "nbconvert_exporter": "python",
   "pygments_lexer": "ipython3",
   "version": "3.9.12"
  }
 },
 "nbformat": 4,
 "nbformat_minor": 5
}
