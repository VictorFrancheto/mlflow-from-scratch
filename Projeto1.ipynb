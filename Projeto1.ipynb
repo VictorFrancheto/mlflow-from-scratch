{
 "cells": [
  {
   "cell_type": "markdown",
   "id": "ffe0c6d2",
   "metadata": {},
   "source": [
    "<!-- Projeto Desenvolvido na Data Science Academy - www.datascienceacademy.com.br -->\n",
    "# <font color='blue'>Data Science Academy</font>\n",
    "# <font color='blue'>MLOps e Ciclo de Vida de Modelos de Machine Learning</font>\n",
    "## <font color='blue'>Projeto 1</font>\n",
    "### <font color='blue'>MLOps Stack Para Otimização de Hiperparâmetros com MLflow e Optuna</font>"
   ]
  },
  {
   "cell_type": "markdown",
   "id": "4849fa32",
   "metadata": {},
   "source": [
    "## Instalação, Carregamento e Gerenciamento de Pacotes"
   ]
  },
  {
   "cell_type": "code",
   "execution_count": 1,
   "id": "a99210ec",
   "metadata": {},
   "outputs": [],
   "source": [
    "# Para atualizar um pacote, execute o comando abaixo no terminal ou prompt de comando:\n",
    "# pip install -U nome_pacote\n",
    "\n",
    "# Para instalar a versão exata de um pacote, execute o comando abaixo no terminal ou prompt de comando:\n",
    "# pip install nome_pacote==versão_desejada\n",
    "\n",
    "# Depois de instalar ou atualizar o pacote, reinicie o jupyter notebook.\n",
    "\n",
    "# Instala o pacote watermark. \n",
    "# Esse pacote é usado para gravar as versões de outros pacotes usados neste jupyter notebook.\n",
    "!pip install -q -U watermark"
   ]
  },
  {
   "cell_type": "code",
   "execution_count": 2,
   "id": "5cc46d34",
   "metadata": {},
   "outputs": [],
   "source": [
    "!pip install -q optuna"
   ]
  },
  {
   "cell_type": "code",
   "execution_count": 3,
   "id": "6bea0aed",
   "metadata": {},
   "outputs": [],
   "source": [
    "!pip install -q mlflow"
   ]
  },
  {
   "cell_type": "code",
   "execution_count": 4,
   "id": "7cda2405",
   "metadata": {},
   "outputs": [],
   "source": [
    "!pip install -q xgboost"
   ]
  },
  {
   "cell_type": "code",
   "execution_count": 1,
   "id": "7993147a",
   "metadata": {},
   "outputs": [],
   "source": [
    "# Imports\n",
    "import json\n",
    "import math\n",
    "import sklearn\n",
    "import optuna\n",
    "import mlflow\n",
    "import numpy as np\n",
    "import pandas as pd\n",
    "import xgboost as xgb\n",
    "import matplotlib.pyplot as plt\n",
    "import seaborn as sns\n",
    "from sklearn.metrics import mean_squared_error\n",
    "from sklearn.model_selection import train_test_split\n",
    "from datetime import datetime, timedelta\n",
    "import warnings\n",
    "warnings.filterwarnings('ignore')"
   ]
  },
  {
   "cell_type": "code",
   "execution_count": 2,
   "id": "b43ed47c",
   "metadata": {},
   "outputs": [
    {
     "name": "stdout",
     "output_type": "stream",
     "text": [
      "Author: Data Science Academy\n",
      "\n"
     ]
    }
   ],
   "source": [
    "# Versões dos pacotes usados neste jupyter notebook\n",
    "%reload_ext watermark\n",
    "%watermark -a \"Data Science Academy\" "
   ]
  },
  {
   "cell_type": "markdown",
   "id": "0f648147",
   "metadata": {},
   "source": [
    "## Inicializando o Servidor MLflow\n",
    "\n",
    "Abra um prompt de comando ou terminal, navegue até a pasta do projeto e digite o comando abaixo:\n",
    "\n",
    "mlflow server --host 127.0.0.1 --port 8282"
   ]
  },
  {
   "cell_type": "markdown",
   "id": "40e024bc",
   "metadata": {},
   "source": [
    "> Agora conectamos no servidor MLflow:"
   ]
  },
  {
   "cell_type": "code",
   "execution_count": 3,
   "id": "91e00516",
   "metadata": {},
   "outputs": [],
   "source": [
    "mlflow.set_tracking_uri(\"http://127.0.0.1:8282\")"
   ]
  },
  {
   "cell_type": "markdown",
   "id": "c3b9b330",
   "metadata": {},
   "source": [
    "Acesse a url acima a partir de outra aba no seu navegador: http://127.0.0.1:8282"
   ]
  },
  {
   "cell_type": "markdown",
   "id": "e43eb5c2",
   "metadata": {},
   "source": [
    "## Carregando e Compreendendo os Dados"
   ]
  },
  {
   "cell_type": "code",
   "execution_count": 4,
   "id": "efe77bea",
   "metadata": {},
   "outputs": [],
   "source": [
    "# Carrega o dataset\n",
    "df_dsa = pd.read_csv(\"dataset.csv\")"
   ]
  },
  {
   "cell_type": "code",
   "execution_count": 5,
   "id": "1c818250",
   "metadata": {},
   "outputs": [
    {
     "data": {
      "text/plain": [
       "(5000, 11)"
      ]
     },
     "execution_count": 5,
     "metadata": {},
     "output_type": "execute_result"
    }
   ],
   "source": [
    "# Shape\n",
    "df_dsa.shape"
   ]
  },
  {
   "cell_type": "code",
   "execution_count": 6,
   "id": "01ea8a01",
   "metadata": {},
   "outputs": [
    {
     "data": {
      "text/html": [
       "<div>\n",
       "<style scoped>\n",
       "    .dataframe tbody tr th:only-of-type {\n",
       "        vertical-align: middle;\n",
       "    }\n",
       "\n",
       "    .dataframe tbody tr th {\n",
       "        vertical-align: top;\n",
       "    }\n",
       "\n",
       "    .dataframe thead th {\n",
       "        text-align: right;\n",
       "    }\n",
       "</style>\n",
       "<table border=\"1\" class=\"dataframe\">\n",
       "  <thead>\n",
       "    <tr style=\"text-align: right;\">\n",
       "      <th></th>\n",
       "      <th>data</th>\n",
       "      <th>temperatura_media</th>\n",
       "      <th>precipitacao</th>\n",
       "      <th>fim_de_semana</th>\n",
       "      <th>feriado</th>\n",
       "      <th>preco_por_kg</th>\n",
       "      <th>promocao</th>\n",
       "      <th>demanda</th>\n",
       "      <th>demanda_dos_dias_anteriores</th>\n",
       "      <th>preco_por_kg_do_concorrente</th>\n",
       "      <th>intensidade_de_marketing</th>\n",
       "    </tr>\n",
       "  </thead>\n",
       "  <tbody>\n",
       "    <tr>\n",
       "      <th>0</th>\n",
       "      <td>2010-10-18 09:16:07.883826</td>\n",
       "      <td>30.584727</td>\n",
       "      <td>1.199291</td>\n",
       "      <td>0</td>\n",
       "      <td>0</td>\n",
       "      <td>1.726258</td>\n",
       "      <td>1</td>\n",
       "      <td>1051.375336</td>\n",
       "      <td>1051.276659</td>\n",
       "      <td>1.935346</td>\n",
       "      <td>0.098677</td>\n",
       "    </tr>\n",
       "    <tr>\n",
       "      <th>1</th>\n",
       "      <td>2010-10-19 09:16:07.883825</td>\n",
       "      <td>15.465069</td>\n",
       "      <td>1.037626</td>\n",
       "      <td>0</td>\n",
       "      <td>0</td>\n",
       "      <td>0.576471</td>\n",
       "      <td>1</td>\n",
       "      <td>1106.855943</td>\n",
       "      <td>1051.276659</td>\n",
       "      <td>2.344720</td>\n",
       "      <td>0.019318</td>\n",
       "    </tr>\n",
       "    <tr>\n",
       "      <th>2</th>\n",
       "      <td>2010-10-20 09:16:07.883824</td>\n",
       "      <td>10.786525</td>\n",
       "      <td>5.656089</td>\n",
       "      <td>0</td>\n",
       "      <td>0</td>\n",
       "      <td>2.513328</td>\n",
       "      <td>1</td>\n",
       "      <td>1008.304909</td>\n",
       "      <td>1106.836626</td>\n",
       "      <td>0.998803</td>\n",
       "      <td>0.409485</td>\n",
       "    </tr>\n",
       "    <tr>\n",
       "      <th>3</th>\n",
       "      <td>2010-10-21 09:16:07.883823</td>\n",
       "      <td>23.648154</td>\n",
       "      <td>12.030937</td>\n",
       "      <td>0</td>\n",
       "      <td>0</td>\n",
       "      <td>1.839225</td>\n",
       "      <td>1</td>\n",
       "      <td>999.833810</td>\n",
       "      <td>1057.895424</td>\n",
       "      <td>0.761740</td>\n",
       "      <td>0.872803</td>\n",
       "    </tr>\n",
       "    <tr>\n",
       "      <th>4</th>\n",
       "      <td>2010-10-22 09:16:07.883822</td>\n",
       "      <td>13.861391</td>\n",
       "      <td>4.303812</td>\n",
       "      <td>0</td>\n",
       "      <td>0</td>\n",
       "      <td>1.531772</td>\n",
       "      <td>1</td>\n",
       "      <td>1183.949061</td>\n",
       "      <td>1048.961007</td>\n",
       "      <td>2.123436</td>\n",
       "      <td>0.820779</td>\n",
       "    </tr>\n",
       "  </tbody>\n",
       "</table>\n",
       "</div>"
      ],
      "text/plain": [
       "                         data  temperatura_media  precipitacao  fim_de_semana  \\\n",
       "0  2010-10-18 09:16:07.883826          30.584727      1.199291              0   \n",
       "1  2010-10-19 09:16:07.883825          15.465069      1.037626              0   \n",
       "2  2010-10-20 09:16:07.883824          10.786525      5.656089              0   \n",
       "3  2010-10-21 09:16:07.883823          23.648154     12.030937              0   \n",
       "4  2010-10-22 09:16:07.883822          13.861391      4.303812              0   \n",
       "\n",
       "   feriado  preco_por_kg  promocao      demanda  demanda_dos_dias_anteriores  \\\n",
       "0        0      1.726258         1  1051.375336                  1051.276659   \n",
       "1        0      0.576471         1  1106.855943                  1051.276659   \n",
       "2        0      2.513328         1  1008.304909                  1106.836626   \n",
       "3        0      1.839225         1   999.833810                  1057.895424   \n",
       "4        0      1.531772         1  1183.949061                  1048.961007   \n",
       "\n",
       "   preco_por_kg_do_concorrente  intensidade_de_marketing  \n",
       "0                     1.935346                  0.098677  \n",
       "1                     2.344720                  0.019318  \n",
       "2                     0.998803                  0.409485  \n",
       "3                     0.761740                  0.872803  \n",
       "4                     2.123436                  0.820779  "
      ]
     },
     "execution_count": 6,
     "metadata": {},
     "output_type": "execute_result"
    }
   ],
   "source": [
    "# Amostra dos dados\n",
    "df_dsa.head()"
   ]
  },
  {
   "cell_type": "code",
   "execution_count": 7,
   "id": "38d12051",
   "metadata": {},
   "outputs": [
    {
     "name": "stdout",
     "output_type": "stream",
     "text": [
      "<class 'pandas.core.frame.DataFrame'>\n",
      "RangeIndex: 5000 entries, 0 to 4999\n",
      "Data columns (total 11 columns):\n",
      " #   Column                       Non-Null Count  Dtype  \n",
      "---  ------                       --------------  -----  \n",
      " 0   data                         5000 non-null   object \n",
      " 1   temperatura_media            5000 non-null   float64\n",
      " 2   precipitacao                 5000 non-null   float64\n",
      " 3   fim_de_semana                5000 non-null   int64  \n",
      " 4   feriado                      5000 non-null   int64  \n",
      " 5   preco_por_kg                 5000 non-null   float64\n",
      " 6   promocao                     5000 non-null   int64  \n",
      " 7   demanda                      5000 non-null   float64\n",
      " 8   demanda_dos_dias_anteriores  5000 non-null   float64\n",
      " 9   preco_por_kg_do_concorrente  5000 non-null   float64\n",
      " 10  intensidade_de_marketing     5000 non-null   float64\n",
      "dtypes: float64(7), int64(3), object(1)\n",
      "memory usage: 429.8+ KB\n"
     ]
    }
   ],
   "source": [
    "# Tipos dos dados\n",
    "df_dsa.info()"
   ]
  },
  {
   "cell_type": "code",
   "execution_count": 8,
   "id": "a583b94a",
   "metadata": {},
   "outputs": [],
   "source": [
    "# Vamos ajustar a coluna de data para o tipo correto\n",
    "df_dsa['data'] = pd.to_datetime(df_dsa['data'])"
   ]
  },
  {
   "cell_type": "code",
   "execution_count": 9,
   "id": "5331f7b7",
   "metadata": {},
   "outputs": [
    {
     "name": "stdout",
     "output_type": "stream",
     "text": [
      "<class 'pandas.core.frame.DataFrame'>\n",
      "RangeIndex: 5000 entries, 0 to 4999\n",
      "Data columns (total 11 columns):\n",
      " #   Column                       Non-Null Count  Dtype         \n",
      "---  ------                       --------------  -----         \n",
      " 0   data                         5000 non-null   datetime64[ns]\n",
      " 1   temperatura_media            5000 non-null   float64       \n",
      " 2   precipitacao                 5000 non-null   float64       \n",
      " 3   fim_de_semana                5000 non-null   int64         \n",
      " 4   feriado                      5000 non-null   int64         \n",
      " 5   preco_por_kg                 5000 non-null   float64       \n",
      " 6   promocao                     5000 non-null   int64         \n",
      " 7   demanda                      5000 non-null   float64       \n",
      " 8   demanda_dos_dias_anteriores  5000 non-null   float64       \n",
      " 9   preco_por_kg_do_concorrente  5000 non-null   float64       \n",
      " 10  intensidade_de_marketing     5000 non-null   float64       \n",
      "dtypes: datetime64[ns](1), float64(7), int64(3)\n",
      "memory usage: 429.8 KB\n"
     ]
    }
   ],
   "source": [
    "# Tipos dos dados\n",
    "df_dsa.info()"
   ]
  },
  {
   "cell_type": "code",
   "execution_count": 10,
   "id": "09279747",
   "metadata": {},
   "outputs": [
    {
     "data": {
      "text/html": [
       "<div>\n",
       "<style scoped>\n",
       "    .dataframe tbody tr th:only-of-type {\n",
       "        vertical-align: middle;\n",
       "    }\n",
       "\n",
       "    .dataframe tbody tr th {\n",
       "        vertical-align: top;\n",
       "    }\n",
       "\n",
       "    .dataframe thead th {\n",
       "        text-align: right;\n",
       "    }\n",
       "</style>\n",
       "<table border=\"1\" class=\"dataframe\">\n",
       "  <thead>\n",
       "    <tr style=\"text-align: right;\">\n",
       "      <th></th>\n",
       "      <th>temperatura_media</th>\n",
       "      <th>precipitacao</th>\n",
       "      <th>fim_de_semana</th>\n",
       "      <th>feriado</th>\n",
       "      <th>preco_por_kg</th>\n",
       "      <th>promocao</th>\n",
       "      <th>demanda</th>\n",
       "      <th>demanda_dos_dias_anteriores</th>\n",
       "      <th>preco_por_kg_do_concorrente</th>\n",
       "      <th>intensidade_de_marketing</th>\n",
       "    </tr>\n",
       "  </thead>\n",
       "  <tbody>\n",
       "    <tr>\n",
       "      <th>count</th>\n",
       "      <td>5000.000000</td>\n",
       "      <td>5000.000000</td>\n",
       "      <td>5000.000000</td>\n",
       "      <td>5000.000000</td>\n",
       "      <td>5000.000000</td>\n",
       "      <td>5000.000000</td>\n",
       "      <td>5000.000000</td>\n",
       "      <td>5000.000000</td>\n",
       "      <td>5000.000000</td>\n",
       "      <td>5000.000000</td>\n",
       "    </tr>\n",
       "    <tr>\n",
       "      <th>mean</th>\n",
       "      <td>22.433182</td>\n",
       "      <td>4.962877</td>\n",
       "      <td>0.285600</td>\n",
       "      <td>0.033000</td>\n",
       "      <td>1.758228</td>\n",
       "      <td>0.289000</td>\n",
       "      <td>1258.452333</td>\n",
       "      <td>1282.446665</td>\n",
       "      <td>1.769682</td>\n",
       "      <td>0.848173</td>\n",
       "    </tr>\n",
       "    <tr>\n",
       "      <th>std</th>\n",
       "      <td>7.146610</td>\n",
       "      <td>4.932382</td>\n",
       "      <td>0.451745</td>\n",
       "      <td>0.178654</td>\n",
       "      <td>0.725334</td>\n",
       "      <td>0.453343</td>\n",
       "      <td>253.240475</td>\n",
       "      <td>249.087488</td>\n",
       "      <td>0.721041</td>\n",
       "      <td>0.093135</td>\n",
       "    </tr>\n",
       "    <tr>\n",
       "      <th>min</th>\n",
       "      <td>10.002439</td>\n",
       "      <td>0.000071</td>\n",
       "      <td>0.000000</td>\n",
       "      <td>0.000000</td>\n",
       "      <td>0.500360</td>\n",
       "      <td>0.000000</td>\n",
       "      <td>707.952882</td>\n",
       "      <td>757.216503</td>\n",
       "      <td>0.500754</td>\n",
       "      <td>0.019318</td>\n",
       "    </tr>\n",
       "    <tr>\n",
       "      <th>25%</th>\n",
       "      <td>16.311898</td>\n",
       "      <td>1.440718</td>\n",
       "      <td>0.000000</td>\n",
       "      <td>0.000000</td>\n",
       "      <td>1.134110</td>\n",
       "      <td>0.000000</td>\n",
       "      <td>1066.040653</td>\n",
       "      <td>1089.993191</td>\n",
       "      <td>1.160719</td>\n",
       "      <td>0.773080</td>\n",
       "    </tr>\n",
       "    <tr>\n",
       "      <th>50%</th>\n",
       "      <td>22.400265</td>\n",
       "      <td>3.520515</td>\n",
       "      <td>0.000000</td>\n",
       "      <td>0.000000</td>\n",
       "      <td>1.776194</td>\n",
       "      <td>0.000000</td>\n",
       "      <td>1222.237635</td>\n",
       "      <td>1244.619215</td>\n",
       "      <td>1.764809</td>\n",
       "      <td>0.848107</td>\n",
       "    </tr>\n",
       "    <tr>\n",
       "      <th>75%</th>\n",
       "      <td>28.570768</td>\n",
       "      <td>6.805668</td>\n",
       "      <td>1.000000</td>\n",
       "      <td>0.000000</td>\n",
       "      <td>2.383638</td>\n",
       "      <td>1.000000</td>\n",
       "      <td>1422.792698</td>\n",
       "      <td>1445.791858</td>\n",
       "      <td>2.401827</td>\n",
       "      <td>0.928536</td>\n",
       "    </tr>\n",
       "    <tr>\n",
       "      <th>max</th>\n",
       "      <td>34.995334</td>\n",
       "      <td>40.072693</td>\n",
       "      <td>1.000000</td>\n",
       "      <td>1.000000</td>\n",
       "      <td>2.999606</td>\n",
       "      <td>1.000000</td>\n",
       "      <td>2183.463942</td>\n",
       "      <td>2182.608701</td>\n",
       "      <td>2.999847</td>\n",
       "      <td>0.999979</td>\n",
       "    </tr>\n",
       "  </tbody>\n",
       "</table>\n",
       "</div>"
      ],
      "text/plain": [
       "       temperatura_media  precipitacao  fim_de_semana      feriado  \\\n",
       "count        5000.000000   5000.000000    5000.000000  5000.000000   \n",
       "mean           22.433182      4.962877       0.285600     0.033000   \n",
       "std             7.146610      4.932382       0.451745     0.178654   \n",
       "min            10.002439      0.000071       0.000000     0.000000   \n",
       "25%            16.311898      1.440718       0.000000     0.000000   \n",
       "50%            22.400265      3.520515       0.000000     0.000000   \n",
       "75%            28.570768      6.805668       1.000000     0.000000   \n",
       "max            34.995334     40.072693       1.000000     1.000000   \n",
       "\n",
       "       preco_por_kg     promocao      demanda  demanda_dos_dias_anteriores  \\\n",
       "count   5000.000000  5000.000000  5000.000000                  5000.000000   \n",
       "mean       1.758228     0.289000  1258.452333                  1282.446665   \n",
       "std        0.725334     0.453343   253.240475                   249.087488   \n",
       "min        0.500360     0.000000   707.952882                   757.216503   \n",
       "25%        1.134110     0.000000  1066.040653                  1089.993191   \n",
       "50%        1.776194     0.000000  1222.237635                  1244.619215   \n",
       "75%        2.383638     1.000000  1422.792698                  1445.791858   \n",
       "max        2.999606     1.000000  2183.463942                  2182.608701   \n",
       "\n",
       "       preco_por_kg_do_concorrente  intensidade_de_marketing  \n",
       "count                  5000.000000               5000.000000  \n",
       "mean                      1.769682                  0.848173  \n",
       "std                       0.721041                  0.093135  \n",
       "min                       0.500754                  0.019318  \n",
       "25%                       1.160719                  0.773080  \n",
       "50%                       1.764809                  0.848107  \n",
       "75%                       2.401827                  0.928536  \n",
       "max                       2.999847                  0.999979  "
      ]
     },
     "execution_count": 10,
     "metadata": {},
     "output_type": "execute_result"
    }
   ],
   "source": [
    "# Resumo estatístico\n",
    "df_dsa.describe()"
   ]
  },
  {
   "cell_type": "markdown",
   "id": "b0b05013",
   "metadata": {},
   "source": [
    "<!-- Projeto Desenvolvido na Data Science Academy - www.datascienceacademy.com.br -->\n",
    "## Carregando e Compreendendo os Metadados (Dicionário)"
   ]
  },
  {
   "cell_type": "code",
   "execution_count": 11,
   "id": "89285f8b",
   "metadata": {},
   "outputs": [],
   "source": [
    "# Carrega o arquivo JSON\n",
    "with open('dicionario_de_dados.json', 'r') as arquivo:\n",
    "    dicionario_de_dados = json.load(arquivo)"
   ]
  },
  {
   "cell_type": "code",
   "execution_count": 12,
   "id": "27fa13e9",
   "metadata": {},
   "outputs": [],
   "source": [
    "# Cria um DataFrame a partir do dicionário de metadados\n",
    "df_dict = pd.DataFrame.from_dict(dicionario_de_dados, orient = 'index')"
   ]
  },
  {
   "cell_type": "code",
   "execution_count": 13,
   "id": "1c05b880",
   "metadata": {},
   "outputs": [],
   "source": [
    "# Não truncar colunas no Pandas\n",
    "pd.set_option('display.max_colwidth', None)"
   ]
  },
  {
   "cell_type": "code",
   "execution_count": 14,
   "id": "9977aab2",
   "metadata": {},
   "outputs": [
    {
     "data": {
      "text/html": [
       "<div>\n",
       "<style scoped>\n",
       "    .dataframe tbody tr th:only-of-type {\n",
       "        vertical-align: middle;\n",
       "    }\n",
       "\n",
       "    .dataframe tbody tr th {\n",
       "        vertical-align: top;\n",
       "    }\n",
       "\n",
       "    .dataframe thead th {\n",
       "        text-align: right;\n",
       "    }\n",
       "</style>\n",
       "<table border=\"1\" class=\"dataframe\">\n",
       "  <thead>\n",
       "    <tr style=\"text-align: right;\">\n",
       "      <th></th>\n",
       "      <th>descrição</th>\n",
       "      <th>tipo</th>\n",
       "    </tr>\n",
       "  </thead>\n",
       "  <tbody>\n",
       "    <tr>\n",
       "      <th>data</th>\n",
       "      <td>Data e hora em que os dados foram registrados.</td>\n",
       "      <td>datetime</td>\n",
       "    </tr>\n",
       "    <tr>\n",
       "      <th>temperatura_media</th>\n",
       "      <td>Temperatura média registrada na data.</td>\n",
       "      <td>float</td>\n",
       "    </tr>\n",
       "    <tr>\n",
       "      <th>precipitacao</th>\n",
       "      <td>Quantidade de precipitação registrada na data.</td>\n",
       "      <td>float</td>\n",
       "    </tr>\n",
       "    <tr>\n",
       "      <th>fim_de_semana</th>\n",
       "      <td>Indica se o dia é um fim de semana (1) ou não (0).</td>\n",
       "      <td>int</td>\n",
       "    </tr>\n",
       "    <tr>\n",
       "      <th>feriado</th>\n",
       "      <td>Indica se o dia é um feriado (1) ou não (0).</td>\n",
       "      <td>int</td>\n",
       "    </tr>\n",
       "    <tr>\n",
       "      <th>preco_por_kg</th>\n",
       "      <td>Preço por kg do produto vendido.</td>\n",
       "      <td>float</td>\n",
       "    </tr>\n",
       "    <tr>\n",
       "      <th>promocao</th>\n",
       "      <td>Indica se havia uma promoção ativa (1) ou não (0).</td>\n",
       "      <td>int</td>\n",
       "    </tr>\n",
       "    <tr>\n",
       "      <th>demanda</th>\n",
       "      <td>Demanda do produto na data.</td>\n",
       "      <td>float</td>\n",
       "    </tr>\n",
       "    <tr>\n",
       "      <th>demanda_dos_dias_anteriores</th>\n",
       "      <td>Demanda do produto no dia anterior.</td>\n",
       "      <td>float</td>\n",
       "    </tr>\n",
       "    <tr>\n",
       "      <th>preco_por_kg_do_concorrente</th>\n",
       "      <td>Preço por kg do produto oferecido por um concorrente.</td>\n",
       "      <td>float</td>\n",
       "    </tr>\n",
       "    <tr>\n",
       "      <th>intensidade_de_marketing</th>\n",
       "      <td>Nível de intensidade das atividades de marketing (campanhas, anúncios) relacionadas ao produto.</td>\n",
       "      <td>float</td>\n",
       "    </tr>\n",
       "  </tbody>\n",
       "</table>\n",
       "</div>"
      ],
      "text/plain": [
       "                                                                                                                   descrição  \\\n",
       "data                                                                          Data e hora em que os dados foram registrados.   \n",
       "temperatura_media                                                                      Temperatura média registrada na data.   \n",
       "precipitacao                                                                  Quantidade de precipitação registrada na data.   \n",
       "fim_de_semana                                                             Indica se o dia é um fim de semana (1) ou não (0).   \n",
       "feriado                                                                         Indica se o dia é um feriado (1) ou não (0).   \n",
       "preco_por_kg                                                                                Preço por kg do produto vendido.   \n",
       "promocao                                                                  Indica se havia uma promoção ativa (1) ou não (0).   \n",
       "demanda                                                                                          Demanda do produto na data.   \n",
       "demanda_dos_dias_anteriores                                                              Demanda do produto no dia anterior.   \n",
       "preco_por_kg_do_concorrente                                            Preço por kg do produto oferecido por um concorrente.   \n",
       "intensidade_de_marketing     Nível de intensidade das atividades de marketing (campanhas, anúncios) relacionadas ao produto.   \n",
       "\n",
       "                                 tipo  \n",
       "data                         datetime  \n",
       "temperatura_media               float  \n",
       "precipitacao                    float  \n",
       "fim_de_semana                     int  \n",
       "feriado                           int  \n",
       "preco_por_kg                    float  \n",
       "promocao                          int  \n",
       "demanda                         float  \n",
       "demanda_dos_dias_anteriores     float  \n",
       "preco_por_kg_do_concorrente     float  \n",
       "intensidade_de_marketing        float  "
      ]
     },
     "execution_count": 14,
     "metadata": {},
     "output_type": "execute_result"
    }
   ],
   "source": [
    "df_dict"
   ]
  },
  {
   "cell_type": "markdown",
   "id": "bb72dea8",
   "metadata": {},
   "source": [
    "<!-- Projeto Desenvolvido na Data Science Academy - www.datascienceacademy.com.br -->\n",
    "## Funções de Exploração e Visualização dos Dados Para o Experimento"
   ]
  },
  {
   "cell_type": "code",
   "execution_count": 15,
   "id": "7ea503a6",
   "metadata": {},
   "outputs": [],
   "source": [
    "# Função para o plot da correlação das variáveis preditoras com a variável alvo (demanda)\n",
    "def dsa_plot_corr_demanda(df, save_path = None):\n",
    "\n",
    "    # Calcula as correlações das variáveis com a demanda, exceto a própria demanda\n",
    "    correlations = df.corr()[\"demanda\"].drop(\"demanda\").sort_values()\n",
    "\n",
    "    # Define uma paleta de cores divergentes\n",
    "    colors = sns.diverging_palette(10, 130, as_cmap = True)\n",
    "    \n",
    "    # Mapeia as cores às correlações\n",
    "    color_mapped = correlations.map(colors)\n",
    "\n",
    "    # Define o estilo do gráfico\n",
    "    sns.set_style(\"darkgrid\", {\"axes.facecolor\": \"#eaeaf2\", \"grid.linewidth\": 1.5})\n",
    "\n",
    "    # Cria a figura do plot com tamanho definido\n",
    "    fig = plt.figure(figsize = (12, 8))\n",
    "    \n",
    "    # Cria um gráfico de barras horizontais para as correlações\n",
    "    plt.barh(correlations.index, correlations.values, color = color_mapped)\n",
    "\n",
    "    # Define o título e os rótulos dos eixos do gráfico\n",
    "    plt.title(\"Correlação com Demanda\", fontsize = 16)\n",
    "    plt.xlabel(\"Coeficiente de Correlação\", fontsize = 14)\n",
    "    plt.ylabel(\"Variável\", fontsize = 14)\n",
    "    plt.xticks(fontsize = 12)\n",
    "    plt.yticks(fontsize = 12)\n",
    "    plt.grid(axis=\"x\")\n",
    "\n",
    "    # Ajusta o layout para evitar sobreposição\n",
    "    plt.tight_layout()\n",
    "\n",
    "    # Salva o gráfico como um arquivo PNG, se um caminho for fornecido\n",
    "    if save_path:\n",
    "        plt.savefig(save_path, format = \"png\", dpi = 600)\n",
    "\n",
    "    # Fecha a figura para liberar memória\n",
    "    plt.close(fig)\n",
    "\n",
    "    # Retorna a figura criada\n",
    "    return fig"
   ]
  },
  {
   "cell_type": "code",
   "execution_count": 16,
   "id": "0a535b19",
   "metadata": {},
   "outputs": [],
   "source": [
    "# Executa a função\n",
    "dsa_grafico1 = dsa_plot_corr_demanda(df_dsa)"
   ]
  },
  {
   "cell_type": "code",
   "execution_count": 17,
   "id": "913116c8",
   "metadata": {},
   "outputs": [
    {
     "data": {
      "image/png": "[encoded data removed]",
      "text/plain": [
       "<Figure size 864x576 with 1 Axes>"
      ]
     },
     "execution_count": 17,
     "metadata": {},
     "output_type": "execute_result"
    }
   ],
   "source": [
    "dsa_grafico1"
   ]
  },
  {
   "cell_type": "code",
   "execution_count": 18,
   "id": "8ffbda13",
   "metadata": {},
   "outputs": [],
   "source": [
    "# Função para plot dos resíduos do modelo\n",
    "def dsa_plot_residuos(model, dvalid, valid_y, save_path = None):\n",
    "\n",
    "    # Faz as previsões no conjunto de validação\n",
    "    preds = model.predict(dvalid)\n",
    "\n",
    "    # Calcula os resíduos (diferença entre valores reais e previstos)\n",
    "    residuals = valid_y - preds\n",
    "\n",
    "    # Define o estilo do gráfico para 'whitegrid'\n",
    "    sns.set_style(\"whitegrid\", {\"axes.facecolor\": \"#c2c4c2\", \"grid.linewidth\": 1.5})\n",
    "\n",
    "    # Cria a figura do plot com tamanho definido\n",
    "    fig = plt.figure(figsize = (12, 8))\n",
    "    \n",
    "    # Cria um gráfico de dispersão dos valores reais versus resíduos\n",
    "    plt.scatter(valid_y, residuals, color = \"blue\", alpha = 0.5)\n",
    "    \n",
    "    # Adiciona uma linha horizontal em y=0\n",
    "    plt.axhline(y = 0, color = \"r\", linestyle = \"-\")\n",
    "\n",
    "    # Define o título e os rótulos dos eixos do gráfico\n",
    "    plt.title(\"Resíduos x Valores Reais\", fontsize = 16)\n",
    "    plt.xlabel(\"Valores Reais\", fontsize = 14)\n",
    "    plt.ylabel(\"Resíduos\", fontsize = 14)\n",
    "    plt.xticks(fontsize = 14)\n",
    "    plt.yticks(fontsize = 14)\n",
    "    plt.grid(axis = \"y\")\n",
    "\n",
    "    # Ajusta o layout para evitar sobreposição\n",
    "    plt.tight_layout()\n",
    "\n",
    "    # Salva o gráfico como um arquivo PNG, se um caminho for fornecido\n",
    "    if save_path:\n",
    "        plt.savefig(save_path, format = \"png\", dpi = 600)\n",
    "\n",
    "    # Fecha a figura para liberar memória\n",
    "    plt.close(fig)\n",
    "\n",
    "    # Retorna a figura criada\n",
    "    return fig"
   ]
  },
  {
   "cell_type": "code",
   "execution_count": 19,
   "id": "015240fb",
   "metadata": {},
   "outputs": [],
   "source": [
    "# Função para plot da importância das variáveis\n",
    "def dsa_plot_feature_importance(model, booster):\n",
    "\n",
    "    # Cria a figura e o eixo para o plot com tamanho definido\n",
    "    fig, ax = plt.subplots(figsize = (10, 8))\n",
    "    \n",
    "    # Define o tipo de importância como \"weight\" se o booster for \"gblinear\", caso contrário \"gain\"\n",
    "    importance_type = \"weight\" if booster == \"gblinear\" else \"gain\"\n",
    "    \n",
    "    # Plot das importância das variáveis usando o XGBoost\n",
    "    xgb.plot_importance(model,\n",
    "                        importance_type = importance_type,\n",
    "                        ax = ax,\n",
    "                        title = f\"Feature Importance baseada em {importance_type}\")\n",
    "    \n",
    "    # Ajusta o layout para evitar sobreposição\n",
    "    plt.tight_layout()\n",
    "    \n",
    "    # Fecha a figura para liberar memória\n",
    "    plt.close(fig)\n",
    "\n",
    "    # Retorna a figura criada\n",
    "    return fig"
   ]
  },
  {
   "cell_type": "markdown",
   "id": "615e2984",
   "metadata": {},
   "source": [
    "## Criando o Experimento no MLflow"
   ]
  },
  {
   "cell_type": "code",
   "execution_count": 20,
   "id": "25a952e7",
   "metadata": {},
   "outputs": [],
   "source": [
    "# Função para criar o experimento\n",
    "def dsa_cria_experimento(experiment_name):\n",
    "\n",
    "    # Verifica se o experimento já existe pelo nome\n",
    "    if experiment := mlflow.get_experiment_by_name(experiment_name):\n",
    "        # Se o experimento existir, retorna seu ID\n",
    "        return experiment.experiment_id\n",
    "    else:\n",
    "        # Se o experimento não existir, cria um novo e retorna seu ID\n",
    "        return mlflow.create_experiment(experiment_name)"
   ]
  },
  {
   "cell_type": "code",
   "execution_count": 21,
   "id": "c75632ed",
   "metadata": {},
   "outputs": [],
   "source": [
    "# Cria o experimento\n",
    "id_experimento_dsa_p1 = dsa_cria_experimento(\"DSAProjeto1\")"
   ]
  },
  {
   "cell_type": "code",
   "execution_count": 22,
   "id": "fb61c897",
   "metadata": {},
   "outputs": [
    {
     "data": {
      "text/plain": [
       "'692186374947409346'"
      ]
     },
     "execution_count": 22,
     "metadata": {},
     "output_type": "execute_result"
    }
   ],
   "source": [
    "# Experimento criado\n",
    "id_experimento_dsa_p1"
   ]
  },
  {
   "cell_type": "markdown",
   "id": "9cbb827e",
   "metadata": {},
   "source": [
    "Visualize no seu navegador: http://127.0.0.1:8282"
   ]
  },
  {
   "cell_type": "code",
   "execution_count": 23,
   "id": "62926423",
   "metadata": {},
   "outputs": [
    {
     "data": {
      "text/plain": [
       "<Experiment: artifact_location='mlflow-artifacts:/692186374947409346', creation_time=1752665430453, experiment_id='692186374947409346', last_update_time=1752665430453, lifecycle_stage='active', name='DSAProjeto1', tags={}>"
      ]
     },
     "execution_count": 23,
     "metadata": {},
     "output_type": "execute_result"
    }
   ],
   "source": [
    "# Define o experimento MLflow ativo atual\n",
    "mlflow.set_experiment(experiment_id = id_experimento_dsa_p1)"
   ]
  },
  {
   "cell_type": "markdown",
   "id": "c3dd9bd5",
   "metadata": {},
   "source": [
    "<!-- Projeto Desenvolvido na Data Science Academy - www.datascienceacademy.com.br -->\n",
    "## Pré-Processamento dos Dados Para o Experimento\n",
    "\n",
    "Acompanhe o videobook no Capítulo 6 do curso."
   ]
  },
  {
   "cell_type": "code",
   "execution_count": 24,
   "id": "efe0eb62",
   "metadata": {},
   "outputs": [],
   "source": [
    "# Separa em X e y\n",
    "X = df_dsa.drop(columns = [\"data\", \"demanda\"])\n",
    "y = df_dsa[\"demanda\"]"
   ]
  },
  {
   "cell_type": "code",
   "execution_count": 25,
   "id": "7874751c",
   "metadata": {},
   "outputs": [],
   "source": [
    "# Divide os dados em treino e validação\n",
    "x_treino, x_valid, y_treino, y_valid = train_test_split(X, y, test_size = 0.25)"
   ]
  },
  {
   "cell_type": "code",
   "execution_count": 26,
   "id": "8bcdae2f",
   "metadata": {},
   "outputs": [],
   "source": [
    "# Coloca os dados no formato de matriz do XGBoost\n",
    "dsa_treino = xgb.DMatrix(x_treino, label = y_treino)\n",
    "dsa_valid = xgb.DMatrix(x_valid, label = y_valid)"
   ]
  },
  {
   "cell_type": "code",
   "execution_count": 27,
   "id": "96f63eee",
   "metadata": {},
   "outputs": [],
   "source": [
    "# Substitui o registro padrão do Optuna apenas para ERROR\n",
    "optuna.logging.set_verbosity(optuna.logging.ERROR)"
   ]
  },
  {
   "cell_type": "markdown",
   "id": "d60cdd40",
   "metadata": {},
   "source": [
    "## Definindo o Callback de Logging\n",
    "\n",
    "Registro de retorno de chamada que informará quando uma nova iteração de teste melhorar a existente."
   ]
  },
  {
   "cell_type": "code",
   "execution_count": 28,
   "id": "fbc55220",
   "metadata": {},
   "outputs": [],
   "source": [
    "# Função de callback\n",
    "def dsa_callback(study, frozen_trial):\n",
    "\n",
    "    # Obtém o valor atual do \"winner\" (vencedor) dos atributos do estudo\n",
    "    winner = study.user_attrs.get(\"winner\", None)\n",
    "\n",
    "    # Verifica se há um novo melhor valor e se o \"winner\" não é igual ao melhor valor\n",
    "    if study.best_value and winner != study.best_value:\n",
    "        \n",
    "        # Define o novo melhor valor como \"winner\"\n",
    "        study.set_user_attr(\"winner\", study.best_value)\n",
    "        \n",
    "        # Se havia um \"winner\" anterior\n",
    "        if winner:\n",
    "            \n",
    "            # Calcula a porcentagem de melhoria em relação ao \"winner\" anterior\n",
    "            improvement_percent = (abs(winner - study.best_value) / study.best_value) * 100\n",
    "            \n",
    "            # Imprime o número da tentativa, o valor alcançado e a porcentagem de melhoria\n",
    "            print(\n",
    "                f\"Tentativa {frozen_trial.number} alcançou o valor: {frozen_trial.value} com \"\n",
    "                f\"{improvement_percent: .4f}% de melhora na métrica de avaliação.\")\n",
    "        else:\n",
    "            # Se não havia um \"winner\" anterior, imprime o número da tentativa inicial e o valor alcançado\n",
    "            print(\n",
    "                f\"Tentativa inicial {frozen_trial.number} alcançou o valor: \"\n",
    "                f\"{frozen_trial.value} na métrica de avaliação.\")"
   ]
  },
  {
   "cell_type": "markdown",
   "id": "e769c66b",
   "metadata": {},
   "source": [
    "## Definindo os Hiperparâmetros do XGBoost Para o Experimento\n",
    "\n",
    "Acompanhe o videobook no Capítulo 6 do curso."
   ]
  },
  {
   "cell_type": "code",
   "execution_count": 29,
   "id": "5ce91cd1",
   "metadata": {},
   "outputs": [],
   "source": [
    "# Função para definir os hiperparâmetros que serão otimizados\n",
    "def dsa_otimiza_hiperparametro(trial):\n",
    "    \n",
    "    # Inicia uma nova execução de MLflow\n",
    "    with mlflow.start_run(nested = True):\n",
    "        \n",
    "        # Define os hiperparâmetros básicos do modelo\n",
    "        params = {\n",
    "            \n",
    "            # Função alvo (objetivo)\n",
    "            \"objective\": \"reg:squarederror\",\n",
    "            \n",
    "            # Métrica de avaliação\n",
    "            \"eval_metric\": \"rmse\",\n",
    "            \n",
    "            # Tipo de booster (algoritmo de treinamento)\n",
    "            \"booster\": trial.suggest_categorical(\"booster\", [\"gbtree\", \"gblinear\", \"dart\"]),\n",
    "            \n",
    "            # Valor de lambda para regularização L2\n",
    "            \"lambda\": trial.suggest_float(\"lambda\", 1e-8, 1.0, log = True),\n",
    "            \n",
    "            # Valor de alpha para regularização L1\n",
    "            \"alpha\": trial.suggest_float(\"alpha\", 1e-8, 1.0, log = True),\n",
    "        }\n",
    "\n",
    "        # Se o booster for 'gbtree' ou 'dart', adiciona parâmetros específicos\n",
    "        if params[\"booster\"] == \"gbtree\" or params[\"booster\"] == \"dart\":\n",
    "            \n",
    "            # Profundidade máxima da árvore\n",
    "            params[\"max_depth\"] = trial.suggest_int(\"max_depth\", 1, 9)\n",
    "            \n",
    "            # Valor de eta (taxa de aprendizado)\n",
    "            params[\"eta\"] = trial.suggest_float(\"eta\", 1e-8, 1.0, log=True)\n",
    "            \n",
    "            # Valor de gamma para regularização adicional\n",
    "            params[\"gamma\"] = trial.suggest_float(\"gamma\", 1e-8, 1.0, log=True)\n",
    "            \n",
    "            # Política de crescimento das árvores\n",
    "            params[\"grow_policy\"] = trial.suggest_categorical(\n",
    "                \"grow_policy\", [\"depthwise\", \"lossguide\"]\n",
    "            )\n",
    "\n",
    "        # Treina o modelo com os hiperparâmetros escolhidos\n",
    "        bst = xgb.train(params, dsa_treino)\n",
    "        \n",
    "        # Faz previsões no conjunto de validação\n",
    "        preds = bst.predict(dsa_valid)\n",
    "        \n",
    "        # Calcula o erro quadrático médio\n",
    "        error = mean_squared_error(y_valid, preds)\n",
    "\n",
    "        # Registra os parâmetros no MLflow\n",
    "        mlflow.log_params(params)\n",
    "        \n",
    "        # Registra o MSE no MLflow\n",
    "        mlflow.log_metric(\"mse\", error)\n",
    "        \n",
    "        # Registra o RMSE no MLflow\n",
    "        mlflow.log_metric(\"rmse\", math.sqrt(error))\n",
    "\n",
    "    # Retorna o erro calculado\n",
    "    return error"
   ]
  },
  {
   "cell_type": "markdown",
   "id": "55a79051",
   "metadata": {},
   "source": [
    "## Executando o Experimento com MLflow e Optuna"
   ]
  },
  {
   "cell_type": "code",
   "execution_count": 30,
   "id": "6fe2677e",
   "metadata": {},
   "outputs": [],
   "source": [
    "# Nome para a execução no MLflow\n",
    "run_name = \"dsa_p1\""
   ]
  },
  {
   "cell_type": "code",
   "execution_count": 35,
   "id": "aae514b9",
   "metadata": {},
   "outputs": [
    {
     "name": "stdout",
     "output_type": "stream",
     "text": [
      "Tentativa inicial 0 alcançou o valor: 19461.12984824287 na métrica de avaliação.\n",
      "Tentativa 11 alcançou o valor: 19286.061371589745 com  0.9077% de melhora na métrica de avaliação.\n",
      "Tentativa 14 alcançou o valor: 19210.258177653282 com  0.3946% de melhora na métrica de avaliação.\n",
      "Tentativa 17 alcançou o valor: 19090.124655126874 com  0.6293% de melhora na métrica de avaliação.\n",
      "Tentativa 26 alcançou o valor: 19032.126097767657 com  0.3047% de melhora na métrica de avaliação.\n",
      "Tentativa 28 alcançou o valor: 18498.824250214286 com  2.8829% de melhora na métrica de avaliação.\n",
      "Tentativa 41 alcançou o valor: 18000.910703678524 com  2.7660% de melhora na métrica de avaliação.\n",
      "Tentativa 47 alcançou o valor: 17429.578193901692 com  3.2779% de melhora na métrica de avaliação.\n",
      "Tentativa 49 alcançou o valor: 17317.130291511443 com  0.6493% de melhora na métrica de avaliação.\n",
      "Tentativa 55 alcançou o valor: 17224.267065005482 com  0.5391% de melhora na métrica de avaliação.\n",
      "Tentativa 86 alcançou o valor: 16434.377974419283 com  4.8063% de melhora na métrica de avaliação.\n",
      "Tentativa 134 alcançou o valor: 16205.140019723778 com  1.4146% de melhora na métrica de avaliação.\n",
      "Tentativa 135 alcançou o valor: 16146.722023765698 com  0.3618% de melhora na métrica de avaliação.\n",
      "Tentativa 149 alcançou o valor: 16081.869621023237 com  0.4033% de melhora na métrica de avaliação.\n",
      "Tentativa 154 alcançou o valor: 16038.073908365273 com  0.2731% de melhora na métrica de avaliação.\n",
      "Tentativa 170 alcançou o valor: 15979.180475742774 com  0.3686% de melhora na métrica de avaliação.\n",
      "Tentativa 171 alcançou o valor: 15979.165628547675 com  0.0001% de melhora na métrica de avaliação.\n",
      "Tentativa 172 alcançou o valor: 15913.937612681806 com  0.4099% de melhora na métrica de avaliação.\n",
      "Tentativa 281 alcançou o valor: 15913.097270252842 com  0.0053% de melhora na métrica de avaliação.\n"
     ]
    }
   ],
   "source": [
    "# Inicia a execução de ajuste de hiperparâmetros\n",
    "with mlflow.start_run(experiment_id = id_experimento_dsa_p1, run_name = run_name, nested = True):\n",
    "    \n",
    "    # Cria um estudo Optuna para otimização de hiperparâmetros para minimizar a função alvo (função de erro)\n",
    "    study = optuna.create_study(direction = \"minimize\")\n",
    "\n",
    "    # Otimiza os hiperparâmetros com 500 tentativas, usando a função de callback\n",
    "    study.optimize(dsa_otimiza_hiperparametro, n_trials = 500, callbacks = [dsa_callback])\n",
    "\n",
    "    # Registra os melhores hiperparâmetros encontrados no MLflow\n",
    "    mlflow.log_params(study.best_params)\n",
    "    \n",
    "    # Registra o melhor valor de MSE encontrado no MLflow\n",
    "    mlflow.log_metric(\"best_mse\", study.best_value)\n",
    "    \n",
    "    # Calcula e registra o melhor valor de RMSE no MLflow\n",
    "    mlflow.log_metric(\"best_rmse\", math.sqrt(study.best_value))\n",
    "\n",
    "    # Define tags para a execução no MLflow\n",
    "    mlflow.set_tags(tags = {\"project\": \"DSA MLOps Projeto 1\",\n",
    "                            \"optimizer_engine\": \"optuna\",\n",
    "                            \"model_family\": \"xgboost\",\n",
    "                            \"feature_set_version\": 1})\n",
    "\n",
    "    # Treina o modelo com os melhores parâmetros encontrados\n",
    "    model = xgb.train(study.best_params, dsa_treino)\n",
    "\n",
    "    # Registra o gráfico dsa_grafico1 no MLflow\n",
    "    mlflow.log_figure(figure = dsa_grafico1, artifact_file = \"dsa_grafico1.png\")\n",
    "\n",
    "    # Plota e registra a importância das variáveis no MLflow\n",
    "    importances = dsa_plot_feature_importance(model, booster = study.best_params.get(\"booster\"))\n",
    "    mlflow.log_figure(figure = importances, artifact_file = \"dsa_grafico2.png\")\n",
    "\n",
    "    # Plota e registra os resíduos no MLflow\n",
    "    residuals = dsa_plot_residuos(model, dsa_valid, y_valid)\n",
    "    mlflow.log_figure(figure = residuals, artifact_file = \"dsa_grafico3.png\")\n",
    "\n",
    "    # Define o caminho do artefato do modelo\n",
    "    artifact_path = \"model\"\n",
    "\n",
    "    # Registra o modelo treinado no MLflow\n",
    "    mlflow.xgboost.log_model(xgb_model = model,\n",
    "                             artifact_path = artifact_path,\n",
    "                             input_example = x_treino.iloc[[0]],\n",
    "                             model_format = \"ubj\",\n",
    "                             metadata = {\"model_data_version\": 1})\n",
    "\n",
    "    # Obtém a URI do artefato do modelo registrado\n",
    "    model_uri = mlflow.get_artifact_uri(artifact_path)"
   ]
  },
  {
   "cell_type": "markdown",
   "id": "a3958e43",
   "metadata": {},
   "source": [
    "Visualize no seu navegador: http://127.0.0.1:8282"
   ]
  },
  {
   "cell_type": "code",
   "execution_count": 31,
   "id": "c4943085",
   "metadata": {
    "scrolled": true
   },
   "outputs": [
    {
     "name": "stdout",
     "output_type": "stream",
     "text": [
      "🏃 View run intrigued-stag-645 at: http://127.0.0.1:8282/#/experiments/692186374947409346/runs/5cce1bee80c647108eac845ba666f0bc\n",
      "🧪 View experiment at: http://127.0.0.1:8282/#/experiments/692186374947409346\n",
      "Tentativa inicial 0 alcançou o valor: 21717.775875463045 na métrica de avaliação.\n",
      "🏃 View run powerful-crow-214 at: http://127.0.0.1:8282/#/experiments/692186374947409346/runs/e22bdd0df0e6450689d2b3c40d8e394e\n",
      "🧪 View experiment at: http://127.0.0.1:8282/#/experiments/692186374947409346\n",
      "Tentativa 1 alcançou o valor: 19587.045024203286 com  10.8783% de melhora na métrica de avaliação.\n",
      "🏃 View run shivering-toad-840 at: http://127.0.0.1:8282/#/experiments/692186374947409346/runs/36747fecead24e43b226d72466862487\n",
      "🧪 View experiment at: http://127.0.0.1:8282/#/experiments/692186374947409346\n",
      "🏃 View run painted-stork-84 at: http://127.0.0.1:8282/#/experiments/692186374947409346/runs/3847a3e704a140da85a29e1e38b83432\n",
      "🧪 View experiment at: http://127.0.0.1:8282/#/experiments/692186374947409346\n",
      "🏃 View run resilient-kit-209 at: http://127.0.0.1:8282/#/experiments/692186374947409346/runs/623dea4de5b04c37bf3277974480b39a\n",
      "🧪 View experiment at: http://127.0.0.1:8282/#/experiments/692186374947409346\n",
      "🏃 View run silent-cow-974 at: http://127.0.0.1:8282/#/experiments/692186374947409346/runs/73b4b0ff70124a069920f56086b3137c\n",
      "🧪 View experiment at: http://127.0.0.1:8282/#/experiments/692186374947409346\n",
      "🏃 View run enthused-ant-386 at: http://127.0.0.1:8282/#/experiments/692186374947409346/runs/6cbf976c31fb48939da7b5ca16ead0c2\n",
      "🧪 View experiment at: http://127.0.0.1:8282/#/experiments/692186374947409346\n",
      "🏃 View run shivering-hawk-759 at: http://127.0.0.1:8282/#/experiments/692186374947409346/runs/bbd9f0c050974b81a5f55af3401033a3\n",
      "🧪 View experiment at: http://127.0.0.1:8282/#/experiments/692186374947409346\n",
      "🏃 View run unleashed-chimp-257 at: http://127.0.0.1:8282/#/experiments/692186374947409346/runs/c4d1547709c444c585ab3885d55fd901\n",
      "🧪 View experiment at: http://127.0.0.1:8282/#/experiments/692186374947409346\n",
      "🏃 View run defiant-koi-97 at: http://127.0.0.1:8282/#/experiments/692186374947409346/runs/96ef164f63eb45328b17a323643f259a\n",
      "🧪 View experiment at: http://127.0.0.1:8282/#/experiments/692186374947409346\n",
      "Tentativa 9 alcançou o valor: 16470.82257773251 com  18.9197% de melhora na métrica de avaliação.\n"
     ]
    },
    {
     "name": "stderr",
     "output_type": "stream",
     "text": [
      "2025/07/16 08:31:12 WARNING mlflow.utils.environment: Encountered an unexpected error while inferring pip requirements (model URI: C:\\Users\\VICTOR~1.FRA\\AppData\\Local\\Temp\\tmp1dj382q2\\model, flavor: xgboost). Fall back to return ['xgboost==2.1.4']. Set logging level to DEBUG to see the full traceback. \n"
     ]
    },
    {
     "name": "stdout",
     "output_type": "stream",
     "text": [
      "🏃 View run dsa_p1 at: http://127.0.0.1:8282/#/experiments/692186374947409346/runs/963afca8b94b45319402e032c777e6a8\n",
      "🧪 View experiment at: http://127.0.0.1:8282/#/experiments/692186374947409346\n",
      "✅ Modelo e gráficos salvos – veja se 'model/' aparece agora em Artifacts.\n"
     ]
    }
   ],
   "source": [
    "# ----------------------------------------------------------\n",
    "# IMPORTS\n",
    "# ----------------------------------------------------------\n",
    "import math, optuna, mlflow, xgboost as xgb, tempfile, shutil\n",
    "from sklearn.metrics import mean_squared_error\n",
    "try:\n",
    "    from mlflow.models.signature import infer_signature   # MLflow ≤ 3.1\n",
    "except ImportError:\n",
    "    from mlflow.models import infer_signature             # MLflow ≥ 3.2\n",
    "\n",
    "# ----------------------------------------------------------\n",
    "# EXPERIMENTO / RUN PRINCIPAL\n",
    "# ----------------------------------------------------------\n",
    "run_name = \"dsa_p1\"\n",
    "mlflow.set_experiment(experiment_id=id_experimento_dsa_p1)\n",
    "\n",
    "with mlflow.start_run(run_name=run_name):\n",
    "\n",
    "    # 1) Otuna (500 trials, nested internamente)\n",
    "    study = optuna.create_study(direction=\"minimize\")\n",
    "    study.optimize(dsa_otimiza_hiperparametro, n_trials=10, callbacks=[dsa_callback])\n",
    "\n",
    "    # 2) log melhores params / métricas\n",
    "    mlflow.log_params(study.best_params)\n",
    "    mlflow.log_metric(\"best_mse\", study.best_value)\n",
    "    mlflow.log_metric(\"best_rmse\", math.sqrt(study.best_value))\n",
    "    mlflow.set_tags({\n",
    "        \"project\": \"DSA MLOps Projeto 1\",\n",
    "        \"optimizer_engine\": \"optuna\",\n",
    "        \"model_family\": \"xgboost\",\n",
    "        \"feature_set_version\": 1\n",
    "    })\n",
    "\n",
    "    # 3) treino final\n",
    "    model = xgb.train(study.best_params, dsa_treino)\n",
    "\n",
    "    # 4) figuras na raiz\n",
    "    mlflow.log_figure(dsa_grafico1, \"dsa_grafico1.png\")\n",
    "    mlflow.log_figure(\n",
    "        dsa_plot_feature_importance(model, booster=study.best_params[\"booster\"]),\n",
    "        \"dsa_grafico2.png\"\n",
    "    )\n",
    "    mlflow.log_figure(\n",
    "        dsa_plot_residuos(model, dsa_valid, y_valid),\n",
    "        \"dsa_grafico3.png\"\n",
    "    )\n",
    "\n",
    "    # 5) assinatura\n",
    "    signature = infer_signature(x_treino, model.predict(dsa_valid))\n",
    "\n",
    "    # ------------------------------------------------------\n",
    "    # 6) SALVA → LOGA MANUALMENTE A PASTA `model/`\n",
    "    # ------------------------------------------------------\n",
    "    tmp_dir = tempfile.mkdtemp()                # cria dir temporário\n",
    "    xgb_save_path = f\"{tmp_dir}/model\"          # (sub)pasta 'model' dentro dele\n",
    "\n",
    "    # salva o booster (+ MLmodel, conda.yml etc.)\n",
    "    mlflow.xgboost.save_model(\n",
    "        model,\n",
    "        path            = xgb_save_path,\n",
    "        input_example   = x_treino.iloc[[0]],\n",
    "        signature       = signature,\n",
    "        model_format    = \"ubj\",\n",
    "        metadata        = {\"model_data_version\": 1}\n",
    "    )\n",
    "\n",
    "    # faz o upload da pasta inteira como artefato \"model/\"\n",
    "    mlflow.log_artifacts(xgb_save_path, artifact_path=\"model\")\n",
    "\n",
    "    # limpa o temp dir local\n",
    "    shutil.rmtree(tmp_dir)\n",
    "\n",
    "print(\"✅ Modelo e gráficos salvos – veja se 'model/' aparece agora em Artifacts.\")\n"
   ]
  },
  {
   "cell_type": "markdown",
   "id": "bff1551a",
   "metadata": {},
   "source": [
    "## Carregando o Modelo a Partir dos Artefatos"
   ]
  },
  {
   "cell_type": "code",
   "execution_count": 32,
   "id": "2f0e38af",
   "metadata": {},
   "outputs": [
    {
     "name": "stdout",
     "output_type": "stream",
     "text": [
      "RUN pai  : 963afca8b94b45319402e032c777e6a8\n",
      "URI base : mlflow-artifacts:/692186374947409346/963afca8b94b45319402e032c777e6a8/artifacts\n"
     ]
    }
   ],
   "source": [
    "from mlflow.tracking import MlflowClient\n",
    "\n",
    "client = MlflowClient()\n",
    "\n",
    "# Filtra exatamente o run pelo nome\n",
    "papa = client.search_runs(\n",
    "    experiment_ids=[id_experimento_dsa_p1],\n",
    "    filter_string='tag.mlflow.runName = \"dsa_p1\"')[0]   # pega o primeiro (deve ser só 1)\n",
    "\n",
    "run_id_pai = papa.info.run_id\n",
    "print(\"RUN pai  :\", run_id_pai)\n",
    "print(\"URI base :\", papa.info.artifact_uri)   # ← URI absoluta exibida na UI\n",
    "\n",
    "\n"
   ]
  },
  {
   "cell_type": "code",
   "execution_count": 37,
   "id": "6c8c4a4f",
   "metadata": {},
   "outputs": [
    {
     "data": {
      "text/plain": [
       "'mlflow-artifacts:/692186374947409346/963afca8b94b45319402e032c777e6a8/artifacts/model'"
      ]
     },
     "execution_count": 37,
     "metadata": {},
     "output_type": "execute_result"
    }
   ],
   "source": [
    "model_uri_abs\n"
   ]
  },
  {
   "cell_type": "code",
   "execution_count": 40,
   "id": "ab15270f",
   "metadata": {},
   "outputs": [],
   "source": [
    "# Forma curta\n",
    "model_uri = f\"runs:/{run_id_pai}/model\"\n",
    "\n",
    "# Forma absoluta (equivalente, se preferir copiar/colar da UI)\n",
    "model_uri_abs = f\"{papa.info.artifact_uri}/model/\"\n"
   ]
  },
  {
   "cell_type": "code",
   "execution_count": 41,
   "id": "ec5b8be1",
   "metadata": {},
   "outputs": [
    {
     "data": {
      "application/vnd.jupyter.widget-view+json": {
       "model_id": "b67fddcbd1d9484aaa9ee680c6b8f452",
       "version_major": 2,
       "version_minor": 0
      },
      "text/plain": [
       "Downloading artifacts:   0%|          | 0/7 [00:00<?, ?it/s]"
      ]
     },
     "metadata": {},
     "output_type": "display_data"
    },
    {
     "name": "stdout",
     "output_type": "stream",
     "text": [
      "booster    : gbtree\n",
      "max_depth  : 6\n",
      "eta        : 0.300000012\n",
      "gamma      : 0\n",
      "reg_lambda : 1\n",
      "reg_alpha  : 0\n",
      "grow_policy: depthwise\n"
     ]
    }
   ],
   "source": [
    "import mlflow.xgboost\n",
    "booster = mlflow.xgboost.load_model(model_uri_abs)   # ou model_uri_abs\n",
    "\n",
    "# Confere hiperparâmetros (flatten_last)\n",
    "import json\n",
    "def flatten_last(d):\n",
    "    out, stack = {}, [d]\n",
    "    while stack:\n",
    "        cur = stack.pop()\n",
    "        for k, v in cur.items():\n",
    "            if isinstance(v, dict):\n",
    "                stack.append(v)\n",
    "            else:\n",
    "                out[k] = v          # mantém o último (real)\n",
    "    return out\n",
    "\n",
    "flat = flatten_last(json.loads(booster.save_config())[\"learner\"])\n",
    "for p in [\"booster\", \"max_depth\", \"eta\", \"gamma\", \"reg_lambda\", \"reg_alpha\", \"grow_policy\"]:\n",
    "    print(f\"{p:11}: {flat.get(p)}\")\n"
   ]
  },
  {
   "cell_type": "code",
   "execution_count": 43,
   "id": "1da19ce3",
   "metadata": {},
   "outputs": [
    {
     "data": {
      "application/vnd.jupyter.widget-view+json": {
       "model_id": "59475d70851a4706b0e32d0da74411d2",
       "version_major": 2,
       "version_minor": 0
      },
      "text/plain": [
       "Downloading artifacts:   0%|          | 0/7 [00:00<?, ?it/s]"
      ]
     },
     "metadata": {},
     "output_type": "display_data"
    }
   ],
   "source": [
    "dsa_melhor_modelo = mlflow.xgboost.load_model(model_uri_abs)"
   ]
  },
  {
   "cell_type": "code",
   "execution_count": 47,
   "id": "c78d2623",
   "metadata": {},
   "outputs": [
    {
     "name": "stdout",
     "output_type": "stream",
     "text": [
      "booster    : gbtree\n",
      "max_depth  : 6\n",
      "eta        : 0.300000012\n",
      "gamma      : 0\n",
      "lambda     : 1\n",
      "alpha      : 0\n",
      "grow_policy: depthwise\n"
     ]
    }
   ],
   "source": [
    "import json\n",
    "\n",
    "def flatten_keep_last(d):\n",
    "    \"\"\"\n",
    "    Varre recursivamente um dicionário e devolve outro com todas\n",
    "    as folhas; se uma chave aparece várias vezes, fica o **último** valor.\n",
    "    \"\"\"\n",
    "    flat, pilha = {}, [d]\n",
    "    while pilha:\n",
    "        node = pilha.pop()\n",
    "        for k, v in node.items():\n",
    "            if isinstance(v, dict):\n",
    "                pilha.append(v)\n",
    "            else:\n",
    "                flat[k] = v          # sobrescreve sempre → guarda o valor real\n",
    "    return flat\n",
    "\n",
    "# lê a configuração completa do Booster\n",
    "cfg = json.loads(dsa_melhor_modelo.save_config())\n",
    "\n",
    "# achatamos só o bloco \"learner\" — o resto (training settings) não interessa aqui\n",
    "flat = flatten_keep_last(cfg[\"learner\"])\n",
    "\n",
    "# parâmetros que você salvou no MLflow\n",
    "for p in [\"booster\", \"max_depth\", \"eta\", \"gamma\",\n",
    "          \"lambda\", \"alpha\", \"grow_policy\"]:\n",
    "    print(f\"{p:11}: {flat.get(p)}\")\n"
   ]
  },
  {
   "cell_type": "code",
   "execution_count": 48,
   "id": "a65f1cf7",
   "metadata": {},
   "outputs": [
    {
     "name": "stdout",
     "output_type": "stream",
     "text": [
      "RMSE reproduzido: 128.33870257148664\n"
     ]
    }
   ],
   "source": [
    "from sklearn.metrics import mean_squared_error\n",
    "import numpy as np\n",
    "\n",
    "rmse = np.sqrt(mean_squared_error(y_valid,\n",
    "                                  dsa_melhor_modelo.predict(dsa_valid)))\n",
    "print(\"RMSE reproduzido:\", rmse)\n"
   ]
  },
  {
   "cell_type": "code",
   "execution_count": 49,
   "id": "fa927949",
   "metadata": {},
   "outputs": [],
   "source": [
    "import json\n",
    "\n",
    "def hiperparams_reais(booster):\n",
    "    \"\"\"\n",
    "    Retorna dicionário com hiperparâmetros tal como foram\n",
    "    usados no treino (sobrepõe defaults e resolve sinônimos).\n",
    "    \"\"\"\n",
    "    cfg  = json.loads(booster.save_config())[\"learner\"]\n",
    "\n",
    "    # 1. Achata mantendo o ÚLTIMO valor de cada chave\n",
    "    flat = {}\n",
    "    stack = [cfg]\n",
    "    while stack:\n",
    "        node = stack.pop()\n",
    "        for k, v in node.items():\n",
    "            if isinstance(v, dict):\n",
    "                stack.append(v)\n",
    "            else:\n",
    "                flat[k] = v          # sobrepõe sempre\n",
    "\n",
    "    # 2. Normaliza sinônimos\n",
    "    if \"reg_lambda\" in flat and \"lambda\" not in flat:\n",
    "        flat[\"lambda\"] = flat[\"reg_lambda\"]\n",
    "    if \"reg_alpha\" in flat and \"alpha\" not in flat:\n",
    "        flat[\"alpha\"] = flat[\"reg_alpha\"]\n",
    "\n",
    "    return {k: flat.get(k) for k in\n",
    "            [\"booster\", \"max_depth\", \"eta\",\n",
    "             \"gamma\", \"lambda\", \"alpha\", \"grow_policy\"]}\n"
   ]
  },
  {
   "cell_type": "code",
   "execution_count": 50,
   "id": "8c992779",
   "metadata": {},
   "outputs": [
    {
     "name": "stdout",
     "output_type": "stream",
     "text": [
      "{'booster': 'gbtree', 'max_depth': '6', 'eta': '0.300000012', 'gamma': '0', 'lambda': '1', 'alpha': '0', 'grow_policy': 'depthwise'}\n"
     ]
    }
   ],
   "source": [
    "hp_reais = hiperparams_reais(dsa_melhor_modelo)\n",
    "print(hp_reais)\n"
   ]
  },
  {
   "cell_type": "code",
   "execution_count": null,
   "id": "a9fefaf3",
   "metadata": {},
   "outputs": [],
   "source": []
  },
  {
   "cell_type": "code",
   "execution_count": null,
   "id": "cb46d4e8",
   "metadata": {},
   "outputs": [],
   "source": []
  },
  {
   "cell_type": "code",
   "execution_count": null,
   "id": "1cdee726",
   "metadata": {},
   "outputs": [],
   "source": []
  },
  {
   "cell_type": "code",
   "execution_count": 52,
   "id": "cfc96c0e",
   "metadata": {},
   "outputs": [
    {
     "data": {
      "text/plain": [
       "'runs:/57a0254031d247f28f4f7cdb3098ce89/model'"
      ]
     },
     "execution_count": 52,
     "metadata": {},
     "output_type": "execute_result"
    }
   ],
   "source": [
    "model_uri"
   ]
  },
  {
   "cell_type": "code",
   "execution_count": 48,
   "id": "cb9e7886",
   "metadata": {},
   "outputs": [
    {
     "data": {
      "application/vnd.jupyter.widget-view+json": {
       "model_id": "8e48723d1aaf44588370f13005c9470a",
       "version_major": 2,
       "version_minor": 0
      },
      "text/plain": [
       "Downloading artifacts:   0%|          | 0/7 [00:00<?, ?it/s]"
      ]
     },
     "metadata": {},
     "output_type": "display_data"
    }
   ],
   "source": [
    "# 2. Construir a URI do modelo\n",
    "model_uri = f\"runs:/{run_id}/model\"\n",
    "\n",
    "# 3. Carregar o Booster\n",
    "dsa_melhor_modelo = mlflow.xgboost.load_model(model_uri)"
   ]
  },
  {
   "cell_type": "code",
   "execution_count": 53,
   "id": "eb64b504",
   "metadata": {},
   "outputs": [
    {
     "name": "stdout",
     "output_type": "stream",
     "text": [
      "booster    : dart\n",
      "max_depth  : 6\n",
      "eta        : 0.300000012\n",
      "gamma      : 0\n",
      "reg_lambda : 1\n",
      "reg_alpha  : 0\n",
      "grow_policy: depthwise\n"
     ]
    }
   ],
   "source": [
    "import json, collections\n",
    "\n",
    "def flatten_last(node):\n",
    "    \"\"\"Varre o dicionário e, se houver chaves repetidas,\n",
    "       mantém o ÚLTIMO valor encontrado (não o primeiro).\"\"\"\n",
    "    flat = {}\n",
    "    stack = [node]\n",
    "    while stack:\n",
    "        cur = stack.pop()\n",
    "        if isinstance(cur, dict):\n",
    "            for k, v in cur.items():\n",
    "                if isinstance(v, dict):\n",
    "                    stack.append(v)\n",
    "                else:\n",
    "                    flat[k] = v          # ← sempre sobrescreve\n",
    "    return flat\n",
    "\n",
    "cfg  = json.loads(dsa_melhor_modelo.save_config())\n",
    "flat = flatten_last(cfg[\"learner\"])          # só o bloco learner é suficiente\n",
    "\n",
    "for p in [\"booster\", \"max_depth\", \"eta\", \"gamma\",\n",
    "          \"reg_lambda\", \"reg_alpha\", \"grow_policy\"]:\n",
    "    print(f\"{p:11}: {flat.get(p)}\")\n"
   ]
  },
  {
   "cell_type": "code",
   "execution_count": 40,
   "id": "5bd88058",
   "metadata": {},
   "outputs": [
    {
     "data": {
      "text/plain": [
       "'mlflow-artifacts:/634537617003580188/ce8abb89c2084573bb0394ee6ab4dbee/artifacts/model'"
      ]
     },
     "execution_count": 40,
     "metadata": {},
     "output_type": "execute_result"
    }
   ],
   "source": [
    "# Caminho para o melhor modelo (com melhor combinação de hiperparâmetros) salvo em disco\n",
    "model_uri"
   ]
  },
  {
   "cell_type": "code",
   "execution_count": 37,
   "id": "18b266dd",
   "metadata": {},
   "outputs": [
    {
     "data": {
      "application/vnd.jupyter.widget-view+json": {
       "model_id": "d80088c09c904380a40d51488aaf4453",
       "version_major": 2,
       "version_minor": 0
      },
      "text/plain": [
       "Downloading artifacts:   0%|          | 0/10 [00:00<?, ?it/s]"
      ]
     },
     "metadata": {},
     "output_type": "display_data"
    }
   ],
   "source": [
    "# Carrega o melhor modelo do disco\n",
    "dsa_melhor_modelo = mlflow.xgboost.load_model(model_uri)"
   ]
  },
  {
   "cell_type": "markdown",
   "id": "beaa5cdf",
   "metadata": {},
   "source": [
    "## Pipeline de Inferência com o Melhor Modelo"
   ]
  },
  {
   "cell_type": "code",
   "execution_count": 51,
   "id": "2300d5d6",
   "metadata": {},
   "outputs": [],
   "source": [
    "# Gera um batch de dados a partir de X (variáveis preditoras)\n",
    "batch_dmatrix = xgb.DMatrix(X)"
   ]
  },
  {
   "cell_type": "code",
   "execution_count": 52,
   "id": "670c470b",
   "metadata": {},
   "outputs": [],
   "source": [
    "# Faz a inferência (previsões) usando o melhor modelo - ATENÇÃO: ISSO NÃO É DEPLOY!!!!\n",
    "inferencia = dsa_melhor_modelo.predict(batch_dmatrix)"
   ]
  },
  {
   "cell_type": "code",
   "execution_count": 53,
   "id": "609e15cf",
   "metadata": {},
   "outputs": [],
   "source": [
    "# Cria cópia do dataframe original\n",
    "df_final = df_dsa.copy()"
   ]
  },
  {
   "cell_type": "code",
   "execution_count": 54,
   "id": "5597036c",
   "metadata": {},
   "outputs": [],
   "source": [
    "# Cria uma coluna com as previsões\n",
    "df_final[\"demanda_prevista\"] = inferencia"
   ]
  },
  {
   "cell_type": "code",
   "execution_count": 56,
   "id": "9c25df4a",
   "metadata": {},
   "outputs": [
    {
     "data": {
      "text/html": [
       "<div>\n",
       "<style scoped>\n",
       "    .dataframe tbody tr th:only-of-type {\n",
       "        vertical-align: middle;\n",
       "    }\n",
       "\n",
       "    .dataframe tbody tr th {\n",
       "        vertical-align: top;\n",
       "    }\n",
       "\n",
       "    .dataframe thead th {\n",
       "        text-align: right;\n",
       "    }\n",
       "</style>\n",
       "<table border=\"1\" class=\"dataframe\">\n",
       "  <thead>\n",
       "    <tr style=\"text-align: right;\">\n",
       "      <th></th>\n",
       "      <th>data</th>\n",
       "      <th>temperatura_media</th>\n",
       "      <th>precipitacao</th>\n",
       "      <th>fim_de_semana</th>\n",
       "      <th>feriado</th>\n",
       "      <th>preco_por_kg</th>\n",
       "      <th>promocao</th>\n",
       "      <th>demanda</th>\n",
       "      <th>demanda_dos_dias_anteriores</th>\n",
       "      <th>preco_por_kg_do_concorrente</th>\n",
       "      <th>intensidade_de_marketing</th>\n",
       "      <th>demanda_prevista</th>\n",
       "    </tr>\n",
       "  </thead>\n",
       "  <tbody>\n",
       "    <tr>\n",
       "      <th>1252</th>\n",
       "      <td>2014-03-23 09:16:07.882365</td>\n",
       "      <td>17.238854</td>\n",
       "      <td>3.626919</td>\n",
       "      <td>1</td>\n",
       "      <td>1</td>\n",
       "      <td>0.863291</td>\n",
       "      <td>1</td>\n",
       "      <td>1676.147576</td>\n",
       "      <td>1442.008040</td>\n",
       "      <td>2.824596</td>\n",
       "      <td>0.777409</td>\n",
       "      <td>1715.162476</td>\n",
       "    </tr>\n",
       "    <tr>\n",
       "      <th>2875</th>\n",
       "      <td>2018-09-01 09:16:07.880639</td>\n",
       "      <td>12.005026</td>\n",
       "      <td>7.424884</td>\n",
       "      <td>1</td>\n",
       "      <td>0</td>\n",
       "      <td>2.066046</td>\n",
       "      <td>0</td>\n",
       "      <td>1373.429750</td>\n",
       "      <td>1087.862624</td>\n",
       "      <td>2.818216</td>\n",
       "      <td>0.726909</td>\n",
       "      <td>1310.487793</td>\n",
       "    </tr>\n",
       "    <tr>\n",
       "      <th>4348</th>\n",
       "      <td>2022-09-13 09:16:07.878949</td>\n",
       "      <td>14.781389</td>\n",
       "      <td>2.124534</td>\n",
       "      <td>0</td>\n",
       "      <td>0</td>\n",
       "      <td>2.761710</td>\n",
       "      <td>0</td>\n",
       "      <td>1022.781638</td>\n",
       "      <td>1355.848854</td>\n",
       "      <td>2.541265</td>\n",
       "      <td>0.850599</td>\n",
       "      <td>1064.197876</td>\n",
       "    </tr>\n",
       "    <tr>\n",
       "      <th>1228</th>\n",
       "      <td>2014-02-27 09:16:07.882390</td>\n",
       "      <td>24.866660</td>\n",
       "      <td>1.795698</td>\n",
       "      <td>0</td>\n",
       "      <td>0</td>\n",
       "      <td>2.071767</td>\n",
       "      <td>0</td>\n",
       "      <td>1004.847750</td>\n",
       "      <td>969.351167</td>\n",
       "      <td>2.946473</td>\n",
       "      <td>0.917744</td>\n",
       "      <td>945.653748</td>\n",
       "    </tr>\n",
       "    <tr>\n",
       "      <th>3055</th>\n",
       "      <td>2019-02-28 09:16:07.880450</td>\n",
       "      <td>20.029147</td>\n",
       "      <td>6.337757</td>\n",
       "      <td>0</td>\n",
       "      <td>0</td>\n",
       "      <td>1.762669</td>\n",
       "      <td>1</td>\n",
       "      <td>1383.128333</td>\n",
       "      <td>1245.818672</td>\n",
       "      <td>1.725437</td>\n",
       "      <td>0.715795</td>\n",
       "      <td>1364.020630</td>\n",
       "    </tr>\n",
       "    <tr>\n",
       "      <th>2999</th>\n",
       "      <td>2019-01-03 09:16:07.880509</td>\n",
       "      <td>10.517544</td>\n",
       "      <td>0.359108</td>\n",
       "      <td>0</td>\n",
       "      <td>0</td>\n",
       "      <td>2.017309</td>\n",
       "      <td>1</td>\n",
       "      <td>1446.603672</td>\n",
       "      <td>1224.304863</td>\n",
       "      <td>2.774219</td>\n",
       "      <td>0.774184</td>\n",
       "      <td>1295.349731</td>\n",
       "    </tr>\n",
       "    <tr>\n",
       "      <th>2142</th>\n",
       "      <td>2016-08-29 09:16:07.881409</td>\n",
       "      <td>21.616371</td>\n",
       "      <td>4.768748</td>\n",
       "      <td>0</td>\n",
       "      <td>0</td>\n",
       "      <td>1.219953</td>\n",
       "      <td>0</td>\n",
       "      <td>1196.870434</td>\n",
       "      <td>1425.208463</td>\n",
       "      <td>2.739794</td>\n",
       "      <td>0.744459</td>\n",
       "      <td>1191.231567</td>\n",
       "    </tr>\n",
       "    <tr>\n",
       "      <th>2955</th>\n",
       "      <td>2018-11-20 09:16:07.880555</td>\n",
       "      <td>17.106964</td>\n",
       "      <td>2.945170</td>\n",
       "      <td>0</td>\n",
       "      <td>0</td>\n",
       "      <td>0.747191</td>\n",
       "      <td>0</td>\n",
       "      <td>1207.821245</td>\n",
       "      <td>1170.443216</td>\n",
       "      <td>2.703314</td>\n",
       "      <td>0.856101</td>\n",
       "      <td>1191.231567</td>\n",
       "    </tr>\n",
       "    <tr>\n",
       "      <th>531</th>\n",
       "      <td>2012-04-01 09:16:07.883133</td>\n",
       "      <td>11.527017</td>\n",
       "      <td>6.563825</td>\n",
       "      <td>1</td>\n",
       "      <td>0</td>\n",
       "      <td>1.548662</td>\n",
       "      <td>1</td>\n",
       "      <td>1496.897602</td>\n",
       "      <td>1402.436809</td>\n",
       "      <td>2.312204</td>\n",
       "      <td>0.738924</td>\n",
       "      <td>1682.141235</td>\n",
       "    </tr>\n",
       "    <tr>\n",
       "      <th>357</th>\n",
       "      <td>2011-10-10 09:16:07.883430</td>\n",
       "      <td>14.758127</td>\n",
       "      <td>3.597914</td>\n",
       "      <td>0</td>\n",
       "      <td>0</td>\n",
       "      <td>0.669134</td>\n",
       "      <td>1</td>\n",
       "      <td>1156.274941</td>\n",
       "      <td>1441.911708</td>\n",
       "      <td>2.743755</td>\n",
       "      <td>0.965526</td>\n",
       "      <td>1397.041870</td>\n",
       "    </tr>\n",
       "  </tbody>\n",
       "</table>\n",
       "</div>"
      ],
      "text/plain": [
       "                           data  temperatura_media  precipitacao  \\\n",
       "1252 2014-03-23 09:16:07.882365          17.238854      3.626919   \n",
       "2875 2018-09-01 09:16:07.880639          12.005026      7.424884   \n",
       "4348 2022-09-13 09:16:07.878949          14.781389      2.124534   \n",
       "1228 2014-02-27 09:16:07.882390          24.866660      1.795698   \n",
       "3055 2019-02-28 09:16:07.880450          20.029147      6.337757   \n",
       "2999 2019-01-03 09:16:07.880509          10.517544      0.359108   \n",
       "2142 2016-08-29 09:16:07.881409          21.616371      4.768748   \n",
       "2955 2018-11-20 09:16:07.880555          17.106964      2.945170   \n",
       "531  2012-04-01 09:16:07.883133          11.527017      6.563825   \n",
       "357  2011-10-10 09:16:07.883430          14.758127      3.597914   \n",
       "\n",
       "      fim_de_semana  feriado  preco_por_kg  promocao      demanda  \\\n",
       "1252              1        1      0.863291         1  1676.147576   \n",
       "2875              1        0      2.066046         0  1373.429750   \n",
       "4348              0        0      2.761710         0  1022.781638   \n",
       "1228              0        0      2.071767         0  1004.847750   \n",
       "3055              0        0      1.762669         1  1383.128333   \n",
       "2999              0        0      2.017309         1  1446.603672   \n",
       "2142              0        0      1.219953         0  1196.870434   \n",
       "2955              0        0      0.747191         0  1207.821245   \n",
       "531               1        0      1.548662         1  1496.897602   \n",
       "357               0        0      0.669134         1  1156.274941   \n",
       "\n",
       "      demanda_dos_dias_anteriores  preco_por_kg_do_concorrente  \\\n",
       "1252                  1442.008040                     2.824596   \n",
       "2875                  1087.862624                     2.818216   \n",
       "4348                  1355.848854                     2.541265   \n",
       "1228                   969.351167                     2.946473   \n",
       "3055                  1245.818672                     1.725437   \n",
       "2999                  1224.304863                     2.774219   \n",
       "2142                  1425.208463                     2.739794   \n",
       "2955                  1170.443216                     2.703314   \n",
       "531                   1402.436809                     2.312204   \n",
       "357                   1441.911708                     2.743755   \n",
       "\n",
       "      intensidade_de_marketing  demanda_prevista  \n",
       "1252                  0.777409       1715.162476  \n",
       "2875                  0.726909       1310.487793  \n",
       "4348                  0.850599       1064.197876  \n",
       "1228                  0.917744        945.653748  \n",
       "3055                  0.715795       1364.020630  \n",
       "2999                  0.774184       1295.349731  \n",
       "2142                  0.744459       1191.231567  \n",
       "2955                  0.856101       1191.231567  \n",
       "531                   0.738924       1682.141235  \n",
       "357                   0.965526       1397.041870  "
      ]
     },
     "execution_count": 56,
     "metadata": {},
     "output_type": "execute_result"
    }
   ],
   "source": [
    "df_final.sample(10)"
   ]
  },
  {
   "cell_type": "code",
   "execution_count": 42,
   "id": "49c4565a",
   "metadata": {},
   "outputs": [
    {
     "data": {
      "text/html": [
       "<div>\n",
       "<style scoped>\n",
       "    .dataframe tbody tr th:only-of-type {\n",
       "        vertical-align: middle;\n",
       "    }\n",
       "\n",
       "    .dataframe tbody tr th {\n",
       "        vertical-align: top;\n",
       "    }\n",
       "\n",
       "    .dataframe thead th {\n",
       "        text-align: right;\n",
       "    }\n",
       "</style>\n",
       "<table border=\"1\" class=\"dataframe\">\n",
       "  <thead>\n",
       "    <tr style=\"text-align: right;\">\n",
       "      <th></th>\n",
       "      <th>data</th>\n",
       "      <th>temperatura_media</th>\n",
       "      <th>precipitacao</th>\n",
       "      <th>fim_de_semana</th>\n",
       "      <th>feriado</th>\n",
       "      <th>preco_por_kg</th>\n",
       "      <th>promocao</th>\n",
       "      <th>demanda</th>\n",
       "      <th>demanda_dos_dias_anteriores</th>\n",
       "      <th>preco_por_kg_do_concorrente</th>\n",
       "      <th>intensidade_de_marketing</th>\n",
       "      <th>demanda_prevista</th>\n",
       "    </tr>\n",
       "  </thead>\n",
       "  <tbody>\n",
       "    <tr>\n",
       "      <th>2534</th>\n",
       "      <td>2017-09-25 09:16:07.880995</td>\n",
       "      <td>13.709150</td>\n",
       "      <td>3.224716</td>\n",
       "      <td>0</td>\n",
       "      <td>0</td>\n",
       "      <td>0.603617</td>\n",
       "      <td>0</td>\n",
       "      <td>1062.186784</td>\n",
       "      <td>1446.538019</td>\n",
       "      <td>2.900498</td>\n",
       "      <td>0.902295</td>\n",
       "      <td>1227.525757</td>\n",
       "    </tr>\n",
       "    <tr>\n",
       "      <th>115</th>\n",
       "      <td>2011-02-10 09:16:07.883697</td>\n",
       "      <td>32.862773</td>\n",
       "      <td>12.346699</td>\n",
       "      <td>0</td>\n",
       "      <td>0</td>\n",
       "      <td>1.917458</td>\n",
       "      <td>0</td>\n",
       "      <td>848.902398</td>\n",
       "      <td>946.124324</td>\n",
       "      <td>0.512342</td>\n",
       "      <td>0.948054</td>\n",
       "      <td>922.020630</td>\n",
       "    </tr>\n",
       "    <tr>\n",
       "      <th>4438</th>\n",
       "      <td>2022-12-12 09:16:07.878836</td>\n",
       "      <td>10.327140</td>\n",
       "      <td>3.797121</td>\n",
       "      <td>0</td>\n",
       "      <td>0</td>\n",
       "      <td>1.555414</td>\n",
       "      <td>0</td>\n",
       "      <td>1146.235315</td>\n",
       "      <td>1685.323032</td>\n",
       "      <td>1.376519</td>\n",
       "      <td>0.971455</td>\n",
       "      <td>1235.044312</td>\n",
       "    </tr>\n",
       "    <tr>\n",
       "      <th>1264</th>\n",
       "      <td>2014-04-04 09:16:07.882353</td>\n",
       "      <td>14.894861</td>\n",
       "      <td>6.902599</td>\n",
       "      <td>0</td>\n",
       "      <td>0</td>\n",
       "      <td>2.388212</td>\n",
       "      <td>1</td>\n",
       "      <td>1137.835255</td>\n",
       "      <td>1229.376496</td>\n",
       "      <td>1.549692</td>\n",
       "      <td>0.761282</td>\n",
       "      <td>1213.895386</td>\n",
       "    </tr>\n",
       "    <tr>\n",
       "      <th>3811</th>\n",
       "      <td>2021-03-25 09:16:07.879627</td>\n",
       "      <td>33.525733</td>\n",
       "      <td>7.599331</td>\n",
       "      <td>0</td>\n",
       "      <td>0</td>\n",
       "      <td>1.429134</td>\n",
       "      <td>0</td>\n",
       "      <td>1317.360549</td>\n",
       "      <td>1139.808593</td>\n",
       "      <td>1.175408</td>\n",
       "      <td>0.710282</td>\n",
       "      <td>1157.730225</td>\n",
       "    </tr>\n",
       "    <tr>\n",
       "      <th>300</th>\n",
       "      <td>2011-08-14 09:16:07.883508</td>\n",
       "      <td>18.637817</td>\n",
       "      <td>4.444781</td>\n",
       "      <td>1</td>\n",
       "      <td>0</td>\n",
       "      <td>1.532358</td>\n",
       "      <td>0</td>\n",
       "      <td>1248.436026</td>\n",
       "      <td>1518.931937</td>\n",
       "      <td>0.971379</td>\n",
       "      <td>0.794311</td>\n",
       "      <td>1451.267578</td>\n",
       "    </tr>\n",
       "    <tr>\n",
       "      <th>3494</th>\n",
       "      <td>2020-05-12 09:16:07.879991</td>\n",
       "      <td>23.745334</td>\n",
       "      <td>6.610533</td>\n",
       "      <td>0</td>\n",
       "      <td>0</td>\n",
       "      <td>1.946273</td>\n",
       "      <td>0</td>\n",
       "      <td>1121.942600</td>\n",
       "      <td>1237.138689</td>\n",
       "      <td>0.746713</td>\n",
       "      <td>0.720458</td>\n",
       "      <td>1078.430786</td>\n",
       "    </tr>\n",
       "    <tr>\n",
       "      <th>2581</th>\n",
       "      <td>2017-11-11 09:16:07.880946</td>\n",
       "      <td>21.826954</td>\n",
       "      <td>0.993182</td>\n",
       "      <td>1</td>\n",
       "      <td>0</td>\n",
       "      <td>2.124146</td>\n",
       "      <td>1</td>\n",
       "      <td>1629.605773</td>\n",
       "      <td>1001.856284</td>\n",
       "      <td>1.957224</td>\n",
       "      <td>0.747579</td>\n",
       "      <td>1552.360962</td>\n",
       "    </tr>\n",
       "    <tr>\n",
       "      <th>86</th>\n",
       "      <td>2011-01-12 09:16:07.883733</td>\n",
       "      <td>15.386185</td>\n",
       "      <td>1.749019</td>\n",
       "      <td>0</td>\n",
       "      <td>0</td>\n",
       "      <td>1.220105</td>\n",
       "      <td>0</td>\n",
       "      <td>956.220468</td>\n",
       "      <td>959.682152</td>\n",
       "      <td>2.227744</td>\n",
       "      <td>0.973132</td>\n",
       "      <td>1011.192383</td>\n",
       "    </tr>\n",
       "    <tr>\n",
       "      <th>547</th>\n",
       "      <td>2012-04-17 09:16:07.883116</td>\n",
       "      <td>31.274091</td>\n",
       "      <td>3.987776</td>\n",
       "      <td>0</td>\n",
       "      <td>0</td>\n",
       "      <td>1.166699</td>\n",
       "      <td>1</td>\n",
       "      <td>1250.752664</td>\n",
       "      <td>1195.984497</td>\n",
       "      <td>2.923103</td>\n",
       "      <td>0.908042</td>\n",
       "      <td>1355.446289</td>\n",
       "    </tr>\n",
       "  </tbody>\n",
       "</table>\n",
       "</div>"
      ],
      "text/plain": [
       "                           data  temperatura_media  precipitacao  \\\n",
       "2534 2017-09-25 09:16:07.880995          13.709150      3.224716   \n",
       "115  2011-02-10 09:16:07.883697          32.862773     12.346699   \n",
       "4438 2022-12-12 09:16:07.878836          10.327140      3.797121   \n",
       "1264 2014-04-04 09:16:07.882353          14.894861      6.902599   \n",
       "3811 2021-03-25 09:16:07.879627          33.525733      7.599331   \n",
       "300  2011-08-14 09:16:07.883508          18.637817      4.444781   \n",
       "3494 2020-05-12 09:16:07.879991          23.745334      6.610533   \n",
       "2581 2017-11-11 09:16:07.880946          21.826954      0.993182   \n",
       "86   2011-01-12 09:16:07.883733          15.386185      1.749019   \n",
       "547  2012-04-17 09:16:07.883116          31.274091      3.987776   \n",
       "\n",
       "      fim_de_semana  feriado  preco_por_kg  promocao      demanda  \\\n",
       "2534              0        0      0.603617         0  1062.186784   \n",
       "115               0        0      1.917458         0   848.902398   \n",
       "4438              0        0      1.555414         0  1146.235315   \n",
       "1264              0        0      2.388212         1  1137.835255   \n",
       "3811              0        0      1.429134         0  1317.360549   \n",
       "300               1        0      1.532358         0  1248.436026   \n",
       "3494              0        0      1.946273         0  1121.942600   \n",
       "2581              1        0      2.124146         1  1629.605773   \n",
       "86                0        0      1.220105         0   956.220468   \n",
       "547               0        0      1.166699         1  1250.752664   \n",
       "\n",
       "      demanda_dos_dias_anteriores  preco_por_kg_do_concorrente  \\\n",
       "2534                  1446.538019                     2.900498   \n",
       "115                    946.124324                     0.512342   \n",
       "4438                  1685.323032                     1.376519   \n",
       "1264                  1229.376496                     1.549692   \n",
       "3811                  1139.808593                     1.175408   \n",
       "300                   1518.931937                     0.971379   \n",
       "3494                  1237.138689                     0.746713   \n",
       "2581                  1001.856284                     1.957224   \n",
       "86                     959.682152                     2.227744   \n",
       "547                   1195.984497                     2.923103   \n",
       "\n",
       "      intensidade_de_marketing  demanda_prevista  \n",
       "2534                  0.902295       1227.525757  \n",
       "115                   0.948054        922.020630  \n",
       "4438                  0.971455       1235.044312  \n",
       "1264                  0.761282       1213.895386  \n",
       "3811                  0.710282       1157.730225  \n",
       "300                   0.794311       1451.267578  \n",
       "3494                  0.720458       1078.430786  \n",
       "2581                  0.747579       1552.360962  \n",
       "86                    0.973132       1011.192383  \n",
       "547                   0.908042       1355.446289  "
      ]
     },
     "execution_count": 42,
     "metadata": {},
     "output_type": "execute_result"
    }
   ],
   "source": [
    "df_final.sample(10)"
   ]
  },
  {
   "cell_type": "markdown",
   "id": "f5ecccf4",
   "metadata": {},
   "source": [
    "Projeto concluído com sucesso! Cliente feliz. Partimos para o próximo projeto."
   ]
  },
  {
   "cell_type": "code",
   "execution_count": 43,
   "id": "5f9b4bee",
   "metadata": {},
   "outputs": [
    {
     "name": "stdout",
     "output_type": "stream",
     "text": [
      "Author: Data Science Academy\n",
      "\n"
     ]
    }
   ],
   "source": [
    "%reload_ext watermark\n",
    "%watermark -a \"Data Science Academy\""
   ]
  },
  {
   "cell_type": "code",
   "execution_count": 44,
   "id": "f630c5a8",
   "metadata": {},
   "outputs": [],
   "source": [
    "#%watermark -v -m"
   ]
  },
  {
   "cell_type": "code",
   "execution_count": 45,
   "id": "c1fe8c9f",
   "metadata": {},
   "outputs": [],
   "source": [
    "#%watermark --iversions"
   ]
  },
  {
   "cell_type": "markdown",
   "id": "c91ee971",
   "metadata": {},
   "source": [
    "# Fim"
   ]
  },
  {
   "cell_type": "code",
   "execution_count": 1,
   "id": "9985b420",
   "metadata": {},
   "outputs": [
    {
     "data": {
      "text/html": [
       "<div>\n",
       "<style scoped>\n",
       "    .dataframe tbody tr th:only-of-type {\n",
       "        vertical-align: middle;\n",
       "    }\n",
       "\n",
       "    .dataframe tbody tr th {\n",
       "        vertical-align: top;\n",
       "    }\n",
       "\n",
       "    .dataframe thead th {\n",
       "        text-align: right;\n",
       "    }\n",
       "</style>\n",
       "<table border=\"1\" class=\"dataframe\">\n",
       "  <thead>\n",
       "    <tr style=\"text-align: right;\">\n",
       "      <th></th>\n",
       "      <th>p</th>\n",
       "      <th>m1</th>\n",
       "      <th>m2</th>\n",
       "      <th>m3</th>\n",
       "      <th>m4</th>\n",
       "      <th>s</th>\n",
       "      <th>t</th>\n",
       "      <th>m1_std</th>\n",
       "      <th>m2_std</th>\n",
       "      <th>m3_std</th>\n",
       "      <th>m4_std</th>\n",
       "      <th>s_std</th>\n",
       "      <th>t_std</th>\n",
       "    </tr>\n",
       "  </thead>\n",
       "  <tbody>\n",
       "    <tr>\n",
       "      <th>0</th>\n",
       "      <td>0.004854</td>\n",
       "      <td>0.036667</td>\n",
       "      <td>0.001344</td>\n",
       "      <td>4.929630e-05</td>\n",
       "      <td>1.807500e-06</td>\n",
       "      <td>3.871972</td>\n",
       "      <td>214.987</td>\n",
       "      <td>0.000000</td>\n",
       "      <td>0.000000</td>\n",
       "      <td>0.000000e+00</td>\n",
       "      <td>0.000000e+00</td>\n",
       "      <td>0.000000</td>\n",
       "      <td>211.831682</td>\n",
       "    </tr>\n",
       "    <tr>\n",
       "      <th>1</th>\n",
       "      <td>0.009709</td>\n",
       "      <td>0.036567</td>\n",
       "      <td>0.001337</td>\n",
       "      <td>4.892852e-05</td>\n",
       "      <td>1.790313e-06</td>\n",
       "      <td>3.848262</td>\n",
       "      <td>439.020</td>\n",
       "      <td>0.000569</td>\n",
       "      <td>0.000040</td>\n",
       "      <td>2.092326e-06</td>\n",
       "      <td>9.777832e-08</td>\n",
       "      <td>0.033737</td>\n",
       "      <td>314.723915</td>\n",
       "    </tr>\n",
       "    <tr>\n",
       "      <th>2</th>\n",
       "      <td>0.014563</td>\n",
       "      <td>0.036463</td>\n",
       "      <td>0.001330</td>\n",
       "      <td>4.855071e-05</td>\n",
       "      <td>1.772701e-06</td>\n",
       "      <td>3.826587</td>\n",
       "      <td>653.850</td>\n",
       "      <td>0.000812</td>\n",
       "      <td>0.000057</td>\n",
       "      <td>2.969371e-06</td>\n",
       "      <td>1.384481e-07</td>\n",
       "      <td>0.045282</td>\n",
       "      <td>375.625228</td>\n",
       "    </tr>\n",
       "    <tr>\n",
       "      <th>3</th>\n",
       "      <td>0.019417</td>\n",
       "      <td>0.036380</td>\n",
       "      <td>0.001324</td>\n",
       "      <td>4.824644e-05</td>\n",
       "      <td>1.758527e-06</td>\n",
       "      <td>3.804601</td>\n",
       "      <td>881.042</td>\n",
       "      <td>0.000959</td>\n",
       "      <td>0.000067</td>\n",
       "      <td>3.496870e-06</td>\n",
       "      <td>1.628858e-07</td>\n",
       "      <td>0.053376</td>\n",
       "      <td>440.410474</td>\n",
       "    </tr>\n",
       "    <tr>\n",
       "      <th>4</th>\n",
       "      <td>0.024272</td>\n",
       "      <td>0.036320</td>\n",
       "      <td>0.001320</td>\n",
       "      <td>4.802800e-05</td>\n",
       "      <td>1.748363e-06</td>\n",
       "      <td>3.785529</td>\n",
       "      <td>1094.016</td>\n",
       "      <td>0.001050</td>\n",
       "      <td>0.000073</td>\n",
       "      <td>3.824379e-06</td>\n",
       "      <td>1.780016e-07</td>\n",
       "      <td>0.059219</td>\n",
       "      <td>489.438560</td>\n",
       "    </tr>\n",
       "    <tr>\n",
       "      <th>...</th>\n",
       "      <td>...</td>\n",
       "      <td>...</td>\n",
       "      <td>...</td>\n",
       "      <td>...</td>\n",
       "      <td>...</td>\n",
       "      <td>...</td>\n",
       "      <td>...</td>\n",
       "      <td>...</td>\n",
       "      <td>...</td>\n",
       "      <td>...</td>\n",
       "      <td>...</td>\n",
       "      <td>...</td>\n",
       "      <td>...</td>\n",
       "    </tr>\n",
       "    <tr>\n",
       "      <th>201</th>\n",
       "      <td>0.980583</td>\n",
       "      <td>0.007110</td>\n",
       "      <td>0.000052</td>\n",
       "      <td>3.912255e-07</td>\n",
       "      <td>3.091200e-09</td>\n",
       "      <td>1.025982</td>\n",
       "      <td>171674.667</td>\n",
       "      <td>0.001152</td>\n",
       "      <td>0.000019</td>\n",
       "      <td>2.520644e-07</td>\n",
       "      <td>2.970931e-09</td>\n",
       "      <td>0.002275</td>\n",
       "      <td>20869.838757</td>\n",
       "    </tr>\n",
       "    <tr>\n",
       "      <th>202</th>\n",
       "      <td>0.985437</td>\n",
       "      <td>0.006957</td>\n",
       "      <td>0.000049</td>\n",
       "      <td>3.581886e-07</td>\n",
       "      <td>2.709600e-09</td>\n",
       "      <td>1.019554</td>\n",
       "      <td>182474.823</td>\n",
       "      <td>0.000952</td>\n",
       "      <td>0.000016</td>\n",
       "      <td>2.064116e-07</td>\n",
       "      <td>2.412146e-09</td>\n",
       "      <td>0.001904</td>\n",
       "      <td>23462.582510</td>\n",
       "    </tr>\n",
       "    <tr>\n",
       "      <th>203</th>\n",
       "      <td>0.990291</td>\n",
       "      <td>0.006823</td>\n",
       "      <td>0.000047</td>\n",
       "      <td>3.300406e-07</td>\n",
       "      <td>2.389600e-09</td>\n",
       "      <td>1.013108</td>\n",
       "      <td>197966.154</td>\n",
       "      <td>0.000721</td>\n",
       "      <td>0.000012</td>\n",
       "      <td>1.596015e-07</td>\n",
       "      <td>1.899468e-09</td>\n",
       "      <td>0.001448</td>\n",
       "      <td>26964.080873</td>\n",
       "    </tr>\n",
       "    <tr>\n",
       "      <th>204</th>\n",
       "      <td>0.995146</td>\n",
       "      <td>0.006713</td>\n",
       "      <td>0.000045</td>\n",
       "      <td>3.061518e-07</td>\n",
       "      <td>2.112000e-09</td>\n",
       "      <td>1.006617</td>\n",
       "      <td>220949.358</td>\n",
       "      <td>0.000392</td>\n",
       "      <td>0.000007</td>\n",
       "      <td>8.271938e-08</td>\n",
       "      <td>9.403937e-10</td>\n",
       "      <td>0.000789</td>\n",
       "      <td>34915.852468</td>\n",
       "    </tr>\n",
       "    <tr>\n",
       "      <th>205</th>\n",
       "      <td>1.000000</td>\n",
       "      <td>0.006667</td>\n",
       "      <td>0.000044</td>\n",
       "      <td>2.963000e-07</td>\n",
       "      <td>2.000000e-09</td>\n",
       "      <td>1.000000</td>\n",
       "      <td>265269.860</td>\n",
       "      <td>0.000000</td>\n",
       "      <td>0.000000</td>\n",
       "      <td>0.000000e+00</td>\n",
       "      <td>0.000000e+00</td>\n",
       "      <td>0.000000</td>\n",
       "      <td>56785.205308</td>\n",
       "    </tr>\n",
       "  </tbody>\n",
       "</table>\n",
       "<p>206 rows × 13 columns</p>\n",
       "</div>"
      ],
      "text/plain": [
       "            p        m1        m2            m3            m4         s  \\\n",
       "0    0.004854  0.036667  0.001344  4.929630e-05  1.807500e-06  3.871972   \n",
       "1    0.009709  0.036567  0.001337  4.892852e-05  1.790313e-06  3.848262   \n",
       "2    0.014563  0.036463  0.001330  4.855071e-05  1.772701e-06  3.826587   \n",
       "3    0.019417  0.036380  0.001324  4.824644e-05  1.758527e-06  3.804601   \n",
       "4    0.024272  0.036320  0.001320  4.802800e-05  1.748363e-06  3.785529   \n",
       "..        ...       ...       ...           ...           ...       ...   \n",
       "201  0.980583  0.007110  0.000052  3.912255e-07  3.091200e-09  1.025982   \n",
       "202  0.985437  0.006957  0.000049  3.581886e-07  2.709600e-09  1.019554   \n",
       "203  0.990291  0.006823  0.000047  3.300406e-07  2.389600e-09  1.013108   \n",
       "204  0.995146  0.006713  0.000045  3.061518e-07  2.112000e-09  1.006617   \n",
       "205  1.000000  0.006667  0.000044  2.963000e-07  2.000000e-09  1.000000   \n",
       "\n",
       "              t    m1_std    m2_std        m3_std        m4_std     s_std  \\\n",
       "0       214.987  0.000000  0.000000  0.000000e+00  0.000000e+00  0.000000   \n",
       "1       439.020  0.000569  0.000040  2.092326e-06  9.777832e-08  0.033737   \n",
       "2       653.850  0.000812  0.000057  2.969371e-06  1.384481e-07  0.045282   \n",
       "3       881.042  0.000959  0.000067  3.496870e-06  1.628858e-07  0.053376   \n",
       "4      1094.016  0.001050  0.000073  3.824379e-06  1.780016e-07  0.059219   \n",
       "..          ...       ...       ...           ...           ...       ...   \n",
       "201  171674.667  0.001152  0.000019  2.520644e-07  2.970931e-09  0.002275   \n",
       "202  182474.823  0.000952  0.000016  2.064116e-07  2.412146e-09  0.001904   \n",
       "203  197966.154  0.000721  0.000012  1.596015e-07  1.899468e-09  0.001448   \n",
       "204  220949.358  0.000392  0.000007  8.271938e-08  9.403937e-10  0.000789   \n",
       "205  265269.860  0.000000  0.000000  0.000000e+00  0.000000e+00  0.000000   \n",
       "\n",
       "            t_std  \n",
       "0      211.831682  \n",
       "1      314.723915  \n",
       "2      375.625228  \n",
       "3      440.410474  \n",
       "4      489.438560  \n",
       "..            ...  \n",
       "201  20869.838757  \n",
       "202  23462.582510  \n",
       "203  26964.080873  \n",
       "204  34915.852468  \n",
       "205  56785.205308  \n",
       "\n",
       "[206 rows x 13 columns]"
      ]
     },
     "execution_count": 1,
     "metadata": {},
     "output_type": "execute_result"
    }
   ],
   "source": [
    "import pandas as pd\n",
    "\n",
    "df = pd.read_csv('random_300_1.csv')\n",
    "df"
   ]
  },
  {
   "cell_type": "code",
   "execution_count": 7,
   "id": "254f0097",
   "metadata": {},
   "outputs": [
    {
     "data": {
      "image/png": "[encoded data removed]",
      "text/plain": [
       "<Figure size 1152x432 with 2 Axes>"
      ]
     },
     "metadata": {
      "needs_background": "light"
     },
     "output_type": "display_data"
    }
   ],
   "source": [
    "import os\n",
    "import pandas as pd\n",
    "import matplotlib.pyplot as plt\n",
    "\n",
    "# Defina N de acordo com o CSV que você gerou\n",
    "N = 300\n",
    "\n",
    "# Valores de C para os quais você tem o CSV “random_{N}_{C}.csv”\n",
    "Cs = [1, 2, 3, N]\n",
    "\n",
    "# Use raw string ou escape duplo nas barras do Windows\n",
    "base_path = r\"C:\\Users\\victor.francheto\\OneDrive - Hypera\\Área de Trabalho\\test-mlflow\"\n",
    "\n",
    "# Carrega cada CSV numa dict de DataFrames\n",
    "dfs = {}\n",
    "for C in Cs:\n",
    "    file_path = os.path.join(base_path, f\"random_{N}_{C}.csv\")\n",
    "    dfs[C] = pd.read_csv(file_path)\n",
    "\n",
    "# Cria a figura com dois subplots lado a lado\n",
    "fig, axes = plt.subplots(ncols=2, figsize=(16, 6), constrained_layout=True)\n",
    "fig.suptitle(f'N = {N}', fontsize=25)\n",
    "\n",
    "# Subplot 1: relative gc size (m1)\n",
    "for C in Cs:\n",
    "    axes[0].plot(dfs[C]['p'], dfs[C]['m1'], label=f'C = {C}')\n",
    "axes[0].set_xlabel('fraction of removed edges', fontsize=25)\n",
    "axes[0].set_ylabel('relative gc size', fontsize=25)\n",
    "axes[0].tick_params(axis='both', labelsize=20)\n",
    "axes[0].legend(fontsize=20)\n",
    "\n",
    "# Subplot 2: average cluster size (s)\n",
    "for C in Cs:\n",
    "    axes[1].plot(dfs[C]['p'], dfs[C]['s'], label=f'C = {C}')\n",
    "axes[1].set_xlabel('fraction of removed edges', fontsize=25)\n",
    "axes[1].set_ylabel('average cluster size', fontsize=25)\n",
    "axes[1].tick_params(axis='both', labelsize=20)\n",
    "axes[1].legend(fontsize=20)\n",
    "\n",
    "plt.show()\n"
   ]
  }
 ],
 "metadata": {
  "kernelspec": {
   "display_name": "Python 3 (ipykernel)",
   "language": "python",
   "name": "python3"
  },
  "language_info": {
   "codemirror_mode": {
    "name": "ipython",
    "version": 3
   },
   "file_extension": ".py",
   "mimetype": "text/x-python",
   "name": "python",
   "nbconvert_exporter": "python",
   "pygments_lexer": "ipython3",
   "version": "3.9.12"
  }
 },
 "nbformat": 4,
 "nbformat_minor": 5
}
