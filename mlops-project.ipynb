{
 "cells": [
  {
   "cell_type": "markdown",
   "id": "6804c3d7",
   "metadata": {},
   "source": [
    "# 🛠️ MLflow Hands-On\n",
    "\n",
    "🎯 **Our goal** is to demonstrate how to integrate **MLflow** into a *machine learning* project, showcasing its role in tracking and managing experiments efficiently.\n",
    "\n",
    "We'll start by **fitting an initial boosting model**, logging parameters, metrics, and artifacts. Then, we'll move on to **hyperparameter optimization using Optuna**, with the entire workflow tracked and versioned through MLflow.\n",
    "\n",
    "---------------\n",
    "\n",
    "🛒 **Dataset**\n",
    "For this project, we used the **Wholesale Customers Data Set**, available from the [UCI Machine Learning Repository](https://archive.ics.uci.edu/ml/datasets/Wholesale+customers).\n",
    "\n",
    "This dataset provides insights into customer spending habits across different product categories, making it a useful resource for unsupervised learning and clustering tasks."
   ]
  },
  {
   "cell_type": "code",
   "execution_count": 1,
   "id": "f3c05965",
   "metadata": {},
   "outputs": [],
   "source": [
    "# ===========================\n",
    "# 📦 Data Manipulation\n",
    "# ===========================\n",
    "import os\n",
    "import json\n",
    "import math\n",
    "import tempfile\n",
    "import shutil\n",
    "from datetime import datetime, timedelta\n",
    "\n",
    "import pandas as pd\n",
    "import numpy as np\n",
    "\n",
    "# ===========================\n",
    "# 📊 Visualization\n",
    "# ===========================\n",
    "import matplotlib.pyplot as plt\n",
    "import seaborn as sns\n",
    "\n",
    "\n",
    "# ===========================\n",
    "# 🤖 Modeling and Evaluation\n",
    "# ===========================\n",
    "import xgboost as xgb\n",
    "from xgboost import XGBClassifier\n",
    "from sklearn.model_selection import train_test_split\n",
    "from sklearn.metrics import (\n",
    "    accuracy_score, precision_score, recall_score, \n",
    "    f1_score, roc_auc_score, log_loss, confusion_matrix, \n",
    "    ConfusionMatrixDisplay, mean_squared_error)\n",
    "\n",
    "# ===========================\n",
    "# 🔍 Optimization & Tracking\n",
    "# ===========================\n",
    "import optuna\n",
    "import mlflow\n",
    "import sys\n",
    "from mlflow.models import infer_signature\n",
    "from mlflow.tracking import MlflowClient\n",
    "\n",
    "# ===========================\n",
    "# 🛠️ Utilities\n",
    "# ===========================\n",
    "import warnings\n",
    "warnings.filterwarnings('ignore')\n"
   ]
  },
  {
   "cell_type": "markdown",
   "id": "87b2d448",
   "metadata": {},
   "source": [
    "## 📥 Import dataset"
   ]
  },
  {
   "cell_type": "code",
   "execution_count": 2,
   "id": "10eb2d90",
   "metadata": {},
   "outputs": [
    {
     "data": {
      "text/html": [
       "<div>\n",
       "<style scoped>\n",
       "    .dataframe tbody tr th:only-of-type {\n",
       "        vertical-align: middle;\n",
       "    }\n",
       "\n",
       "    .dataframe tbody tr th {\n",
       "        vertical-align: top;\n",
       "    }\n",
       "\n",
       "    .dataframe thead th {\n",
       "        text-align: right;\n",
       "    }\n",
       "</style>\n",
       "<table border=\"1\" class=\"dataframe\">\n",
       "  <thead>\n",
       "    <tr style=\"text-align: right;\">\n",
       "      <th></th>\n",
       "      <th>Channel</th>\n",
       "      <th>Region</th>\n",
       "      <th>Fresh</th>\n",
       "      <th>Milk</th>\n",
       "      <th>Grocery</th>\n",
       "      <th>Frozen</th>\n",
       "      <th>Detergents_Paper</th>\n",
       "      <th>Delicassen</th>\n",
       "    </tr>\n",
       "  </thead>\n",
       "  <tbody>\n",
       "    <tr>\n",
       "      <th>435</th>\n",
       "      <td>1</td>\n",
       "      <td>3</td>\n",
       "      <td>29703</td>\n",
       "      <td>12051</td>\n",
       "      <td>16027</td>\n",
       "      <td>13135</td>\n",
       "      <td>182</td>\n",
       "      <td>2204</td>\n",
       "    </tr>\n",
       "    <tr>\n",
       "      <th>436</th>\n",
       "      <td>1</td>\n",
       "      <td>3</td>\n",
       "      <td>39228</td>\n",
       "      <td>1431</td>\n",
       "      <td>764</td>\n",
       "      <td>4510</td>\n",
       "      <td>93</td>\n",
       "      <td>2346</td>\n",
       "    </tr>\n",
       "    <tr>\n",
       "      <th>437</th>\n",
       "      <td>2</td>\n",
       "      <td>3</td>\n",
       "      <td>14531</td>\n",
       "      <td>15488</td>\n",
       "      <td>30243</td>\n",
       "      <td>437</td>\n",
       "      <td>14841</td>\n",
       "      <td>1867</td>\n",
       "    </tr>\n",
       "    <tr>\n",
       "      <th>438</th>\n",
       "      <td>1</td>\n",
       "      <td>3</td>\n",
       "      <td>10290</td>\n",
       "      <td>1981</td>\n",
       "      <td>2232</td>\n",
       "      <td>1038</td>\n",
       "      <td>168</td>\n",
       "      <td>2125</td>\n",
       "    </tr>\n",
       "    <tr>\n",
       "      <th>439</th>\n",
       "      <td>1</td>\n",
       "      <td>3</td>\n",
       "      <td>2787</td>\n",
       "      <td>1698</td>\n",
       "      <td>2510</td>\n",
       "      <td>65</td>\n",
       "      <td>477</td>\n",
       "      <td>52</td>\n",
       "    </tr>\n",
       "  </tbody>\n",
       "</table>\n",
       "</div>"
      ],
      "text/plain": [
       "     Channel  Region  Fresh   Milk  Grocery  Frozen  Detergents_Paper  \\\n",
       "435        1       3  29703  12051    16027   13135               182   \n",
       "436        1       3  39228   1431      764    4510                93   \n",
       "437        2       3  14531  15488    30243     437             14841   \n",
       "438        1       3  10290   1981     2232    1038               168   \n",
       "439        1       3   2787   1698     2510      65               477   \n",
       "\n",
       "     Delicassen  \n",
       "435        2204  \n",
       "436        2346  \n",
       "437        1867  \n",
       "438        2125  \n",
       "439          52  "
      ]
     },
     "execution_count": 2,
     "metadata": {},
     "output_type": "execute_result"
    }
   ],
   "source": [
    "df = pd.read_csv('Wholesale customers data.csv')\n",
    "df.tail()"
   ]
  },
  {
   "cell_type": "markdown",
   "id": "21fb0d2f",
   "metadata": {},
   "source": [
    "## 🔍 Checking for missing values"
   ]
  },
  {
   "cell_type": "code",
   "execution_count": 3,
   "id": "5fb4187d",
   "metadata": {},
   "outputs": [
    {
     "data": {
      "text/plain": [
       "Channel             0\n",
       "Region              0\n",
       "Fresh               0\n",
       "Milk                0\n",
       "Grocery             0\n",
       "Frozen              0\n",
       "Detergents_Paper    0\n",
       "Delicassen          0\n",
       "dtype: int64"
      ]
     },
     "execution_count": 3,
     "metadata": {},
     "output_type": "execute_result"
    }
   ],
   "source": [
    "df.isnull().sum()"
   ]
  },
  {
   "cell_type": "markdown",
   "id": "1d4adb35",
   "metadata": {},
   "source": [
    "## 🎯 Declare feature vector and target variable"
   ]
  },
  {
   "cell_type": "code",
   "execution_count": 4,
   "id": "9de4c41f",
   "metadata": {},
   "outputs": [
    {
     "data": {
      "text/plain": [
       "0    2\n",
       "1    2\n",
       "2    2\n",
       "3    1\n",
       "4    2\n",
       "Name: Channel, dtype: int64"
      ]
     },
     "execution_count": 4,
     "metadata": {},
     "output_type": "execute_result"
    }
   ],
   "source": [
    "X = df.drop('Channel', axis=1)\n",
    "# ---\n",
    "y = df['Channel']\n",
    "y.head()"
   ]
  },
  {
   "cell_type": "markdown",
   "id": "d6476a55",
   "metadata": {},
   "source": [
    "We can see that the \\$y\\$ labels currently contain the values \\$1\\$ and \\$2\\$. For simplicity and easier interpretation, we will convert them to \\$0\\$ and \\$1\\$ for further analysis."
   ]
  },
  {
   "cell_type": "code",
   "execution_count": 5,
   "id": "9bc12073",
   "metadata": {},
   "outputs": [],
   "source": [
    "y[y == 2] = 0\n",
    "y[y == 1] = 1"
   ]
  },
  {
   "cell_type": "markdown",
   "id": "10985fa1",
   "metadata": {},
   "source": [
    "Now, I will convert the dataset into an optimized data structure called **Dmatrix** that XGBoost supports and gives it acclaimed performance and efficiency gains"
   ]
  },
  {
   "cell_type": "code",
   "execution_count": 6,
   "id": "dcb97249",
   "metadata": {},
   "outputs": [],
   "source": [
    "data_dmatrix = xgb.DMatrix(data=X, label=y)"
   ]
  },
  {
   "cell_type": "markdown",
   "id": "aa1c39f7",
   "metadata": {},
   "source": [
    "## ✂️ Split data into separate training and test set"
   ]
  },
  {
   "cell_type": "code",
   "execution_count": 7,
   "id": "9db6392e",
   "metadata": {},
   "outputs": [],
   "source": [
    "X_train, X_test, y_train, y_test = train_test_split(X, y, test_size = 0.3, random_state = 0)"
   ]
  },
  {
   "cell_type": "markdown",
   "id": "d1d9c042",
   "metadata": {},
   "source": [
    "## 🔧 Train the XGBoost Classifier\n",
    "\n",
    "Now it's time to train our **XGBoost classifier**!\n",
    "Before we begin, it’s important to understand the different types of parameters that XGBoost offers. These parameters control the model’s behavior, performance, and complexity.\n",
    "\n",
    "There are **four main categories** of parameters you should know:\n",
    "\n",
    "\n",
    "### ⚙️ General parameters\n",
    "\n",
    "These define which **booster type** to use (e.g., tree-based or linear).\n",
    "Common options include:\n",
    "\n",
    "* `gbtree` – tree-based models (default)\n",
    "* `gblinear` – linear models\n",
    "* `dart` – tree-based models with dropout\n",
    "\n",
    "\n",
    "### 🌲 Booster parameters\n",
    "\n",
    "These depend on the selected booster type and control the training process of individual trees or models.\n",
    "\n",
    "\n",
    "### 🎯 Learning task parameters\n",
    "\n",
    "These define the **objective function** and the type of learning task (e.g., regression, classification, ranking).\n",
    "\n",
    "### 💻 Command line parameters\n",
    "\n",
    "These relate to the CLI (Command Line Interface) version of XGBoost, and aren’t usually needed when using the Python API.\n",
    "\n",
    "\n",
    "## 🧠 Key Parameters to know\n",
    "\n",
    "Here are some of the most important parameters you'll likely tune:\n",
    "\n",
    "* **`learning_rate`** – Controls the step size shrinkage to prevent overfitting. Range: `[0, 1]`.\n",
    "* **`max_depth`** – Maximum depth of a tree. Deeper trees can capture more complex patterns.\n",
    "* **`subsample`** – Fraction of the training data to use for each tree. Lower values can help prevent overfitting.\n",
    "* **`colsample_bytree`** – Fraction of features to use for each tree. Higher values may lead to overfitting.\n",
    "* **`n_estimators`** – Number of boosting rounds (i.e., trees).\n",
    "* **`objective`** – Specifies the learning task and the corresponding loss function:\n",
    "\n",
    "  * `reg:squarederror` – for regression\n",
    "  * `binary:logistic` – for binary classification (probability output)\n",
    "  * `reg:logistic` – for classification with decision outputs\n",
    "\n",
    "\n",
    "## 🛡️ Regularization parameters\n",
    "\n",
    "XGBoost also offers regularization to reduce model complexity and avoid overfitting:\n",
    "\n",
    "* **`gamma`** – Minimum loss reduction required to make a split. Higher values result in fewer splits.\n",
    "* **`alpha`** – L1 regularization term on weights (Lasso). Encourages sparsity.\n",
    "* **`lambda`** – L2 regularization term on weights (Ridge). Adds smoothness.\n",
    "\n",
    "Even though we're using **trees as base learners**, XGBoost also supports linear models (`gblinear`) and dropout-based trees (`dart`) via the `booster` parameter.\n",
    "\n",
    "---\n",
    "\n",
    "Imagine you're a data scientist, and it's time to fine-tune your machine learning model. Fortunately, after some experimentation, you’ve found that the parameter combination below delivers a satisfactory performance for your classification task.\n"
   ]
  },
  {
   "cell_type": "code",
   "execution_count": 8,
   "id": "5a4a6229",
   "metadata": {},
   "outputs": [
    {
     "name": "stdout",
     "output_type": "stream",
     "text": [
      "XGBClassifier(alpha=0.0, base_score=None, booster='gbtree', callbacks=None,\n",
      "              colsample_bylevel=None, colsample_bynode=None,\n",
      "              colsample_bytree=0.8, device=None, early_stopping_rounds=None,\n",
      "              enable_categorical=False, eval_metric='logloss',\n",
      "              feature_types=None, gamma=None, grow_policy=None,\n",
      "              importance_type=None, interaction_constraints=None, lambda=1.0,\n",
      "              learning_rate=0.1, max_bin=None, max_cat_threshold=None,\n",
      "              max_cat_to_onehot=None, max_delta_step=None, max_depth=3,\n",
      "              max_leaves=None, min_child_weight=None, missing=nan,\n",
      "              monotone_constraints=None, multi_strategy=None, n_estimators=None,\n",
      "              n_jobs=None, ...)\n"
     ]
    }
   ],
   "source": [
    "params = {\n",
    "    # Target function for binary classification\n",
    "    'objective': 'binary:logistic',\n",
    "\n",
    "    # Evaluation metric\n",
    "    'eval_metric': 'logloss',\n",
    "\n",
    "    # Booster type (default is 'gbtree')\n",
    "    'booster': 'gbtree',\n",
    "\n",
    "    # Learning rate (step size shrinkage)\n",
    "    'learning_rate': 0.1,\n",
    "\n",
    "    # Maximum depth of each tree\n",
    "    'max_depth': 3,\n",
    "\n",
    "    # Subsample ratio of the training instances\n",
    "    'subsample': 0.8,\n",
    "\n",
    "    # Subsample ratio of columns for each tree\n",
    "    'colsample_bytree': 0.8,\n",
    "\n",
    "    # L2 regularization term on weights (Ridge)\n",
    "    'lambda': 1.0,\n",
    "\n",
    "    # L1 regularization term on weights (Lasso)\n",
    "    'alpha': 0.0}\n",
    "\n",
    "#------------------\n",
    "\n",
    "# Instantiate the classifier\n",
    "xgb_clf = XGBClassifier(**params)\n",
    "\n",
    "# Fit the classifier to the training data\n",
    "xgb_clf.fit(X_train, y_train)\n",
    "print(xgb_clf)\n"
   ]
  },
  {
   "cell_type": "markdown",
   "id": "9c809017",
   "metadata": {},
   "source": [
    "## 🔮 Make Predictions with XGBoost Classifier"
   ]
  },
  {
   "cell_type": "code",
   "execution_count": 9,
   "id": "eb25b790",
   "metadata": {},
   "outputs": [],
   "source": [
    "# make predictions on test data\n",
    "y_pred = xgb_clf.predict(X_test)"
   ]
  },
  {
   "cell_type": "markdown",
   "id": "b4cb2d2d",
   "metadata": {},
   "source": [
    "## ✅ Check Accuracy Score"
   ]
  },
  {
   "cell_type": "code",
   "execution_count": 10,
   "id": "b53760a2",
   "metadata": {},
   "outputs": [
    {
     "name": "stdout",
     "output_type": "stream",
     "text": [
      "Accuracy:  0.8939\n",
      "Precision: 0.8913\n",
      "Recall:    0.9535\n",
      "f1-Score:  0.9213\n",
      "AUC:       0.9626\n"
     ]
    },
    {
     "data": {
      "text/plain": [
       "<sklearn.metrics._plot.confusion_matrix.ConfusionMatrixDisplay at 0x1faef8fb490>"
      ]
     },
     "execution_count": 10,
     "metadata": {},
     "output_type": "execute_result"
    },
    {
     "data": {
      "image/png": "[encoded data removed]",
      "text/plain": [
       "<Figure size 432x288 with 2 Axes>"
      ]
     },
     "metadata": {
      "needs_background": "light"
     },
     "output_type": "display_data"
    }
   ],
   "source": [
    "# Evaluate metrics\n",
    "accuracy = accuracy_score(y_test, y_pred)\n",
    "precision = precision_score(y_test, y_pred)\n",
    "recall = recall_score(y_test, y_pred)\n",
    "f1 = f1_score(y_test, y_pred)\n",
    "auc = roc_auc_score(y_test, xgb_clf.predict_proba(X_test)[:, 1])\n",
    "\n",
    "# Print scores\n",
    "print(f'Accuracy:  {accuracy:.4f}')\n",
    "print(f'Precision: {precision:.4f}')\n",
    "print(f'Recall:    {recall:.4f}')\n",
    "print(f'f1-Score:  {f1:.4f}')\n",
    "print(f'AUC:       {auc:.4f}')\n",
    "\n",
    "# Confusion Matrix\n",
    "cm = confusion_matrix(y_test, y_pred)\n",
    "disp = ConfusionMatrixDisplay(confusion_matrix=cm)\n",
    "disp.plot(cmap='Blues')"
   ]
  },
  {
   "cell_type": "markdown",
   "id": "85f01fe9",
   "metadata": {},
   "source": [
    "## 🔍 Feature importance with XGBoost"
   ]
  },
  {
   "cell_type": "code",
   "execution_count": 11,
   "id": "2c7604df",
   "metadata": {},
   "outputs": [
    {
     "data": {
      "image/png": "[encoded data removed]",
      "text/plain": [
       "<Figure size 720x432 with 1 Axes>"
      ]
     },
     "metadata": {
      "needs_background": "light"
     },
     "output_type": "display_data"
    }
   ],
   "source": [
    "importances = xgb_clf.get_booster().get_score(importance_type='gain')\n",
    "\n",
    "# Convert to DataFrame and sort\n",
    "importance_df = pd.DataFrame({\n",
    "    'Feature': list(importances.keys()),\n",
    "    'Importance': list(importances.values())\n",
    "}).sort_values(by='Importance', ascending=False)\n",
    "\n",
    "# Optional: show only top N features\n",
    "top_n = 10\n",
    "importance_df = importance_df.head(top_n)\n",
    "\n",
    "# Plot with seaborn\n",
    "plt.figure(figsize=(10, 6))\n",
    "sns.barplot(data=importance_df, x='Importance', y='Feature', palette='viridis')\n",
    "plt.title(f\"Top {top_n} Feature Importances (Gain)\")\n",
    "plt.xlabel(\"Gain\")\n",
    "plt.ylabel(\"Feature\")\n",
    "plt.tight_layout()\n",
    "plt.show()\n"
   ]
  },
  {
   "cell_type": "markdown",
   "id": "556edbaa",
   "metadata": {},
   "source": [
    "------------"
   ]
  },
  {
   "cell_type": "markdown",
   "id": "38e762fd",
   "metadata": {},
   "source": [
    "📦 **Project Handoff to MLOps**\n",
    "\n",
    "Now, imagine this is the final output of a data scientist's work. This project will be handed over to a machine learning engineer, who will be responsible for versioning the model using MLflow.\n",
    "\n",
    "The engineer will set up experiment tracking, store the generated artifacts, monitor model performance metrics, and ensure the entire workflow is reproducible all as part of a well-structured MLOps pipeline.\n",
    "\n",
    "🎯 **Next Step: Hyperparameter Optimization**\n",
    "\n",
    "From this point on, we will perform hyperparameter optimization using Optuna. Meanwhile, MLflow will continue to log each experiment, allowing us to compare versions and easily identify the best set of parameters.\n",
    "\n",
    "\n",
    "---------"
   ]
  },
  {
   "cell_type": "markdown",
   "id": "544afdb2",
   "metadata": {},
   "source": [
    "## ⚙️ MLOps in Practice: Managing the Machine Learning Model Lifecycle\n",
    "\n",
    "Now, we explore how **MLOps** practices help structure, automate, and scale the machine learning model lifecycle — from data preparation and model training to deployment, monitoring, and continuous improvement. We'll demonstrate how tools like **MLflow** can streamline this process and ensure reproducibility, traceability, and collaboration across teams."
   ]
  },
  {
   "cell_type": "markdown",
   "id": "3940ddd0",
   "metadata": {},
   "source": [
    "## 🚀 Initializing the MLflow Server\n",
    "\n",
    "To start the MLflow tracking server locally, follow the steps based on your environment:\n",
    "\n",
    "---\n",
    "\n",
    "### 🐍 **Using Anaconda**\n",
    "\n",
    "1. Open the **Anaconda Command Prompt**  \n",
    "2. Navigate to your project directory:\n",
    "\n",
    "   ```bash\n",
    "   cd your-project-path\n",
    "\n",
    "3. Run the MLflow server:\n",
    "\n",
    "   ```bash\n",
    "   python -m mlflow server --host 127.0.0.1 --port 8282\n",
    "\n",
    "\n",
    "### 💻 **Using VS Code**\n",
    "\n",
    "1. Open the **terminal** in VS Code\n",
    "2. Run the command below:\n",
    "\n",
    "   ```bash\n",
    "   py -m mlflow server --host 127.0.0.1 --port 8282\n",
    "\n",
    "✅ Make sure you're using the same Python environment or kernel as the one used in your notebook or training script.\n",
    "\n",
    "-----\n",
    "\n",
    "🛰️  Now, let's define the address of the MLflow tracking server — that is, where the experiment logs (parameters, metrics, models, etc.) will be sent and stored."
   ]
  },
  {
   "cell_type": "code",
   "execution_count": 12,
   "id": "e89f0788",
   "metadata": {},
   "outputs": [],
   "source": [
    "mlflow.set_tracking_uri('http://127.0.0.1:8282')"
   ]
  },
  {
   "cell_type": "markdown",
   "id": "21494f27",
   "metadata": {},
   "source": [
    "Access the URL above from a new tab in your browser: [http://127.0.0.1:8282](http://127.0.0.1:8282)\n"
   ]
  },
  {
   "cell_type": "markdown",
   "id": "42c05a52",
   "metadata": {},
   "source": [
    "## 📈 **Monitoring the Trained Model**\n",
    "\n",
    "To properly monitor the performance of the trained model, we will generate a series of visualizations that will help us better understand how the model is behaving.\n",
    "\n",
    "These plots will assist in:\n",
    "\n",
    "* Evaluating predictive quality\n",
    "* Identifying potential bias or imbalance\n",
    "* Detecting signs of overfitting or underfitting\n",
    "* Supporting model explainability and transparency\n",
    "\n",
    "By visualizing key metrics and outputs, we can gain valuable insights that go beyond raw numbers and ensure the model remains reliable over time."
   ]
  },
  {
   "cell_type": "code",
   "execution_count": 13,
   "id": "5b9e477a",
   "metadata": {},
   "outputs": [],
   "source": [
    "def plot_corr(df, target='Channel', save_path=None, top_n=None):\n",
    "    '''\n",
    "    Parameters:\n",
    "    - df: pandas DataFrame containing the dataset\n",
    "    - target: string, name of the target column\n",
    "    - save_path: optional path to save the figure (as PNG)\n",
    "    - top_n: optional, number of top features to display based on absolute correlation\n",
    "    '''\n",
    "    # Compute correlations with the target \n",
    "    corr = df.corr()[target].drop(target)\n",
    "    corr = corr.reindex(corr.abs().sort_values().index)\n",
    "\n",
    "    # Optionally show only top N correlated features\n",
    "    if top_n:\n",
    "        corr = corr.tail(top_n)\n",
    "\n",
    "    # Set clean white style\n",
    "    sns.set_style('white')\n",
    "    fig, ax = plt.subplots(figsize=(10, 0.5 * len(corr) + 1))\n",
    "\n",
    "    # Plot horizontal bars with elegant color\n",
    "    bars = ax.barh(\n",
    "        corr.index, corr.values,\n",
    "        color='#4C72B0', edgecolor='black', height=0.6\n",
    "    )\n",
    "\n",
    "    # Add correlation values next to bars\n",
    "    for bar in bars:\n",
    "        width = bar.get_width()\n",
    "        ax.text(\n",
    "            x=width + 0.02 if width > 0 else width - 0.02,\n",
    "            y=bar.get_y() + bar.get_height() / 2,\n",
    "            s=f\"{width:.2f}\",\n",
    "            va='center',\n",
    "            ha='left' if width > 0 else 'right',\n",
    "            fontsize=11)\n",
    "\n",
    "    # Clean and minimal axes\n",
    "    ax.set_title(f\"Correlation with '{target}'\", fontsize=16, pad=12)\n",
    "    ax.set_xlabel(\"Correlation Coefficient\", fontsize=13)\n",
    "    ax.set_ylabel(\"\")\n",
    "    ax.spines['right'].set_visible(False)\n",
    "    ax.spines['top'].set_visible(False)\n",
    "    ax.spines['left'].set_color('#cccccc')\n",
    "    ax.spines['bottom'].set_color('#cccccc')\n",
    "    plt.grid(axis='x', linestyle='--', alpha=0.4)\n",
    "    plt.xticks(fontsize=11)\n",
    "    plt.yticks(fontsize=11)\n",
    "    plt.tight_layout()\n",
    "\n",
    "    # Save figure if needed\n",
    "    if save_path:\n",
    "        plt.savefig(save_path, dpi=300, bbox_inches='tight')\n",
    "\n",
    "    plt.close(fig)\n",
    "    return fig\n"
   ]
  },
  {
   "cell_type": "code",
   "execution_count": 14,
   "id": "8201dc6e",
   "metadata": {},
   "outputs": [
    {
     "data": {
      "image/png": "[encoded data removed]",
      "text/plain": [
       "<Figure size 720x324 with 1 Axes>"
      ]
     },
     "execution_count": 14,
     "metadata": {},
     "output_type": "execute_result"
    }
   ],
   "source": [
    "plot_corr(df)"
   ]
  },
  {
   "cell_type": "code",
   "execution_count": 15,
   "id": "10eb45b5",
   "metadata": {},
   "outputs": [],
   "source": [
    "def plot_confusion_matrix(y_true, y_pred, labels=None, save_path=None):\n",
    "    '''\n",
    "    Plots a styled confusion matrix with annotated counts.\n",
    "\n",
    "    Parameters:\n",
    "    - y_true: array-like, true target labels\n",
    "    - y_pred: array-like, predicted labels\n",
    "    - labels: optional list of label names (for axis ticks)\n",
    "    - save_path: optional path to save the figure as PNG\n",
    "    '''\n",
    "    # Compute confusion matrix\n",
    "    cm = confusion_matrix(y_true, y_pred)\n",
    "\n",
    "    # Set seaborn style\n",
    "    sns.set_style('whitegrid', {\n",
    "        'axes.facecolor': '#eaeaf2',\n",
    "        'grid.linewidth': 1.2})\n",
    "\n",
    "    # Create figure\n",
    "    fig, ax = plt.subplots(figsize=(8, 6))\n",
    "\n",
    "    # Plot heatmap\n",
    "    sns.heatmap(\n",
    "        cm, annot=True, fmt='d', cmap='Blues',\n",
    "        cbar=False, square=True, linewidths=0.5,\n",
    "        xticklabels=labels if labels else 'auto',\n",
    "        yticklabels=labels if labels else 'auto',\n",
    "        ax=ax)\n",
    "\n",
    "    # Titles and labels\n",
    "    ax.set_title('Confusion Matrix', fontsize=16, pad=12)\n",
    "    ax.set_xlabel('Predicted Labels', fontsize=13)\n",
    "    ax.set_ylabel('True Labels', fontsize=13)\n",
    "    ax.tick_params(axis='both', labelsize=12)\n",
    "\n",
    "    # Adjust layout\n",
    "    plt.tight_layout()\n",
    "\n",
    "    # ✅ Save if path provided\n",
    "    if save_path:\n",
    "        fig.savefig(save_path, format=\"png\", dpi=600, bbox_inches='tight')\n",
    "\n",
    "    # Close and return\n",
    "    plt.close(fig)\n",
    "    return fig\n"
   ]
  },
  {
   "cell_type": "code",
   "execution_count": 16,
   "id": "ebb947b0",
   "metadata": {},
   "outputs": [
    {
     "data": {
      "image/png": "[encoded data removed]",
      "text/plain": [
       "<Figure size 576x432 with 1 Axes>"
      ]
     },
     "execution_count": 16,
     "metadata": {},
     "output_type": "execute_result"
    }
   ],
   "source": [
    "plot_confusion_matrix(y_test, y_pred, labels=['Class 0', 'Class 1'])"
   ]
  },
  {
   "cell_type": "code",
   "execution_count": 17,
   "id": "8f56e464",
   "metadata": {},
   "outputs": [],
   "source": [
    "def plot_feature_importance(model, booster='gbtree', top_n=10, importance_type=None, save_path=None):\n",
    "    '''\n",
    "    Plots feature importance for a trained XGBoost model (either Booster or XGBClassifier).\n",
    "    '''\n",
    "    if importance_type is None:\n",
    "        importance_type = 'weight' if booster == 'gblinear' else 'gain'\n",
    "\n",
    "    # Handle both Booster and XGBClassifier\n",
    "    if hasattr(model, 'get_booster'):\n",
    "        booster_model = model.get_booster()\n",
    "    else:\n",
    "        booster_model = model  # assume it's already a Booster\n",
    "\n",
    "    # Extract feature importances\n",
    "    importances = booster_model.get_score(importance_type=importance_type)\n",
    "\n",
    "    importance_df = pd.DataFrame({\n",
    "        'Feature': list(importances.keys()),\n",
    "        'Importance': list(importances.values())\n",
    "    }).sort_values(by='Importance', ascending=False)\n",
    "\n",
    "    if top_n:\n",
    "        importance_df = importance_df.head(top_n)\n",
    "\n",
    "    sns.set_style('white')\n",
    "    plt.figure(figsize=(10, 6))\n",
    "    sns.barplot(data=importance_df, x='Importance', y='Feature', palette='viridis')\n",
    "\n",
    "    plt.title(f'Top {top_n} Feature Importances ({importance_type.title()})', fontsize=14)\n",
    "    plt.xlabel(importance_type.title(), fontsize=12)\n",
    "    plt.ylabel('Feature', fontsize=12)\n",
    "    plt.xticks(fontsize=11)\n",
    "    plt.yticks(fontsize=11)\n",
    "    plt.grid(axis='x', linestyle='--', alpha=0.3)\n",
    "    plt.tight_layout()\n",
    "\n",
    "    if save_path:\n",
    "        plt.savefig(save_path, dpi=300, bbox_inches='tight', facecolor='white')\n",
    "\n",
    "    fig = plt.gcf()\n",
    "    plt.close()\n",
    "    return fig\n"
   ]
  },
  {
   "cell_type": "code",
   "execution_count": 18,
   "id": "54e7c627",
   "metadata": {},
   "outputs": [
    {
     "data": {
      "image/png": "[encoded data removed]",
      "text/plain": [
       "<Figure size 720x432 with 1 Axes>"
      ]
     },
     "execution_count": 18,
     "metadata": {},
     "output_type": "execute_result"
    }
   ],
   "source": [
    "plot_feature_importance(xgb_clf, booster='gbtree', top_n=10, importance_type=None, save_path=None)"
   ]
  },
  {
   "cell_type": "markdown",
   "id": "b36ab2d8",
   "metadata": {},
   "source": [
    "## 🧪 Creating the experiment in MLflow"
   ]
  },
  {
   "cell_type": "code",
   "execution_count": 19,
   "id": "ec479566",
   "metadata": {},
   "outputs": [],
   "source": [
    "# Function to create an MLflow experiment\n",
    "def create_experiment(experiment_name):\n",
    "    '''\n",
    "    Creates an MLflow experiment if it doesn't already exist.\n",
    "    \n",
    "    Parameters:\n",
    "    - experiment_name: string, name of the experiment to create or retrieve\n",
    "    \n",
    "    Returns:\n",
    "    - experiment_id: the ID of the existing or newly created experiment\n",
    "    '''\n",
    "\n",
    "    # Check if the experiment already exists by name\n",
    "    if experiment := mlflow.get_experiment_by_name(experiment_name):\n",
    "        # If it exists, return its ID\n",
    "        return experiment.experiment_id\n",
    "    else:\n",
    "        # If it doesn't exist, create a new one and return its ID\n",
    "        return mlflow.create_experiment(experiment_name)"
   ]
  },
  {
   "cell_type": "code",
   "execution_count": 20,
   "id": "6f0317ff",
   "metadata": {},
   "outputs": [
    {
     "name": "stdout",
     "output_type": "stream",
     "text": [
      "The ID of experiment is: 588080332252433563\n"
     ]
    }
   ],
   "source": [
    "# creating the experiment\n",
    "id_experiment = create_experiment('mlflow-project')\n",
    "print(f'The ID of experiment is: {id_experiment}')"
   ]
  },
  {
   "cell_type": "markdown",
   "id": "2355e269",
   "metadata": {},
   "source": [
    "View it in your browser: [http://127.0.0.1:8282](http://127.0.0.1:8282)\n"
   ]
  },
  {
   "cell_type": "markdown",
   "id": "cc4dbc56",
   "metadata": {},
   "source": [
    "## 🛠️ Fine-tuning the model\n",
    "\n",
    "🔍 Imagine your job is to monitor the performance of a model developed by **the data scientist**.\\\n",
    "🚀 Since you also have data science skills, you decide to take it a step further by optimizing the model’s **hyperparameters**.\\\n",
    "🧠 You know that, for the tuning to be meaningful and leakage-free, you must work with three separate datasets:\n",
    "🏋️ The **training set** is used to adjust the model’s weights.\\\n",
    "🧪 The **validation set** helps you compare different hyperparameter configurations without touching the test set.\\\n",
    "🎯 The **test set** remains untouched until the final evaluation, ensuring that performance is measured on truly unseen data.\\\n",
    "✅ This setup ensures reliable, reproducible results and a model ready for production.\n"
   ]
  },
  {
   "cell_type": "code",
   "execution_count": 21,
   "id": "15338434",
   "metadata": {},
   "outputs": [],
   "source": [
    "X_trainval, X_test, y_trainval, y_test = train_test_split(X, y, test_size=0.3, random_state=0)\n",
    "\n",
    "# Fixed split into training and validation for all trials\n",
    "X_train, X_valid, y_train, y_valid = train_test_split(X_trainval, y_trainval, test_size=0.2, random_state=0)"
   ]
  },
  {
   "cell_type": "markdown",
   "id": "ba80cd22",
   "metadata": {},
   "source": [
    "🤖✨ **Why Use a Validation Set for Hyperparameter Tuning?** ✨🔍\n",
    "\n",
    "When performing **hyperparameter tuning** (e.g., with Optuna), it's essential to split your data into three sets: **training**, **validation**, and **test**. Here’s why:\n",
    "\n",
    "---\n",
    "\n",
    "1. 🔒 **Avoid Information Leakage**\n",
    "\n",
    "   * If you only use *train* and *test* and choose hyperparameters based on the *test* set, you're leaking information — meaning you've tuned for the *test* instead of truly measuring generalization.\n",
    "   * 🛑 The **test** set must remain **untouched** until final evaluation, simulating truly unseen data.\n",
    "\n",
    "2. 🎯 **Tune Using a Separate Set**\n",
    "\n",
    "   * **Training set:** fits the model’s weights.\n",
    "   * **Validation set:** compares different configurations (number of trees, depth, learning rate, etc.) without touching the *test* set.\n",
    "   * ✅ Only after selecting the best configuration on the *validation* set should you “freeze” the model and evaluate it on the *test* set.\n",
    "\n",
    "3. 🔄 **Reproducibility Across Trials**\n",
    "\n",
    "   * By using the same *(X\\_train, X\\_valid)* split for **all** trials, you ensure that the only change Optuna sees is the **hyperparameter**, not a new data partition each time.\n",
    "   * This makes comparisons between trials fairer and more stable.\n",
    "\n",
    "4. 📊 **Typical Data Split**\n",
    "\n",
    "   * `test_size=0.3` → 30% of the data is allocated to the **final test**.\n",
    "   * Of the remaining 70%, using `test_size=0.2` gives 14% for **validation**, and 56% remains for **training**.\n",
    "   * In summary:\n",
    "\n",
    "     * 🏋️ **Training:** 56%\n",
    "     * 🔎 **Validation:** 14%\n",
    "     * 🎯 **Test:** 30%\n",
    "\n",
    "---\n",
    "\n",
    "### 🚀 Ideal Tuning Pipeline Flow\n",
    "\n",
    "1. 🪓 **3-way split:** `train` ↔ `validation` ↔ `test`\n",
    "2. ⚙️ **Hyperparameter optimization** using **train + validation**\n",
    "3. 🏋️ **Final training** with the best configuration on **train + validation**\n",
    "4. 🎯 **Final evaluation** on the **test** set (unseen data)\n",
    "\n",
    "---\n",
    "\n",
    "✅ **Benefits:**\n",
    "\n",
    "* The model **doesn’t overfit** to the test set.\n",
    "* Hyperparameter selection is **truly generalizable**.\n",
    "* The final evaluation reflects the model’s **true performance** on new data.\n",
    "\n",
    "You're now running a tuning process that’s leakage-proof and free from biased comparisons. 😉👍\n"
   ]
  },
  {
   "cell_type": "markdown",
   "id": "9c8cb857",
   "metadata": {},
   "source": [
    "## 🎯 Maximizing F1-Score for Balanced Performance\n",
    "\n",
    "\n",
    "Here, we chose to **maximize the F1-score** as our objective in order to ensure a balanced and meaningful performance metric.\n"
   ]
  },
  {
   "cell_type": "code",
   "execution_count": 22,
   "id": "1fe2c87f",
   "metadata": {},
   "outputs": [],
   "source": [
    "def optimize_hyperparameters(trial):\n",
    "    # Convert to DMatrix\n",
    "    dsubtrain = xgb.DMatrix(X_train.values, label=y_train.values)\n",
    "    dvalid   = xgb.DMatrix(X_valid.values, label=y_valid.values)\n",
    "\n",
    "    # Hyperparameter search space\n",
    "    params = {\n",
    "        'objective':        'binary:logistic',\n",
    "        'eval_metric':      'logloss',\n",
    "        'booster':          trial.suggest_categorical('booster', ['gbtree','gblinear','dart']),\n",
    "        'learning_rate':    trial.suggest_float('learning_rate', 0.01, 0.3),\n",
    "        'max_depth':        trial.suggest_int('max_depth', 3, 10),\n",
    "        'subsample':        trial.suggest_float('subsample', 0.5, 1.0),\n",
    "        'colsample_bytree': trial.suggest_float('colsample_bytree', 0.5, 1.0),\n",
    "        'reg_lambda':       trial.suggest_float('reg_lambda', 1e-8, 1.0, log=True),\n",
    "        'reg_alpha':        trial.suggest_float('reg_alpha', 1e-8, 1.0, log=True)}\n",
    "\n",
    "    # Each trial is a nested run in MLflow\n",
    "    with mlflow.start_run(nested=True):\n",
    "        model = xgb.train(\n",
    "            params,\n",
    "            dsubtrain,\n",
    "            evals=[(dvalid, 'validation')],\n",
    "            num_boost_round=1000,\n",
    "            early_stopping_rounds=20,\n",
    "            verbose_eval=False\n",
    "        )\n",
    "\n",
    "        # Evaluate on the validation set\n",
    "        preds_proba = model.predict(dvalid)\n",
    "        preds       = (preds_proba > 0.5).astype(int)\n",
    "        f1          = f1_score(y_valid, preds)\n",
    "\n",
    "        # Log parameters and metric to MLflow\n",
    "        mlflow.log_params(params)\n",
    "        mlflow.log_metric('f1_score', f1)\n",
    "\n",
    "    # Optuna minimizes the objective, so return 1 - f1_score\n",
    "    return 1.0 - f1"
   ]
  },
  {
   "cell_type": "markdown",
   "id": "1d08b639",
   "metadata": {},
   "source": [
    "## 🏆 Tracking the Best F1-Score During Optimization\n",
    "\n",
    "This callback monitors each trial and updates the current best F1-score. Whenever a new trial achieves a better score, it logs the result and stores it as the new winner, helping track progress in real time.\n"
   ]
  },
  {
   "cell_type": "code",
   "execution_count": 23,
   "id": "410b0f60",
   "metadata": {},
   "outputs": [],
   "source": [
    "def f1_score_callback(study, frozen_trial):\n",
    "    current_winner = study.user_attrs.get('winner', None)\n",
    "    if study.best_value is not None and current_winner != study.best_value:\n",
    "        study.set_user_attr('winner', study.best_value)\n",
    "        print(f'New best F1-score: {1.0 - study.best_value:.4f} '\n",
    "              f'on trial {frozen_trial.number}')"
   ]
  },
  {
   "cell_type": "markdown",
   "id": "5e4f5d46",
   "metadata": {},
   "source": [
    "## 🧪 Full Training and Evaluation Pipeline with MLflow & Optuna\n",
    "\n",
    "This script performs a complete machine learning workflow: it starts an MLflow run, optimizes hyperparameters with Optuna, logs the best trial's results, trains the final model using both training and validation data, and evaluates it on a held-out test set. Performance metrics (accuracy, precision, recall, F1-score) and the confusion matrix are logged. Finally, the model is saved with its signature for proper versioning in MLflow’s Model Registry."
   ]
  },
  {
   "cell_type": "code",
   "execution_count": 24,
   "id": "dd2a3ff7",
   "metadata": {},
   "outputs": [
    {
     "name": "stderr",
     "output_type": "stream",
     "text": [
      "[I 2025-07-21 14:30:38,466] A new study created in memory with name: no-name-14b94669-1242-4835-8b41-20026b143075\n",
      "[I 2025-07-21 14:30:39,002] Trial 0 finished with value: 0.07317073170731703 and parameters: {'booster': 'gblinear', 'learning_rate': 0.12507431600512128, 'max_depth': 5, 'subsample': 0.610353838909973, 'colsample_bytree': 0.9405621118019505, 'reg_lambda': 0.06187420283415937, 'reg_alpha': 0.0008312259988774001}. Best is trial 0 with value: 0.07317073170731703.\n"
     ]
    },
    {
     "name": "stdout",
     "output_type": "stream",
     "text": [
      "🏃 View run entertaining-yak-474 at: http://127.0.0.1:8282/#/experiments/588080332252433563/runs/176e96f2531e4eadbd7f626f54f0ab8e\n",
      "🧪 View experiment at: http://127.0.0.1:8282/#/experiments/588080332252433563\n",
      "New best F1-score: 0.9268 on trial 0\n"
     ]
    },
    {
     "name": "stderr",
     "output_type": "stream",
     "text": [
      "[I 2025-07-21 14:30:39,703] Trial 1 finished with value: 0.07317073170731703 and parameters: {'booster': 'gblinear', 'learning_rate': 0.038335188001472904, 'max_depth': 9, 'subsample': 0.9468743535421831, 'colsample_bytree': 0.9708623651045458, 'reg_lambda': 0.11134270772314715, 'reg_alpha': 2.52739689109356e-05}. Best is trial 0 with value: 0.07317073170731703.\n"
     ]
    },
    {
     "name": "stdout",
     "output_type": "stream",
     "text": [
      "🏃 View run victorious-robin-9 at: http://127.0.0.1:8282/#/experiments/588080332252433563/runs/cf46570910e64d9e892db88ebc74fb9d\n",
      "🧪 View experiment at: http://127.0.0.1:8282/#/experiments/588080332252433563\n"
     ]
    },
    {
     "name": "stderr",
     "output_type": "stream",
     "text": [
      "[I 2025-07-21 14:30:40,175] Trial 2 finished with value: 0.06329113924050633 and parameters: {'booster': 'gbtree', 'learning_rate': 0.15706577238102065, 'max_depth': 4, 'subsample': 0.8806846463671303, 'colsample_bytree': 0.5008027245628051, 'reg_lambda': 1.9144607076923302e-07, 'reg_alpha': 0.0013381229964851973}. Best is trial 2 with value: 0.06329113924050633.\n"
     ]
    },
    {
     "name": "stdout",
     "output_type": "stream",
     "text": [
      "🏃 View run thoughtful-conch-974 at: http://127.0.0.1:8282/#/experiments/588080332252433563/runs/8428616c65a0418b836598d9fd70d046\n",
      "🧪 View experiment at: http://127.0.0.1:8282/#/experiments/588080332252433563\n",
      "New best F1-score: 0.9367 on trial 2\n"
     ]
    },
    {
     "name": "stderr",
     "output_type": "stream",
     "text": [
      "[I 2025-07-21 14:30:41,177] Trial 3 finished with value: 0.050000000000000044 and parameters: {'booster': 'dart', 'learning_rate': 0.057457426941951224, 'max_depth': 8, 'subsample': 0.5205143536991714, 'colsample_bytree': 0.6380734954083419, 'reg_lambda': 0.09716364265393987, 'reg_alpha': 0.005673072803534371}. Best is trial 3 with value: 0.050000000000000044.\n"
     ]
    },
    {
     "name": "stdout",
     "output_type": "stream",
     "text": [
      "🏃 View run suave-jay-480 at: http://127.0.0.1:8282/#/experiments/588080332252433563/runs/a6ba3d73074f4c02a1bec3776a3312a7\n",
      "🧪 View experiment at: http://127.0.0.1:8282/#/experiments/588080332252433563\n",
      "New best F1-score: 0.9500 on trial 3\n"
     ]
    },
    {
     "name": "stderr",
     "output_type": "stream",
     "text": [
      "[I 2025-07-21 14:30:41,602] Trial 4 finished with value: 0.07317073170731703 and parameters: {'booster': 'gblinear', 'learning_rate': 0.2234289606492334, 'max_depth': 8, 'subsample': 0.8879979829533002, 'colsample_bytree': 0.6345687684824313, 'reg_lambda': 2.74358210412096e-05, 'reg_alpha': 3.90871539641902e-05}. Best is trial 3 with value: 0.050000000000000044.\n"
     ]
    },
    {
     "name": "stdout",
     "output_type": "stream",
     "text": [
      "🏃 View run rumbling-rat-708 at: http://127.0.0.1:8282/#/experiments/588080332252433563/runs/082d12d0e81f4a3e8c3a5c73b2c562ef\n",
      "🧪 View experiment at: http://127.0.0.1:8282/#/experiments/588080332252433563\n"
     ]
    },
    {
     "name": "stderr",
     "output_type": "stream",
     "text": [
      "[I 2025-07-21 14:30:42,007] Trial 5 finished with value: 0.06329113924050633 and parameters: {'booster': 'gbtree', 'learning_rate': 0.2306145822341258, 'max_depth': 5, 'subsample': 0.971642718025667, 'colsample_bytree': 0.8709807122887026, 'reg_lambda': 4.808376692236764e-05, 'reg_alpha': 2.7523536753301914e-07}. Best is trial 3 with value: 0.050000000000000044.\n"
     ]
    },
    {
     "name": "stdout",
     "output_type": "stream",
     "text": [
      "🏃 View run crawling-mouse-792 at: http://127.0.0.1:8282/#/experiments/588080332252433563/runs/f3849028210c4f418ef4a56e8bee599b\n",
      "🧪 View experiment at: http://127.0.0.1:8282/#/experiments/588080332252433563\n"
     ]
    },
    {
     "name": "stderr",
     "output_type": "stream",
     "text": [
      "[I 2025-07-21 14:30:42,613] Trial 6 finished with value: 0.06172839506172845 and parameters: {'booster': 'dart', 'learning_rate': 0.16589865730604478, 'max_depth': 6, 'subsample': 0.5185168940883764, 'colsample_bytree': 0.9676104728826143, 'reg_lambda': 2.1216642816735783e-06, 'reg_alpha': 2.218203730542132e-08}. Best is trial 3 with value: 0.050000000000000044.\n"
     ]
    },
    {
     "name": "stdout",
     "output_type": "stream",
     "text": [
      "🏃 View run lyrical-deer-49 at: http://127.0.0.1:8282/#/experiments/588080332252433563/runs/cec9e5f98bad43c2ab8cbfa3f59e1702\n",
      "🧪 View experiment at: http://127.0.0.1:8282/#/experiments/588080332252433563\n"
     ]
    },
    {
     "name": "stderr",
     "output_type": "stream",
     "text": [
      "[I 2025-07-21 14:30:43,094] Trial 7 finished with value: 0.07692307692307687 and parameters: {'booster': 'dart', 'learning_rate': 0.13755064339382975, 'max_depth': 6, 'subsample': 0.6345151584780554, 'colsample_bytree': 0.9609777571198552, 'reg_lambda': 7.653775116557458e-05, 'reg_alpha': 3.0701924898339497e-06}. Best is trial 3 with value: 0.050000000000000044.\n"
     ]
    },
    {
     "name": "stdout",
     "output_type": "stream",
     "text": [
      "🏃 View run gregarious-loon-299 at: http://127.0.0.1:8282/#/experiments/588080332252433563/runs/d965385071764853898f3ae041c83607\n",
      "🧪 View experiment at: http://127.0.0.1:8282/#/experiments/588080332252433563\n"
     ]
    },
    {
     "name": "stderr",
     "output_type": "stream",
     "text": [
      "[I 2025-07-21 14:30:43,473] Trial 8 finished with value: 0.07317073170731703 and parameters: {'booster': 'gblinear', 'learning_rate': 0.26635419785467784, 'max_depth': 10, 'subsample': 0.5878231120538664, 'colsample_bytree': 0.6256487532947319, 'reg_lambda': 1.1657116970104842e-06, 'reg_alpha': 0.9264232398014391}. Best is trial 3 with value: 0.050000000000000044.\n"
     ]
    },
    {
     "name": "stdout",
     "output_type": "stream",
     "text": [
      "🏃 View run righteous-chimp-798 at: http://127.0.0.1:8282/#/experiments/588080332252433563/runs/7bee03d7690d4056b736ab2a0394ae8a\n",
      "🧪 View experiment at: http://127.0.0.1:8282/#/experiments/588080332252433563\n"
     ]
    },
    {
     "name": "stderr",
     "output_type": "stream",
     "text": [
      "[I 2025-07-21 14:30:43,864] Trial 9 finished with value: 0.09756097560975607 and parameters: {'booster': 'gbtree', 'learning_rate': 0.27074626655513134, 'max_depth': 4, 'subsample': 0.7751544432151489, 'colsample_bytree': 0.9614180513355737, 'reg_lambda': 0.03775901908306101, 'reg_alpha': 1.0568696382220662e-07}. Best is trial 3 with value: 0.050000000000000044.\n"
     ]
    },
    {
     "name": "stdout",
     "output_type": "stream",
     "text": [
      "🏃 View run abrasive-grub-174 at: http://127.0.0.1:8282/#/experiments/588080332252433563/runs/3209f72402164a6290c9ae4e21eabbad\n",
      "🧪 View experiment at: http://127.0.0.1:8282/#/experiments/588080332252433563\n"
     ]
    },
    {
     "name": "stderr",
     "output_type": "stream",
     "text": [
      "[I 2025-07-21 14:30:48,981] Trial 10 finished with value: 0.07499999999999996 and parameters: {'booster': 'dart', 'learning_rate': 0.011727318610413442, 'max_depth': 8, 'subsample': 0.7150135809329241, 'colsample_bytree': 0.7596238885650974, 'reg_lambda': 0.0040756778591542284, 'reg_alpha': 0.09795493288039374}. Best is trial 3 with value: 0.050000000000000044.\n"
     ]
    },
    {
     "name": "stdout",
     "output_type": "stream",
     "text": [
      "🏃 View run aged-hawk-402 at: http://127.0.0.1:8282/#/experiments/588080332252433563/runs/ac5ccbdd64cf4d908022fa7054b033ec\n",
      "🧪 View experiment at: http://127.0.0.1:8282/#/experiments/588080332252433563\n"
     ]
    },
    {
     "name": "stderr",
     "output_type": "stream",
     "text": [
      "[I 2025-07-21 14:30:49,847] Trial 11 finished with value: 0.06329113924050633 and parameters: {'booster': 'dart', 'learning_rate': 0.08371860130646884, 'max_depth': 7, 'subsample': 0.5064611760683505, 'colsample_bytree': 0.7443367104799298, 'reg_lambda': 1.2079995522804807e-08, 'reg_alpha': 1.2229925405269735e-08}. Best is trial 3 with value: 0.050000000000000044.\n"
     ]
    },
    {
     "name": "stdout",
     "output_type": "stream",
     "text": [
      "🏃 View run unique-ox-403 at: http://127.0.0.1:8282/#/experiments/588080332252433563/runs/2b37d924c8e9433885cba255684ad223\n",
      "🧪 View experiment at: http://127.0.0.1:8282/#/experiments/588080332252433563\n"
     ]
    },
    {
     "name": "stderr",
     "output_type": "stream",
     "text": [
      "[I 2025-07-21 14:30:50,367] Trial 12 finished with value: 0.06329113924050633 and parameters: {'booster': 'dart', 'learning_rate': 0.18070957141936508, 'max_depth': 7, 'subsample': 0.5059465695346967, 'colsample_bytree': 0.79724346178596, 'reg_lambda': 0.0014864943999090305, 'reg_alpha': 0.007797834092116963}. Best is trial 3 with value: 0.050000000000000044.\n"
     ]
    },
    {
     "name": "stdout",
     "output_type": "stream",
     "text": [
      "🏃 View run silent-bird-816 at: http://127.0.0.1:8282/#/experiments/588080332252433563/runs/810789845dc141099be1602509a7a922\n",
      "🧪 View experiment at: http://127.0.0.1:8282/#/experiments/588080332252433563\n"
     ]
    },
    {
     "name": "stderr",
     "output_type": "stream",
     "text": [
      "[I 2025-07-21 14:30:51,192] Trial 13 finished with value: 0.07499999999999996 and parameters: {'booster': 'dart', 'learning_rate': 0.08689736842660614, 'max_depth': 6, 'subsample': 0.7060422399687462, 'colsample_bytree': 0.6409888218038933, 'reg_lambda': 0.7741599664582509, 'reg_alpha': 0.023504328943422626}. Best is trial 3 with value: 0.050000000000000044.\n"
     ]
    },
    {
     "name": "stdout",
     "output_type": "stream",
     "text": [
      "🏃 View run merciful-owl-342 at: http://127.0.0.1:8282/#/experiments/588080332252433563/runs/67368a15fded47cc923e213b1554aa2d\n",
      "🧪 View experiment at: http://127.0.0.1:8282/#/experiments/588080332252433563\n"
     ]
    },
    {
     "name": "stderr",
     "output_type": "stream",
     "text": [
      "[I 2025-07-21 14:30:51,996] Trial 14 finished with value: 0.07499999999999996 and parameters: {'booster': 'dart', 'learning_rate': 0.07762581895287998, 'max_depth': 3, 'subsample': 0.5586706291221132, 'colsample_bytree': 0.5429976345489025, 'reg_lambda': 7.026734931195626e-06, 'reg_alpha': 0.0006325918014874946}. Best is trial 3 with value: 0.050000000000000044.\n"
     ]
    },
    {
     "name": "stdout",
     "output_type": "stream",
     "text": [
      "🏃 View run skittish-cat-475 at: http://127.0.0.1:8282/#/experiments/588080332252433563/runs/2b9d934b1da74f4fbf95b3ce7045fd5a\n",
      "🧪 View experiment at: http://127.0.0.1:8282/#/experiments/588080332252433563\n"
     ]
    },
    {
     "name": "stderr",
     "output_type": "stream",
     "text": [
      "[I 2025-07-21 14:30:52,615] Trial 15 finished with value: 0.07499999999999996 and parameters: {'booster': 'dart', 'learning_rate': 0.19804810641071188, 'max_depth': 8, 'subsample': 0.6680862504417231, 'colsample_bytree': 0.6945567501348764, 'reg_lambda': 0.0022312837980202915, 'reg_alpha': 4.95372542738333e-07}. Best is trial 3 with value: 0.050000000000000044.\n"
     ]
    },
    {
     "name": "stdout",
     "output_type": "stream",
     "text": [
      "🏃 View run serious-lamb-675 at: http://127.0.0.1:8282/#/experiments/588080332252433563/runs/c2444f4df5b344e8b86ccd45ca50c053\n",
      "🧪 View experiment at: http://127.0.0.1:8282/#/experiments/588080332252433563\n"
     ]
    },
    {
     "name": "stderr",
     "output_type": "stream",
     "text": [
      "[I 2025-07-21 14:30:53,223] Trial 16 finished with value: 0.07499999999999996 and parameters: {'booster': 'dart', 'learning_rate': 0.1145556817352236, 'max_depth': 10, 'subsample': 0.8086072670263988, 'colsample_bytree': 0.8386027428049472, 'reg_lambda': 2.619573510801025e-07, 'reg_alpha': 5.419370370579578e-06}. Best is trial 3 with value: 0.050000000000000044.\n"
     ]
    },
    {
     "name": "stdout",
     "output_type": "stream",
     "text": [
      "🏃 View run welcoming-hog-364 at: http://127.0.0.1:8282/#/experiments/588080332252433563/runs/2b2fb5f36e0b4857951ececbb7be7fdb\n",
      "🧪 View experiment at: http://127.0.0.1:8282/#/experiments/588080332252433563\n"
     ]
    },
    {
     "name": "stderr",
     "output_type": "stream",
     "text": [
      "[I 2025-07-21 14:30:54,511] Trial 17 finished with value: 0.06329113924050633 and parameters: {'booster': 'dart', 'learning_rate': 0.03501663119015791, 'max_depth': 9, 'subsample': 0.5544384130659068, 'colsample_bytree': 0.8807466593268042, 'reg_lambda': 0.0004259612708730705, 'reg_alpha': 1.0773714602313566e-08}. Best is trial 3 with value: 0.050000000000000044.\n"
     ]
    },
    {
     "name": "stdout",
     "output_type": "stream",
     "text": [
      "🏃 View run unleashed-owl-98 at: http://127.0.0.1:8282/#/experiments/588080332252433563/runs/c543b580e61c46be9436bee369fdad58\n",
      "🧪 View experiment at: http://127.0.0.1:8282/#/experiments/588080332252433563\n"
     ]
    },
    {
     "name": "stderr",
     "output_type": "stream",
     "text": [
      "[I 2025-07-21 14:30:55,107] Trial 18 finished with value: 0.07499999999999996 and parameters: {'booster': 'dart', 'learning_rate': 0.1678963046861166, 'max_depth': 7, 'subsample': 0.6486423692779264, 'colsample_bytree': 0.5670267531502176, 'reg_lambda': 4.0319833275694025e-06, 'reg_alpha': 9.599700037906844e-05}. Best is trial 3 with value: 0.050000000000000044.\n"
     ]
    },
    {
     "name": "stdout",
     "output_type": "stream",
     "text": [
      "🏃 View run nosy-ox-343 at: http://127.0.0.1:8282/#/experiments/588080332252433563/runs/987c455195c947c8b87c31e44b13da0d\n",
      "🧪 View experiment at: http://127.0.0.1:8282/#/experiments/588080332252433563\n"
     ]
    },
    {
     "name": "stderr",
     "output_type": "stream",
     "text": [
      "[I 2025-07-21 14:30:55,597] Trial 19 finished with value: 0.07499999999999996 and parameters: {'booster': 'gbtree', 'learning_rate': 0.06261677036564195, 'max_depth': 5, 'subsample': 0.5446324252776353, 'colsample_bytree': 0.6988558321234427, 'reg_lambda': 1.6082455211745072e-08, 'reg_alpha': 0.657217064578055}. Best is trial 3 with value: 0.050000000000000044.\n"
     ]
    },
    {
     "name": "stdout",
     "output_type": "stream",
     "text": [
      "🏃 View run whimsical-sponge-225 at: http://127.0.0.1:8282/#/experiments/588080332252433563/runs/9810fabc035e49b5aab05065593e2088\n",
      "🧪 View experiment at: http://127.0.0.1:8282/#/experiments/588080332252433563\n"
     ]
    },
    {
     "name": "stderr",
     "output_type": "stream",
     "text": [
      "[I 2025-07-21 14:30:56,379] Trial 20 finished with value: 0.06329113924050633 and parameters: {'booster': 'dart', 'learning_rate': 0.107870106658149, 'max_depth': 9, 'subsample': 0.5942506207175947, 'colsample_bytree': 0.699918204098633, 'reg_lambda': 0.7591096220652503, 'reg_alpha': 0.00880210883051588}. Best is trial 3 with value: 0.050000000000000044.\n"
     ]
    },
    {
     "name": "stdout",
     "output_type": "stream",
     "text": [
      "🏃 View run omniscient-conch-433 at: http://127.0.0.1:8282/#/experiments/588080332252433563/runs/f5d3e48cc4664ca3aa7c0bfc332dca6c\n",
      "🧪 View experiment at: http://127.0.0.1:8282/#/experiments/588080332252433563\n"
     ]
    },
    {
     "name": "stderr",
     "output_type": "stream",
     "text": [
      "[I 2025-07-21 14:30:56,846] Trial 21 finished with value: 0.07499999999999996 and parameters: {'booster': 'gbtree', 'learning_rate': 0.1472683644602909, 'max_depth': 3, 'subsample': 0.8455156948865026, 'colsample_bytree': 0.5019898763475994, 'reg_lambda': 1.8745422443955996e-07, 'reg_alpha': 0.0007242068572283118}. Best is trial 3 with value: 0.050000000000000044.\n"
     ]
    },
    {
     "name": "stdout",
     "output_type": "stream",
     "text": [
      "🏃 View run intelligent-bee-229 at: http://127.0.0.1:8282/#/experiments/588080332252433563/runs/4a99d3c4b4a84a3ba8e3929185dfeb8c\n",
      "🧪 View experiment at: http://127.0.0.1:8282/#/experiments/588080332252433563\n"
     ]
    },
    {
     "name": "stderr",
     "output_type": "stream",
     "text": [
      "[I 2025-07-21 14:30:57,373] Trial 22 finished with value: 0.07499999999999996 and parameters: {'booster': 'gbtree', 'learning_rate': 0.1973277400458418, 'max_depth': 4, 'subsample': 0.8977765675042979, 'colsample_bytree': 0.586686732548664, 'reg_lambda': 1.1694748497026346e-07, 'reg_alpha': 0.0023918109200236253}. Best is trial 3 with value: 0.050000000000000044.\n"
     ]
    },
    {
     "name": "stdout",
     "output_type": "stream",
     "text": [
      "🏃 View run vaunted-ray-248 at: http://127.0.0.1:8282/#/experiments/588080332252433563/runs/a94247194b9a4c76b61fa1d0254768c5\n",
      "🧪 View experiment at: http://127.0.0.1:8282/#/experiments/588080332252433563\n"
     ]
    },
    {
     "name": "stderr",
     "output_type": "stream",
     "text": [
      "[I 2025-07-21 14:30:57,831] Trial 23 finished with value: 0.07499999999999996 and parameters: {'booster': 'gbtree', 'learning_rate': 0.1627748115636946, 'max_depth': 4, 'subsample': 0.7531520822273136, 'colsample_bytree': 0.5034482984677271, 'reg_lambda': 1.251470357075273e-06, 'reg_alpha': 0.1119589465340279}. Best is trial 3 with value: 0.050000000000000044.\n"
     ]
    },
    {
     "name": "stdout",
     "output_type": "stream",
     "text": [
      "🏃 View run abundant-hawk-530 at: http://127.0.0.1:8282/#/experiments/588080332252433563/runs/e5f46c02c7f64e04af3042f4c27534f2\n",
      "🧪 View experiment at: http://127.0.0.1:8282/#/experiments/588080332252433563\n"
     ]
    },
    {
     "name": "stderr",
     "output_type": "stream",
     "text": [
      "[I 2025-07-21 14:30:58,294] Trial 24 finished with value: 0.06329113924050633 and parameters: {'booster': 'gbtree', 'learning_rate': 0.2343600018087682, 'max_depth': 6, 'subsample': 0.814711187563016, 'colsample_bytree': 0.6059181776088427, 'reg_lambda': 8.716825522703916e-08, 'reg_alpha': 0.00022283367390380038}. Best is trial 3 with value: 0.050000000000000044.\n"
     ]
    },
    {
     "name": "stdout",
     "output_type": "stream",
     "text": [
      "🏃 View run aged-trout-378 at: http://127.0.0.1:8282/#/experiments/588080332252433563/runs/7966d27db5a54225a1ec36c4729b08e1\n",
      "🧪 View experiment at: http://127.0.0.1:8282/#/experiments/588080332252433563\n"
     ]
    },
    {
     "name": "stderr",
     "output_type": "stream",
     "text": [
      "[I 2025-07-21 14:30:58,729] Trial 25 finished with value: 0.09756097560975607 and parameters: {'booster': 'gbtree', 'learning_rate': 0.18500669164441874, 'max_depth': 5, 'subsample': 0.6937459672617587, 'colsample_bytree': 0.5456463002372087, 'reg_lambda': 1.033694875012276e-05, 'reg_alpha': 0.0341734820040832}. Best is trial 3 with value: 0.050000000000000044.\n"
     ]
    },
    {
     "name": "stdout",
     "output_type": "stream",
     "text": [
      "🏃 View run carefree-snipe-352 at: http://127.0.0.1:8282/#/experiments/588080332252433563/runs/3b026760b4ba41c5ac0cd4ce470b565c\n",
      "🧪 View experiment at: http://127.0.0.1:8282/#/experiments/588080332252433563\n"
     ]
    },
    {
     "name": "stderr",
     "output_type": "stream",
     "text": [
      "[I 2025-07-21 14:30:59,296] Trial 26 finished with value: 0.06329113924050633 and parameters: {'booster': 'dart', 'learning_rate': 0.14352184306346674, 'max_depth': 8, 'subsample': 0.9223912842309683, 'colsample_bytree': 0.6702637221539283, 'reg_lambda': 9.273634536301701e-07, 'reg_alpha': 0.0024711078320350174}. Best is trial 3 with value: 0.050000000000000044.\n"
     ]
    },
    {
     "name": "stdout",
     "output_type": "stream",
     "text": [
      "🏃 View run entertaining-bug-375 at: http://127.0.0.1:8282/#/experiments/588080332252433563/runs/9809c747f3df4fdc858ac4cfd0001999\n",
      "🧪 View experiment at: http://127.0.0.1:8282/#/experiments/588080332252433563\n"
     ]
    },
    {
     "name": "stderr",
     "output_type": "stream",
     "text": [
      "[I 2025-07-21 14:30:59,980] Trial 27 finished with value: 0.06329113924050633 and parameters: {'booster': 'dart', 'learning_rate': 0.2063031678969595, 'max_depth': 6, 'subsample': 0.8521075423237037, 'colsample_bytree': 0.7747748636957614, 'reg_lambda': 0.0003457406219566122, 'reg_alpha': 1.5483719916186185e-05}. Best is trial 3 with value: 0.050000000000000044.\n"
     ]
    },
    {
     "name": "stdout",
     "output_type": "stream",
     "text": [
      "🏃 View run big-rat-321 at: http://127.0.0.1:8282/#/experiments/588080332252433563/runs/d43317c16aa648d5a16d5507743b6488\n",
      "🧪 View experiment at: http://127.0.0.1:8282/#/experiments/588080332252433563\n"
     ]
    },
    {
     "name": "stderr",
     "output_type": "stream",
     "text": [
      "[I 2025-07-21 14:31:00,484] Trial 28 finished with value: 0.07317073170731703 and parameters: {'booster': 'gblinear', 'learning_rate': 0.10185161128006887, 'max_depth': 3, 'subsample': 0.5323858814895823, 'colsample_bytree': 0.9075483634127305, 'reg_lambda': 5.778972366197866e-07, 'reg_alpha': 0.0002484615800165903}. Best is trial 3 with value: 0.050000000000000044.\n"
     ]
    },
    {
     "name": "stdout",
     "output_type": "stream",
     "text": [
      "🏃 View run carefree-dove-8 at: http://127.0.0.1:8282/#/experiments/588080332252433563/runs/db2ecb18cf024b9ebfdac02733e0adcb\n",
      "🧪 View experiment at: http://127.0.0.1:8282/#/experiments/588080332252433563\n"
     ]
    },
    {
     "name": "stderr",
     "output_type": "stream",
     "text": [
      "[I 2025-07-21 14:31:01,014] Trial 29 finished with value: 0.06329113924050633 and parameters: {'booster': 'gbtree', 'learning_rate': 0.1276217716846429, 'max_depth': 4, 'subsample': 0.9979687772526782, 'colsample_bytree': 0.9136563158420882, 'reg_lambda': 0.01536230769715808, 'reg_alpha': 0.003073303923283673}. Best is trial 3 with value: 0.050000000000000044.\n"
     ]
    },
    {
     "name": "stdout",
     "output_type": "stream",
     "text": [
      "🏃 View run charming-cod-198 at: http://127.0.0.1:8282/#/experiments/588080332252433563/runs/8de9fcab2eb4458fb0a643db2bb52ae0\n",
      "🧪 View experiment at: http://127.0.0.1:8282/#/experiments/588080332252433563\n"
     ]
    },
    {
     "name": "stderr",
     "output_type": "stream",
     "text": [
      "[I 2025-07-21 14:31:01,574] Trial 30 finished with value: 0.07317073170731703 and parameters: {'booster': 'gblinear', 'learning_rate': 0.16354157109603115, 'max_depth': 7, 'subsample': 0.6133090473097768, 'colsample_bytree': 0.8387370186722132, 'reg_lambda': 0.0001922904177426564, 'reg_alpha': 1.1998729761537347e-06}. Best is trial 3 with value: 0.050000000000000044.\n"
     ]
    },
    {
     "name": "stdout",
     "output_type": "stream",
     "text": [
      "🏃 View run luminous-elk-716 at: http://127.0.0.1:8282/#/experiments/588080332252433563/runs/5fcded98eadf4f6ea0b5b5d1fcf60ef1\n",
      "🧪 View experiment at: http://127.0.0.1:8282/#/experiments/588080332252433563\n"
     ]
    },
    {
     "name": "stderr",
     "output_type": "stream",
     "text": [
      "[I 2025-07-21 14:31:02,050] Trial 31 finished with value: 0.06329113924050633 and parameters: {'booster': 'gbtree', 'learning_rate': 0.24017900616799762, 'max_depth': 5, 'subsample': 0.998517685597519, 'colsample_bytree': 0.8493554093779342, 'reg_lambda': 4.2758157453131784e-05, 'reg_alpha': 8.363433925801527e-08}. Best is trial 3 with value: 0.050000000000000044.\n"
     ]
    },
    {
     "name": "stdout",
     "output_type": "stream",
     "text": [
      "🏃 View run industrious-vole-765 at: http://127.0.0.1:8282/#/experiments/588080332252433563/runs/8ca12ca3bb53441fb9a4ce09b97db69c\n",
      "🧪 View experiment at: http://127.0.0.1:8282/#/experiments/588080332252433563\n"
     ]
    },
    {
     "name": "stderr",
     "output_type": "stream",
     "text": [
      "[I 2025-07-21 14:31:02,494] Trial 32 finished with value: 0.06329113924050633 and parameters: {'booster': 'gbtree', 'learning_rate': 0.2480020813546837, 'max_depth': 5, 'subsample': 0.9580734234650676, 'colsample_bytree': 0.998247707263669, 'reg_lambda': 3.954722796889294e-08, 'reg_alpha': 8.8491263360508e-08}. Best is trial 3 with value: 0.050000000000000044.\n"
     ]
    },
    {
     "name": "stdout",
     "output_type": "stream",
     "text": [
      "🏃 View run overjoyed-hog-543 at: http://127.0.0.1:8282/#/experiments/588080332252433563/runs/2f7761c573744676aec57a428ca054bf\n",
      "🧪 View experiment at: http://127.0.0.1:8282/#/experiments/588080332252433563\n"
     ]
    },
    {
     "name": "stderr",
     "output_type": "stream",
     "text": [
      "[I 2025-07-21 14:31:02,931] Trial 33 finished with value: 0.06329113924050633 and parameters: {'booster': 'gbtree', 'learning_rate': 0.21778217011527984, 'max_depth': 4, 'subsample': 0.9184930557298514, 'colsample_bytree': 0.9199818759263415, 'reg_lambda': 1.7236063475028767e-05, 'reg_alpha': 2.408644953449999e-07}. Best is trial 3 with value: 0.050000000000000044.\n"
     ]
    },
    {
     "name": "stdout",
     "output_type": "stream",
     "text": [
      "🏃 View run resilient-moth-172 at: http://127.0.0.1:8282/#/experiments/588080332252433563/runs/164eb74a60c84378b8d8de3b7d557021\n",
      "🧪 View experiment at: http://127.0.0.1:8282/#/experiments/588080332252433563\n"
     ]
    },
    {
     "name": "stderr",
     "output_type": "stream",
     "text": [
      "[I 2025-07-21 14:31:03,447] Trial 34 finished with value: 0.06329113924050633 and parameters: {'booster': 'gbtree', 'learning_rate': 0.050118185106665804, 'max_depth': 6, 'subsample': 0.8726130463498344, 'colsample_bytree': 0.9913407943970887, 'reg_lambda': 4.303790288683552e-06, 'reg_alpha': 2.888834820424418e-08}. Best is trial 3 with value: 0.050000000000000044.\n"
     ]
    },
    {
     "name": "stdout",
     "output_type": "stream",
     "text": [
      "🏃 View run upbeat-shad-677 at: http://127.0.0.1:8282/#/experiments/588080332252433563/runs/9c44f54edcbb46d5af99810b2175c58a\n",
      "🧪 View experiment at: http://127.0.0.1:8282/#/experiments/588080332252433563\n"
     ]
    },
    {
     "name": "stderr",
     "output_type": "stream",
     "text": [
      "[I 2025-07-21 14:31:03,992] Trial 35 finished with value: 0.07317073170731703 and parameters: {'booster': 'gblinear', 'learning_rate': 0.2554834532390753, 'max_depth': 5, 'subsample': 0.9556892424251237, 'colsample_bytree': 0.8679232800621146, 'reg_lambda': 2.6812997286343272e-06, 'reg_alpha': 5.5958022059684566e-05}. Best is trial 3 with value: 0.050000000000000044.\n"
     ]
    },
    {
     "name": "stdout",
     "output_type": "stream",
     "text": [
      "🏃 View run glamorous-dog-395 at: http://127.0.0.1:8282/#/experiments/588080332252433563/runs/e9c4cab24bcb4d8a84cf9d1f4b1cdb43\n",
      "🧪 View experiment at: http://127.0.0.1:8282/#/experiments/588080332252433563\n"
     ]
    },
    {
     "name": "stderr",
     "output_type": "stream",
     "text": [
      "[I 2025-07-21 14:31:04,546] Trial 36 finished with value: 0.05128205128205132 and parameters: {'booster': 'gbtree', 'learning_rate': 0.12866374474311087, 'max_depth': 9, 'subsample': 0.5751273722337228, 'colsample_bytree': 0.9525293089832116, 'reg_lambda': 0.079628118770771, 'reg_alpha': 9.42314780207555e-06}. Best is trial 3 with value: 0.050000000000000044.\n"
     ]
    },
    {
     "name": "stdout",
     "output_type": "stream",
     "text": [
      "🏃 View run dapper-rat-785 at: http://127.0.0.1:8282/#/experiments/588080332252433563/runs/ba78fa88de1a4c4a99f6a92e81ea5a4a\n",
      "🧪 View experiment at: http://127.0.0.1:8282/#/experiments/588080332252433563\n"
     ]
    },
    {
     "name": "stderr",
     "output_type": "stream",
     "text": [
      "[I 2025-07-21 14:31:05,141] Trial 37 finished with value: 0.050000000000000044 and parameters: {'booster': 'gbtree', 'learning_rate': 0.12400772013333235, 'max_depth': 9, 'subsample': 0.5834900419029286, 'colsample_bytree': 0.9527250777130883, 'reg_lambda': 0.1858932973837425, 'reg_alpha': 1.5149854910915516e-05}. Best is trial 3 with value: 0.050000000000000044.\n"
     ]
    },
    {
     "name": "stdout",
     "output_type": "stream",
     "text": [
      "🏃 View run rambunctious-asp-757 at: http://127.0.0.1:8282/#/experiments/588080332252433563/runs/43bd9802e78e4d06affaf6d6621c5394\n",
      "🧪 View experiment at: http://127.0.0.1:8282/#/experiments/588080332252433563\n"
     ]
    },
    {
     "name": "stderr",
     "output_type": "stream",
     "text": [
      "[I 2025-07-21 14:31:05,716] Trial 38 finished with value: 0.06329113924050633 and parameters: {'booster': 'dart', 'learning_rate': 0.2891051577083753, 'max_depth': 9, 'subsample': 0.5745608674776527, 'colsample_bytree': 0.9520328030072512, 'reg_lambda': 0.17174238590794186, 'reg_alpha': 1.703968072520065e-05}. Best is trial 3 with value: 0.050000000000000044.\n"
     ]
    },
    {
     "name": "stdout",
     "output_type": "stream",
     "text": [
      "🏃 View run melodic-shark-764 at: http://127.0.0.1:8282/#/experiments/588080332252433563/runs/4da826e88ec2412e88b4c340549df234\n",
      "🧪 View experiment at: http://127.0.0.1:8282/#/experiments/588080332252433563\n"
     ]
    },
    {
     "name": "stderr",
     "output_type": "stream",
     "text": [
      "[I 2025-07-21 14:31:06,236] Trial 39 finished with value: 0.07317073170731703 and parameters: {'booster': 'gblinear', 'learning_rate': 0.1288965940059232, 'max_depth': 10, 'subsample': 0.6233583092383345, 'colsample_bytree': 0.9385956961882941, 'reg_lambda': 0.18435567568901423, 'reg_alpha': 2.8001856990407772e-06}. Best is trial 3 with value: 0.050000000000000044.\n"
     ]
    },
    {
     "name": "stdout",
     "output_type": "stream",
     "text": [
      "🏃 View run bedecked-fish-288 at: http://127.0.0.1:8282/#/experiments/588080332252433563/runs/42c0625891b2474e8b6c75839fda43a5\n",
      "🧪 View experiment at: http://127.0.0.1:8282/#/experiments/588080332252433563\n"
     ]
    },
    {
     "name": "stderr",
     "output_type": "stream",
     "text": [
      "[I 2025-07-21 14:31:06,741] Trial 40 finished with value: 0.06329113924050633 and parameters: {'booster': 'gbtree', 'learning_rate': 0.09923402916659364, 'max_depth': 9, 'subsample': 0.5247475693861842, 'colsample_bytree': 0.9784534998707386, 'reg_lambda': 0.019613048909553222, 'reg_alpha': 6.785171576491714e-06}. Best is trial 3 with value: 0.050000000000000044.\n"
     ]
    },
    {
     "name": "stdout",
     "output_type": "stream",
     "text": [
      "🏃 View run traveling-trout-698 at: http://127.0.0.1:8282/#/experiments/588080332252433563/runs/27bcc271bdc1441a9996b31634867601\n",
      "🧪 View experiment at: http://127.0.0.1:8282/#/experiments/588080332252433563\n"
     ]
    },
    {
     "name": "stderr",
     "output_type": "stream",
     "text": [
      "[I 2025-07-21 14:31:07,196] Trial 41 finished with value: 0.07499999999999996 and parameters: {'booster': 'gbtree', 'learning_rate': 0.17711624522135744, 'max_depth': 8, 'subsample': 0.5811000917336678, 'colsample_bytree': 0.9300791532211551, 'reg_lambda': 0.04710404980451577, 'reg_alpha': 0.00022563148684563502}. Best is trial 3 with value: 0.050000000000000044.\n"
     ]
    },
    {
     "name": "stdout",
     "output_type": "stream",
     "text": [
      "🏃 View run dazzling-fowl-935 at: http://127.0.0.1:8282/#/experiments/588080332252433563/runs/3b1cc415f75142a9864f46b3b4db7dc1\n",
      "🧪 View experiment at: http://127.0.0.1:8282/#/experiments/588080332252433563\n"
     ]
    },
    {
     "name": "stderr",
     "output_type": "stream",
     "text": [
      "[I 2025-07-21 14:31:07,879] Trial 42 finished with value: 0.06329113924050633 and parameters: {'booster': 'gbtree', 'learning_rate': 0.01068753856089405, 'max_depth': 9, 'subsample': 0.5037914445161648, 'colsample_bytree': 0.8100184531287851, 'reg_lambda': 0.007461050270424951, 'reg_alpha': 2.7244114884393145e-05}. Best is trial 3 with value: 0.050000000000000044.\n"
     ]
    },
    {
     "name": "stdout",
     "output_type": "stream",
     "text": [
      "🏃 View run unruly-rat-773 at: http://127.0.0.1:8282/#/experiments/588080332252433563/runs/42c7dd0649bf4f03b9455ec2646daf99\n",
      "🧪 View experiment at: http://127.0.0.1:8282/#/experiments/588080332252433563\n"
     ]
    },
    {
     "name": "stderr",
     "output_type": "stream",
     "text": [
      "[I 2025-07-21 14:31:08,332] Trial 43 finished with value: 0.06172839506172845 and parameters: {'booster': 'gbtree', 'learning_rate': 0.15199440675784176, 'max_depth': 10, 'subsample': 0.5352706590570853, 'colsample_bytree': 0.9604003099490402, 'reg_lambda': 0.10658987004875843, 'reg_alpha': 1.5899246377318705e-06}. Best is trial 3 with value: 0.050000000000000044.\n"
     ]
    },
    {
     "name": "stdout",
     "output_type": "stream",
     "text": [
      "🏃 View run auspicious-calf-516 at: http://127.0.0.1:8282/#/experiments/588080332252433563/runs/3e6ac09661db422a9a913cd0ade75863\n",
      "🧪 View experiment at: http://127.0.0.1:8282/#/experiments/588080332252433563\n"
     ]
    },
    {
     "name": "stderr",
     "output_type": "stream",
     "text": [
      "[I 2025-07-21 14:31:08,858] Trial 44 finished with value: 0.07499999999999996 and parameters: {'booster': 'gbtree', 'learning_rate': 0.11869224417121088, 'max_depth': 10, 'subsample': 0.5237721815530563, 'colsample_bytree': 0.8923514276787912, 'reg_lambda': 0.08977524733116103, 'reg_alpha': 4.219140562858849e-07}. Best is trial 3 with value: 0.050000000000000044.\n"
     ]
    },
    {
     "name": "stdout",
     "output_type": "stream",
     "text": [
      "🏃 View run efficient-donkey-297 at: http://127.0.0.1:8282/#/experiments/588080332252433563/runs/0a49a43c26384b93aa8bac9e9843c32b\n",
      "🧪 View experiment at: http://127.0.0.1:8282/#/experiments/588080332252433563\n"
     ]
    },
    {
     "name": "stderr",
     "output_type": "stream",
     "text": [
      "[I 2025-07-21 14:31:09,478] Trial 45 finished with value: 0.06329113924050633 and parameters: {'booster': 'dart', 'learning_rate': 0.1438242413256029, 'max_depth': 10, 'subsample': 0.5976050320181137, 'colsample_bytree': 0.9685244866269508, 'reg_lambda': 0.22359192614154727, 'reg_alpha': 8.756535640511572e-07}. Best is trial 3 with value: 0.050000000000000044.\n"
     ]
    },
    {
     "name": "stdout",
     "output_type": "stream",
     "text": [
      "🏃 View run masked-dove-638 at: http://127.0.0.1:8282/#/experiments/588080332252433563/runs/5386cc7215334b8d83de360c2c950f69\n",
      "🧪 View experiment at: http://127.0.0.1:8282/#/experiments/588080332252433563\n"
     ]
    },
    {
     "name": "stderr",
     "output_type": "stream",
     "text": [
      "[I 2025-07-21 14:31:10,509] Trial 46 finished with value: 0.07499999999999996 and parameters: {'booster': 'gbtree', 'learning_rate': 0.15602612991165313, 'max_depth': 8, 'subsample': 0.5629610478431459, 'colsample_bytree': 0.9533679049891107, 'reg_lambda': 0.020715930802656674, 'reg_alpha': 1.9029841352457755e-06}. Best is trial 3 with value: 0.050000000000000044.\n"
     ]
    },
    {
     "name": "stdout",
     "output_type": "stream",
     "text": [
      "🏃 View run silent-bat-291 at: http://127.0.0.1:8282/#/experiments/588080332252433563/runs/47cacec8e8d14e748f9ffd01e3b0a7c3\n",
      "🧪 View experiment at: http://127.0.0.1:8282/#/experiments/588080332252433563\n"
     ]
    },
    {
     "name": "stderr",
     "output_type": "stream",
     "text": [
      "[I 2025-07-21 14:31:12,010] Trial 47 finished with value: 0.06329113924050633 and parameters: {'booster': 'dart', 'learning_rate': 0.07114331673986797, 'max_depth': 9, 'subsample': 0.6480216552786076, 'colsample_bytree': 0.9786886729570216, 'reg_lambda': 0.43329208866420377, 'reg_alpha': 9.307217510753121e-06}. Best is trial 3 with value: 0.050000000000000044.\n"
     ]
    },
    {
     "name": "stdout",
     "output_type": "stream",
     "text": [
      "🏃 View run useful-yak-483 at: http://127.0.0.1:8282/#/experiments/588080332252433563/runs/866ec08b1e444e83b726416784b6868e\n",
      "🧪 View experiment at: http://127.0.0.1:8282/#/experiments/588080332252433563\n"
     ]
    },
    {
     "name": "stderr",
     "output_type": "stream",
     "text": [
      "[I 2025-07-21 14:31:12,749] Trial 48 finished with value: 0.06329113924050633 and parameters: {'booster': 'gbtree', 'learning_rate': 0.02926732481674883, 'max_depth': 10, 'subsample': 0.5433985912981562, 'colsample_bytree': 0.89802331785177, 'reg_lambda': 0.06552548045463076, 'reg_alpha': 3.9402256958438036e-08}. Best is trial 3 with value: 0.050000000000000044.\n"
     ]
    },
    {
     "name": "stdout",
     "output_type": "stream",
     "text": [
      "🏃 View run incongruous-worm-690 at: http://127.0.0.1:8282/#/experiments/588080332252433563/runs/ce861618ddfe4bcf8ac9ba85d1b493a5\n",
      "🧪 View experiment at: http://127.0.0.1:8282/#/experiments/588080332252433563\n"
     ]
    },
    {
     "name": "stderr",
     "output_type": "stream",
     "text": [
      "[I 2025-07-21 14:31:13,558] Trial 49 finished with value: 0.07499999999999996 and parameters: {'booster': 'dart', 'learning_rate': 0.08813171670643527, 'max_depth': 9, 'subsample': 0.5701640012693306, 'colsample_bytree': 0.9365422658502642, 'reg_lambda': 0.0061773848939819, 'reg_alpha': 5.067410300396338e-05}. Best is trial 3 with value: 0.050000000000000044.\n"
     ]
    },
    {
     "name": "stdout",
     "output_type": "stream",
     "text": [
      "🏃 View run agreeable-koi-741 at: http://127.0.0.1:8282/#/experiments/588080332252433563/runs/c089b452e73e4343b45c69cb3451606f\n",
      "🧪 View experiment at: http://127.0.0.1:8282/#/experiments/588080332252433563\n"
     ]
    },
    {
     "name": "stderr",
     "output_type": "stream",
     "text": [
      "[I 2025-07-21 14:31:14,909] Trial 50 finished with value: 0.07499999999999996 and parameters: {'booster': 'dart', 'learning_rate': 0.13416020974444864, 'max_depth': 7, 'subsample': 0.5178502559229677, 'colsample_bytree': 0.8759346640847296, 'reg_lambda': 0.001828709817607773, 'reg_alpha': 7.587489535014086e-05}. Best is trial 3 with value: 0.050000000000000044.\n"
     ]
    },
    {
     "name": "stdout",
     "output_type": "stream",
     "text": [
      "🏃 View run overjoyed-tern-819 at: http://127.0.0.1:8282/#/experiments/588080332252433563/runs/b6cf3a19eaed497a81b87f15b5d2370e\n",
      "🧪 View experiment at: http://127.0.0.1:8282/#/experiments/588080332252433563\n"
     ]
    },
    {
     "name": "stderr",
     "output_type": "stream",
     "text": [
      "[I 2025-07-21 14:31:15,658] Trial 51 finished with value: 0.07499999999999996 and parameters: {'booster': 'gbtree', 'learning_rate': 0.1760960882835707, 'max_depth': 8, 'subsample': 0.5386691694897193, 'colsample_bytree': 0.7386942751427705, 'reg_lambda': 0.2434390392507014, 'reg_alpha': 0.007448050435786856}. Best is trial 3 with value: 0.050000000000000044.\n"
     ]
    },
    {
     "name": "stdout",
     "output_type": "stream",
     "text": [
      "🏃 View run angry-snipe-765 at: http://127.0.0.1:8282/#/experiments/588080332252433563/runs/c27c1745cd3149bbb076b0bb01f218c3\n",
      "🧪 View experiment at: http://127.0.0.1:8282/#/experiments/588080332252433563\n"
     ]
    },
    {
     "name": "stderr",
     "output_type": "stream",
     "text": [
      "[I 2025-07-21 14:31:16,295] Trial 52 finished with value: 0.07499999999999996 and parameters: {'booster': 'gbtree', 'learning_rate': 0.15459398595177792, 'max_depth': 10, 'subsample': 0.5976048737169589, 'colsample_bytree': 0.6437820999994669, 'reg_lambda': 0.4511718371745489, 'reg_alpha': 0.001296838065385283}. Best is trial 3 with value: 0.050000000000000044.\n"
     ]
    },
    {
     "name": "stdout",
     "output_type": "stream",
     "text": [
      "🏃 View run carefree-gnat-28 at: http://127.0.0.1:8282/#/experiments/588080332252433563/runs/5a63cf28870748549a648886bf8452db\n",
      "🧪 View experiment at: http://127.0.0.1:8282/#/experiments/588080332252433563\n"
     ]
    },
    {
     "name": "stderr",
     "output_type": "stream",
     "text": [
      "[I 2025-07-21 14:31:16,896] Trial 53 finished with value: 0.05128205128205132 and parameters: {'booster': 'gbtree', 'learning_rate': 0.11953506988273044, 'max_depth': 8, 'subsample': 0.5034659736639938, 'colsample_bytree': 0.9601603082274217, 'reg_lambda': 0.08310128420108066, 'reg_alpha': 4.4982853093511135e-06}. Best is trial 3 with value: 0.050000000000000044.\n"
     ]
    },
    {
     "name": "stdout",
     "output_type": "stream",
     "text": [
      "🏃 View run entertaining-cat-883 at: http://127.0.0.1:8282/#/experiments/588080332252433563/runs/1255de50854445388f7af03d8153452d\n",
      "🧪 View experiment at: http://127.0.0.1:8282/#/experiments/588080332252433563\n"
     ]
    },
    {
     "name": "stderr",
     "output_type": "stream",
     "text": [
      "[I 2025-07-21 14:31:17,483] Trial 54 finished with value: 0.06493506493506496 and parameters: {'booster': 'gbtree', 'learning_rate': 0.11101532579456269, 'max_depth': 8, 'subsample': 0.5508347103158502, 'colsample_bytree': 0.9600183134866127, 'reg_lambda': 0.032282952267770525, 'reg_alpha': 3.866240967532907e-06}. Best is trial 3 with value: 0.050000000000000044.\n"
     ]
    },
    {
     "name": "stdout",
     "output_type": "stream",
     "text": [
      "🏃 View run secretive-seal-698 at: http://127.0.0.1:8282/#/experiments/588080332252433563/runs/c863450b607f4cc7ad543c97d4870e0c\n",
      "🧪 View experiment at: http://127.0.0.1:8282/#/experiments/588080332252433563\n"
     ]
    },
    {
     "name": "stderr",
     "output_type": "stream",
     "text": [
      "[I 2025-07-21 14:31:18,097] Trial 55 finished with value: 0.05128205128205132 and parameters: {'booster': 'gbtree', 'learning_rate': 0.12016558108023023, 'max_depth': 8, 'subsample': 0.5122353210183952, 'colsample_bytree': 0.9977835128037473, 'reg_lambda': 0.10268505742687146, 'reg_alpha': 9.193708553849267e-06}. Best is trial 3 with value: 0.050000000000000044.\n"
     ]
    },
    {
     "name": "stdout",
     "output_type": "stream",
     "text": [
      "🏃 View run salty-toad-336 at: http://127.0.0.1:8282/#/experiments/588080332252433563/runs/5cd0d5c1b4474cf2a656649341ff7af8\n",
      "🧪 View experiment at: http://127.0.0.1:8282/#/experiments/588080332252433563\n"
     ]
    },
    {
     "name": "stderr",
     "output_type": "stream",
     "text": [
      "[I 2025-07-21 14:31:18,657] Trial 56 finished with value: 0.06172839506172845 and parameters: {'booster': 'gbtree', 'learning_rate': 0.09335419408479644, 'max_depth': 7, 'subsample': 0.5631034810840083, 'colsample_bytree': 0.9921614423350084, 'reg_lambda': 0.8688351685544444, 'reg_alpha': 1.0890143974077493e-05}. Best is trial 3 with value: 0.050000000000000044.\n"
     ]
    },
    {
     "name": "stdout",
     "output_type": "stream",
     "text": [
      "🏃 View run trusting-squid-980 at: http://127.0.0.1:8282/#/experiments/588080332252433563/runs/97e857a111bd4c97958237f353f845ad\n",
      "🧪 View experiment at: http://127.0.0.1:8282/#/experiments/588080332252433563\n"
     ]
    },
    {
     "name": "stderr",
     "output_type": "stream",
     "text": [
      "[I 2025-07-21 14:31:19,445] Trial 57 finished with value: 0.06329113924050633 and parameters: {'booster': 'dart', 'learning_rate': 0.12002392054285507, 'max_depth': 8, 'subsample': 0.5056179024005782, 'colsample_bytree': 0.9797956610396409, 'reg_lambda': 0.013860358694409365, 'reg_alpha': 3.185714056384277e-05}. Best is trial 3 with value: 0.050000000000000044.\n"
     ]
    },
    {
     "name": "stdout",
     "output_type": "stream",
     "text": [
      "🏃 View run traveling-ox-479 at: http://127.0.0.1:8282/#/experiments/588080332252433563/runs/d536baa1281a4862836ee33984965328\n",
      "🧪 View experiment at: http://127.0.0.1:8282/#/experiments/588080332252433563\n"
     ]
    },
    {
     "name": "stderr",
     "output_type": "stream",
     "text": [
      "[I 2025-07-21 14:31:20,502] Trial 58 finished with value: 0.07317073170731703 and parameters: {'booster': 'gblinear', 'learning_rate': 0.05086102759761814, 'max_depth': 7, 'subsample': 0.5038887635440431, 'colsample_bytree': 0.9405788160865834, 'reg_lambda': 0.0008813731103235802, 'reg_alpha': 0.0001553466628053609}. Best is trial 3 with value: 0.050000000000000044.\n"
     ]
    },
    {
     "name": "stdout",
     "output_type": "stream",
     "text": [
      "🏃 View run likeable-pug-421 at: http://127.0.0.1:8282/#/experiments/588080332252433563/runs/a2aca07bbdd14a21bde0e52beebffedb\n",
      "🧪 View experiment at: http://127.0.0.1:8282/#/experiments/588080332252433563\n"
     ]
    },
    {
     "name": "stderr",
     "output_type": "stream",
     "text": [
      "[I 2025-07-21 14:31:21,081] Trial 59 finished with value: 0.07499999999999996 and parameters: {'booster': 'gbtree', 'learning_rate': 0.0695087450580521, 'max_depth': 9, 'subsample': 0.6836644576063249, 'colsample_bytree': 0.9230559007950775, 'reg_lambda': 0.4268392230522799, 'reg_alpha': 0.00044744829656061133}. Best is trial 3 with value: 0.050000000000000044.\n"
     ]
    },
    {
     "name": "stdout",
     "output_type": "stream",
     "text": [
      "🏃 View run treasured-wasp-644 at: http://127.0.0.1:8282/#/experiments/588080332252433563/runs/0156106d4f4146c5bf7bf4c8cfe81b2a\n",
      "🧪 View experiment at: http://127.0.0.1:8282/#/experiments/588080332252433563\n"
     ]
    },
    {
     "name": "stderr",
     "output_type": "stream",
     "text": [
      "[I 2025-07-21 14:31:21,742] Trial 60 finished with value: 0.06329113924050633 and parameters: {'booster': 'dart', 'learning_rate': 0.13441378095297674, 'max_depth': 8, 'subsample': 0.5866694618321666, 'colsample_bytree': 0.729297542600528, 'reg_lambda': 0.004153999492548176, 'reg_alpha': 2.1660277692264197e-07}. Best is trial 3 with value: 0.050000000000000044.\n"
     ]
    },
    {
     "name": "stdout",
     "output_type": "stream",
     "text": [
      "🏃 View run merciful-lark-956 at: http://127.0.0.1:8282/#/experiments/588080332252433563/runs/a0dd4de32c144710af65ba90df0e87dc\n",
      "🧪 View experiment at: http://127.0.0.1:8282/#/experiments/588080332252433563\n"
     ]
    },
    {
     "name": "stderr",
     "output_type": "stream",
     "text": [
      "[I 2025-07-21 14:31:22,257] Trial 61 finished with value: 0.06172839506172845 and parameters: {'booster': 'gbtree', 'learning_rate': 0.15017173054546928, 'max_depth': 9, 'subsample': 0.5208438443788997, 'colsample_bytree': 0.9531094349599917, 'reg_lambda': 0.08284183309782218, 'reg_alpha': 1.4813450493808164e-06}. Best is trial 3 with value: 0.050000000000000044.\n"
     ]
    },
    {
     "name": "stdout",
     "output_type": "stream",
     "text": [
      "🏃 View run receptive-bug-404 at: http://127.0.0.1:8282/#/experiments/588080332252433563/runs/f244ba899b1a4cfc9da893a79b644173\n",
      "🧪 View experiment at: http://127.0.0.1:8282/#/experiments/588080332252433563\n"
     ]
    },
    {
     "name": "stderr",
     "output_type": "stream",
     "text": [
      "[I 2025-07-21 14:31:22,785] Trial 62 finished with value: 0.07499999999999996 and parameters: {'booster': 'gbtree', 'learning_rate': 0.1915891712513746, 'max_depth': 9, 'subsample': 0.5363792712274666, 'colsample_bytree': 0.9724040361818413, 'reg_lambda': 0.11743737267767539, 'reg_alpha': 7.034671844579152e-07}. Best is trial 3 with value: 0.050000000000000044.\n"
     ]
    },
    {
     "name": "stdout",
     "output_type": "stream",
     "text": [
      "🏃 View run auspicious-smelt-120 at: http://127.0.0.1:8282/#/experiments/588080332252433563/runs/73c63f51441944109d0de422896d7684\n",
      "🧪 View experiment at: http://127.0.0.1:8282/#/experiments/588080332252433563\n"
     ]
    },
    {
     "name": "stderr",
     "output_type": "stream",
     "text": [
      "[I 2025-07-21 14:31:23,290] Trial 63 finished with value: 0.07499999999999996 and parameters: {'booster': 'gbtree', 'learning_rate': 0.10671350998094237, 'max_depth': 8, 'subsample': 0.5441942722221967, 'colsample_bytree': 0.9020219466210144, 'reg_lambda': 0.03478705965653814, 'reg_alpha': 2.8514284921072407e-06}. Best is trial 3 with value: 0.050000000000000044.\n"
     ]
    },
    {
     "name": "stdout",
     "output_type": "stream",
     "text": [
      "🏃 View run enthused-tern-256 at: http://127.0.0.1:8282/#/experiments/588080332252433563/runs/c82971fa394841f0bd960ed3a44db564\n",
      "🧪 View experiment at: http://127.0.0.1:8282/#/experiments/588080332252433563\n"
     ]
    },
    {
     "name": "stderr",
     "output_type": "stream",
     "text": [
      "[I 2025-07-21 14:31:23,789] Trial 64 finished with value: 0.06172839506172845 and parameters: {'booster': 'gbtree', 'learning_rate': 0.13975334035580553, 'max_depth': 9, 'subsample': 0.5190088822043843, 'colsample_bytree': 0.9908349341007392, 'reg_lambda': 0.05579214509672152, 'reg_alpha': 5.428714880201287e-06}. Best is trial 3 with value: 0.050000000000000044.\n"
     ]
    },
    {
     "name": "stdout",
     "output_type": "stream",
     "text": [
      "🏃 View run nosy-swan-262 at: http://127.0.0.1:8282/#/experiments/588080332252433563/runs/474a1dccd7514e4892f7e7fd9d8b3751\n",
      "🧪 View experiment at: http://127.0.0.1:8282/#/experiments/588080332252433563\n"
     ]
    },
    {
     "name": "stderr",
     "output_type": "stream",
     "text": [
      "[I 2025-07-21 14:31:24,308] Trial 65 finished with value: 0.06329113924050633 and parameters: {'booster': 'gbtree', 'learning_rate': 0.16387922085187784, 'max_depth': 6, 'subsample': 0.7346987453478838, 'colsample_bytree': 0.9438035808603736, 'reg_lambda': 0.13900799804915073, 'reg_alpha': 1.5708554489854178e-05}. Best is trial 3 with value: 0.050000000000000044.\n"
     ]
    },
    {
     "name": "stdout",
     "output_type": "stream",
     "text": [
      "🏃 View run likeable-ram-140 at: http://127.0.0.1:8282/#/experiments/588080332252433563/runs/db784ac1786e4412a82fda902c556ae9\n",
      "🧪 View experiment at: http://127.0.0.1:8282/#/experiments/588080332252433563\n"
     ]
    },
    {
     "name": "stderr",
     "output_type": "stream",
     "text": [
      "[I 2025-07-21 14:31:24,960] Trial 66 finished with value: 0.08860759493670889 and parameters: {'booster': 'gbtree', 'learning_rate': 0.1258020222826726, 'max_depth': 10, 'subsample': 0.6137528530735317, 'colsample_bytree': 0.962466637858675, 'reg_lambda': 0.008347390342717163, 'reg_alpha': 0.47967983532057973}. Best is trial 3 with value: 0.050000000000000044.\n"
     ]
    },
    {
     "name": "stdout",
     "output_type": "stream",
     "text": [
      "🏃 View run peaceful-skunk-665 at: http://127.0.0.1:8282/#/experiments/588080332252433563/runs/9ce3dcc869604aacb8a72fd3cec1d617\n",
      "🧪 View experiment at: http://127.0.0.1:8282/#/experiments/588080332252433563\n"
     ]
    },
    {
     "name": "stderr",
     "output_type": "stream",
     "text": [
      "[I 2025-07-21 14:31:25,766] Trial 67 finished with value: 0.0864197530864198 and parameters: {'booster': 'dart', 'learning_rate': 0.1159459901273509, 'max_depth': 7, 'subsample': 0.5542679493551973, 'colsample_bytree': 0.8054458731531486, 'reg_lambda': 0.31689959999818257, 'reg_alpha': 0.00011656524644583315}. Best is trial 3 with value: 0.050000000000000044.\n"
     ]
    },
    {
     "name": "stdout",
     "output_type": "stream",
     "text": [
      "🏃 View run agreeable-stork-471 at: http://127.0.0.1:8282/#/experiments/588080332252433563/runs/4223de84091d408fbe364b69439dd18a\n",
      "🧪 View experiment at: http://127.0.0.1:8282/#/experiments/588080332252433563\n"
     ]
    },
    {
     "name": "stderr",
     "output_type": "stream",
     "text": [
      "[I 2025-07-21 14:31:26,243] Trial 68 finished with value: 0.06329113924050633 and parameters: {'booster': 'gbtree', 'learning_rate': 0.08054149568622189, 'max_depth': 8, 'subsample': 0.5321554255368135, 'colsample_bytree': 0.8592349770357419, 'reg_lambda': 0.02826946113985556, 'reg_alpha': 7.928383944316296e-06}. Best is trial 3 with value: 0.050000000000000044.\n"
     ]
    },
    {
     "name": "stdout",
     "output_type": "stream",
     "text": [
      "🏃 View run ambitious-bird-216 at: http://127.0.0.1:8282/#/experiments/588080332252433563/runs/e3b69327c67a42dc818a4cc484e6859c\n",
      "🧪 View experiment at: http://127.0.0.1:8282/#/experiments/588080332252433563\n"
     ]
    },
    {
     "name": "stderr",
     "output_type": "stream",
     "text": [
      "[I 2025-07-21 14:31:28,462] Trial 69 finished with value: 0.06329113924050633 and parameters: {'booster': 'dart', 'learning_rate': 0.021537572776543903, 'max_depth': 9, 'subsample': 0.6353901301174955, 'colsample_bytree': 0.9995813021424995, 'reg_lambda': 0.09701875530890343, 'reg_alpha': 2.1178879357432827e-05}. Best is trial 3 with value: 0.050000000000000044.\n"
     ]
    },
    {
     "name": "stdout",
     "output_type": "stream",
     "text": [
      "🏃 View run monumental-vole-658 at: http://127.0.0.1:8282/#/experiments/588080332252433563/runs/9b7c512bff08443e8a04bc3db5cda335\n",
      "🧪 View experiment at: http://127.0.0.1:8282/#/experiments/588080332252433563\n"
     ]
    },
    {
     "name": "stderr",
     "output_type": "stream",
     "text": [
      "[I 2025-07-21 14:31:28,971] Trial 70 finished with value: 0.06329113924050633 and parameters: {'booster': 'gbtree', 'learning_rate': 0.16945136966811042, 'max_depth': 10, 'subsample': 0.57313672372964, 'colsample_bytree': 0.9270053979247523, 'reg_lambda': 0.8188490842654204, 'reg_alpha': 1.4037283484133751e-07}. Best is trial 3 with value: 0.050000000000000044.\n"
     ]
    },
    {
     "name": "stdout",
     "output_type": "stream",
     "text": [
      "🏃 View run nervous-bug-759 at: http://127.0.0.1:8282/#/experiments/588080332252433563/runs/6ef88fb19b4740d8b5db834b3677cf10\n",
      "🧪 View experiment at: http://127.0.0.1:8282/#/experiments/588080332252433563\n"
     ]
    },
    {
     "name": "stderr",
     "output_type": "stream",
     "text": [
      "[I 2025-07-21 14:31:29,438] Trial 71 finished with value: 0.06329113924050633 and parameters: {'booster': 'gbtree', 'learning_rate': 0.09486656715857975, 'max_depth': 7, 'subsample': 0.5605892056844347, 'colsample_bytree': 0.9907244091475047, 'reg_lambda': 0.9826811961072338, 'reg_alpha': 1.4457951158196409e-05}. Best is trial 3 with value: 0.050000000000000044.\n"
     ]
    },
    {
     "name": "stdout",
     "output_type": "stream",
     "text": [
      "🏃 View run nebulous-zebra-120 at: http://127.0.0.1:8282/#/experiments/588080332252433563/runs/6f4007994b674e639bc6680bdfe4cde6\n",
      "🧪 View experiment at: http://127.0.0.1:8282/#/experiments/588080332252433563\n"
     ]
    },
    {
     "name": "stderr",
     "output_type": "stream",
     "text": [
      "[I 2025-07-21 14:31:29,898] Trial 72 finished with value: 0.050000000000000044 and parameters: {'booster': 'gbtree', 'learning_rate': 0.09527298428267514, 'max_depth': 7, 'subsample': 0.5003460271621688, 'colsample_bytree': 0.9804007541797425, 'reg_lambda': 0.4689180090749616, 'reg_alpha': 1.1271910118492767e-05}. Best is trial 3 with value: 0.050000000000000044.\n"
     ]
    },
    {
     "name": "stdout",
     "output_type": "stream",
     "text": [
      "🏃 View run spiffy-eel-757 at: http://127.0.0.1:8282/#/experiments/588080332252433563/runs/88b7891cc03647159573258aa1a328b6\n",
      "🧪 View experiment at: http://127.0.0.1:8282/#/experiments/588080332252433563\n"
     ]
    },
    {
     "name": "stderr",
     "output_type": "stream",
     "text": [
      "[I 2025-07-21 14:31:30,328] Trial 73 finished with value: 0.06329113924050633 and parameters: {'booster': 'gbtree', 'learning_rate': 0.10642522862721832, 'max_depth': 6, 'subsample': 0.5129849494448548, 'colsample_bytree': 0.9669479551737703, 'reg_lambda': 0.4645682486003406, 'reg_alpha': 1.9964732023267487e-06}. Best is trial 3 with value: 0.050000000000000044.\n"
     ]
    },
    {
     "name": "stdout",
     "output_type": "stream",
     "text": [
      "🏃 View run tasteful-stork-334 at: http://127.0.0.1:8282/#/experiments/588080332252433563/runs/c4a3904594874348aca8df103176d8b2\n",
      "🧪 View experiment at: http://127.0.0.1:8282/#/experiments/588080332252433563\n"
     ]
    },
    {
     "name": "stderr",
     "output_type": "stream",
     "text": [
      "[I 2025-07-21 14:31:30,779] Trial 74 finished with value: 0.050000000000000044 and parameters: {'booster': 'gbtree', 'learning_rate': 0.04828945423400689, 'max_depth': 8, 'subsample': 0.5000359440611986, 'colsample_bytree': 0.9132223902914809, 'reg_lambda': 0.14729618037360265, 'reg_alpha': 4.088820145271382e-06}. Best is trial 3 with value: 0.050000000000000044.\n"
     ]
    },
    {
     "name": "stdout",
     "output_type": "stream",
     "text": [
      "🏃 View run caring-conch-124 at: http://127.0.0.1:8282/#/experiments/588080332252433563/runs/766365dc891a430a93889519ee8ae131\n",
      "🧪 View experiment at: http://127.0.0.1:8282/#/experiments/588080332252433563\n"
     ]
    },
    {
     "name": "stderr",
     "output_type": "stream",
     "text": [
      "[I 2025-07-21 14:31:31,264] Trial 75 finished with value: 0.07317073170731703 and parameters: {'booster': 'gblinear', 'learning_rate': 0.04999113769894681, 'max_depth': 8, 'subsample': 0.507836267868155, 'colsample_bytree': 0.660813098061322, 'reg_lambda': 0.26870300462203006, 'reg_alpha': 5.196366581975799e-06}. Best is trial 3 with value: 0.050000000000000044.\n"
     ]
    },
    {
     "name": "stdout",
     "output_type": "stream",
     "text": [
      "🏃 View run abrasive-shoat-432 at: http://127.0.0.1:8282/#/experiments/588080332252433563/runs/a933127f994949b9aa5f5e0bfc13a8d0\n",
      "🧪 View experiment at: http://127.0.0.1:8282/#/experiments/588080332252433563\n"
     ]
    },
    {
     "name": "stderr",
     "output_type": "stream",
     "text": [
      "[I 2025-07-21 14:31:31,723] Trial 76 finished with value: 0.05128205128205132 and parameters: {'booster': 'gbtree', 'learning_rate': 0.06811003568665938, 'max_depth': 7, 'subsample': 0.5019666737534914, 'colsample_bytree': 0.9144544748208889, 'reg_lambda': 0.059528495450621374, 'reg_alpha': 3.265786836618683e-05}. Best is trial 3 with value: 0.050000000000000044.\n"
     ]
    },
    {
     "name": "stdout",
     "output_type": "stream",
     "text": [
      "🏃 View run mercurial-swan-302 at: http://127.0.0.1:8282/#/experiments/588080332252433563/runs/093c7d2df1fe4ad1bb9100960e45ab0a\n",
      "🧪 View experiment at: http://127.0.0.1:8282/#/experiments/588080332252433563\n"
     ]
    },
    {
     "name": "stderr",
     "output_type": "stream",
     "text": [
      "[I 2025-07-21 14:31:32,153] Trial 77 finished with value: 0.06329113924050633 and parameters: {'booster': 'gbtree', 'learning_rate': 0.06187713342221643, 'max_depth': 7, 'subsample': 0.5000418581156135, 'colsample_bytree': 0.7175844888862755, 'reg_lambda': 0.011915059518093747, 'reg_alpha': 3.80856993023678e-05}. Best is trial 3 with value: 0.050000000000000044.\n"
     ]
    },
    {
     "name": "stdout",
     "output_type": "stream",
     "text": [
      "🏃 View run rebellious-goat-448 at: http://127.0.0.1:8282/#/experiments/588080332252433563/runs/20fb61d18e104558a78527d29dd2cbd4\n",
      "🧪 View experiment at: http://127.0.0.1:8282/#/experiments/588080332252433563\n"
     ]
    },
    {
     "name": "stderr",
     "output_type": "stream",
     "text": [
      "[I 2025-07-21 14:31:32,580] Trial 78 finished with value: 0.050000000000000044 and parameters: {'booster': 'gbtree', 'learning_rate': 0.07275484171539634, 'max_depth': 8, 'subsample': 0.5265528623374647, 'colsample_bytree': 0.8898482250411576, 'reg_lambda': 0.04997213781512094, 'reg_alpha': 4.145919020909801e-06}. Best is trial 3 with value: 0.050000000000000044.\n"
     ]
    },
    {
     "name": "stdout",
     "output_type": "stream",
     "text": [
      "🏃 View run aged-mare-453 at: http://127.0.0.1:8282/#/experiments/588080332252433563/runs/8351db774408402ea5d27e783145e138\n",
      "🧪 View experiment at: http://127.0.0.1:8282/#/experiments/588080332252433563\n"
     ]
    },
    {
     "name": "stderr",
     "output_type": "stream",
     "text": [
      "[I 2025-07-21 14:31:33,141] Trial 79 finished with value: 0.03797468354430378 and parameters: {'booster': 'gbtree', 'learning_rate': 0.04102965277871351, 'max_depth': 8, 'subsample': 0.5279179687177472, 'colsample_bytree': 0.9436670183308197, 'reg_lambda': 0.1654441853405479, 'reg_alpha': 3.1744295968098523e-06}. Best is trial 79 with value: 0.03797468354430378.\n"
     ]
    },
    {
     "name": "stdout",
     "output_type": "stream",
     "text": [
      "🏃 View run honorable-foal-889 at: http://127.0.0.1:8282/#/experiments/588080332252433563/runs/ae37f4696259419c87a35e62ba6e9999\n",
      "🧪 View experiment at: http://127.0.0.1:8282/#/experiments/588080332252433563\n",
      "New best F1-score: 0.9620 on trial 79\n"
     ]
    },
    {
     "name": "stderr",
     "output_type": "stream",
     "text": [
      "[I 2025-07-21 14:31:33,681] Trial 80 finished with value: 0.050000000000000044 and parameters: {'booster': 'gbtree', 'learning_rate': 0.03939985844011244, 'max_depth': 8, 'subsample': 0.5257637835456364, 'colsample_bytree': 0.8908581342315659, 'reg_lambda': 0.18168320125118728, 'reg_alpha': 4.870104068062613e-07}. Best is trial 79 with value: 0.03797468354430378.\n"
     ]
    },
    {
     "name": "stdout",
     "output_type": "stream",
     "text": [
      "🏃 View run enthused-ram-339 at: http://127.0.0.1:8282/#/experiments/588080332252433563/runs/85878252bb224a1694d788dce909b193\n",
      "🧪 View experiment at: http://127.0.0.1:8282/#/experiments/588080332252433563\n"
     ]
    },
    {
     "name": "stderr",
     "output_type": "stream",
     "text": [
      "[I 2025-07-21 14:31:34,157] Trial 81 finished with value: 0.06329113924050633 and parameters: {'booster': 'gbtree', 'learning_rate': 0.03802299069983989, 'max_depth': 8, 'subsample': 0.5300821601846535, 'colsample_bytree': 0.8835616353111787, 'reg_lambda': 0.5872910525392254, 'reg_alpha': 6.216006600398856e-07}. Best is trial 79 with value: 0.03797468354430378.\n"
     ]
    },
    {
     "name": "stdout",
     "output_type": "stream",
     "text": [
      "🏃 View run bedecked-hound-528 at: http://127.0.0.1:8282/#/experiments/588080332252433563/runs/e7931ac067c841b8b744bded5a9d8cd6\n",
      "🧪 View experiment at: http://127.0.0.1:8282/#/experiments/588080332252433563\n"
     ]
    },
    {
     "name": "stderr",
     "output_type": "stream",
     "text": [
      "[I 2025-07-21 14:31:34,625] Trial 82 finished with value: 0.05128205128205132 and parameters: {'booster': 'gbtree', 'learning_rate': 0.04451782061204313, 'max_depth': 8, 'subsample': 0.5488692179223977, 'colsample_bytree': 0.8294899583678508, 'reg_lambda': 0.2191781395653236, 'reg_alpha': 3.722218805747767e-06}. Best is trial 79 with value: 0.03797468354430378.\n"
     ]
    },
    {
     "name": "stdout",
     "output_type": "stream",
     "text": [
      "🏃 View run wistful-hound-195 at: http://127.0.0.1:8282/#/experiments/588080332252433563/runs/db5a26a81ee849b8afa598992b355fa4\n",
      "🧪 View experiment at: http://127.0.0.1:8282/#/experiments/588080332252433563\n"
     ]
    },
    {
     "name": "stderr",
     "output_type": "stream",
     "text": [
      "[I 2025-07-21 14:31:35,125] Trial 83 finished with value: 0.050000000000000044 and parameters: {'booster': 'gbtree', 'learning_rate': 0.02911018179797257, 'max_depth': 8, 'subsample': 0.5199946384358031, 'colsample_bytree': 0.9110869107829235, 'reg_lambda': 0.15677948332024347, 'reg_alpha': 3.804278322825869e-07}. Best is trial 79 with value: 0.03797468354430378.\n"
     ]
    },
    {
     "name": "stdout",
     "output_type": "stream",
     "text": [
      "🏃 View run adorable-carp-84 at: http://127.0.0.1:8282/#/experiments/588080332252433563/runs/cb5d18ac0ac14649a4583bd01eaf10e5\n",
      "🧪 View experiment at: http://127.0.0.1:8282/#/experiments/588080332252433563\n"
     ]
    },
    {
     "name": "stderr",
     "output_type": "stream",
     "text": [
      "[I 2025-07-21 14:31:35,643] Trial 84 finished with value: 0.06172839506172845 and parameters: {'booster': 'gbtree', 'learning_rate': 0.019376925890741515, 'max_depth': 8, 'subsample': 0.5251389336301392, 'colsample_bytree': 0.8888022570934888, 'reg_lambda': 0.17093784293720377, 'reg_alpha': 2.845681172619171e-07}. Best is trial 79 with value: 0.03797468354430378.\n"
     ]
    },
    {
     "name": "stdout",
     "output_type": "stream",
     "text": [
      "🏃 View run thoughtful-mare-89 at: http://127.0.0.1:8282/#/experiments/588080332252433563/runs/c37e101525b84f0090a5e284f49e6c2a\n",
      "🧪 View experiment at: http://127.0.0.1:8282/#/experiments/588080332252433563\n"
     ]
    },
    {
     "name": "stderr",
     "output_type": "stream",
     "text": [
      "[I 2025-07-21 14:31:36,119] Trial 85 finished with value: 0.06329113924050633 and parameters: {'booster': 'gbtree', 'learning_rate': 0.03167925052663817, 'max_depth': 8, 'subsample': 0.5788579176448136, 'colsample_bytree': 0.7775827688371415, 'reg_lambda': 0.3270677532366026, 'reg_alpha': 9.994881870565388e-07}. Best is trial 79 with value: 0.03797468354430378.\n"
     ]
    },
    {
     "name": "stdout",
     "output_type": "stream",
     "text": [
      "🏃 View run wise-yak-282 at: http://127.0.0.1:8282/#/experiments/588080332252433563/runs/253479c9042c49b7a8a2d0f92b317305\n",
      "🧪 View experiment at: http://127.0.0.1:8282/#/experiments/588080332252433563\n"
     ]
    },
    {
     "name": "stderr",
     "output_type": "stream",
     "text": [
      "[I 2025-07-21 14:31:36,633] Trial 86 finished with value: 0.06329113924050633 and parameters: {'booster': 'gbtree', 'learning_rate': 0.05870531565674239, 'max_depth': 9, 'subsample': 0.7901386380686066, 'colsample_bytree': 0.9088091538366823, 'reg_lambda': 0.047655060205554746, 'reg_alpha': 5.86452770558551e-08}. Best is trial 79 with value: 0.03797468354430378.\n"
     ]
    },
    {
     "name": "stdout",
     "output_type": "stream",
     "text": [
      "🏃 View run respected-panda-690 at: http://127.0.0.1:8282/#/experiments/588080332252433563/runs/57ee0e001ced418eb3d2aaf0115e1d2e\n",
      "🧪 View experiment at: http://127.0.0.1:8282/#/experiments/588080332252433563\n"
     ]
    },
    {
     "name": "stderr",
     "output_type": "stream",
     "text": [
      "[I 2025-07-21 14:31:37,127] Trial 87 finished with value: 0.03797468354430378 and parameters: {'booster': 'gbtree', 'learning_rate': 0.04535055094850833, 'max_depth': 7, 'subsample': 0.5466250004646098, 'colsample_bytree': 0.8591916612520687, 'reg_lambda': 0.15366567215051793, 'reg_alpha': 2.6406739476858185e-06}. Best is trial 79 with value: 0.03797468354430378.\n"
     ]
    },
    {
     "name": "stdout",
     "output_type": "stream",
     "text": [
      "🏃 View run salty-whale-544 at: http://127.0.0.1:8282/#/experiments/588080332252433563/runs/d48138950950413c9e92236d2c1eac5a\n",
      "🧪 View experiment at: http://127.0.0.1:8282/#/experiments/588080332252433563\n"
     ]
    },
    {
     "name": "stderr",
     "output_type": "stream",
     "text": [
      "[I 2025-07-21 14:31:37,640] Trial 88 finished with value: 0.03797468354430378 and parameters: {'booster': 'gbtree', 'learning_rate': 0.04051563298874308, 'max_depth': 7, 'subsample': 0.5439734203461386, 'colsample_bytree': 0.8628231034907756, 'reg_lambda': 0.1444794846104219, 'reg_alpha': 4.217609699884399e-07}. Best is trial 79 with value: 0.03797468354430378.\n"
     ]
    },
    {
     "name": "stdout",
     "output_type": "stream",
     "text": [
      "🏃 View run adorable-wasp-881 at: http://127.0.0.1:8282/#/experiments/588080332252433563/runs/a55bb6ec857f4681bc53f374cf9424c9\n",
      "🧪 View experiment at: http://127.0.0.1:8282/#/experiments/588080332252433563\n"
     ]
    },
    {
     "name": "stderr",
     "output_type": "stream",
     "text": [
      "[I 2025-07-21 14:31:38,248] Trial 89 finished with value: 0.06329113924050633 and parameters: {'booster': 'gbtree', 'learning_rate': 0.042675946871699844, 'max_depth': 7, 'subsample': 0.5438572059557977, 'colsample_bytree': 0.8510105448507388, 'reg_lambda': 0.024315227001074084, 'reg_alpha': 2.5715850744295926e-06}. Best is trial 79 with value: 0.03797468354430378.\n"
     ]
    },
    {
     "name": "stdout",
     "output_type": "stream",
     "text": [
      "🏃 View run treasured-sheep-430 at: http://127.0.0.1:8282/#/experiments/588080332252433563/runs/14b172c451234920b16ab91ff0caf44a\n",
      "🧪 View experiment at: http://127.0.0.1:8282/#/experiments/588080332252433563\n"
     ]
    },
    {
     "name": "stderr",
     "output_type": "stream",
     "text": [
      "[I 2025-07-21 14:31:38,802] Trial 90 finished with value: 0.06329113924050633 and parameters: {'booster': 'gbtree', 'learning_rate': 0.05642611420607804, 'max_depth': 7, 'subsample': 0.5606167187665639, 'colsample_bytree': 0.8637793610575946, 'reg_lambda': 0.04471071577681423, 'reg_alpha': 1.2675772494257671e-06}. Best is trial 79 with value: 0.03797468354430378.\n"
     ]
    },
    {
     "name": "stdout",
     "output_type": "stream",
     "text": [
      "🏃 View run upset-cub-62 at: http://127.0.0.1:8282/#/experiments/588080332252433563/runs/f9e500f308494330bbe28960b976f5b5\n",
      "🧪 View experiment at: http://127.0.0.1:8282/#/experiments/588080332252433563\n"
     ]
    },
    {
     "name": "stderr",
     "output_type": "stream",
     "text": [
      "[I 2025-07-21 14:31:39,362] Trial 91 finished with value: 0.050000000000000044 and parameters: {'booster': 'gbtree', 'learning_rate': 0.025081515399332698, 'max_depth': 7, 'subsample': 0.5245835598282991, 'colsample_bytree': 0.8247160353173492, 'reg_lambda': 0.16893441145751809, 'reg_alpha': 3.9809158232298743e-07}. Best is trial 79 with value: 0.03797468354430378.\n"
     ]
    },
    {
     "name": "stdout",
     "output_type": "stream",
     "text": [
      "🏃 View run casual-carp-502 at: http://127.0.0.1:8282/#/experiments/588080332252433563/runs/84adfb8ed16b404db70b7e1b3848e1ce\n",
      "🧪 View experiment at: http://127.0.0.1:8282/#/experiments/588080332252433563\n"
     ]
    },
    {
     "name": "stderr",
     "output_type": "stream",
     "text": [
      "[I 2025-07-21 14:31:39,806] Trial 92 finished with value: 0.06329113924050633 and parameters: {'booster': 'gbtree', 'learning_rate': 0.07600305562920356, 'max_depth': 8, 'subsample': 0.5370037027814071, 'colsample_bytree': 0.8806640556875251, 'reg_lambda': 0.6285663026390603, 'reg_alpha': 5.290209352574076e-07}. Best is trial 79 with value: 0.03797468354430378.\n"
     ]
    },
    {
     "name": "stdout",
     "output_type": "stream",
     "text": [
      "🏃 View run efficient-mule-267 at: http://127.0.0.1:8282/#/experiments/588080332252433563/runs/b97d91f0eab440cab3d56af0eae1ef07\n",
      "🧪 View experiment at: http://127.0.0.1:8282/#/experiments/588080332252433563\n"
     ]
    },
    {
     "name": "stderr",
     "output_type": "stream",
     "text": [
      "[I 2025-07-21 14:31:40,386] Trial 93 finished with value: 0.07499999999999996 and parameters: {'booster': 'gbtree', 'learning_rate': 0.015921477709999285, 'max_depth': 7, 'subsample': 0.5157105048694005, 'colsample_bytree': 0.8962120907877337, 'reg_lambda': 0.3355147970788201, 'reg_alpha': 2.872903650558263e-07}. Best is trial 79 with value: 0.03797468354430378.\n"
     ]
    },
    {
     "name": "stdout",
     "output_type": "stream",
     "text": [
      "🏃 View run crawling-shoat-494 at: http://127.0.0.1:8282/#/experiments/588080332252433563/runs/569be7e9c4964572b6101e44d6f79722\n",
      "🧪 View experiment at: http://127.0.0.1:8282/#/experiments/588080332252433563\n"
     ]
    },
    {
     "name": "stderr",
     "output_type": "stream",
     "text": [
      "[I 2025-07-21 14:31:40,909] Trial 94 finished with value: 0.050000000000000044 and parameters: {'booster': 'gbtree', 'learning_rate': 0.042456134722446706, 'max_depth': 8, 'subsample': 0.552897705519274, 'colsample_bytree': 0.9290344655584197, 'reg_lambda': 0.13949301809392825, 'reg_alpha': 1.029571350005467e-06}. Best is trial 79 with value: 0.03797468354430378.\n"
     ]
    },
    {
     "name": "stdout",
     "output_type": "stream",
     "text": [
      "🏃 View run unleashed-yak-465 at: http://127.0.0.1:8282/#/experiments/588080332252433563/runs/a81e36a0d53a43fab7375bbd9fa64c76\n",
      "🧪 View experiment at: http://127.0.0.1:8282/#/experiments/588080332252433563\n"
     ]
    },
    {
     "name": "stderr",
     "output_type": "stream",
     "text": [
      "[I 2025-07-21 14:31:41,506] Trial 95 finished with value: 0.05128205128205132 and parameters: {'booster': 'gbtree', 'learning_rate': 0.03244666231144301, 'max_depth': 6, 'subsample': 0.5890283532140388, 'colsample_bytree': 0.8718353609460638, 'reg_lambda': 0.25573481992827957, 'reg_alpha': 1.9074789515771264e-07}. Best is trial 79 with value: 0.03797468354430378.\n"
     ]
    },
    {
     "name": "stdout",
     "output_type": "stream",
     "text": [
      "🏃 View run upbeat-skink-40 at: http://127.0.0.1:8282/#/experiments/588080332252433563/runs/b74871c50fbd44468b6bcdcc96b88be1\n",
      "🧪 View experiment at: http://127.0.0.1:8282/#/experiments/588080332252433563\n"
     ]
    },
    {
     "name": "stderr",
     "output_type": "stream",
     "text": [
      "[I 2025-07-21 14:31:41,989] Trial 96 finished with value: 0.06329113924050633 and parameters: {'booster': 'gbtree', 'learning_rate': 0.054003168407683766, 'max_depth': 7, 'subsample': 0.6026953972731803, 'colsample_bytree': 0.8493508784070001, 'reg_lambda': 0.146761728836653, 'reg_alpha': 2.1241323250082526e-06}. Best is trial 79 with value: 0.03797468354430378.\n"
     ]
    },
    {
     "name": "stdout",
     "output_type": "stream",
     "text": [
      "🏃 View run colorful-hound-368 at: http://127.0.0.1:8282/#/experiments/588080332252433563/runs/557228bf74994a4eb5e84e3456558383\n",
      "🧪 View experiment at: http://127.0.0.1:8282/#/experiments/588080332252433563\n"
     ]
    },
    {
     "name": "stderr",
     "output_type": "stream",
     "text": [
      "[I 2025-07-21 14:31:42,465] Trial 97 finished with value: 0.07317073170731703 and parameters: {'booster': 'gblinear', 'learning_rate': 0.06410695047062842, 'max_depth': 8, 'subsample': 0.5299431391222413, 'colsample_bytree': 0.9163787991472054, 'reg_lambda': 0.5195185959197091, 'reg_alpha': 0.03313741154391896}. Best is trial 79 with value: 0.03797468354430378.\n"
     ]
    },
    {
     "name": "stdout",
     "output_type": "stream",
     "text": [
      "🏃 View run nebulous-stoat-141 at: http://127.0.0.1:8282/#/experiments/588080332252433563/runs/9345a2d2a123463ebe6935f2992019ba\n",
      "🧪 View experiment at: http://127.0.0.1:8282/#/experiments/588080332252433563\n"
     ]
    },
    {
     "name": "stderr",
     "output_type": "stream",
     "text": [
      "[I 2025-07-21 14:31:42,934] Trial 98 finished with value: 0.07499999999999996 and parameters: {'booster': 'gbtree', 'learning_rate': 0.047322474224083075, 'max_depth': 8, 'subsample': 0.5167764998480693, 'colsample_bytree': 0.6130199203781477, 'reg_lambda': 0.07525264451770504, 'reg_alpha': 1.4985391427375498e-07}. Best is trial 79 with value: 0.03797468354430378.\n"
     ]
    },
    {
     "name": "stdout",
     "output_type": "stream",
     "text": [
      "🏃 View run serious-mare-799 at: http://127.0.0.1:8282/#/experiments/588080332252433563/runs/46b6d36ab4be4a85b5b2695d8ba72218\n",
      "🧪 View experiment at: http://127.0.0.1:8282/#/experiments/588080332252433563\n"
     ]
    },
    {
     "name": "stderr",
     "output_type": "stream",
     "text": [
      "[I 2025-07-21 14:31:43,578] Trial 99 finished with value: 0.050000000000000044 and parameters: {'booster': 'gbtree', 'learning_rate': 0.027192610854935288, 'max_depth': 7, 'subsample': 0.5396963736700296, 'colsample_bytree': 0.9052331469652286, 'reg_lambda': 7.989739702761681e-05, 'reg_alpha': 6.403404168702679e-06}. Best is trial 79 with value: 0.03797468354430378.\n"
     ]
    },
    {
     "name": "stdout",
     "output_type": "stream",
     "text": [
      "🏃 View run unruly-dog-215 at: http://127.0.0.1:8282/#/experiments/588080332252433563/runs/c3bfa9744a4f4f8eb5d88ea3c28bd1c3\n",
      "🧪 View experiment at: http://127.0.0.1:8282/#/experiments/588080332252433563\n"
     ]
    },
    {
     "name": "stderr",
     "output_type": "stream",
     "text": [
      "[I 2025-07-21 14:31:44,139] Trial 100 finished with value: 0.05128205128205132 and parameters: {'booster': 'gbtree', 'learning_rate': 0.036071440936199226, 'max_depth': 7, 'subsample': 0.5606151298688389, 'colsample_bytree': 0.9447602219017934, 'reg_lambda': 0.21325222112520692, 'reg_alpha': 7.650950562877924e-07}. Best is trial 79 with value: 0.03797468354430378.\n"
     ]
    },
    {
     "name": "stdout",
     "output_type": "stream",
     "text": [
      "🏃 View run tasteful-donkey-590 at: http://127.0.0.1:8282/#/experiments/588080332252433563/runs/bfb12e320a444c5687da67ae86a5d494\n",
      "🧪 View experiment at: http://127.0.0.1:8282/#/experiments/588080332252433563\n"
     ]
    },
    {
     "name": "stderr",
     "output_type": "stream",
     "text": [
      "[I 2025-07-21 14:31:44,733] Trial 101 finished with value: 0.050000000000000044 and parameters: {'booster': 'gbtree', 'learning_rate': 0.02336417004301892, 'max_depth': 7, 'subsample': 0.5253003144454031, 'colsample_bytree': 0.8895440141908209, 'reg_lambda': 0.12341373589346562, 'reg_alpha': 3.868929686699402e-07}. Best is trial 79 with value: 0.03797468354430378.\n"
     ]
    },
    {
     "name": "stdout",
     "output_type": "stream",
     "text": [
      "🏃 View run defiant-mouse-751 at: http://127.0.0.1:8282/#/experiments/588080332252433563/runs/9a979b675ed7495894bf5dab211b273e\n",
      "🧪 View experiment at: http://127.0.0.1:8282/#/experiments/588080332252433563\n"
     ]
    },
    {
     "name": "stderr",
     "output_type": "stream",
     "text": [
      "[I 2025-07-21 14:31:45,426] Trial 102 finished with value: 0.05128205128205132 and parameters: {'booster': 'gbtree', 'learning_rate': 0.07398442810230604, 'max_depth': 7, 'subsample': 0.5679022907591641, 'colsample_bytree': 0.8285267699977747, 'reg_lambda': 0.17712272299146697, 'reg_alpha': 3.9970578021380103e-07}. Best is trial 79 with value: 0.03797468354430378.\n"
     ]
    },
    {
     "name": "stdout",
     "output_type": "stream",
     "text": [
      "🏃 View run clean-finch-124 at: http://127.0.0.1:8282/#/experiments/588080332252433563/runs/5d2749df16284fbba98328df6d9fe415\n",
      "🧪 View experiment at: http://127.0.0.1:8282/#/experiments/588080332252433563\n"
     ]
    },
    {
     "name": "stderr",
     "output_type": "stream",
     "text": [
      "[I 2025-07-21 14:31:45,903] Trial 103 finished with value: 0.06172839506172845 and parameters: {'booster': 'gbtree', 'learning_rate': 0.039236194675811735, 'max_depth': 8, 'subsample': 0.5128367583196886, 'colsample_bytree': 0.8574263892497529, 'reg_lambda': 0.3839970859176568, 'reg_alpha': 3.422361518571769e-06}. Best is trial 79 with value: 0.03797468354430378.\n"
     ]
    },
    {
     "name": "stdout",
     "output_type": "stream",
     "text": [
      "🏃 View run fun-seal-528 at: http://127.0.0.1:8282/#/experiments/588080332252433563/runs/012411ba45944564aeec52af871df224\n",
      "🧪 View experiment at: http://127.0.0.1:8282/#/experiments/588080332252433563\n"
     ]
    },
    {
     "name": "stderr",
     "output_type": "stream",
     "text": [
      "[I 2025-07-21 14:31:46,377] Trial 104 finished with value: 0.05128205128205132 and parameters: {'booster': 'gbtree', 'learning_rate': 0.08693394902673421, 'max_depth': 6, 'subsample': 0.525974986483373, 'colsample_bytree': 0.8232293068365325, 'reg_lambda': 0.03502338745063678, 'reg_alpha': 5.951073219416655e-08}. Best is trial 79 with value: 0.03797468354430378.\n"
     ]
    },
    {
     "name": "stdout",
     "output_type": "stream",
     "text": [
      "🏃 View run gregarious-boar-713 at: http://127.0.0.1:8282/#/experiments/588080332252433563/runs/f4e48f884f06430ab71331fbbf500271\n",
      "🧪 View experiment at: http://127.0.0.1:8282/#/experiments/588080332252433563\n"
     ]
    },
    {
     "name": "stderr",
     "output_type": "stream",
     "text": [
      "[I 2025-07-21 14:31:46,932] Trial 105 finished with value: 0.05128205128205132 and parameters: {'booster': 'gbtree', 'learning_rate': 0.0284216752786109, 'max_depth': 7, 'subsample': 0.5473891676658132, 'colsample_bytree': 0.8735548134331681, 'reg_lambda': 0.0596936978133933, 'reg_alpha': 1.148253377843138e-05}. Best is trial 79 with value: 0.03797468354430378.\n"
     ]
    },
    {
     "name": "stdout",
     "output_type": "stream",
     "text": [
      "🏃 View run fearless-fox-376 at: http://127.0.0.1:8282/#/experiments/588080332252433563/runs/44249f6e781346108d0967c1b0f978fb\n",
      "🧪 View experiment at: http://127.0.0.1:8282/#/experiments/588080332252433563\n"
     ]
    },
    {
     "name": "stderr",
     "output_type": "stream",
     "text": [
      "[I 2025-07-21 14:31:47,598] Trial 106 finished with value: 0.06329113924050633 and parameters: {'booster': 'gbtree', 'learning_rate': 0.013366091557147597, 'max_depth': 8, 'subsample': 0.5346081013755981, 'colsample_bytree': 0.7890721154415228, 'reg_lambda': 0.5812674570719528, 'reg_alpha': 1.3016953112514278e-06}. Best is trial 79 with value: 0.03797468354430378.\n"
     ]
    },
    {
     "name": "stdout",
     "output_type": "stream",
     "text": [
      "🏃 View run shivering-sheep-931 at: http://127.0.0.1:8282/#/experiments/588080332252433563/runs/f3cf864a35334ee796bb5e32d6392383\n",
      "🧪 View experiment at: http://127.0.0.1:8282/#/experiments/588080332252433563\n"
     ]
    },
    {
     "name": "stderr",
     "output_type": "stream",
     "text": [
      "[I 2025-07-21 14:31:48,109] Trial 107 finished with value: 0.05128205128205132 and parameters: {'booster': 'gbtree', 'learning_rate': 0.055273360928064195, 'max_depth': 8, 'subsample': 0.5171283366410155, 'colsample_bytree': 0.8462032067774375, 'reg_lambda': 0.3001493026481954, 'reg_alpha': 2.3268356225702732e-05}. Best is trial 79 with value: 0.03797468354430378.\n"
     ]
    },
    {
     "name": "stdout",
     "output_type": "stream",
     "text": [
      "🏃 View run luminous-fish-974 at: http://127.0.0.1:8282/#/experiments/588080332252433563/runs/4cd5acbf60a84d75af1d7bbc7479e340\n",
      "🧪 View experiment at: http://127.0.0.1:8282/#/experiments/588080332252433563\n"
     ]
    },
    {
     "name": "stderr",
     "output_type": "stream",
     "text": [
      "[I 2025-07-21 14:31:48,605] Trial 108 finished with value: 0.05128205128205132 and parameters: {'booster': 'gbtree', 'learning_rate': 0.06214976373371595, 'max_depth': 7, 'subsample': 0.5511676206852305, 'colsample_bytree': 0.8161584968076054, 'reg_lambda': 0.118124635526603, 'reg_alpha': 1.7481013376165188e-06}. Best is trial 79 with value: 0.03797468354430378.\n"
     ]
    },
    {
     "name": "stdout",
     "output_type": "stream",
     "text": [
      "🏃 View run indecisive-sheep-252 at: http://127.0.0.1:8282/#/experiments/588080332252433563/runs/dfcf451c924b4456bf5aaecf4e2d3205\n",
      "🧪 View experiment at: http://127.0.0.1:8282/#/experiments/588080332252433563\n"
     ]
    },
    {
     "name": "stderr",
     "output_type": "stream",
     "text": [
      "[I 2025-07-21 14:31:49,110] Trial 109 finished with value: 0.07317073170731703 and parameters: {'booster': 'gblinear', 'learning_rate': 0.047179760110706175, 'max_depth': 8, 'subsample': 0.5844183552248685, 'colsample_bytree': 0.931557514855863, 'reg_lambda': 0.07628067907690936, 'reg_alpha': 1.900428593505177e-08}. Best is trial 79 with value: 0.03797468354430378.\n"
     ]
    },
    {
     "name": "stdout",
     "output_type": "stream",
     "text": [
      "🏃 View run intelligent-jay-998 at: http://127.0.0.1:8282/#/experiments/588080332252433563/runs/57e255dc78824e07ad2cd3dbd75f3842\n",
      "🧪 View experiment at: http://127.0.0.1:8282/#/experiments/588080332252433563\n"
     ]
    },
    {
     "name": "stderr",
     "output_type": "stream",
     "text": [
      "[I 2025-07-21 14:31:49,618] Trial 110 finished with value: 0.06172839506172845 and parameters: {'booster': 'gbtree', 'learning_rate': 0.024517554180611797, 'max_depth': 7, 'subsample': 0.5114593359670034, 'colsample_bytree': 0.9009465689805316, 'reg_lambda': 0.15626190235149084, 'reg_alpha': 1.006955864193706e-07}. Best is trial 79 with value: 0.03797468354430378.\n"
     ]
    },
    {
     "name": "stdout",
     "output_type": "stream",
     "text": [
      "🏃 View run abrasive-sloth-419 at: http://127.0.0.1:8282/#/experiments/588080332252433563/runs/4310ec815c8747fcb9eb46af31526ecf\n",
      "🧪 View experiment at: http://127.0.0.1:8282/#/experiments/588080332252433563\n"
     ]
    },
    {
     "name": "stderr",
     "output_type": "stream",
     "text": [
      "[I 2025-07-21 14:31:50,129] Trial 111 finished with value: 0.0864197530864198 and parameters: {'booster': 'gbtree', 'learning_rate': 0.04139691194286873, 'max_depth': 8, 'subsample': 0.5530492189481486, 'colsample_bytree': 0.5307366865066478, 'reg_lambda': 0.200310806741414, 'reg_alpha': 9.654911180227793e-07}. Best is trial 79 with value: 0.03797468354430378.\n"
     ]
    },
    {
     "name": "stdout",
     "output_type": "stream",
     "text": [
      "🏃 View run smiling-vole-385 at: http://127.0.0.1:8282/#/experiments/588080332252433563/runs/2433e901bbc749fb99896e896538690f\n",
      "🧪 View experiment at: http://127.0.0.1:8282/#/experiments/588080332252433563\n"
     ]
    },
    {
     "name": "stderr",
     "output_type": "stream",
     "text": [
      "[I 2025-07-21 14:31:50,763] Trial 112 finished with value: 0.07499999999999996 and parameters: {'booster': 'gbtree', 'learning_rate': 0.03361202008103578, 'max_depth': 8, 'subsample': 0.5005465599468224, 'colsample_bytree': 0.915680359310172, 'reg_lambda': 0.11563264073095736, 'reg_alpha': 5.649950793287804e-07}. Best is trial 79 with value: 0.03797468354430378.\n"
     ]
    },
    {
     "name": "stdout",
     "output_type": "stream",
     "text": [
      "🏃 View run nervous-sponge-241 at: http://127.0.0.1:8282/#/experiments/588080332252433563/runs/7c5aef10dd8048c3af34619c48ab332b\n",
      "🧪 View experiment at: http://127.0.0.1:8282/#/experiments/588080332252433563\n"
     ]
    },
    {
     "name": "stderr",
     "output_type": "stream",
     "text": [
      "[I 2025-07-21 14:31:51,248] Trial 113 finished with value: 0.05128205128205132 and parameters: {'booster': 'gbtree', 'learning_rate': 0.06594148469209464, 'max_depth': 8, 'subsample': 0.5410983140783907, 'colsample_bytree': 0.9236363826934404, 'reg_lambda': 0.018480352441856786, 'reg_alpha': 3.407692334835339e-07}. Best is trial 79 with value: 0.03797468354430378.\n"
     ]
    },
    {
     "name": "stdout",
     "output_type": "stream",
     "text": [
      "🏃 View run upset-skink-788 at: http://127.0.0.1:8282/#/experiments/588080332252433563/runs/d672dc62d11f4d07978d9edee84f8efc\n",
      "🧪 View experiment at: http://127.0.0.1:8282/#/experiments/588080332252433563\n"
     ]
    },
    {
     "name": "stderr",
     "output_type": "stream",
     "text": [
      "[I 2025-07-21 14:31:51,742] Trial 114 finished with value: 0.06172839506172845 and parameters: {'booster': 'gbtree', 'learning_rate': 0.04174417760124756, 'max_depth': 8, 'subsample': 0.5262560897843559, 'colsample_bytree': 0.9337416967248677, 'reg_lambda': 0.0486605837483913, 'reg_alpha': 4.622573702123261e-06}. Best is trial 79 with value: 0.03797468354430378.\n"
     ]
    },
    {
     "name": "stdout",
     "output_type": "stream",
     "text": [
      "🏃 View run adorable-shrike-26 at: http://127.0.0.1:8282/#/experiments/588080332252433563/runs/2c2327de0a54461fa039efe4faffee59\n",
      "🧪 View experiment at: http://127.0.0.1:8282/#/experiments/588080332252433563\n"
     ]
    },
    {
     "name": "stderr",
     "output_type": "stream",
     "text": [
      "[I 2025-07-21 14:31:52,221] Trial 115 finished with value: 0.06329113924050633 and parameters: {'booster': 'gbtree', 'learning_rate': 0.08000008134685495, 'max_depth': 9, 'subsample': 0.5713402768128707, 'colsample_bytree': 0.8879795690716954, 'reg_lambda': 0.34311273194938974, 'reg_alpha': 2.462861318457261e-06}. Best is trial 79 with value: 0.03797468354430378.\n"
     ]
    },
    {
     "name": "stdout",
     "output_type": "stream",
     "text": [
      "🏃 View run honorable-cod-808 at: http://127.0.0.1:8282/#/experiments/588080332252433563/runs/93f7ec26393846679a1ded363f8198e6\n",
      "🧪 View experiment at: http://127.0.0.1:8282/#/experiments/588080332252433563\n"
     ]
    },
    {
     "name": "stderr",
     "output_type": "stream",
     "text": [
      "[I 2025-07-21 14:31:57,430] Trial 116 finished with value: 0.06329113924050633 and parameters: {'booster': 'dart', 'learning_rate': 0.01865748551956584, 'max_depth': 8, 'subsample': 0.5576338816726787, 'colsample_bytree': 0.5821123962077781, 'reg_lambda': 0.7451060640840832, 'reg_alpha': 8.450645610649097e-07}. Best is trial 79 with value: 0.03797468354430378.\n"
     ]
    },
    {
     "name": "stdout",
     "output_type": "stream",
     "text": [
      "🏃 View run traveling-yak-55 at: http://127.0.0.1:8282/#/experiments/588080332252433563/runs/140b383bc7134d3aade843784c36565e\n",
      "🧪 View experiment at: http://127.0.0.1:8282/#/experiments/588080332252433563\n"
     ]
    },
    {
     "name": "stderr",
     "output_type": "stream",
     "text": [
      "[I 2025-07-21 14:31:57,936] Trial 117 finished with value: 0.06329113924050633 and parameters: {'booster': 'gbtree', 'learning_rate': 0.05544051086275426, 'max_depth': 7, 'subsample': 0.5360247334151632, 'colsample_bytree': 0.8387953187826294, 'reg_lambda': 0.14897267935523084, 'reg_alpha': 0.1644211838695458}. Best is trial 79 with value: 0.03797468354430378.\n"
     ]
    },
    {
     "name": "stdout",
     "output_type": "stream",
     "text": [
      "🏃 View run incongruous-lark-957 at: http://127.0.0.1:8282/#/experiments/588080332252433563/runs/17767b57db3749d8a0a9be4404266b17\n",
      "🧪 View experiment at: http://127.0.0.1:8282/#/experiments/588080332252433563\n"
     ]
    },
    {
     "name": "stderr",
     "output_type": "stream",
     "text": [
      "[I 2025-07-21 14:31:58,484] Trial 118 finished with value: 0.06329113924050633 and parameters: {'booster': 'gbtree', 'learning_rate': 0.04845513098971088, 'max_depth': 8, 'subsample': 0.5170489921781137, 'colsample_bytree': 0.7565659082296982, 'reg_lambda': 0.08598777875232924, 'reg_alpha': 1.729640146979789e-07}. Best is trial 79 with value: 0.03797468354430378.\n"
     ]
    },
    {
     "name": "stdout",
     "output_type": "stream",
     "text": [
      "🏃 View run caring-bee-174 at: http://127.0.0.1:8282/#/experiments/588080332252433563/runs/0a0c6cc6fb1e4acb8b8b1f4b299b3164\n",
      "🧪 View experiment at: http://127.0.0.1:8282/#/experiments/588080332252433563\n"
     ]
    },
    {
     "name": "stderr",
     "output_type": "stream",
     "text": [
      "[I 2025-07-21 14:31:59,028] Trial 119 finished with value: 0.06329113924050633 and parameters: {'booster': 'gbtree', 'learning_rate': 0.03257919231922216, 'max_depth': 9, 'subsample': 0.5477974990638181, 'colsample_bytree': 0.9414372883565059, 'reg_lambda': 0.028109774565125673, 'reg_alpha': 1.5116592713399076e-06}. Best is trial 79 with value: 0.03797468354430378.\n"
     ]
    },
    {
     "name": "stdout",
     "output_type": "stream",
     "text": [
      "🏃 View run delightful-hare-909 at: http://127.0.0.1:8282/#/experiments/588080332252433563/runs/5b39f08bb5084eea96e3b73ddf53f164\n",
      "🧪 View experiment at: http://127.0.0.1:8282/#/experiments/588080332252433563\n"
     ]
    },
    {
     "name": "stderr",
     "output_type": "stream",
     "text": [
      "[I 2025-07-21 14:31:59,647] Trial 120 finished with value: 0.050000000000000044 and parameters: {'booster': 'gbtree', 'learning_rate': 0.03648041876428659, 'max_depth': 7, 'subsample': 0.5242784693172075, 'colsample_bytree': 0.8673151784668656, 'reg_lambda': 0.2503634916637945, 'reg_alpha': 6.409987904323462e-06}. Best is trial 79 with value: 0.03797468354430378.\n"
     ]
    },
    {
     "name": "stdout",
     "output_type": "stream",
     "text": [
      "🏃 View run unleashed-croc-115 at: http://127.0.0.1:8282/#/experiments/588080332252433563/runs/5b68431f28f245a29f2da8505d69ee9b\n",
      "🧪 View experiment at: http://127.0.0.1:8282/#/experiments/588080332252433563\n"
     ]
    },
    {
     "name": "stderr",
     "output_type": "stream",
     "text": [
      "[I 2025-07-21 14:32:00,360] Trial 121 finished with value: 0.07499999999999996 and parameters: {'booster': 'gbtree', 'learning_rate': 0.025183227245148057, 'max_depth': 7, 'subsample': 0.5377354567890851, 'colsample_bytree': 0.9047643942684037, 'reg_lambda': 1.2274335633490476e-05, 'reg_alpha': 7.073289444544666e-06}. Best is trial 79 with value: 0.03797468354430378.\n"
     ]
    },
    {
     "name": "stdout",
     "output_type": "stream",
     "text": [
      "🏃 View run charming-bass-270 at: http://127.0.0.1:8282/#/experiments/588080332252433563/runs/bf119318bd764243a28cffb7cc55c63a\n",
      "🧪 View experiment at: http://127.0.0.1:8282/#/experiments/588080332252433563\n"
     ]
    },
    {
     "name": "stderr",
     "output_type": "stream",
     "text": [
      "[I 2025-07-21 14:32:00,937] Trial 122 finished with value: 0.06329113924050633 and parameters: {'booster': 'gbtree', 'learning_rate': 0.025657183007310513, 'max_depth': 7, 'subsample': 0.5428112940215433, 'colsample_bytree': 0.9062899585259606, 'reg_lambda': 0.00011053334386895277, 'reg_alpha': 3.5812961794580184e-06}. Best is trial 79 with value: 0.03797468354430378.\n"
     ]
    },
    {
     "name": "stdout",
     "output_type": "stream",
     "text": [
      "🏃 View run aged-squid-415 at: http://127.0.0.1:8282/#/experiments/588080332252433563/runs/c3bbed54763f48f98e74e833a51d5996\n",
      "🧪 View experiment at: http://127.0.0.1:8282/#/experiments/588080332252433563\n"
     ]
    },
    {
     "name": "stderr",
     "output_type": "stream",
     "text": [
      "[I 2025-07-21 14:32:01,657] Trial 123 finished with value: 0.07499999999999996 and parameters: {'booster': 'gbtree', 'learning_rate': 0.010081504370874073, 'max_depth': 7, 'subsample': 0.5123252889847114, 'colsample_bytree': 0.8784079308969834, 'reg_lambda': 9.258779489982631e-05, 'reg_alpha': 5.584759174449826e-07}. Best is trial 79 with value: 0.03797468354430378.\n"
     ]
    },
    {
     "name": "stdout",
     "output_type": "stream",
     "text": [
      "🏃 View run charming-duck-576 at: http://127.0.0.1:8282/#/experiments/588080332252433563/runs/24f64a1fc80842f2a92a96142fd4eb97\n",
      "🧪 View experiment at: http://127.0.0.1:8282/#/experiments/588080332252433563\n"
     ]
    },
    {
     "name": "stderr",
     "output_type": "stream",
     "text": [
      "[I 2025-07-21 14:32:02,178] Trial 124 finished with value: 0.06172839506172845 and parameters: {'booster': 'gbtree', 'learning_rate': 0.04426065254317563, 'max_depth': 6, 'subsample': 0.5678840358563771, 'colsample_bytree': 0.9502148394036458, 'reg_lambda': 2.9613077946529828e-05, 'reg_alpha': 6.158634273443183e-05}. Best is trial 79 with value: 0.03797468354430378.\n"
     ]
    },
    {
     "name": "stdout",
     "output_type": "stream",
     "text": [
      "🏃 View run worried-asp-947 at: http://127.0.0.1:8282/#/experiments/588080332252433563/runs/3d09085ffcf841b5badfcf88beae8697\n",
      "🧪 View experiment at: http://127.0.0.1:8282/#/experiments/588080332252433563\n"
     ]
    },
    {
     "name": "stderr",
     "output_type": "stream",
     "text": [
      "[I 2025-07-21 14:32:02,680] Trial 125 finished with value: 0.06329113924050633 and parameters: {'booster': 'gbtree', 'learning_rate': 0.051790729498015164, 'max_depth': 8, 'subsample': 0.5303112439116142, 'colsample_bytree': 0.977077745394527, 'reg_lambda': 0.0004288591854456604, 'reg_alpha': 1.10123420437619e-05}. Best is trial 79 with value: 0.03797468354430378.\n"
     ]
    },
    {
     "name": "stdout",
     "output_type": "stream",
     "text": [
      "🏃 View run chill-zebra-410 at: http://127.0.0.1:8282/#/experiments/588080332252433563/runs/2dff6822067245668eb0395034bb1c3e\n",
      "🧪 View experiment at: http://127.0.0.1:8282/#/experiments/588080332252433563\n"
     ]
    },
    {
     "name": "stderr",
     "output_type": "stream",
     "text": [
      "[I 2025-07-21 14:32:04,196] Trial 126 finished with value: 0.06329113924050633 and parameters: {'booster': 'dart', 'learning_rate': 0.029681353576077325, 'max_depth': 7, 'subsample': 0.5078948463367194, 'colsample_bytree': 0.923875384908003, 'reg_lambda': 6.308072424679184e-05, 'reg_alpha': 1.111756995411352e-06}. Best is trial 79 with value: 0.03797468354430378.\n"
     ]
    },
    {
     "name": "stdout",
     "output_type": "stream",
     "text": [
      "🏃 View run luminous-skunk-525 at: http://127.0.0.1:8282/#/experiments/588080332252433563/runs/7cfa9cc1c73948f2897b8597a227604f\n",
      "🧪 View experiment at: http://127.0.0.1:8282/#/experiments/588080332252433563\n"
     ]
    },
    {
     "name": "stderr",
     "output_type": "stream",
     "text": [
      "[I 2025-07-21 14:32:04,710] Trial 127 finished with value: 0.07499999999999996 and parameters: {'booster': 'gbtree', 'learning_rate': 0.03853577785027418, 'max_depth': 8, 'subsample': 0.5513452948842064, 'colsample_bytree': 0.895412208097366, 'reg_lambda': 0.4630058377741596, 'reg_alpha': 0.004802828782765973}. Best is trial 79 with value: 0.03797468354430378.\n"
     ]
    },
    {
     "name": "stdout",
     "output_type": "stream",
     "text": [
      "🏃 View run dapper-stag-194 at: http://127.0.0.1:8282/#/experiments/588080332252433563/runs/231e4c85f8d94fe0a92cb42322d1f4b4\n",
      "🧪 View experiment at: http://127.0.0.1:8282/#/experiments/588080332252433563\n"
     ]
    },
    {
     "name": "stderr",
     "output_type": "stream",
     "text": [
      "[I 2025-07-21 14:32:05,259] Trial 128 finished with value: 0.06172839506172845 and parameters: {'booster': 'gbtree', 'learning_rate': 0.057912321962985236, 'max_depth': 9, 'subsample': 0.5227011598541936, 'colsample_bytree': 0.6853253896912321, 'reg_lambda': 0.00022259351400194535, 'reg_alpha': 2.51555094285526e-06}. Best is trial 79 with value: 0.03797468354430378.\n"
     ]
    },
    {
     "name": "stdout",
     "output_type": "stream",
     "text": [
      "🏃 View run intrigued-gnat-660 at: http://127.0.0.1:8282/#/experiments/588080332252433563/runs/765e6b00720445b8a7ead6bfa0615b13\n",
      "🧪 View experiment at: http://127.0.0.1:8282/#/experiments/588080332252433563\n"
     ]
    },
    {
     "name": "stderr",
     "output_type": "stream",
     "text": [
      "[I 2025-07-21 14:32:05,753] Trial 129 finished with value: 0.05128205128205132 and parameters: {'booster': 'gbtree', 'learning_rate': 0.071969614953412, 'max_depth': 7, 'subsample': 0.5001600689142874, 'colsample_bytree': 0.9149139853440963, 'reg_lambda': 0.1985266695805968, 'reg_alpha': 1.6787009139798405e-05}. Best is trial 79 with value: 0.03797468354430378.\n"
     ]
    },
    {
     "name": "stdout",
     "output_type": "stream",
     "text": [
      "🏃 View run merciful-penguin-548 at: http://127.0.0.1:8282/#/experiments/588080332252433563/runs/b8ba1cd85dd84121b79268236dd1d530\n",
      "🧪 View experiment at: http://127.0.0.1:8282/#/experiments/588080332252433563\n"
     ]
    },
    {
     "name": "stderr",
     "output_type": "stream",
     "text": [
      "[I 2025-07-21 14:32:06,357] Trial 130 finished with value: 0.050000000000000044 and parameters: {'booster': 'gbtree', 'learning_rate': 0.01762394570242791, 'max_depth': 8, 'subsample': 0.5789780452983725, 'colsample_bytree': 0.9327783978816514, 'reg_lambda': 0.10917440484007752, 'reg_alpha': 4.350410817259438e-06}. Best is trial 79 with value: 0.03797468354430378.\n"
     ]
    },
    {
     "name": "stdout",
     "output_type": "stream",
     "text": [
      "🏃 View run vaunted-wren-39 at: http://127.0.0.1:8282/#/experiments/588080332252433563/runs/5d19bcd0f2b84907847e68846ce5f68d\n",
      "🧪 View experiment at: http://127.0.0.1:8282/#/experiments/588080332252433563\n"
     ]
    },
    {
     "name": "stderr",
     "output_type": "stream",
     "text": [
      "[I 2025-07-21 14:32:06,925] Trial 131 finished with value: 0.050000000000000044 and parameters: {'booster': 'gbtree', 'learning_rate': 0.025662314630879035, 'max_depth': 7, 'subsample': 0.5275014229865853, 'colsample_bytree': 0.887805931822075, 'reg_lambda': 0.13098590769450763, 'reg_alpha': 3.248325756433762e-07}. Best is trial 79 with value: 0.03797468354430378.\n"
     ]
    },
    {
     "name": "stdout",
     "output_type": "stream",
     "text": [
      "🏃 View run monumental-sloth-925 at: http://127.0.0.1:8282/#/experiments/588080332252433563/runs/6c0e34ce51984cc0af95f2db5e9dcade\n",
      "🧪 View experiment at: http://127.0.0.1:8282/#/experiments/588080332252433563\n"
     ]
    },
    {
     "name": "stderr",
     "output_type": "stream",
     "text": [
      "[I 2025-07-21 14:32:07,479] Trial 132 finished with value: 0.07499999999999996 and parameters: {'booster': 'gbtree', 'learning_rate': 0.02196417968984291, 'max_depth': 7, 'subsample': 0.5397029780336075, 'colsample_bytree': 0.8619685455449784, 'reg_lambda': 0.06544155720000612, 'reg_alpha': 4.5464506512093963e-07}. Best is trial 79 with value: 0.03797468354430378.\n"
     ]
    },
    {
     "name": "stdout",
     "output_type": "stream",
     "text": [
      "🏃 View run unleashed-squid-815 at: http://127.0.0.1:8282/#/experiments/588080332252433563/runs/41529408a35144769a89a0ec014905ba\n",
      "🧪 View experiment at: http://127.0.0.1:8282/#/experiments/588080332252433563\n"
     ]
    },
    {
     "name": "stderr",
     "output_type": "stream",
     "text": [
      "[I 2025-07-21 14:32:08,041] Trial 133 finished with value: 0.06329113924050633 and parameters: {'booster': 'gbtree', 'learning_rate': 0.04384085589676077, 'max_depth': 7, 'subsample': 0.521236126683811, 'colsample_bytree': 0.8953834646588258, 'reg_lambda': 0.25485803095489956, 'reg_alpha': 6.956341638685479e-07}. Best is trial 79 with value: 0.03797468354430378.\n"
     ]
    },
    {
     "name": "stdout",
     "output_type": "stream",
     "text": [
      "🏃 View run mercurial-chimp-676 at: http://127.0.0.1:8282/#/experiments/588080332252433563/runs/e69820b9c6334941a894e4d3e3b0fcc6\n",
      "🧪 View experiment at: http://127.0.0.1:8282/#/experiments/588080332252433563\n"
     ]
    },
    {
     "name": "stderr",
     "output_type": "stream",
     "text": [
      "[I 2025-07-21 14:32:08,555] Trial 134 finished with value: 0.05128205128205132 and parameters: {'booster': 'gbtree', 'learning_rate': 0.035254778108817886, 'max_depth': 7, 'subsample': 0.558600209371156, 'colsample_bytree': 0.877555514933227, 'reg_lambda': 0.1371592513796226, 'reg_alpha': 1.9969085400878657e-07}. Best is trial 79 with value: 0.03797468354430378.\n"
     ]
    },
    {
     "name": "stdout",
     "output_type": "stream",
     "text": [
      "🏃 View run secretive-bird-523 at: http://127.0.0.1:8282/#/experiments/588080332252433563/runs/d8e587982e2349e4abd53e8198e7f907\n",
      "🧪 View experiment at: http://127.0.0.1:8282/#/experiments/588080332252433563\n"
     ]
    },
    {
     "name": "stderr",
     "output_type": "stream",
     "text": [
      "[I 2025-07-21 14:32:09,043] Trial 135 finished with value: 0.07317073170731703 and parameters: {'booster': 'gbtree', 'learning_rate': 0.047630973179864866, 'max_depth': 6, 'subsample': 0.5333331111580256, 'colsample_bytree': 0.9043016472519609, 'reg_lambda': 0.04145673655169115, 'reg_alpha': 7.247702772244889e-06}. Best is trial 79 with value: 0.03797468354430378.\n"
     ]
    },
    {
     "name": "stdout",
     "output_type": "stream",
     "text": [
      "🏃 View run bald-frog-314 at: http://127.0.0.1:8282/#/experiments/588080332252433563/runs/d8813c3148d647aeb4ef9d104fcbf570\n",
      "🧪 View experiment at: http://127.0.0.1:8282/#/experiments/588080332252433563\n"
     ]
    },
    {
     "name": "stderr",
     "output_type": "stream",
     "text": [
      "[I 2025-07-21 14:32:09,561] Trial 136 finished with value: 0.050000000000000044 and parameters: {'booster': 'gbtree', 'learning_rate': 0.029426442198709463, 'max_depth': 8, 'subsample': 0.5227204909815695, 'colsample_bytree': 0.9223196374756901, 'reg_lambda': 0.09239940587094367, 'reg_alpha': 1.2878052665631445e-07}. Best is trial 79 with value: 0.03797468354430378.\n"
     ]
    },
    {
     "name": "stdout",
     "output_type": "stream",
     "text": [
      "🏃 View run bald-hare-562 at: http://127.0.0.1:8282/#/experiments/588080332252433563/runs/f63789ce9d2f4671b29b92d1207b5ad6\n",
      "🧪 View experiment at: http://127.0.0.1:8282/#/experiments/588080332252433563\n"
     ]
    },
    {
     "name": "stderr",
     "output_type": "stream",
     "text": [
      "[I 2025-07-21 14:32:10,035] Trial 137 finished with value: 0.07317073170731703 and parameters: {'booster': 'gblinear', 'learning_rate': 0.09975856420953269, 'max_depth': 7, 'subsample': 0.509947036429405, 'colsample_bytree': 0.8839415001336103, 'reg_lambda': 0.366271354929905, 'reg_alpha': 1.8155257244008378e-06}. Best is trial 79 with value: 0.03797468354430378.\n"
     ]
    },
    {
     "name": "stdout",
     "output_type": "stream",
     "text": [
      "🏃 View run upset-skunk-26 at: http://127.0.0.1:8282/#/experiments/588080332252433563/runs/588fc963f17c4fa0a79122984e392035\n",
      "🧪 View experiment at: http://127.0.0.1:8282/#/experiments/588080332252433563\n"
     ]
    },
    {
     "name": "stderr",
     "output_type": "stream",
     "text": [
      "[I 2025-07-21 14:32:10,781] Trial 138 finished with value: 0.06329113924050633 and parameters: {'booster': 'dart', 'learning_rate': 0.06282206573715128, 'max_depth': 8, 'subsample': 0.6713603647334846, 'colsample_bytree': 0.9504572167969472, 'reg_lambda': 0.16429659272025432, 'reg_alpha': 3.8378164462887796e-07}. Best is trial 79 with value: 0.03797468354430378.\n"
     ]
    },
    {
     "name": "stdout",
     "output_type": "stream",
     "text": [
      "🏃 View run orderly-dove-167 at: http://127.0.0.1:8282/#/experiments/588080332252433563/runs/9f5d067ae0f045498d7945a991a91445\n",
      "🧪 View experiment at: http://127.0.0.1:8282/#/experiments/588080332252433563\n"
     ]
    },
    {
     "name": "stderr",
     "output_type": "stream",
     "text": [
      "[I 2025-07-21 14:32:11,471] Trial 139 finished with value: 0.06329113924050633 and parameters: {'booster': 'gbtree', 'learning_rate': 0.015659983146513123, 'max_depth': 8, 'subsample': 0.5470799981712414, 'colsample_bytree': 0.908966927826175, 'reg_lambda': 0.06870105708826506, 'reg_alpha': 2.4129320027393535e-07}. Best is trial 79 with value: 0.03797468354430378.\n"
     ]
    },
    {
     "name": "stdout",
     "output_type": "stream",
     "text": [
      "🏃 View run bedecked-worm-422 at: http://127.0.0.1:8282/#/experiments/588080332252433563/runs/93889dcc25ba45f8b80cc90e7bb0cdf3\n",
      "🧪 View experiment at: http://127.0.0.1:8282/#/experiments/588080332252433563\n"
     ]
    },
    {
     "name": "stderr",
     "output_type": "stream",
     "text": [
      "[I 2025-07-21 14:32:11,992] Trial 140 finished with value: 0.06329113924050633 and parameters: {'booster': 'gbtree', 'learning_rate': 0.04014776667923577, 'max_depth': 7, 'subsample': 0.5323618125835138, 'colsample_bytree': 0.8377175044618921, 'reg_lambda': 0.9351931229872552, 'reg_alpha': 1.0912560780026035e-06}. Best is trial 79 with value: 0.03797468354430378.\n"
     ]
    },
    {
     "name": "stdout",
     "output_type": "stream",
     "text": [
      "🏃 View run orderly-mouse-833 at: http://127.0.0.1:8282/#/experiments/588080332252433563/runs/6ca63c148b5844cb810253203c248c2f\n",
      "🧪 View experiment at: http://127.0.0.1:8282/#/experiments/588080332252433563\n"
     ]
    },
    {
     "name": "stderr",
     "output_type": "stream",
     "text": [
      "[I 2025-07-21 14:32:12,517] Trial 141 finished with value: 0.050000000000000044 and parameters: {'booster': 'gbtree', 'learning_rate': 0.03189172937850421, 'max_depth': 7, 'subsample': 0.5208571321352717, 'colsample_bytree': 0.8637940718511472, 'reg_lambda': 0.2336843340440697, 'reg_alpha': 0.014833933602241457}. Best is trial 79 with value: 0.03797468354430378.\n"
     ]
    },
    {
     "name": "stdout",
     "output_type": "stream",
     "text": [
      "🏃 View run intrigued-wolf-3 at: http://127.0.0.1:8282/#/experiments/588080332252433563/runs/2783d5becbdc4fb88581ab214660a004\n",
      "🧪 View experiment at: http://127.0.0.1:8282/#/experiments/588080332252433563\n"
     ]
    },
    {
     "name": "stderr",
     "output_type": "stream",
     "text": [
      "[I 2025-07-21 14:32:13,072] Trial 142 finished with value: 0.06329113924050633 and parameters: {'booster': 'gbtree', 'learning_rate': 0.03479710141682259, 'max_depth': 7, 'subsample': 0.7183807816147603, 'colsample_bytree': 0.8669075200060442, 'reg_lambda': 0.5994738168939765, 'reg_alpha': 7.5162894086818675e-06}. Best is trial 79 with value: 0.03797468354430378.\n"
     ]
    },
    {
     "name": "stdout",
     "output_type": "stream",
     "text": [
      "🏃 View run charming-quail-979 at: http://127.0.0.1:8282/#/experiments/588080332252433563/runs/35bbcdf8866041bf881823eb513dccdc\n",
      "🧪 View experiment at: http://127.0.0.1:8282/#/experiments/588080332252433563\n"
     ]
    },
    {
     "name": "stderr",
     "output_type": "stream",
     "text": [
      "[I 2025-07-21 14:32:13,580] Trial 143 finished with value: 0.03797468354430378 and parameters: {'booster': 'gbtree', 'learning_rate': 0.050675713893611696, 'max_depth': 7, 'subsample': 0.5089484646713495, 'colsample_bytree': 0.851949607781689, 'reg_lambda': 0.2608914234985715, 'reg_alpha': 4.9079224783943096e-06}. Best is trial 79 with value: 0.03797468354430378.\n"
     ]
    },
    {
     "name": "stdout",
     "output_type": "stream",
     "text": [
      "🏃 View run powerful-hare-150 at: http://127.0.0.1:8282/#/experiments/588080332252433563/runs/3037683cbbb04e93b0d5ad6a4d31974b\n",
      "🧪 View experiment at: http://127.0.0.1:8282/#/experiments/588080332252433563\n"
     ]
    },
    {
     "name": "stderr",
     "output_type": "stream",
     "text": [
      "[I 2025-07-21 14:32:14,107] Trial 144 finished with value: 0.05128205128205132 and parameters: {'booster': 'gbtree', 'learning_rate': 0.05527219756124107, 'max_depth': 6, 'subsample': 0.5004956751465234, 'colsample_bytree': 0.8447192989818929, 'reg_lambda': 0.35223691370806215, 'reg_alpha': 4.981140000428776e-06}. Best is trial 79 with value: 0.03797468354430378.\n"
     ]
    },
    {
     "name": "stdout",
     "output_type": "stream",
     "text": [
      "🏃 View run tasteful-mink-130 at: http://127.0.0.1:8282/#/experiments/588080332252433563/runs/571762642c3140da825c1b51c48db339\n",
      "🧪 View experiment at: http://127.0.0.1:8282/#/experiments/588080332252433563\n"
     ]
    },
    {
     "name": "stderr",
     "output_type": "stream",
     "text": [
      "[I 2025-07-21 14:32:14,659] Trial 145 finished with value: 0.050000000000000044 and parameters: {'booster': 'gbtree', 'learning_rate': 0.02248405853419963, 'max_depth': 7, 'subsample': 0.5129504294854003, 'colsample_bytree': 0.8940875093895438, 'reg_lambda': 0.1233865829549587, 'reg_alpha': 1.2835260127780498e-05}. Best is trial 79 with value: 0.03797468354430378.\n"
     ]
    },
    {
     "name": "stdout",
     "output_type": "stream",
     "text": [
      "🏃 View run kindly-toad-391 at: http://127.0.0.1:8282/#/experiments/588080332252433563/runs/e1d140e6ada94bafa3bb68418740dc53\n",
      "🧪 View experiment at: http://127.0.0.1:8282/#/experiments/588080332252433563\n"
     ]
    },
    {
     "name": "stderr",
     "output_type": "stream",
     "text": [
      "[I 2025-07-21 14:32:15,197] Trial 146 finished with value: 0.05128205128205132 and parameters: {'booster': 'gbtree', 'learning_rate': 0.04855705225207639, 'max_depth': 8, 'subsample': 0.541144531403668, 'colsample_bytree': 0.8510119633546285, 'reg_lambda': 0.17917870216810786, 'reg_alpha': 3.1250744255662837e-06}. Best is trial 79 with value: 0.03797468354430378.\n"
     ]
    },
    {
     "name": "stdout",
     "output_type": "stream",
     "text": [
      "🏃 View run gaudy-loon-52 at: http://127.0.0.1:8282/#/experiments/588080332252433563/runs/490a722f1d3540dca34a252f69361b90\n",
      "🧪 View experiment at: http://127.0.0.1:8282/#/experiments/588080332252433563\n"
     ]
    },
    {
     "name": "stderr",
     "output_type": "stream",
     "text": [
      "[I 2025-07-21 14:32:15,688] Trial 147 finished with value: 0.06329113924050633 and parameters: {'booster': 'gbtree', 'learning_rate': 0.0514001152532871, 'max_depth': 7, 'subsample': 0.5122160437185989, 'colsample_bytree': 0.958895700773387, 'reg_lambda': 0.09892345220706762, 'reg_alpha': 2.1680482956222666e-06}. Best is trial 79 with value: 0.03797468354430378.\n"
     ]
    },
    {
     "name": "stdout",
     "output_type": "stream",
     "text": [
      "🏃 View run crawling-grub-451 at: http://127.0.0.1:8282/#/experiments/588080332252433563/runs/63e754af95c84d08a9db360bba293ff4\n",
      "🧪 View experiment at: http://127.0.0.1:8282/#/experiments/588080332252433563\n"
     ]
    },
    {
     "name": "stderr",
     "output_type": "stream",
     "text": [
      "[I 2025-07-21 14:32:16,183] Trial 148 finished with value: 0.06329113924050633 and parameters: {'booster': 'gbtree', 'learning_rate': 0.09083658512193644, 'max_depth': 8, 'subsample': 0.5562438552459186, 'colsample_bytree': 0.9834597911544554, 'reg_lambda': 0.4473025176621201, 'reg_alpha': 7.50393437341357e-07}. Best is trial 79 with value: 0.03797468354430378.\n"
     ]
    },
    {
     "name": "stdout",
     "output_type": "stream",
     "text": [
      "🏃 View run stately-rook-18 at: http://127.0.0.1:8282/#/experiments/588080332252433563/runs/0415037cec57448ea06363a55acccf6b\n",
      "🧪 View experiment at: http://127.0.0.1:8282/#/experiments/588080332252433563\n"
     ]
    },
    {
     "name": "stderr",
     "output_type": "stream",
     "text": [
      "[I 2025-07-21 14:32:16,725] Trial 149 finished with value: 0.050000000000000044 and parameters: {'booster': 'gbtree', 'learning_rate': 0.06064836324371324, 'max_depth': 8, 'subsample': 0.5280038238844041, 'colsample_bytree': 0.8835974244072407, 'reg_lambda': 0.3025812507100373, 'reg_alpha': 0.0003513047653888584}. Best is trial 79 with value: 0.03797468354430378.\n"
     ]
    },
    {
     "name": "stdout",
     "output_type": "stream",
     "text": [
      "🏃 View run clumsy-roo-200 at: http://127.0.0.1:8282/#/experiments/588080332252433563/runs/e0fbb3a1885d48f1a778acbc007ee3ce\n",
      "🧪 View experiment at: http://127.0.0.1:8282/#/experiments/588080332252433563\n"
     ]
    },
    {
     "name": "stderr",
     "output_type": "stream",
     "text": [
      "[I 2025-07-21 14:32:17,734] Trial 150 finished with value: 0.06329113924050633 and parameters: {'booster': 'dart', 'learning_rate': 0.06978752667958837, 'max_depth': 7, 'subsample': 0.5671774961707314, 'colsample_bytree': 0.9699427795226654, 'reg_lambda': 0.03725762090162871, 'reg_alpha': 1.7006109001115983e-06}. Best is trial 79 with value: 0.03797468354430378.\n"
     ]
    },
    {
     "name": "stdout",
     "output_type": "stream",
     "text": [
      "🏃 View run blushing-sloth-379 at: http://127.0.0.1:8282/#/experiments/588080332252433563/runs/6ee714f8514a47de9cb44db7e619b121\n",
      "🧪 View experiment at: http://127.0.0.1:8282/#/experiments/588080332252433563\n"
     ]
    },
    {
     "name": "stderr",
     "output_type": "stream",
     "text": [
      "[I 2025-07-21 14:32:18,268] Trial 151 finished with value: 0.050000000000000044 and parameters: {'booster': 'gbtree', 'learning_rate': 0.03988438189544349, 'max_depth': 7, 'subsample': 0.5226604817949299, 'colsample_bytree': 0.8606314520503568, 'reg_lambda': 0.2400461932937587, 'reg_alpha': 7.040060791264831e-06}. Best is trial 79 with value: 0.03797468354430378.\n"
     ]
    },
    {
     "name": "stdout",
     "output_type": "stream",
     "text": [
      "🏃 View run merciful-roo-546 at: http://127.0.0.1:8282/#/experiments/588080332252433563/runs/a4b2bcea55a640e9a92d1d9360557601\n",
      "🧪 View experiment at: http://127.0.0.1:8282/#/experiments/588080332252433563\n"
     ]
    },
    {
     "name": "stderr",
     "output_type": "stream",
     "text": [
      "[I 2025-07-21 14:32:18,944] Trial 152 finished with value: 0.06329113924050633 and parameters: {'booster': 'gbtree', 'learning_rate': 0.03719944576725378, 'max_depth': 7, 'subsample': 0.5001158792918153, 'colsample_bytree': 0.9384396577199232, 'reg_lambda': 0.19237829645277543, 'reg_alpha': 3.2615879081727032e-06}. Best is trial 79 with value: 0.03797468354430378.\n"
     ]
    },
    {
     "name": "stdout",
     "output_type": "stream",
     "text": [
      "🏃 View run glamorous-pug-492 at: http://127.0.0.1:8282/#/experiments/588080332252433563/runs/441e0c2d514b4c439feef78145c72840\n",
      "🧪 View experiment at: http://127.0.0.1:8282/#/experiments/588080332252433563\n"
     ]
    },
    {
     "name": "stderr",
     "output_type": "stream",
     "text": [
      "[I 2025-07-21 14:32:19,628] Trial 153 finished with value: 0.06329113924050633 and parameters: {'booster': 'gbtree', 'learning_rate': 0.04373642884381984, 'max_depth': 7, 'subsample': 0.8305312999491066, 'colsample_bytree': 0.8738689205953918, 'reg_lambda': 0.06410488251756302, 'reg_alpha': 2.0555991394193385e-05}. Best is trial 79 with value: 0.03797468354430378.\n"
     ]
    },
    {
     "name": "stdout",
     "output_type": "stream",
     "text": [
      "🏃 View run ambitious-rat-70 at: http://127.0.0.1:8282/#/experiments/588080332252433563/runs/7f7d73b8ff3a4aaeb7d98d34ff0e99da\n",
      "🧪 View experiment at: http://127.0.0.1:8282/#/experiments/588080332252433563\n"
     ]
    },
    {
     "name": "stderr",
     "output_type": "stream",
     "text": [
      "[I 2025-07-21 14:32:20,252] Trial 154 finished with value: 0.06329113924050633 and parameters: {'booster': 'gbtree', 'learning_rate': 0.030085581456444993, 'max_depth': 7, 'subsample': 0.5337881174147143, 'colsample_bytree': 0.8359476988111053, 'reg_lambda': 0.00013065230043823978, 'reg_alpha': 0.0014262021465306293}. Best is trial 79 with value: 0.03797468354430378.\n"
     ]
    },
    {
     "name": "stdout",
     "output_type": "stream",
     "text": [
      "🏃 View run unique-stoat-182 at: http://127.0.0.1:8282/#/experiments/588080332252433563/runs/1a7cc1de0bd24aada2d3b15105da6eeb\n",
      "🧪 View experiment at: http://127.0.0.1:8282/#/experiments/588080332252433563\n"
     ]
    },
    {
     "name": "stderr",
     "output_type": "stream",
     "text": [
      "[I 2025-07-21 14:32:21,003] Trial 155 finished with value: 0.06329113924050633 and parameters: {'booster': 'gbtree', 'learning_rate': 0.02126055401333235, 'max_depth': 6, 'subsample': 0.5449391454867082, 'colsample_bytree': 0.8676302395916258, 'reg_lambda': 0.26946945124963134, 'reg_alpha': 5.049185422430486e-06}. Best is trial 79 with value: 0.03797468354430378.\n"
     ]
    },
    {
     "name": "stdout",
     "output_type": "stream",
     "text": [
      "🏃 View run lyrical-kite-586 at: http://127.0.0.1:8282/#/experiments/588080332252433563/runs/91471dd983924c3ab04e18d0a8b30743\n",
      "🧪 View experiment at: http://127.0.0.1:8282/#/experiments/588080332252433563\n"
     ]
    },
    {
     "name": "stderr",
     "output_type": "stream",
     "text": [
      "[I 2025-07-21 14:32:21,563] Trial 156 finished with value: 0.05128205128205132 and parameters: {'booster': 'gbtree', 'learning_rate': 0.03623232858351476, 'max_depth': 8, 'subsample': 0.51131629742989, 'colsample_bytree': 0.8548803840436915, 'reg_lambda': 5.0281455410556016e-05, 'reg_alpha': 8.862328502844028e-06}. Best is trial 79 with value: 0.03797468354430378.\n"
     ]
    },
    {
     "name": "stdout",
     "output_type": "stream",
     "text": [
      "🏃 View run rumbling-wasp-484 at: http://127.0.0.1:8282/#/experiments/588080332252433563/runs/572e349b66b24891b658dfecd9cf7d1c\n",
      "🧪 View experiment at: http://127.0.0.1:8282/#/experiments/588080332252433563\n"
     ]
    },
    {
     "name": "stderr",
     "output_type": "stream",
     "text": [
      "[I 2025-07-21 14:32:22,226] Trial 157 finished with value: 0.050000000000000044 and parameters: {'booster': 'gbtree', 'learning_rate': 0.05177424540327656, 'max_depth': 7, 'subsample': 0.5202190799047418, 'colsample_bytree': 0.9157486409170283, 'reg_lambda': 0.13577509792242184, 'reg_alpha': 5.664642941898092e-06}. Best is trial 79 with value: 0.03797468354430378.\n"
     ]
    },
    {
     "name": "stdout",
     "output_type": "stream",
     "text": [
      "🏃 View run enthused-asp-944 at: http://127.0.0.1:8282/#/experiments/588080332252433563/runs/2ab1139455ba400191d72edce270bfb4\n",
      "🧪 View experiment at: http://127.0.0.1:8282/#/experiments/588080332252433563\n"
     ]
    },
    {
     "name": "stderr",
     "output_type": "stream",
     "text": [
      "[I 2025-07-21 14:32:22,786] Trial 158 finished with value: 0.06329113924050633 and parameters: {'booster': 'gbtree', 'learning_rate': 0.04448259585723004, 'max_depth': 9, 'subsample': 0.5293215805777927, 'colsample_bytree': 0.9004096521254641, 'reg_lambda': 0.5773256247038382, 'reg_alpha': 5.446956020997356e-07}. Best is trial 79 with value: 0.03797468354430378.\n"
     ]
    },
    {
     "name": "stdout",
     "output_type": "stream",
     "text": [
      "🏃 View run welcoming-snail-287 at: http://127.0.0.1:8282/#/experiments/588080332252433563/runs/df294e10800848949fd1e14e4861ab22\n",
      "🧪 View experiment at: http://127.0.0.1:8282/#/experiments/588080332252433563\n"
     ]
    },
    {
     "name": "stderr",
     "output_type": "stream",
     "text": [
      "[I 2025-07-21 14:32:23,403] Trial 159 finished with value: 0.06329113924050633 and parameters: {'booster': 'gbtree', 'learning_rate': 0.029352714634864524, 'max_depth': 7, 'subsample': 0.5519408447215425, 'colsample_bytree': 0.8219916623319594, 'reg_lambda': 0.08147736602188119, 'reg_alpha': 1.1009128595195392e-06}. Best is trial 79 with value: 0.03797468354430378.\n"
     ]
    },
    {
     "name": "stdout",
     "output_type": "stream",
     "text": [
      "🏃 View run masked-trout-701 at: http://127.0.0.1:8282/#/experiments/588080332252433563/runs/dab7a2bdc48c42c1ae5faa96e3a49ddd\n",
      "🧪 View experiment at: http://127.0.0.1:8282/#/experiments/588080332252433563\n"
     ]
    },
    {
     "name": "stderr",
     "output_type": "stream",
     "text": [
      "[I 2025-07-21 14:32:23,878] Trial 160 finished with value: 0.07317073170731703 and parameters: {'booster': 'gblinear', 'learning_rate': 0.08042495331027569, 'max_depth': 8, 'subsample': 0.7582403788933867, 'colsample_bytree': 0.9290233289981643, 'reg_lambda': 0.2257524815368106, 'reg_alpha': 2.7785652658373226e-06}. Best is trial 79 with value: 0.03797468354430378.\n"
     ]
    },
    {
     "name": "stdout",
     "output_type": "stream",
     "text": [
      "🏃 View run sneaky-squirrel-55 at: http://127.0.0.1:8282/#/experiments/588080332252433563/runs/3b5b7797bb774d98b5987596c70b4b5b\n",
      "🧪 View experiment at: http://127.0.0.1:8282/#/experiments/588080332252433563\n"
     ]
    },
    {
     "name": "stderr",
     "output_type": "stream",
     "text": [
      "[I 2025-07-21 14:32:24,525] Trial 161 finished with value: 0.050000000000000044 and parameters: {'booster': 'gbtree', 'learning_rate': 0.01342311989304346, 'max_depth': 8, 'subsample': 0.5756563863953961, 'colsample_bytree': 0.935273914000014, 'reg_lambda': 0.11436983091316627, 'reg_alpha': 3.678019899315207e-06}. Best is trial 79 with value: 0.03797468354430378.\n"
     ]
    },
    {
     "name": "stdout",
     "output_type": "stream",
     "text": [
      "🏃 View run adaptable-bee-560 at: http://127.0.0.1:8282/#/experiments/588080332252433563/runs/246828924deb4f169edd430545911d4d\n",
      "🧪 View experiment at: http://127.0.0.1:8282/#/experiments/588080332252433563\n"
     ]
    },
    {
     "name": "stderr",
     "output_type": "stream",
     "text": [
      "[I 2025-07-21 14:32:25,179] Trial 162 finished with value: 0.06329113924050633 and parameters: {'booster': 'gbtree', 'learning_rate': 0.022612308454751838, 'max_depth': 8, 'subsample': 0.609586950318446, 'colsample_bytree': 0.9454904945396367, 'reg_lambda': 0.11526292020062026, 'reg_alpha': 5.584205889657178e-06}. Best is trial 79 with value: 0.03797468354430378.\n"
     ]
    },
    {
     "name": "stdout",
     "output_type": "stream",
     "text": [
      "🏃 View run serious-carp-368 at: http://127.0.0.1:8282/#/experiments/588080332252433563/runs/93aeec7cd685419eb55cb860800427be\n",
      "🧪 View experiment at: http://127.0.0.1:8282/#/experiments/588080332252433563\n"
     ]
    },
    {
     "name": "stderr",
     "output_type": "stream",
     "text": [
      "[I 2025-07-21 14:32:25,806] Trial 163 finished with value: 0.06329113924050633 and parameters: {'booster': 'gbtree', 'learning_rate': 0.017290488343499655, 'max_depth': 8, 'subsample': 0.583317916538709, 'colsample_bytree': 0.8906459576298706, 'reg_lambda': 0.05754997957649609, 'reg_alpha': 3.936160270691619e-06}. Best is trial 79 with value: 0.03797468354430378.\n"
     ]
    },
    {
     "name": "stdout",
     "output_type": "stream",
     "text": [
      "🏃 View run youthful-colt-834 at: http://127.0.0.1:8282/#/experiments/588080332252433563/runs/366d3734d57b434d984e66f12e12bffe\n",
      "🧪 View experiment at: http://127.0.0.1:8282/#/experiments/588080332252433563\n"
     ]
    },
    {
     "name": "stderr",
     "output_type": "stream",
     "text": [
      "[I 2025-07-21 14:32:26,361] Trial 164 finished with value: 0.050000000000000044 and parameters: {'booster': 'gbtree', 'learning_rate': 0.02640576352719862, 'max_depth': 8, 'subsample': 0.5383098819864103, 'colsample_bytree': 0.929120643844652, 'reg_lambda': 0.17510907649079882, 'reg_alpha': 1.0394298032444045e-05}. Best is trial 79 with value: 0.03797468354430378.\n"
     ]
    },
    {
     "name": "stdout",
     "output_type": "stream",
     "text": [
      "🏃 View run youthful-foal-750 at: http://127.0.0.1:8282/#/experiments/588080332252433563/runs/bd2c5e2bb218498abe3b0ba29bc2f55a\n",
      "🧪 View experiment at: http://127.0.0.1:8282/#/experiments/588080332252433563\n"
     ]
    },
    {
     "name": "stderr",
     "output_type": "stream",
     "text": [
      "[I 2025-07-21 14:32:26,841] Trial 165 finished with value: 0.06329113924050633 and parameters: {'booster': 'gbtree', 'learning_rate': 0.04021125572367124, 'max_depth': 8, 'subsample': 0.5096222104236163, 'colsample_bytree': 0.8739422248191165, 'reg_lambda': 0.41380936123379297, 'reg_alpha': 1.4501336719530295e-05}. Best is trial 79 with value: 0.03797468354430378.\n"
     ]
    },
    {
     "name": "stdout",
     "output_type": "stream",
     "text": [
      "🏃 View run honorable-snail-449 at: http://127.0.0.1:8282/#/experiments/588080332252433563/runs/680d83c582534c188681d311a42bda03\n",
      "🧪 View experiment at: http://127.0.0.1:8282/#/experiments/588080332252433563\n"
     ]
    },
    {
     "name": "stderr",
     "output_type": "stream",
     "text": [
      "[I 2025-07-21 14:32:27,301] Trial 166 finished with value: 0.06329113924050633 and parameters: {'booster': 'gbtree', 'learning_rate': 0.05819305021161711, 'max_depth': 7, 'subsample': 0.5645696959197706, 'colsample_bytree': 0.7952629105497511, 'reg_lambda': 0.10300085338383146, 'reg_alpha': 1.5075145045987598e-06}. Best is trial 79 with value: 0.03797468354430378.\n"
     ]
    },
    {
     "name": "stdout",
     "output_type": "stream",
     "text": [
      "🏃 View run defiant-stag-344 at: http://127.0.0.1:8282/#/experiments/588080332252433563/runs/ca78f4a9197c4d7f98d64e61141258b9\n",
      "🧪 View experiment at: http://127.0.0.1:8282/#/experiments/588080332252433563\n"
     ]
    },
    {
     "name": "stderr",
     "output_type": "stream",
     "text": [
      "[I 2025-07-21 14:32:27,783] Trial 167 finished with value: 0.050000000000000044 and parameters: {'booster': 'gbtree', 'learning_rate': 0.03379693811639319, 'max_depth': 8, 'subsample': 0.5218021065591884, 'colsample_bytree': 0.904014524758902, 'reg_lambda': 0.30801880127639975, 'reg_alpha': 2.8173759801055446e-05}. Best is trial 79 with value: 0.03797468354430378.\n"
     ]
    },
    {
     "name": "stdout",
     "output_type": "stream",
     "text": [
      "🏃 View run polite-moose-877 at: http://127.0.0.1:8282/#/experiments/588080332252433563/runs/6ab7035ccfa043c29a577e75d8144014\n",
      "🧪 View experiment at: http://127.0.0.1:8282/#/experiments/588080332252433563\n"
     ]
    },
    {
     "name": "stderr",
     "output_type": "stream",
     "text": [
      "[I 2025-07-21 14:32:30,598] Trial 168 finished with value: 0.07499999999999996 and parameters: {'booster': 'dart', 'learning_rate': 0.018475404630843264, 'max_depth': 7, 'subsample': 0.5457170046458019, 'colsample_bytree': 0.9135137991361937, 'reg_lambda': 0.19578202521599944, 'reg_alpha': 2.848634626249952e-07}. Best is trial 79 with value: 0.03797468354430378.\n"
     ]
    },
    {
     "name": "stdout",
     "output_type": "stream",
     "text": [
      "🏃 View run casual-vole-92 at: http://127.0.0.1:8282/#/experiments/588080332252433563/runs/5f5272db4cb24e228eef553f5ae4e78c\n",
      "🧪 View experiment at: http://127.0.0.1:8282/#/experiments/588080332252433563\n"
     ]
    },
    {
     "name": "stderr",
     "output_type": "stream",
     "text": [
      "[I 2025-07-21 14:32:31,091] Trial 169 finished with value: 0.03797468354430378 and parameters: {'booster': 'gbtree', 'learning_rate': 0.04648426149909765, 'max_depth': 8, 'subsample': 0.5306846328712942, 'colsample_bytree': 0.9207022989158117, 'reg_lambda': 0.08693861582373644, 'reg_alpha': 0.06770360429963088}. Best is trial 79 with value: 0.03797468354430378.\n"
     ]
    },
    {
     "name": "stdout",
     "output_type": "stream",
     "text": [
      "🏃 View run serious-ant-581 at: http://127.0.0.1:8282/#/experiments/588080332252433563/runs/994b1520310a48898c21ccb91b965c09\n",
      "🧪 View experiment at: http://127.0.0.1:8282/#/experiments/588080332252433563\n"
     ]
    },
    {
     "name": "stderr",
     "output_type": "stream",
     "text": [
      "[I 2025-07-21 14:32:31,522] Trial 170 finished with value: 0.07499999999999996 and parameters: {'booster': 'gbtree', 'learning_rate': 0.2990561594022634, 'max_depth': 7, 'subsample': 0.5272579313157322, 'colsample_bytree': 0.8887807098275595, 'reg_lambda': 0.045988687240079096, 'reg_alpha': 0.3647649201100633}. Best is trial 79 with value: 0.03797468354430378.\n"
     ]
    },
    {
     "name": "stdout",
     "output_type": "stream",
     "text": [
      "🏃 View run dapper-foal-625 at: http://127.0.0.1:8282/#/experiments/588080332252433563/runs/275cb5d590e9454eba3b24b0f959d452\n",
      "🧪 View experiment at: http://127.0.0.1:8282/#/experiments/588080332252433563\n"
     ]
    },
    {
     "name": "stderr",
     "output_type": "stream",
     "text": [
      "[I 2025-07-21 14:32:32,001] Trial 171 finished with value: 0.03797468354430378 and parameters: {'booster': 'gbtree', 'learning_rate': 0.04758259307191133, 'max_depth': 8, 'subsample': 0.5367287728349813, 'colsample_bytree': 0.9179960198848578, 'reg_lambda': 0.09283566834878426, 'reg_alpha': 0.12437407145305453}. Best is trial 79 with value: 0.03797468354430378.\n"
     ]
    },
    {
     "name": "stdout",
     "output_type": "stream",
     "text": [
      "🏃 View run beautiful-fowl-678 at: http://127.0.0.1:8282/#/experiments/588080332252433563/runs/478bf375b17e47e2af4195e3524fbb45\n",
      "🧪 View experiment at: http://127.0.0.1:8282/#/experiments/588080332252433563\n"
     ]
    },
    {
     "name": "stderr",
     "output_type": "stream",
     "text": [
      "[I 2025-07-21 14:32:32,486] Trial 172 finished with value: 0.06172839506172845 and parameters: {'booster': 'gbtree', 'learning_rate': 0.04872531404205738, 'max_depth': 8, 'subsample': 0.5356373685929016, 'colsample_bytree': 0.9238870688860181, 'reg_lambda': 0.07666254638189832, 'reg_alpha': 0.06730306538551621}. Best is trial 79 with value: 0.03797468354430378.\n"
     ]
    },
    {
     "name": "stdout",
     "output_type": "stream",
     "text": [
      "🏃 View run illustrious-dog-64 at: http://127.0.0.1:8282/#/experiments/588080332252433563/runs/8ee9ad6a68b44bfb8df481196a36a71d\n",
      "🧪 View experiment at: http://127.0.0.1:8282/#/experiments/588080332252433563\n"
     ]
    },
    {
     "name": "stderr",
     "output_type": "stream",
     "text": [
      "[I 2025-07-21 14:32:33,034] Trial 173 finished with value: 0.03797468354430378 and parameters: {'booster': 'gbtree', 'learning_rate': 0.0546555405891419, 'max_depth': 8, 'subsample': 0.5084539510393883, 'colsample_bytree': 0.9086770270547755, 'reg_lambda': 0.14607239287988416, 'reg_alpha': 0.18809144369428063}. Best is trial 79 with value: 0.03797468354430378.\n"
     ]
    },
    {
     "name": "stdout",
     "output_type": "stream",
     "text": [
      "🏃 View run masked-squirrel-9 at: http://127.0.0.1:8282/#/experiments/588080332252433563/runs/3b481347131d40bd9b87fe647fd59d2c\n",
      "🧪 View experiment at: http://127.0.0.1:8282/#/experiments/588080332252433563\n"
     ]
    },
    {
     "name": "stderr",
     "output_type": "stream",
     "text": [
      "[I 2025-07-21 14:32:33,496] Trial 174 finished with value: 0.050000000000000044 and parameters: {'booster': 'gbtree', 'learning_rate': 0.06455651051317157, 'max_depth': 8, 'subsample': 0.5117753228346333, 'colsample_bytree': 0.9140987488070734, 'reg_lambda': 0.15381765635063846, 'reg_alpha': 0.22514179996936956}. Best is trial 79 with value: 0.03797468354430378.\n"
     ]
    },
    {
     "name": "stdout",
     "output_type": "stream",
     "text": [
      "🏃 View run auspicious-wolf-142 at: http://127.0.0.1:8282/#/experiments/588080332252433563/runs/b38102498cec4da09619610ef956b114\n",
      "🧪 View experiment at: http://127.0.0.1:8282/#/experiments/588080332252433563\n"
     ]
    },
    {
     "name": "stderr",
     "output_type": "stream",
     "text": [
      "[I 2025-07-21 14:32:33,994] Trial 175 finished with value: 0.050000000000000044 and parameters: {'booster': 'gbtree', 'learning_rate': 0.051809636585687685, 'max_depth': 8, 'subsample': 0.5072492944292392, 'colsample_bytree': 0.8982763717850655, 'reg_lambda': 0.08169866673159704, 'reg_alpha': 0.080062544234376}. Best is trial 79 with value: 0.03797468354430378.\n"
     ]
    },
    {
     "name": "stdout",
     "output_type": "stream",
     "text": [
      "🏃 View run valuable-chimp-118 at: http://127.0.0.1:8282/#/experiments/588080332252433563/runs/38d9a7f987fd46878059bc1c08c89625\n",
      "🧪 View experiment at: http://127.0.0.1:8282/#/experiments/588080332252433563\n"
     ]
    },
    {
     "name": "stderr",
     "output_type": "stream",
     "text": [
      "[I 2025-07-21 14:32:34,475] Trial 176 finished with value: 0.06329113924050633 and parameters: {'booster': 'gbtree', 'learning_rate': 0.05696337850127552, 'max_depth': 8, 'subsample': 0.5162833083682626, 'colsample_bytree': 0.9084426982375484, 'reg_lambda': 0.1466923352832101, 'reg_alpha': 0.042366053981007894}. Best is trial 79 with value: 0.03797468354430378.\n"
     ]
    },
    {
     "name": "stdout",
     "output_type": "stream",
     "text": [
      "🏃 View run abrasive-wasp-506 at: http://127.0.0.1:8282/#/experiments/588080332252433563/runs/0a9cbabe26ab4242aa99c1142f2823e7\n",
      "🧪 View experiment at: http://127.0.0.1:8282/#/experiments/588080332252433563\n"
     ]
    },
    {
     "name": "stderr",
     "output_type": "stream",
     "text": [
      "[I 2025-07-21 14:32:34,988] Trial 177 finished with value: 0.03797468354430378 and parameters: {'booster': 'gbtree', 'learning_rate': 0.04409111984149753, 'max_depth': 8, 'subsample': 0.5406769768087015, 'colsample_bytree': 0.9223652817424259, 'reg_lambda': 0.053373753535775614, 'reg_alpha': 0.09321670706197187}. Best is trial 79 with value: 0.03797468354430378.\n"
     ]
    },
    {
     "name": "stdout",
     "output_type": "stream",
     "text": [
      "🏃 View run sedate-duck-317 at: http://127.0.0.1:8282/#/experiments/588080332252433563/runs/6ac17482620646acb3e6c5b8135f9253\n",
      "🧪 View experiment at: http://127.0.0.1:8282/#/experiments/588080332252433563\n"
     ]
    },
    {
     "name": "stderr",
     "output_type": "stream",
     "text": [
      "[I 2025-07-21 14:32:35,458] Trial 178 finished with value: 0.05128205128205132 and parameters: {'booster': 'gbtree', 'learning_rate': 0.04417315941262573, 'max_depth': 8, 'subsample': 0.5545064193655497, 'colsample_bytree': 0.9430578171414552, 'reg_lambda': 0.05075048703757103, 'reg_alpha': 0.18123412431188413}. Best is trial 79 with value: 0.03797468354430378.\n"
     ]
    },
    {
     "name": "stdout",
     "output_type": "stream",
     "text": [
      "🏃 View run legendary-squid-887 at: http://127.0.0.1:8282/#/experiments/588080332252433563/runs/f45d939662394b1cad9abfdc48fd43d9\n",
      "🧪 View experiment at: http://127.0.0.1:8282/#/experiments/588080332252433563\n"
     ]
    },
    {
     "name": "stderr",
     "output_type": "stream",
     "text": [
      "[I 2025-07-21 14:32:35,936] Trial 179 finished with value: 0.06329113924050633 and parameters: {'booster': 'gbtree', 'learning_rate': 0.06897946240075128, 'max_depth': 8, 'subsample': 0.5000492627847593, 'colsample_bytree': 0.9203828858664872, 'reg_lambda': 0.027189853213372944, 'reg_alpha': 0.15232802188945696}. Best is trial 79 with value: 0.03797468354430378.\n"
     ]
    },
    {
     "name": "stdout",
     "output_type": "stream",
     "text": [
      "🏃 View run upbeat-mink-100 at: http://127.0.0.1:8282/#/experiments/588080332252433563/runs/55aaf77976004027b15384f2fac06c74\n",
      "🧪 View experiment at: http://127.0.0.1:8282/#/experiments/588080332252433563\n"
     ]
    },
    {
     "name": "stderr",
     "output_type": "stream",
     "text": [
      "[I 2025-07-21 14:32:36,403] Trial 180 finished with value: 0.05128205128205132 and parameters: {'booster': 'gbtree', 'learning_rate': 0.04606219295745485, 'max_depth': 8, 'subsample': 0.5398850122888694, 'colsample_bytree': 0.9527231261192274, 'reg_lambda': 0.06346811152052372, 'reg_alpha': 0.08643595149770084}. Best is trial 79 with value: 0.03797468354430378.\n"
     ]
    },
    {
     "name": "stdout",
     "output_type": "stream",
     "text": [
      "🏃 View run classy-perch-649 at: http://127.0.0.1:8282/#/experiments/588080332252433563/runs/fc5f51a0b147429390c19dab3e4751d6\n",
      "🧪 View experiment at: http://127.0.0.1:8282/#/experiments/588080332252433563\n"
     ]
    },
    {
     "name": "stderr",
     "output_type": "stream",
     "text": [
      "[I 2025-07-21 14:32:36,888] Trial 181 finished with value: 0.06329113924050633 and parameters: {'booster': 'gbtree', 'learning_rate': 0.05122963256909276, 'max_depth': 8, 'subsample': 0.5313613425041827, 'colsample_bytree': 0.92553110094033, 'reg_lambda': 0.10278045780681658, 'reg_alpha': 0.8718645631892004}. Best is trial 79 with value: 0.03797468354430378.\n"
     ]
    },
    {
     "name": "stdout",
     "output_type": "stream",
     "text": [
      "🏃 View run painted-panda-598 at: http://127.0.0.1:8282/#/experiments/588080332252433563/runs/7f6e6d21654d4ad6b58a4c686ea00abb\n",
      "🧪 View experiment at: http://127.0.0.1:8282/#/experiments/588080332252433563\n"
     ]
    },
    {
     "name": "stderr",
     "output_type": "stream",
     "text": [
      "[I 2025-07-21 14:32:37,395] Trial 182 finished with value: 0.06329113924050633 and parameters: {'booster': 'gbtree', 'learning_rate': 0.03991674466908033, 'max_depth': 8, 'subsample': 0.5201348906027212, 'colsample_bytree': 0.9044852551210157, 'reg_lambda': 0.16398413549663265, 'reg_alpha': 0.04663313726439428}. Best is trial 79 with value: 0.03797468354430378.\n"
     ]
    },
    {
     "name": "stdout",
     "output_type": "stream",
     "text": [
      "🏃 View run marvelous-trout-90 at: http://127.0.0.1:8282/#/experiments/588080332252433563/runs/4683d9464f2c4de0afbd322134bd6112\n",
      "🧪 View experiment at: http://127.0.0.1:8282/#/experiments/588080332252433563\n"
     ]
    },
    {
     "name": "stderr",
     "output_type": "stream",
     "text": [
      "[I 2025-07-21 14:32:37,924] Trial 183 finished with value: 0.03797468354430378 and parameters: {'booster': 'gbtree', 'learning_rate': 0.057278458786265106, 'max_depth': 8, 'subsample': 0.538656187776724, 'colsample_bytree': 0.9327808299216714, 'reg_lambda': 2.4094930906036382e-05, 'reg_alpha': 0.2915065581127898}. Best is trial 79 with value: 0.03797468354430378.\n"
     ]
    },
    {
     "name": "stdout",
     "output_type": "stream",
     "text": [
      "🏃 View run charming-ant-889 at: http://127.0.0.1:8282/#/experiments/588080332252433563/runs/6bca705910d7482f9e704f099c16bcb8\n",
      "🧪 View experiment at: http://127.0.0.1:8282/#/experiments/588080332252433563\n"
     ]
    },
    {
     "name": "stderr",
     "output_type": "stream",
     "text": [
      "[I 2025-07-21 14:32:38,555] Trial 184 finished with value: 0.050000000000000044 and parameters: {'booster': 'gbtree', 'learning_rate': 0.06010578995846362, 'max_depth': 8, 'subsample': 0.5473349546877477, 'colsample_bytree': 0.9331534478665938, 'reg_lambda': 5.6725201139349684e-06, 'reg_alpha': 0.3490614540623773}. Best is trial 79 with value: 0.03797468354430378.\n"
     ]
    },
    {
     "name": "stdout",
     "output_type": "stream",
     "text": [
      "🏃 View run inquisitive-stag-853 at: http://127.0.0.1:8282/#/experiments/588080332252433563/runs/94ad7631aa024c5eaf5ef906940b8619\n",
      "🧪 View experiment at: http://127.0.0.1:8282/#/experiments/588080332252433563\n"
     ]
    },
    {
     "name": "stderr",
     "output_type": "stream",
     "text": [
      "[I 2025-07-21 14:32:39,074] Trial 185 finished with value: 0.050000000000000044 and parameters: {'booster': 'gbtree', 'learning_rate': 0.05459957507079688, 'max_depth': 9, 'subsample': 0.5396828268456707, 'colsample_bytree': 0.9603078600232073, 'reg_lambda': 3.7627893227954733e-05, 'reg_alpha': 0.18832156932348654}. Best is trial 79 with value: 0.03797468354430378.\n"
     ]
    },
    {
     "name": "stdout",
     "output_type": "stream",
     "text": [
      "🏃 View run smiling-dog-863 at: http://127.0.0.1:8282/#/experiments/588080332252433563/runs/f8fadbf0d09144d7be36d0677a0eec33\n",
      "🧪 View experiment at: http://127.0.0.1:8282/#/experiments/588080332252433563\n"
     ]
    },
    {
     "name": "stderr",
     "output_type": "stream",
     "text": [
      "[I 2025-07-21 14:32:39,527] Trial 186 finished with value: 0.06329113924050633 and parameters: {'booster': 'gbtree', 'learning_rate': 0.07319846469412117, 'max_depth': 8, 'subsample': 0.5163256293577814, 'colsample_bytree': 0.9425620128129798, 'reg_lambda': 2.742348937613586e-05, 'reg_alpha': 0.12253244120839935}. Best is trial 79 with value: 0.03797468354430378.\n"
     ]
    },
    {
     "name": "stdout",
     "output_type": "stream",
     "text": [
      "🏃 View run honorable-mule-97 at: http://127.0.0.1:8282/#/experiments/588080332252433563/runs/8a3a9aefc0e34d6ca2da93b1e8e92dfe\n",
      "🧪 View experiment at: http://127.0.0.1:8282/#/experiments/588080332252433563\n"
     ]
    },
    {
     "name": "stderr",
     "output_type": "stream",
     "text": [
      "[I 2025-07-21 14:32:40,577] Trial 187 finished with value: 0.07499999999999996 and parameters: {'booster': 'dart', 'learning_rate': 0.06378153941832833, 'max_depth': 8, 'subsample': 0.5337470475117153, 'colsample_bytree': 0.7102255669250019, 'reg_lambda': 2.173531852000589e-06, 'reg_alpha': 0.49329981765695047}. Best is trial 79 with value: 0.03797468354430378.\n"
     ]
    },
    {
     "name": "stdout",
     "output_type": "stream",
     "text": [
      "🏃 View run fortunate-sponge-929 at: http://127.0.0.1:8282/#/experiments/588080332252433563/runs/3877b7aea41d40f98deae0e3a2767d5b\n",
      "🧪 View experiment at: http://127.0.0.1:8282/#/experiments/588080332252433563\n"
     ]
    },
    {
     "name": "stderr",
     "output_type": "stream",
     "text": [
      "[I 2025-07-21 14:32:41,111] Trial 188 finished with value: 0.05128205128205132 and parameters: {'booster': 'gbtree', 'learning_rate': 0.046197343988283006, 'max_depth': 8, 'subsample': 0.5574699016507122, 'colsample_bytree': 0.9180160321184512, 'reg_lambda': 1.9401927466385707e-05, 'reg_alpha': 0.28086661351240194}. Best is trial 79 with value: 0.03797468354430378.\n"
     ]
    },
    {
     "name": "stdout",
     "output_type": "stream",
     "text": [
      "🏃 View run serious-deer-809 at: http://127.0.0.1:8282/#/experiments/588080332252433563/runs/75e69dcb20ed4b3dbdd9f2a69c55cdad\n",
      "🧪 View experiment at: http://127.0.0.1:8282/#/experiments/588080332252433563\n"
     ]
    },
    {
     "name": "stderr",
     "output_type": "stream",
     "text": [
      "[I 2025-07-21 14:32:41,597] Trial 189 finished with value: 0.05128205128205132 and parameters: {'booster': 'gbtree', 'learning_rate': 0.05508902069396308, 'max_depth': 8, 'subsample': 0.5115102062899016, 'colsample_bytree': 0.9347853728460616, 'reg_lambda': 3.8557177586103474e-08, 'reg_alpha': 0.11699788556688925}. Best is trial 79 with value: 0.03797468354430378.\n"
     ]
    },
    {
     "name": "stdout",
     "output_type": "stream",
     "text": [
      "🏃 View run fun-bat-903 at: http://127.0.0.1:8282/#/experiments/588080332252433563/runs/5560d29f4345485684a3679f8584bbbe\n",
      "🧪 View experiment at: http://127.0.0.1:8282/#/experiments/588080332252433563\n"
     ]
    },
    {
     "name": "stderr",
     "output_type": "stream",
     "text": [
      "[I 2025-07-21 14:32:42,094] Trial 190 finished with value: 0.050000000000000044 and parameters: {'booster': 'gbtree', 'learning_rate': 0.03858518898199339, 'max_depth': 8, 'subsample': 0.527803347532715, 'colsample_bytree': 0.9097142126273324, 'reg_lambda': 8.409057283589151e-06, 'reg_alpha': 0.059527565885775006}. Best is trial 79 with value: 0.03797468354430378.\n"
     ]
    },
    {
     "name": "stdout",
     "output_type": "stream",
     "text": [
      "🏃 View run treasured-bee-593 at: http://127.0.0.1:8282/#/experiments/588080332252433563/runs/ef6cbe7faf31459fa11f6b03807a6a88\n",
      "🧪 View experiment at: http://127.0.0.1:8282/#/experiments/588080332252433563\n"
     ]
    },
    {
     "name": "stderr",
     "output_type": "stream",
     "text": [
      "[I 2025-07-21 14:32:42,603] Trial 191 finished with value: 0.06329113924050633 and parameters: {'booster': 'gbtree', 'learning_rate': 0.04369240400753696, 'max_depth': 8, 'subsample': 0.5224707752615702, 'colsample_bytree': 0.894120940506955, 'reg_lambda': 0.0006813524501840968, 'reg_alpha': 0.28606046934201734}. Best is trial 79 with value: 0.03797468354430378.\n"
     ]
    },
    {
     "name": "stdout",
     "output_type": "stream",
     "text": [
      "🏃 View run delightful-snipe-115 at: http://127.0.0.1:8282/#/experiments/588080332252433563/runs/3ace72d0fb5f428999a9d51da968fef7\n",
      "🧪 View experiment at: http://127.0.0.1:8282/#/experiments/588080332252433563\n"
     ]
    },
    {
     "name": "stderr",
     "output_type": "stream",
     "text": [
      "[I 2025-07-21 14:32:43,099] Trial 192 finished with value: 0.07499999999999996 and parameters: {'booster': 'gbtree', 'learning_rate': 0.03349740023587654, 'max_depth': 8, 'subsample': 0.5450061957497742, 'colsample_bytree': 0.8816482830573902, 'reg_lambda': 0.2603425450094333, 'reg_alpha': 0.52393252079678}. Best is trial 79 with value: 0.03797468354430378.\n"
     ]
    },
    {
     "name": "stdout",
     "output_type": "stream",
     "text": [
      "🏃 View run bemused-fly-544 at: http://127.0.0.1:8282/#/experiments/588080332252433563/runs/b48a4aeea2a6452e984ffa6c3b7b959b\n",
      "🧪 View experiment at: http://127.0.0.1:8282/#/experiments/588080332252433563\n"
     ]
    },
    {
     "name": "stderr",
     "output_type": "stream",
     "text": [
      "[I 2025-07-21 14:32:43,627] Trial 193 finished with value: 0.06329113924050633 and parameters: {'booster': 'gbtree', 'learning_rate': 0.04866683182140225, 'max_depth': 8, 'subsample': 0.5305438207761238, 'colsample_bytree': 0.629144549157943, 'reg_lambda': 0.09344733321218741, 'reg_alpha': 0.014319548714801171}. Best is trial 79 with value: 0.03797468354430378.\n"
     ]
    },
    {
     "name": "stdout",
     "output_type": "stream",
     "text": [
      "🏃 View run nimble-bass-410 at: http://127.0.0.1:8282/#/experiments/588080332252433563/runs/625d7ad0ad8c486f9b5ffd6e0e0e7cdb\n",
      "🧪 View experiment at: http://127.0.0.1:8282/#/experiments/588080332252433563\n"
     ]
    },
    {
     "name": "stderr",
     "output_type": "stream",
     "text": [
      "[I 2025-07-21 14:32:44,138] Trial 194 finished with value: 0.06172839506172845 and parameters: {'booster': 'gbtree', 'learning_rate': 0.028631426272434916, 'max_depth': 9, 'subsample': 0.5095674427232214, 'colsample_bytree': 0.9229210096293985, 'reg_lambda': 0.00019569482119953903, 'reg_alpha': 0.029322037481071938}. Best is trial 79 with value: 0.03797468354430378.\n"
     ]
    },
    {
     "name": "stdout",
     "output_type": "stream",
     "text": [
      "🏃 View run placid-bug-576 at: http://127.0.0.1:8282/#/experiments/588080332252433563/runs/694e8e167f0f47b4bec07fda13c3f9e5\n",
      "🧪 View experiment at: http://127.0.0.1:8282/#/experiments/588080332252433563\n"
     ]
    },
    {
     "name": "stderr",
     "output_type": "stream",
     "text": [
      "[I 2025-07-21 14:32:44,614] Trial 195 finished with value: 0.05128205128205132 and parameters: {'booster': 'gbtree', 'learning_rate': 0.11246963120364242, 'max_depth': 8, 'subsample': 0.500063838564961, 'colsample_bytree': 0.8965176728128866, 'reg_lambda': 0.12761311425959196, 'reg_alpha': 3.933622635285079e-07}. Best is trial 79 with value: 0.03797468354430378.\n"
     ]
    },
    {
     "name": "stdout",
     "output_type": "stream",
     "text": [
      "🏃 View run gifted-fowl-704 at: http://127.0.0.1:8282/#/experiments/588080332252433563/runs/da2ea068a2e04f69bc6aef7aac5e4e75\n",
      "🧪 View experiment at: http://127.0.0.1:8282/#/experiments/588080332252433563\n"
     ]
    },
    {
     "name": "stderr",
     "output_type": "stream",
     "text": [
      "[I 2025-07-21 14:32:45,071] Trial 196 finished with value: 0.07317073170731703 and parameters: {'booster': 'gblinear', 'learning_rate': 0.08414204704454753, 'max_depth': 7, 'subsample': 0.5205514663278403, 'colsample_bytree': 0.648751726078364, 'reg_lambda': 0.20839779625805138, 'reg_alpha': 0.12234776519116257}. Best is trial 79 with value: 0.03797468354430378.\n"
     ]
    },
    {
     "name": "stdout",
     "output_type": "stream",
     "text": [
      "🏃 View run overjoyed-sloth-502 at: http://127.0.0.1:8282/#/experiments/588080332252433563/runs/acd32fc998a147abae4999bab56a86ae\n",
      "🧪 View experiment at: http://127.0.0.1:8282/#/experiments/588080332252433563\n"
     ]
    },
    {
     "name": "stderr",
     "output_type": "stream",
     "text": [
      "[I 2025-07-21 14:32:45,774] Trial 197 finished with value: 0.07499999999999996 and parameters: {'booster': 'gbtree', 'learning_rate': 0.059033545356895104, 'max_depth': 8, 'subsample': 0.5371273673924026, 'colsample_bytree': 0.9100095583865688, 'reg_lambda': 0.040400540174704756, 'reg_alpha': 5.231702057542438e-07}. Best is trial 79 with value: 0.03797468354430378.\n"
     ]
    },
    {
     "name": "stdout",
     "output_type": "stream",
     "text": [
      "🏃 View run valuable-quail-793 at: http://127.0.0.1:8282/#/experiments/588080332252433563/runs/83d306901ccb477dbdd1633e5109dbb9\n",
      "🧪 View experiment at: http://127.0.0.1:8282/#/experiments/588080332252433563\n"
     ]
    },
    {
     "name": "stderr",
     "output_type": "stream",
     "text": [
      "[I 2025-07-21 14:32:46,475] Trial 198 finished with value: 0.0864197530864198 and parameters: {'booster': 'gbtree', 'learning_rate': 0.04105406805841191, 'max_depth': 7, 'subsample': 0.5549061477692829, 'colsample_bytree': 0.5625972723076287, 'reg_lambda': 0.3749089919184331, 'reg_alpha': 7.563804602295341e-07}. Best is trial 79 with value: 0.03797468354430378.\n"
     ]
    },
    {
     "name": "stdout",
     "output_type": "stream",
     "text": [
      "🏃 View run masked-dove-970 at: http://127.0.0.1:8282/#/experiments/588080332252433563/runs/5b31eba45ec74d219a471d6c94e95449\n",
      "🧪 View experiment at: http://127.0.0.1:8282/#/experiments/588080332252433563\n"
     ]
    },
    {
     "name": "stderr",
     "output_type": "stream",
     "text": [
      "[I 2025-07-21 14:32:46,972] Trial 199 finished with value: 0.06172839506172845 and parameters: {'booster': 'gbtree', 'learning_rate': 0.05165263060856382, 'max_depth': 8, 'subsample': 0.5270130669594534, 'colsample_bytree': 0.9276719924970781, 'reg_lambda': 0.07848135716567803, 'reg_alpha': 2.2229365651177118e-07}. Best is trial 79 with value: 0.03797468354430378.\n"
     ]
    },
    {
     "name": "stdout",
     "output_type": "stream",
     "text": [
      "🏃 View run puzzled-hare-618 at: http://127.0.0.1:8282/#/experiments/588080332252433563/runs/2c731623f48148c591fa6dd532d82db4\n",
      "🧪 View experiment at: http://127.0.0.1:8282/#/experiments/588080332252433563\n"
     ]
    },
    {
     "name": "stderr",
     "output_type": "stream",
     "text": [
      "2025/07/21 14:33:01 WARNING mlflow.utils.environment: Encountered an unexpected error while inferring pip requirements (model URI: C:\\Users\\VICTOR~1.FRA\\AppData\\Local\\Temp\\tmpqcum9gme\\model, flavor: xgboost). Fall back to return ['xgboost==2.1.4']. Set logging level to DEBUG to see the full traceback. \n"
     ]
    },
    {
     "name": "stdout",
     "output_type": "stream",
     "text": [
      "🏃 View run experiment_1 at: http://127.0.0.1:8282/#/experiments/588080332252433563/runs/a16ff84539e14517b0bcbe5a34565f64\n",
      "🧪 View experiment at: http://127.0.0.1:8282/#/experiments/588080332252433563\n",
      "-- Done --\n"
     ]
    }
   ],
   "source": [
    "run_name = 'experiment_1'\n",
    "mlflow.set_experiment(experiment_id=id_experiment)\n",
    "\n",
    "with mlflow.start_run(run_name=run_name):\n",
    "    # Hyperparameter optimization\n",
    "    study = optuna.create_study(direction='minimize')\n",
    "    study.optimize(optimize_hyperparameters, n_trials=200, callbacks=[f1_score_callback])\n",
    "\n",
    "    # Log best trial and F1-score as tags\n",
    "    mlflow.set_tag('best_f1_score', f'{1.0 - study.best_value:.4f}')\n",
    "    mlflow.set_tag('best_trial',    str(study.best_trial.number))\n",
    "\n",
    "    # Final training using full train + validation data\n",
    "    dtrainval = xgb.DMatrix(X_trainval.values, label=y_trainval.values)\n",
    "    dtest     = xgb.DMatrix(X_test.values,      label=y_test.values)\n",
    "\n",
    "    final_model = xgb.train(\n",
    "        study.best_params,\n",
    "        dtrainval,\n",
    "        evals=[(dtest, 'test')],\n",
    "        num_boost_round=1000,\n",
    "        early_stopping_rounds=20,\n",
    "        verbose_eval=False)\n",
    "\n",
    "    # Evaluation on the test set\n",
    "    y_pred_test   = final_model.predict(dtest)\n",
    "    y_pred_binary = (y_pred_test >= 0.5).astype(int)\n",
    "\n",
    "    acc  = accuracy_score(y_test, y_pred_binary)\n",
    "    prec = precision_score(y_test, y_pred_binary)\n",
    "    rec  = recall_score(y_test, y_pred_binary)\n",
    "    f1   = f1_score(y_test, y_pred_binary)\n",
    "\n",
    "    mlflow.log_metric('final_accuracy',  acc)\n",
    "    mlflow.log_metric('final_precision', prec)\n",
    "    mlflow.log_metric('final_recall',    rec)\n",
    "    mlflow.log_metric('final_f1_score',  f1)\n",
    "\n",
    "    # Confusion matrix \n",
    "    fig_path = os.path.join(tempfile.gettempdir(), 'confusion_matrix.png')\n",
    "    plot_confusion_matrix(y_test, y_pred_binary, save_path=fig_path)\n",
    "    mlflow.log_artifact(fig_path)\n",
    "\n",
    "    # Correlation\n",
    "    corr_path = os.path.join(tempfile.gettempdir(), 'correlation.png')\n",
    "    plot_corr(df, target='Channel', save_path=corr_path)\n",
    "    mlflow.log_artifact(corr_path)\n",
    "    plt.close()\n",
    "\n",
    "    # Feature importance\n",
    "    fi_path = os.path.join(tempfile.gettempdir(), 'feature_importance.png')\n",
    "    plot_feature_importance(\n",
    "    model=final_model,\n",
    "    booster=\"gbtree\",\n",
    "    top_n=10,\n",
    "    importance_type=None,\n",
    "    save_path=fi_path)\n",
    "    mlflow.log_artifact(fi_path)\n",
    "    plt.close()\n",
    "\n",
    "    # Model signature inference for MLflow Model Registry\n",
    "    signature = infer_signature(X_trainval, final_model.predict(dtrainval))\n",
    "\n",
    "    # Save the final model\n",
    "    tmp_dir         = tempfile.mkdtemp()\n",
    "    model_save_path = os.path.join(tmp_dir, 'model')\n",
    "\n",
    "    mlflow.xgboost.save_model(\n",
    "        final_model,\n",
    "        path=model_save_path,\n",
    "        input_example=X_trainval.iloc[[0]],\n",
    "        signature=signature,\n",
    "        model_format='ubj',\n",
    "        metadata={'model_data_version': 1})\n",
    "    \n",
    "    mlflow.log_artifacts(model_save_path, artifact_path='model')\n",
    "    shutil.rmtree(tmp_dir)\n",
    "\n",
    "print('-- Done --')"
   ]
  },
  {
   "cell_type": "markdown",
   "id": "0a9e26e5",
   "metadata": {},
   "source": [
    "## 🔚 All set! Now you have your experiment saved with the best trained model.\n",
    "You can view the model, its metrics, artifacts, and parameters by visiting:\n",
    "👉 http://127.0.0.1:8282 (open in a new browser tab)\n",
    "\n",
    "📦 **Next step: using the trained model for inference**\n",
    "\n",
    "Suppose you now want to use this final trained model to make predictions. For simplicity — and due to the lack of new data — we’ll reuse the same test set used earlier.\n",
    "\n",
    "Just follow the steps below to load the model and make predictions:"
   ]
  },
  {
   "cell_type": "code",
   "execution_count": 26,
   "id": "464dde32",
   "metadata": {},
   "outputs": [
    {
     "name": "stdout",
     "output_type": "stream",
     "text": [
      "Parent RUN: a16ff84539e14517b0bcbe5a34565f64\n",
      "Base URI  : mlflow-artifacts:/588080332252433563/a16ff84539e14517b0bcbe5a34565f64/artifacts\n"
     ]
    }
   ],
   "source": [
    "client = MlflowClient()\n",
    "\n",
    "# Filter the run by its exact name\n",
    "papa = client.search_runs(\n",
    "    experiment_ids=[id_experiment],\n",
    "    filter_string='tag.mlflow.runName = \"experiment_1\"')[0]   \n",
    "\n",
    "run_id_pai = papa.info.run_id\n",
    "print('Parent RUN:', run_id_pai)\n",
    "print('Base URI  :', papa.info.artifact_uri)"
   ]
  },
  {
   "cell_type": "code",
   "execution_count": 27,
   "id": "6e98d5b5",
   "metadata": {},
   "outputs": [
    {
     "data": {
      "text/plain": [
       "'mlflow-artifacts:/588080332252433563/a16ff84539e14517b0bcbe5a34565f64/artifacts/model/'"
      ]
     },
     "execution_count": 27,
     "metadata": {},
     "output_type": "execute_result"
    }
   ],
   "source": [
    "model_uri = f'runs:/{run_id_pai}/model'\n",
    "model_uri_abs = f'{papa.info.artifact_uri}/model/'\n",
    "model_uri_abs"
   ]
  },
  {
   "cell_type": "markdown",
   "id": "a09f2de3",
   "metadata": {},
   "source": [
    "## 📦 Loading the Best Model\n",
    "\n"
   ]
  },
  {
   "cell_type": "code",
   "execution_count": 28,
   "id": "442a399c",
   "metadata": {},
   "outputs": [
    {
     "data": {
      "application/vnd.jupyter.widget-view+json": {
       "model_id": "bbfd78c5fcd54f6e861f8fcb275a4e96",
       "version_major": 2,
       "version_minor": 0
      },
      "text/plain": [
       "Downloading artifacts:   0%|          | 0/7 [00:00<?, ?it/s]"
      ]
     },
     "metadata": {},
     "output_type": "display_data"
    }
   ],
   "source": [
    "best_model = mlflow.xgboost.load_model(model_uri)"
   ]
  },
  {
   "cell_type": "code",
   "execution_count": 29,
   "id": "4d8e938a",
   "metadata": {},
   "outputs": [
    {
     "name": "stdout",
     "output_type": "stream",
     "text": [
      "Accuracy  : 0.886\n",
      "Precision : 0.890\n",
      "Recall    : 0.942\n",
      "F1-score  : 0.915\n"
     ]
    },
    {
     "data": {
      "image/png": "[encoded data removed]",
      "text/plain": [
       "<Figure size 432x288 with 2 Axes>"
      ]
     },
     "metadata": {},
     "output_type": "display_data"
    }
   ],
   "source": [
    "# Convert X_test to DMatrix\n",
    "dtest = xgb.DMatrix(X_test)\n",
    "\n",
    "# Make predictions (probabilities)\n",
    "y_prob = best_model.predict(dtest)\n",
    "\n",
    "# Apply 0.5 threshold to get binary classes\n",
    "y_pred = (y_prob > 0.5).astype(int)\n",
    "\n",
    "# Compute metrics\n",
    "acc = accuracy_score(y_test, y_pred)\n",
    "prec = precision_score(y_test, y_pred)\n",
    "rec = recall_score(y_test, y_pred)\n",
    "f1 = f1_score(y_test, y_pred)\n",
    "\n",
    "# Display the results\n",
    "print(f'Accuracy  : {acc:.3f}')\n",
    "print(f'Precision : {prec:.3f}')\n",
    "print(f'Recall    : {rec:.3f}')\n",
    "print(f'F1-score  : {f1:.3f}')\n",
    "\n",
    "# Confusion matrix\n",
    "cm = confusion_matrix(y_test, y_pred)\n",
    "disp = ConfusionMatrixDisplay(confusion_matrix=cm)\n",
    "disp.plot(cmap='Blues')\n",
    "plt.title(\"Confusion Matrix - Final Test\")\n",
    "plt.show()\n"
   ]
  },
  {
   "cell_type": "markdown",
   "id": "98a569d9",
   "metadata": {},
   "source": [
    "## 🏁 Conclusion \n",
    "\n",
    "As mentioned earlier, we reused the same test set **just to demonstrate** how to load the model from MLflow.\n",
    "To verify whether this is truly the **best-performing final model**, simply go to your MLflow experiment, check the corresponding **run ID**, and compare the logged **metrics** with the ones printed above.\n"
   ]
  }
 ],
 "metadata": {
  "kernelspec": {
   "display_name": "base",
   "language": "python",
   "name": "python3"
  },
  "language_info": {
   "codemirror_mode": {
    "name": "ipython",
    "version": 3
   },
   "file_extension": ".py",
   "mimetype": "text/x-python",
   "name": "python",
   "nbconvert_exporter": "python",
   "pygments_lexer": "ipython3",
   "version": "3.9.12"
  }
 },
 "nbformat": 4,
 "nbformat_minor": 5
}
