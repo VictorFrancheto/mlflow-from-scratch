{
 "cells": [
  {
   "cell_type": "markdown",
   "id": "6804c3d7",
   "metadata": {},
   "source": [
    "# 🛠️ MLflow Hands-On\n",
    "\n",
    "🎯 **Our goal** is to demonstrate how to integrate **MLflow** into a *machine learning* project, showcasing its role in tracking and managing experiments efficiently.\n",
    "\n",
    "We'll start by **fitting an initial boosting model**, logging parameters, metrics, and artifacts. Then, we'll move on to **hyperparameter optimization using Optuna**, with the entire workflow tracked and versioned through MLflow.\n",
    "\n",
    "---------------\n",
    "\n",
    "🛒 **Dataset**\n",
    "For this project, we used the **Wholesale Customers Data Set**, available from the [UCI Machine Learning Repository](https://archive.ics.uci.edu/ml/datasets/Wholesale+customers).\n",
    "\n",
    "This dataset provides insights into customer spending habits across different product categories, making it a useful resource for unsupervised learning and clustering tasks."
   ]
  },
  {
   "cell_type": "code",
   "execution_count": 1,
   "id": "f3c05965",
   "metadata": {},
   "outputs": [],
   "source": [
    "# ===========================\n",
    "# 📦 Data Manipulation\n",
    "# ===========================\n",
    "import os\n",
    "import json\n",
    "import math\n",
    "import tempfile\n",
    "import shutil\n",
    "from datetime import datetime, timedelta\n",
    "\n",
    "import pandas as pd\n",
    "import numpy as np\n",
    "\n",
    "# ===========================\n",
    "# 📊 Visualization\n",
    "# ===========================\n",
    "import matplotlib.pyplot as plt\n",
    "import seaborn as sns\n",
    "\n",
    "\n",
    "# ===========================\n",
    "# 🤖 Modeling and Evaluation\n",
    "# ===========================\n",
    "import xgboost as xgb\n",
    "from xgboost import XGBClassifier\n",
    "from sklearn.model_selection import train_test_split\n",
    "from sklearn.metrics import (\n",
    "    accuracy_score, precision_score, recall_score, \n",
    "    f1_score, roc_auc_score, log_loss, confusion_matrix, \n",
    "    ConfusionMatrixDisplay, mean_squared_error)\n",
    "\n",
    "# ===========================\n",
    "# 🔍 Optimization & Tracking\n",
    "# ===========================\n",
    "import optuna\n",
    "import mlflow\n",
    "from mlflow.models import infer_signature\n",
    "from mlflow.tracking import MlflowClient\n",
    "\n",
    "# ===========================\n",
    "# 🛠️ Utilities\n",
    "# ===========================\n",
    "import warnings\n",
    "warnings.filterwarnings('ignore')\n"
   ]
  },
  {
   "cell_type": "markdown",
   "id": "87b2d448",
   "metadata": {},
   "source": [
    "## 📥 Import dataset"
   ]
  },
  {
   "cell_type": "code",
   "execution_count": 2,
   "id": "10eb2d90",
   "metadata": {},
   "outputs": [
    {
     "data": {
      "text/html": [
       "<div>\n",
       "<style scoped>\n",
       "    .dataframe tbody tr th:only-of-type {\n",
       "        vertical-align: middle;\n",
       "    }\n",
       "\n",
       "    .dataframe tbody tr th {\n",
       "        vertical-align: top;\n",
       "    }\n",
       "\n",
       "    .dataframe thead th {\n",
       "        text-align: right;\n",
       "    }\n",
       "</style>\n",
       "<table border=\"1\" class=\"dataframe\">\n",
       "  <thead>\n",
       "    <tr style=\"text-align: right;\">\n",
       "      <th></th>\n",
       "      <th>Channel</th>\n",
       "      <th>Region</th>\n",
       "      <th>Fresh</th>\n",
       "      <th>Milk</th>\n",
       "      <th>Grocery</th>\n",
       "      <th>Frozen</th>\n",
       "      <th>Detergents_Paper</th>\n",
       "      <th>Delicassen</th>\n",
       "    </tr>\n",
       "  </thead>\n",
       "  <tbody>\n",
       "    <tr>\n",
       "      <th>435</th>\n",
       "      <td>1</td>\n",
       "      <td>3</td>\n",
       "      <td>29703</td>\n",
       "      <td>12051</td>\n",
       "      <td>16027</td>\n",
       "      <td>13135</td>\n",
       "      <td>182</td>\n",
       "      <td>2204</td>\n",
       "    </tr>\n",
       "    <tr>\n",
       "      <th>436</th>\n",
       "      <td>1</td>\n",
       "      <td>3</td>\n",
       "      <td>39228</td>\n",
       "      <td>1431</td>\n",
       "      <td>764</td>\n",
       "      <td>4510</td>\n",
       "      <td>93</td>\n",
       "      <td>2346</td>\n",
       "    </tr>\n",
       "    <tr>\n",
       "      <th>437</th>\n",
       "      <td>2</td>\n",
       "      <td>3</td>\n",
       "      <td>14531</td>\n",
       "      <td>15488</td>\n",
       "      <td>30243</td>\n",
       "      <td>437</td>\n",
       "      <td>14841</td>\n",
       "      <td>1867</td>\n",
       "    </tr>\n",
       "    <tr>\n",
       "      <th>438</th>\n",
       "      <td>1</td>\n",
       "      <td>3</td>\n",
       "      <td>10290</td>\n",
       "      <td>1981</td>\n",
       "      <td>2232</td>\n",
       "      <td>1038</td>\n",
       "      <td>168</td>\n",
       "      <td>2125</td>\n",
       "    </tr>\n",
       "    <tr>\n",
       "      <th>439</th>\n",
       "      <td>1</td>\n",
       "      <td>3</td>\n",
       "      <td>2787</td>\n",
       "      <td>1698</td>\n",
       "      <td>2510</td>\n",
       "      <td>65</td>\n",
       "      <td>477</td>\n",
       "      <td>52</td>\n",
       "    </tr>\n",
       "  </tbody>\n",
       "</table>\n",
       "</div>"
      ],
      "text/plain": [
       "     Channel  Region  Fresh   Milk  Grocery  Frozen  Detergents_Paper  \\\n",
       "435        1       3  29703  12051    16027   13135               182   \n",
       "436        1       3  39228   1431      764    4510                93   \n",
       "437        2       3  14531  15488    30243     437             14841   \n",
       "438        1       3  10290   1981     2232    1038               168   \n",
       "439        1       3   2787   1698     2510      65               477   \n",
       "\n",
       "     Delicassen  \n",
       "435        2204  \n",
       "436        2346  \n",
       "437        1867  \n",
       "438        2125  \n",
       "439          52  "
      ]
     },
     "execution_count": 2,
     "metadata": {},
     "output_type": "execute_result"
    }
   ],
   "source": [
    "df = pd.read_csv('Wholesale customers data.csv')\n",
    "df.tail()"
   ]
  },
  {
   "cell_type": "markdown",
   "id": "21fb0d2f",
   "metadata": {},
   "source": [
    "## 🔍 Checking for missing values"
   ]
  },
  {
   "cell_type": "code",
   "execution_count": 3,
   "id": "5fb4187d",
   "metadata": {},
   "outputs": [
    {
     "data": {
      "text/plain": [
       "Channel             0\n",
       "Region              0\n",
       "Fresh               0\n",
       "Milk                0\n",
       "Grocery             0\n",
       "Frozen              0\n",
       "Detergents_Paper    0\n",
       "Delicassen          0\n",
       "dtype: int64"
      ]
     },
     "execution_count": 3,
     "metadata": {},
     "output_type": "execute_result"
    }
   ],
   "source": [
    "df.isnull().sum()"
   ]
  },
  {
   "cell_type": "markdown",
   "id": "1d4adb35",
   "metadata": {},
   "source": [
    "## 🎯 Declare feature vector and target variable"
   ]
  },
  {
   "cell_type": "code",
   "execution_count": 4,
   "id": "9de4c41f",
   "metadata": {},
   "outputs": [
    {
     "data": {
      "text/plain": [
       "0    2\n",
       "1    2\n",
       "2    2\n",
       "3    1\n",
       "4    2\n",
       "Name: Channel, dtype: int64"
      ]
     },
     "execution_count": 4,
     "metadata": {},
     "output_type": "execute_result"
    }
   ],
   "source": [
    "X = df.drop('Channel', axis=1)\n",
    "# ---\n",
    "y = df['Channel']\n",
    "y.head()"
   ]
  },
  {
   "cell_type": "markdown",
   "id": "d6476a55",
   "metadata": {},
   "source": [
    "We can see that the \\$y\\$ labels currently contain the values \\$1\\$ and \\$2\\$. For simplicity and easier interpretation, we will convert them to \\$0\\$ and \\$1\\$ for further analysis."
   ]
  },
  {
   "cell_type": "code",
   "execution_count": 5,
   "id": "9bc12073",
   "metadata": {},
   "outputs": [],
   "source": [
    "y[y == 2] = 0\n",
    "y[y == 1] = 1"
   ]
  },
  {
   "cell_type": "markdown",
   "id": "10985fa1",
   "metadata": {},
   "source": [
    "Now, I will convert the dataset into an optimized data structure called **Dmatrix** that XGBoost supports and gives it acclaimed performance and efficiency gains"
   ]
  },
  {
   "cell_type": "code",
   "execution_count": 6,
   "id": "dcb97249",
   "metadata": {},
   "outputs": [],
   "source": [
    "data_dmatrix = xgb.DMatrix(data=X, label=y)"
   ]
  },
  {
   "cell_type": "markdown",
   "id": "aa1c39f7",
   "metadata": {},
   "source": [
    "## ✂️ Split data into separate training and test set"
   ]
  },
  {
   "cell_type": "code",
   "execution_count": 7,
   "id": "9db6392e",
   "metadata": {},
   "outputs": [],
   "source": [
    "X_train, X_test, y_train, y_test = train_test_split(X, y, test_size = 0.3, random_state = 0)"
   ]
  },
  {
   "cell_type": "markdown",
   "id": "d1d9c042",
   "metadata": {},
   "source": [
    "## 🔧 Train the XGBoost Classifier\n",
    "\n",
    "Now it's time to train our **XGBoost classifier**!\n",
    "Before we begin, it’s important to understand the different types of parameters that XGBoost offers. These parameters control the model’s behavior, performance, and complexity.\n",
    "\n",
    "There are **four main categories** of parameters you should know:\n",
    "\n",
    "\n",
    "### ⚙️ General parameters\n",
    "\n",
    "These define which **booster type** to use (e.g., tree-based or linear).\n",
    "Common options include:\n",
    "\n",
    "* `gbtree` – tree-based models (default)\n",
    "* `gblinear` – linear models\n",
    "* `dart` – tree-based models with dropout\n",
    "\n",
    "\n",
    "### 🌲 Booster parameters\n",
    "\n",
    "These depend on the selected booster type and control the training process of individual trees or models.\n",
    "\n",
    "\n",
    "### 🎯 Learning task parameters\n",
    "\n",
    "These define the **objective function** and the type of learning task (e.g., regression, classification, ranking).\n",
    "\n",
    "### 💻 Command line parameters\n",
    "\n",
    "These relate to the CLI (Command Line Interface) version of XGBoost, and aren’t usually needed when using the Python API.\n",
    "\n",
    "\n",
    "## 🧠 Key Parameters to know\n",
    "\n",
    "Here are some of the most important parameters you'll likely tune:\n",
    "\n",
    "* **`learning_rate`** – Controls the step size shrinkage to prevent overfitting. Range: `[0, 1]`.\n",
    "* **`max_depth`** – Maximum depth of a tree. Deeper trees can capture more complex patterns.\n",
    "* **`subsample`** – Fraction of the training data to use for each tree. Lower values can help prevent overfitting.\n",
    "* **`colsample_bytree`** – Fraction of features to use for each tree. Higher values may lead to overfitting.\n",
    "* **`n_estimators`** – Number of boosting rounds (i.e., trees).\n",
    "* **`objective`** – Specifies the learning task and the corresponding loss function:\n",
    "\n",
    "  * `reg:squarederror` – for regression\n",
    "  * `binary:logistic` – for binary classification (probability output)\n",
    "  * `reg:logistic` – for classification with decision outputs\n",
    "\n",
    "\n",
    "## 🛡️ Regularization parameters\n",
    "\n",
    "XGBoost also offers regularization to reduce model complexity and avoid overfitting:\n",
    "\n",
    "* **`gamma`** – Minimum loss reduction required to make a split. Higher values result in fewer splits.\n",
    "* **`alpha`** – L1 regularization term on weights (Lasso). Encourages sparsity.\n",
    "* **`lambda`** – L2 regularization term on weights (Ridge). Adds smoothness.\n",
    "\n",
    "Even though we're using **trees as base learners**, XGBoost also supports linear models (`gblinear`) and dropout-based trees (`dart`) via the `booster` parameter.\n",
    "\n",
    "---\n",
    "\n",
    "Imagine you're a data scientist, and it's time to fine-tune your machine learning model. Fortunately, after some experimentation, you’ve found that the parameter combination below delivers a satisfactory performance for your classification task.\n"
   ]
  },
  {
   "cell_type": "code",
   "execution_count": 8,
   "id": "5a4a6229",
   "metadata": {},
   "outputs": [
    {
     "name": "stdout",
     "output_type": "stream",
     "text": [
      "XGBClassifier(alpha=0.0, base_score=None, booster='gbtree', callbacks=None,\n",
      "              colsample_bylevel=None, colsample_bynode=None,\n",
      "              colsample_bytree=0.8, device=None, early_stopping_rounds=None,\n",
      "              enable_categorical=False, eval_metric='logloss',\n",
      "              feature_types=None, gamma=None, grow_policy=None,\n",
      "              importance_type=None, interaction_constraints=None, lambda=1.0,\n",
      "              learning_rate=0.1, max_bin=None, max_cat_threshold=None,\n",
      "              max_cat_to_onehot=None, max_delta_step=None, max_depth=3,\n",
      "              max_leaves=None, min_child_weight=None, missing=nan,\n",
      "              monotone_constraints=None, multi_strategy=None, n_estimators=None,\n",
      "              n_jobs=None, ...)\n"
     ]
    }
   ],
   "source": [
    "params = {\n",
    "    # Target function for binary classification\n",
    "    'objective': 'binary:logistic',\n",
    "\n",
    "    # Evaluation metric\n",
    "    'eval_metric': 'logloss',\n",
    "\n",
    "    # Booster type (default is 'gbtree')\n",
    "    'booster': 'gbtree',\n",
    "\n",
    "    # Learning rate (step size shrinkage)\n",
    "    'learning_rate': 0.1,\n",
    "\n",
    "    # Maximum depth of each tree\n",
    "    'max_depth': 3,\n",
    "\n",
    "    # Subsample ratio of the training instances\n",
    "    'subsample': 0.8,\n",
    "\n",
    "    # Subsample ratio of columns for each tree\n",
    "    'colsample_bytree': 0.8,\n",
    "\n",
    "    # L2 regularization term on weights (Ridge)\n",
    "    'lambda': 1.0,\n",
    "\n",
    "    # L1 regularization term on weights (Lasso)\n",
    "    'alpha': 0.0}\n",
    "\n",
    "#------------------\n",
    "\n",
    "# Instantiate the classifier\n",
    "xgb_clf = XGBClassifier(**params)\n",
    "\n",
    "# Fit the classifier to the training data\n",
    "xgb_clf.fit(X_train, y_train)\n",
    "print(xgb_clf)\n"
   ]
  },
  {
   "cell_type": "markdown",
   "id": "9c809017",
   "metadata": {},
   "source": [
    "## 🔮 Make Predictions with XGBoost Classifier"
   ]
  },
  {
   "cell_type": "code",
   "execution_count": 9,
   "id": "eb25b790",
   "metadata": {},
   "outputs": [],
   "source": [
    "# make predictions on test data\n",
    "y_pred = xgb_clf.predict(X_test)"
   ]
  },
  {
   "cell_type": "markdown",
   "id": "b4cb2d2d",
   "metadata": {},
   "source": [
    "## ✅ Check Accuracy Score"
   ]
  },
  {
   "cell_type": "code",
   "execution_count": 10,
   "id": "b53760a2",
   "metadata": {},
   "outputs": [
    {
     "name": "stdout",
     "output_type": "stream",
     "text": [
      "Accuracy:  0.8939\n",
      "Precision: 0.8913\n",
      "Recall:    0.9535\n",
      "f1-Score:  0.9213\n",
      "AUC:       0.9626\n"
     ]
    },
    {
     "data": {
      "text/plain": [
       "<sklearn.metrics._plot.confusion_matrix.ConfusionMatrixDisplay at 0x282a0e7ffa0>"
      ]
     },
     "execution_count": 10,
     "metadata": {},
     "output_type": "execute_result"
    },
    {
     "data": {
      "image/png": "[encoded data removed]",
      "text/plain": [
       "<Figure size 432x288 with 2 Axes>"
      ]
     },
     "metadata": {
      "needs_background": "light"
     },
     "output_type": "display_data"
    }
   ],
   "source": [
    "# Evaluate metrics\n",
    "accuracy = accuracy_score(y_test, y_pred)\n",
    "precision = precision_score(y_test, y_pred)\n",
    "recall = recall_score(y_test, y_pred)\n",
    "f1 = f1_score(y_test, y_pred)\n",
    "auc = roc_auc_score(y_test, xgb_clf.predict_proba(X_test)[:, 1])\n",
    "\n",
    "# Print scores\n",
    "print(f'Accuracy:  {accuracy:.4f}')\n",
    "print(f'Precision: {precision:.4f}')\n",
    "print(f'Recall:    {recall:.4f}')\n",
    "print(f'f1-Score:  {f1:.4f}')\n",
    "print(f'AUC:       {auc:.4f}')\n",
    "\n",
    "# Confusion Matrix\n",
    "cm = confusion_matrix(y_test, y_pred)\n",
    "disp = ConfusionMatrixDisplay(confusion_matrix=cm)\n",
    "disp.plot(cmap='Blues')"
   ]
  },
  {
   "cell_type": "markdown",
   "id": "85f01fe9",
   "metadata": {},
   "source": [
    "## 🔍 Feature importance with XGBoost"
   ]
  },
  {
   "cell_type": "code",
   "execution_count": 11,
   "id": "2c7604df",
   "metadata": {},
   "outputs": [
    {
     "data": {
      "image/png": "[encoded data removed]",
      "text/plain": [
       "<Figure size 720x432 with 1 Axes>"
      ]
     },
     "metadata": {
      "needs_background": "light"
     },
     "output_type": "display_data"
    }
   ],
   "source": [
    "importances = xgb_clf.get_booster().get_score(importance_type='gain')\n",
    "\n",
    "# Convert to DataFrame and sort\n",
    "importance_df = pd.DataFrame({\n",
    "    'Feature': list(importances.keys()),\n",
    "    'Importance': list(importances.values())\n",
    "}).sort_values(by='Importance', ascending=False)\n",
    "\n",
    "# Optional: show only top N features\n",
    "top_n = 10\n",
    "importance_df = importance_df.head(top_n)\n",
    "\n",
    "# Plot with seaborn\n",
    "plt.figure(figsize=(10, 6))\n",
    "sns.barplot(data=importance_df, x='Importance', y='Feature', palette='viridis')\n",
    "plt.title(f\"Top {top_n} Feature Importances (Gain)\")\n",
    "plt.xlabel(\"Gain\")\n",
    "plt.ylabel(\"Feature\")\n",
    "plt.tight_layout()\n",
    "plt.show()\n"
   ]
  },
  {
   "cell_type": "markdown",
   "id": "556edbaa",
   "metadata": {},
   "source": [
    "------------"
   ]
  },
  {
   "cell_type": "markdown",
   "id": "38e762fd",
   "metadata": {},
   "source": [
    "📦 **Project Handoff to MLOps**\n",
    "\n",
    "Now, imagine this is the final output of a data scientist's work. This project will be handed over to a machine learning engineer, who will be responsible for versioning the model using MLflow.\n",
    "\n",
    "The engineer will set up experiment tracking, store the generated artifacts, monitor model performance metrics, and ensure the entire workflow is reproducible all as part of a well-structured MLOps pipeline.\n",
    "\n",
    "🎯 **Next Step: Hyperparameter Optimization**\n",
    "\n",
    "From this point on, we will perform hyperparameter optimization using Optuna. Meanwhile, MLflow will continue to log each experiment, allowing us to compare versions and easily identify the best set of parameters.\n",
    "\n",
    "\n",
    "---------"
   ]
  },
  {
   "cell_type": "markdown",
   "id": "544afdb2",
   "metadata": {},
   "source": [
    "## ⚙️ MLOps in Practice: Managing the Machine Learning Model Lifecycle\n",
    "\n",
    "Now, we explore how **MLOps** practices help structure, automate, and scale the machine learning model lifecycle — from data preparation and model training to deployment, monitoring, and continuous improvement. We'll demonstrate how tools like **MLflow** can streamline this process and ensure reproducibility, traceability, and collaboration across teams."
   ]
  },
  {
   "cell_type": "markdown",
   "id": "3940ddd0",
   "metadata": {},
   "source": [
    "## 🚀 Initializing the MLflow Server\n",
    "\n",
    "To start the MLflow tracking server locally, follow the steps based on your environment:\n",
    "\n",
    "---\n",
    "\n",
    "### 🐍 **Using Anaconda**\n",
    "\n",
    "1. Open the **Anaconda Command Prompt**  \n",
    "2. Navigate to your project directory:\n",
    "\n",
    "   ```bash\n",
    "   cd your-project-path\n",
    "\n",
    "3. Run the MLflow server:\n",
    "\n",
    "   ```bash\n",
    "   python -m mlflow server --host 127.0.0.1 --port 8282\n",
    "\n",
    "\n",
    "### 💻 **Using VS Code**\n",
    "\n",
    "1. Open the **terminal** in VS Code\n",
    "2. Run the command below:\n",
    "\n",
    "   ```bash\n",
    "   py -m mlflow server --host 127.0.0.1 --port 8282\n",
    "\n",
    "✅ Make sure you're using the same Python environment or kernel as the one used in your notebook or training script.\n",
    "\n",
    "-----\n",
    "\n",
    "🛰️  Now, let's define the address of the MLflow tracking server — that is, where the experiment logs (parameters, metrics, models, etc.) will be sent and stored."
   ]
  },
  {
   "cell_type": "code",
   "execution_count": 13,
   "id": "e89f0788",
   "metadata": {},
   "outputs": [],
   "source": [
    "mlflow.set_tracking_uri('http://127.0.0.1:8282')"
   ]
  },
  {
   "cell_type": "markdown",
   "id": "21494f27",
   "metadata": {},
   "source": [
    "Access the URL above from a new tab in your browser: [http://127.0.0.1:8282](http://127.0.0.1:8282)\n"
   ]
  },
  {
   "cell_type": "markdown",
   "id": "42c05a52",
   "metadata": {},
   "source": [
    "## 📈 **Monitoring the Trained Model**\n",
    "\n",
    "To properly monitor the performance of the trained model, we will generate a series of visualizations that will help us better understand how the model is behaving.\n",
    "\n",
    "These plots will assist in:\n",
    "\n",
    "* Evaluating predictive quality\n",
    "* Identifying potential bias or imbalance\n",
    "* Detecting signs of overfitting or underfitting\n",
    "* Supporting model explainability and transparency\n",
    "\n",
    "By visualizing key metrics and outputs, we can gain valuable insights that go beyond raw numbers and ensure the model remains reliable over time."
   ]
  },
  {
   "cell_type": "code",
   "execution_count": 14,
   "id": "5b9e477a",
   "metadata": {},
   "outputs": [],
   "source": [
    "def plot_corr(df, target='Channel', save_path=None, top_n=None):\n",
    "    '''\n",
    "    Parameters:\n",
    "    - df: pandas DataFrame containing the dataset\n",
    "    - target: string, name of the target column\n",
    "    - save_path: optional path to save the figure (as PNG)\n",
    "    - top_n: optional, number of top features to display based on absolute correlation\n",
    "    '''\n",
    "    # Compute correlations with the target \n",
    "    corr = df.corr()[target].drop(target)\n",
    "    corr = corr.reindex(corr.abs().sort_values().index)\n",
    "\n",
    "    # Optionally show only top N correlated features\n",
    "    if top_n:\n",
    "        corr = corr.tail(top_n)\n",
    "\n",
    "    # Set clean white style\n",
    "    sns.set_style('white')\n",
    "    fig, ax = plt.subplots(figsize=(10, 0.5 * len(corr) + 1))\n",
    "\n",
    "    # Plot horizontal bars with elegant color\n",
    "    bars = ax.barh(\n",
    "        corr.index, corr.values,\n",
    "        color='#4C72B0', edgecolor='black', height=0.6\n",
    "    )\n",
    "\n",
    "    # Add correlation values next to bars\n",
    "    for bar in bars:\n",
    "        width = bar.get_width()\n",
    "        ax.text(\n",
    "            x=width + 0.02 if width > 0 else width - 0.02,\n",
    "            y=bar.get_y() + bar.get_height() / 2,\n",
    "            s=f\"{width:.2f}\",\n",
    "            va='center',\n",
    "            ha='left' if width > 0 else 'right',\n",
    "            fontsize=11)\n",
    "\n",
    "    # Clean and minimal axes\n",
    "    ax.set_title(f\"Correlation with '{target}'\", fontsize=16, pad=12)\n",
    "    ax.set_xlabel(\"Correlation Coefficient\", fontsize=13)\n",
    "    ax.set_ylabel(\"\")\n",
    "    ax.spines['right'].set_visible(False)\n",
    "    ax.spines['top'].set_visible(False)\n",
    "    ax.spines['left'].set_color('#cccccc')\n",
    "    ax.spines['bottom'].set_color('#cccccc')\n",
    "    plt.grid(axis='x', linestyle='--', alpha=0.4)\n",
    "    plt.xticks(fontsize=11)\n",
    "    plt.yticks(fontsize=11)\n",
    "    plt.tight_layout()\n",
    "\n",
    "    # Save figure if needed\n",
    "    if save_path:\n",
    "        plt.savefig(save_path, dpi=300, bbox_inches='tight')\n",
    "\n",
    "    plt.close(fig)\n",
    "    return fig\n"
   ]
  },
  {
   "cell_type": "code",
   "execution_count": 15,
   "id": "8201dc6e",
   "metadata": {},
   "outputs": [
    {
     "data": {
      "image/png": "[encoded data removed]",
      "text/plain": [
       "<Figure size 720x324 with 1 Axes>"
      ]
     },
     "execution_count": 15,
     "metadata": {},
     "output_type": "execute_result"
    }
   ],
   "source": [
    "plot_corr(df)"
   ]
  },
  {
   "cell_type": "code",
   "execution_count": 16,
   "id": "10eb45b5",
   "metadata": {},
   "outputs": [],
   "source": [
    "def plot_confusion_matrix(y_true, y_pred, labels=None, save_path=None):\n",
    "    '''\n",
    "    Plots a styled confusion matrix with annotated counts.\n",
    "\n",
    "    Parameters:\n",
    "    - y_true: array-like, true target labels\n",
    "    - y_pred: array-like, predicted labels\n",
    "    - labels: optional list of label names (for axis ticks)\n",
    "    - save_path: optional path to save the figure as PNG\n",
    "    '''\n",
    "    # Compute confusion matrix\n",
    "    cm = confusion_matrix(y_true, y_pred)\n",
    "\n",
    "    # Set seaborn style\n",
    "    sns.set_style('whitegrid', {\n",
    "        'axes.facecolor': '#eaeaf2',\n",
    "        'grid.linewidth': 1.2})\n",
    "\n",
    "    # Create figure\n",
    "    fig, ax = plt.subplots(figsize=(8, 6))\n",
    "\n",
    "    # Plot heatmap\n",
    "    sns.heatmap(\n",
    "        cm, annot=True, fmt='d', cmap='Blues',\n",
    "        cbar=False, square=True, linewidths=0.5,\n",
    "        xticklabels=labels if labels else 'auto',\n",
    "        yticklabels=labels if labels else 'auto',\n",
    "        ax=ax)\n",
    "\n",
    "    # Titles and labels\n",
    "    ax.set_title('Confusion Matrix', fontsize=16, pad=12)\n",
    "    ax.set_xlabel('Predicted Labels', fontsize=13)\n",
    "    ax.set_ylabel('True Labels', fontsize=13)\n",
    "    ax.tick_params(axis='both', labelsize=12)\n",
    "\n",
    "    # Adjust layout\n",
    "    plt.tight_layout()\n",
    "\n",
    "    # ✅ Save if path provided\n",
    "    if save_path:\n",
    "        fig.savefig(save_path, format=\"png\", dpi=600, bbox_inches='tight')\n",
    "\n",
    "    # Close and return\n",
    "    plt.close(fig)\n",
    "    return fig\n"
   ]
  },
  {
   "cell_type": "code",
   "execution_count": 17,
   "id": "ebb947b0",
   "metadata": {},
   "outputs": [
    {
     "data": {
      "image/png": "[encoded data removed]",
      "text/plain": [
       "<Figure size 576x432 with 1 Axes>"
      ]
     },
     "execution_count": 17,
     "metadata": {},
     "output_type": "execute_result"
    }
   ],
   "source": [
    "plot_confusion_matrix(y_test, y_pred, labels=['Class 0', 'Class 1'])"
   ]
  },
  {
   "cell_type": "code",
   "execution_count": 18,
   "id": "8f56e464",
   "metadata": {},
   "outputs": [],
   "source": [
    "def plot_feature_importance(model, booster='gbtree', top_n=10, importance_type=None, save_path=None):\n",
    "    '''\n",
    "    Plots feature importance for a trained XGBoost model (either Booster or XGBClassifier).\n",
    "    '''\n",
    "    if importance_type is None:\n",
    "        importance_type = 'weight' if booster == 'gblinear' else 'gain'\n",
    "\n",
    "    # Handle both Booster and XGBClassifier\n",
    "    if hasattr(model, 'get_booster'):\n",
    "        booster_model = model.get_booster()\n",
    "    else:\n",
    "        booster_model = model  # assume it's already a Booster\n",
    "\n",
    "    # Extract feature importances\n",
    "    importances = booster_model.get_score(importance_type=importance_type)\n",
    "\n",
    "    importance_df = pd.DataFrame({\n",
    "        'Feature': list(importances.keys()),\n",
    "        'Importance': list(importances.values())\n",
    "    }).sort_values(by='Importance', ascending=False)\n",
    "\n",
    "    if top_n:\n",
    "        importance_df = importance_df.head(top_n)\n",
    "\n",
    "    sns.set_style('white')\n",
    "    plt.figure(figsize=(10, 6))\n",
    "    sns.barplot(data=importance_df, x='Importance', y='Feature', palette='viridis')\n",
    "\n",
    "    plt.title(f'Top {top_n} Feature Importances ({importance_type.title()})', fontsize=14)\n",
    "    plt.xlabel(importance_type.title(), fontsize=12)\n",
    "    plt.ylabel('Feature', fontsize=12)\n",
    "    plt.xticks(fontsize=11)\n",
    "    plt.yticks(fontsize=11)\n",
    "    plt.grid(axis='x', linestyle='--', alpha=0.3)\n",
    "    plt.tight_layout()\n",
    "\n",
    "    if save_path:\n",
    "        plt.savefig(save_path, dpi=300, bbox_inches='tight', facecolor='white')\n",
    "\n",
    "    fig = plt.gcf()\n",
    "    plt.close()\n",
    "    return fig\n"
   ]
  },
  {
   "cell_type": "code",
   "execution_count": 19,
   "id": "54e7c627",
   "metadata": {},
   "outputs": [
    {
     "data": {
      "image/png": "[encoded data removed]",
      "text/plain": [
       "<Figure size 720x432 with 1 Axes>"
      ]
     },
     "execution_count": 19,
     "metadata": {},
     "output_type": "execute_result"
    }
   ],
   "source": [
    "plot_feature_importance(xgb_clf, booster='gbtree', top_n=10, importance_type=None, save_path=None)"
   ]
  },
  {
   "cell_type": "markdown",
   "id": "b36ab2d8",
   "metadata": {},
   "source": [
    "## 🧪 Creating the experiment in MLflow"
   ]
  },
  {
   "cell_type": "code",
   "execution_count": 20,
   "id": "ec479566",
   "metadata": {},
   "outputs": [],
   "source": [
    "# Function to create an MLflow experiment\n",
    "def create_experiment(experiment_name):\n",
    "    '''\n",
    "    Creates an MLflow experiment if it doesn't already exist.\n",
    "    \n",
    "    Parameters:\n",
    "    - experiment_name: string, name of the experiment to create or retrieve\n",
    "    \n",
    "    Returns:\n",
    "    - experiment_id: the ID of the existing or newly created experiment\n",
    "    '''\n",
    "\n",
    "    # Check if the experiment already exists by name\n",
    "    if experiment := mlflow.get_experiment_by_name(experiment_name):\n",
    "        # If it exists, return its ID\n",
    "        return experiment.experiment_id\n",
    "    else:\n",
    "        # If it doesn't exist, create a new one and return its ID\n",
    "        return mlflow.create_experiment(experiment_name)"
   ]
  },
  {
   "cell_type": "code",
   "execution_count": 21,
   "id": "6f0317ff",
   "metadata": {},
   "outputs": [
    {
     "name": "stdout",
     "output_type": "stream",
     "text": [
      "The ID of experiment is: 714730485385891129\n"
     ]
    }
   ],
   "source": [
    "# creating the experiment\n",
    "id_experiment = create_experiment('mlflow-project')\n",
    "print(f'The ID of experiment is: {id_experiment}')"
   ]
  },
  {
   "cell_type": "markdown",
   "id": "2355e269",
   "metadata": {},
   "source": [
    "View it in your browser: [http://127.0.0.1:8282](http://127.0.0.1:8282)\n"
   ]
  },
  {
   "cell_type": "markdown",
   "id": "cc4dbc56",
   "metadata": {},
   "source": [
    "## 🛠️ Fine-tuning the model\n",
    "\n",
    "🔍 Imagine your job is to monitor the performance of a model developed by **the data scientist**.\\\n",
    "🚀 Since you also have data science skills, you decide to take it a step further by optimizing the model’s **hyperparameters**.\\\n",
    "🧠 You know that, for the tuning to be meaningful and leakage-free, you must work with three separate datasets:\n",
    "🏋️ The **training set** is used to adjust the model’s weights.\\\n",
    "🧪 The **validation set** helps you compare different hyperparameter configurations without touching the test set.\\\n",
    "🎯 The **test set** remains untouched until the final evaluation, ensuring that performance is measured on truly unseen data.\\\n",
    "✅ This setup ensures reliable, reproducible results and a model ready for production.\n"
   ]
  },
  {
   "cell_type": "code",
   "execution_count": 22,
   "id": "15338434",
   "metadata": {},
   "outputs": [],
   "source": [
    "X_trainval, X_test, y_trainval, y_test = train_test_split(X, y, test_size=0.3, random_state=0)\n",
    "\n",
    "# Fixed split into training and validation for all trials\n",
    "X_train, X_valid, y_train, y_valid = train_test_split(X_trainval, y_trainval, test_size=0.2, random_state=0)"
   ]
  },
  {
   "cell_type": "markdown",
   "id": "ba80cd22",
   "metadata": {},
   "source": [
    "🤖✨ **Why Use a Validation Set for Hyperparameter Tuning?** ✨🔍\n",
    "\n",
    "When performing **hyperparameter tuning** (e.g., with Optuna), it's essential to split your data into three sets: **training**, **validation**, and **test**. Here’s why:\n",
    "\n",
    "---\n",
    "\n",
    "1. 🔒 **Avoid Information Leakage**\n",
    "\n",
    "   * If you only use *train* and *test* and choose hyperparameters based on the *test* set, you're leaking information — meaning you've tuned for the *test* instead of truly measuring generalization.\n",
    "   * 🛑 The **test** set must remain **untouched** until final evaluation, simulating truly unseen data.\n",
    "\n",
    "2. 🎯 **Tune Using a Separate Set**\n",
    "\n",
    "   * **Training set:** fits the model’s weights.\n",
    "   * **Validation set:** compares different configurations (number of trees, depth, learning rate, etc.) without touching the *test* set.\n",
    "   * ✅ Only after selecting the best configuration on the *validation* set should you “freeze” the model and evaluate it on the *test* set.\n",
    "\n",
    "3. 🔄 **Reproducibility Across Trials**\n",
    "\n",
    "   * By using the same *(X\\_train, X\\_valid)* split for **all** trials, you ensure that the only change Optuna sees is the **hyperparameter**, not a new data partition each time.\n",
    "   * This makes comparisons between trials fairer and more stable.\n",
    "\n",
    "4. 📊 **Typical Data Split**\n",
    "\n",
    "   * `test_size=0.3` → 30% of the data is allocated to the **final test**.\n",
    "   * Of the remaining 70%, using `test_size=0.2` gives 14% for **validation**, and 56% remains for **training**.\n",
    "   * In summary:\n",
    "\n",
    "     * 🏋️ **Training:** 56%\n",
    "     * 🔎 **Validation:** 14%\n",
    "     * 🎯 **Test:** 30%\n",
    "\n",
    "---\n",
    "\n",
    "### 🚀 Ideal Tuning Pipeline Flow\n",
    "\n",
    "1. 🪓 **3-way split:** `train` ↔ `validation` ↔ `test`\n",
    "2. ⚙️ **Hyperparameter optimization** using **train + validation**\n",
    "3. 🏋️ **Final training** with the best configuration on **train + validation**\n",
    "4. 🎯 **Final evaluation** on the **test** set (unseen data)\n",
    "\n",
    "---\n",
    "\n",
    "✅ **Benefits:**\n",
    "\n",
    "* The model **doesn’t overfit** to the test set.\n",
    "* Hyperparameter selection is **truly generalizable**.\n",
    "* The final evaluation reflects the model’s **true performance** on new data.\n",
    "\n",
    "You're now running a tuning process that’s leakage-proof and free from biased comparisons. 😉👍\n"
   ]
  },
  {
   "cell_type": "markdown",
   "id": "9c8cb857",
   "metadata": {},
   "source": [
    "## 🎯 Maximizing F1-Score for Balanced Performance\n",
    "\n",
    "\n",
    "Here, we chose to **maximize the F1-score** as our objective in order to ensure a balanced and meaningful performance metric.\n"
   ]
  },
  {
   "cell_type": "code",
   "execution_count": 23,
   "id": "1fe2c87f",
   "metadata": {},
   "outputs": [],
   "source": [
    "def optimize_hyperparameters(trial):\n",
    "    # Convert to DMatrix\n",
    "    dsubtrain = xgb.DMatrix(X_train.values, label=y_train.values)\n",
    "    dvalid   = xgb.DMatrix(X_valid.values, label=y_valid.values)\n",
    "\n",
    "    # Hyperparameter search space\n",
    "    params = {\n",
    "        'objective':        'binary:logistic',\n",
    "        'eval_metric':      'logloss',\n",
    "        'booster':          trial.suggest_categorical('booster', ['gbtree','gblinear','dart']),\n",
    "        'learning_rate':    trial.suggest_float('learning_rate', 0.01, 0.3),\n",
    "        'max_depth':        trial.suggest_int('max_depth', 3, 10),\n",
    "        'subsample':        trial.suggest_float('subsample', 0.5, 1.0),\n",
    "        'colsample_bytree': trial.suggest_float('colsample_bytree', 0.5, 1.0),\n",
    "        'reg_lambda':       trial.suggest_float('reg_lambda', 1e-8, 1.0, log=True),\n",
    "        'reg_alpha':        trial.suggest_float('reg_alpha', 1e-8, 1.0, log=True)}\n",
    "\n",
    "    # Each trial is a nested run in MLflow\n",
    "    with mlflow.start_run(nested=True):\n",
    "        model = xgb.train(\n",
    "            params,\n",
    "            dsubtrain,\n",
    "            evals=[(dvalid, 'validation')],\n",
    "            num_boost_round=1000,\n",
    "            early_stopping_rounds=20,\n",
    "            verbose_eval=False\n",
    "        )\n",
    "\n",
    "        # Evaluate on the validation set\n",
    "        preds_proba = model.predict(dvalid)\n",
    "        preds       = (preds_proba > 0.5).astype(int)\n",
    "        f1          = f1_score(y_valid, preds)\n",
    "\n",
    "        # Log parameters and metric to MLflow\n",
    "        mlflow.log_params(params)\n",
    "        mlflow.log_metric('f1_score', f1)\n",
    "\n",
    "    # Optuna minimizes the objective, so return 1 - f1_score\n",
    "    return 1.0 - f1"
   ]
  },
  {
   "cell_type": "markdown",
   "id": "1d08b639",
   "metadata": {},
   "source": [
    "## 🏆 Tracking the Best F1-Score During Optimization\n",
    "\n",
    "This callback monitors each trial and updates the current best F1-score. Whenever a new trial achieves a better score, it logs the result and stores it as the new winner, helping track progress in real time.\n"
   ]
  },
  {
   "cell_type": "code",
   "execution_count": 24,
   "id": "410b0f60",
   "metadata": {},
   "outputs": [],
   "source": [
    "def f1_score_callback(study, frozen_trial):\n",
    "    current_winner = study.user_attrs.get('winner', None)\n",
    "    if study.best_value is not None and current_winner != study.best_value:\n",
    "        study.set_user_attr('winner', study.best_value)\n",
    "        print(f'New best F1-score: {1.0 - study.best_value:.4f} '\n",
    "              f'on trial {frozen_trial.number}')"
   ]
  },
  {
   "cell_type": "markdown",
   "id": "5e4f5d46",
   "metadata": {},
   "source": [
    "## 🧪 Full Training and Evaluation Pipeline with MLflow & Optuna\n",
    "\n",
    "This script performs a complete machine learning workflow: it starts an MLflow run, optimizes hyperparameters with Optuna, logs the best trial's results, trains the final model using both training and validation data, and evaluates it on a held-out test set. Performance metrics (accuracy, precision, recall, F1-score) and the confusion matrix are logged. Finally, the model is saved with its signature for proper versioning in MLflow’s Model Registry."
   ]
  },
  {
   "cell_type": "code",
   "execution_count": null,
   "id": "dd2a3ff7",
   "metadata": {},
   "outputs": [
    {
     "name": "stderr",
     "output_type": "stream",
     "text": [
      "[I 2025-07-21 10:38:09,976] A new study created in memory with name: no-name-e4cb8ec6-99a7-4dbc-9ee7-9c0465c1a3a4\n",
      "[I 2025-07-21 10:38:10,951] Trial 0 finished with value: 0.07499999999999996 and parameters: {'booster': 'dart', 'learning_rate': 0.15885573647153367, 'max_depth': 10, 'subsample': 0.8735189241755918, 'colsample_bytree': 0.6955256133285082, 'reg_lambda': 0.03847347946131985, 'reg_alpha': 7.055257056528654e-06}. Best is trial 0 with value: 0.07499999999999996.\n"
     ]
    },
    {
     "name": "stdout",
     "output_type": "stream",
     "text": [
      "🏃 View run inquisitive-dove-230 at: http://127.0.0.1:8282/#/experiments/714730485385891129/runs/00b4eefd0d48423c8ef7e658397c3226\n",
      "🧪 View experiment at: http://127.0.0.1:8282/#/experiments/714730485385891129\n",
      "New best F1-score: 0.9250 on trial 0\n"
     ]
    },
    {
     "name": "stderr",
     "output_type": "stream",
     "text": [
      "[I 2025-07-21 10:38:11,877] Trial 1 finished with value: 0.0864197530864198 and parameters: {'booster': 'gbtree', 'learning_rate': 0.023864713575871915, 'max_depth': 7, 'subsample': 0.5889963443777733, 'colsample_bytree': 0.7059966021773385, 'reg_lambda': 1.9568173459267192e-08, 'reg_alpha': 1.5948102085775987e-08}. Best is trial 0 with value: 0.07499999999999996.\n"
     ]
    },
    {
     "name": "stdout",
     "output_type": "stream",
     "text": [
      "🏃 View run languid-turtle-535 at: http://127.0.0.1:8282/#/experiments/714730485385891129/runs/0ebb2bc0bd994d7a8da39c51eff37ca2\n",
      "🧪 View experiment at: http://127.0.0.1:8282/#/experiments/714730485385891129\n"
     ]
    },
    {
     "name": "stderr",
     "output_type": "stream",
     "text": [
      "[I 2025-07-21 10:38:12,585] Trial 2 finished with value: 0.06172839506172845 and parameters: {'booster': 'gbtree', 'learning_rate': 0.28545036793696743, 'max_depth': 8, 'subsample': 0.802686510603103, 'colsample_bytree': 0.9010110903715293, 'reg_lambda': 0.004987789831530346, 'reg_alpha': 4.3015157062269474e-07}. Best is trial 2 with value: 0.06172839506172845.\n"
     ]
    },
    {
     "name": "stdout",
     "output_type": "stream",
     "text": [
      "🏃 View run dapper-loon-956 at: http://127.0.0.1:8282/#/experiments/714730485385891129/runs/6b16a7e899dd45839f60369a7b7a79d6\n",
      "🧪 View experiment at: http://127.0.0.1:8282/#/experiments/714730485385891129\n",
      "New best F1-score: 0.9383 on trial 2\n"
     ]
    },
    {
     "name": "stderr",
     "output_type": "stream",
     "text": [
      "[I 2025-07-21 10:38:13,486] Trial 3 finished with value: 0.07499999999999996 and parameters: {'booster': 'dart', 'learning_rate': 0.23651931422855743, 'max_depth': 7, 'subsample': 0.8518248926549162, 'colsample_bytree': 0.709183764724534, 'reg_lambda': 0.008356279692635537, 'reg_alpha': 1.0541124923462014e-06}. Best is trial 2 with value: 0.06172839506172845.\n"
     ]
    },
    {
     "name": "stdout",
     "output_type": "stream",
     "text": [
      "🏃 View run trusting-perch-802 at: http://127.0.0.1:8282/#/experiments/714730485385891129/runs/8e241f4a2e7b4262bd05a7dea665f654\n",
      "🧪 View experiment at: http://127.0.0.1:8282/#/experiments/714730485385891129\n"
     ]
    },
    {
     "name": "stderr",
     "output_type": "stream",
     "text": [
      "[I 2025-07-21 10:38:14,040] Trial 4 finished with value: 0.07317073170731703 and parameters: {'booster': 'gblinear', 'learning_rate': 0.19018933487122983, 'max_depth': 5, 'subsample': 0.8508437222120344, 'colsample_bytree': 0.5434998227000467, 'reg_lambda': 2.8391059766872615e-06, 'reg_alpha': 2.9456704733213754e-08}. Best is trial 2 with value: 0.06172839506172845.\n"
     ]
    },
    {
     "name": "stdout",
     "output_type": "stream",
     "text": [
      "🏃 View run chill-worm-402 at: http://127.0.0.1:8282/#/experiments/714730485385891129/runs/60c7dc237b61443d815dc62970a99a80\n",
      "🧪 View experiment at: http://127.0.0.1:8282/#/experiments/714730485385891129\n"
     ]
    },
    {
     "name": "stderr",
     "output_type": "stream",
     "text": [
      "[I 2025-07-21 10:38:15,065] Trial 5 finished with value: 0.06329113924050633 and parameters: {'booster': 'dart', 'learning_rate': 0.08992891647581773, 'max_depth': 4, 'subsample': 0.9049640135822523, 'colsample_bytree': 0.6306729816311212, 'reg_lambda': 0.11476994206560993, 'reg_alpha': 0.0003996850828430909}. Best is trial 2 with value: 0.06172839506172845.\n"
     ]
    },
    {
     "name": "stdout",
     "output_type": "stream",
     "text": [
      "🏃 View run peaceful-asp-535 at: http://127.0.0.1:8282/#/experiments/714730485385891129/runs/a32ff254414b4d2ebf0162768c4ebbc1\n",
      "🧪 View experiment at: http://127.0.0.1:8282/#/experiments/714730485385891129\n"
     ]
    },
    {
     "name": "stderr",
     "output_type": "stream",
     "text": [
      "[I 2025-07-21 10:38:16,337] Trial 6 finished with value: 0.06329113924050633 and parameters: {'booster': 'dart', 'learning_rate': 0.07379909990239444, 'max_depth': 9, 'subsample': 0.905627155742597, 'colsample_bytree': 0.8617362956630361, 'reg_lambda': 2.071870243215e-07, 'reg_alpha': 0.03509364748323335}. Best is trial 2 with value: 0.06172839506172845.\n"
     ]
    },
    {
     "name": "stdout",
     "output_type": "stream",
     "text": [
      "🏃 View run entertaining-fly-609 at: http://127.0.0.1:8282/#/experiments/714730485385891129/runs/e8935deeed2f4d95a75cf2e6f13f0740\n",
      "🧪 View experiment at: http://127.0.0.1:8282/#/experiments/714730485385891129\n"
     ]
    },
    {
     "name": "stderr",
     "output_type": "stream",
     "text": [
      "[I 2025-07-21 10:38:17,444] Trial 7 finished with value: 0.07499999999999996 and parameters: {'booster': 'dart', 'learning_rate': 0.2791062304952843, 'max_depth': 8, 'subsample': 0.7263573551968139, 'colsample_bytree': 0.5144743010787393, 'reg_lambda': 2.0489538934832413e-07, 'reg_alpha': 0.03679846631183643}. Best is trial 2 with value: 0.06172839506172845.\n"
     ]
    },
    {
     "name": "stdout",
     "output_type": "stream",
     "text": [
      "🏃 View run stylish-stork-863 at: http://127.0.0.1:8282/#/experiments/714730485385891129/runs/a079f536eee94fdab77150b41416e01e\n",
      "🧪 View experiment at: http://127.0.0.1:8282/#/experiments/714730485385891129\n"
     ]
    },
    {
     "name": "stderr",
     "output_type": "stream",
     "text": [
      "[I 2025-07-21 10:38:18,569] Trial 8 finished with value: 0.05128205128205132 and parameters: {'booster': 'dart', 'learning_rate': 0.2099879635670696, 'max_depth': 5, 'subsample': 0.5630356091988278, 'colsample_bytree': 0.780139565624494, 'reg_lambda': 2.056960290319782e-06, 'reg_alpha': 0.004959560315639112}. Best is trial 8 with value: 0.05128205128205132.\n"
     ]
    },
    {
     "name": "stdout",
     "output_type": "stream",
     "text": [
      "🏃 View run exultant-snail-531 at: http://127.0.0.1:8282/#/experiments/714730485385891129/runs/3a1f286e15974ad0835aa56136ebf4fa\n",
      "🧪 View experiment at: http://127.0.0.1:8282/#/experiments/714730485385891129\n",
      "New best F1-score: 0.9487 on trial 8\n"
     ]
    },
    {
     "name": "stderr",
     "output_type": "stream",
     "text": [
      "[I 2025-07-21 10:38:19,137] Trial 9 finished with value: 0.07317073170731703 and parameters: {'booster': 'gblinear', 'learning_rate': 0.2947836127469969, 'max_depth': 5, 'subsample': 0.8589097602355442, 'colsample_bytree': 0.6417803692148618, 'reg_lambda': 0.4485630078465466, 'reg_alpha': 2.8639670887446826e-08}. Best is trial 8 with value: 0.05128205128205132.\n"
     ]
    },
    {
     "name": "stdout",
     "output_type": "stream",
     "text": [
      "🏃 View run dazzling-grub-427 at: http://127.0.0.1:8282/#/experiments/714730485385891129/runs/0277ea4ce5394d2b8fed4555445913eb\n",
      "🧪 View experiment at: http://127.0.0.1:8282/#/experiments/714730485385891129\n"
     ]
    },
    {
     "name": "stderr",
     "output_type": "stream",
     "text": [
      "[I 2025-07-21 10:38:19,747] Trial 10 finished with value: 0.06329113924050633 and parameters: {'booster': 'gbtree', 'learning_rate': 0.2087621992278976, 'max_depth': 3, 'subsample': 0.520935980459102, 'colsample_bytree': 0.8104808242702847, 'reg_lambda': 6.656844983613696e-05, 'reg_alpha': 0.9024226048456632}. Best is trial 8 with value: 0.05128205128205132.\n"
     ]
    },
    {
     "name": "stdout",
     "output_type": "stream",
     "text": [
      "🏃 View run overjoyed-auk-634 at: http://127.0.0.1:8282/#/experiments/714730485385891129/runs/dda79cc0b283434dbbd545c68ae879f8\n",
      "🧪 View experiment at: http://127.0.0.1:8282/#/experiments/714730485385891129\n"
     ]
    },
    {
     "name": "stderr",
     "output_type": "stream",
     "text": [
      "[I 2025-07-21 10:38:20,372] Trial 11 finished with value: 0.06329113924050633 and parameters: {'booster': 'gbtree', 'learning_rate': 0.24562190546872092, 'max_depth': 6, 'subsample': 0.7076477348498554, 'colsample_bytree': 0.9890927342909366, 'reg_lambda': 0.0006558411835190418, 'reg_alpha': 9.676656801011129e-05}. Best is trial 8 with value: 0.05128205128205132.\n"
     ]
    },
    {
     "name": "stdout",
     "output_type": "stream",
     "text": [
      "🏃 View run gentle-cat-565 at: http://127.0.0.1:8282/#/experiments/714730485385891129/runs/d45fc373ce69426c97d0d0fc86e1b11e\n",
      "🧪 View experiment at: http://127.0.0.1:8282/#/experiments/714730485385891129\n"
     ]
    },
    {
     "name": "stderr",
     "output_type": "stream",
     "text": [
      "[I 2025-07-21 10:38:21,093] Trial 12 finished with value: 0.06329113924050633 and parameters: {'booster': 'gbtree', 'learning_rate': 0.25225843765826067, 'max_depth': 8, 'subsample': 0.6786798657148191, 'colsample_bytree': 0.9186718629608539, 'reg_lambda': 7.304549236777816e-05, 'reg_alpha': 0.0016444611245954273}. Best is trial 8 with value: 0.05128205128205132.\n"
     ]
    },
    {
     "name": "stdout",
     "output_type": "stream",
     "text": [
      "🏃 View run gifted-chimp-768 at: http://127.0.0.1:8282/#/experiments/714730485385891129/runs/89fdfbea384b48c98c8cd64b0fed9068\n",
      "🧪 View experiment at: http://127.0.0.1:8282/#/experiments/714730485385891129\n"
     ]
    },
    {
     "name": "stderr",
     "output_type": "stream",
     "text": [
      "[I 2025-07-21 10:38:21,711] Trial 13 finished with value: 0.07499999999999996 and parameters: {'booster': 'gbtree', 'learning_rate': 0.14528785295180174, 'max_depth': 6, 'subsample': 0.611965564379588, 'colsample_bytree': 0.8066410182142029, 'reg_lambda': 0.0013331691616089631, 'reg_alpha': 1.4420936294351757e-06}. Best is trial 8 with value: 0.05128205128205132.\n"
     ]
    },
    {
     "name": "stdout",
     "output_type": "stream",
     "text": [
      "🏃 View run sedate-quail-939 at: http://127.0.0.1:8282/#/experiments/714730485385891129/runs/8d61115751d64170baea280f2cea6e93\n",
      "🧪 View experiment at: http://127.0.0.1:8282/#/experiments/714730485385891129\n"
     ]
    },
    {
     "name": "stderr",
     "output_type": "stream",
     "text": [
      "[I 2025-07-21 10:38:22,324] Trial 14 finished with value: 0.07317073170731703 and parameters: {'booster': 'gblinear', 'learning_rate': 0.1987036088267738, 'max_depth': 3, 'subsample': 0.7874602732069346, 'colsample_bytree': 0.9217017170064551, 'reg_lambda': 4.336073524030525e-06, 'reg_alpha': 2.8635917633059304e-05}. Best is trial 8 with value: 0.05128205128205132.\n"
     ]
    },
    {
     "name": "stdout",
     "output_type": "stream",
     "text": [
      "🏃 View run unleashed-donkey-277 at: http://127.0.0.1:8282/#/experiments/714730485385891129/runs/564064eea12b401bba5937e0772569a5\n",
      "🧪 View experiment at: http://127.0.0.1:8282/#/experiments/714730485385891129\n"
     ]
    },
    {
     "name": "stderr",
     "output_type": "stream",
     "text": [
      "[I 2025-07-21 10:38:22,991] Trial 15 finished with value: 0.06329113924050633 and parameters: {'booster': 'dart', 'learning_rate': 0.2963354171487365, 'max_depth': 10, 'subsample': 0.9749662053855616, 'colsample_bytree': 0.7954850885765962, 'reg_lambda': 5.69614434750988e-06, 'reg_alpha': 0.00442201285737107}. Best is trial 8 with value: 0.05128205128205132.\n"
     ]
    },
    {
     "name": "stdout",
     "output_type": "stream",
     "text": [
      "🏃 View run rebellious-mare-249 at: http://127.0.0.1:8282/#/experiments/714730485385891129/runs/c4689e74ef5e49a1b15a5220b049ba65\n",
      "🧪 View experiment at: http://127.0.0.1:8282/#/experiments/714730485385891129\n"
     ]
    },
    {
     "name": "stderr",
     "output_type": "stream",
     "text": [
      "[I 2025-07-21 10:38:23,617] Trial 16 finished with value: 0.07499999999999996 and parameters: {'booster': 'gbtree', 'learning_rate': 0.13276921099530756, 'max_depth': 8, 'subsample': 0.6394847078678932, 'colsample_bytree': 0.8837387559625699, 'reg_lambda': 0.001283805421192728, 'reg_alpha': 3.5771303686156077e-07}. Best is trial 8 with value: 0.05128205128205132.\n"
     ]
    },
    {
     "name": "stdout",
     "output_type": "stream",
     "text": [
      "🏃 View run dapper-jay-471 at: http://127.0.0.1:8282/#/experiments/714730485385891129/runs/a70fddd5b68745d0939d6a735e85f7a1\n",
      "🧪 View experiment at: http://127.0.0.1:8282/#/experiments/714730485385891129\n"
     ]
    },
    {
     "name": "stderr",
     "output_type": "stream",
     "text": [
      "[I 2025-07-21 10:38:24,307] Trial 17 finished with value: 0.06329113924050633 and parameters: {'booster': 'dart', 'learning_rate': 0.2586547431817311, 'max_depth': 5, 'subsample': 0.7859626143170003, 'colsample_bytree': 0.9700603615178529, 'reg_lambda': 0.013999030593769488, 'reg_alpha': 0.02609349485242219}. Best is trial 8 with value: 0.05128205128205132.\n"
     ]
    },
    {
     "name": "stdout",
     "output_type": "stream",
     "text": [
      "🏃 View run flawless-crab-668 at: http://127.0.0.1:8282/#/experiments/714730485385891129/runs/7ecf40d74ba04856833ec6ee10d9cf45\n",
      "🧪 View experiment at: http://127.0.0.1:8282/#/experiments/714730485385891129\n"
     ]
    },
    {
     "name": "stderr",
     "output_type": "stream",
     "text": [
      "[I 2025-07-21 10:38:25,057] Trial 18 finished with value: 0.06329113924050633 and parameters: {'booster': 'gbtree', 'learning_rate': 0.2215963754707655, 'max_depth': 4, 'subsample': 0.5070825416029835, 'colsample_bytree': 0.8540175939021329, 'reg_lambda': 1.455561655992481e-05, 'reg_alpha': 0.7847156829853908}. Best is trial 8 with value: 0.05128205128205132.\n"
     ]
    },
    {
     "name": "stdout",
     "output_type": "stream",
     "text": [
      "🏃 View run polite-crane-218 at: http://127.0.0.1:8282/#/experiments/714730485385891129/runs/25e61a2cf58f4fbdae5a5f6c69e49f9a\n",
      "🧪 View experiment at: http://127.0.0.1:8282/#/experiments/714730485385891129\n"
     ]
    },
    {
     "name": "stderr",
     "output_type": "stream",
     "text": [
      "[I 2025-07-21 10:38:25,697] Trial 19 finished with value: 0.07317073170731703 and parameters: {'booster': 'gblinear', 'learning_rate': 0.17209858653245907, 'max_depth': 9, 'subsample': 0.7732352032744197, 'colsample_bytree': 0.7558456234672579, 'reg_lambda': 4.18758217790991e-07, 'reg_alpha': 1.6195374922635686e-05}. Best is trial 8 with value: 0.05128205128205132.\n"
     ]
    },
    {
     "name": "stdout",
     "output_type": "stream",
     "text": [
      "🏃 View run mercurial-fly-707 at: http://127.0.0.1:8282/#/experiments/714730485385891129/runs/d3147cdd8dea466d9d83b734833877ed\n",
      "🧪 View experiment at: http://127.0.0.1:8282/#/experiments/714730485385891129\n"
     ]
    },
    {
     "name": "stderr",
     "output_type": "stream",
     "text": [
      "[I 2025-07-21 10:38:26,451] Trial 20 finished with value: 0.06172839506172845 and parameters: {'booster': 'dart', 'learning_rate': 0.2682203333956845, 'max_depth': 6, 'subsample': 0.5605795963216794, 'colsample_bytree': 0.773985156766619, 'reg_lambda': 0.00040856419353251764, 'reg_alpha': 0.0006379914323449655}. Best is trial 8 with value: 0.05128205128205132.\n"
     ]
    },
    {
     "name": "stdout",
     "output_type": "stream",
     "text": [
      "🏃 View run honorable-skink-861 at: http://127.0.0.1:8282/#/experiments/714730485385891129/runs/3b0d6d41de62430ba4e69a0c4806dc67\n",
      "🧪 View experiment at: http://127.0.0.1:8282/#/experiments/714730485385891129\n"
     ]
    },
    {
     "name": "stderr",
     "output_type": "stream",
     "text": [
      "[I 2025-07-21 10:38:27,229] Trial 21 finished with value: 0.06329113924050633 and parameters: {'booster': 'dart', 'learning_rate': 0.2570050213689123, 'max_depth': 6, 'subsample': 0.5577355709865489, 'colsample_bytree': 0.7565284756532761, 'reg_lambda': 0.0003171284624209201, 'reg_alpha': 0.0006977914663188338}. Best is trial 8 with value: 0.05128205128205132.\n"
     ]
    },
    {
     "name": "stdout",
     "output_type": "stream",
     "text": [
      "🏃 View run victorious-jay-389 at: http://127.0.0.1:8282/#/experiments/714730485385891129/runs/10b1593884ee46e0b7cba1d31bf67f3b\n",
      "🧪 View experiment at: http://127.0.0.1:8282/#/experiments/714730485385891129\n"
     ]
    },
    {
     "name": "stderr",
     "output_type": "stream",
     "text": [
      "[I 2025-07-21 10:38:27,918] Trial 22 finished with value: 0.06329113924050633 and parameters: {'booster': 'dart', 'learning_rate': 0.26902927265101173, 'max_depth': 7, 'subsample': 0.6619809722203912, 'colsample_bytree': 0.8378072111184457, 'reg_lambda': 0.00359048922822193, 'reg_alpha': 0.00010707378052022188}. Best is trial 8 with value: 0.05128205128205132.\n"
     ]
    },
    {
     "name": "stdout",
     "output_type": "stream",
     "text": [
      "🏃 View run exultant-newt-61 at: http://127.0.0.1:8282/#/experiments/714730485385891129/runs/f74b9b778e574d72a9c963e1840c55b6\n",
      "🧪 View experiment at: http://127.0.0.1:8282/#/experiments/714730485385891129\n"
     ]
    },
    {
     "name": "stderr",
     "output_type": "stream",
     "text": [
      "[I 2025-07-21 10:38:28,626] Trial 23 finished with value: 0.07499999999999996 and parameters: {'booster': 'dart', 'learning_rate': 0.217500671211235, 'max_depth': 4, 'subsample': 0.5611848194024137, 'colsample_bytree': 0.9089640836122127, 'reg_lambda': 0.00016533834467598752, 'reg_alpha': 0.006540660102203945}. Best is trial 8 with value: 0.05128205128205132.\n"
     ]
    },
    {
     "name": "stdout",
     "output_type": "stream",
     "text": [
      "🏃 View run placid-loon-489 at: http://127.0.0.1:8282/#/experiments/714730485385891129/runs/f912daf2461c4c1bad786afafada028a\n",
      "🧪 View experiment at: http://127.0.0.1:8282/#/experiments/714730485385891129\n"
     ]
    },
    {
     "name": "stderr",
     "output_type": "stream",
     "text": [
      "[I 2025-07-21 10:38:29,381] Trial 24 finished with value: 0.07499999999999996 and parameters: {'booster': 'dart', 'learning_rate': 0.2995797688799477, 'max_depth': 5, 'subsample': 0.6237051245275643, 'colsample_bytree': 0.6470995344730938, 'reg_lambda': 4.021102819742977e-05, 'reg_alpha': 0.11398284868508528}. Best is trial 8 with value: 0.05128205128205132.\n"
     ]
    },
    {
     "name": "stdout",
     "output_type": "stream",
     "text": [
      "🏃 View run upset-ape-159 at: http://127.0.0.1:8282/#/experiments/714730485385891129/runs/fbd6ff84572840d5bb4a44daa3c15030\n",
      "🧪 View experiment at: http://127.0.0.1:8282/#/experiments/714730485385891129\n"
     ]
    },
    {
     "name": "stderr",
     "output_type": "stream",
     "text": [
      "[I 2025-07-21 10:38:29,990] Trial 25 finished with value: 0.06329113924050633 and parameters: {'booster': 'gbtree', 'learning_rate': 0.23150515132403449, 'max_depth': 6, 'subsample': 0.5591851843815532, 'colsample_bytree': 0.775858901996059, 'reg_lambda': 9.393907744225029e-07, 'reg_alpha': 0.0001622472370773916}. Best is trial 8 with value: 0.05128205128205132.\n"
     ]
    },
    {
     "name": "stdout",
     "output_type": "stream",
     "text": [
      "🏃 View run industrious-bug-957 at: http://127.0.0.1:8282/#/experiments/714730485385891129/runs/b3f0eea70e2f4fbe8b753d8cf851a4f1\n",
      "🧪 View experiment at: http://127.0.0.1:8282/#/experiments/714730485385891129\n"
     ]
    },
    {
     "name": "stderr",
     "output_type": "stream",
     "text": [
      "[I 2025-07-21 10:38:30,708] Trial 26 finished with value: 0.06329113924050633 and parameters: {'booster': 'dart', 'learning_rate': 0.18144600340554629, 'max_depth': 9, 'subsample': 0.7472518558870686, 'colsample_bytree': 0.95416061452227, 'reg_lambda': 2.570627884848172e-08, 'reg_alpha': 2.7382241549851047e-07}. Best is trial 8 with value: 0.05128205128205132.\n"
     ]
    },
    {
     "name": "stdout",
     "output_type": "stream",
     "text": [
      "🏃 View run silent-fly-664 at: http://127.0.0.1:8282/#/experiments/714730485385891129/runs/f81ac6e746004027a541ef164ab96a96\n",
      "🧪 View experiment at: http://127.0.0.1:8282/#/experiments/714730485385891129\n"
     ]
    },
    {
     "name": "stderr",
     "output_type": "stream",
     "text": [
      "[I 2025-07-21 10:38:31,558] Trial 27 finished with value: 0.0864197530864198 and parameters: {'booster': 'dart', 'learning_rate': 0.11429262262760102, 'max_depth': 7, 'subsample': 0.7012440254910816, 'colsample_bytree': 0.5918345485576733, 'reg_lambda': 1.9677566783918852e-05, 'reg_alpha': 0.00791718662885371}. Best is trial 8 with value: 0.05128205128205132.\n"
     ]
    },
    {
     "name": "stdout",
     "output_type": "stream",
     "text": [
      "🏃 View run spiffy-hawk-279 at: http://127.0.0.1:8282/#/experiments/714730485385891129/runs/e98fe9aff30944e4aebdef84a0cc558e\n",
      "🧪 View experiment at: http://127.0.0.1:8282/#/experiments/714730485385891129\n"
     ]
    },
    {
     "name": "stderr",
     "output_type": "stream",
     "text": [
      "[I 2025-07-21 10:38:32,134] Trial 28 finished with value: 0.07317073170731703 and parameters: {'booster': 'gblinear', 'learning_rate': 0.2739607647983983, 'max_depth': 8, 'subsample': 0.5001517923384733, 'colsample_bytree': 0.7201741723419088, 'reg_lambda': 0.0031643226103757237, 'reg_alpha': 4.481840583356846e-06}. Best is trial 8 with value: 0.05128205128205132.\n"
     ]
    },
    {
     "name": "stdout",
     "output_type": "stream",
     "text": [
      "🏃 View run rambunctious-asp-263 at: http://127.0.0.1:8282/#/experiments/714730485385891129/runs/0239fe8e08cc473d9a5f070a7e437096\n",
      "🧪 View experiment at: http://127.0.0.1:8282/#/experiments/714730485385891129\n"
     ]
    },
    {
     "name": "stderr",
     "output_type": "stream",
     "text": [
      "[I 2025-07-21 10:38:32,743] Trial 29 finished with value: 0.0864197530864198 and parameters: {'booster': 'gbtree', 'learning_rate': 0.27984754948388035, 'max_depth': 6, 'subsample': 0.8166914135405415, 'colsample_bytree': 0.6741294729695279, 'reg_lambda': 0.07336290397701098, 'reg_alpha': 0.0012896606326752854}. Best is trial 8 with value: 0.05128205128205132.\n"
     ]
    },
    {
     "name": "stdout",
     "output_type": "stream",
     "text": [
      "🏃 View run stately-newt-337 at: http://127.0.0.1:8282/#/experiments/714730485385891129/runs/b51a68a3a6b64fb8b40dc643a5442068\n",
      "🧪 View experiment at: http://127.0.0.1:8282/#/experiments/714730485385891129\n"
     ]
    },
    {
     "name": "stderr",
     "output_type": "stream",
     "text": [
      "[I 2025-07-21 10:38:33,498] Trial 30 finished with value: 0.06329113924050633 and parameters: {'booster': 'dart', 'learning_rate': 0.1588591379213676, 'max_depth': 4, 'subsample': 0.5985891202242911, 'colsample_bytree': 0.8222924488888379, 'reg_lambda': 0.03249474168355713, 'reg_alpha': 2.9442266997136738e-05}. Best is trial 8 with value: 0.05128205128205132.\n"
     ]
    },
    {
     "name": "stdout",
     "output_type": "stream",
     "text": [
      "🏃 View run honorable-shrike-45 at: http://127.0.0.1:8282/#/experiments/714730485385891129/runs/72bf1f19c4fb42c8972b7235c5073e25\n",
      "🧪 View experiment at: http://127.0.0.1:8282/#/experiments/714730485385891129\n"
     ]
    },
    {
     "name": "stderr",
     "output_type": "stream",
     "text": [
      "[I 2025-07-21 10:38:34,607] Trial 31 finished with value: 0.06329113924050633 and parameters: {'booster': 'dart', 'learning_rate': 0.08583600210777752, 'max_depth': 4, 'subsample': 0.9136943136361593, 'colsample_bytree': 0.598580939029478, 'reg_lambda': 0.6528750637603602, 'reg_alpha': 0.00037326863732414014}. Best is trial 8 with value: 0.05128205128205132.\n"
     ]
    },
    {
     "name": "stdout",
     "output_type": "stream",
     "text": [
      "🏃 View run clean-sponge-865 at: http://127.0.0.1:8282/#/experiments/714730485385891129/runs/fad2e4c3a2c24dfca69f728adbf31567\n",
      "🧪 View experiment at: http://127.0.0.1:8282/#/experiments/714730485385891129\n"
     ]
    },
    {
     "name": "stderr",
     "output_type": "stream",
     "text": [
      "[I 2025-07-21 10:38:37,547] Trial 32 finished with value: 0.06329113924050633 and parameters: {'booster': 'dart', 'learning_rate': 0.03247456593484642, 'max_depth': 5, 'subsample': 0.9837401770347458, 'colsample_bytree': 0.7281059379330715, 'reg_lambda': 0.1584810160308075, 'reg_alpha': 0.00034978220267427627}. Best is trial 8 with value: 0.05128205128205132.\n"
     ]
    },
    {
     "name": "stdout",
     "output_type": "stream",
     "text": [
      "🏃 View run upset-squirrel-544 at: http://127.0.0.1:8282/#/experiments/714730485385891129/runs/547b062ee7a04403a1721379e058d452\n",
      "🧪 View experiment at: http://127.0.0.1:8282/#/experiments/714730485385891129\n"
     ]
    },
    {
     "name": "stderr",
     "output_type": "stream",
     "text": [
      "[I 2025-07-21 10:38:38,695] Trial 33 finished with value: 0.06329113924050633 and parameters: {'booster': 'dart', 'learning_rate': 0.06616351598859868, 'max_depth': 3, 'subsample': 0.9385771337105588, 'colsample_bytree': 0.6804835841561863, 'reg_lambda': 0.019608881480588577, 'reg_alpha': 0.0027325127069352364}. Best is trial 8 with value: 0.05128205128205132.\n"
     ]
    },
    {
     "name": "stdout",
     "output_type": "stream",
     "text": [
      "🏃 View run bouncy-owl-487 at: http://127.0.0.1:8282/#/experiments/714730485385891129/runs/ffd1897b949f4fb0a20fc3adf327e7e1\n",
      "🧪 View experiment at: http://127.0.0.1:8282/#/experiments/714730485385891129\n"
     ]
    },
    {
     "name": "stderr",
     "output_type": "stream",
     "text": [
      "[I 2025-07-21 10:38:39,745] Trial 34 finished with value: 0.06329113924050633 and parameters: {'booster': 'dart', 'learning_rate': 0.11265161759548047, 'max_depth': 4, 'subsample': 0.8868731989051788, 'colsample_bytree': 0.5894029757325967, 'reg_lambda': 0.18792082067938573, 'reg_alpha': 4.274298143120911e-06}. Best is trial 8 with value: 0.05128205128205132.\n"
     ]
    },
    {
     "name": "stdout",
     "output_type": "stream",
     "text": [
      "🏃 View run adorable-gnu-818 at: http://127.0.0.1:8282/#/experiments/714730485385891129/runs/999b96ddf765482aae482dbabae4d0d7\n",
      "🧪 View experiment at: http://127.0.0.1:8282/#/experiments/714730485385891129\n"
     ]
    },
    {
     "name": "stderr",
     "output_type": "stream",
     "text": [
      "[I 2025-07-21 10:38:41,091] Trial 35 finished with value: 0.06329113924050633 and parameters: {'booster': 'dart', 'learning_rate': 0.047819095344377685, 'max_depth': 7, 'subsample': 0.8280420859463811, 'colsample_bytree': 0.7800533527017407, 'reg_lambda': 0.007652434022809243, 'reg_alpha': 0.01045059271325208}. Best is trial 8 with value: 0.05128205128205132.\n"
     ]
    },
    {
     "name": "stdout",
     "output_type": "stream",
     "text": [
      "🏃 View run casual-whale-680 at: http://127.0.0.1:8282/#/experiments/714730485385891129/runs/d7350fb9330748059c49c7fc68ed1a8b\n",
      "🧪 View experiment at: http://127.0.0.1:8282/#/experiments/714730485385891129\n"
     ]
    },
    {
     "name": "stderr",
     "output_type": "stream",
     "text": [
      "[I 2025-07-21 10:38:41,878] Trial 36 finished with value: 0.06329113924050633 and parameters: {'booster': 'dart', 'learning_rate': 0.23272631644099126, 'max_depth': 5, 'subsample': 0.9445419030184554, 'colsample_bytree': 0.6410605149548134, 'reg_lambda': 0.0002658686825383092, 'reg_alpha': 0.13922550347477256}. Best is trial 8 with value: 0.05128205128205132.\n"
     ]
    },
    {
     "name": "stdout",
     "output_type": "stream",
     "text": [
      "🏃 View run peaceful-fawn-843 at: http://127.0.0.1:8282/#/experiments/714730485385891129/runs/7e1b1b6cdf114613a0f92090537f594f\n",
      "🧪 View experiment at: http://127.0.0.1:8282/#/experiments/714730485385891129\n"
     ]
    },
    {
     "name": "stderr",
     "output_type": "stream",
     "text": [
      "[I 2025-07-21 10:38:42,544] Trial 37 finished with value: 0.06329113924050633 and parameters: {'booster': 'gbtree', 'learning_rate': 0.20283761244540507, 'max_depth': 7, 'subsample': 0.8291717346053131, 'colsample_bytree': 0.5424536404693339, 'reg_lambda': 0.10582819749618896, 'reg_alpha': 2.0437506952729232e-07}. Best is trial 8 with value: 0.05128205128205132.\n"
     ]
    },
    {
     "name": "stdout",
     "output_type": "stream",
     "text": [
      "🏃 View run legendary-frog-261 at: http://127.0.0.1:8282/#/experiments/714730485385891129/runs/bc742eaf17b3429e838f55f2aaa557ff\n",
      "🧪 View experiment at: http://127.0.0.1:8282/#/experiments/714730485385891129\n"
     ]
    },
    {
     "name": "stderr",
     "output_type": "stream",
     "text": [
      "[I 2025-07-21 10:38:43,184] Trial 38 finished with value: 0.07317073170731703 and parameters: {'booster': 'gblinear', 'learning_rate': 0.09775938068453004, 'max_depth': 10, 'subsample': 0.5793659519176139, 'colsample_bytree': 0.8728180792181579, 'reg_lambda': 0.04173359055565863, 'reg_alpha': 8.023828986681463e-08}. Best is trial 8 with value: 0.05128205128205132.\n"
     ]
    },
    {
     "name": "stdout",
     "output_type": "stream",
     "text": [
      "🏃 View run indecisive-hawk-803 at: http://127.0.0.1:8282/#/experiments/714730485385891129/runs/b00c277af8ee4a7392d809255d30048e\n",
      "🧪 View experiment at: http://127.0.0.1:8282/#/experiments/714730485385891129\n"
     ]
    },
    {
     "name": "stderr",
     "output_type": "stream",
     "text": [
      "[I 2025-07-21 10:38:44,162] Trial 39 finished with value: 0.0864197530864198 and parameters: {'booster': 'dart', 'learning_rate': 0.2808677118527621, 'max_depth': 5, 'subsample': 0.5357871434402185, 'colsample_bytree': 0.6999092974279626, 'reg_lambda': 1.3319793737847052e-08, 'reg_alpha': 5.812922774307838e-05}. Best is trial 8 with value: 0.05128205128205132.\n"
     ]
    },
    {
     "name": "stdout",
     "output_type": "stream",
     "text": [
      "🏃 View run delightful-bass-927 at: http://127.0.0.1:8282/#/experiments/714730485385891129/runs/7154703331da4d95b7cd06bfacf71eb5\n",
      "🧪 View experiment at: http://127.0.0.1:8282/#/experiments/714730485385891129\n"
     ]
    },
    {
     "name": "stderr",
     "output_type": "stream",
     "text": [
      "[I 2025-07-21 10:38:44,839] Trial 40 finished with value: 0.06329113924050633 and parameters: {'booster': 'gbtree', 'learning_rate': 0.24231450263482482, 'max_depth': 6, 'subsample': 0.7444992425666597, 'colsample_bytree': 0.7348715512062414, 'reg_lambda': 4.872040125698452e-08, 'reg_alpha': 0.0003845711733266249}. Best is trial 8 with value: 0.05128205128205132.\n"
     ]
    },
    {
     "name": "stdout",
     "output_type": "stream",
     "text": [
      "🏃 View run rogue-snake-923 at: http://127.0.0.1:8282/#/experiments/714730485385891129/runs/7779dc61aa864102a2f3766682677381\n",
      "🧪 View experiment at: http://127.0.0.1:8282/#/experiments/714730485385891129\n"
     ]
    },
    {
     "name": "stderr",
     "output_type": "stream",
     "text": [
      "[I 2025-07-21 10:38:46,179] Trial 41 finished with value: 0.06329113924050633 and parameters: {'booster': 'dart', 'learning_rate': 0.06891684875917937, 'max_depth': 9, 'subsample': 0.9316578724954474, 'colsample_bytree': 0.8595931111323477, 'reg_lambda': 2.2728333567374436e-07, 'reg_alpha': 0.0224042498514354}. Best is trial 8 with value: 0.05128205128205132.\n"
     ]
    },
    {
     "name": "stdout",
     "output_type": "stream",
     "text": [
      "🏃 View run bald-eel-912 at: http://127.0.0.1:8282/#/experiments/714730485385891129/runs/786c874cfaeb42ef94354ef851bb43fa\n",
      "🧪 View experiment at: http://127.0.0.1:8282/#/experiments/714730485385891129\n"
     ]
    },
    {
     "name": "stderr",
     "output_type": "stream",
     "text": [
      "[I 2025-07-21 10:38:47,543] Trial 42 finished with value: 0.06329113924050633 and parameters: {'booster': 'dart', 'learning_rate': 0.06789297171774045, 'max_depth': 9, 'subsample': 0.8781478715369622, 'colsample_bytree': 0.8971912134515275, 'reg_lambda': 4.348866184988436e-08, 'reg_alpha': 0.10534842823466418}. Best is trial 8 with value: 0.05128205128205132.\n"
     ]
    },
    {
     "name": "stdout",
     "output_type": "stream",
     "text": [
      "🏃 View run amazing-frog-802 at: http://127.0.0.1:8282/#/experiments/714730485385891129/runs/444c2b4f755c4b39adf23b46c797f240\n",
      "🧪 View experiment at: http://127.0.0.1:8282/#/experiments/714730485385891129\n"
     ]
    },
    {
     "name": "stderr",
     "output_type": "stream",
     "text": [
      "[I 2025-07-21 10:38:55,468] Trial 43 finished with value: 0.07499999999999996 and parameters: {'booster': 'dart', 'learning_rate': 0.012366358799732899, 'max_depth': 8, 'subsample': 0.9071632634757241, 'colsample_bytree': 0.8354158942953543, 'reg_lambda': 1.3565919752564787e-06, 'reg_alpha': 0.0012109218885900264}. Best is trial 8 with value: 0.05128205128205132.\n"
     ]
    },
    {
     "name": "stdout",
     "output_type": "stream",
     "text": [
      "🏃 View run enthused-doe-935 at: http://127.0.0.1:8282/#/experiments/714730485385891129/runs/72a3903f94d44304a94b12ba741158d5\n",
      "🧪 View experiment at: http://127.0.0.1:8282/#/experiments/714730485385891129\n"
     ]
    },
    {
     "name": "stderr",
     "output_type": "stream",
     "text": [
      "[I 2025-07-21 10:38:56,301] Trial 44 finished with value: 0.06329113924050633 and parameters: {'booster': 'dart', 'learning_rate': 0.12953845230107983, 'max_depth': 10, 'subsample': 0.8594206107621994, 'colsample_bytree': 0.9437322581716504, 'reg_lambda': 0.0006983594681273483, 'reg_alpha': 0.05093545323393102}. Best is trial 8 with value: 0.05128205128205132.\n"
     ]
    },
    {
     "name": "stdout",
     "output_type": "stream",
     "text": [
      "🏃 View run burly-moth-988 at: http://127.0.0.1:8282/#/experiments/714730485385891129/runs/48528734c3d04839beba6c4acd70c46a\n",
      "🧪 View experiment at: http://127.0.0.1:8282/#/experiments/714730485385891129\n"
     ]
    },
    {
     "name": "stderr",
     "output_type": "stream",
     "text": [
      "[I 2025-07-21 10:38:57,093] Trial 45 finished with value: 0.06329113924050633 and parameters: {'booster': 'gbtree', 'learning_rate': 0.08722775822992733, 'max_depth': 9, 'subsample': 0.9616000895550924, 'colsample_bytree': 0.9995188345546799, 'reg_lambda': 9.908459933571511e-08, 'reg_alpha': 1.337867908329243e-08}. Best is trial 8 with value: 0.05128205128205132.\n"
     ]
    },
    {
     "name": "stdout",
     "output_type": "stream",
     "text": [
      "🏃 View run wistful-squirrel-851 at: http://127.0.0.1:8282/#/experiments/714730485385891129/runs/e157e9a3c1d5462c86c266c4145502a5\n",
      "🧪 View experiment at: http://127.0.0.1:8282/#/experiments/714730485385891129\n"
     ]
    },
    {
     "name": "stderr",
     "output_type": "stream",
     "text": [
      "[I 2025-07-21 10:38:58,350] Trial 46 finished with value: 0.06329113924050633 and parameters: {'booster': 'dart', 'learning_rate': 0.051806223236648234, 'max_depth': 3, 'subsample': 0.890125062731475, 'colsample_bytree': 0.7851614788816884, 'reg_lambda': 0.004167668426262376, 'reg_alpha': 0.0168391249480341}. Best is trial 8 with value: 0.05128205128205132.\n"
     ]
    },
    {
     "name": "stdout",
     "output_type": "stream",
     "text": [
      "🏃 View run skillful-carp-49 at: http://127.0.0.1:8282/#/experiments/714730485385891129/runs/bb8a68f5947e4269b0064950c600b322\n",
      "🧪 View experiment at: http://127.0.0.1:8282/#/experiments/714730485385891129\n"
     ]
    },
    {
     "name": "stderr",
     "output_type": "stream",
     "text": [
      "[I 2025-07-21 10:38:58,939] Trial 47 finished with value: 0.07317073170731703 and parameters: {'booster': 'gblinear', 'learning_rate': 0.15309501472123968, 'max_depth': 8, 'subsample': 0.8055906548701638, 'colsample_bytree': 0.8087725452009448, 'reg_lambda': 0.3481748670130799, 'reg_alpha': 0.0029039036921349264}. Best is trial 8 with value: 0.05128205128205132.\n"
     ]
    },
    {
     "name": "stdout",
     "output_type": "stream",
     "text": [
      "🏃 View run colorful-elk-590 at: http://127.0.0.1:8282/#/experiments/714730485385891129/runs/1831647d7876429dba97e445dd3afdf5\n",
      "🧪 View experiment at: http://127.0.0.1:8282/#/experiments/714730485385891129\n"
     ]
    },
    {
     "name": "stderr",
     "output_type": "stream",
     "text": [
      "[I 2025-07-21 10:38:59,580] Trial 48 finished with value: 0.06329113924050633 and parameters: {'booster': 'gbtree', 'learning_rate': 0.26357055327429313, 'max_depth': 4, 'subsample': 0.9972172581843822, 'colsample_bytree': 0.7518447568641304, 'reg_lambda': 1.8867793319446287e-06, 'reg_alpha': 0.3872034089760919}. Best is trial 8 with value: 0.05128205128205132.\n"
     ]
    },
    {
     "name": "stdout",
     "output_type": "stream",
     "text": [
      "🏃 View run redolent-cod-42 at: http://127.0.0.1:8282/#/experiments/714730485385891129/runs/418809058c5140e8add1155aee76d344\n",
      "🧪 View experiment at: http://127.0.0.1:8282/#/experiments/714730485385891129\n"
     ]
    },
    {
     "name": "stderr",
     "output_type": "stream",
     "text": [
      "[I 2025-07-21 10:39:00,468] Trial 49 finished with value: 0.06329113924050633 and parameters: {'booster': 'dart', 'learning_rate': 0.18649733902450383, 'max_depth': 5, 'subsample': 0.8489893150441071, 'colsample_bytree': 0.8843268417925446, 'reg_lambda': 0.0010992417103683194, 'reg_alpha': 1.125796440373583e-06}. Best is trial 8 with value: 0.05128205128205132.\n"
     ]
    },
    {
     "name": "stdout",
     "output_type": "stream",
     "text": [
      "🏃 View run bittersweet-duck-516 at: http://127.0.0.1:8282/#/experiments/714730485385891129/runs/ccb8194e724942fca735577d9acf9aa0\n",
      "🧪 View experiment at: http://127.0.0.1:8282/#/experiments/714730485385891129\n"
     ]
    },
    {
     "name": "stderr",
     "output_type": "stream",
     "text": [
      "[I 2025-07-21 10:39:01,457] Trial 50 finished with value: 0.050000000000000044 and parameters: {'booster': 'dart', 'learning_rate': 0.21719155843556143, 'max_depth': 6, 'subsample': 0.648563833055876, 'colsample_bytree': 0.9308107110713872, 'reg_lambda': 8.78948648049235e-06, 'reg_alpha': 0.0009674195013524899}. Best is trial 50 with value: 0.050000000000000044.\n"
     ]
    },
    {
     "name": "stdout",
     "output_type": "stream",
     "text": [
      "🏃 View run polite-shad-349 at: http://127.0.0.1:8282/#/experiments/714730485385891129/runs/77af8424f45842898ea983fc3aa39363\n",
      "🧪 View experiment at: http://127.0.0.1:8282/#/experiments/714730485385891129\n",
      "New best F1-score: 0.9500 on trial 50\n"
     ]
    },
    {
     "name": "stderr",
     "output_type": "stream",
     "text": [
      "[I 2025-07-21 10:39:02,214] Trial 51 finished with value: 0.06329113924050633 and parameters: {'booster': 'dart', 'learning_rate': 0.21993971091454162, 'max_depth': 6, 'subsample': 0.6470627782292346, 'colsample_bytree': 0.9318915944548378, 'reg_lambda': 1.0861766475614547e-05, 'reg_alpha': 0.0007727872569677503}. Best is trial 50 with value: 0.050000000000000044.\n"
     ]
    },
    {
     "name": "stdout",
     "output_type": "stream",
     "text": [
      "🏃 View run rare-robin-50 at: http://127.0.0.1:8282/#/experiments/714730485385891129/runs/43dc7eeb12e747e2b64461c1cfa451c3\n",
      "🧪 View experiment at: http://127.0.0.1:8282/#/experiments/714730485385891129\n"
     ]
    },
    {
     "name": "stderr",
     "output_type": "stream",
     "text": [
      "[I 2025-07-21 10:39:03,011] Trial 52 finished with value: 0.07499999999999996 and parameters: {'booster': 'dart', 'learning_rate': 0.2864050324178569, 'max_depth': 6, 'subsample': 0.6751053932928103, 'colsample_bytree': 0.9617644375599819, 'reg_lambda': 3.821172143009492e-06, 'reg_alpha': 0.003024474429632709}. Best is trial 50 with value: 0.050000000000000044.\n"
     ]
    },
    {
     "name": "stdout",
     "output_type": "stream",
     "text": [
      "🏃 View run sedate-mule-80 at: http://127.0.0.1:8282/#/experiments/714730485385891129/runs/aca38bade212434790c3e6c19be09db7\n",
      "🧪 View experiment at: http://127.0.0.1:8282/#/experiments/714730485385891129\n"
     ]
    },
    {
     "name": "stderr",
     "output_type": "stream",
     "text": [
      "[I 2025-07-21 10:39:03,802] Trial 53 finished with value: 0.0864197530864198 and parameters: {'booster': 'dart', 'learning_rate': 0.17517284604041575, 'max_depth': 5, 'subsample': 0.5331681226421553, 'colsample_bytree': 0.9052141172101474, 'reg_lambda': 5.733880397659639e-07, 'reg_alpha': 0.00016431213176317373}. Best is trial 50 with value: 0.050000000000000044.\n"
     ]
    },
    {
     "name": "stdout",
     "output_type": "stream",
     "text": [
      "🏃 View run wistful-croc-920 at: http://127.0.0.1:8282/#/experiments/714730485385891129/runs/1eb16b164e61459eb42349b9f484a487\n",
      "🧪 View experiment at: http://127.0.0.1:8282/#/experiments/714730485385891129\n"
     ]
    },
    {
     "name": "stderr",
     "output_type": "stream",
     "text": [
      "[I 2025-07-21 10:39:04,666] Trial 54 finished with value: 0.050000000000000044 and parameters: {'booster': 'dart', 'learning_rate': 0.24707518188523153, 'max_depth': 7, 'subsample': 0.5842214112123361, 'colsample_bytree': 0.8306973235793904, 'reg_lambda': 5.05520261753103e-05, 'reg_alpha': 5.8400786903044566e-05}. Best is trial 50 with value: 0.050000000000000044.\n"
     ]
    },
    {
     "name": "stdout",
     "output_type": "stream",
     "text": [
      "🏃 View run omniscient-wasp-645 at: http://127.0.0.1:8282/#/experiments/714730485385891129/runs/1adbcb3375644b9a90652201acd6e7ac\n",
      "🧪 View experiment at: http://127.0.0.1:8282/#/experiments/714730485385891129\n"
     ]
    },
    {
     "name": "stderr",
     "output_type": "stream",
     "text": [
      "[I 2025-07-21 10:39:05,889] Trial 55 finished with value: 0.06329113924050633 and parameters: {'booster': 'dart', 'learning_rate': 0.24805652608303402, 'max_depth': 7, 'subsample': 0.5814971830757105, 'colsample_bytree': 0.843160716275031, 'reg_lambda': 3.674204279598338e-05, 'reg_alpha': 9.69769015996829e-06}. Best is trial 50 with value: 0.050000000000000044.\n"
     ]
    },
    {
     "name": "stdout",
     "output_type": "stream",
     "text": [
      "🏃 View run suave-loon-611 at: http://127.0.0.1:8282/#/experiments/714730485385891129/runs/3aa661a2c13b4ab894f6d150f01b7208\n",
      "🧪 View experiment at: http://127.0.0.1:8282/#/experiments/714730485385891129\n"
     ]
    },
    {
     "name": "stderr",
     "output_type": "stream",
     "text": [
      "[I 2025-07-21 10:39:06,841] Trial 56 finished with value: 0.050000000000000044 and parameters: {'booster': 'dart', 'learning_rate': 0.19507411203348718, 'max_depth': 7, 'subsample': 0.6168713923980875, 'colsample_bytree': 0.8226972485831686, 'reg_lambda': 0.00012225349386164015, 'reg_alpha': 0.00025359665848894764}. Best is trial 50 with value: 0.050000000000000044.\n"
     ]
    },
    {
     "name": "stdout",
     "output_type": "stream",
     "text": [
      "🏃 View run clumsy-cod-765 at: http://127.0.0.1:8282/#/experiments/714730485385891129/runs/a38328ae876645bbb3e349c244d54955\n",
      "🧪 View experiment at: http://127.0.0.1:8282/#/experiments/714730485385891129\n"
     ]
    },
    {
     "name": "stderr",
     "output_type": "stream",
     "text": [
      "[I 2025-07-21 10:39:07,709] Trial 57 finished with value: 0.07317073170731703 and parameters: {'booster': 'dart', 'learning_rate': 0.1958254815435678, 'max_depth': 7, 'subsample': 0.6210201258025628, 'colsample_bytree': 0.7709866422417637, 'reg_lambda': 0.00010025960754815442, 'reg_alpha': 3.264026018888693e-05}. Best is trial 50 with value: 0.050000000000000044.\n"
     ]
    },
    {
     "name": "stdout",
     "output_type": "stream",
     "text": [
      "🏃 View run treasured-koi-414 at: http://127.0.0.1:8282/#/experiments/714730485385891129/runs/b25b392619bc4e63a05cc0db39c90c12\n",
      "🧪 View experiment at: http://127.0.0.1:8282/#/experiments/714730485385891129\n"
     ]
    },
    {
     "name": "stderr",
     "output_type": "stream",
     "text": [
      "[I 2025-07-21 10:39:08,590] Trial 58 finished with value: 0.09999999999999998 and parameters: {'booster': 'gbtree', 'learning_rate': 0.2060274315510039, 'max_depth': 7, 'subsample': 0.6048482879564596, 'colsample_bytree': 0.8223514474985627, 'reg_lambda': 8.973651213663898e-06, 'reg_alpha': 6.530196692743977e-05}. Best is trial 50 with value: 0.050000000000000044.\n"
     ]
    },
    {
     "name": "stdout",
     "output_type": "stream",
     "text": [
      "🏃 View run aged-calf-914 at: http://127.0.0.1:8282/#/experiments/714730485385891129/runs/39f3b4657c134111821d9c51223062f1\n",
      "🧪 View experiment at: http://127.0.0.1:8282/#/experiments/714730485385891129\n"
     ]
    },
    {
     "name": "stderr",
     "output_type": "stream",
     "text": [
      "[I 2025-07-21 10:39:09,440] Trial 59 finished with value: 0.07317073170731703 and parameters: {'booster': 'gblinear', 'learning_rate': 0.2304475014673336, 'max_depth': 6, 'subsample': 0.6367735923049314, 'colsample_bytree': 0.7985335134256172, 'reg_lambda': 2.626803127541052e-05, 'reg_alpha': 0.0006321618603381651}. Best is trial 50 with value: 0.050000000000000044.\n"
     ]
    },
    {
     "name": "stdout",
     "output_type": "stream",
     "text": [
      "🏃 View run placid-tern-820 at: http://127.0.0.1:8282/#/experiments/714730485385891129/runs/4427fcc3992a4b76b5f2433be8461798\n",
      "🧪 View experiment at: http://127.0.0.1:8282/#/experiments/714730485385891129\n"
     ]
    },
    {
     "name": "stderr",
     "output_type": "stream",
     "text": [
      "[I 2025-07-21 10:39:10,401] Trial 60 finished with value: 0.07499999999999996 and parameters: {'booster': 'dart', 'learning_rate': 0.21359753017599495, 'max_depth': 8, 'subsample': 0.5710330247470158, 'colsample_bytree': 0.8726477143902027, 'reg_lambda': 0.00013412881211540017, 'reg_alpha': 0.0001742702743145984}. Best is trial 50 with value: 0.050000000000000044.\n"
     ]
    },
    {
     "name": "stdout",
     "output_type": "stream",
     "text": [
      "🏃 View run gifted-cod-724 at: http://127.0.0.1:8282/#/experiments/714730485385891129/runs/a616d12c82fe40489f861b540197beaa\n",
      "🧪 View experiment at: http://127.0.0.1:8282/#/experiments/714730485385891129\n"
     ]
    },
    {
     "name": "stderr",
     "output_type": "stream",
     "text": [
      "[I 2025-07-21 10:39:11,429] Trial 61 finished with value: 0.06329113924050633 and parameters: {'booster': 'dart', 'learning_rate': 0.25419599755769456, 'max_depth': 6, 'subsample': 0.540911850654092, 'colsample_bytree': 0.8235714077636295, 'reg_lambda': 5.657401020914969e-05, 'reg_alpha': 0.0002659140384548604}. Best is trial 50 with value: 0.050000000000000044.\n"
     ]
    },
    {
     "name": "stdout",
     "output_type": "stream",
     "text": [
      "🏃 View run amusing-shrike-687 at: http://127.0.0.1:8282/#/experiments/714730485385891129/runs/fb0848cc642a49df887f699ae6ef7cf7\n",
      "🧪 View experiment at: http://127.0.0.1:8282/#/experiments/714730485385891129\n"
     ]
    },
    {
     "name": "stderr",
     "output_type": "stream",
     "text": [
      "[I 2025-07-21 10:39:12,329] Trial 62 finished with value: 0.08433734939759041 and parameters: {'booster': 'dart', 'learning_rate': 0.26891947287955387, 'max_depth': 8, 'subsample': 0.592659641838905, 'colsample_bytree': 0.5045061215394252, 'reg_lambda': 0.0002763412863278964, 'reg_alpha': 0.0017692168075581407}. Best is trial 50 with value: 0.050000000000000044.\n"
     ]
    },
    {
     "name": "stdout",
     "output_type": "stream",
     "text": [
      "🏃 View run auspicious-mink-334 at: http://127.0.0.1:8282/#/experiments/714730485385891129/runs/8765cd75de39436e95215f98302fdf4c\n",
      "🧪 View experiment at: http://127.0.0.1:8282/#/experiments/714730485385891129\n"
     ]
    },
    {
     "name": "stderr",
     "output_type": "stream",
     "text": [
      "[I 2025-07-21 10:39:13,219] Trial 63 finished with value: 0.06329113924050633 and parameters: {'booster': 'dart', 'learning_rate': 0.2410985846599606, 'max_depth': 7, 'subsample': 0.704682840743158, 'colsample_bytree': 0.9259088341711627, 'reg_lambda': 2.594732190013553e-06, 'reg_alpha': 0.005265822098880761}. Best is trial 50 with value: 0.050000000000000044.\n"
     ]
    },
    {
     "name": "stdout",
     "output_type": "stream",
     "text": [
      "🏃 View run fearless-skunk-708 at: http://127.0.0.1:8282/#/experiments/714730485385891129/runs/047e413725f84fb0958e99e440a96705\n",
      "🧪 View experiment at: http://127.0.0.1:8282/#/experiments/714730485385891129\n"
     ]
    },
    {
     "name": "stderr",
     "output_type": "stream",
     "text": [
      "[I 2025-07-21 10:39:14,067] Trial 64 finished with value: 0.06172839506172845 and parameters: {'booster': 'dart', 'learning_rate': 0.28800384704469395, 'max_depth': 7, 'subsample': 0.6562769258962704, 'colsample_bytree': 0.97227669202382, 'reg_lambda': 0.0005976419356771751, 'reg_alpha': 0.0007310595595296747}. Best is trial 50 with value: 0.050000000000000044.\n"
     ]
    },
    {
     "name": "stdout",
     "output_type": "stream",
     "text": [
      "🏃 View run receptive-donkey-338 at: http://127.0.0.1:8282/#/experiments/714730485385891129/runs/25c99469264f4c17a6391c7dd075d742\n",
      "🧪 View experiment at: http://127.0.0.1:8282/#/experiments/714730485385891129\n"
     ]
    },
    {
     "name": "stderr",
     "output_type": "stream",
     "text": [
      "[I 2025-07-21 10:39:14,934] Trial 65 finished with value: 0.050000000000000044 and parameters: {'booster': 'dart', 'learning_rate': 0.29325843317651346, 'max_depth': 7, 'subsample': 0.651790231383717, 'colsample_bytree': 0.9749100273781452, 'reg_lambda': 0.0004854976522651556, 'reg_alpha': 2.3301053100606255e-06}. Best is trial 50 with value: 0.050000000000000044.\n"
     ]
    },
    {
     "name": "stdout",
     "output_type": "stream",
     "text": [
      "🏃 View run bedecked-tern-375 at: http://127.0.0.1:8282/#/experiments/714730485385891129/runs/e7b94f86e239462ba9fe7b6e3251479d\n",
      "🧪 View experiment at: http://127.0.0.1:8282/#/experiments/714730485385891129\n"
     ]
    },
    {
     "name": "stderr",
     "output_type": "stream",
     "text": [
      "[I 2025-07-21 10:39:15,615] Trial 66 finished with value: 0.06329113924050633 and parameters: {'booster': 'dart', 'learning_rate': 0.290732736524316, 'max_depth': 6, 'subsample': 0.7249495241775683, 'colsample_bytree': 0.9858659864471638, 'reg_lambda': 0.002087423990369671, 'reg_alpha': 1.0762994975964014e-07}. Best is trial 50 with value: 0.050000000000000044.\n"
     ]
    },
    {
     "name": "stdout",
     "output_type": "stream",
     "text": [
      "🏃 View run abrasive-slug-855 at: http://127.0.0.1:8282/#/experiments/714730485385891129/runs/66f8684d0fe743649003e614b4278e40\n",
      "🧪 View experiment at: http://127.0.0.1:8282/#/experiments/714730485385891129\n"
     ]
    },
    {
     "name": "stderr",
     "output_type": "stream",
     "text": [
      "[I 2025-07-21 10:39:16,542] Trial 67 finished with value: 0.05128205128205132 and parameters: {'booster': 'gbtree', 'learning_rate': 0.22729918708600955, 'max_depth': 8, 'subsample': 0.6872056912859197, 'colsample_bytree': 0.941434906932021, 'reg_lambda': 0.00047114960047064757, 'reg_alpha': 5.088558202926525e-07}. Best is trial 50 with value: 0.050000000000000044.\n"
     ]
    },
    {
     "name": "stdout",
     "output_type": "stream",
     "text": [
      "🏃 View run popular-shark-400 at: http://127.0.0.1:8282/#/experiments/714730485385891129/runs/9e8193de8f184ed2979c7a84eb7a6e7c\n",
      "🧪 View experiment at: http://127.0.0.1:8282/#/experiments/714730485385891129\n"
     ]
    },
    {
     "name": "stderr",
     "output_type": "stream",
     "text": [
      "[I 2025-07-21 10:39:17,334] Trial 68 finished with value: 0.06329113924050633 and parameters: {'booster': 'gbtree', 'learning_rate': 0.22858115895678977, 'max_depth': 8, 'subsample': 0.6827823324394942, 'colsample_bytree': 0.946265787303162, 'reg_lambda': 8.951765176773718e-06, 'reg_alpha': 2.8181801955196757e-06}. Best is trial 50 with value: 0.050000000000000044.\n"
     ]
    },
    {
     "name": "stdout",
     "output_type": "stream",
     "text": [
      "🏃 View run rebellious-smelt-446 at: http://127.0.0.1:8282/#/experiments/714730485385891129/runs/e5551f1196004067814229b144c93855\n",
      "🧪 View experiment at: http://127.0.0.1:8282/#/experiments/714730485385891129\n"
     ]
    },
    {
     "name": "stderr",
     "output_type": "stream",
     "text": [
      "[I 2025-07-21 10:39:18,214] Trial 69 finished with value: 0.07499999999999996 and parameters: {'booster': 'gbtree', 'learning_rate': 0.19339675567844897, 'max_depth': 8, 'subsample': 0.6254248647878908, 'colsample_bytree': 0.9802596341491244, 'reg_lambda': 0.0001859595803432638, 'reg_alpha': 2.6939338716513726e-08}. Best is trial 50 with value: 0.050000000000000044.\n"
     ]
    },
    {
     "name": "stdout",
     "output_type": "stream",
     "text": [
      "🏃 View run shivering-sheep-978 at: http://127.0.0.1:8282/#/experiments/714730485385891129/runs/0381164b26f0425280c6f006919f7d5b\n",
      "🧪 View experiment at: http://127.0.0.1:8282/#/experiments/714730485385891129\n"
     ]
    },
    {
     "name": "stderr",
     "output_type": "stream",
     "text": [
      "[I 2025-07-21 10:39:18,899] Trial 70 finished with value: 0.06329113924050633 and parameters: {'booster': 'gbtree', 'learning_rate': 0.22365516246422595, 'max_depth': 7, 'subsample': 0.764196000766926, 'colsample_bytree': 0.8958680242827622, 'reg_lambda': 8.392131381600256e-05, 'reg_alpha': 7.315417269663605e-07}. Best is trial 50 with value: 0.050000000000000044.\n"
     ]
    },
    {
     "name": "stdout",
     "output_type": "stream",
     "text": [
      "🏃 View run thundering-flea-363 at: http://127.0.0.1:8282/#/experiments/714730485385891129/runs/aa9656f3f05a4133a2156e39a985cdea\n",
      "🧪 View experiment at: http://127.0.0.1:8282/#/experiments/714730485385891129\n"
     ]
    },
    {
     "name": "stderr",
     "output_type": "stream",
     "text": [
      "[I 2025-07-21 10:39:19,499] Trial 71 finished with value: 0.08860759493670889 and parameters: {'booster': 'gbtree', 'learning_rate': 0.2650569106928384, 'max_depth': 7, 'subsample': 0.6102100027765007, 'colsample_bytree': 0.9362094693419408, 'reg_lambda': 0.0003847162064922495, 'reg_alpha': 6.701257652840826e-07}. Best is trial 50 with value: 0.050000000000000044.\n"
     ]
    },
    {
     "name": "stdout",
     "output_type": "stream",
     "text": [
      "🏃 View run popular-kit-8 at: http://127.0.0.1:8282/#/experiments/714730485385891129/runs/c776ce6bdb404173a13d915429c76d47\n",
      "🧪 View experiment at: http://127.0.0.1:8282/#/experiments/714730485385891129\n"
     ]
    },
    {
     "name": "stderr",
     "output_type": "stream",
     "text": [
      "[I 2025-07-21 10:39:20,118] Trial 72 finished with value: 0.06329113924050633 and parameters: {'booster': 'gbtree', 'learning_rate': 0.2748800821473229, 'max_depth': 7, 'subsample': 0.6875558419819823, 'colsample_bytree': 0.9170743189231225, 'reg_lambda': 0.00046752137125131705, 'reg_alpha': 1.1946358344545864e-05}. Best is trial 50 with value: 0.050000000000000044.\n"
     ]
    },
    {
     "name": "stdout",
     "output_type": "stream",
     "text": [
      "🏃 View run able-colt-788 at: http://127.0.0.1:8282/#/experiments/714730485385891129/runs/f1643e42125043a3962f5f60aeb2b78e\n",
      "🧪 View experiment at: http://127.0.0.1:8282/#/experiments/714730485385891129\n"
     ]
    },
    {
     "name": "stderr",
     "output_type": "stream",
     "text": [
      "[I 2025-07-21 10:39:20,973] Trial 73 finished with value: 0.07499999999999996 and parameters: {'booster': 'dart', 'learning_rate': 0.2998956743937932, 'max_depth': 8, 'subsample': 0.5523047932894648, 'colsample_bytree': 0.9610799088914204, 'reg_lambda': 0.0017625930356068324, 'reg_alpha': 2.192417434880757e-06}. Best is trial 50 with value: 0.050000000000000044.\n"
     ]
    },
    {
     "name": "stdout",
     "output_type": "stream",
     "text": [
      "🏃 View run dazzling-loon-700 at: http://127.0.0.1:8282/#/experiments/714730485385891129/runs/003d63177da444fa8e174cab0629b812\n",
      "🧪 View experiment at: http://127.0.0.1:8282/#/experiments/714730485385891129\n"
     ]
    },
    {
     "name": "stderr",
     "output_type": "stream",
     "text": [
      "[I 2025-07-21 10:39:21,744] Trial 74 finished with value: 0.050000000000000044 and parameters: {'booster': 'dart', 'learning_rate': 0.2526247220973676, 'max_depth': 6, 'subsample': 0.6361595781968054, 'colsample_bytree': 0.7916711693897959, 'reg_lambda': 2.189564030305038e-05, 'reg_alpha': 4.4926668511654733e-07}. Best is trial 50 with value: 0.050000000000000044.\n"
     ]
    },
    {
     "name": "stdout",
     "output_type": "stream",
     "text": [
      "🏃 View run classy-calf-431 at: http://127.0.0.1:8282/#/experiments/714730485385891129/runs/2d33137fcf084bfcb0541171db336dd8\n",
      "🧪 View experiment at: http://127.0.0.1:8282/#/experiments/714730485385891129\n"
     ]
    },
    {
     "name": "stderr",
     "output_type": "stream",
     "text": [
      "[I 2025-07-21 10:39:22,516] Trial 75 finished with value: 0.07499999999999996 and parameters: {'booster': 'dart', 'learning_rate': 0.21226478314636493, 'max_depth': 6, 'subsample': 0.6525388178493774, 'colsample_bytree': 0.8462322691076292, 'reg_lambda': 4.0836228425337415e-05, 'reg_alpha': 4.791729566384537e-07}. Best is trial 50 with value: 0.050000000000000044.\n"
     ]
    },
    {
     "name": "stdout",
     "output_type": "stream",
     "text": [
      "🏃 View run thoughtful-seal-260 at: http://127.0.0.1:8282/#/experiments/714730485385891129/runs/dcec1a3e3c9c41c498afcb4e08a697a4\n",
      "🧪 View experiment at: http://127.0.0.1:8282/#/experiments/714730485385891129\n"
     ]
    },
    {
     "name": "stderr",
     "output_type": "stream",
     "text": [
      "[I 2025-07-21 10:39:23,171] Trial 76 finished with value: 0.06329113924050633 and parameters: {'booster': 'gbtree', 'learning_rate': 0.25072412306771236, 'max_depth': 7, 'subsample': 0.6357192467643102, 'colsample_bytree': 0.7664615104098359, 'reg_lambda': 2.6014301758873604e-05, 'reg_alpha': 1.73122545315309e-07}. Best is trial 50 with value: 0.050000000000000044.\n"
     ]
    },
    {
     "name": "stdout",
     "output_type": "stream",
     "text": [
      "🏃 View run charming-gnu-411 at: http://127.0.0.1:8282/#/experiments/714730485385891129/runs/0f299e9ed006403d8949d61131a1c4c3\n",
      "🧪 View experiment at: http://127.0.0.1:8282/#/experiments/714730485385891129\n"
     ]
    },
    {
     "name": "stderr",
     "output_type": "stream",
     "text": [
      "[I 2025-07-21 10:39:23,916] Trial 77 finished with value: 0.07317073170731703 and parameters: {'booster': 'gblinear', 'learning_rate': 0.2361961100764332, 'max_depth': 8, 'subsample': 0.6674952154568256, 'colsample_bytree': 0.7920374919019003, 'reg_lambda': 1.5514198131751935e-05, 'reg_alpha': 8.036797151482961e-08}. Best is trial 50 with value: 0.050000000000000044.\n"
     ]
    },
    {
     "name": "stdout",
     "output_type": "stream",
     "text": [
      "🏃 View run redolent-lynx-528 at: http://127.0.0.1:8282/#/experiments/714730485385891129/runs/4137db274f634c19b69ae05e7181712f\n",
      "🧪 View experiment at: http://127.0.0.1:8282/#/experiments/714730485385891129\n"
     ]
    },
    {
     "name": "stderr",
     "output_type": "stream",
     "text": [
      "[I 2025-07-21 10:39:24,756] Trial 78 finished with value: 0.06329113924050633 and parameters: {'booster': 'dart', 'learning_rate': 0.2600356344235469, 'max_depth': 5, 'subsample': 0.7190580690196242, 'colsample_bytree': 0.8763291151960916, 'reg_lambda': 5.85257170355237e-06, 'reg_alpha': 5.1432247238822034e-08}. Best is trial 50 with value: 0.050000000000000044.\n"
     ]
    },
    {
     "name": "stdout",
     "output_type": "stream",
     "text": [
      "🏃 View run auspicious-gnat-171 at: http://127.0.0.1:8282/#/experiments/714730485385891129/runs/d4adba4ae99245f38861ef756283043b\n",
      "🧪 View experiment at: http://127.0.0.1:8282/#/experiments/714730485385891129\n"
     ]
    },
    {
     "name": "stderr",
     "output_type": "stream",
     "text": [
      "[I 2025-07-21 10:39:26,221] Trial 79 finished with value: 0.06329113924050633 and parameters: {'booster': 'dart', 'learning_rate': 0.1638981009104905, 'max_depth': 6, 'subsample': 0.6203182155078304, 'colsample_bytree': 0.857207284762759, 'reg_lambda': 0.007469714979994352, 'reg_alpha': 2.0417794343911225e-07}. Best is trial 50 with value: 0.050000000000000044.\n"
     ]
    },
    {
     "name": "stdout",
     "output_type": "stream",
     "text": [
      "🏃 View run silent-toad-444 at: http://127.0.0.1:8282/#/experiments/714730485385891129/runs/90175b3821f345068ebd6dbc091dcb40\n",
      "🧪 View experiment at: http://127.0.0.1:8282/#/experiments/714730485385891129\n"
     ]
    },
    {
     "name": "stderr",
     "output_type": "stream",
     "text": [
      "[I 2025-07-21 10:39:27,705] Trial 80 finished with value: 0.0864197530864198 and parameters: {'booster': 'gbtree', 'learning_rate': 0.24518303512981143, 'max_depth': 8, 'subsample': 0.6917634047076521, 'colsample_bytree': 0.9979237100020923, 'reg_lambda': 5.7131701482648565e-06, 'reg_alpha': 1.6614463987195541e-06}. Best is trial 50 with value: 0.050000000000000044.\n"
     ]
    },
    {
     "name": "stdout",
     "output_type": "stream",
     "text": [
      "🏃 View run carefree-bear-400 at: http://127.0.0.1:8282/#/experiments/714730485385891129/runs/ac1f2a609532463c9c216828f5ccbe5b\n",
      "🧪 View experiment at: http://127.0.0.1:8282/#/experiments/714730485385891129\n"
     ]
    },
    {
     "name": "stderr",
     "output_type": "stream",
     "text": [
      "[I 2025-07-21 10:39:28,512] Trial 81 finished with value: 0.06329113924050633 and parameters: {'booster': 'dart', 'learning_rate': 0.2819972075023883, 'max_depth': 6, 'subsample': 0.5913819857850708, 'colsample_bytree': 0.7419409882283724, 'reg_lambda': 0.0008319441476554242, 'reg_alpha': 7.512068195669054e-07}. Best is trial 50 with value: 0.050000000000000044.\n"
     ]
    },
    {
     "name": "stdout",
     "output_type": "stream",
     "text": [
      "🏃 View run lyrical-turtle-17 at: http://127.0.0.1:8282/#/experiments/714730485385891129/runs/0f62694f78154824afc0cacb9bf2ea60\n",
      "🧪 View experiment at: http://127.0.0.1:8282/#/experiments/714730485385891129\n"
     ]
    },
    {
     "name": "stderr",
     "output_type": "stream",
     "text": [
      "[I 2025-07-21 10:39:29,270] Trial 82 finished with value: 0.06329113924050633 and parameters: {'booster': 'dart', 'learning_rate': 0.27546054433096245, 'max_depth': 7, 'subsample': 0.5225030333486109, 'colsample_bytree': 0.8273220646165587, 'reg_lambda': 0.00016765450120048968, 'reg_alpha': 4.4764407129188734e-07}. Best is trial 50 with value: 0.050000000000000044.\n"
     ]
    },
    {
     "name": "stdout",
     "output_type": "stream",
     "text": [
      "🏃 View run able-snail-370 at: http://127.0.0.1:8282/#/experiments/714730485385891129/runs/f6be18cbf80f4710bb55f9c56f9117f0\n",
      "🧪 View experiment at: http://127.0.0.1:8282/#/experiments/714730485385891129\n"
     ]
    },
    {
     "name": "stderr",
     "output_type": "stream",
     "text": [
      "[I 2025-07-21 10:39:30,182] Trial 83 finished with value: 0.06329113924050633 and parameters: {'booster': 'dart', 'learning_rate': 0.20287748109584536, 'max_depth': 6, 'subsample': 0.5786487335545034, 'colsample_bytree': 0.7994985760063164, 'reg_lambda': 5.346614878067109e-05, 'reg_alpha': 6.112294371019496e-06}. Best is trial 50 with value: 0.050000000000000044.\n"
     ]
    },
    {
     "name": "stdout",
     "output_type": "stream",
     "text": [
      "🏃 View run rebellious-hawk-575 at: http://127.0.0.1:8282/#/experiments/714730485385891129/runs/47a758b606154ab693cfa30587420994\n",
      "🧪 View experiment at: http://127.0.0.1:8282/#/experiments/714730485385891129\n"
     ]
    },
    {
     "name": "stderr",
     "output_type": "stream",
     "text": [
      "[I 2025-07-21 10:39:31,070] Trial 84 finished with value: 0.06329113924050633 and parameters: {'booster': 'dart', 'learning_rate': 0.2237444479581267, 'max_depth': 6, 'subsample': 0.5706297952734399, 'colsample_bytree': 0.7638668736966233, 'reg_lambda': 0.00010784726745027738, 'reg_alpha': 0.00010129461164222929}. Best is trial 50 with value: 0.050000000000000044.\n"
     ]
    },
    {
     "name": "stdout",
     "output_type": "stream",
     "text": [
      "🏃 View run intelligent-asp-474 at: http://127.0.0.1:8282/#/experiments/714730485385891129/runs/85d86b0d1e07483fa1e2f319ecedaa6a\n",
      "🧪 View experiment at: http://127.0.0.1:8282/#/experiments/714730485385891129\n"
     ]
    },
    {
     "name": "stderr",
     "output_type": "stream",
     "text": [
      "[I 2025-07-21 10:39:31,809] Trial 85 finished with value: 0.06329113924050633 and parameters: {'booster': 'dart', 'learning_rate': 0.2557788127123289, 'max_depth': 5, 'subsample': 0.6020771337751815, 'colsample_bytree': 0.810310474178411, 'reg_lambda': 0.00490432877504971, 'reg_alpha': 0.0015175375945967007}. Best is trial 50 with value: 0.050000000000000044.\n"
     ]
    },
    {
     "name": "stdout",
     "output_type": "stream",
     "text": [
      "🏃 View run luminous-newt-479 at: http://127.0.0.1:8282/#/experiments/714730485385891129/runs/3ea18407d9694ace8f513608736253b0\n",
      "🧪 View experiment at: http://127.0.0.1:8282/#/experiments/714730485385891129\n"
     ]
    },
    {
     "name": "stderr",
     "output_type": "stream",
     "text": [
      "[I 2025-07-21 10:39:32,867] Trial 86 finished with value: 0.03703703703703709 and parameters: {'booster': 'dart', 'learning_rate': 0.23820409526493685, 'max_depth': 9, 'subsample': 0.6400196417851969, 'colsample_bytree': 0.7844916496964479, 'reg_lambda': 0.00029502262710392975, 'reg_alpha': 3.1704167226786434e-07}. Best is trial 86 with value: 0.03703703703703709.\n"
     ]
    },
    {
     "name": "stdout",
     "output_type": "stream",
     "text": [
      "🏃 View run bright-dog-230 at: http://127.0.0.1:8282/#/experiments/714730485385891129/runs/b2748512c6b74441a4798a10ac0530d0\n",
      "🧪 View experiment at: http://127.0.0.1:8282/#/experiments/714730485385891129\n",
      "New best F1-score: 0.9630 on trial 86\n"
     ]
    },
    {
     "name": "stderr",
     "output_type": "stream",
     "text": [
      "[I 2025-07-21 10:39:33,823] Trial 87 finished with value: 0.06329113924050633 and parameters: {'booster': 'dart', 'learning_rate': 0.23784721717931553, 'max_depth': 9, 'subsample': 0.6652235018620078, 'colsample_bytree': 0.9495956008066343, 'reg_lambda': 0.0002029065489230751, 'reg_alpha': 3.1240427475097794e-07}. Best is trial 86 with value: 0.03703703703703709.\n"
     ]
    },
    {
     "name": "stdout",
     "output_type": "stream",
     "text": [
      "🏃 View run spiffy-frog-94 at: http://127.0.0.1:8282/#/experiments/714730485385891129/runs/dec55ebc6f5246b7af29fdb628d1ba1b\n",
      "🧪 View experiment at: http://127.0.0.1:8282/#/experiments/714730485385891129\n"
     ]
    },
    {
     "name": "stderr",
     "output_type": "stream",
     "text": [
      "[I 2025-07-21 10:39:34,891] Trial 88 finished with value: 0.06329113924050633 and parameters: {'booster': 'dart', 'learning_rate': 0.186625843191446, 'max_depth': 9, 'subsample': 0.6397095662352599, 'colsample_bytree': 0.7839175121785374, 'reg_lambda': 0.012809968363628844, 'reg_alpha': 1.3457081663746293e-07}. Best is trial 86 with value: 0.03703703703703709.\n"
     ]
    },
    {
     "name": "stdout",
     "output_type": "stream",
     "text": [
      "🏃 View run orderly-steed-107 at: http://127.0.0.1:8282/#/experiments/714730485385891129/runs/c1ba7c3860ec4efaa590edc4dd9fc3b0\n",
      "🧪 View experiment at: http://127.0.0.1:8282/#/experiments/714730485385891129\n"
     ]
    },
    {
     "name": "stderr",
     "output_type": "stream",
     "text": [
      "[I 2025-07-21 10:39:35,901] Trial 89 finished with value: 0.0864197530864198 and parameters: {'booster': 'gbtree', 'learning_rate': 0.2161175374350833, 'max_depth': 9, 'subsample': 0.7392702262700898, 'colsample_bytree': 0.9708399329833145, 'reg_lambda': 2.3671499117075087e-05, 'reg_alpha': 1.2733005656239122e-06}. Best is trial 86 with value: 0.03703703703703709.\n"
     ]
    },
    {
     "name": "stdout",
     "output_type": "stream",
     "text": [
      "🏃 View run bold-zebra-389 at: http://127.0.0.1:8282/#/experiments/714730485385891129/runs/0134ca18b0a64aef8c561b800191f8ca\n",
      "🧪 View experiment at: http://127.0.0.1:8282/#/experiments/714730485385891129\n"
     ]
    },
    {
     "name": "stderr",
     "output_type": "stream",
     "text": [
      "[I 2025-07-21 10:39:37,031] Trial 90 finished with value: 0.050000000000000044 and parameters: {'booster': 'dart', 'learning_rate': 0.20748463764629851, 'max_depth': 10, 'subsample': 0.6124815796253832, 'colsample_bytree': 0.8925023702002437, 'reg_lambda': 7.706212911578838e-07, 'reg_alpha': 3.644467751442334e-06}. Best is trial 86 with value: 0.03703703703703709.\n"
     ]
    },
    {
     "name": "stdout",
     "output_type": "stream",
     "text": [
      "🏃 View run gentle-quail-211 at: http://127.0.0.1:8282/#/experiments/714730485385891129/runs/a02ff23a184f43e5bb9de1a57fbb9c44\n",
      "🧪 View experiment at: http://127.0.0.1:8282/#/experiments/714730485385891129\n"
     ]
    },
    {
     "name": "stderr",
     "output_type": "stream",
     "text": [
      "[I 2025-07-21 10:39:37,879] Trial 91 finished with value: 0.06329113924050633 and parameters: {'booster': 'dart', 'learning_rate': 0.20892984436945153, 'max_depth': 10, 'subsample': 0.6268306571278975, 'colsample_bytree': 0.8915742834903212, 'reg_lambda': 1.4182274310234718e-06, 'reg_alpha': 3.1686489300837142e-06}. Best is trial 86 with value: 0.03703703703703709.\n"
     ]
    },
    {
     "name": "stdout",
     "output_type": "stream",
     "text": [
      "🏃 View run exultant-bee-263 at: http://127.0.0.1:8282/#/experiments/714730485385891129/runs/01f6f2f5bb984d15b8c91df07ace06d1\n",
      "🧪 View experiment at: http://127.0.0.1:8282/#/experiments/714730485385891129\n"
     ]
    },
    {
     "name": "stderr",
     "output_type": "stream",
     "text": [
      "[I 2025-07-21 10:39:38,679] Trial 92 finished with value: 0.06329113924050633 and parameters: {'booster': 'dart', 'learning_rate': 0.2267078425588685, 'max_depth': 10, 'subsample': 0.6447483590920963, 'colsample_bytree': 0.9116470181075023, 'reg_lambda': 6.911874172018863e-07, 'reg_alpha': 1.9110493932260813e-05}. Best is trial 86 with value: 0.03703703703703709.\n"
     ]
    },
    {
     "name": "stdout",
     "output_type": "stream",
     "text": [
      "🏃 View run unique-midge-922 at: http://127.0.0.1:8282/#/experiments/714730485385891129/runs/148aee4ae83f4317837c39122fcc5f9f\n",
      "🧪 View experiment at: http://127.0.0.1:8282/#/experiments/714730485385891129\n"
     ]
    },
    {
     "name": "stderr",
     "output_type": "stream",
     "text": [
      "[I 2025-07-21 10:39:39,500] Trial 93 finished with value: 0.06329113924050633 and parameters: {'booster': 'dart', 'learning_rate': 0.17906597674325633, 'max_depth': 9, 'subsample': 0.6743227680759758, 'colsample_bytree': 0.8662776447529625, 'reg_lambda': 3.022149303567366e-07, 'reg_alpha': 1.7463518788909913e-06}. Best is trial 86 with value: 0.03703703703703709.\n"
     ]
    },
    {
     "name": "stdout",
     "output_type": "stream",
     "text": [
      "🏃 View run skittish-fox-446 at: http://127.0.0.1:8282/#/experiments/714730485385891129/runs/a4795cdec0e74b68a5ce9c385e83f3a1\n",
      "🧪 View experiment at: http://127.0.0.1:8282/#/experiments/714730485385891129\n"
     ]
    },
    {
     "name": "stderr",
     "output_type": "stream",
     "text": [
      "[I 2025-07-21 10:39:40,644] Trial 94 finished with value: 0.050000000000000044 and parameters: {'booster': 'dart', 'learning_rate': 0.2373401569953191, 'max_depth': 10, 'subsample': 0.61205433975581, 'colsample_bytree': 0.7170931044407053, 'reg_lambda': 1.0135689687862492e-06, 'reg_alpha': 8.697641883459178e-07}. Best is trial 86 with value: 0.03703703703703709.\n"
     ]
    },
    {
     "name": "stdout",
     "output_type": "stream",
     "text": [
      "🏃 View run zealous-finch-540 at: http://127.0.0.1:8282/#/experiments/714730485385891129/runs/090baeb594994dfcac73dddd82549fac\n",
      "🧪 View experiment at: http://127.0.0.1:8282/#/experiments/714730485385891129\n"
     ]
    },
    {
     "name": "stderr",
     "output_type": "stream",
     "text": [
      "[I 2025-07-21 10:39:41,608] Trial 95 finished with value: 0.06329113924050633 and parameters: {'booster': 'dart', 'learning_rate': 0.23377692700386393, 'max_depth': 10, 'subsample': 0.6181108268911362, 'colsample_bytree': 0.7448500133322387, 'reg_lambda': 1.2592191198804628e-07, 'reg_alpha': 9.77273447383055e-07}. Best is trial 86 with value: 0.03703703703703709.\n"
     ]
    },
    {
     "name": "stdout",
     "output_type": "stream",
     "text": [
      "🏃 View run serious-squid-912 at: http://127.0.0.1:8282/#/experiments/714730485385891129/runs/0cf6a752cebd453db7f4de17e667ee33\n",
      "🧪 View experiment at: http://127.0.0.1:8282/#/experiments/714730485385891129\n"
     ]
    },
    {
     "name": "stderr",
     "output_type": "stream",
     "text": [
      "[I 2025-07-21 10:39:42,666] Trial 96 finished with value: 0.06329113924050633 and parameters: {'booster': 'dart', 'learning_rate': 0.19935526505370343, 'max_depth': 10, 'subsample': 0.6001714174121981, 'colsample_bytree': 0.7205018437532699, 'reg_lambda': 8.592689298549596e-07, 'reg_alpha': 4.6048132300996903e-07}. Best is trial 86 with value: 0.03703703703703709.\n"
     ]
    },
    {
     "name": "stdout",
     "output_type": "stream",
     "text": [
      "🏃 View run useful-bear-851 at: http://127.0.0.1:8282/#/experiments/714730485385891129/runs/53d0899609f94df1bd88b5f01ebc075c\n",
      "🧪 View experiment at: http://127.0.0.1:8282/#/experiments/714730485385891129\n"
     ]
    },
    {
     "name": "stderr",
     "output_type": "stream",
     "text": [
      "[I 2025-07-21 10:39:43,536] Trial 97 finished with value: 0.050000000000000044 and parameters: {'booster': 'dart', 'learning_rate': 0.24431976294388527, 'max_depth': 10, 'subsample': 0.6294046972434191, 'colsample_bytree': 0.8352103153222572, 'reg_lambda': 2.9520589373018293e-06, 'reg_alpha': 3.811295759799245e-06}. Best is trial 86 with value: 0.03703703703703709.\n"
     ]
    },
    {
     "name": "stdout",
     "output_type": "stream",
     "text": [
      "🏃 View run wise-conch-652 at: http://127.0.0.1:8282/#/experiments/714730485385891129/runs/90fa06b4e0ab4b599473eedaee314e0c\n",
      "🧪 View experiment at: http://127.0.0.1:8282/#/experiments/714730485385891129\n"
     ]
    },
    {
     "name": "stderr",
     "output_type": "stream",
     "text": [
      "[I 2025-07-21 10:39:44,536] Trial 98 finished with value: 0.06329113924050633 and parameters: {'booster': 'dart', 'learning_rate': 0.24538355902980016, 'max_depth': 10, 'subsample': 0.5873154420526623, 'colsample_bytree': 0.815008631768934, 'reg_lambda': 2.558129064503635e-06, 'reg_alpha': 7.403692314763959e-06}. Best is trial 86 with value: 0.03703703703703709.\n"
     ]
    },
    {
     "name": "stdout",
     "output_type": "stream",
     "text": [
      "🏃 View run kindly-crow-722 at: http://127.0.0.1:8282/#/experiments/714730485385891129/runs/b06e7e014b044641a734ddcc98368a72\n",
      "🧪 View experiment at: http://127.0.0.1:8282/#/experiments/714730485385891129\n"
     ]
    },
    {
     "name": "stderr",
     "output_type": "stream",
     "text": [
      "[I 2025-07-21 10:39:47,784] Trial 99 finished with value: 0.07499999999999996 and parameters: {'booster': 'dart', 'learning_rate': 0.21976704078207324, 'max_depth': 10, 'subsample': 0.6322232052170145, 'colsample_bytree': 0.6793920971380591, 'reg_lambda': 1.4277907448096811e-06, 'reg_alpha': 4.012923307104003e-06}. Best is trial 86 with value: 0.03703703703703709.\n"
     ]
    },
    {
     "name": "stdout",
     "output_type": "stream",
     "text": [
      "🏃 View run shivering-elk-969 at: http://127.0.0.1:8282/#/experiments/714730485385891129/runs/0fedc140288d4a72828b3b659f9f85d9\n",
      "🧪 View experiment at: http://127.0.0.1:8282/#/experiments/714730485385891129\n"
     ]
    },
    {
     "name": "stderr",
     "output_type": "stream",
     "text": [
      "[I 2025-07-21 10:39:49,032] Trial 100 finished with value: 0.050000000000000044 and parameters: {'booster': 'dart', 'learning_rate': 0.24019460246089924, 'max_depth': 10, 'subsample': 0.6125160056542113, 'colsample_bytree': 0.8335504416530489, 'reg_lambda': 3.563463783504767e-06, 'reg_alpha': 5.038624728393098e-05}. Best is trial 86 with value: 0.03703703703703709.\n"
     ]
    },
    {
     "name": "stdout",
     "output_type": "stream",
     "text": [
      "🏃 View run popular-worm-574 at: http://127.0.0.1:8282/#/experiments/714730485385891129/runs/99a5f97f46604324b3f04f9501745ff5\n",
      "🧪 View experiment at: http://127.0.0.1:8282/#/experiments/714730485385891129\n"
     ]
    },
    {
     "name": "stderr",
     "output_type": "stream",
     "text": [
      "[I 2025-07-21 10:39:50,086] Trial 101 finished with value: 0.07499999999999996 and parameters: {'booster': 'dart', 'learning_rate': 0.23957267985908864, 'max_depth': 10, 'subsample': 0.6129386303402269, 'colsample_bytree': 0.8335894520594798, 'reg_lambda': 4.946415729059073e-06, 'reg_alpha': 4.105205052500203e-05}. Best is trial 86 with value: 0.03703703703703709.\n"
     ]
    },
    {
     "name": "stdout",
     "output_type": "stream",
     "text": [
      "🏃 View run big-mink-898 at: http://127.0.0.1:8282/#/experiments/714730485385891129/runs/f46872268a0f476fa4e021e956a02099\n",
      "🧪 View experiment at: http://127.0.0.1:8282/#/experiments/714730485385891129\n"
     ]
    },
    {
     "name": "stderr",
     "output_type": "stream",
     "text": [
      "[I 2025-07-21 10:39:50,893] Trial 102 finished with value: 0.06329113924050633 and parameters: {'booster': 'dart', 'learning_rate': 0.24978497523224277, 'max_depth': 10, 'subsample': 0.5489101202164037, 'colsample_bytree': 0.8464850754210275, 'reg_lambda': 3.4233341751350445e-06, 'reg_alpha': 2.2165401072043373e-05}. Best is trial 86 with value: 0.03703703703703709.\n"
     ]
    },
    {
     "name": "stdout",
     "output_type": "stream",
     "text": [
      "🏃 View run enchanting-moth-40 at: http://127.0.0.1:8282/#/experiments/714730485385891129/runs/97376425fd7a4731b14b01b5d831f776\n",
      "🧪 View experiment at: http://127.0.0.1:8282/#/experiments/714730485385891129\n"
     ]
    },
    {
     "name": "stderr",
     "output_type": "stream",
     "text": [
      "[I 2025-07-21 10:39:51,676] Trial 103 finished with value: 0.06329113924050633 and parameters: {'booster': 'dart', 'learning_rate': 0.2098576072088284, 'max_depth': 10, 'subsample': 0.5710341841634426, 'colsample_bytree': 0.7907740114728914, 'reg_lambda': 2.1946187952765205e-06, 'reg_alpha': 6.364062660612085e-05}. Best is trial 86 with value: 0.03703703703703709.\n"
     ]
    },
    {
     "name": "stdout",
     "output_type": "stream",
     "text": [
      "🏃 View run calm-chimp-816 at: http://127.0.0.1:8282/#/experiments/714730485385891129/runs/942ad47520bb444399a4ca08c6978943\n",
      "🧪 View experiment at: http://127.0.0.1:8282/#/experiments/714730485385891129\n"
     ]
    },
    {
     "name": "stderr",
     "output_type": "stream",
     "text": [
      "[I 2025-07-21 10:39:52,395] Trial 104 finished with value: 0.06172839506172845 and parameters: {'booster': 'dart', 'learning_rate': 0.25971220220625324, 'max_depth': 10, 'subsample': 0.65103705447951, 'colsample_bytree': 0.808774495431063, 'reg_lambda': 1.2025837530361791e-05, 'reg_alpha': 1.0618482439293784e-05}. Best is trial 86 with value: 0.03703703703703709.\n"
     ]
    },
    {
     "name": "stdout",
     "output_type": "stream",
     "text": [
      "🏃 View run unleashed-flea-345 at: http://127.0.0.1:8282/#/experiments/714730485385891129/runs/03a0609375a84d3a86f36ed8750adb1b\n",
      "🧪 View experiment at: http://127.0.0.1:8282/#/experiments/714730485385891129\n"
     ]
    },
    {
     "name": "stderr",
     "output_type": "stream",
     "text": [
      "[I 2025-07-21 10:39:53,204] Trial 105 finished with value: 0.06172839506172845 and parameters: {'booster': 'dart', 'learning_rate': 0.2159935537369311, 'max_depth': 10, 'subsample': 0.6131759235835125, 'colsample_bytree': 0.7627084403634936, 'reg_lambda': 4.078383573747473e-07, 'reg_alpha': 0.00021166846535782222}. Best is trial 86 with value: 0.03703703703703709.\n"
     ]
    },
    {
     "name": "stdout",
     "output_type": "stream",
     "text": [
      "🏃 View run righteous-deer-154 at: http://127.0.0.1:8282/#/experiments/714730485385891129/runs/9239c727b633449f848d8d39dbdf7049\n",
      "🧪 View experiment at: http://127.0.0.1:8282/#/experiments/714730485385891129\n"
     ]
    },
    {
     "name": "stderr",
     "output_type": "stream",
     "text": [
      "[I 2025-07-21 10:39:54,236] Trial 106 finished with value: 0.050000000000000044 and parameters: {'booster': 'dart', 'learning_rate': 0.23313962920176612, 'max_depth': 10, 'subsample': 0.6051987580218948, 'colsample_bytree': 0.7760415498537903, 'reg_lambda': 1.0447413417456925e-06, 'reg_alpha': 6.340833440202933e-06}. Best is trial 86 with value: 0.03703703703703709.\n"
     ]
    },
    {
     "name": "stdout",
     "output_type": "stream",
     "text": [
      "🏃 View run brawny-zebra-598 at: http://127.0.0.1:8282/#/experiments/714730485385891129/runs/cb87e9f9cf79465fa4923655f87150cf\n",
      "🧪 View experiment at: http://127.0.0.1:8282/#/experiments/714730485385891129\n"
     ]
    },
    {
     "name": "stderr",
     "output_type": "stream",
     "text": [
      "[I 2025-07-21 10:39:54,951] Trial 107 finished with value: 0.0864197530864198 and parameters: {'booster': 'dart', 'learning_rate': 0.23459539743820815, 'max_depth': 10, 'subsample': 0.5964991313569251, 'colsample_bytree': 0.7086735997713517, 'reg_lambda': 1.2021179301899058e-06, 'reg_alpha': 5.755128030758806e-06}. Best is trial 86 with value: 0.03703703703703709.\n"
     ]
    },
    {
     "name": "stdout",
     "output_type": "stream",
     "text": [
      "🏃 View run amusing-elk-549 at: http://127.0.0.1:8282/#/experiments/714730485385891129/runs/ea426baf008b464a8509fd629e78492e\n",
      "🧪 View experiment at: http://127.0.0.1:8282/#/experiments/714730485385891129\n"
     ]
    },
    {
     "name": "stderr",
     "output_type": "stream",
     "text": [
      "[I 2025-07-21 10:39:55,722] Trial 108 finished with value: 0.06172839506172845 and parameters: {'booster': 'dart', 'learning_rate': 0.24272843347616693, 'max_depth': 9, 'subsample': 0.6328334168235914, 'colsample_bytree': 0.8006375394552374, 'reg_lambda': 6.203142050871616e-06, 'reg_alpha': 0.00012384401223274324}. Best is trial 86 with value: 0.03703703703703709.\n"
     ]
    },
    {
     "name": "stdout",
     "output_type": "stream",
     "text": [
      "🏃 View run debonair-stag-528 at: http://127.0.0.1:8282/#/experiments/714730485385891129/runs/c804d42bdc5d4eadaf9c85ba872b0982\n",
      "🧪 View experiment at: http://127.0.0.1:8282/#/experiments/714730485385891129\n"
     ]
    },
    {
     "name": "stderr",
     "output_type": "stream",
     "text": [
      "[I 2025-07-21 10:39:56,519] Trial 109 finished with value: 0.050000000000000044 and parameters: {'booster': 'dart', 'learning_rate': 0.2529603597892522, 'max_depth': 10, 'subsample': 0.6627890218230204, 'colsample_bytree': 0.8175736262173583, 'reg_lambda': 1.7631741974853232e-05, 'reg_alpha': 1.239783983675801e-05}. Best is trial 86 with value: 0.03703703703703709.\n"
     ]
    },
    {
     "name": "stdout",
     "output_type": "stream",
     "text": [
      "🏃 View run adaptable-ape-718 at: http://127.0.0.1:8282/#/experiments/714730485385891129/runs/9480b9500c804f25bb105546ec7a6f3f\n",
      "🧪 View experiment at: http://127.0.0.1:8282/#/experiments/714730485385891129\n"
     ]
    },
    {
     "name": "stderr",
     "output_type": "stream",
     "text": [
      "[I 2025-07-21 10:39:57,130] Trial 110 finished with value: 0.07317073170731703 and parameters: {'booster': 'gblinear', 'learning_rate': 0.2659321810695212, 'max_depth': 10, 'subsample': 0.6063959823936749, 'colsample_bytree': 0.7776232176105359, 'reg_lambda': 7.253016241883126e-06, 'reg_alpha': 3.0416773206931346e-06}. Best is trial 86 with value: 0.03703703703703709.\n"
     ]
    },
    {
     "name": "stdout",
     "output_type": "stream",
     "text": [
      "🏃 View run illustrious-pig-159 at: http://127.0.0.1:8282/#/experiments/714730485385891129/runs/ec305dc78e3e4ceda142aac910f281aa\n",
      "🧪 View experiment at: http://127.0.0.1:8282/#/experiments/714730485385891129\n"
     ]
    },
    {
     "name": "stderr",
     "output_type": "stream",
     "text": [
      "[I 2025-07-21 10:39:57,871] Trial 111 finished with value: 0.06329113924050633 and parameters: {'booster': 'dart', 'learning_rate': 0.2538689040831975, 'max_depth': 10, 'subsample': 0.6642913177484198, 'colsample_bytree': 0.8347371594080545, 'reg_lambda': 1.4496415560420605e-05, 'reg_alpha': 9.4509172712423e-06}. Best is trial 86 with value: 0.03703703703703709.\n"
     ]
    },
    {
     "name": "stdout",
     "output_type": "stream",
     "text": [
      "🏃 View run sincere-jay-537 at: http://127.0.0.1:8282/#/experiments/714730485385891129/runs/8deb055be97244f5865d31df0ddcb4f0\n",
      "🧪 View experiment at: http://127.0.0.1:8282/#/experiments/714730485385891129\n"
     ]
    },
    {
     "name": "stderr",
     "output_type": "stream",
     "text": [
      "[I 2025-07-21 10:39:58,551] Trial 112 finished with value: 0.06329113924050633 and parameters: {'booster': 'dart', 'learning_rate': 0.23003403256115185, 'max_depth': 10, 'subsample': 0.6573951999404805, 'colsample_bytree': 0.8186102701448819, 'reg_lambda': 5.107188817200258e-07, 'reg_alpha': 4.509186081830563e-05}. Best is trial 86 with value: 0.03703703703703709.\n"
     ]
    },
    {
     "name": "stdout",
     "output_type": "stream",
     "text": [
      "🏃 View run carefree-fish-519 at: http://127.0.0.1:8282/#/experiments/714730485385891129/runs/03712497ed5b4739b16a4090c9772380\n",
      "🧪 View experiment at: http://127.0.0.1:8282/#/experiments/714730485385891129\n"
     ]
    },
    {
     "name": "stderr",
     "output_type": "stream",
     "text": [
      "[I 2025-07-21 10:39:59,370] Trial 113 finished with value: 0.06329113924050633 and parameters: {'booster': 'dart', 'learning_rate': 0.24751042917786653, 'max_depth': 10, 'subsample': 0.6280640419022001, 'colsample_bytree': 0.847512740370058, 'reg_lambda': 6.866894920751875e-05, 'reg_alpha': 1.5081817753602398e-05}. Best is trial 86 with value: 0.03703703703703709.\n"
     ]
    },
    {
     "name": "stdout",
     "output_type": "stream",
     "text": [
      "🏃 View run valuable-doe-217 at: http://127.0.0.1:8282/#/experiments/714730485385891129/runs/55d981c46dab4428abf42789f4bc77a9\n",
      "🧪 View experiment at: http://127.0.0.1:8282/#/experiments/714730485385891129\n"
     ]
    },
    {
     "name": "stderr",
     "output_type": "stream",
     "text": [
      "[I 2025-07-21 10:40:00,114] Trial 114 finished with value: 0.07499999999999996 and parameters: {'booster': 'dart', 'learning_rate': 0.23807766611168663, 'max_depth': 9, 'subsample': 0.6459931508469429, 'colsample_bytree': 0.6906134847398506, 'reg_lambda': 3.796923702015214e-05, 'reg_alpha': 1.7613167928991398e-06}. Best is trial 86 with value: 0.03703703703703709.\n"
     ]
    },
    {
     "name": "stdout",
     "output_type": "stream",
     "text": [
      "🏃 View run monumental-panda-289 at: http://127.0.0.1:8282/#/experiments/714730485385891129/runs/4f39cd941a1d4cb98b4b6afd1f12eb62\n",
      "🧪 View experiment at: http://127.0.0.1:8282/#/experiments/714730485385891129\n"
     ]
    },
    {
     "name": "stderr",
     "output_type": "stream",
     "text": [
      "[I 2025-07-21 10:40:00,789] Trial 115 finished with value: 0.06329113924050633 and parameters: {'booster': 'dart', 'learning_rate': 0.26169916211820976, 'max_depth': 10, 'subsample': 0.5808197896778424, 'colsample_bytree': 0.8300341823791441, 'reg_lambda': 4.343395684436967e-06, 'reg_alpha': 4.49061164911033e-06}. Best is trial 86 with value: 0.03703703703703709.\n"
     ]
    },
    {
     "name": "stdout",
     "output_type": "stream",
     "text": [
      "🏃 View run serious-snail-763 at: http://127.0.0.1:8282/#/experiments/714730485385891129/runs/849f794e27b841d193939934e31ca7d1\n",
      "🧪 View experiment at: http://127.0.0.1:8282/#/experiments/714730485385891129\n"
     ]
    },
    {
     "name": "stderr",
     "output_type": "stream",
     "text": [
      "[I 2025-07-21 10:40:01,533] Trial 116 finished with value: 0.050000000000000044 and parameters: {'booster': 'dart', 'learning_rate': 0.25127890670914965, 'max_depth': 10, 'subsample': 0.61680079659786, 'colsample_bytree': 0.8648586473874406, 'reg_lambda': 8.808278663196918e-07, 'reg_alpha': 2.2513448346873708e-06}. Best is trial 86 with value: 0.03703703703703709.\n"
     ]
    },
    {
     "name": "stdout",
     "output_type": "stream",
     "text": [
      "🏃 View run brawny-perch-502 at: http://127.0.0.1:8282/#/experiments/714730485385891129/runs/f9bf549bf5f04882b590e6b5c6cbdc26\n",
      "🧪 View experiment at: http://127.0.0.1:8282/#/experiments/714730485385891129\n"
     ]
    },
    {
     "name": "stderr",
     "output_type": "stream",
     "text": [
      "[I 2025-07-21 10:40:02,289] Trial 117 finished with value: 0.06172839506172845 and parameters: {'booster': 'dart', 'learning_rate': 0.270402458359676, 'max_depth': 10, 'subsample': 0.6431312507679451, 'colsample_bytree': 0.8035715723668125, 'reg_lambda': 1.8927187447656582e-05, 'reg_alpha': 8.980495207507257e-07}. Best is trial 86 with value: 0.03703703703703709.\n"
     ]
    },
    {
     "name": "stdout",
     "output_type": "stream",
     "text": [
      "🏃 View run gaudy-hound-173 at: http://127.0.0.1:8282/#/experiments/714730485385891129/runs/d1dac2fe6ad442dfaec862f51de33894\n",
      "🧪 View experiment at: http://127.0.0.1:8282/#/experiments/714730485385891129\n"
     ]
    },
    {
     "name": "stderr",
     "output_type": "stream",
     "text": [
      "[I 2025-07-21 10:40:02,956] Trial 118 finished with value: 0.06329113924050633 and parameters: {'booster': 'dart', 'learning_rate': 0.22277473175478676, 'max_depth': 9, 'subsample': 0.6744878341268319, 'colsample_bytree': 0.7572088758965717, 'reg_lambda': 3.2950417017790584e-07, 'reg_alpha': 2.8235351533759174e-05}. Best is trial 86 with value: 0.03703703703703709.\n"
     ]
    },
    {
     "name": "stdout",
     "output_type": "stream",
     "text": [
      "🏃 View run salty-shrew-620 at: http://127.0.0.1:8282/#/experiments/714730485385891129/runs/77c8b6d7b33744a0b58420801f40d94c\n",
      "🧪 View experiment at: http://127.0.0.1:8282/#/experiments/714730485385891129\n"
     ]
    },
    {
     "name": "stderr",
     "output_type": "stream",
     "text": [
      "[I 2025-07-21 10:40:03,772] Trial 119 finished with value: 0.06329113924050633 and parameters: {'booster': 'dart', 'learning_rate': 0.23107985551582363, 'max_depth': 10, 'subsample': 0.6968141569696823, 'colsample_bytree': 0.7358714245957256, 'reg_lambda': 1.5260882538329357e-07, 'reg_alpha': 8.440853208261128e-05}. Best is trial 86 with value: 0.03703703703703709.\n"
     ]
    },
    {
     "name": "stdout",
     "output_type": "stream",
     "text": [
      "🏃 View run unleashed-carp-934 at: http://127.0.0.1:8282/#/experiments/714730485385891129/runs/95865672d179448c90bbbad3c1d103d9\n",
      "🧪 View experiment at: http://127.0.0.1:8282/#/experiments/714730485385891129\n"
     ]
    },
    {
     "name": "stderr",
     "output_type": "stream",
     "text": [
      "[I 2025-07-21 10:40:04,542] Trial 120 finished with value: 0.050000000000000044 and parameters: {'booster': 'dart', 'learning_rate': 0.25663385191069227, 'max_depth': 9, 'subsample': 0.5956947501350703, 'colsample_bytree': 0.8848235806623642, 'reg_lambda': 3.0665476566727867e-06, 'reg_alpha': 0.00047313377838455}. Best is trial 86 with value: 0.03703703703703709.\n"
     ]
    },
    {
     "name": "stdout",
     "output_type": "stream",
     "text": [
      "🏃 View run calm-shrew-580 at: http://127.0.0.1:8282/#/experiments/714730485385891129/runs/92abcb8a08d6454180034287b64a5d9e\n",
      "🧪 View experiment at: http://127.0.0.1:8282/#/experiments/714730485385891129\n"
     ]
    },
    {
     "name": "stderr",
     "output_type": "stream",
     "text": [
      "[I 2025-07-21 10:40:05,220] Trial 121 finished with value: 0.050000000000000044 and parameters: {'booster': 'dart', 'learning_rate': 0.24983746705121557, 'max_depth': 10, 'subsample': 0.6180262503017037, 'colsample_bytree': 0.852274902568517, 'reg_lambda': 7.585143398049321e-07, 'reg_alpha': 8.052919212183025e-06}. Best is trial 86 with value: 0.03703703703703709.\n"
     ]
    },
    {
     "name": "stdout",
     "output_type": "stream",
     "text": [
      "🏃 View run secretive-robin-861 at: http://127.0.0.1:8282/#/experiments/714730485385891129/runs/bc259e66f57e42839a08e6c44b422f69\n",
      "🧪 View experiment at: http://127.0.0.1:8282/#/experiments/714730485385891129\n"
     ]
    },
    {
     "name": "stderr",
     "output_type": "stream",
     "text": [
      "[I 2025-07-21 10:40:05,991] Trial 122 finished with value: 0.03703703703703709 and parameters: {'booster': 'dart', 'learning_rate': 0.24177753515847517, 'max_depth': 10, 'subsample': 0.6085286902713929, 'colsample_bytree': 0.8660049378467725, 'reg_lambda': 1.0913289015755849e-06, 'reg_alpha': 2.7227582774817578e-06}. Best is trial 86 with value: 0.03703703703703709.\n"
     ]
    },
    {
     "name": "stdout",
     "output_type": "stream",
     "text": [
      "🏃 View run big-owl-378 at: http://127.0.0.1:8282/#/experiments/714730485385891129/runs/9a1a92bddf0246c6b90fe168902b779b\n",
      "🧪 View experiment at: http://127.0.0.1:8282/#/experiments/714730485385891129\n"
     ]
    },
    {
     "name": "stderr",
     "output_type": "stream",
     "text": [
      "[I 2025-07-21 10:40:06,950] Trial 123 finished with value: 0.050000000000000044 and parameters: {'booster': 'dart', 'learning_rate': 0.23994064756346603, 'max_depth': 10, 'subsample': 0.6077224946554729, 'colsample_bytree': 0.8391583569787623, 'reg_lambda': 1.1277849599266744e-06, 'reg_alpha': 1.5187579968103094e-05}. Best is trial 86 with value: 0.03703703703703709.\n"
     ]
    },
    {
     "name": "stdout",
     "output_type": "stream",
     "text": [
      "🏃 View run awesome-shad-801 at: http://127.0.0.1:8282/#/experiments/714730485385891129/runs/3df56a8dcc4d4ec595c6e1130b142754\n",
      "🧪 View experiment at: http://127.0.0.1:8282/#/experiments/714730485385891129\n"
     ]
    },
    {
     "name": "stderr",
     "output_type": "stream",
     "text": [
      "[I 2025-07-21 10:40:07,866] Trial 124 finished with value: 0.050000000000000044 and parameters: {'booster': 'dart', 'learning_rate': 0.2434178026018609, 'max_depth': 10, 'subsample': 0.6273886970327441, 'colsample_bytree': 0.818795232463909, 'reg_lambda': 1.9139112365780675e-06, 'reg_alpha': 2.7121880740759345e-07}. Best is trial 86 with value: 0.03703703703703709.\n"
     ]
    },
    {
     "name": "stdout",
     "output_type": "stream",
     "text": [
      "🏃 View run flawless-toad-108 at: http://127.0.0.1:8282/#/experiments/714730485385891129/runs/bb3b0f0bcf87462b852f5f0f62229021\n",
      "🧪 View experiment at: http://127.0.0.1:8282/#/experiments/714730485385891129\n"
     ]
    },
    {
     "name": "stderr",
     "output_type": "stream",
     "text": [
      "[I 2025-07-21 10:40:08,701] Trial 125 finished with value: 0.050000000000000044 and parameters: {'booster': 'dart', 'learning_rate': 0.22509786006322013, 'max_depth': 7, 'subsample': 0.5897200182009062, 'colsample_bytree': 0.7866207049796425, 'reg_lambda': 8.851341843991274e-06, 'reg_alpha': 1.2556666907808165e-06}. Best is trial 86 with value: 0.03703703703703709.\n"
     ]
    },
    {
     "name": "stdout",
     "output_type": "stream",
     "text": [
      "🏃 View run gentle-gnat-815 at: http://127.0.0.1:8282/#/experiments/714730485385891129/runs/d76ebae0627e4e1e9eb41f79a147960b\n",
      "🧪 View experiment at: http://127.0.0.1:8282/#/experiments/714730485385891129\n"
     ]
    },
    {
     "name": "stderr",
     "output_type": "stream",
     "text": [
      "[I 2025-07-21 10:40:09,433] Trial 126 finished with value: 0.0864197530864198 and parameters: {'booster': 'dart', 'learning_rate': 0.2047958293339309, 'max_depth': 10, 'subsample': 0.656391710874661, 'colsample_bytree': 0.8575915873736247, 'reg_lambda': 0.00012564529537551319, 'reg_alpha': 5.409279905452129e-06}. Best is trial 86 with value: 0.03703703703703709.\n"
     ]
    },
    {
     "name": "stdout",
     "output_type": "stream",
     "text": [
      "🏃 View run learned-cod-402 at: http://127.0.0.1:8282/#/experiments/714730485385891129/runs/a0fe5a111a77476b8a0064c10579dd31\n",
      "🧪 View experiment at: http://127.0.0.1:8282/#/experiments/714730485385891129\n"
     ]
    },
    {
     "name": "stderr",
     "output_type": "stream",
     "text": [
      "[I 2025-07-21 10:40:10,213] Trial 127 finished with value: 0.07499999999999996 and parameters: {'booster': 'dart', 'learning_rate': 0.23372750673863069, 'max_depth': 10, 'subsample': 0.634114381856439, 'colsample_bytree': 0.6628149599006692, 'reg_lambda': 3.472096379380622e-05, 'reg_alpha': 2.592911401310831e-06}. Best is trial 86 with value: 0.03703703703703709.\n"
     ]
    },
    {
     "name": "stdout",
     "output_type": "stream",
     "text": [
      "🏃 View run defiant-eel-707 at: http://127.0.0.1:8282/#/experiments/714730485385891129/runs/0eb0cfc8c86a4225bf6a60eeaec4e2f3\n",
      "🧪 View experiment at: http://127.0.0.1:8282/#/experiments/714730485385891129\n"
     ]
    },
    {
     "name": "stderr",
     "output_type": "stream",
     "text": [
      "[I 2025-07-21 10:40:10,975] Trial 128 finished with value: 0.06329113924050633 and parameters: {'booster': 'dart', 'learning_rate': 0.19090683205970158, 'max_depth': 6, 'subsample': 0.5691939596687765, 'colsample_bytree': 0.9244016639319173, 'reg_lambda': 0.0002665245558326235, 'reg_alpha': 0.0002811463235097238}. Best is trial 86 with value: 0.03703703703703709.\n"
     ]
    },
    {
     "name": "stdout",
     "output_type": "stream",
     "text": [
      "🏃 View run blushing-colt-600 at: http://127.0.0.1:8282/#/experiments/714730485385891129/runs/bbb0c80621ad4e57a458223933a03465\n",
      "🧪 View experiment at: http://127.0.0.1:8282/#/experiments/714730485385891129\n"
     ]
    },
    {
     "name": "stderr",
     "output_type": "stream",
     "text": [
      "[I 2025-07-21 10:40:11,638] Trial 129 finished with value: 0.07317073170731703 and parameters: {'booster': 'gblinear', 'learning_rate': 0.2918700026987035, 'max_depth': 9, 'subsample': 0.6046957607808789, 'colsample_bytree': 0.8293685708299453, 'reg_lambda': 1.757262134423622e-06, 'reg_alpha': 3.94222789330973e-06}. Best is trial 86 with value: 0.03703703703703709.\n"
     ]
    },
    {
     "name": "stdout",
     "output_type": "stream",
     "text": [
      "🏃 View run suave-grouse-724 at: http://127.0.0.1:8282/#/experiments/714730485385891129/runs/154347929f2f4929833a599d2bf47c78\n",
      "🧪 View experiment at: http://127.0.0.1:8282/#/experiments/714730485385891129\n"
     ]
    },
    {
     "name": "stderr",
     "output_type": "stream",
     "text": [
      "[I 2025-07-21 10:40:12,500] Trial 130 finished with value: 0.06329113924050633 and parameters: {'booster': 'dart', 'learning_rate': 0.21862964474778504, 'max_depth': 7, 'subsample': 0.6479207619334997, 'colsample_bytree': 0.874048947126312, 'reg_lambda': 3.4545420350323607e-06, 'reg_alpha': 6.426895676536261e-07}. Best is trial 86 with value: 0.03703703703703709.\n"
     ]
    },
    {
     "name": "stdout",
     "output_type": "stream",
     "text": [
      "🏃 View run silent-fly-524 at: http://127.0.0.1:8282/#/experiments/714730485385891129/runs/346e1ea9ac65495ab61ac3c609409ae7\n",
      "🧪 View experiment at: http://127.0.0.1:8282/#/experiments/714730485385891129\n"
     ]
    },
    {
     "name": "stderr",
     "output_type": "stream",
     "text": [
      "[I 2025-07-21 10:40:13,377] Trial 131 finished with value: 0.050000000000000044 and parameters: {'booster': 'dart', 'learning_rate': 0.24998579352362682, 'max_depth': 10, 'subsample': 0.6159996003731301, 'colsample_bytree': 0.861343373198447, 'reg_lambda': 5.793774115725519e-07, 'reg_alpha': 1.8687887766298706e-06}. Best is trial 86 with value: 0.03703703703703709.\n"
     ]
    },
    {
     "name": "stdout",
     "output_type": "stream",
     "text": [
      "🏃 View run polite-cub-587 at: http://127.0.0.1:8282/#/experiments/714730485385891129/runs/8c4c59f26c2e4b0ba7f330f0f059f1d2\n",
      "🧪 View experiment at: http://127.0.0.1:8282/#/experiments/714730485385891129\n"
     ]
    },
    {
     "name": "stderr",
     "output_type": "stream",
     "text": [
      "[I 2025-07-21 10:40:14,112] Trial 132 finished with value: 0.06329113924050633 and parameters: {'booster': 'dart', 'learning_rate': 0.2558857960388216, 'max_depth': 10, 'subsample': 0.5852994979180757, 'colsample_bytree': 0.8702148934978376, 'reg_lambda': 8.877927088527753e-07, 'reg_alpha': 2.8768821973497565e-06}. Best is trial 86 with value: 0.03703703703703709.\n"
     ]
    },
    {
     "name": "stdout",
     "output_type": "stream",
     "text": [
      "🏃 View run suave-rook-83 at: http://127.0.0.1:8282/#/experiments/714730485385891129/runs/c0798259da57418794ac8dcf1a9763c5\n",
      "🧪 View experiment at: http://127.0.0.1:8282/#/experiments/714730485385891129\n"
     ]
    },
    {
     "name": "stderr",
     "output_type": "stream",
     "text": [
      "[I 2025-07-21 10:40:14,841] Trial 133 finished with value: 0.050000000000000044 and parameters: {'booster': 'dart', 'learning_rate': 0.24084239644554836, 'max_depth': 10, 'subsample': 0.6236647414958075, 'colsample_bytree': 0.8833901986365014, 'reg_lambda': 2.3183605414532263e-07, 'reg_alpha': 1.2263790769857712e-06}. Best is trial 86 with value: 0.03703703703703709.\n"
     ]
    },
    {
     "name": "stdout",
     "output_type": "stream",
     "text": [
      "🏃 View run blushing-yak-747 at: http://127.0.0.1:8282/#/experiments/714730485385891129/runs/56797805c26f4a06a782e5679d978a58\n",
      "🧪 View experiment at: http://127.0.0.1:8282/#/experiments/714730485385891129\n"
     ]
    },
    {
     "name": "stderr",
     "output_type": "stream",
     "text": [
      "[I 2025-07-21 10:40:15,497] Trial 134 finished with value: 0.050000000000000044 and parameters: {'booster': 'dart', 'learning_rate': 0.2726418428416302, 'max_depth': 10, 'subsample': 0.6109485889519987, 'colsample_bytree': 0.9004759615377932, 'reg_lambda': 5.268914385502801e-05, 'reg_alpha': 2.407685511470184e-06}. Best is trial 86 with value: 0.03703703703703709.\n"
     ]
    },
    {
     "name": "stdout",
     "output_type": "stream",
     "text": [
      "🏃 View run rambunctious-pig-775 at: http://127.0.0.1:8282/#/experiments/714730485385891129/runs/790a30709a0a478fbd806e2adffedeba\n",
      "🧪 View experiment at: http://127.0.0.1:8282/#/experiments/714730485385891129\n"
     ]
    },
    {
     "name": "stderr",
     "output_type": "stream",
     "text": [
      "[I 2025-07-21 10:40:16,171] Trial 135 finished with value: 0.050000000000000044 and parameters: {'booster': 'dart', 'learning_rate': 0.26256705728157054, 'max_depth': 10, 'subsample': 0.6346044485131652, 'colsample_bytree': 0.8434655049501677, 'reg_lambda': 1.7937141149462074e-05, 'reg_alpha': 6.5835272684919465e-06}. Best is trial 86 with value: 0.03703703703703709.\n"
     ]
    },
    {
     "name": "stdout",
     "output_type": "stream",
     "text": [
      "🏃 View run efficient-slug-185 at: http://127.0.0.1:8282/#/experiments/714730485385891129/runs/34a4a474d51b4f049e304b7fdb135b58\n",
      "🧪 View experiment at: http://127.0.0.1:8282/#/experiments/714730485385891129\n"
     ]
    },
    {
     "name": "stderr",
     "output_type": "stream",
     "text": [
      "[I 2025-07-21 10:40:16,934] Trial 136 finished with value: 0.07692307692307687 and parameters: {'booster': 'dart', 'learning_rate': 0.24654365054655825, 'max_depth': 10, 'subsample': 0.6002254086840279, 'colsample_bytree': 0.7745227491524794, 'reg_lambda': 1.1503264376436084e-05, 'reg_alpha': 1.3300967841362182e-05}. Best is trial 86 with value: 0.03703703703703709.\n"
     ]
    },
    {
     "name": "stdout",
     "output_type": "stream",
     "text": [
      "🏃 View run beautiful-yak-601 at: http://127.0.0.1:8282/#/experiments/714730485385891129/runs/3f2fa68f6840483a8a7d5507626e891c\n",
      "🧪 View experiment at: http://127.0.0.1:8282/#/experiments/714730485385891129\n"
     ]
    },
    {
     "name": "stderr",
     "output_type": "stream",
     "text": [
      "[I 2025-07-21 10:40:17,710] Trial 137 finished with value: 0.050000000000000044 and parameters: {'booster': 'dart', 'learning_rate': 0.23568542979687018, 'max_depth': 10, 'subsample': 0.6410258429144726, 'colsample_bytree': 0.8192206873759403, 'reg_lambda': 1.499083114923851e-06, 'reg_alpha': 2.8320754996352593e-07}. Best is trial 86 with value: 0.03703703703703709.\n"
     ]
    },
    {
     "name": "stdout",
     "output_type": "stream",
     "text": [
      "🏃 View run useful-cat-70 at: http://127.0.0.1:8282/#/experiments/714730485385891129/runs/5614c9faf10a4451a82a04ad5f012cfe\n",
      "🧪 View experiment at: http://127.0.0.1:8282/#/experiments/714730485385891129\n"
     ]
    },
    {
     "name": "stderr",
     "output_type": "stream",
     "text": [
      "[I 2025-07-21 10:40:18,462] Trial 138 finished with value: 0.06329113924050633 and parameters: {'booster': 'dart', 'learning_rate': 0.22779217913746352, 'max_depth': 6, 'subsample': 0.6207978997270764, 'colsample_bytree': 0.7956926889366364, 'reg_lambda': 9.86807378428834e-07, 'reg_alpha': 4.24064893805732e-06}. Best is trial 86 with value: 0.03703703703703709.\n"
     ]
    },
    {
     "name": "stdout",
     "output_type": "stream",
     "text": [
      "🏃 View run skillful-loon-802 at: http://127.0.0.1:8282/#/experiments/714730485385891129/runs/dbbb3b15261b41bbaf515f738d90f12c\n",
      "🧪 View experiment at: http://127.0.0.1:8282/#/experiments/714730485385891129\n"
     ]
    },
    {
     "name": "stderr",
     "output_type": "stream",
     "text": [
      "[I 2025-07-21 10:40:19,202] Trial 139 finished with value: 0.06329113924050633 and parameters: {'booster': 'dart', 'learning_rate': 0.19817722421804018, 'max_depth': 7, 'subsample': 0.6668187178826376, 'colsample_bytree': 0.8624817320812636, 'reg_lambda': 2.422764739611603e-06, 'reg_alpha': 4.388952882684115e-05}. Best is trial 86 with value: 0.03703703703703709.\n"
     ]
    },
    {
     "name": "stdout",
     "output_type": "stream",
     "text": [
      "🏃 View run treasured-croc-48 at: http://127.0.0.1:8282/#/experiments/714730485385891129/runs/c756862dc9e040f597f1095dbf38459c\n",
      "🧪 View experiment at: http://127.0.0.1:8282/#/experiments/714730485385891129\n"
     ]
    },
    {
     "name": "stderr",
     "output_type": "stream",
     "text": [
      "[I 2025-07-21 10:40:20,096] Trial 140 finished with value: 0.0864197530864198 and parameters: {'booster': 'dart', 'learning_rate': 0.13925524660183974, 'max_depth': 10, 'subsample': 0.577655263399943, 'colsample_bytree': 0.8919332068779138, 'reg_lambda': 0.0009547715208761711, 'reg_alpha': 2.128605638955934e-05}. Best is trial 86 with value: 0.03703703703703709.\n"
     ]
    },
    {
     "name": "stdout",
     "output_type": "stream",
     "text": [
      "🏃 View run receptive-bird-559 at: http://127.0.0.1:8282/#/experiments/714730485385891129/runs/7a2fbeeee1254120a94adfbda1c5cba7\n",
      "🧪 View experiment at: http://127.0.0.1:8282/#/experiments/714730485385891129\n"
     ]
    },
    {
     "name": "stderr",
     "output_type": "stream",
     "text": [
      "[I 2025-07-21 10:40:20,785] Trial 141 finished with value: 0.06329113924050633 and parameters: {'booster': 'dart', 'learning_rate': 0.2594406614021169, 'max_depth': 9, 'subsample': 0.5990601972713341, 'colsample_bytree': 0.8761112794500662, 'reg_lambda': 3.029826491297573e-06, 'reg_alpha': 0.0005122504424991397}. Best is trial 86 with value: 0.03703703703703709.\n"
     ]
    },
    {
     "name": "stdout",
     "output_type": "stream",
     "text": [
      "🏃 View run bemused-colt-481 at: http://127.0.0.1:8282/#/experiments/714730485385891129/runs/146f0e0682e34855aeb08970d795006e\n",
      "🧪 View experiment at: http://127.0.0.1:8282/#/experiments/714730485385891129\n"
     ]
    },
    {
     "name": "stderr",
     "output_type": "stream",
     "text": [
      "[I 2025-07-21 10:40:21,612] Trial 142 finished with value: 0.06172839506172845 and parameters: {'booster': 'dart', 'learning_rate': 0.2522990677837678, 'max_depth': 9, 'subsample': 0.5893826298154321, 'colsample_bytree': 0.8825157073349745, 'reg_lambda': 4.98033517755833e-06, 'reg_alpha': 0.0004540590183860377}. Best is trial 86 with value: 0.03703703703703709.\n"
     ]
    },
    {
     "name": "stdout",
     "output_type": "stream",
     "text": [
      "🏃 View run calm-goat-154 at: http://127.0.0.1:8282/#/experiments/714730485385891129/runs/bfe7ea55fb9c427caf76c3114b867448\n",
      "🧪 View experiment at: http://127.0.0.1:8282/#/experiments/714730485385891129\n"
     ]
    },
    {
     "name": "stderr",
     "output_type": "stream",
     "text": [
      "[I 2025-07-21 10:40:22,334] Trial 143 finished with value: 0.050000000000000044 and parameters: {'booster': 'dart', 'learning_rate': 0.25625330333079843, 'max_depth': 10, 'subsample': 0.6122771978408795, 'colsample_bytree': 0.8083140292698863, 'reg_lambda': 4.2803288622979765e-07, 'reg_alpha': 0.00016271501287410054}. Best is trial 86 with value: 0.03703703703703709.\n"
     ]
    },
    {
     "name": "stdout",
     "output_type": "stream",
     "text": [
      "🏃 View run skillful-donkey-922 at: http://127.0.0.1:8282/#/experiments/714730485385891129/runs/8c52a81973c042c4a84f1eb464e4d10e\n",
      "🧪 View experiment at: http://127.0.0.1:8282/#/experiments/714730485385891129\n"
     ]
    },
    {
     "name": "stderr",
     "output_type": "stream",
     "text": [
      "[I 2025-07-21 10:40:23,102] Trial 144 finished with value: 0.07499999999999996 and parameters: {'booster': 'dart', 'learning_rate': 0.24356595962142613, 'max_depth': 9, 'subsample': 0.5597005733464846, 'colsample_bytree': 0.9151476240650666, 'reg_lambda': 2.585310218885712e-05, 'reg_alpha': 0.0007977949824908853}. Best is trial 86 with value: 0.03703703703703709.\n"
     ]
    },
    {
     "name": "stdout",
     "output_type": "stream",
     "text": [
      "🏃 View run enchanting-duck-905 at: http://127.0.0.1:8282/#/experiments/714730485385891129/runs/8ab457685f9249c7a34a09f21eaa134b\n",
      "🧪 View experiment at: http://127.0.0.1:8282/#/experiments/714730485385891129\n"
     ]
    },
    {
     "name": "stderr",
     "output_type": "stream",
     "text": [
      "[I 2025-07-21 10:40:23,868] Trial 145 finished with value: 0.050000000000000044 and parameters: {'booster': 'dart', 'learning_rate': 0.27742482246433675, 'max_depth': 10, 'subsample': 0.6289383052341675, 'colsample_bytree': 0.9060949959854242, 'reg_lambda': 7.74204223532983e-06, 'reg_alpha': 0.0012681361560022367}. Best is trial 86 with value: 0.03703703703703709.\n"
     ]
    },
    {
     "name": "stdout",
     "output_type": "stream",
     "text": [
      "🏃 View run worried-skink-298 at: http://127.0.0.1:8282/#/experiments/714730485385891129/runs/6de4d2fa7d5d40808f7a67a8a0d29698\n",
      "🧪 View experiment at: http://127.0.0.1:8282/#/experiments/714730485385891129\n"
     ]
    },
    {
     "name": "stderr",
     "output_type": "stream",
     "text": [
      "[I 2025-07-21 10:40:24,643] Trial 146 finished with value: 0.050000000000000044 and parameters: {'booster': 'dart', 'learning_rate': 0.23733152777843775, 'max_depth': 6, 'subsample': 0.6566461428992889, 'colsample_bytree': 0.8551540774200476, 'reg_lambda': 2.9150683400291364e-06, 'reg_alpha': 0.0009090404643618642}. Best is trial 86 with value: 0.03703703703703709.\n"
     ]
    },
    {
     "name": "stdout",
     "output_type": "stream",
     "text": [
      "🏃 View run loud-swan-529 at: http://127.0.0.1:8282/#/experiments/714730485385891129/runs/9568b5ecbbed48569f93051031a86a64\n",
      "🧪 View experiment at: http://127.0.0.1:8282/#/experiments/714730485385891129\n"
     ]
    },
    {
     "name": "stderr",
     "output_type": "stream",
     "text": [
      "[I 2025-07-21 10:40:25,415] Trial 147 finished with value: 0.06329113924050633 and parameters: {'booster': 'dart', 'learning_rate': 0.21174555603524264, 'max_depth': 7, 'subsample': 0.593570465142052, 'colsample_bytree': 0.8268579779431064, 'reg_lambda': 6.938837405397972e-07, 'reg_alpha': 0.00025749210947582}. Best is trial 86 with value: 0.03703703703703709.\n"
     ]
    },
    {
     "name": "stdout",
     "output_type": "stream",
     "text": [
      "🏃 View run adorable-wasp-752 at: http://127.0.0.1:8282/#/experiments/714730485385891129/runs/8e61d118d48d41a0a541640ca183ac48\n",
      "🧪 View experiment at: http://127.0.0.1:8282/#/experiments/714730485385891129\n"
     ]
    },
    {
     "name": "stderr",
     "output_type": "stream",
     "text": [
      "[I 2025-07-21 10:40:26,159] Trial 148 finished with value: 0.050000000000000044 and parameters: {'booster': 'dart', 'learning_rate': 0.2667051038753727, 'max_depth': 10, 'subsample': 0.6403563720847366, 'colsample_bytree': 0.8382732622416817, 'reg_lambda': 8.754295555135147e-05, 'reg_alpha': 9.430673442100443e-07}. Best is trial 86 with value: 0.03703703703703709.\n"
     ]
    },
    {
     "name": "stdout",
     "output_type": "stream",
     "text": [
      "🏃 View run capable-skink-125 at: http://127.0.0.1:8282/#/experiments/714730485385891129/runs/f12b7a378b5346ea889e6a24dc04fa3d\n",
      "🧪 View experiment at: http://127.0.0.1:8282/#/experiments/714730485385891129\n"
     ]
    },
    {
     "name": "stderr",
     "output_type": "stream",
     "text": [
      "[I 2025-07-21 10:40:26,900] Trial 149 finished with value: 0.06329113924050633 and parameters: {'booster': 'dart', 'learning_rate': 0.23077869709035123, 'max_depth': 10, 'subsample': 0.62083902725375, 'colsample_bytree': 0.9347331885604215, 'reg_lambda': 1.6048817531369873e-06, 'reg_alpha': 1.947837169024748e-06}. Best is trial 86 with value: 0.03703703703703709.\n"
     ]
    },
    {
     "name": "stdout",
     "output_type": "stream",
     "text": [
      "🏃 View run respected-cub-780 at: http://127.0.0.1:8282/#/experiments/714730485385891129/runs/ceb124f2797a470db94deefb8e0d0ff8\n",
      "🧪 View experiment at: http://127.0.0.1:8282/#/experiments/714730485385891129\n"
     ]
    },
    {
     "name": "stderr",
     "output_type": "stream",
     "text": [
      "[I 2025-07-21 10:40:27,472] Trial 150 finished with value: 0.07317073170731703 and parameters: {'booster': 'gblinear', 'learning_rate': 0.28334807000400675, 'max_depth': 9, 'subsample': 0.6038177028336783, 'colsample_bytree': 0.9608721151344676, 'reg_lambda': 4.286254424383285e-06, 'reg_alpha': 8.81580833934857e-05}. Best is trial 86 with value: 0.03703703703703709.\n"
     ]
    },
    {
     "name": "stdout",
     "output_type": "stream",
     "text": [
      "🏃 View run honorable-bee-655 at: http://127.0.0.1:8282/#/experiments/714730485385891129/runs/f15ae1b044714c158a820cc3a6041e4e\n",
      "🧪 View experiment at: http://127.0.0.1:8282/#/experiments/714730485385891129\n"
     ]
    },
    {
     "name": "stderr",
     "output_type": "stream",
     "text": [
      "[I 2025-07-21 10:40:28,162] Trial 151 finished with value: 0.050000000000000044 and parameters: {'booster': 'dart', 'learning_rate': 0.249692933405553, 'max_depth': 10, 'subsample': 0.6173099235340517, 'colsample_bytree': 0.8503437468869155, 'reg_lambda': 8.753540805083255e-07, 'reg_alpha': 7.86202538572497e-06}. Best is trial 86 with value: 0.03703703703703709.\n"
     ]
    },
    {
     "name": "stdout",
     "output_type": "stream",
     "text": [
      "🏃 View run fearless-mole-275 at: http://127.0.0.1:8282/#/experiments/714730485385891129/runs/6eca88f55fc64a489d66425dde9de741\n",
      "🧪 View experiment at: http://127.0.0.1:8282/#/experiments/714730485385891129\n"
     ]
    },
    {
     "name": "stderr",
     "output_type": "stream",
     "text": [
      "[I 2025-07-21 10:40:28,867] Trial 152 finished with value: 0.06329113924050633 and parameters: {'booster': 'dart', 'learning_rate': 0.2542912186800449, 'max_depth': 10, 'subsample': 0.5962318842343082, 'colsample_bytree': 0.868258387789855, 'reg_lambda': 6.470858827847992e-07, 'reg_alpha': 8.181964247682058e-06}. Best is trial 86 with value: 0.03703703703703709.\n"
     ]
    },
    {
     "name": "stdout",
     "output_type": "stream",
     "text": [
      "🏃 View run suave-lynx-409 at: http://127.0.0.1:8282/#/experiments/714730485385891129/runs/6eed705428eb4b4ca2b3bcbbc421e24a\n",
      "🧪 View experiment at: http://127.0.0.1:8282/#/experiments/714730485385891129\n"
     ]
    },
    {
     "name": "stderr",
     "output_type": "stream",
     "text": [
      "[I 2025-07-21 10:40:29,582] Trial 153 finished with value: 0.050000000000000044 and parameters: {'booster': 'dart', 'learning_rate': 0.2464689855752932, 'max_depth': 10, 'subsample': 0.6258738262118665, 'colsample_bytree': 0.8507371572258036, 'reg_lambda': 1.0606718113715531e-06, 'reg_alpha': 0.00196176842386388}. Best is trial 86 with value: 0.03703703703703709.\n"
     ]
    },
    {
     "name": "stdout",
     "output_type": "stream",
     "text": [
      "🏃 View run skittish-robin-830 at: http://127.0.0.1:8282/#/experiments/714730485385891129/runs/b138cc7630534bab9a911e07286612ef\n",
      "🧪 View experiment at: http://127.0.0.1:8282/#/experiments/714730485385891129\n"
     ]
    },
    {
     "name": "stderr",
     "output_type": "stream",
     "text": [
      "[I 2025-07-21 10:40:30,321] Trial 154 finished with value: 0.050000000000000044 and parameters: {'booster': 'dart', 'learning_rate': 0.22341050726432926, 'max_depth': 10, 'subsample': 0.6475256323703221, 'colsample_bytree': 0.8123587999314608, 'reg_lambda': 1.9183094308618666e-06, 'reg_alpha': 3.7304199558394007e-06}. Best is trial 86 with value: 0.03703703703703709.\n"
     ]
    },
    {
     "name": "stdout",
     "output_type": "stream",
     "text": [
      "🏃 View run bittersweet-bass-980 at: http://127.0.0.1:8282/#/experiments/714730485385891129/runs/91a91c9e956d442cb815697ce2892e0f\n",
      "🧪 View experiment at: http://127.0.0.1:8282/#/experiments/714730485385891129\n"
     ]
    },
    {
     "name": "stderr",
     "output_type": "stream",
     "text": [
      "[I 2025-07-21 10:40:31,061] Trial 155 finished with value: 0.050000000000000044 and parameters: {'booster': 'dart', 'learning_rate': 0.25061560380836473, 'max_depth': 10, 'subsample': 0.6107138259839641, 'colsample_bytree': 0.7915681923022968, 'reg_lambda': 2.9990266443338595e-07, 'reg_alpha': 1.375489641051764e-06}. Best is trial 86 with value: 0.03703703703703709.\n"
     ]
    },
    {
     "name": "stdout",
     "output_type": "stream",
     "text": [
      "🏃 View run beautiful-finch-216 at: http://127.0.0.1:8282/#/experiments/714730485385891129/runs/07c72a5a555e4117bd1516d05f558520\n",
      "🧪 View experiment at: http://127.0.0.1:8282/#/experiments/714730485385891129\n"
     ]
    },
    {
     "name": "stderr",
     "output_type": "stream",
     "text": [
      "[I 2025-07-21 10:40:31,862] Trial 156 finished with value: 0.07499999999999996 and parameters: {'booster': 'dart', 'learning_rate': 0.23781867195906567, 'max_depth': 10, 'subsample': 0.637155027429742, 'colsample_bytree': 0.8904888108147796, 'reg_lambda': 0.00021767409734267822, 'reg_alpha': 5.7334342830819445e-06}. Best is trial 86 with value: 0.03703703703703709.\n"
     ]
    },
    {
     "name": "stdout",
     "output_type": "stream",
     "text": [
      "🏃 View run loud-squirrel-802 at: http://127.0.0.1:8282/#/experiments/714730485385891129/runs/e93c3c3d6e6a47fe9777a0126cc9302a\n",
      "🧪 View experiment at: http://127.0.0.1:8282/#/experiments/714730485385891129\n"
     ]
    },
    {
     "name": "stderr",
     "output_type": "stream",
     "text": [
      "[I 2025-07-21 10:40:32,777] Trial 157 finished with value: 0.06329113924050633 and parameters: {'booster': 'dart', 'learning_rate': 0.2598650953738131, 'max_depth': 7, 'subsample': 0.5845610715819582, 'colsample_bytree': 0.8399129873238178, 'reg_lambda': 4.7071264943578165e-07, 'reg_alpha': 2.8834305098142963e-05}. Best is trial 86 with value: 0.03703703703703709.\n"
     ]
    },
    {
     "name": "stdout",
     "output_type": "stream",
     "text": [
      "🏃 View run unique-hawk-753 at: http://127.0.0.1:8282/#/experiments/714730485385891129/runs/4cca8fc34b354cd59968efa41908996b\n",
      "🧪 View experiment at: http://127.0.0.1:8282/#/experiments/714730485385891129\n"
     ]
    },
    {
     "name": "stderr",
     "output_type": "stream",
     "text": [
      "[I 2025-07-21 10:40:33,649] Trial 158 finished with value: 0.050000000000000044 and parameters: {'booster': 'dart', 'learning_rate': 0.2425642650050694, 'max_depth': 6, 'subsample': 0.6171664201886242, 'colsample_bytree': 0.8254243234815122, 'reg_lambda': 0.0005481929502311311, 'reg_alpha': 1.0383051103896848e-05}. Best is trial 86 with value: 0.03703703703703709.\n"
     ]
    },
    {
     "name": "stdout",
     "output_type": "stream",
     "text": [
      "🏃 View run upbeat-shad-725 at: http://127.0.0.1:8282/#/experiments/714730485385891129/runs/979e48b254a1415988e58d26e89690d1\n",
      "🧪 View experiment at: http://127.0.0.1:8282/#/experiments/714730485385891129\n"
     ]
    },
    {
     "name": "stderr",
     "output_type": "stream",
     "text": [
      "[I 2025-07-21 10:40:34,565] Trial 159 finished with value: 0.06329113924050633 and parameters: {'booster': 'dart', 'learning_rate': 0.2321921576038669, 'max_depth': 10, 'subsample': 0.6038135693376238, 'colsample_bytree': 0.7794007986389015, 'reg_lambda': 1.215672621224648e-06, 'reg_alpha': 2.398610993333244e-06}. Best is trial 86 with value: 0.03703703703703709.\n"
     ]
    },
    {
     "name": "stdout",
     "output_type": "stream",
     "text": [
      "🏃 View run enthused-skink-164 at: http://127.0.0.1:8282/#/experiments/714730485385891129/runs/1b0f90b87ace4c60bcd162ed00c03ead\n",
      "🧪 View experiment at: http://127.0.0.1:8282/#/experiments/714730485385891129\n"
     ]
    },
    {
     "name": "stderr",
     "output_type": "stream",
     "text": [
      "[I 2025-07-21 10:40:35,434] Trial 160 finished with value: 0.050000000000000044 and parameters: {'booster': 'dart', 'learning_rate': 0.26673710442331944, 'max_depth': 9, 'subsample': 0.5752258391062463, 'colsample_bytree': 0.7498496421192242, 'reg_lambda': 2.6870816063058933e-06, 'reg_alpha': 6.149807861136417e-07}. Best is trial 86 with value: 0.03703703703703709.\n"
     ]
    },
    {
     "name": "stdout",
     "output_type": "stream",
     "text": [
      "🏃 View run upbeat-fawn-215 at: http://127.0.0.1:8282/#/experiments/714730485385891129/runs/0030d5aafce748d5acde8d21794fea34\n",
      "🧪 View experiment at: http://127.0.0.1:8282/#/experiments/714730485385891129\n"
     ]
    },
    {
     "name": "stderr",
     "output_type": "stream",
     "text": [
      "[I 2025-07-21 10:40:36,252] Trial 161 finished with value: 0.050000000000000044 and parameters: {'booster': 'dart', 'learning_rate': 0.2411921856601941, 'max_depth': 10, 'subsample': 0.6087370018902241, 'colsample_bytree': 0.8538102243980452, 'reg_lambda': 8.011538638279833e-07, 'reg_alpha': 1.2921785735649014e-05}. Best is trial 86 with value: 0.03703703703703709.\n"
     ]
    },
    {
     "name": "stdout",
     "output_type": "stream",
     "text": [
      "🏃 View run stately-panda-180 at: http://127.0.0.1:8282/#/experiments/714730485385891129/runs/88c05c338d324fbfaa9e759a2b9c8103\n",
      "🧪 View experiment at: http://127.0.0.1:8282/#/experiments/714730485385891129\n"
     ]
    },
    {
     "name": "stderr",
     "output_type": "stream",
     "text": [
      "[I 2025-07-21 10:40:37,075] Trial 162 finished with value: 0.07499999999999996 and parameters: {'booster': 'dart', 'learning_rate': 0.2479529103395287, 'max_depth': 10, 'subsample': 0.630912206267311, 'colsample_bytree': 0.8368891532636543, 'reg_lambda': 0.00035646231364838904, 'reg_alpha': 1.705526039097272e-05}. Best is trial 86 with value: 0.03703703703703709.\n"
     ]
    },
    {
     "name": "stdout",
     "output_type": "stream",
     "text": [
      "🏃 View run dashing-hound-137 at: http://127.0.0.1:8282/#/experiments/714730485385891129/runs/7992173689cd4e2a965e9cb98bbf403a\n",
      "🧪 View experiment at: http://127.0.0.1:8282/#/experiments/714730485385891129\n"
     ]
    },
    {
     "name": "stderr",
     "output_type": "stream",
     "text": [
      "[I 2025-07-21 10:40:37,878] Trial 163 finished with value: 0.050000000000000044 and parameters: {'booster': 'dart', 'learning_rate': 0.2176527169772484, 'max_depth': 10, 'subsample': 0.620675368116171, 'colsample_bytree': 0.8037532468249508, 'reg_lambda': 1.5777866881885935e-06, 'reg_alpha': 7.401071191710461e-06}. Best is trial 86 with value: 0.03703703703703709.\n"
     ]
    },
    {
     "name": "stdout",
     "output_type": "stream",
     "text": [
      "🏃 View run big-grouse-701 at: http://127.0.0.1:8282/#/experiments/714730485385891129/runs/e928918efe684273b0a15e53336f7ee6\n",
      "🧪 View experiment at: http://127.0.0.1:8282/#/experiments/714730485385891129\n"
     ]
    },
    {
     "name": "stderr",
     "output_type": "stream",
     "text": [
      "[I 2025-07-21 10:40:38,787] Trial 164 finished with value: 0.06329113924050633 and parameters: {'booster': 'dart', 'learning_rate': 0.23896614461702503, 'max_depth': 10, 'subsample': 0.5942937239426322, 'colsample_bytree': 0.8640320956044282, 'reg_lambda': 0.00013330294983624163, 'reg_alpha': 6.369016853538193e-05}. Best is trial 86 with value: 0.03703703703703709.\n"
     ]
    },
    {
     "name": "stdout",
     "output_type": "stream",
     "text": [
      "🏃 View run capricious-pig-786 at: http://127.0.0.1:8282/#/experiments/714730485385891129/runs/9130f038f2d3417daaf1386d3d40bec7\n",
      "🧪 View experiment at: http://127.0.0.1:8282/#/experiments/714730485385891129\n"
     ]
    },
    {
     "name": "stderr",
     "output_type": "stream",
     "text": [
      "[I 2025-07-21 10:40:39,789] Trial 165 finished with value: 0.050000000000000044 and parameters: {'booster': 'dart', 'learning_rate': 0.22532689366071157, 'max_depth': 10, 'subsample': 0.6094566791347937, 'colsample_bytree': 0.7185551304979325, 'reg_lambda': 1.241018527260484e-06, 'reg_alpha': 3.32901709424601e-06}. Best is trial 86 with value: 0.03703703703703709.\n"
     ]
    },
    {
     "name": "stdout",
     "output_type": "stream",
     "text": [
      "🏃 View run melodic-swan-716 at: http://127.0.0.1:8282/#/experiments/714730485385891129/runs/88597c6de831411685579c1337d42a02\n",
      "🧪 View experiment at: http://127.0.0.1:8282/#/experiments/714730485385891129\n"
     ]
    },
    {
     "name": "stderr",
     "output_type": "stream",
     "text": [
      "[I 2025-07-21 10:40:40,625] Trial 166 finished with value: 0.06329113924050633 and parameters: {'booster': 'dart', 'learning_rate': 0.2581065734766257, 'max_depth': 10, 'subsample': 0.6476243861798832, 'colsample_bytree': 0.8426453527581723, 'reg_lambda': 1.1263845556678288e-05, 'reg_alpha': 0.0003586211709030628}. Best is trial 86 with value: 0.03703703703703709.\n"
     ]
    },
    {
     "name": "stdout",
     "output_type": "stream",
     "text": [
      "🏃 View run salty-ram-9 at: http://127.0.0.1:8282/#/experiments/714730485385891129/runs/f56f6ec0edda41f5acc87f46086efefd\n",
      "🧪 View experiment at: http://127.0.0.1:8282/#/experiments/714730485385891129\n"
     ]
    },
    {
     "name": "stderr",
     "output_type": "stream",
     "text": [
      "[I 2025-07-21 10:40:41,443] Trial 167 finished with value: 0.050000000000000044 and parameters: {'booster': 'dart', 'learning_rate': 0.25372496429551783, 'max_depth': 8, 'subsample': 0.630643432716146, 'colsample_bytree': 0.8252025927572707, 'reg_lambda': 6.226614850790859e-07, 'reg_alpha': 4.1091445370438897e-07}. Best is trial 86 with value: 0.03703703703703709.\n"
     ]
    },
    {
     "name": "stdout",
     "output_type": "stream",
     "text": [
      "🏃 View run intrigued-zebra-503 at: http://127.0.0.1:8282/#/experiments/714730485385891129/runs/0cca1a8d6a62491faad64bda6e3a6032\n",
      "🧪 View experiment at: http://127.0.0.1:8282/#/experiments/714730485385891129\n"
     ]
    },
    {
     "name": "stderr",
     "output_type": "stream",
     "text": [
      "[I 2025-07-21 10:40:42,279] Trial 168 finished with value: 0.06329113924050633 and parameters: {'booster': 'dart', 'learning_rate': 0.23234006084983866, 'max_depth': 10, 'subsample': 0.565026056545622, 'colsample_bytree': 0.8763503805237416, 'reg_lambda': 4.370348586715664e-06, 'reg_alpha': 0.00012552812419145}. Best is trial 86 with value: 0.03703703703703709.\n"
     ]
    },
    {
     "name": "stdout",
     "output_type": "stream",
     "text": [
      "🏃 View run luxuriant-fly-235 at: http://127.0.0.1:8282/#/experiments/714730485385891129/runs/96f7db71c98c409ca75fb8592b1bc55c\n",
      "🧪 View experiment at: http://127.0.0.1:8282/#/experiments/714730485385891129\n"
     ]
    },
    {
     "name": "stderr",
     "output_type": "stream",
     "text": [
      "[I 2025-07-21 10:40:43,174] Trial 169 finished with value: 0.050000000000000044 and parameters: {'booster': 'dart', 'learning_rate': 0.24456291222286408, 'max_depth': 10, 'subsample': 0.6639981551953695, 'colsample_bytree': 0.811839815845517, 'reg_lambda': 3.8238215305483796e-07, 'reg_alpha': 4.9250237647408985e-06}. Best is trial 86 with value: 0.03703703703703709.\n"
     ]
    },
    {
     "name": "stdout",
     "output_type": "stream",
     "text": [
      "🏃 View run abrasive-auk-253 at: http://127.0.0.1:8282/#/experiments/714730485385891129/runs/fb438b1a0c994706b9e804eada444622\n",
      "🧪 View experiment at: http://127.0.0.1:8282/#/experiments/714730485385891129\n"
     ]
    },
    {
     "name": "stderr",
     "output_type": "stream",
     "text": [
      "[I 2025-07-21 10:40:44,115] Trial 170 finished with value: 0.06329113924050633 and parameters: {'booster': 'dart', 'learning_rate': 0.23728267696985456, 'max_depth': 7, 'subsample': 0.5849155164729231, 'colsample_bytree': 0.8318238026226878, 'reg_lambda': 6.378104264101034e-06, 'reg_alpha': 2.0384299189386854e-05}. Best is trial 86 with value: 0.03703703703703709.\n"
     ]
    },
    {
     "name": "stdout",
     "output_type": "stream",
     "text": [
      "🏃 View run mysterious-ant-910 at: http://127.0.0.1:8282/#/experiments/714730485385891129/runs/92d32675e5004054875e306391bad694\n",
      "🧪 View experiment at: http://127.0.0.1:8282/#/experiments/714730485385891129\n"
     ]
    },
    {
     "name": "stderr",
     "output_type": "stream",
     "text": [
      "[I 2025-07-21 10:40:44,941] Trial 171 finished with value: 0.06329113924050633 and parameters: {'booster': 'dart', 'learning_rate': 0.2464847073571909, 'max_depth': 10, 'subsample': 0.6272305128688723, 'colsample_bytree': 0.8159941204162914, 'reg_lambda': 1.979785245231613e-06, 'reg_alpha': 2.1385800628282523e-07}. Best is trial 86 with value: 0.03703703703703709.\n"
     ]
    },
    {
     "name": "stdout",
     "output_type": "stream",
     "text": [
      "🏃 View run intelligent-wren-234 at: http://127.0.0.1:8282/#/experiments/714730485385891129/runs/cb460be29da54fa59edd8f530c694039\n",
      "🧪 View experiment at: http://127.0.0.1:8282/#/experiments/714730485385891129\n"
     ]
    },
    {
     "name": "stderr",
     "output_type": "stream",
     "text": [
      "[I 2025-07-21 10:40:45,732] Trial 172 finished with value: 0.07692307692307687 and parameters: {'booster': 'dart', 'learning_rate': 0.24188573298712931, 'max_depth': 10, 'subsample': 0.6392005055345815, 'colsample_bytree': 0.8209303239066085, 'reg_lambda': 2.331867225708766e-06, 'reg_alpha': 3.3122774968268984e-07}. Best is trial 86 with value: 0.03703703703703709.\n"
     ]
    },
    {
     "name": "stdout",
     "output_type": "stream",
     "text": [
      "🏃 View run hilarious-ox-451 at: http://127.0.0.1:8282/#/experiments/714730485385891129/runs/6ae7cc91644a4b758f6e0b8a25a0128d\n",
      "🧪 View experiment at: http://127.0.0.1:8282/#/experiments/714730485385891129\n"
     ]
    },
    {
     "name": "stderr",
     "output_type": "stream",
     "text": [
      "[I 2025-07-21 10:40:46,516] Trial 173 finished with value: 0.050000000000000044 and parameters: {'booster': 'dart', 'learning_rate': 0.25182629597961814, 'max_depth': 10, 'subsample': 0.6155376383666931, 'colsample_bytree': 0.7991407270407622, 'reg_lambda': 1.3797940048967506e-06, 'reg_alpha': 1.057686727282373e-07}. Best is trial 86 with value: 0.03703703703703709.\n"
     ]
    },
    {
     "name": "stdout",
     "output_type": "stream",
     "text": [
      "🏃 View run nimble-kit-767 at: http://127.0.0.1:8282/#/experiments/714730485385891129/runs/1f189ed57832443d8a08091bc5afcd4e\n",
      "🧪 View experiment at: http://127.0.0.1:8282/#/experiments/714730485385891129\n"
     ]
    },
    {
     "name": "stderr",
     "output_type": "stream",
     "text": [
      "[I 2025-07-21 10:40:48,072] Trial 174 finished with value: 0.06172839506172845 and parameters: {'booster': 'dart', 'learning_rate': 0.22702955457023682, 'max_depth': 10, 'subsample': 0.6004184024114182, 'colsample_bytree': 0.8475435144165226, 'reg_lambda': 3.3018138994622297e-06, 'reg_alpha': 3.2570511987948695e-05}. Best is trial 86 with value: 0.03703703703703709.\n"
     ]
    },
    {
     "name": "stdout",
     "output_type": "stream",
     "text": [
      "🏃 View run unleashed-sloth-539 at: http://127.0.0.1:8282/#/experiments/714730485385891129/runs/ae6c9ff530444f059b7ebe17ee713604\n",
      "🧪 View experiment at: http://127.0.0.1:8282/#/experiments/714730485385891129\n"
     ]
    },
    {
     "name": "stderr",
     "output_type": "stream",
     "text": [
      "[I 2025-07-21 10:40:48,886] Trial 175 finished with value: 0.07317073170731703 and parameters: {'booster': 'dart', 'learning_rate': 0.263268670343233, 'max_depth': 10, 'subsample': 0.6200298256528609, 'colsample_bytree': 0.613253545813228, 'reg_lambda': 7.993576727554815e-07, 'reg_alpha': 2.3656259988025702e-07}. Best is trial 86 with value: 0.03703703703703709.\n"
     ]
    },
    {
     "name": "stdout",
     "output_type": "stream",
     "text": [
      "🏃 View run sneaky-bear-862 at: http://127.0.0.1:8282/#/experiments/714730485385891129/runs/c5811294bde44249b6203eb0878ee404\n",
      "🧪 View experiment at: http://127.0.0.1:8282/#/experiments/714730485385891129\n"
     ]
    },
    {
     "name": "stderr",
     "output_type": "stream",
     "text": [
      "[I 2025-07-21 10:40:49,694] Trial 176 finished with value: 0.07499999999999996 and parameters: {'booster': 'dart', 'learning_rate': 0.24522856827922648, 'max_depth': 10, 'subsample': 0.6502742170981833, 'colsample_bytree': 0.7889723313080957, 'reg_lambda': 1.0163583332279436e-06, 'reg_alpha': 1.4159317231958374e-07}. Best is trial 86 with value: 0.03703703703703709.\n"
     ]
    },
    {
     "name": "stdout",
     "output_type": "stream",
     "text": [
      "🏃 View run able-pug-149 at: http://127.0.0.1:8282/#/experiments/714730485385891129/runs/27d24e64e0fe40deac158adbd4d5e8e1\n",
      "🧪 View experiment at: http://127.0.0.1:8282/#/experiments/714730485385891129\n"
     ]
    },
    {
     "name": "stderr",
     "output_type": "stream",
     "text": [
      "[I 2025-07-21 10:40:50,621] Trial 177 finished with value: 0.050000000000000044 and parameters: {'booster': 'dart', 'learning_rate': 0.23528664700149102, 'max_depth': 6, 'subsample': 0.6077551612594765, 'colsample_bytree': 0.8367530533809343, 'reg_lambda': 3.4277331053263196e-05, 'reg_alpha': 1.7363257479017717e-06}. Best is trial 86 with value: 0.03703703703703709.\n"
     ]
    },
    {
     "name": "stdout",
     "output_type": "stream",
     "text": [
      "🏃 View run stately-yak-178 at: http://127.0.0.1:8282/#/experiments/714730485385891129/runs/8e6b3f11823840da896889ddd393131a\n",
      "🧪 View experiment at: http://127.0.0.1:8282/#/experiments/714730485385891129\n"
     ]
    },
    {
     "name": "stderr",
     "output_type": "stream",
     "text": [
      "[I 2025-07-21 10:40:51,450] Trial 178 finished with value: 0.06329113924050633 and parameters: {'booster': 'dart', 'learning_rate': 0.2539465327638634, 'max_depth': 10, 'subsample': 0.6342298263117898, 'colsample_bytree': 0.9805628843798478, 'reg_lambda': 6.443780524892543e-05, 'reg_alpha': 1.083080040619906e-06}. Best is trial 86 with value: 0.03703703703703709.\n"
     ]
    },
    {
     "name": "stdout",
     "output_type": "stream",
     "text": [
      "🏃 View run luminous-rook-92 at: http://127.0.0.1:8282/#/experiments/714730485385891129/runs/a397b92624a54b1892d5c35556400a83\n",
      "🧪 View experiment at: http://127.0.0.1:8282/#/experiments/714730485385891129\n"
     ]
    },
    {
     "name": "stderr",
     "output_type": "stream",
     "text": [
      "[I 2025-07-21 10:40:52,078] Trial 179 finished with value: 0.07317073170731703 and parameters: {'booster': 'gblinear', 'learning_rate': 0.22024785761276008, 'max_depth': 9, 'subsample': 0.5965164729573589, 'colsample_bytree': 0.7692781283924259, 'reg_lambda': 1.55515574693081e-05, 'reg_alpha': 1.1670301164787641e-05}. Best is trial 86 with value: 0.03703703703703709.\n"
     ]
    },
    {
     "name": "stdout",
     "output_type": "stream",
     "text": [
      "🏃 View run adaptable-cod-474 at: http://127.0.0.1:8282/#/experiments/714730485385891129/runs/c8ab0d735042491f9e0c716f48e956c3\n",
      "🧪 View experiment at: http://127.0.0.1:8282/#/experiments/714730485385891129\n"
     ]
    },
    {
     "name": "stderr",
     "output_type": "stream",
     "text": [
      "[I 2025-07-21 10:40:52,876] Trial 180 finished with value: 0.08860759493670889 and parameters: {'booster': 'dart', 'learning_rate': 0.17029397715102557, 'max_depth': 10, 'subsample': 0.6782640339071377, 'colsample_bytree': 0.8621101169397714, 'reg_lambda': 1.9373113952427618e-06, 'reg_alpha': 7.563700276327111e-07}. Best is trial 86 with value: 0.03703703703703709.\n"
     ]
    },
    {
     "name": "stdout",
     "output_type": "stream",
     "text": [
      "🏃 View run nimble-steed-637 at: http://127.0.0.1:8282/#/experiments/714730485385891129/runs/a1a23235acb0474593f357d192574736\n",
      "🧪 View experiment at: http://127.0.0.1:8282/#/experiments/714730485385891129\n"
     ]
    },
    {
     "name": "stderr",
     "output_type": "stream",
     "text": [
      "[I 2025-07-21 10:40:53,714] Trial 181 finished with value: 0.050000000000000044 and parameters: {'booster': 'dart', 'learning_rate': 0.20739391093467371, 'max_depth': 7, 'subsample': 0.5907333319614165, 'colsample_bytree': 0.7799349825177018, 'reg_lambda': 8.69279537498454e-06, 'reg_alpha': 2.62660795883874e-06}. Best is trial 86 with value: 0.03703703703703709.\n"
     ]
    },
    {
     "name": "stdout",
     "output_type": "stream",
     "text": [
      "🏃 View run smiling-sponge-406 at: http://127.0.0.1:8282/#/experiments/714730485385891129/runs/f929e19ba47544bbb68b78bcc9f038f8\n",
      "🧪 View experiment at: http://127.0.0.1:8282/#/experiments/714730485385891129\n"
     ]
    },
    {
     "name": "stderr",
     "output_type": "stream",
     "text": [
      "[I 2025-07-21 10:40:54,458] Trial 182 finished with value: 0.06329113924050633 and parameters: {'booster': 'dart', 'learning_rate': 0.22740544526132053, 'max_depth': 7, 'subsample': 0.6243633304552803, 'colsample_bytree': 0.7932666212702124, 'reg_lambda': 8.856427606602431e-06, 'reg_alpha': 5.238369444009829e-07}. Best is trial 86 with value: 0.03703703703703709.\n"
     ]
    },
    {
     "name": "stdout",
     "output_type": "stream",
     "text": [
      "🏃 View run spiffy-snake-530 at: http://127.0.0.1:8282/#/experiments/714730485385891129/runs/48f394383b9747b8b9091b65cc88eb33\n",
      "🧪 View experiment at: http://127.0.0.1:8282/#/experiments/714730485385891129\n"
     ]
    },
    {
     "name": "stderr",
     "output_type": "stream",
     "text": [
      "[I 2025-07-21 10:40:55,412] Trial 183 finished with value: 0.050000000000000044 and parameters: {'booster': 'dart', 'learning_rate': 0.24024994764727176, 'max_depth': 7, 'subsample': 0.5878881314909318, 'colsample_bytree': 0.8833104791304299, 'reg_lambda': 2.2287389857455653e-05, 'reg_alpha': 1.2203050187329566e-06}. Best is trial 86 with value: 0.03703703703703709.\n"
     ]
    },
    {
     "name": "stdout",
     "output_type": "stream",
     "text": [
      "🏃 View run unequaled-croc-108 at: http://127.0.0.1:8282/#/experiments/714730485385891129/runs/89f32ee956634be1bf5befef8278a5f3\n",
      "🧪 View experiment at: http://127.0.0.1:8282/#/experiments/714730485385891129\n"
     ]
    },
    {
     "name": "stderr",
     "output_type": "stream",
     "text": [
      "[I 2025-07-21 10:40:56,270] Trial 184 finished with value: 0.06329113924050633 and parameters: {'booster': 'dart', 'learning_rate': 0.21535158262377394, 'max_depth': 7, 'subsample': 0.6057752031925462, 'colsample_bytree': 0.8055359875901885, 'reg_lambda': 3.5550403969995135e-06, 'reg_alpha': 1.5593604018903147e-06}. Best is trial 86 with value: 0.03703703703703709.\n"
     ]
    },
    {
     "name": "stdout",
     "output_type": "stream",
     "text": [
      "🏃 View run victorious-snake-622 at: http://127.0.0.1:8282/#/experiments/714730485385891129/runs/b7adebde2ca044f4af901fc976a512c5\n",
      "🧪 View experiment at: http://127.0.0.1:8282/#/experiments/714730485385891129\n"
     ]
    },
    {
     "name": "stderr",
     "output_type": "stream",
     "text": [
      "[I 2025-07-21 10:40:57,051] Trial 185 finished with value: 0.050000000000000044 and parameters: {'booster': 'dart', 'learning_rate': 0.23291605204248939, 'max_depth': 7, 'subsample': 0.6130064408092243, 'colsample_bytree': 0.8192253719872457, 'reg_lambda': 5.517871684021048e-07, 'reg_alpha': 5.321055977646299e-06}. Best is trial 86 with value: 0.03703703703703709.\n"
     ]
    },
    {
     "name": "stdout",
     "output_type": "stream",
     "text": [
      "🏃 View run bemused-midge-565 at: http://127.0.0.1:8282/#/experiments/714730485385891129/runs/c09972e8362546bbbd738315e04804f4\n",
      "🧪 View experiment at: http://127.0.0.1:8282/#/experiments/714730485385891129\n"
     ]
    },
    {
     "name": "stderr",
     "output_type": "stream",
     "text": [
      "[I 2025-07-21 10:40:57,846] Trial 186 finished with value: 0.06329113924050633 and parameters: {'booster': 'dart', 'learning_rate': 0.2257978436117113, 'max_depth': 6, 'subsample': 0.5788917688573121, 'colsample_bytree': 0.857038043173112, 'reg_lambda': 1.0655701676385859e-06, 'reg_alpha': 2.5800830146221432e-06}. Best is trial 86 with value: 0.03703703703703709.\n"
     ]
    },
    {
     "name": "stdout",
     "output_type": "stream",
     "text": [
      "🏃 View run calm-midge-626 at: http://127.0.0.1:8282/#/experiments/714730485385891129/runs/d2e1642a3ff546e3a29991821c2a4a5e\n",
      "🧪 View experiment at: http://127.0.0.1:8282/#/experiments/714730485385891129\n"
     ]
    },
    {
     "name": "stderr",
     "output_type": "stream",
     "text": [
      "[I 2025-07-21 10:40:58,642] Trial 187 finished with value: 0.050000000000000044 and parameters: {'booster': 'dart', 'learning_rate': 0.24956481212437512, 'max_depth': 10, 'subsample': 0.6581720145802794, 'colsample_bytree': 0.7576678236371148, 'reg_lambda': 6.592174741837191e-06, 'reg_alpha': 3.564520071977335e-07}. Best is trial 86 with value: 0.03703703703703709.\n"
     ]
    },
    {
     "name": "stdout",
     "output_type": "stream",
     "text": [
      "🏃 View run bustling-colt-625 at: http://127.0.0.1:8282/#/experiments/714730485385891129/runs/143eba6c1c3541b8a33de677b6738912\n",
      "🧪 View experiment at: http://127.0.0.1:8282/#/experiments/714730485385891129\n"
     ]
    },
    {
     "name": "stderr",
     "output_type": "stream",
     "text": [
      "[I 2025-07-21 10:40:59,448] Trial 188 finished with value: 0.06329113924050633 and parameters: {'booster': 'dart', 'learning_rate': 0.24066355399552608, 'max_depth': 10, 'subsample': 0.6389584385551833, 'colsample_bytree': 0.8317427297740918, 'reg_lambda': 1.2273353791964598e-05, 'reg_alpha': 9.37168477392934e-07}. Best is trial 86 with value: 0.03703703703703709.\n"
     ]
    },
    {
     "name": "stdout",
     "output_type": "stream",
     "text": [
      "🏃 View run delightful-crow-969 at: http://127.0.0.1:8282/#/experiments/714730485385891129/runs/6cc56f721e5e4205ba08217d81eba5bf\n",
      "🧪 View experiment at: http://127.0.0.1:8282/#/experiments/714730485385891129\n"
     ]
    },
    {
     "name": "stderr",
     "output_type": "stream",
     "text": [
      "[I 2025-07-21 10:41:00,212] Trial 189 finished with value: 0.07499999999999996 and parameters: {'booster': 'dart', 'learning_rate': 0.25598463024743084, 'max_depth': 7, 'subsample': 0.6254341082871618, 'colsample_bytree': 0.7852074907855621, 'reg_lambda': 2.0907176958412312e-07, 'reg_alpha': 4.046084941697956e-06}. Best is trial 86 with value: 0.03703703703703709.\n"
     ]
    },
    {
     "name": "stdout",
     "output_type": "stream",
     "text": [
      "🏃 View run sassy-kit-959 at: http://127.0.0.1:8282/#/experiments/714730485385891129/runs/82167cd491244610a2b05e159617816c\n",
      "🧪 View experiment at: http://127.0.0.1:8282/#/experiments/714730485385891129\n"
     ]
    },
    {
     "name": "stderr",
     "output_type": "stream",
     "text": [
      "[I 2025-07-21 10:41:00,956] Trial 190 finished with value: 0.07499999999999996 and parameters: {'booster': 'dart', 'learning_rate': 0.22141119850270954, 'max_depth': 10, 'subsample': 0.5992006409111749, 'colsample_bytree': 0.8446292566906242, 'reg_lambda': 1.996220366278562e-06, 'reg_alpha': 7.3146888112954025e-06}. Best is trial 86 with value: 0.03703703703703709.\n"
     ]
    },
    {
     "name": "stdout",
     "output_type": "stream",
     "text": [
      "🏃 View run bald-ant-916 at: http://127.0.0.1:8282/#/experiments/714730485385891129/runs/ed5e2661a3a044f1b5f824fbba1fadf6\n",
      "🧪 View experiment at: http://127.0.0.1:8282/#/experiments/714730485385891129\n"
     ]
    },
    {
     "name": "stderr",
     "output_type": "stream",
     "text": [
      "[I 2025-07-21 10:41:01,779] Trial 191 finished with value: 0.06172839506172845 and parameters: {'booster': 'dart', 'learning_rate': 0.2480573825285327, 'max_depth': 10, 'subsample': 0.6135868950809743, 'colsample_bytree': 0.8598049166816736, 'reg_lambda': 6.453276769663804e-07, 'reg_alpha': 2.0821425850859054e-06}. Best is trial 86 with value: 0.03703703703703709.\n"
     ]
    },
    {
     "name": "stdout",
     "output_type": "stream",
     "text": [
      "🏃 View run adorable-snipe-21 at: http://127.0.0.1:8282/#/experiments/714730485385891129/runs/b4b14b902c4c4679a13f41f6296f2fea\n",
      "🧪 View experiment at: http://127.0.0.1:8282/#/experiments/714730485385891129\n"
     ]
    },
    {
     "name": "stderr",
     "output_type": "stream",
     "text": [
      "[I 2025-07-21 10:41:02,603] Trial 192 finished with value: 0.06329113924050633 and parameters: {'booster': 'dart', 'learning_rate': 0.24337508522028123, 'max_depth': 10, 'subsample': 0.6201213150298746, 'colsample_bytree': 0.8695580557386693, 'reg_lambda': 4.5485858284004125e-07, 'reg_alpha': 1.6191681313369955e-06}. Best is trial 86 with value: 0.03703703703703709.\n"
     ]
    },
    {
     "name": "stdout",
     "output_type": "stream",
     "text": [
      "🏃 View run incongruous-ram-359 at: http://127.0.0.1:8282/#/experiments/714730485385891129/runs/ac800ad18ca44dff89e613fa828b1793\n",
      "🧪 View experiment at: http://127.0.0.1:8282/#/experiments/714730485385891129\n"
     ]
    },
    {
     "name": "stderr",
     "output_type": "stream",
     "text": [
      "[I 2025-07-21 10:41:03,467] Trial 193 finished with value: 0.07692307692307687 and parameters: {'booster': 'dart', 'learning_rate': 0.23350361702491546, 'max_depth': 10, 'subsample': 0.6288066606923214, 'colsample_bytree': 0.894334351893075, 'reg_lambda': 1.156319008546283e-06, 'reg_alpha': 6.438734667896063e-07}. Best is trial 86 with value: 0.03703703703703709.\n"
     ]
    },
    {
     "name": "stdout",
     "output_type": "stream",
     "text": [
      "🏃 View run enthused-smelt-964 at: http://127.0.0.1:8282/#/experiments/714730485385891129/runs/41ea001a566c487a904b277dd9b83f12\n",
      "🧪 View experiment at: http://127.0.0.1:8282/#/experiments/714730485385891129\n"
     ]
    },
    {
     "name": "stderr",
     "output_type": "stream",
     "text": [
      "[I 2025-07-21 10:41:04,403] Trial 194 finished with value: 0.06329113924050633 and parameters: {'booster': 'dart', 'learning_rate': 0.2513399324490857, 'max_depth': 10, 'subsample': 0.5899339212815239, 'colsample_bytree': 0.8471846357329949, 'reg_lambda': 7.173353618548558e-07, 'reg_alpha': 3.2252520752530026e-06}. Best is trial 86 with value: 0.03703703703703709.\n"
     ]
    },
    {
     "name": "stdout",
     "output_type": "stream",
     "text": [
      "🏃 View run upbeat-zebra-179 at: http://127.0.0.1:8282/#/experiments/714730485385891129/runs/48b6889866cf4ec78e8927a109c0c3e5\n",
      "🧪 View experiment at: http://127.0.0.1:8282/#/experiments/714730485385891129\n"
     ]
    },
    {
     "name": "stderr",
     "output_type": "stream",
     "text": [
      "[I 2025-07-21 10:41:05,411] Trial 195 finished with value: 0.050000000000000044 and parameters: {'booster': 'dart', 'learning_rate': 0.2580065331368312, 'max_depth': 10, 'subsample': 0.6081543728268893, 'colsample_bytree': 0.8155091819001048, 'reg_lambda': 2.659394387458964e-07, 'reg_alpha': 0.0006349327113780175}. Best is trial 86 with value: 0.03703703703703709.\n"
     ]
    },
    {
     "name": "stdout",
     "output_type": "stream",
     "text": [
      "🏃 View run upbeat-deer-160 at: http://127.0.0.1:8282/#/experiments/714730485385891129/runs/c0c9e7ac64f74c7cb57d66d693cb970c\n",
      "🧪 View experiment at: http://127.0.0.1:8282/#/experiments/714730485385891129\n"
     ]
    },
    {
     "name": "stderr",
     "output_type": "stream",
     "text": [
      "[I 2025-07-21 10:41:06,215] Trial 196 finished with value: 0.050000000000000044 and parameters: {'booster': 'dart', 'learning_rate': 0.23723137066397137, 'max_depth': 10, 'subsample': 0.6432042568196334, 'colsample_bytree': 0.8296602577109277, 'reg_lambda': 2.6025871826764818e-06, 'reg_alpha': 4.735604361195196e-05}. Best is trial 86 with value: 0.03703703703703709.\n"
     ]
    },
    {
     "name": "stdout",
     "output_type": "stream",
     "text": [
      "🏃 View run zealous-ape-186 at: http://127.0.0.1:8282/#/experiments/714730485385891129/runs/c55d60dc330b442785b22955dc96d594\n",
      "🧪 View experiment at: http://127.0.0.1:8282/#/experiments/714730485385891129\n"
     ]
    },
    {
     "name": "stderr",
     "output_type": "stream",
     "text": [
      "[I 2025-07-21 10:41:06,947] Trial 197 finished with value: 0.0864197530864198 and parameters: {'booster': 'dart', 'learning_rate': 0.27107754812149676, 'max_depth': 8, 'subsample': 0.6190149076212562, 'colsample_bytree': 0.770873262162507, 'reg_lambda': 4.7029824299118295e-05, 'reg_alpha': 1.5350065332382168e-06}. Best is trial 86 with value: 0.03703703703703709.\n"
     ]
    },
    {
     "name": "stdout",
     "output_type": "stream",
     "text": [
      "🏃 View run judicious-trout-436 at: http://127.0.0.1:8282/#/experiments/714730485385891129/runs/f23e7ddf521f4ca2b9d2cb340a7b3a24\n",
      "🧪 View experiment at: http://127.0.0.1:8282/#/experiments/714730485385891129\n"
     ]
    },
    {
     "name": "stderr",
     "output_type": "stream",
     "text": [
      "[I 2025-07-21 10:41:07,987] Trial 198 finished with value: 0.09756097560975607 and parameters: {'booster': 'dart', 'learning_rate': 0.24731053139734108, 'max_depth': 6, 'subsample': 0.6009654114269641, 'colsample_bytree': 0.6959476856899284, 'reg_lambda': 1.5717664873318027e-06, 'reg_alpha': 5.392062080781014e-06}. Best is trial 86 with value: 0.03703703703703709.\n"
     ]
    },
    {
     "name": "stdout",
     "output_type": "stream",
     "text": [
      "🏃 View run smiling-shad-330 at: http://127.0.0.1:8282/#/experiments/714730485385891129/runs/8ee4a41ffbc6464ba36ef8fbb772d504\n",
      "🧪 View experiment at: http://127.0.0.1:8282/#/experiments/714730485385891129\n"
     ]
    },
    {
     "name": "stderr",
     "output_type": "stream",
     "text": [
      "[I 2025-07-21 10:41:08,964] Trial 199 finished with value: 0.050000000000000044 and parameters: {'booster': 'dart', 'learning_rate': 0.21168806016793426, 'max_depth': 10, 'subsample': 0.6384992691382786, 'colsample_bytree': 0.882201435146189, 'reg_lambda': 2.7825877537351547e-05, 'reg_alpha': 0.00020547183358637084}. Best is trial 86 with value: 0.03703703703703709.\n"
     ]
    }
   ],
   "source": [
    "run_name = 'experiment_1'\n",
    "mlflow.set_experiment(experiment_id=id_experiment)\n",
    "\n",
    "with mlflow.start_run(run_name=run_name):\n",
    "    # Hyperparameter optimization\n",
    "    study = optuna.create_study(direction='minimize')\n",
    "    study.optimize(optimize_hyperparameters, n_trials=200, callbacks=[f1_score_callback])\n",
    "\n",
    "    # Log best trial and F1-score as tags\n",
    "    mlflow.set_tag('best_f1_score', f'{1.0 - study.best_value:.4f}')\n",
    "    mlflow.set_tag('best_trial',    str(study.best_trial.number))\n",
    "\n",
    "    # Final training using full train + validation data\n",
    "    dtrainval = xgb.DMatrix(X_trainval.values, label=y_trainval.values)\n",
    "    dtest     = xgb.DMatrix(X_test.values,      label=y_test.values)\n",
    "\n",
    "    final_model = xgb.train(\n",
    "        study.best_params,\n",
    "        dtrainval,\n",
    "        evals=[(dtest, 'test')],\n",
    "        num_boost_round=1000,\n",
    "        early_stopping_rounds=20,\n",
    "        verbose_eval=False)\n",
    "\n",
    "    # Evaluation on the test set\n",
    "    y_pred_test   = final_model.predict(dtest)\n",
    "    y_pred_binary = (y_pred_test >= 0.5).astype(int)\n",
    "\n",
    "    acc  = accuracy_score(y_test, y_pred_binary)\n",
    "    prec = precision_score(y_test, y_pred_binary)\n",
    "    rec  = recall_score(y_test, y_pred_binary)\n",
    "    f1   = f1_score(y_test, y_pred_binary)\n",
    "\n",
    "    mlflow.log_metric('final_accuracy',  acc)\n",
    "    mlflow.log_metric('final_precision', prec)\n",
    "    mlflow.log_metric('final_recall',    rec)\n",
    "    mlflow.log_metric('final_f1_score',  f1)\n",
    "\n",
    "    # Confusion matrix \n",
    "    fig_path = os.path.join(tempfile.gettempdir(), 'confusion_matrix.png')\n",
    "    plot_confusion_matrix(y_test, y_pred_binary, save_path=fig_path)\n",
    "    mlflow.log_artifact(fig_path)\n",
    "\n",
    "    # Correlation\n",
    "    corr_path = os.path.join(tempfile.gettempdir(), 'correlation.png')\n",
    "    plot_corr(df, target='Channel', save_path=corr_path)\n",
    "    mlflow.log_artifact(corr_path)\n",
    "    plt.close()\n",
    "\n",
    "    # Feature importance\n",
    "    fi_path = os.path.join(tempfile.gettempdir(), 'feature_importance.png')\n",
    "    plot_feature_importance(\n",
    "    model=final_model,\n",
    "    booster=\"gbtree\",\n",
    "    top_n=10,\n",
    "    importance_type=None,\n",
    "    save_path=fi_path)\n",
    "    mlflow.log_artifact(fi_path)\n",
    "    plt.close()\n",
    "\n",
    "    # Model signature inference for MLflow Model Registry\n",
    "    signature = infer_signature(X_trainval, final_model.predict(dtrainval))\n",
    "\n",
    "    # Save the final model\n",
    "    tmp_dir         = tempfile.mkdtemp()\n",
    "    model_save_path = os.path.join(tmp_dir, 'model')\n",
    "\n",
    "    mlflow.xgboost.save_model(\n",
    "        final_model,\n",
    "        path=model_save_path,\n",
    "        input_example=X_trainval.iloc[[0]],\n",
    "        signature=signature,\n",
    "        model_format='ubj',\n",
    "        metadata={'model_data_version': 1})\n",
    "    \n",
    "    mlflow.log_artifacts(model_save_path, artifact_path='model')\n",
    "    shutil.rmtree(tmp_dir)\n",
    "\n",
    "print('-- Done --')"
   ]
  },
  {
   "cell_type": "markdown",
   "id": "0a9e26e5",
   "metadata": {},
   "source": [
    "## 🔚 All set! Now you have your experiment saved with the best trained model.\n",
    "You can view the model, its metrics, artifacts, and parameters by visiting:\n",
    "👉 http://127.0.0.1:8282 (open in a new browser tab)\n",
    "\n",
    "📦 **Next step: using the trained model for inference**\n",
    "\n",
    "Suppose you now want to use this final trained model to make predictions. For simplicity — and due to the lack of new data — we’ll reuse the same test set used earlier.\n",
    "\n",
    "Just follow the steps below to load the model and make predictions:"
   ]
  },
  {
   "cell_type": "code",
   "execution_count": null,
   "id": "464dde32",
   "metadata": {},
   "outputs": [
    {
     "name": "stdout",
     "output_type": "stream",
     "text": [
      "Parent RUN: 7a652df50df24dff9531e7bf2bf8bee3\n",
      "Base URI  : mlflow-artifacts:/625701581825037692/7a652df50df24dff9531e7bf2bf8bee3/artifacts\n"
     ]
    }
   ],
   "source": [
    "client = MlflowClient()\n",
    "\n",
    "# Filter the run by its exact name\n",
    "papa = client.search_runs(\n",
    "    experiment_ids=[id_experiment],\n",
    "    filter_string='tag.mlflow.runName = \"experiment_1\"')[0]   \n",
    "\n",
    "run_id_pai = papa.info.run_id\n",
    "print(\"Parent RUN:\", run_id_pai)\n",
    "print(\"Base URI  :\", papa.info.artifact_uri)"
   ]
  },
  {
   "cell_type": "code",
   "execution_count": null,
   "id": "6e98d5b5",
   "metadata": {},
   "outputs": [
    {
     "data": {
      "text/plain": [
       "'mlflow-artifacts:/625701581825037692/7a652df50df24dff9531e7bf2bf8bee3/artifacts/model/'"
      ]
     },
     "execution_count": 26,
     "metadata": {},
     "output_type": "execute_result"
    }
   ],
   "source": [
    "model_uri = f'runs:/{run_id_pai}/model'\n",
    "model_uri_abs = f'{papa.info.artifact_uri}/model/'\n",
    "model_uri_abs"
   ]
  },
  {
   "cell_type": "markdown",
   "id": "a09f2de3",
   "metadata": {},
   "source": [
    "## 📦 Loading the Best Model\n",
    "\n"
   ]
  },
  {
   "cell_type": "code",
   "execution_count": null,
   "id": "442a399c",
   "metadata": {},
   "outputs": [
    {
     "data": {
      "application/vnd.jupyter.widget-view+json": {
       "model_id": "cfeb6c245540487a91ebb7daa1c47326",
       "version_major": 2,
       "version_minor": 0
      },
      "text/plain": [
       "Downloading artifacts:   0%|          | 0/7 [00:00<?, ?it/s]"
      ]
     },
     "metadata": {},
     "output_type": "display_data"
    }
   ],
   "source": [
    "best_model = mlflow.xgboost.load_model(model_uri)"
   ]
  },
  {
   "cell_type": "code",
   "execution_count": null,
   "id": "4d8e938a",
   "metadata": {},
   "outputs": [
    {
     "name": "stdout",
     "output_type": "stream",
     "text": [
      "Accuracy  : 0.894\n",
      "Precision : 0.900\n",
      "Recall    : 0.942\n",
      "F1-score  : 0.920\n"
     ]
    },
    {
     "data": {
      "image/png": "[encoded data removed]",
      "text/plain": [
       "<Figure size 432x288 with 2 Axes>"
      ]
     },
     "metadata": {},
     "output_type": "display_data"
    }
   ],
   "source": [
    "# Convert X_test to DMatrix\n",
    "dtest = xgb.DMatrix(X_test)\n",
    "\n",
    "# Make predictions (probabilities)\n",
    "y_prob = best_model.predict(dtest)\n",
    "\n",
    "# Apply 0.5 threshold to get binary classes\n",
    "y_pred = (y_prob > 0.5).astype(int)\n",
    "\n",
    "# Compute metrics\n",
    "acc = accuracy_score(y_test, y_pred)\n",
    "prec = precision_score(y_test, y_pred)\n",
    "rec = recall_score(y_test, y_pred)\n",
    "f1 = f1_score(y_test, y_pred)\n",
    "\n",
    "# Display the results\n",
    "print(f'Accuracy  : {acc:.3f}')\n",
    "print(f'Precision : {prec:.3f}')\n",
    "print(f'Recall    : {rec:.3f}')\n",
    "print(f'F1-score  : {f1:.3f}')\n",
    "\n",
    "# Confusion matrix\n",
    "cm = confusion_matrix(y_test, y_pred)\n",
    "disp = ConfusionMatrixDisplay(confusion_matrix=cm)\n",
    "disp.plot(cmap='Blues')\n",
    "plt.title(\"Confusion Matrix - Final Test\")\n",
    "plt.show()\n"
   ]
  },
  {
   "cell_type": "markdown",
   "id": "98a569d9",
   "metadata": {},
   "source": [
    "## 🏁 Conclusion \n",
    "\n",
    "As mentioned earlier, we reused the same test set **just to demonstrate** how to load the model from MLflow.\n",
    "To verify whether this is truly the **best-performing final model**, simply go to your MLflow experiment, check the corresponding **run ID**, and compare the logged **metrics** with the ones printed above.\n"
   ]
  }
 ],
 "metadata": {
  "kernelspec": {
   "display_name": "base",
   "language": "python",
   "name": "python3"
  },
  "language_info": {
   "codemirror_mode": {
    "name": "ipython",
    "version": 3
   },
   "file_extension": ".py",
   "mimetype": "text/x-python",
   "name": "python",
   "nbconvert_exporter": "python",
   "pygments_lexer": "ipython3",
   "version": "3.9.12"
  }
 },
 "nbformat": 4,
 "nbformat_minor": 5
}
