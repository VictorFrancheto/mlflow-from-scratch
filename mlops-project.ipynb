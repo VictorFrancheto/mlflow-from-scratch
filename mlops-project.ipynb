{
 "cells": [
  {
   "cell_type": "markdown",
   "id": "f8cf1105",
   "metadata": {},
   "source": [
    "# 🛠️ MLflow Hands-On\n",
    "\n",
    "🎯 **Our goal** is to demonstrate how to integrate **MLflow** into a *machine learning* project, showcasing its role in tracking and managing experiments efficiently.\n",
    "\n",
    "We'll start by **fitting an initial boosting model**, logging parameters, metrics, and artifacts. Then, we'll move on to **hyperparameter optimization using Optuna**, with the entire workflow tracked and versioned through MLflow.\n",
    "\n",
    "---------------\n",
    "\n",
    "🛒 **Dataset**\n",
    "For this project, we used the **Wholesale Customers Data Set**, available from the [UCI Machine Learning Repository](https://archive.ics.uci.edu/ml/datasets/Wholesale+customers).\n",
    "\n",
    "This dataset provides insights into customer spending habits across different product categories, making it a useful resource for unsupervised learning and clustering tasks."
   ]
  },
  {
   "cell_type": "markdown",
   "id": "3ca9df87",
   "metadata": {},
   "source": [
    "## 📚 Importing libraries"
   ]
  },
  {
   "cell_type": "code",
   "execution_count": 1,
   "id": "f3c05965",
   "metadata": {},
   "outputs": [],
   "source": [
    "# Data Manipulation\n",
    "import pandas as pd\n",
    "import numpy as np\n",
    "\n",
    "# Visualization\n",
    "import matplotlib.pyplot as plt\n",
    "import seaborn as sns\n",
    "%matplotlib inline\n",
    "\n",
    "# Modeling and Evaluation\n",
    "import xgboost as xgb\n",
    "from xgboost import XGBClassifier\n",
    "from sklearn.model_selection import train_test_split\n",
    "from sklearn.metrics import mean_squared_error\n",
    "from sklearn.metrics import (\n",
    "    accuracy_score, precision_score, recall_score, \n",
    "    f1_score, roc_auc_score, confusion_matrix, ConfusionMatrixDisplay)\n",
    "\n",
    "# Optimization and Experiment Tracking\n",
    "from mlflow.tracking import MlflowClient\n",
    "import optuna\n",
    "import mlflow\n",
    "\n",
    "#  Utilities\n",
    "import warnings\n",
    "import json\n",
    "import math\n",
    "from datetime import datetime, timedelta\n",
    "\n",
    "from sklearn.metrics import f1_score\n",
    "import math\n",
    "\n",
    "# Suppress Warnings\n",
    "warnings.filterwarnings('ignore')"
   ]
  },
  {
   "cell_type": "markdown",
   "id": "87b2d448",
   "metadata": {},
   "source": [
    "## 📥 Import dataset"
   ]
  },
  {
   "cell_type": "code",
   "execution_count": 2,
   "id": "10eb2d90",
   "metadata": {},
   "outputs": [
    {
     "data": {
      "text/html": [
       "<div>\n",
       "<style scoped>\n",
       "    .dataframe tbody tr th:only-of-type {\n",
       "        vertical-align: middle;\n",
       "    }\n",
       "\n",
       "    .dataframe tbody tr th {\n",
       "        vertical-align: top;\n",
       "    }\n",
       "\n",
       "    .dataframe thead th {\n",
       "        text-align: right;\n",
       "    }\n",
       "</style>\n",
       "<table border=\"1\" class=\"dataframe\">\n",
       "  <thead>\n",
       "    <tr style=\"text-align: right;\">\n",
       "      <th></th>\n",
       "      <th>Channel</th>\n",
       "      <th>Region</th>\n",
       "      <th>Fresh</th>\n",
       "      <th>Milk</th>\n",
       "      <th>Grocery</th>\n",
       "      <th>Frozen</th>\n",
       "      <th>Detergents_Paper</th>\n",
       "      <th>Delicassen</th>\n",
       "    </tr>\n",
       "  </thead>\n",
       "  <tbody>\n",
       "    <tr>\n",
       "      <th>435</th>\n",
       "      <td>1</td>\n",
       "      <td>3</td>\n",
       "      <td>29703</td>\n",
       "      <td>12051</td>\n",
       "      <td>16027</td>\n",
       "      <td>13135</td>\n",
       "      <td>182</td>\n",
       "      <td>2204</td>\n",
       "    </tr>\n",
       "    <tr>\n",
       "      <th>436</th>\n",
       "      <td>1</td>\n",
       "      <td>3</td>\n",
       "      <td>39228</td>\n",
       "      <td>1431</td>\n",
       "      <td>764</td>\n",
       "      <td>4510</td>\n",
       "      <td>93</td>\n",
       "      <td>2346</td>\n",
       "    </tr>\n",
       "    <tr>\n",
       "      <th>437</th>\n",
       "      <td>2</td>\n",
       "      <td>3</td>\n",
       "      <td>14531</td>\n",
       "      <td>15488</td>\n",
       "      <td>30243</td>\n",
       "      <td>437</td>\n",
       "      <td>14841</td>\n",
       "      <td>1867</td>\n",
       "    </tr>\n",
       "    <tr>\n",
       "      <th>438</th>\n",
       "      <td>1</td>\n",
       "      <td>3</td>\n",
       "      <td>10290</td>\n",
       "      <td>1981</td>\n",
       "      <td>2232</td>\n",
       "      <td>1038</td>\n",
       "      <td>168</td>\n",
       "      <td>2125</td>\n",
       "    </tr>\n",
       "    <tr>\n",
       "      <th>439</th>\n",
       "      <td>1</td>\n",
       "      <td>3</td>\n",
       "      <td>2787</td>\n",
       "      <td>1698</td>\n",
       "      <td>2510</td>\n",
       "      <td>65</td>\n",
       "      <td>477</td>\n",
       "      <td>52</td>\n",
       "    </tr>\n",
       "  </tbody>\n",
       "</table>\n",
       "</div>"
      ],
      "text/plain": [
       "     Channel  Region  Fresh   Milk  Grocery  Frozen  Detergents_Paper  \\\n",
       "435        1       3  29703  12051    16027   13135               182   \n",
       "436        1       3  39228   1431      764    4510                93   \n",
       "437        2       3  14531  15488    30243     437             14841   \n",
       "438        1       3  10290   1981     2232    1038               168   \n",
       "439        1       3   2787   1698     2510      65               477   \n",
       "\n",
       "     Delicassen  \n",
       "435        2204  \n",
       "436        2346  \n",
       "437        1867  \n",
       "438        2125  \n",
       "439          52  "
      ]
     },
     "execution_count": 2,
     "metadata": {},
     "output_type": "execute_result"
    }
   ],
   "source": [
    "df = pd.read_csv('Wholesale customers data.csv')\n",
    "df.tail()"
   ]
  },
  {
   "cell_type": "markdown",
   "id": "21fb0d2f",
   "metadata": {},
   "source": [
    "## 🔍 Checking for missing values"
   ]
  },
  {
   "cell_type": "code",
   "execution_count": 3,
   "id": "5fb4187d",
   "metadata": {},
   "outputs": [
    {
     "data": {
      "text/plain": [
       "Channel             0\n",
       "Region              0\n",
       "Fresh               0\n",
       "Milk                0\n",
       "Grocery             0\n",
       "Frozen              0\n",
       "Detergents_Paper    0\n",
       "Delicassen          0\n",
       "dtype: int64"
      ]
     },
     "execution_count": 3,
     "metadata": {},
     "output_type": "execute_result"
    }
   ],
   "source": [
    "df.isnull().sum()"
   ]
  },
  {
   "cell_type": "markdown",
   "id": "1d4adb35",
   "metadata": {},
   "source": [
    "## 🎯 Declare feature vector and target variable"
   ]
  },
  {
   "cell_type": "code",
   "execution_count": 4,
   "id": "9de4c41f",
   "metadata": {},
   "outputs": [
    {
     "data": {
      "text/plain": [
       "0    2\n",
       "1    2\n",
       "2    2\n",
       "3    1\n",
       "4    2\n",
       "Name: Channel, dtype: int64"
      ]
     },
     "execution_count": 4,
     "metadata": {},
     "output_type": "execute_result"
    }
   ],
   "source": [
    "X = df.drop('Channel', axis=1)\n",
    "\n",
    "y = df['Channel']\n",
    "y.head()"
   ]
  },
  {
   "cell_type": "markdown",
   "id": "d6476a55",
   "metadata": {},
   "source": [
    "We can see that the \\$y\\$ labels currently contain the values \\$1\\$ and \\$2\\$. For simplicity and easier interpretation, we will convert them to \\$0\\$ and \\$1\\$ for further analysis."
   ]
  },
  {
   "cell_type": "code",
   "execution_count": 5,
   "id": "9bc12073",
   "metadata": {},
   "outputs": [],
   "source": [
    "y[y == 2] = 0\n",
    "y[y == 1] = 1"
   ]
  },
  {
   "cell_type": "markdown",
   "id": "10985fa1",
   "metadata": {},
   "source": [
    "Now, I will convert the dataset into an optimized data structure called **Dmatrix** that XGBoost supports and gives it acclaimed performance and efficiency gains"
   ]
  },
  {
   "cell_type": "code",
   "execution_count": 6,
   "id": "dcb97249",
   "metadata": {},
   "outputs": [],
   "source": [
    "data_dmatrix = xgb.DMatrix(data=X, label=y)"
   ]
  },
  {
   "cell_type": "markdown",
   "id": "aa1c39f7",
   "metadata": {},
   "source": [
    "## ✂️ Split data into separate training and test set"
   ]
  },
  {
   "cell_type": "code",
   "execution_count": 7,
   "id": "9db6392e",
   "metadata": {},
   "outputs": [],
   "source": [
    "X_train, X_test, y_train, y_test = train_test_split(X, y, test_size = 0.3, random_state = 0)"
   ]
  },
  {
   "cell_type": "markdown",
   "id": "d1d9c042",
   "metadata": {},
   "source": [
    "## 🔧 Train the XGBoost Classifier\n",
    "\n",
    "Now it's time to train our **XGBoost classifier**!\n",
    "Before we begin, it’s important to understand the different types of parameters that XGBoost offers. These parameters control the model’s behavior, performance, and complexity.\n",
    "\n",
    "There are **four main categories** of parameters you should know:\n",
    "\n",
    "\n",
    "### ⚙️ General parameters\n",
    "\n",
    "These define which **booster type** to use (e.g., tree-based or linear).\n",
    "Common options include:\n",
    "\n",
    "* `gbtree` – tree-based models (default)\n",
    "* `gblinear` – linear models\n",
    "* `dart` – tree-based models with dropout\n",
    "\n",
    "\n",
    "### 🌲 Booster parameters\n",
    "\n",
    "These depend on the selected booster type and control the training process of individual trees or models.\n",
    "\n",
    "\n",
    "### 🎯 Learning task parameters\n",
    "\n",
    "These define the **objective function** and the type of learning task (e.g., regression, classification, ranking).\n",
    "\n",
    "### 💻 Command line parameters\n",
    "\n",
    "These relate to the CLI (Command Line Interface) version of XGBoost, and aren’t usually needed when using the Python API.\n",
    "\n",
    "\n",
    "## 🧠 Key Parameters to know\n",
    "\n",
    "Here are some of the most important parameters you'll likely tune:\n",
    "\n",
    "* **`learning_rate`** – Controls the step size shrinkage to prevent overfitting. Range: `[0, 1]`.\n",
    "* **`max_depth`** – Maximum depth of a tree. Deeper trees can capture more complex patterns.\n",
    "* **`subsample`** – Fraction of the training data to use for each tree. Lower values can help prevent overfitting.\n",
    "* **`colsample_bytree`** – Fraction of features to use for each tree. Higher values may lead to overfitting.\n",
    "* **`n_estimators`** – Number of boosting rounds (i.e., trees).\n",
    "* **`objective`** – Specifies the learning task and the corresponding loss function:\n",
    "\n",
    "  * `reg:squarederror` – for regression\n",
    "  * `binary:logistic` – for binary classification (probability output)\n",
    "  * `reg:logistic` – for classification with decision outputs\n",
    "\n",
    "\n",
    "## 🛡️ Regularization parameters\n",
    "\n",
    "XGBoost also offers regularization to reduce model complexity and avoid overfitting:\n",
    "\n",
    "* **`gamma`** – Minimum loss reduction required to make a split. Higher values result in fewer splits.\n",
    "* **`alpha`** – L1 regularization term on weights (Lasso). Encourages sparsity.\n",
    "* **`lambda`** – L2 regularization term on weights (Ridge). Adds smoothness.\n",
    "\n",
    "Even though we're using **trees as base learners**, XGBoost also supports linear models (`gblinear`) and dropout-based trees (`dart`) via the `booster` parameter.\n",
    "\n",
    "---\n",
    "\n",
    "Imagine you're a data scientist, and it's time to fine-tune your machine learning model. Fortunately, after some experimentation, you’ve found that the parameter combination below delivers a satisfactory performance for your classification task.\n"
   ]
  },
  {
   "cell_type": "code",
   "execution_count": 8,
   "id": "5a4a6229",
   "metadata": {},
   "outputs": [
    {
     "name": "stdout",
     "output_type": "stream",
     "text": [
      "XGBClassifier(alpha=0.0, base_score=None, booster='gbtree', callbacks=None,\n",
      "              colsample_bylevel=None, colsample_bynode=None,\n",
      "              colsample_bytree=0.8, device=None, early_stopping_rounds=None,\n",
      "              enable_categorical=False, eval_metric='logloss',\n",
      "              feature_types=None, gamma=None, grow_policy=None,\n",
      "              importance_type=None, interaction_constraints=None, lambda=1.0,\n",
      "              learning_rate=0.1, max_bin=None, max_cat_threshold=None,\n",
      "              max_cat_to_onehot=None, max_delta_step=None, max_depth=3,\n",
      "              max_leaves=None, min_child_weight=None, missing=nan,\n",
      "              monotone_constraints=None, multi_strategy=None, n_estimators=None,\n",
      "              n_jobs=None, ...)\n"
     ]
    }
   ],
   "source": [
    "params = {\n",
    "    # Target function for binary classification\n",
    "    'objective': 'binary:logistic',\n",
    "\n",
    "    # Evaluation metric\n",
    "    'eval_metric': 'logloss',\n",
    "\n",
    "    # Booster type (default is 'gbtree')\n",
    "    'booster': 'gbtree',\n",
    "\n",
    "    # Learning rate (step size shrinkage)\n",
    "    'learning_rate': 0.1,\n",
    "\n",
    "    # Maximum depth of each tree\n",
    "    'max_depth': 3,\n",
    "\n",
    "    # Subsample ratio of the training instances\n",
    "    'subsample': 0.8,\n",
    "\n",
    "    # Subsample ratio of columns for each tree\n",
    "    'colsample_bytree': 0.8,\n",
    "\n",
    "    # L2 regularization term on weights (Ridge)\n",
    "    'lambda': 1.0,\n",
    "\n",
    "    # L1 regularization term on weights (Lasso)\n",
    "    'alpha': 0.0}\n",
    "\n",
    "#------------------\n",
    "\n",
    "# Instantiate the classifier\n",
    "xgb_clf = XGBClassifier(**params)\n",
    "\n",
    "# Fit the classifier to the training data\n",
    "xgb_clf.fit(X_train, y_train)\n",
    "print(xgb_clf)\n"
   ]
  },
  {
   "cell_type": "markdown",
   "id": "9c809017",
   "metadata": {},
   "source": [
    "## 🔮 Make Predictions with XGBoost Classifier"
   ]
  },
  {
   "cell_type": "code",
   "execution_count": 9,
   "id": "eb25b790",
   "metadata": {},
   "outputs": [],
   "source": [
    "# make predictions on test data\n",
    "y_pred = xgb_clf.predict(X_test)"
   ]
  },
  {
   "cell_type": "markdown",
   "id": "b4cb2d2d",
   "metadata": {},
   "source": [
    "## ✅ Check Accuracy Score"
   ]
  },
  {
   "cell_type": "code",
   "execution_count": 10,
   "id": "b53760a2",
   "metadata": {},
   "outputs": [
    {
     "name": "stdout",
     "output_type": "stream",
     "text": [
      "Accuracy:  0.8939\n",
      "Precision: 0.8913\n",
      "Recall:    0.9535\n",
      "f1-Score:  0.9213\n",
      "AUC:       0.9626\n"
     ]
    },
    {
     "data": {
      "text/plain": [
       "<sklearn.metrics._plot.confusion_matrix.ConfusionMatrixDisplay at 0x257c9b62f10>"
      ]
     },
     "execution_count": 10,
     "metadata": {},
     "output_type": "execute_result"
    },
    {
     "data": {
      "image/png": "[encoded data removed]",
      "text/plain": [
       "<Figure size 432x288 with 2 Axes>"
      ]
     },
     "metadata": {
      "needs_background": "light"
     },
     "output_type": "display_data"
    }
   ],
   "source": [
    "# Evaluate metrics\n",
    "accuracy = accuracy_score(y_test, y_pred)\n",
    "precision = precision_score(y_test, y_pred)\n",
    "recall = recall_score(y_test, y_pred)\n",
    "f1 = f1_score(y_test, y_pred)\n",
    "auc = roc_auc_score(y_test, xgb_clf.predict_proba(X_test)[:, 1])\n",
    "\n",
    "# Print scores\n",
    "print(f'Accuracy:  {accuracy:.4f}')\n",
    "print(f'Precision: {precision:.4f}')\n",
    "print(f'Recall:    {recall:.4f}')\n",
    "print(f'f1-Score:  {f1:.4f}')\n",
    "print(f'AUC:       {auc:.4f}')\n",
    "\n",
    "# Confusion Matrix\n",
    "cm = confusion_matrix(y_test, y_pred)\n",
    "disp = ConfusionMatrixDisplay(confusion_matrix=cm)\n",
    "disp.plot(cmap='Blues')"
   ]
  },
  {
   "cell_type": "markdown",
   "id": "85f01fe9",
   "metadata": {},
   "source": [
    "## 🔍 Feature importance with XGBoost"
   ]
  },
  {
   "cell_type": "code",
   "execution_count": 11,
   "id": "2c7604df",
   "metadata": {},
   "outputs": [
    {
     "data": {
      "image/png": "[encoded data removed]",
      "text/plain": [
       "<Figure size 720x432 with 1 Axes>"
      ]
     },
     "metadata": {
      "needs_background": "light"
     },
     "output_type": "display_data"
    }
   ],
   "source": [
    "importances = xgb_clf.get_booster().get_score(importance_type='gain')\n",
    "\n",
    "# Convert to DataFrame and sort\n",
    "importance_df = pd.DataFrame({\n",
    "    'Feature': list(importances.keys()),\n",
    "    'Importance': list(importances.values())\n",
    "}).sort_values(by='Importance', ascending=False)\n",
    "\n",
    "# Optional: show only top N features\n",
    "top_n = 10\n",
    "importance_df = importance_df.head(top_n)\n",
    "\n",
    "# Plot with seaborn\n",
    "plt.figure(figsize=(10, 6))\n",
    "sns.barplot(data=importance_df, x='Importance', y='Feature', palette='viridis')\n",
    "plt.title(f\"Top {top_n} Feature Importances (Gain)\")\n",
    "plt.xlabel(\"Gain\")\n",
    "plt.ylabel(\"Feature\")\n",
    "plt.tight_layout()\n",
    "plt.show()\n"
   ]
  },
  {
   "cell_type": "markdown",
   "id": "556edbaa",
   "metadata": {},
   "source": [
    "------------"
   ]
  },
  {
   "cell_type": "markdown",
   "id": "38e762fd",
   "metadata": {},
   "source": [
    "📦 **Project Handoff to MLOps**\n",
    "\n",
    "Now, imagine this is the final output of a data scientist's work. This project will be handed over to a machine learning engineer, who will be responsible for versioning the model using MLflow.\n",
    "\n",
    "The engineer will set up experiment tracking, store the generated artifacts, monitor model performance metrics, and ensure the entire workflow is reproducible all as part of a well-structured MLOps pipeline.\n",
    "\n",
    "🎯 **Next Step: Hyperparameter Optimization**\n",
    "\n",
    "From this point on, we will perform hyperparameter optimization using Optuna. Meanwhile, MLflow will continue to log each experiment, allowing us to compare versions and easily identify the best set of parameters.\n",
    "\n",
    "\n",
    "---------"
   ]
  },
  {
   "cell_type": "markdown",
   "id": "544afdb2",
   "metadata": {},
   "source": [
    "## ⚙️ MLOps in Practice: Managing the Machine Learning Model Lifecycle\n",
    "\n",
    "Now, we explore how **MLOps** practices help structure, automate, and scale the machine learning model lifecycle — from data preparation and model training to deployment, monitoring, and continuous improvement. We'll demonstrate how tools like **MLflow** can streamline this process and ensure reproducibility, traceability, and collaboration across teams."
   ]
  },
  {
   "cell_type": "markdown",
   "id": "3940ddd0",
   "metadata": {},
   "source": [
    "## 🚀 Initializing the MLflow Server\n",
    "\n",
    "To start the MLflow tracking server locally, follow the steps based on your environment:\n",
    "\n",
    "---\n",
    "\n",
    "### 🐍 **Using Anaconda**\n",
    "\n",
    "1. Open the **Anaconda Command Prompt**  \n",
    "2. Navigate to your project directory:\n",
    "\n",
    "   ```bash\n",
    "   cd your-project-path\n",
    "\n",
    "3. Run the MLflow server:\n",
    "\n",
    "   ```bash\n",
    "   python -m mlflow server --host 127.0.0.1 --port 8282\n",
    "\n",
    "\n",
    "### 💻 **Using VS Code**\n",
    "\n",
    "1. Open the **terminal** in VS Code\n",
    "2. Run the command below:\n",
    "\n",
    "   ```bash\n",
    "   py -m mlflow server --host 127.0.0.1 --port 8282\n",
    "\n",
    "✅ Make sure you're using the same Python environment or kernel as the one used in your notebook or training script.\n",
    "\n",
    "-----\n",
    "\n",
    "🛰️  Now, let's define the address of the MLflow tracking server — that is, where the experiment logs (parameters, metrics, models, etc.) will be sent and stored."
   ]
  },
  {
   "cell_type": "code",
   "execution_count": null,
   "id": "e89f0788",
   "metadata": {},
   "outputs": [],
   "source": [
    "mlflow.set_tracking_uri(\"http://127.0.0.1:8282\")"
   ]
  },
  {
   "cell_type": "markdown",
   "id": "21494f27",
   "metadata": {},
   "source": [
    "Access the URL above from a new tab in your browser: [http://127.0.0.1:8282](http://127.0.0.1:8282)\n"
   ]
  },
  {
   "cell_type": "markdown",
   "id": "42c05a52",
   "metadata": {},
   "source": [
    "## 📈 **Monitoring the Trained Model**\n",
    "\n",
    "To properly monitor the performance of the trained model, we will generate a series of visualizations that will help us better understand how the model is behaving.\n",
    "\n",
    "These plots will assist in:\n",
    "\n",
    "* Evaluating predictive quality\n",
    "* Identifying potential bias or imbalance\n",
    "* Detecting signs of overfitting or underfitting\n",
    "* Supporting model explainability and transparency\n",
    "\n",
    "By visualizing key metrics and outputs, we can gain valuable insights that go beyond raw numbers and ensure the model remains reliable over time."
   ]
  },
  {
   "cell_type": "code",
   "execution_count": null,
   "id": "5b9e477a",
   "metadata": {},
   "outputs": [],
   "source": [
    "def plot_corr(df, target='Channel', save_path=None, top_n=None):\n",
    "    '''\n",
    "    Parameters:\n",
    "    - df: pandas DataFrame containing the dataset\n",
    "    - target: string, name of the target column\n",
    "    - save_path: optional path to save the figure (as PNG)\n",
    "    - top_n: optional, number of top features to display based on absolute correlation\n",
    "    '''\n",
    "    # Compute correlations with the target \n",
    "    corr = df.corr()[target].drop(target)\n",
    "    corr = corr.reindex(corr.abs().sort_values().index)\n",
    "\n",
    "    # Optionally show only top N correlated features\n",
    "    if top_n:\n",
    "        corr = corr.tail(top_n)\n",
    "\n",
    "    # Set clean white style\n",
    "    sns.set_style(\"white\")\n",
    "    fig, ax = plt.subplots(figsize=(10, 0.5 * len(corr) + 1))\n",
    "\n",
    "    # Plot horizontal bars with elegant color\n",
    "    bars = ax.barh(\n",
    "        corr.index, corr.values,\n",
    "        color=\"#4C72B0\", edgecolor=\"black\", height=0.6\n",
    "    )\n",
    "\n",
    "    # Add correlation values next to bars\n",
    "    for bar in bars:\n",
    "        width = bar.get_width()\n",
    "        ax.text(\n",
    "            x=width + 0.02 if width > 0 else width - 0.02,\n",
    "            y=bar.get_y() + bar.get_height() / 2,\n",
    "            s=f\"{width:.2f}\",\n",
    "            va='center',\n",
    "            ha='left' if width > 0 else 'right',\n",
    "            fontsize=11)\n",
    "\n",
    "    # Clean and minimal axes\n",
    "    ax.set_title(f\"Correlation with '{target}'\", fontsize=16, pad=12)\n",
    "    ax.set_xlabel(\"Correlation Coefficient\", fontsize=13)\n",
    "    ax.set_ylabel(\"\")\n",
    "    ax.spines['right'].set_visible(False)\n",
    "    ax.spines['top'].set_visible(False)\n",
    "    ax.spines['left'].set_color('#cccccc')\n",
    "    ax.spines['bottom'].set_color('#cccccc')\n",
    "    plt.grid(axis='x', linestyle='--', alpha=0.4)\n",
    "    plt.xticks(fontsize=11)\n",
    "    plt.yticks(fontsize=11)\n",
    "    plt.tight_layout()\n",
    "\n",
    "    # Save figure if needed\n",
    "    if save_path:\n",
    "        plt.savefig(save_path, dpi=300, bbox_inches='tight')\n",
    "\n",
    "    plt.show()\n"
   ]
  },
  {
   "cell_type": "code",
   "execution_count": null,
   "id": "8201dc6e",
   "metadata": {},
   "outputs": [
    {
     "data": {
      "image/png": "[encoded data removed]",
      "text/plain": [
       "<Figure size 720x324 with 1 Axes>"
      ]
     },
     "metadata": {},
     "output_type": "display_data"
    }
   ],
   "source": [
    "plot_corr(df)"
   ]
  },
  {
   "cell_type": "code",
   "execution_count": null,
   "id": "10eb45b5",
   "metadata": {},
   "outputs": [],
   "source": [
    "def plot_confusion_matrix(y_true, y_pred, labels=None, save_path=None):\n",
    "    '''\n",
    "    Plots a styled confusion matrix with annotated counts.\n",
    "\n",
    "    Parameters:\n",
    "    - y_true: array-like, true target labels\n",
    "    - y_pred: array-like, predicted labels\n",
    "    - labels: optional list of label names (for axis ticks)\n",
    "    - save_path: optional path to save the figure as PNG\n",
    "    '''\n",
    "    # Compute confusion matrix\n",
    "    cm = confusion_matrix(y_true, y_pred)\n",
    "\n",
    "    # Set seaborn style\n",
    "    sns.set_style(\"whitegrid\", {\n",
    "        \"axes.facecolor\": \"#eaeaf2\",\n",
    "        \"grid.linewidth\": 1.2\n",
    "    })\n",
    "\n",
    "    # Create figure\n",
    "    fig, ax = plt.subplots(figsize=(8, 6))\n",
    "\n",
    "    # Plot heatmap\n",
    "    sns.heatmap(\n",
    "        cm, annot=True, fmt=\"d\", cmap=\"Blues\",\n",
    "        cbar=False, square=True, linewidths=0.5,\n",
    "        xticklabels=labels if labels else \"auto\",\n",
    "        yticklabels=labels if labels else \"auto\",\n",
    "        ax=ax\n",
    "    )\n",
    "\n",
    "    # Titles and labels\n",
    "    ax.set_title(\"Confusion Matrix\", fontsize=16, pad=12)\n",
    "    ax.set_xlabel(\"Predicted Labels\", fontsize=13)\n",
    "    ax.set_ylabel(\"True Labels\", fontsize=13)\n",
    "    ax.tick_params(axis='both', labelsize=12)\n",
    "\n",
    "    # Adjust layout\n",
    "    plt.tight_layout()\n",
    "\n",
    "    # Save if path provided\n",
    "    if save_path:\n",
    "        plt.savefig(save_path, format=\"png\", dpi=600)\n",
    "\n",
    "    # Close and return figure\n",
    "    plt.close(fig)\n",
    "    return fig\n"
   ]
  },
  {
   "cell_type": "code",
   "execution_count": null,
   "id": "ebb947b0",
   "metadata": {},
   "outputs": [
    {
     "data": {
      "image/png": "[encoded data removed]",
      "text/plain": [
       "<Figure size 576x432 with 1 Axes>"
      ]
     },
     "execution_count": 18,
     "metadata": {},
     "output_type": "execute_result"
    }
   ],
   "source": [
    "plot_confusion_matrix(y_test, y_pred, labels=['Class 0', 'Class 1'])"
   ]
  },
  {
   "cell_type": "code",
   "execution_count": null,
   "id": "8f56e464",
   "metadata": {},
   "outputs": [],
   "source": [
    "def plot_feature_importance(model, booster=\"gbtree\", top_n=10, importance_type=None, save_path=None):\n",
    "    '''\n",
    "    Plots feature importance for a trained XGBoost model (either Booster or XGBClassifier).\n",
    "    '''\n",
    "    if importance_type is None:\n",
    "        importance_type = \"weight\" if booster == \"gblinear\" else \"gain\"\n",
    "\n",
    "    # Handle both Booster and XGBClassifier\n",
    "    if hasattr(model, \"get_booster\"):\n",
    "        booster_model = model.get_booster()\n",
    "    else:\n",
    "        booster_model = model  # assume it's already a Booster\n",
    "\n",
    "    # Extract feature importances\n",
    "    importances = booster_model.get_score(importance_type=importance_type)\n",
    "\n",
    "    importance_df = pd.DataFrame({\n",
    "        'Feature': list(importances.keys()),\n",
    "        'Importance': list(importances.values())\n",
    "    }).sort_values(by='Importance', ascending=False)\n",
    "\n",
    "    if top_n:\n",
    "        importance_df = importance_df.head(top_n)\n",
    "\n",
    "    sns.set_style(\"white\")\n",
    "    plt.figure(figsize=(10, 6))\n",
    "    sns.barplot(data=importance_df, x='Importance', y='Feature', palette='viridis')\n",
    "\n",
    "    plt.title(f\"Top {top_n} Feature Importances ({importance_type.title()})\", fontsize=14)\n",
    "    plt.xlabel(importance_type.title(), fontsize=12)\n",
    "    plt.ylabel(\"Feature\", fontsize=12)\n",
    "    plt.xticks(fontsize=11)\n",
    "    plt.yticks(fontsize=11)\n",
    "    plt.grid(axis='x', linestyle='--', alpha=0.3)\n",
    "    plt.tight_layout()\n",
    "\n",
    "    if save_path:\n",
    "        plt.savefig(save_path, dpi=300, bbox_inches='tight', facecolor='white')\n",
    "\n",
    "    fig = plt.gcf()\n",
    "    plt.close()\n",
    "    return fig\n"
   ]
  },
  {
   "cell_type": "code",
   "execution_count": null,
   "id": "54e7c627",
   "metadata": {},
   "outputs": [
    {
     "data": {
      "image/png": "[encoded data removed]",
      "text/plain": [
       "<Figure size 720x432 with 1 Axes>"
      ]
     },
     "execution_count": 20,
     "metadata": {},
     "output_type": "execute_result"
    }
   ],
   "source": [
    "plot_feature_importance(xgb_clf, booster=\"gbtree\", top_n=10, importance_type=None, save_path=None)"
   ]
  },
  {
   "cell_type": "markdown",
   "id": "b36ab2d8",
   "metadata": {},
   "source": [
    "## 🧪 Creating the experiment in MLflow"
   ]
  },
  {
   "cell_type": "code",
   "execution_count": null,
   "id": "ec479566",
   "metadata": {},
   "outputs": [],
   "source": [
    "# Function to create an MLflow experiment\n",
    "def create_experiment(experiment_name):\n",
    "    '''\n",
    "    Creates an MLflow experiment if it doesn't already exist.\n",
    "    \n",
    "    Parameters:\n",
    "    - experiment_name: string, name of the experiment to create or retrieve\n",
    "    \n",
    "    Returns:\n",
    "    - experiment_id: the ID of the existing or newly created experiment\n",
    "    '''\n",
    "\n",
    "    # Check if the experiment already exists by name\n",
    "    if experiment := mlflow.get_experiment_by_name(experiment_name):\n",
    "        # If it exists, return its ID\n",
    "        return experiment.experiment_id\n",
    "    else:\n",
    "        # If it doesn't exist, create a new one and return its ID\n",
    "        return mlflow.create_experiment(experiment_name)"
   ]
  },
  {
   "cell_type": "code",
   "execution_count": null,
   "id": "6f0317ff",
   "metadata": {},
   "outputs": [
    {
     "name": "stdout",
     "output_type": "stream",
     "text": [
      "The ID of experiment is: 776306234274517897\n"
     ]
    }
   ],
   "source": [
    "# creating the experiment\n",
    "id_experiment = create_experiment('mlflow-project')\n",
    "print(f'The ID of experiment is: {id_experiment}')"
   ]
  },
  {
   "cell_type": "markdown",
   "id": "2355e269",
   "metadata": {},
   "source": [
    "View it in your browser: [http://127.0.0.1:8282](http://127.0.0.1:8282)\n"
   ]
  },
  {
   "cell_type": "code",
   "execution_count": null,
   "id": "15338434",
   "metadata": {},
   "outputs": [],
   "source": [
    "# ----------------------------------------------------------\n",
    "# 1) Split original dataset em treino+validação e teste\n",
    "# ----------------------------------------------------------\n",
    "X_trainval, X_test, y_trainval, y_test = train_test_split(X, y, test_size=0.3, random_state=0)\n",
    "# Split fixo em treino e validação para todas as trials\n",
    "X_train, X_valid, y_train, y_valid = train_test_split(X_trainval, y_trainval, test_size=0.2, random_state=0)"
   ]
  },
  {
   "cell_type": "markdown",
   "id": "b9fff2b2",
   "metadata": {},
   "source": [
    "Quando você faz **hiperparametrização** (como com Optuna), precisa de um conjunto de **validação** além de **treino** e **teste**. Eis o porquê:\n",
    "\n",
    "1. **Evitar vazamento de informação no teste**\n",
    "\n",
    "   * Se você só tiver *train* e *test*, e usar o *test* para escolher os melhores hiperparâmetros, você está “vazando” informação — ou seja, acabou otimizando para o *test* em vez de medir a generalização real.\n",
    "   * O conjunto de **teste** deve permanecer **intocado** até a avaliação final, para simular dados verdadeiramente nunca vistos.\n",
    "\n",
    "2. **Tuning de hiperparâmetros em um conjunto separado**\n",
    "\n",
    "   * O **train** ajusta os pesos do modelo.\n",
    "   * O **validation** serve para **comparar** diferentes configurações (número de árvores, profundidade, learning rate etc.) sem encostar no *test*.\n",
    "   * Só depois que você escolhe a melhor configuração no *validation* você “congela” o modelo e o avalia no *test*.\n",
    "\n",
    "3. **Reprodutibilidade entre trials**\n",
    "\n",
    "   * Ao usar o mesmo *(X\\_train, X\\_valid)* para **todos** os trials, você garante que a única variação que o Optuna vê é **o hiperparâmetro** — e não uma nova partição dos dados a cada tentativa.\n",
    "   * Isso torna a comparação entre trials mais justa e estável.\n",
    "\n",
    "4. **Percentuais típicos**\n",
    "\n",
    "   * `test_size=0.3` → 30% dos dados vão para o **teste** final.\n",
    "   * Dos 70% restantes, `test_size=0.2` em relação a esses 70% → 14% do total vira **validação**, sobrando 56% para **treino**.\n",
    "   * Resumindo:\n",
    "\n",
    "     * **Treino:** 56%\n",
    "     * **Validação:** 14%\n",
    "     * **Teste:** 30%\n",
    "\n",
    "---\n",
    "\n",
    "### Fluxo ideal de um pipeline com tuning\n",
    "\n",
    "1. **Split 3-way**: `train` ↔ `validation` ↔ `test`\n",
    "2. **Otimização** de hiperparâmetros usando **train+validation**\n",
    "3. **Treino final** com melhor configuração em **train+validation**\n",
    "4. **Avaliação final** em **test** (dados nunca vistos)\n",
    "\n",
    "---\n",
    "\n",
    "Dessa forma, você garante que:\n",
    "\n",
    "* O modelo **não se “vicia”** no conjunto de teste.\n",
    "* A escolha de hiperparâmetros é **realmente generalizável**.\n",
    "* A avaliação final reflete o desempenho **verdadeiro** em dados novos.\n"
   ]
  },
  {
   "cell_type": "code",
   "execution_count": null,
   "id": "1fe2c87f",
   "metadata": {},
   "outputs": [],
   "source": [
    "# ----------------------------------------------------------\n",
    "# 2) Função de otimização de hiperparâmetros\n",
    "# ----------------------------------------------------------\n",
    "def optimize_hyperparameters(trial):\n",
    "    # Converte para DMatrix\n",
    "    dsubtrain = xgb.DMatrix(X_train.values, label=y_train.values)\n",
    "    dvalid   = xgb.DMatrix(X_valid.values, label=y_valid.values)\n",
    "\n",
    "    # Espaço de busca de hiperparâmetros\n",
    "    params = {\n",
    "        'objective':        'binary:logistic',\n",
    "        'eval_metric':      'logloss',\n",
    "        'booster':          trial.suggest_categorical('booster', ['gbtree','gblinear','dart']),\n",
    "        'learning_rate':    trial.suggest_float('learning_rate', 0.01, 0.3),\n",
    "        'max_depth':        trial.suggest_int('max_depth', 3, 10),\n",
    "        'subsample':        trial.suggest_float('subsample', 0.5, 1.0),\n",
    "        'colsample_bytree': trial.suggest_float('colsample_bytree', 0.5, 1.0),\n",
    "        'reg_lambda':       trial.suggest_float('reg_lambda', 1e-8, 1.0, log=True),\n",
    "        'reg_alpha':        trial.suggest_float('reg_alpha', 1e-8, 1.0, log=True),\n",
    "    }\n",
    "\n",
    "    # Cada trial é um run aninhado no MLflow\n",
    "    with mlflow.start_run(nested=True):\n",
    "        model = xgb.train(\n",
    "            params,\n",
    "            dsubtrain,\n",
    "            evals=[(dvalid, 'validation')],\n",
    "            num_boost_round=1000,\n",
    "            early_stopping_rounds=20,\n",
    "            verbose_eval=False\n",
    "        )\n",
    "\n",
    "        # Avalia no conjunto de validação\n",
    "        preds_proba = model.predict(dvalid)\n",
    "        preds       = (preds_proba >= 0.5).astype(int)\n",
    "        f1          = f1_score(y_valid, preds)\n",
    "\n",
    "        # Loga parâmetros e métrica no MLflow\n",
    "        mlflow.log_params(params)\n",
    "        mlflow.log_metric('f1_score', f1)\n",
    "\n",
    "    # Optuna minimiza, então retornamos 1 - f1_score\n",
    "    return 1.0 - f1"
   ]
  },
  {
   "cell_type": "code",
   "execution_count": null,
   "id": "410b0f60",
   "metadata": {},
   "outputs": [],
   "source": [
    "# ----------------------------------------------------------\n",
    "# 3) Callback para exibir progresso dos melhores trials\n",
    "# ----------------------------------------------------------\n",
    "def f1_score_callback(study, frozen_trial):\n",
    "    current_winner = study.user_attrs.get('winner', None)\n",
    "    if study.best_value is not None and current_winner != study.best_value:\n",
    "        study.set_user_attr('winner', study.best_value)\n",
    "        print(f'🟢 Novo melhor f1-score: {1.0 - study.best_value:.4f} '\n",
    "              f'no trial {frozen_trial.number}')"
   ]
  },
  {
   "cell_type": "code",
   "execution_count": null,
   "id": "dd2a3ff7",
   "metadata": {},
   "outputs": [],
   "source": [
    "# ----------------------------------------------------------\n",
    "# 4) Experimento principal\n",
    "# ----------------------------------------------------------\n",
    "run_name = 'experiment_1'\n",
    "mlflow.set_experiment(experiment_id=id_experiment)\n",
    "\n",
    "with mlflow.start_run(run_name=run_name):\n",
    "    # 4.1) Otimização de hiperparâmetros\n",
    "    study = optuna.create_study(direction='minimize')\n",
    "    study.optimize(optimize_hyperparameters, n_trials=10, callbacks=[f1_score_callback])\n",
    "\n",
    "    # Log de tags com melhor trial e f1_score\n",
    "    mlflow.set_tag('best_f1_score', f'{1.0 - study.best_value:.4f}')\n",
    "    mlflow.set_tag('best_trial',       str(study.best_trial.number))\n",
    "\n",
    "    # 4.2) Treino final usando treino+validação completos\n",
    "    dtrainval = xgb.DMatrix(X_trainval.values, label=y_trainval.values)\n",
    "    dtest     = xgb.DMatrix(X_test.values,      label=y_test.values)\n",
    "\n",
    "    final_model = xgb.train(\n",
    "        study.best_params,\n",
    "        dtrainval,\n",
    "        evals=[(dtest, 'test')],\n",
    "        num_boost_round=1000,\n",
    "        early_stopping_rounds=20,\n",
    "        verbose_eval=False\n",
    "    )\n",
    "\n",
    "    # 4.3) Avaliação no conjunto de teste\n",
    "    y_pred_test   = final_model.predict(dtest)\n",
    "    y_pred_binary = (y_pred_test >= 0.5).astype(int)\n",
    "\n",
    "    acc = accuracy_score(y_test, y_pred_binary)\n",
    "    prec = precision_score(y_test, y_pred_binary)\n",
    "    rec  = recall_score(y_test, y_pred_binary)\n",
    "    f1   = f1_score(y_test, y_pred_binary)\n",
    "\n",
    "    mlflow.log_metric('final_accuracy',    acc)\n",
    "    mlflow.log_metric('final_precision',   prec)\n",
    "    mlflow.log_metric('final_recall',      rec)\n",
    "    mlflow.log_metric('final_f1_score',    f1)\n",
    "\n",
    "    # 4.4) Matriz de confusão\n",
    "    cm   = confusion_matrix(y_test, y_pred_binary)\n",
    "    disp = ConfusionMatrixDisplay(confusion_matrix=cm)\n",
    "    disp.plot(cmap='Blues')\n",
    "    plt.title('Confusion Matrix')\n",
    "\n",
    "    fig_path = os.path.join(tempfile.gettempdir(), 'confusion_matrix.png')\n",
    "    plt.savefig(fig_path)\n",
    "    mlflow.log_artifact(fig_path)\n",
    "    plt.close()\n",
    "\n",
    "    # 4.5) Inferência de assinatura para MLflow Model Registry\n",
    "    signature = infer_signature(X_trainval, final_model.predict(dtrainval))\n",
    "\n",
    "    # 4.6) Salvamento do modelo final\n",
    "    tmp_dir         = tempfile.mkdtemp()\n",
    "    model_save_path = os.path.join(tmp_dir, 'model')\n",
    "\n",
    "    mlflow.xgboost.save_model(\n",
    "        final_model,\n",
    "        path=model_save_path,\n",
    "        input_example=X_trainval.iloc[[0]],\n",
    "        signature=signature,\n",
    "        model_format='ubj',\n",
    "        metadata={'model_data_version': 1}\n",
    "    )\n",
    "    mlflow.log_artifacts(model_save_path, artifact_path='model')\n",
    "    shutil.rmtree(tmp_dir)\n",
    "\n",
    "print('✅ Finalizado. Modelo avaliado corretamente em X_test.')"
   ]
  },
  {
   "cell_type": "code",
   "execution_count": null,
   "id": "464dde32",
   "metadata": {},
   "outputs": [],
   "source": []
  },
  {
   "cell_type": "code",
   "execution_count": null,
   "id": "6e98d5b5",
   "metadata": {},
   "outputs": [],
   "source": []
  },
  {
   "cell_type": "code",
   "execution_count": null,
   "id": "442a399c",
   "metadata": {},
   "outputs": [],
   "source": []
  },
  {
   "cell_type": "code",
   "execution_count": null,
   "id": "4d8e938a",
   "metadata": {},
   "outputs": [],
   "source": []
  },
  {
   "cell_type": "code",
   "execution_count": null,
   "id": "fa02e534",
   "metadata": {},
   "outputs": [],
   "source": []
  },
  {
   "cell_type": "code",
   "execution_count": null,
   "id": "fe662bc1",
   "metadata": {},
   "outputs": [],
   "source": []
  },
  {
   "cell_type": "code",
   "execution_count": null,
   "id": "5e3a8cf2",
   "metadata": {},
   "outputs": [],
   "source": []
  },
  {
   "cell_type": "code",
   "execution_count": null,
   "id": "34ffcb77",
   "metadata": {},
   "outputs": [],
   "source": []
  },
  {
   "cell_type": "code",
   "execution_count": null,
   "metadata": {},
   "outputs": [],
   "source": []
  },
  {
   "cell_type": "code",
   "execution_count": null,
   "id": "91c9eb5a",
   "metadata": {},
   "outputs": [],
   "source": []
  },
  {
   "cell_type": "code",
   "execution_count": null,
   "id": "c4efadf0",
   "metadata": {},
   "outputs": [],
   "source": []
  },
  {
   "cell_type": "code",
   "execution_count": null,
   "id": "afc0aea5",
   "metadata": {},
   "outputs": [],
   "source": []
  },
  {
   "cell_type": "code",
   "execution_count": null,
   "id": "a6a9ebaa",
   "metadata": {},
   "outputs": [],
   "source": [
    "def optimize_hyperparameters(trial):\n",
    "    # Subtreinamento para evitar overfitting\n",
    "    dsubtrain = xgb.DMatrix(X_train, label=y_train)\n",
    "    dvalid = xgb.DMatrix(X_valid, label=y_valid)\n",
    "\n",
    "    # Hiperparâmetros\n",
    "    params = {\n",
    "    'objective': 'binary:logistic',\n",
    "    'eval_metric': 'logloss',\n",
    "    'booster': trial.suggest_categorical('booster', ['gbtree', 'gblinear', 'dart']),\n",
    "    'learning_rate': trial.suggest_float('learning_rate', 0.01, 0.3),\n",
    "    'max_depth': trial.suggest_int('max_depth', 3, 10),\n",
    "    'subsample': trial.suggest_float('subsample', 0.5, 1.0),\n",
    "    'colsample_bytree': trial.suggest_float('colsample_bytree', 0.5, 1.0),\n",
    "    'lambda': trial.suggest_float('lambda', 1e-8, 1.0, log=True),\n",
    "    'alpha': trial.suggest_float('alpha', 1e-8, 1.0, log=True)}\n",
    "\n",
    "    with mlflow.start_run(nested=True):\n",
    "        # Treinamento com early stopping\n",
    "        model = xgb.train(\n",
    "            params,\n",
    "            dsubtrain,\n",
    "            evals=[(dvalid, \"validation\")],\n",
    "            num_boost_round=1000,\n",
    "            early_stopping_rounds=20,\n",
    "            verbose_eval=False)\n",
    "\n",
    "        # Predição na validação\n",
    "        preds_proba = model.predict(dvalid)\n",
    "        preds = (preds_proba > 0.5).astype(int)\n",
    "\n",
    "        # Métrica\n",
    "        f1 = f1_score(y_valid, preds)\n",
    "\n",
    "        # Loga no MLflow\n",
    "        mlflow.log_params(params)\n",
    "        mlflow.log_metric(\"f1_score\", f1)\n",
    "\n",
    "    return 1.0 - f1 "
   ]
  },
  {
   "cell_type": "markdown",
   "id": "dcb622cc",
   "metadata": {},
   "source": [
    "## 🚀 Explicação da função `optimize_hyperparameters(trial)`\n",
    "\n",
    "Essa função é chamada pelo **Optuna** a cada tentativa (`trial`) para:\n",
    "\n",
    "1. Treinar um modelo XGBoost com os hiperparâmetros sugeridos;\n",
    "2. Avaliar seu desempenho usando `f1-score` no conjunto de validação;\n",
    "3. Retornar `1 - f1_score` (porque o Optuna minimiza funções);\n",
    "4. Registrar os parâmetros e a métrica no **MLflow**.\n",
    "\n",
    "---\n",
    "\n",
    "### 🧱 Estrutura principal da função\n",
    "\n",
    "```python\n",
    "with mlflow.start_run(nested=True):\n",
    "    model = xgb.train(\n",
    "        params,\n",
    "        dsubtrain,\n",
    "        evals=[(dvalid, \"validation\")],\n",
    "        num_boost_round=1000,\n",
    "        early_stopping_rounds=20,\n",
    "        verbose_eval=False\n",
    "    )"
   ]
  },
  {
   "cell_type": "markdown",
   "id": "35c882ed",
   "metadata": {},
   "source": [
    "🔍 O que significa with mlflow.start_run(nested=True)?\n",
    "Inicia uma run aninhada (nested run) no MLflow.\n",
    "\n",
    "Permite que cada tentativa (trial) do Optuna seja registrada separadamente.\n",
    "\n",
    "Sem isso, apenas o melhor modelo seria registrado — perdendo o histórico dos testes.\n",
    "\n",
    "| Parâmetro                        | Explicação                                                   |\n",
    "| -------------------------------- | ------------------------------------------------------------ |\n",
    "| `params`                         | Hiperparâmetros fornecidos pelo `trial`                      |\n",
    "| `dsubtrain`                      | Dados de treino convertidos em `DMatrix`                     |\n",
    "| `evals=[(dvalid, \"validation\")]` | Fornece um conjunto de validação para monitorar o desempenho |\n",
    "| `num_boost_round=1000`           | Número máximo de árvores (boosting rounds)                   |\n",
    "| `early_stopping_rounds=20`       | Para o treino se a métrica não melhorar em 20 rounds         |\n",
    "| `verbose_eval=False`             | Suprime o log de progresso durante o treino                  |\n"
   ]
  },
  {
   "cell_type": "markdown",
   "id": "77361f07",
   "metadata": {},
   "source": [
    "✅ Avaliação e Logging\n",
    "\n",
    "```python\n",
    "preds_proba = model.predict(dvalid)\n",
    "preds = (preds_proba >= 0.5).astype(int)\n",
    "f1 = f1_score(y_valid, preds)\n",
    "\n",
    "mlflow.log_params(params)\n",
    "mlflow.log_metric(\"f1_score\", f1)\n"
   ]
  },
  {
   "cell_type": "markdown",
   "id": "e5cc99a6",
   "metadata": {},
   "source": [
    "- O modelo faz previsões no conjunto de validação (X_valid);\n",
    "\n",
    "- As probabilidades são convertidas em rótulos binários (usando threshold 0.5);\n",
    "\n",
    "- O f1-score é calculado e logado no MLflow;\n",
    "\n",
    "- Os hiperparâmetros também são registrados.\n",
    "\n",
    "\n",
    "optimize_hyperparameters(trial)\\\n",
    "├── define hiperparâmetros via Optuna\\\n",
    "├── inicia sub-run no MLflow (nested)\\\n",
    "│   ├── treina com early stopping usando treino + validação\\\n",
    "│   ├── avalia com f1-score\\\n",
    "│   ├── loga hiperparâmetros e métricas no MLflow\\\n",
    "└── retorna 1 - f1 para ser minimizado pelo Optuna\n"
   ]
  },
  {
   "cell_type": "markdown",
   "id": "eec12ea6",
   "metadata": {},
   "source": [
    "## 📝 Defining the Logging Callback\n",
    "\n",
    "Callback registration that notifies when a new trial iteration improves upon the current best result.\n"
   ]
  },
  {
   "cell_type": "code",
   "execution_count": null,
   "id": "f93a6c57",
   "metadata": {},
   "outputs": [],
   "source": [
    "def f1_score_callback(study, frozen_trial):\n",
    "    current_winner = study.user_attrs.get('winner', None)\n",
    "    if study.best_value and current_winner != study.best_value:\n",
    "        study.set_user_attr('winner', study.best_value)\n",
    "        print(f'Novo melhor f1-score: {1.0 - study.best_value:.4f} no trial {frozen_trial.number}')"
   ]
  },
  {
   "cell_type": "markdown",
   "id": "7e32dd88",
   "metadata": {},
   "source": [
    "🧩 O que é um callback?\n",
    "No Optuna, callbacks são funções que são chamadas automaticamente após cada trial (tentativa de combinação de hiperparâmetros). Elas permitem que você:\n",
    "\n",
    "Logue informações extras;\n",
    "\n",
    "Faça checkpoints;\n",
    "\n",
    "Interrompa a otimização;\n",
    "\n",
    "Ou, como aqui, informe quando um novo melhor resultado foi atingido."
   ]
  },
  {
   "cell_type": "markdown",
   "id": "ef93dd75",
   "metadata": {},
   "source": [
    "```python\n",
    "def f1_score_callback(study, frozen_trial):\n"
   ]
  },
  {
   "cell_type": "markdown",
   "id": "33d42704",
   "metadata": {},
   "source": [
    "- study: o objeto do Optuna que guarda o histórico da otimização.\n",
    "\n",
    "- frozen_trial: o trial que acabou de ser executado (não pode mais ser modificado)."
   ]
  },
  {
   "cell_type": "markdown",
   "id": "7b0c99e4",
   "metadata": {},
   "source": [
    "``` python\n",
    "current_winner = study.user_attrs.get(\"winner\", None)\n"
   ]
  },
  {
   "cell_type": "markdown",
   "id": "c03b2c2d",
   "metadata": {},
   "source": [
    "- Recupera quem é o \"vencedor atual\" da otimização (melhor trial encontrado até agora).\n",
    "\n",
    "- user_attrs é um dicionário customizável que você pode usar para armazenar coisas no study."
   ]
  },
  {
   "cell_type": "markdown",
   "id": "78ee7c91",
   "metadata": {},
   "source": [
    "``` python\n",
    "if study.best_value and current_winner != study.best_value:\n"
   ]
  },
  {
   "cell_type": "markdown",
   "id": "aaa58a0a",
   "metadata": {},
   "source": [
    "- Atualiza o atributo winner com o novo best_value."
   ]
  },
  {
   "cell_type": "markdown",
   "id": "df98b2bd",
   "metadata": {},
   "source": [
    "``` python\n",
    "print(f\"🟢 Novo melhor f1-score: {1.0 - study.best_value:.4f} no trial {frozen_trial.number}\")\n"
   ]
  },
  {
   "cell_type": "markdown",
   "id": "b0c43367",
   "metadata": {},
   "source": [
    "- Mostra no console que um novo melhor f1-score foi atingido.\n",
    "\n",
    "- Lembra que a função objetivo retorna 1 - f1, então o f1 real é 1.0 - study.best_value."
   ]
  },
  {
   "cell_type": "markdown",
   "id": "a11f7c68",
   "metadata": {},
   "source": [
    "🧠 Resumo funcional\n",
    "\n",
    "\n",
    "| Função              | Propósito                                                                            |\n",
    "| ------------------- | ------------------------------------------------------------------------------------ |\n",
    "| `f1_score_callback` | Monitorar a otimização e imprimir quando um novo melhor `f1-score` for encontrado    |\n",
    "| Armazena            | O melhor score atual em `study.user_attrs[\"winner\"]`                                 |\n",
    "| Ajuda a             | Entender o progresso da otimização sem precisar abrir o MLflow ou o Optuna Dashboard |\n"
   ]
  },
  {
   "cell_type": "code",
   "execution_count": null,
   "id": "918f6006",
   "metadata": {},
   "outputs": [],
   "source": [
    "X_trainval, X_test, y_trainval, y_test = train_test_split(X, y, test_size=0.3, random_state=0)\n",
    "X_train, X_valid, y_train, y_valid = train_test_split(X_trainval, y_trainval, test_size=0.2, random_state=0)"
   ]
  },
  {
   "cell_type": "code",
   "execution_count": null,
   "id": "971cb1c4",
   "metadata": {},
   "outputs": [
    {
     "name": "stderr",
     "output_type": "stream",
     "text": [
      "[I 2025-07-18 14:59:48,349] A new study created in memory with name: no-name-3ed19acb-f457-4e8c-bd07-acf091bff0f6\n",
      "[I 2025-07-18 14:59:48,883] Trial 0 finished with value: 0.07499999999999996 and parameters: {'booster': 'dart', 'learning_rate': 0.29503875905367116, 'max_depth': 9, 'subsample': 0.7750490334180147, 'colsample_bytree': 0.8236125950754121, 'lambda': 5.672177568474642e-08, 'alpha': 0.051189901364792186}. Best is trial 0 with value: 0.07499999999999996.\n"
     ]
    },
    {
     "name": "stdout",
     "output_type": "stream",
     "text": [
      "🏃 View run salty-loon-919 at: http://127.0.0.1:8282/#/experiments/776306234274517897/runs/0b6271f90da1488b84ca5b27697ec03d\n",
      "🧪 View experiment at: http://127.0.0.1:8282/#/experiments/776306234274517897\n",
      "🟢 Novo melhor f1-score: 0.9250 no trial 0\n"
     ]
    },
    {
     "name": "stderr",
     "output_type": "stream",
     "text": [
      "[I 2025-07-18 14:59:49,379] Trial 1 finished with value: 0.07499999999999996 and parameters: {'booster': 'gbtree', 'learning_rate': 0.06914085169920207, 'max_depth': 9, 'subsample': 0.6395729763949977, 'colsample_bytree': 0.6518639806380337, 'lambda': 0.7977672203416196, 'alpha': 0.4219428990918324}. Best is trial 0 with value: 0.07499999999999996.\n"
     ]
    },
    {
     "name": "stdout",
     "output_type": "stream",
     "text": [
      "🏃 View run rumbling-bee-453 at: http://127.0.0.1:8282/#/experiments/776306234274517897/runs/e9ceae53faea45d6807dd050ecf713f6\n",
      "🧪 View experiment at: http://127.0.0.1:8282/#/experiments/776306234274517897\n"
     ]
    },
    {
     "name": "stderr",
     "output_type": "stream",
     "text": [
      "[I 2025-07-18 14:59:50,199] Trial 2 finished with value: 0.0864197530864198 and parameters: {'booster': 'gbtree', 'learning_rate': 0.02828157449113828, 'max_depth': 7, 'subsample': 0.7308233313377197, 'colsample_bytree': 0.6513058747668055, 'lambda': 0.010972209360366695, 'alpha': 8.781552386721701e-07}. Best is trial 0 with value: 0.07499999999999996.\n"
     ]
    },
    {
     "name": "stdout",
     "output_type": "stream",
     "text": [
      "🏃 View run abrasive-finch-241 at: http://127.0.0.1:8282/#/experiments/776306234274517897/runs/4949359d0edc40eb92cbad574fbbbfaa\n",
      "🧪 View experiment at: http://127.0.0.1:8282/#/experiments/776306234274517897\n"
     ]
    },
    {
     "name": "stderr",
     "output_type": "stream",
     "text": [
      "[I 2025-07-18 14:59:51,530] Trial 3 finished with value: 0.06329113924050633 and parameters: {'booster': 'dart', 'learning_rate': 0.07938240647467872, 'max_depth': 10, 'subsample': 0.5769940164748641, 'colsample_bytree': 0.9046199102277488, 'lambda': 7.505002623183644e-05, 'alpha': 1.0701186182749086e-05}. Best is trial 3 with value: 0.06329113924050633.\n"
     ]
    },
    {
     "name": "stdout",
     "output_type": "stream",
     "text": [
      "🏃 View run youthful-snipe-641 at: http://127.0.0.1:8282/#/experiments/776306234274517897/runs/be0c112315fd47a5965581a936ba63a9\n",
      "🧪 View experiment at: http://127.0.0.1:8282/#/experiments/776306234274517897\n",
      "🟢 Novo melhor f1-score: 0.9367 no trial 3\n"
     ]
    },
    {
     "name": "stderr",
     "output_type": "stream",
     "text": [
      "[I 2025-07-18 14:59:53,430] Trial 4 finished with value: 0.06329113924050633 and parameters: {'booster': 'dart', 'learning_rate': 0.04783061466616363, 'max_depth': 6, 'subsample': 0.7016623151245744, 'colsample_bytree': 0.7818417492808538, 'lambda': 0.00026297118802884675, 'alpha': 0.01289608358201607}. Best is trial 3 with value: 0.06329113924050633.\n"
     ]
    },
    {
     "name": "stdout",
     "output_type": "stream",
     "text": [
      "🏃 View run placid-colt-303 at: http://127.0.0.1:8282/#/experiments/776306234274517897/runs/e245f0123a1e4641b9c008af74928517\n",
      "🧪 View experiment at: http://127.0.0.1:8282/#/experiments/776306234274517897\n"
     ]
    },
    {
     "name": "stderr",
     "output_type": "stream",
     "text": [
      "[I 2025-07-18 14:59:54,166] Trial 5 finished with value: 0.07317073170731703 and parameters: {'booster': 'gblinear', 'learning_rate': 0.21358043399005888, 'max_depth': 10, 'subsample': 0.7345107738175993, 'colsample_bytree': 0.7121131669875993, 'lambda': 3.601209747715312e-08, 'alpha': 1.920388583640645e-05}. Best is trial 3 with value: 0.06329113924050633.\n"
     ]
    },
    {
     "name": "stdout",
     "output_type": "stream",
     "text": [
      "🏃 View run burly-perch-625 at: http://127.0.0.1:8282/#/experiments/776306234274517897/runs/79d6f6e8ff8642f9a4a5b74c8ab539cb\n",
      "🧪 View experiment at: http://127.0.0.1:8282/#/experiments/776306234274517897\n"
     ]
    },
    {
     "name": "stderr",
     "output_type": "stream",
     "text": [
      "[I 2025-07-18 14:59:55,214] Trial 6 finished with value: 0.07317073170731703 and parameters: {'booster': 'gblinear', 'learning_rate': 0.025715140918284814, 'max_depth': 8, 'subsample': 0.8662700571731863, 'colsample_bytree': 0.5467001136107104, 'lambda': 2.1419747843254364e-08, 'alpha': 1.1203471648348819e-07}. Best is trial 3 with value: 0.06329113924050633.\n"
     ]
    },
    {
     "name": "stdout",
     "output_type": "stream",
     "text": [
      "🏃 View run secretive-elk-984 at: http://127.0.0.1:8282/#/experiments/776306234274517897/runs/71b3d3c332e5414fa576599258306089\n",
      "🧪 View experiment at: http://127.0.0.1:8282/#/experiments/776306234274517897\n"
     ]
    },
    {
     "name": "stderr",
     "output_type": "stream",
     "text": [
      "[I 2025-07-18 14:59:55,681] Trial 7 finished with value: 0.07317073170731703 and parameters: {'booster': 'gblinear', 'learning_rate': 0.26140192280490443, 'max_depth': 5, 'subsample': 0.7183821546811774, 'colsample_bytree': 0.9146628723654053, 'lambda': 3.8910336194405396e-05, 'alpha': 0.00038506393770813266}. Best is trial 3 with value: 0.06329113924050633.\n"
     ]
    },
    {
     "name": "stdout",
     "output_type": "stream",
     "text": [
      "🏃 View run painted-gnat-577 at: http://127.0.0.1:8282/#/experiments/776306234274517897/runs/4d5efc3f44a84d23af7e261e94dc067b\n",
      "🧪 View experiment at: http://127.0.0.1:8282/#/experiments/776306234274517897\n"
     ]
    },
    {
     "name": "stderr",
     "output_type": "stream",
     "text": [
      "[I 2025-07-18 14:59:56,158] Trial 8 finished with value: 0.0864197530864198 and parameters: {'booster': 'gbtree', 'learning_rate': 0.17624921473178265, 'max_depth': 10, 'subsample': 0.6610583978811825, 'colsample_bytree': 0.7126101938720123, 'lambda': 1.7739701074330375e-07, 'alpha': 0.10054082650517407}. Best is trial 3 with value: 0.06329113924050633.\n"
     ]
    },
    {
     "name": "stdout",
     "output_type": "stream",
     "text": [
      "🏃 View run chill-bug-293 at: http://127.0.0.1:8282/#/experiments/776306234274517897/runs/e4dd9a2c4690407f974e9482fe16feed\n",
      "🧪 View experiment at: http://127.0.0.1:8282/#/experiments/776306234274517897\n"
     ]
    },
    {
     "name": "stderr",
     "output_type": "stream",
     "text": [
      "[I 2025-07-18 14:59:56,740] Trial 9 finished with value: 0.07317073170731703 and parameters: {'booster': 'gblinear', 'learning_rate': 0.2575642790761351, 'max_depth': 5, 'subsample': 0.9237474958512348, 'colsample_bytree': 0.9944970758452387, 'lambda': 4.399926370947282e-07, 'alpha': 8.385186438334403e-08}. Best is trial 3 with value: 0.06329113924050633.\n"
     ]
    },
    {
     "name": "stdout",
     "output_type": "stream",
     "text": [
      "🏃 View run debonair-shark-776 at: http://127.0.0.1:8282/#/experiments/776306234274517897/runs/08366d1860cc4b30b7fdf4d3b5319573\n",
      "🧪 View experiment at: http://127.0.0.1:8282/#/experiments/776306234274517897\n"
     ]
    },
    {
     "name": "stderr",
     "output_type": "stream",
     "text": [
      "2025/07/18 15:00:08 WARNING mlflow.utils.environment: Encountered an unexpected error while inferring pip requirements (model URI: C:\\Users\\VICTOR~1.FRA\\AppData\\Local\\Temp\\tmpbbcc8_mm\\model, flavor: xgboost). Fall back to return ['xgboost==2.1.4']. Set logging level to DEBUG to see the full traceback. \n"
     ]
    },
    {
     "name": "stdout",
     "output_type": "stream",
     "text": [
      "🏃 View run experiment_1 at: http://127.0.0.1:8282/#/experiments/776306234274517897/runs/f8a16a43ff6b48b9ba45258dfeedc0c1\n",
      "🧪 View experiment at: http://127.0.0.1:8282/#/experiments/776306234274517897\n",
      "✅ Finalizado. Modelo avaliado corretamente em X_test.\n"
     ]
    },
    {
     "data": {
      "image/png": "[encoded data removed]",
      "text/plain": [
       "<Figure size 432x288 with 2 Axes>"
      ]
     },
     "metadata": {},
     "output_type": "display_data"
    }
   ],
   "source": [
    "import math, optuna, mlflow, xgboost as xgb, tempfile, shutil\n",
    "import matplotlib.pyplot as plt\n",
    "from sklearn.metrics import f1_score, accuracy_score, log_loss, precision_score, recall_score, confusion_matrix, ConfusionMatrixDisplay\n",
    "from sklearn.model_selection import train_test_split\n",
    "try:\n",
    "    from mlflow.models.signature import infer_signature   # MLflow ≤ 3.1\n",
    "except ImportError:\n",
    "    from mlflow.models import infer_signature             # MLflow ≥ 3.2\n",
    "\n",
    "run_name = \"experiment_1\"\n",
    "mlflow.set_experiment(experiment_id=id_experiment)\n",
    "\n",
    "with mlflow.start_run(run_name=run_name):\n",
    "\n",
    "    # 1) Otimização com Optuna\n",
    "    study = optuna.create_study(direction='minimize')\n",
    "    study.optimize(optimize_hyperparameters, n_trials=10, callbacks=[f1_score_callback])\n",
    "\n",
    "    # 2) Treino final com os melhores parâmetros usando train+val\n",
    "    dtrainval = xgb.DMatrix(X_trainval, label=y_trainval)\n",
    "    dtest = xgb.DMatrix(X_test, label=y_test)\n",
    "\n",
    "    final_model = xgb.train(\n",
    "        study.best_params,\n",
    "        dtrainval,\n",
    "        evals=[(dtest, \"test\")],\n",
    "        num_boost_round=1000,\n",
    "        early_stopping_rounds=20,\n",
    "        verbose_eval=False\n",
    "    )\n",
    "\n",
    "    # 3) Avaliação no conjunto de teste (final!)\n",
    "    y_pred_test = final_model.predict(dtest)\n",
    "    y_pred_binary = (y_pred_test >= 0.5).astype(int)\n",
    "\n",
    "    acc = accuracy_score(y_test, y_pred_binary)\n",
    "    prec = precision_score(y_test, y_pred_binary)\n",
    "    rec = recall_score(y_test, y_pred_binary)\n",
    "    f1 = f1_score(y_test, y_pred_binary)\n",
    "\n",
    "    mlflow.log_metric(\"final_accuracy\", acc)\n",
    "    mlflow.log_metric(\"final_precision\", prec)\n",
    "    mlflow.log_metric(\"final_recall\", rec)\n",
    "    mlflow.log_metric(\"final_f1_score\", f1)\n",
    "\n",
    "    # 4) Log figuras\n",
    "    cm = confusion_matrix(y_test, y_pred_binary)\n",
    "    disp = ConfusionMatrixDisplay(confusion_matrix=cm)\n",
    "    disp.plot(cmap='Blues')\n",
    "    plt.title(\"Confusion Matrix\")\n",
    "    fig_path = \"confusion_matrix.png\"\n",
    "    plt.savefig(fig_path)\n",
    "    mlflow.log_artifact(fig_path)\n",
    "\n",
    "    # 5) Assinatura\n",
    "    signature = infer_signature(X_trainval, final_model.predict(dtrainval))\n",
    "\n",
    "    # 6) Salva modelo\n",
    "    tmp_dir = tempfile.mkdtemp()\n",
    "    model_save_path = f\"{tmp_dir}/model\"\n",
    "\n",
    "    mlflow.xgboost.save_model(\n",
    "        final_model,\n",
    "        path=model_save_path,\n",
    "        input_example=X_trainval.iloc[[0]],\n",
    "        signature=signature,\n",
    "        model_format=\"ubj\",\n",
    "        metadata={\"model_data_version\": 1}\n",
    "    )\n",
    "    mlflow.log_artifacts(model_save_path, artifact_path=\"model\")\n",
    "    shutil.rmtree(tmp_dir)\n",
    "\n",
    "print(\"✅ Finalizado. Modelo avaliado corretamente em X_test.\")\n"
   ]
  },
  {
   "cell_type": "code",
   "execution_count": null,
   "id": "6aa8fd77",
   "metadata": {},
   "outputs": [
    {
     "name": "stdout",
     "output_type": "stream",
     "text": [
      "RUN pai  : f8a16a43ff6b48b9ba45258dfeedc0c1\n",
      "URI base : mlflow-artifacts:/776306234274517897/f8a16a43ff6b48b9ba45258dfeedc0c1/artifacts\n"
     ]
    }
   ],
   "source": [
    "client = MlflowClient()\n",
    "\n",
    "# Filtra exatamente o run pelo nome\n",
    "papa = client.search_runs(\n",
    "    experiment_ids=[id_experiment],\n",
    "    filter_string='tag.mlflow.runName = \"experiment_1\"')[0]   # pega o primeiro (deve ser só 1)\n",
    "\n",
    "run_id_pai = papa.info.run_id\n",
    "print(\"RUN pai  :\", run_id_pai)\n",
    "print(\"URI base :\", papa.info.artifact_uri)   # ← URI absoluta exibida na UI"
   ]
  },
  {
   "cell_type": "code",
   "execution_count": null,
   "id": "7baa7c9c",
   "metadata": {},
   "outputs": [
    {
     "data": {
      "text/plain": [
       "'mlflow-artifacts:/776306234274517897/f8a16a43ff6b48b9ba45258dfeedc0c1/artifacts/model/'"
      ]
     },
     "execution_count": 33,
     "metadata": {},
     "output_type": "execute_result"
    }
   ],
   "source": [
    "model_uri = f\"runs:/{run_id_pai}/model\"\n",
    "\n",
    "# Forma absoluta (equivalente, se preferir copiar/colar da UI)\n",
    "model_uri_abs = f\"{papa.info.artifact_uri}/model/\"\n",
    "model_uri_abs\n"
   ]
  },
  {
   "cell_type": "code",
   "execution_count": null,
   "id": "ab3d8296",
   "metadata": {},
   "outputs": [
    {
     "data": {
      "application/vnd.jupyter.widget-view+json": {
       "model_id": "3ec43332b7d5415fa70735dc59a03714",
       "version_major": 2,
       "version_minor": 0
      },
      "text/plain": [
       "Downloading artifacts:   0%|          | 0/7 [00:00<?, ?it/s]"
      ]
     },
     "metadata": {},
     "output_type": "display_data"
    },
    {
     "name": "stdout",
     "output_type": "stream",
     "text": [
      "booster    : dart\n",
      "max_depth  : 6\n",
      "eta        : 0.300000012\n",
      "gamma      : 0\n",
      "reg_lambda : 1\n",
      "reg_alpha  : 0\n",
      "grow_policy: depthwise\n"
     ]
    }
   ],
   "source": [
    "import mlflow.xgboost\n",
    "booster = mlflow.xgboost.load_model(model_uri_abs)   # ou model_uri_abs\n",
    "\n",
    "# Confere hiperparâmetros (flatten_last)\n",
    "import json\n",
    "def flatten_last(d):\n",
    "    out, stack = {}, [d]\n",
    "    while stack:\n",
    "        cur = stack.pop()\n",
    "        for k, v in cur.items():\n",
    "            if isinstance(v, dict):\n",
    "                stack.append(v)\n",
    "            else:\n",
    "                out[k] = v          # mantém o último (real)\n",
    "    return out\n",
    "\n",
    "flat = flatten_last(json.loads(booster.save_config())[\"learner\"])\n",
    "for p in [\"booster\", \"max_depth\", \"eta\", \"gamma\", \"reg_lambda\", \"reg_alpha\", \"grow_policy\"]:\n",
    "    print(f\"{p:11}: {flat.get(p)}\")"
   ]
  },
  {
   "cell_type": "code",
   "execution_count": null,
   "id": "59f482e9",
   "metadata": {},
   "outputs": [
    {
     "data": {
      "application/vnd.jupyter.widget-view+json": {
       "model_id": "132e2fea0fd347539c5127ec18d94924",
       "version_major": 2,
       "version_minor": 0
      },
      "text/plain": [
       "Downloading artifacts:   0%|          | 0/7 [00:00<?, ?it/s]"
      ]
     },
     "metadata": {},
     "output_type": "display_data"
    }
   ],
   "source": [
    "\n",
    "X_train, X_test, y_train, y_test = train_test_split(X, y, test_size=0.3, random_state=0)\n",
    "\n",
    "melhor_modelo = mlflow.xgboost.load_model(model_uri)"
   ]
  },
  {
   "cell_type": "code",
   "execution_count": null,
   "id": "08aa8beb",
   "metadata": {},
   "outputs": [
    {
     "data": {
      "application/vnd.jupyter.widget-view+json": {
       "model_id": "fab1c41015014f9b97d2ede729e63d3d",
       "version_major": 2,
       "version_minor": 0
      },
      "text/plain": [
       "Downloading artifacts:   0%|          | 0/7 [00:00<?, ?it/s]"
      ]
     },
     "metadata": {},
     "output_type": "display_data"
    },
    {
     "name": "stdout",
     "output_type": "stream",
     "text": [
      "Acurácia  : 0.894\n",
      "Precisão  : 0.891\n",
      "Revocação : 0.953\n",
      "F1-score  : 0.921\n"
     ]
    },
    {
     "data": {
      "image/png": "[encoded data removed]",
      "text/plain": [
       "<Figure size 432x288 with 2 Axes>"
      ]
     },
     "metadata": {},
     "output_type": "display_data"
    }
   ],
   "source": [
    "from sklearn.metrics import accuracy_score, precision_score, recall_score, f1_score, confusion_matrix, ConfusionMatrixDisplay\n",
    "import mlflow.xgboost\n",
    "import xgboost as xgb\n",
    "import matplotlib.pyplot as plt\n",
    "\n",
    "# ⚠️ Não redivida os dados!\n",
    "# X_train, X_test, ... já foram definidos antes e X_test deve ser o mesmo da divisão original\n",
    "\n",
    "# Converte X_test para DMatrix\n",
    "dtest = xgb.DMatrix(X_test)\n",
    "\n",
    "# Carrega o modelo treinado\n",
    "melhor_modelo = mlflow.xgboost.load_model(model_uri)\n",
    "\n",
    "# Faz predições (probabilidades)\n",
    "y_prob = melhor_modelo.predict(dtest)\n",
    "\n",
    "# Aplica threshold de 0.5 para obter classes binárias\n",
    "y_pred = (y_prob > 0.5).astype(int)\n",
    "\n",
    "# Calcula as métricas\n",
    "acc = accuracy_score(y_test, y_pred)\n",
    "prec = precision_score(y_test, y_pred)\n",
    "rec = recall_score(y_test, y_pred)\n",
    "f1 = f1_score(y_test, y_pred)\n",
    "\n",
    "# Exibe os resultados\n",
    "print(f'Acurácia  : {acc:.3f}')\n",
    "print(f'Precisão  : {prec:.3f}')\n",
    "print(f'Revocação : {rec:.3f}')\n",
    "print(f'F1-score  : {f1:.3f}')\n",
    "\n",
    "# Matriz de confusão\n",
    "cm = confusion_matrix(y_test, y_pred)\n",
    "disp = ConfusionMatrixDisplay(confusion_matrix=cm)\n",
    "disp.plot(cmap='Blues')\n",
    "plt.title(\"Matriz de Confusão - Teste Final\")\n",
    "plt.show()\n"
   ]
  }
 ],
 "metadata": {
  "kernelspec": {
   "display_name": "base",
   "language": "python",
   "name": "python3"
  },
  "language_info": {
   "codemirror_mode": {
    "name": "ipython",
    "version": 3
   },
   "file_extension": ".py",
   "mimetype": "text/x-python",
   "name": "python",
   "nbconvert_exporter": "python",
   "pygments_lexer": "ipython3",
   "version": "3.9.12"
  }
 },
 "nbformat": 4,
 "nbformat_minor": 5
}
