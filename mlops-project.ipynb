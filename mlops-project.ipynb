{
 "cells": [
  {
   "cell_type": "markdown",
   "id": "6804c3d7",
   "metadata": {},
   "source": [
    "# 🛠️ MLflow Hands-On\n",
    "\n",
    "🎯 **Our goal** is to demonstrate how to integrate **MLflow** into a *machine learning* project, showcasing its role in tracking and managing experiments efficiently.\n",
    "\n",
    "We'll start by **fitting an initial boosting model**, logging parameters, metrics, and artifacts. Then, we'll move on to **hyperparameter optimization using Optuna**, with the entire workflow tracked and versioned through MLflow.\n",
    "\n",
    "---------------\n",
    "\n",
    "🛒 **Dataset**\n",
    "For this project, we used the **Wholesale Customers Data Set**, available from the [UCI Machine Learning Repository](https://archive.ics.uci.edu/ml/datasets/Wholesale+customers).\n",
    "\n",
    "This dataset provides insights into customer spending habits across different product categories, making it a useful resource for unsupervised learning and clustering tasks."
   ]
  },
  {
   "cell_type": "code",
   "execution_count": 1,
   "id": "f3c05965",
   "metadata": {},
   "outputs": [],
   "source": [
    "# ===========================\n",
    "# 📦 Data Manipulation\n",
    "# ===========================\n",
    "import os\n",
    "import json\n",
    "import math\n",
    "import tempfile\n",
    "import shutil\n",
    "from datetime import datetime, timedelta\n",
    "\n",
    "import pandas as pd\n",
    "import numpy as np\n",
    "\n",
    "# ===========================\n",
    "# 📊 Visualization\n",
    "# ===========================\n",
    "import matplotlib.pyplot as plt\n",
    "import seaborn as sns\n",
    "\n",
    "# ===========================\n",
    "# 🤖 Modeling and Evaluation\n",
    "# ===========================\n",
    "import xgboost as xgb\n",
    "from xgboost import XGBClassifier\n",
    "from sklearn.model_selection import train_test_split\n",
    "from sklearn.metrics import (\n",
    "    accuracy_score, precision_score, recall_score, \n",
    "    f1_score, roc_auc_score, log_loss, confusion_matrix, \n",
    "    ConfusionMatrixDisplay, mean_squared_error\n",
    ")\n",
    "\n",
    "# ===========================\n",
    "# 🔍 Optimization & Tracking\n",
    "# ===========================\n",
    "import optuna\n",
    "import optuna.logging\n",
    "import mlflow\n",
    "from mlflow.models import infer_signature\n",
    "from mlflow.tracking import MlflowClient\n",
    "\n",
    "# ===========================\n",
    "# 🧹 Output Control & Logging\n",
    "# ===========================\n",
    "import sys\n",
    "import io\n",
    "import contextlib\n",
    "import logging\n",
    "import warnings\n",
    "\n",
    "warnings.filterwarnings('ignore')\n",
    "\n"
   ]
  },
  {
   "cell_type": "markdown",
   "id": "95808146",
   "metadata": {},
   "source": [
    "## 🔇 Clean Console, Clear Focus\n",
    "\n",
    "When running many optimization trials with Optuna and logging experiments using MLflow, the console can quickly get cluttered with verbose outputs and auto-generated tracking links.\n",
    "\n",
    "This setup:\n",
    "\n",
    "* Silences unnecessary **Optuna logs**\n",
    "* Hides automatic **MLflow run URLs**\n",
    "* Keeps the output clean and focused on what matters — like meaningful metric improvements (`New best F1-score...`)\n",
    "\n",
    "It’s especially useful when tuning many trials and logging results to MLflow without polluting your terminal.\n"
   ]
  },
  {
   "cell_type": "code",
   "execution_count": 2,
   "id": "64e53dd8",
   "metadata": {},
   "outputs": [],
   "source": [
    "\n",
    "optuna.logging.set_verbosity(optuna.logging.WARNING)\n",
    "optuna.logging.disable_default_handler()\n",
    "logging.getLogger('optuna').handlers.clear()\n",
    "\n",
    "@contextlib.contextmanager\n",
    "def mute_mlflow_links():\n",
    "    buf = io.StringIO()\n",
    "    with contextlib.redirect_stdout(buf), contextlib.redirect_stderr(buf):\n",
    "        yield"
   ]
  },
  {
   "cell_type": "markdown",
   "id": "87b2d448",
   "metadata": {},
   "source": [
    "## 📥 Import dataset"
   ]
  },
  {
   "cell_type": "code",
   "execution_count": 3,
   "id": "10eb2d90",
   "metadata": {},
   "outputs": [
    {
     "data": {
      "text/html": [
       "<div>\n",
       "<style scoped>\n",
       "    .dataframe tbody tr th:only-of-type {\n",
       "        vertical-align: middle;\n",
       "    }\n",
       "\n",
       "    .dataframe tbody tr th {\n",
       "        vertical-align: top;\n",
       "    }\n",
       "\n",
       "    .dataframe thead th {\n",
       "        text-align: right;\n",
       "    }\n",
       "</style>\n",
       "<table border=\"1\" class=\"dataframe\">\n",
       "  <thead>\n",
       "    <tr style=\"text-align: right;\">\n",
       "      <th></th>\n",
       "      <th>Channel</th>\n",
       "      <th>Region</th>\n",
       "      <th>Fresh</th>\n",
       "      <th>Milk</th>\n",
       "      <th>Grocery</th>\n",
       "      <th>Frozen</th>\n",
       "      <th>Detergents_Paper</th>\n",
       "      <th>Delicassen</th>\n",
       "    </tr>\n",
       "  </thead>\n",
       "  <tbody>\n",
       "    <tr>\n",
       "      <th>435</th>\n",
       "      <td>1</td>\n",
       "      <td>3</td>\n",
       "      <td>29703</td>\n",
       "      <td>12051</td>\n",
       "      <td>16027</td>\n",
       "      <td>13135</td>\n",
       "      <td>182</td>\n",
       "      <td>2204</td>\n",
       "    </tr>\n",
       "    <tr>\n",
       "      <th>436</th>\n",
       "      <td>1</td>\n",
       "      <td>3</td>\n",
       "      <td>39228</td>\n",
       "      <td>1431</td>\n",
       "      <td>764</td>\n",
       "      <td>4510</td>\n",
       "      <td>93</td>\n",
       "      <td>2346</td>\n",
       "    </tr>\n",
       "    <tr>\n",
       "      <th>437</th>\n",
       "      <td>2</td>\n",
       "      <td>3</td>\n",
       "      <td>14531</td>\n",
       "      <td>15488</td>\n",
       "      <td>30243</td>\n",
       "      <td>437</td>\n",
       "      <td>14841</td>\n",
       "      <td>1867</td>\n",
       "    </tr>\n",
       "    <tr>\n",
       "      <th>438</th>\n",
       "      <td>1</td>\n",
       "      <td>3</td>\n",
       "      <td>10290</td>\n",
       "      <td>1981</td>\n",
       "      <td>2232</td>\n",
       "      <td>1038</td>\n",
       "      <td>168</td>\n",
       "      <td>2125</td>\n",
       "    </tr>\n",
       "    <tr>\n",
       "      <th>439</th>\n",
       "      <td>1</td>\n",
       "      <td>3</td>\n",
       "      <td>2787</td>\n",
       "      <td>1698</td>\n",
       "      <td>2510</td>\n",
       "      <td>65</td>\n",
       "      <td>477</td>\n",
       "      <td>52</td>\n",
       "    </tr>\n",
       "  </tbody>\n",
       "</table>\n",
       "</div>"
      ],
      "text/plain": [
       "     Channel  Region  Fresh   Milk  Grocery  Frozen  Detergents_Paper  \\\n",
       "435        1       3  29703  12051    16027   13135               182   \n",
       "436        1       3  39228   1431      764    4510                93   \n",
       "437        2       3  14531  15488    30243     437             14841   \n",
       "438        1       3  10290   1981     2232    1038               168   \n",
       "439        1       3   2787   1698     2510      65               477   \n",
       "\n",
       "     Delicassen  \n",
       "435        2204  \n",
       "436        2346  \n",
       "437        1867  \n",
       "438        2125  \n",
       "439          52  "
      ]
     },
     "execution_count": 3,
     "metadata": {},
     "output_type": "execute_result"
    }
   ],
   "source": [
    "df = pd.read_csv('Wholesale customers data.csv')\n",
    "df.tail()"
   ]
  },
  {
   "cell_type": "markdown",
   "id": "21fb0d2f",
   "metadata": {},
   "source": [
    "## 🔍 Checking for missing values"
   ]
  },
  {
   "cell_type": "code",
   "execution_count": 4,
   "id": "5fb4187d",
   "metadata": {},
   "outputs": [
    {
     "data": {
      "text/plain": [
       "Channel             0\n",
       "Region              0\n",
       "Fresh               0\n",
       "Milk                0\n",
       "Grocery             0\n",
       "Frozen              0\n",
       "Detergents_Paper    0\n",
       "Delicassen          0\n",
       "dtype: int64"
      ]
     },
     "execution_count": 4,
     "metadata": {},
     "output_type": "execute_result"
    }
   ],
   "source": [
    "df.isnull().sum()"
   ]
  },
  {
   "cell_type": "markdown",
   "id": "1d4adb35",
   "metadata": {},
   "source": [
    "## 🎯 Declare feature vector and target variable"
   ]
  },
  {
   "cell_type": "code",
   "execution_count": 5,
   "id": "9de4c41f",
   "metadata": {},
   "outputs": [
    {
     "data": {
      "text/plain": [
       "0    2\n",
       "1    2\n",
       "2    2\n",
       "3    1\n",
       "4    2\n",
       "Name: Channel, dtype: int64"
      ]
     },
     "execution_count": 5,
     "metadata": {},
     "output_type": "execute_result"
    }
   ],
   "source": [
    "X = df.drop('Channel', axis=1)\n",
    "# ---\n",
    "y = df['Channel']\n",
    "y.head()"
   ]
  },
  {
   "cell_type": "markdown",
   "id": "d6476a55",
   "metadata": {},
   "source": [
    "We can see that the \\$y\\$ labels currently contain the values \\$1\\$ and \\$2\\$. For simplicity and easier interpretation, we will convert them to \\$0\\$ and \\$1\\$ for further analysis."
   ]
  },
  {
   "cell_type": "code",
   "execution_count": 6,
   "id": "9bc12073",
   "metadata": {},
   "outputs": [],
   "source": [
    "y[y == 2] = 0\n",
    "y[y == 1] = 1"
   ]
  },
  {
   "cell_type": "markdown",
   "id": "10985fa1",
   "metadata": {},
   "source": [
    "Now, I will convert the dataset into an optimized data structure called **Dmatrix** that XGBoost supports and gives it acclaimed performance and efficiency gains"
   ]
  },
  {
   "cell_type": "code",
   "execution_count": 7,
   "id": "dcb97249",
   "metadata": {},
   "outputs": [],
   "source": [
    "data_dmatrix = xgb.DMatrix(data=X, label=y)"
   ]
  },
  {
   "cell_type": "markdown",
   "id": "aa1c39f7",
   "metadata": {},
   "source": [
    "## ✂️ Split data into separate training and test set"
   ]
  },
  {
   "cell_type": "code",
   "execution_count": 8,
   "id": "9db6392e",
   "metadata": {},
   "outputs": [],
   "source": [
    "X_train, X_test, y_train, y_test = train_test_split(X, y, test_size = 0.3, random_state = 0)"
   ]
  },
  {
   "cell_type": "markdown",
   "id": "d1d9c042",
   "metadata": {},
   "source": [
    "## 🔧 Train the XGBoost Classifier\n",
    "\n",
    "Now it's time to train our **XGBoost classifier**!\n",
    "Before we begin, it’s important to understand the different types of parameters that XGBoost offers. These parameters control the model’s behavior, performance, and complexity.\n",
    "\n",
    "There are **four main categories** of parameters you should know:\n",
    "\n",
    "\n",
    "### ⚙️ General parameters\n",
    "\n",
    "These define which **booster type** to use (e.g., tree-based or linear).\n",
    "Common options include:\n",
    "\n",
    "* `gbtree` – tree-based models (default)\n",
    "* `gblinear` – linear models\n",
    "* `dart` – tree-based models with dropout\n",
    "\n",
    "\n",
    "### 🌲 Booster parameters\n",
    "\n",
    "These depend on the selected booster type and control the training process of individual trees or models.\n",
    "\n",
    "\n",
    "### 🎯 Learning task parameters\n",
    "\n",
    "These define the **objective function** and the type of learning task (e.g., regression, classification, ranking).\n",
    "\n",
    "### 💻 Command line parameters\n",
    "\n",
    "These relate to the CLI (Command Line Interface) version of XGBoost, and aren’t usually needed when using the Python API.\n",
    "\n",
    "\n",
    "## 🧠 Key Parameters to know\n",
    "\n",
    "Here are some of the most important parameters you'll likely tune:\n",
    "\n",
    "* **`learning_rate`** – Controls the step size shrinkage to prevent overfitting. Range: `[0, 1]`.\n",
    "* **`max_depth`** – Maximum depth of a tree. Deeper trees can capture more complex patterns.\n",
    "* **`subsample`** – Fraction of the training data to use for each tree. Lower values can help prevent overfitting.\n",
    "* **`colsample_bytree`** – Fraction of features to use for each tree. Higher values may lead to overfitting.\n",
    "* **`n_estimators`** – Number of boosting rounds (i.e., trees).\n",
    "* **`objective`** – Specifies the learning task and the corresponding loss function:\n",
    "\n",
    "  * `reg:squarederror` – for regression\n",
    "  * `binary:logistic` – for binary classification (probability output)\n",
    "  * `reg:logistic` – for classification with decision outputs\n",
    "\n",
    "\n",
    "## 🛡️ Regularization parameters\n",
    "\n",
    "XGBoost also offers regularization to reduce model complexity and avoid overfitting:\n",
    "\n",
    "* **`gamma`** – Minimum loss reduction required to make a split. Higher values result in fewer splits.\n",
    "* **`alpha`** – L1 regularization term on weights (Lasso). Encourages sparsity.\n",
    "* **`lambda`** – L2 regularization term on weights (Ridge). Adds smoothness.\n",
    "\n",
    "Even though we're using **trees as base learners**, XGBoost also supports linear models (`gblinear`) and dropout-based trees (`dart`) via the `booster` parameter.\n",
    "\n",
    "---\n",
    "\n",
    "Imagine you're a data scientist, and it's time to fine-tune your machine learning model. Fortunately, after some experimentation, you’ve found that the parameter combination below delivers a satisfactory performance for your classification task.\n"
   ]
  },
  {
   "cell_type": "code",
   "execution_count": 9,
   "id": "5a4a6229",
   "metadata": {},
   "outputs": [
    {
     "name": "stdout",
     "output_type": "stream",
     "text": [
      "XGBClassifier(alpha=0.0, base_score=None, booster='gbtree', callbacks=None,\n",
      "              colsample_bylevel=None, colsample_bynode=None,\n",
      "              colsample_bytree=0.8, device=None, early_stopping_rounds=None,\n",
      "              enable_categorical=False, eval_metric='logloss',\n",
      "              feature_types=None, gamma=None, grow_policy=None,\n",
      "              importance_type=None, interaction_constraints=None, lambda=1.0,\n",
      "              learning_rate=0.1, max_bin=None, max_cat_threshold=None,\n",
      "              max_cat_to_onehot=None, max_delta_step=None, max_depth=3,\n",
      "              max_leaves=None, min_child_weight=None, missing=nan,\n",
      "              monotone_constraints=None, multi_strategy=None, n_estimators=None,\n",
      "              n_jobs=None, ...)\n"
     ]
    }
   ],
   "source": [
    "params = {\n",
    "    # Target function for binary classification\n",
    "    'objective': 'binary:logistic',\n",
    "\n",
    "    # Evaluation metric\n",
    "    'eval_metric': 'logloss',\n",
    "\n",
    "    # Booster type (default is 'gbtree')\n",
    "    'booster': 'gbtree',\n",
    "\n",
    "    # Learning rate (step size shrinkage)\n",
    "    'learning_rate': 0.1,\n",
    "\n",
    "    # Maximum depth of each tree\n",
    "    'max_depth': 3,\n",
    "\n",
    "    # Subsample ratio of the training instances\n",
    "    'subsample': 0.8,\n",
    "\n",
    "    # Subsample ratio of columns for each tree\n",
    "    'colsample_bytree': 0.8,\n",
    "\n",
    "    # L2 regularization term on weights (Ridge)\n",
    "    'lambda': 1.0,\n",
    "\n",
    "    # L1 regularization term on weights (Lasso)\n",
    "    'alpha': 0.0}\n",
    "\n",
    "#------------------\n",
    "\n",
    "# Instantiate the classifier\n",
    "xgb_clf = XGBClassifier(**params)\n",
    "\n",
    "# Fit the classifier to the training data\n",
    "xgb_clf.fit(X_train, y_train)\n",
    "print(xgb_clf)\n"
   ]
  },
  {
   "cell_type": "markdown",
   "id": "9c809017",
   "metadata": {},
   "source": [
    "## 🔮 Make Predictions with XGBoost Classifier"
   ]
  },
  {
   "cell_type": "code",
   "execution_count": 10,
   "id": "eb25b790",
   "metadata": {},
   "outputs": [],
   "source": [
    "# make predictions on test data\n",
    "y_pred = xgb_clf.predict(X_test)"
   ]
  },
  {
   "cell_type": "markdown",
   "id": "b4cb2d2d",
   "metadata": {},
   "source": [
    "## ✅ Check Accuracy Score"
   ]
  },
  {
   "cell_type": "code",
   "execution_count": 11,
   "id": "b53760a2",
   "metadata": {},
   "outputs": [
    {
     "name": "stdout",
     "output_type": "stream",
     "text": [
      "Accuracy:  0.8939\n",
      "Precision: 0.8913\n",
      "Recall:    0.9535\n",
      "f1-Score:  0.9213\n",
      "AUC:       0.9626\n"
     ]
    },
    {
     "data": {
      "text/plain": [
       "<sklearn.metrics._plot.confusion_matrix.ConfusionMatrixDisplay at 0x1e4c95cbfd0>"
      ]
     },
     "execution_count": 11,
     "metadata": {},
     "output_type": "execute_result"
    },
    {
     "data": {
      "image/png": "[encoded data removed]",
      "text/plain": [
       "<Figure size 432x288 with 2 Axes>"
      ]
     },
     "metadata": {
      "needs_background": "light"
     },
     "output_type": "display_data"
    }
   ],
   "source": [
    "# Evaluate metrics\n",
    "accuracy = accuracy_score(y_test, y_pred)\n",
    "precision = precision_score(y_test, y_pred)\n",
    "recall = recall_score(y_test, y_pred)\n",
    "f1 = f1_score(y_test, y_pred)\n",
    "auc = roc_auc_score(y_test, xgb_clf.predict_proba(X_test)[:, 1])\n",
    "\n",
    "# Print scores\n",
    "print(f'Accuracy:  {accuracy:.4f}')\n",
    "print(f'Precision: {precision:.4f}')\n",
    "print(f'Recall:    {recall:.4f}')\n",
    "print(f'f1-Score:  {f1:.4f}')\n",
    "print(f'AUC:       {auc:.4f}')\n",
    "\n",
    "# Confusion Matrix\n",
    "cm = confusion_matrix(y_test, y_pred)\n",
    "disp = ConfusionMatrixDisplay(confusion_matrix=cm)\n",
    "disp.plot(cmap='Blues')"
   ]
  },
  {
   "cell_type": "markdown",
   "id": "85f01fe9",
   "metadata": {},
   "source": [
    "## 🔍 Feature importance with XGBoost"
   ]
  },
  {
   "cell_type": "code",
   "execution_count": 12,
   "id": "2c7604df",
   "metadata": {},
   "outputs": [
    {
     "data": {
      "image/png": "[encoded data removed]",
      "text/plain": [
       "<Figure size 720x432 with 1 Axes>"
      ]
     },
     "metadata": {
      "needs_background": "light"
     },
     "output_type": "display_data"
    }
   ],
   "source": [
    "importances = xgb_clf.get_booster().get_score(importance_type='gain')\n",
    "\n",
    "# Convert to DataFrame and sort\n",
    "importance_df = pd.DataFrame({\n",
    "    'Feature': list(importances.keys()),\n",
    "    'Importance': list(importances.values())\n",
    "}).sort_values(by='Importance', ascending=False)\n",
    "\n",
    "# Optional: show only top N features\n",
    "top_n = 10\n",
    "importance_df = importance_df.head(top_n)\n",
    "\n",
    "# Plot with seaborn\n",
    "plt.figure(figsize=(10, 6))\n",
    "sns.barplot(data=importance_df, x='Importance', y='Feature', palette='viridis')\n",
    "plt.title(f\"Top {top_n} Feature Importances (Gain)\")\n",
    "plt.xlabel(\"Gain\")\n",
    "plt.ylabel(\"Feature\")\n",
    "plt.tight_layout()\n",
    "plt.show()\n"
   ]
  },
  {
   "cell_type": "markdown",
   "id": "556edbaa",
   "metadata": {},
   "source": [
    "------------"
   ]
  },
  {
   "cell_type": "markdown",
   "id": "38e762fd",
   "metadata": {},
   "source": [
    "📦 **Project Handoff to MLOps**\n",
    "\n",
    "Now, imagine this is the final output of a data scientist's work. This project will be handed over to a machine learning engineer, who will be responsible for versioning the model using MLflow.\n",
    "\n",
    "The engineer will set up experiment tracking, store the generated artifacts, monitor model performance metrics, and ensure the entire workflow is reproducible all as part of a well-structured MLOps pipeline.\n",
    "\n",
    "🎯 **Next Step: Hyperparameter Optimization**\n",
    "\n",
    "From this point on, we will perform hyperparameter optimization using Optuna. Meanwhile, MLflow will continue to log each experiment, allowing us to compare versions and easily identify the best set of parameters.\n",
    "\n",
    "\n",
    "---------"
   ]
  },
  {
   "cell_type": "markdown",
   "id": "544afdb2",
   "metadata": {},
   "source": [
    "## ⚙️ MLOps in Practice: Managing the Machine Learning Model Lifecycle\n",
    "\n",
    "Now, we explore how **MLOps** practices help structure, automate, and scale the machine learning model lifecycle — from data preparation and model training to deployment, monitoring, and continuous improvement. We'll demonstrate how tools like **MLflow** can streamline this process and ensure reproducibility, traceability, and collaboration across teams."
   ]
  },
  {
   "cell_type": "markdown",
   "id": "3940ddd0",
   "metadata": {},
   "source": [
    "## 🚀 Initializing the MLflow Server\n",
    "\n",
    "To start the MLflow tracking server locally, follow the steps based on your environment:\n",
    "\n",
    "---\n",
    "\n",
    "### 🐍 **Using Anaconda**\n",
    "\n",
    "1. Open the **Anaconda Command Prompt**  \n",
    "2. Navigate to your project directory:\n",
    "\n",
    "   ```bash\n",
    "   cd your-project-path\n",
    "\n",
    "3. Run the MLflow server:\n",
    "\n",
    "   ```bash\n",
    "   python -m mlflow server --host 127.0.0.1 --port 8282\n",
    "\n",
    "\n",
    "### 💻 **Using VS Code**\n",
    "\n",
    "1. Open the **terminal** in VS Code\n",
    "2. Run the command below:\n",
    "\n",
    "   ```bash\n",
    "   py -m mlflow server --host 127.0.0.1 --port 8282\n",
    "\n",
    "✅ Make sure you're using the same Python environment or kernel as the one used in your notebook or training script.\n",
    "\n",
    "-----\n",
    "\n",
    "🛰️  Now, let's define the address of the MLflow tracking server — that is, where the experiment logs (parameters, metrics, models, etc.) will be sent and stored."
   ]
  },
  {
   "cell_type": "code",
   "execution_count": 13,
   "id": "e89f0788",
   "metadata": {},
   "outputs": [],
   "source": [
    "mlflow.set_tracking_uri('http://127.0.0.1:8282')"
   ]
  },
  {
   "cell_type": "markdown",
   "id": "21494f27",
   "metadata": {},
   "source": [
    "Access the URL above from a new tab in your browser: [http://127.0.0.1:8282](http://127.0.0.1:8282)\n"
   ]
  },
  {
   "cell_type": "markdown",
   "id": "42c05a52",
   "metadata": {},
   "source": [
    "## 📈 **Monitoring the Trained Model**\n",
    "\n",
    "To properly monitor the performance of the trained model, we will generate a series of visualizations that will help us better understand how the model is behaving.\n",
    "\n",
    "These plots will assist in:\n",
    "\n",
    "* Evaluating predictive quality\n",
    "* Identifying potential bias or imbalance\n",
    "* Detecting signs of overfitting or underfitting\n",
    "* Supporting model explainability and transparency\n",
    "\n",
    "By visualizing key metrics and outputs, we can gain valuable insights that go beyond raw numbers and ensure the model remains reliable over time."
   ]
  },
  {
   "cell_type": "code",
   "execution_count": 14,
   "id": "5b9e477a",
   "metadata": {},
   "outputs": [],
   "source": [
    "def plot_corr(df, target='Channel', save_path=None, top_n=None):\n",
    "    '''\n",
    "    Parameters:\n",
    "    - df: pandas DataFrame containing the dataset\n",
    "    - target: string, name of the target column\n",
    "    - save_path: optional path to save the figure (as PNG)\n",
    "    - top_n: optional, number of top features to display based on absolute correlation\n",
    "    '''\n",
    "    # Compute correlations with the target \n",
    "    corr = df.corr()[target].drop(target)\n",
    "    corr = corr.reindex(corr.abs().sort_values().index)\n",
    "\n",
    "    # Optionally show only top N correlated features\n",
    "    if top_n:\n",
    "        corr = corr.tail(top_n)\n",
    "\n",
    "    # Set clean white style\n",
    "    sns.set_style('white')\n",
    "    fig, ax = plt.subplots(figsize=(10, 0.5 * len(corr) + 1))\n",
    "\n",
    "    # Plot horizontal bars with elegant color\n",
    "    bars = ax.barh(\n",
    "        corr.index, corr.values,\n",
    "        color='#4C72B0', edgecolor='black', height=0.6\n",
    "    )\n",
    "\n",
    "    # Add correlation values next to bars\n",
    "    for bar in bars:\n",
    "        width = bar.get_width()\n",
    "        ax.text(\n",
    "            x=width + 0.02 if width > 0 else width - 0.02,\n",
    "            y=bar.get_y() + bar.get_height() / 2,\n",
    "            s=f\"{width:.2f}\",\n",
    "            va='center',\n",
    "            ha='left' if width > 0 else 'right',\n",
    "            fontsize=11)\n",
    "\n",
    "    # Clean and minimal axes\n",
    "    ax.set_title(f\"Correlation with '{target}'\", fontsize=16, pad=12)\n",
    "    ax.set_xlabel(\"Correlation Coefficient\", fontsize=13)\n",
    "    ax.set_ylabel(\"\")\n",
    "    ax.spines['right'].set_visible(False)\n",
    "    ax.spines['top'].set_visible(False)\n",
    "    ax.spines['left'].set_color('#cccccc')\n",
    "    ax.spines['bottom'].set_color('#cccccc')\n",
    "    plt.grid(axis='x', linestyle='--', alpha=0.4)\n",
    "    plt.xticks(fontsize=11)\n",
    "    plt.yticks(fontsize=11)\n",
    "    plt.tight_layout()\n",
    "\n",
    "    # Save figure if needed\n",
    "    if save_path:\n",
    "        plt.savefig(save_path, dpi=300, bbox_inches='tight')\n",
    "\n",
    "    plt.close(fig)\n",
    "    return fig\n"
   ]
  },
  {
   "cell_type": "code",
   "execution_count": 15,
   "id": "8201dc6e",
   "metadata": {},
   "outputs": [
    {
     "data": {
      "image/png": "[encoded data removed]",
      "text/plain": [
       "<Figure size 720x324 with 1 Axes>"
      ]
     },
     "execution_count": 15,
     "metadata": {},
     "output_type": "execute_result"
    }
   ],
   "source": [
    "plot_corr(df)"
   ]
  },
  {
   "cell_type": "code",
   "execution_count": 16,
   "id": "10eb45b5",
   "metadata": {},
   "outputs": [],
   "source": [
    "def plot_confusion_matrix(y_true, y_pred, labels=None, save_path=None):\n",
    "    '''\n",
    "    Plots a styled confusion matrix with annotated counts.\n",
    "\n",
    "    Parameters:\n",
    "    - y_true: array-like, true target labels\n",
    "    - y_pred: array-like, predicted labels\n",
    "    - labels: optional list of label names (for axis ticks)\n",
    "    - save_path: optional path to save the figure as PNG\n",
    "    '''\n",
    "    # Compute confusion matrix\n",
    "    cm = confusion_matrix(y_true, y_pred)\n",
    "\n",
    "    # Set seaborn style\n",
    "    sns.set_style('whitegrid', {\n",
    "        'axes.facecolor': '#eaeaf2',\n",
    "        'grid.linewidth': 1.2})\n",
    "\n",
    "    # Create figure\n",
    "    fig, ax = plt.subplots(figsize=(8, 6))\n",
    "\n",
    "    # Plot heatmap\n",
    "    sns.heatmap(\n",
    "        cm, annot=True, fmt='d', cmap='Blues',\n",
    "        cbar=False, square=True, linewidths=0.5,\n",
    "        xticklabels=labels if labels else 'auto',\n",
    "        yticklabels=labels if labels else 'auto',\n",
    "        ax=ax)\n",
    "\n",
    "    # Titles and labels\n",
    "    ax.set_title('Confusion Matrix', fontsize=16, pad=12)\n",
    "    ax.set_xlabel('Predicted Labels', fontsize=13)\n",
    "    ax.set_ylabel('True Labels', fontsize=13)\n",
    "    ax.tick_params(axis='both', labelsize=12)\n",
    "\n",
    "    # Adjust layout\n",
    "    plt.tight_layout()\n",
    "\n",
    "    # ✅ Save if path provided\n",
    "    if save_path:\n",
    "        fig.savefig(save_path, format=\"png\", dpi=600, bbox_inches='tight')\n",
    "\n",
    "    # Close and return\n",
    "    plt.close(fig)\n",
    "    return fig\n"
   ]
  },
  {
   "cell_type": "code",
   "execution_count": 17,
   "id": "ebb947b0",
   "metadata": {},
   "outputs": [
    {
     "data": {
      "image/png": "[encoded data removed]",
      "text/plain": [
       "<Figure size 576x432 with 1 Axes>"
      ]
     },
     "execution_count": 17,
     "metadata": {},
     "output_type": "execute_result"
    }
   ],
   "source": [
    "plot_confusion_matrix(y_test, y_pred, labels=['Class 0', 'Class 1'])"
   ]
  },
  {
   "cell_type": "code",
   "execution_count": 18,
   "id": "8f56e464",
   "metadata": {},
   "outputs": [],
   "source": [
    "def plot_feature_importance(model, booster='gbtree', top_n=10, importance_type=None, save_path=None):\n",
    "    '''\n",
    "    Plots feature importance for a trained XGBoost model (either Booster or XGBClassifier).\n",
    "    '''\n",
    "    if importance_type is None:\n",
    "        importance_type = 'weight' if booster == 'gblinear' else 'gain'\n",
    "\n",
    "    # Handle both Booster and XGBClassifier\n",
    "    if hasattr(model, 'get_booster'):\n",
    "        booster_model = model.get_booster()\n",
    "    else:\n",
    "        booster_model = model  # assume it's already a Booster\n",
    "\n",
    "    # Extract feature importances\n",
    "    importances = booster_model.get_score(importance_type=importance_type)\n",
    "\n",
    "    importance_df = pd.DataFrame({\n",
    "        'Feature': list(importances.keys()),\n",
    "        'Importance': list(importances.values())\n",
    "    }).sort_values(by='Importance', ascending=False)\n",
    "\n",
    "    if top_n:\n",
    "        importance_df = importance_df.head(top_n)\n",
    "\n",
    "    sns.set_style('white')\n",
    "    plt.figure(figsize=(10, 6))\n",
    "    sns.barplot(data=importance_df, x='Importance', y='Feature', palette='viridis')\n",
    "\n",
    "    plt.title(f'Top {top_n} Feature Importances ({importance_type.title()})', fontsize=14)\n",
    "    plt.xlabel(importance_type.title(), fontsize=12)\n",
    "    plt.ylabel('Feature', fontsize=12)\n",
    "    plt.xticks(fontsize=11)\n",
    "    plt.yticks(fontsize=11)\n",
    "    plt.grid(axis='x', linestyle='--', alpha=0.3)\n",
    "    plt.tight_layout()\n",
    "\n",
    "    if save_path:\n",
    "        plt.savefig(save_path, dpi=300, bbox_inches='tight', facecolor='white')\n",
    "\n",
    "    fig = plt.gcf()\n",
    "    plt.close()\n",
    "    return fig\n"
   ]
  },
  {
   "cell_type": "code",
   "execution_count": 19,
   "id": "54e7c627",
   "metadata": {},
   "outputs": [
    {
     "data": {
      "image/png": "[encoded data removed]",
      "text/plain": [
       "<Figure size 720x432 with 1 Axes>"
      ]
     },
     "execution_count": 19,
     "metadata": {},
     "output_type": "execute_result"
    }
   ],
   "source": [
    "plot_feature_importance(xgb_clf, booster='gbtree', top_n=10, importance_type=None, save_path=None)"
   ]
  },
  {
   "cell_type": "markdown",
   "id": "b36ab2d8",
   "metadata": {},
   "source": [
    "## 🧪 Creating the experiment in MLflow"
   ]
  },
  {
   "cell_type": "code",
   "execution_count": 20,
   "id": "ec479566",
   "metadata": {},
   "outputs": [],
   "source": [
    "# Function to create an MLflow experiment\n",
    "def create_experiment(experiment_name):\n",
    "    '''\n",
    "    Creates an MLflow experiment if it doesn't already exist.\n",
    "    \n",
    "    Parameters:\n",
    "    - experiment_name: string, name of the experiment to create or retrieve\n",
    "    \n",
    "    Returns:\n",
    "    - experiment_id: the ID of the existing or newly created experiment\n",
    "    '''\n",
    "\n",
    "    # Check if the experiment already exists by name\n",
    "    if experiment := mlflow.get_experiment_by_name(experiment_name):\n",
    "        # If it exists, return its ID\n",
    "        return experiment.experiment_id\n",
    "    else:\n",
    "        # If it doesn't exist, create a new one and return its ID\n",
    "        return mlflow.create_experiment(experiment_name)"
   ]
  },
  {
   "cell_type": "code",
   "execution_count": 21,
   "id": "6f0317ff",
   "metadata": {},
   "outputs": [
    {
     "name": "stdout",
     "output_type": "stream",
     "text": [
      "The ID of experiment is: 572699511086300420\n"
     ]
    }
   ],
   "source": [
    "# creating the experiment\n",
    "id_experiment = create_experiment('mlflow-project')\n",
    "print(f'The ID of experiment is: {id_experiment}')"
   ]
  },
  {
   "cell_type": "markdown",
   "id": "2355e269",
   "metadata": {},
   "source": [
    "View it in your browser: [http://127.0.0.1:8282](http://127.0.0.1:8282)\n"
   ]
  },
  {
   "cell_type": "markdown",
   "id": "cc4dbc56",
   "metadata": {},
   "source": [
    "## 🛠️ Fine-tuning the model\n",
    "\n",
    "🔍 Imagine your job is to monitor the performance of a model developed by **the data scientist**.\\\n",
    "🚀 Since you also have data science skills, you decide to take it a step further by optimizing the model’s **hyperparameters**.\\\n",
    "🧠 You know that, for the tuning to be meaningful and leakage-free, you must work with three separate datasets:\n",
    "🏋️ The **training set** is used to adjust the model’s weights.\\\n",
    "🧪 The **validation set** helps you compare different hyperparameter configurations without touching the test set.\\\n",
    "🎯 The **test set** remains untouched until the final evaluation, ensuring that performance is measured on truly unseen data.\\\n",
    "✅ This setup ensures reliable, reproducible results and a model ready for production.\n"
   ]
  },
  {
   "cell_type": "code",
   "execution_count": 22,
   "id": "15338434",
   "metadata": {},
   "outputs": [],
   "source": [
    "X_trainval, X_test, y_trainval, y_test = train_test_split(X, y, test_size=0.3, random_state=0)\n",
    "\n",
    "# Fixed split into training and validation for all trials\n",
    "X_train, X_valid, y_train, y_valid = train_test_split(X_trainval, y_trainval, test_size=0.2, random_state=0)"
   ]
  },
  {
   "cell_type": "markdown",
   "id": "ba80cd22",
   "metadata": {},
   "source": [
    "🤖✨ **Why Use a Validation Set for Hyperparameter Tuning?** ✨🔍\n",
    "\n",
    "When performing **hyperparameter tuning** (e.g., with Optuna), it's essential to split your data into three sets: **training**, **validation**, and **test**. Here’s why:\n",
    "\n",
    "---\n",
    "\n",
    "1. 🔒 **Avoid Information Leakage**\n",
    "\n",
    "   * If you only use *train* and *test* and choose hyperparameters based on the *test* set, you're leaking information — meaning you've tuned for the *test* instead of truly measuring generalization.\n",
    "   * 🛑 The **test** set must remain **untouched** until final evaluation, simulating truly unseen data.\n",
    "\n",
    "2. 🎯 **Tune Using a Separate Set**\n",
    "\n",
    "   * **Training set:** fits the model’s weights.\n",
    "   * **Validation set:** compares different configurations (number of trees, depth, learning rate, etc.) without touching the *test* set.\n",
    "   * ✅ Only after selecting the best configuration on the *validation* set should you “freeze” the model and evaluate it on the *test* set.\n",
    "\n",
    "3. 🔄 **Reproducibility Across Trials**\n",
    "\n",
    "   * By using the same *(X\\_train, X\\_valid)* split for **all** trials, you ensure that the only change Optuna sees is the **hyperparameter**, not a new data partition each time.\n",
    "   * This makes comparisons between trials fairer and more stable.\n",
    "\n",
    "4. 📊 **Typical Data Split**\n",
    "\n",
    "   * `test_size=0.3` → 30% of the data is allocated to the **final test**.\n",
    "   * Of the remaining 70%, using `test_size=0.2` gives 14% for **validation**, and 56% remains for **training**.\n",
    "   * In summary:\n",
    "\n",
    "     * 🏋️ **Training:** 56%\n",
    "     * 🔎 **Validation:** 14%\n",
    "     * 🎯 **Test:** 30%\n",
    "\n",
    "---\n",
    "\n",
    "### 🚀 Ideal Tuning Pipeline Flow\n",
    "\n",
    "1. 🪓 **3-way split:** `train` ↔ `validation` ↔ `test`\n",
    "2. ⚙️ **Hyperparameter optimization** using **train + validation**\n",
    "3. 🏋️ **Final training** with the best configuration on **train + validation**\n",
    "4. 🎯 **Final evaluation** on the **test** set (unseen data)\n",
    "\n",
    "---\n",
    "\n",
    "✅ **Benefits:**\n",
    "\n",
    "* The model **doesn’t overfit** to the test set.\n",
    "* Hyperparameter selection is **truly generalizable**.\n",
    "* The final evaluation reflects the model’s **true performance** on new data.\n",
    "\n",
    "You're now running a tuning process that’s leakage-proof and free from biased comparisons. 😉👍\n"
   ]
  },
  {
   "cell_type": "markdown",
   "id": "9c8cb857",
   "metadata": {},
   "source": [
    "## 🎯 Maximizing F1-Score for Balanced Performance\n",
    "\n",
    "\n",
    "Here, we chose to **maximize the F1-score** as our objective in order to ensure a balanced and meaningful performance metric.\n"
   ]
  },
  {
   "cell_type": "code",
   "execution_count": 23,
   "id": "1fe2c87f",
   "metadata": {},
   "outputs": [],
   "source": [
    "def optimize_hyperparameters(trial):\n",
    "    dsubtrain = xgb.DMatrix(X_train.values,  label=y_train.values)\n",
    "    dvalid    = xgb.DMatrix(X_valid.values,  label=y_valid.values)\n",
    "\n",
    "    params = {\n",
    "        'objective':        'binary:logistic',\n",
    "        'eval_metric':      'logloss',\n",
    "        'booster':          trial.suggest_categorical('booster', ['gbtree','gblinear','dart']),\n",
    "        'learning_rate':    trial.suggest_float('learning_rate', 0.01, 0.3),\n",
    "        'max_depth':        trial.suggest_int('max_depth', 3, 10),\n",
    "        'subsample':        trial.suggest_float('subsample', 0.5, 1.0),\n",
    "        'colsample_bytree': trial.suggest_float('colsample_bytree', 0.5, 1.0),\n",
    "        'reg_lambda':       trial.suggest_float('reg_lambda', 1e-8, 1.0, log=True),\n",
    "        'reg_alpha':        trial.suggest_float('reg_alpha', 1e-8, 1.0, log=True)}\n",
    "\n",
    "    with mute_mlflow_links():                      \n",
    "        with mlflow.start_run(nested=True):\n",
    "            model = xgb.train(\n",
    "                params,\n",
    "                dsubtrain,\n",
    "                evals=[(dvalid, 'validation')],\n",
    "                num_boost_round=1000,\n",
    "                early_stopping_rounds=20,\n",
    "                verbose_eval=False\n",
    "            )\n",
    "\n",
    "            preds_proba = model.predict(dvalid)\n",
    "            preds       = (preds_proba > 0.5).astype(int)\n",
    "            f1          = f1_score(y_valid, preds)\n",
    "\n",
    "            mlflow.log_params(params)\n",
    "            mlflow.log_metric('f1_score', f1)\n",
    "\n",
    "    return 1.0 - f1\n"
   ]
  },
  {
   "cell_type": "markdown",
   "id": "1d08b639",
   "metadata": {},
   "source": [
    "## 🏆 Tracking the Best F1-Score During Optimization\n",
    "\n",
    "This callback monitors each trial and updates the current best F1-score. Whenever a new trial achieves a better score, it logs the result and stores it as the new winner, helping track progress in real time.\n"
   ]
  },
  {
   "cell_type": "code",
   "execution_count": 24,
   "id": "818612e5",
   "metadata": {},
   "outputs": [],
   "source": [
    "def f1_score_callback(study, frozen_trial):\n",
    "    prev = study.user_attrs.get('best_so_far', float('inf'))  # we are minimizing 1 - F1\n",
    "    cur  = study.best_value\n",
    "    if cur < prev:\n",
    "        study.set_user_attr('best_so_far', cur)\n",
    "        print(f'New best F1-score: {1.0 - cur:.4f} on trial {frozen_trial.number}', flush=True)"
   ]
  },
  {
   "cell_type": "markdown",
   "id": "5e4f5d46",
   "metadata": {},
   "source": [
    "## 🧪 Full Training and Evaluation Pipeline with MLflow & Optuna\n",
    "\n",
    "This script performs a complete machine learning workflow: it starts an MLflow run, optimizes hyperparameters with Optuna, logs the best trial's results, trains the final model using both training and validation data, and evaluates it on a held-out test set. Performance metrics (accuracy, precision, recall, F1-score) and the confusion matrix are logged. Finally, the model is saved with its signature for proper versioning in MLflow’s Model Registry."
   ]
  },
  {
   "cell_type": "code",
   "execution_count": 25,
   "id": "67d58d8c",
   "metadata": {},
   "outputs": [
    {
     "name": "stdout",
     "output_type": "stream",
     "text": [
      "New best F1-score: 0.9268 on trial 0\n",
      "New best F1-score: 0.9367 on trial 5\n",
      "New best F1-score: 0.9487 on trial 17\n"
     ]
    },
    {
     "name": "stderr",
     "output_type": "stream",
     "text": [
      "2025/07/22 10:04:05 WARNING mlflow.utils.environment: Encountered an unexpected error while inferring pip requirements (model URI: C:\\Users\\VICTOR~1.FRA\\AppData\\Local\\Temp\\tmp4sxjpbj3\\model, flavor: xgboost). Fall back to return ['xgboost==2.1.4']. Set logging level to DEBUG to see the full traceback. \n"
     ]
    },
    {
     "name": "stdout",
     "output_type": "stream",
     "text": [
      "🏃 View run experiment_1 at: http://127.0.0.1:8282/#/experiments/572699511086300420/runs/28fb58e37dc94fd5b559b583207dc245\n",
      "🧪 View experiment at: http://127.0.0.1:8282/#/experiments/572699511086300420\n",
      "--Done--\n"
     ]
    }
   ],
   "source": [
    "run_name = 'experiment_1'\n",
    "mlflow.set_experiment(experiment_id=id_experiment)\n",
    "\n",
    "with mlflow.start_run(run_name=run_name):\n",
    "    study = optuna.create_study(direction='minimize')\n",
    "    study.optimize(optimize_hyperparameters, n_trials=200, callbacks=[f1_score_callback])\n",
    "\n",
    "    mlflow.set_tag('best_f1_score', f'{1.0 - study.best_value:.4f}')\n",
    "    mlflow.set_tag('best_trial',    str(study.best_trial.number))\n",
    "\n",
    "    dtrainval = xgb.DMatrix(X_trainval.values, label=y_trainval.values)\n",
    "    dtest     = xgb.DMatrix(X_test.values,      label=y_test.values)\n",
    "\n",
    "    final_model = xgb.train(\n",
    "        study.best_params,\n",
    "        dtrainval,\n",
    "        evals=[(dtest, 'test')],\n",
    "        num_boost_round=1000,\n",
    "        early_stopping_rounds=20,\n",
    "        verbose_eval=False)\n",
    "\n",
    "    y_pred_test   = final_model.predict(dtest)\n",
    "    y_pred_binary = (y_pred_test >= 0.5).astype(int)\n",
    "\n",
    "    acc  = accuracy_score(y_test, y_pred_binary)\n",
    "    prec = precision_score(y_test, y_pred_binary)\n",
    "    rec  = recall_score(y_test, y_pred_binary)\n",
    "    f1   = f1_score(y_test, y_pred_binary)\n",
    "\n",
    "    mlflow.log_metric('final_accuracy',  acc)\n",
    "    mlflow.log_metric('final_precision', prec)\n",
    "    mlflow.log_metric('final_recall',    rec)\n",
    "    mlflow.log_metric('final_f1_score',  f1)\n",
    "\n",
    "    fig_path = os.path.join(tempfile.gettempdir(), 'confusion_matrix.png')\n",
    "    plot_confusion_matrix(y_test, y_pred_binary, save_path=fig_path)\n",
    "    mlflow.log_artifact(fig_path)\n",
    "\n",
    "    corr_path = os.path.join(tempfile.gettempdir(), 'correlation.png')\n",
    "    plot_corr(df, target='Channel', save_path=corr_path)\n",
    "    mlflow.log_artifact(corr_path)\n",
    "    plt.close()\n",
    "\n",
    "    fi_path = os.path.join(tempfile.gettempdir(), 'feature_importance.png')\n",
    "    plot_feature_importance(\n",
    "        model=final_model,\n",
    "        booster='gbtree',\n",
    "        top_n=10,\n",
    "        importance_type=None,\n",
    "        save_path=fi_path\n",
    "    )\n",
    "    mlflow.log_artifact(fi_path)\n",
    "    plt.close()\n",
    "\n",
    "    signature = infer_signature(X_trainval, final_model.predict(dtrainval))\n",
    "\n",
    "    tmp_dir         = tempfile.mkdtemp()\n",
    "    model_save_path = os.path.join(tmp_dir, 'model')\n",
    "\n",
    "    mlflow.xgboost.save_model(\n",
    "        final_model,\n",
    "        path=model_save_path,\n",
    "        input_example=X_trainval.iloc[[0]],\n",
    "        signature=signature,\n",
    "        model_format='ubj',\n",
    "        metadata={'model_data_version': 1}\n",
    "    )\n",
    "    \n",
    "    mlflow.log_artifacts(model_save_path, artifact_path='model')\n",
    "    shutil.rmtree(tmp_dir)\n",
    "print('--Done--')"
   ]
  },
  {
   "cell_type": "markdown",
   "id": "0a9e26e5",
   "metadata": {},
   "source": [
    "## 🔚 All set! Now you have your experiment saved with the best trained model.\n",
    "You can view the model, its metrics, artifacts, and parameters by visiting:\n",
    "👉 http://127.0.0.1:8282 (open in a new browser tab)\n",
    "\n",
    "📦 **Next step: using the trained model for inference**\n",
    "\n",
    "Suppose you now want to use this final trained model to make predictions. For simplicity — and due to the lack of new data — we’ll reuse the same test set used earlier.\n",
    "\n",
    "Just follow the steps below to load the model and make predictions:"
   ]
  },
  {
   "cell_type": "code",
   "execution_count": 26,
   "id": "464dde32",
   "metadata": {},
   "outputs": [
    {
     "name": "stdout",
     "output_type": "stream",
     "text": [
      "Parent RUN: 28fb58e37dc94fd5b559b583207dc245\n",
      "Base URI  : mlflow-artifacts:/572699511086300420/28fb58e37dc94fd5b559b583207dc245/artifacts\n"
     ]
    }
   ],
   "source": [
    "client = MlflowClient()\n",
    "\n",
    "# Filter the run by its exact name\n",
    "papa = client.search_runs(\n",
    "    experiment_ids=[id_experiment],\n",
    "    filter_string='tag.mlflow.runName = \"experiment_1\"')[0]   \n",
    "\n",
    "run_id_pai = papa.info.run_id\n",
    "print('Parent RUN:', run_id_pai)\n",
    "print('Base URI  :', papa.info.artifact_uri)"
   ]
  },
  {
   "cell_type": "code",
   "execution_count": 27,
   "id": "6e98d5b5",
   "metadata": {},
   "outputs": [
    {
     "data": {
      "text/plain": [
       "'mlflow-artifacts:/572699511086300420/28fb58e37dc94fd5b559b583207dc245/artifacts/model/'"
      ]
     },
     "execution_count": 27,
     "metadata": {},
     "output_type": "execute_result"
    }
   ],
   "source": [
    "model_uri = f'runs:/{run_id_pai}/model'\n",
    "model_uri_abs = f'{papa.info.artifact_uri}/model/'\n",
    "model_uri_abs"
   ]
  },
  {
   "cell_type": "markdown",
   "id": "a09f2de3",
   "metadata": {},
   "source": [
    "## 📦 Loading the Best Model\n",
    "\n"
   ]
  },
  {
   "cell_type": "code",
   "execution_count": 28,
   "id": "442a399c",
   "metadata": {},
   "outputs": [
    {
     "data": {
      "application/vnd.jupyter.widget-view+json": {
       "model_id": "7fcc864bbe6c4396ae099c1ad8a1fef7",
       "version_major": 2,
       "version_minor": 0
      },
      "text/plain": [
       "Downloading artifacts:   0%|          | 0/7 [00:00<?, ?it/s]"
      ]
     },
     "metadata": {},
     "output_type": "display_data"
    }
   ],
   "source": [
    "best_model = mlflow.xgboost.load_model(model_uri)"
   ]
  },
  {
   "cell_type": "code",
   "execution_count": 29,
   "id": "4d8e938a",
   "metadata": {},
   "outputs": [
    {
     "name": "stdout",
     "output_type": "stream",
     "text": [
      "Accuracy  : 0.886\n",
      "Precision : 0.882\n",
      "Recall    : 0.953\n",
      "F1-score  : 0.916\n"
     ]
    },
    {
     "data": {
      "image/png": "[encoded data removed]",
      "text/plain": [
       "<Figure size 432x288 with 2 Axes>"
      ]
     },
     "metadata": {},
     "output_type": "display_data"
    }
   ],
   "source": [
    "# Convert X_test to DMatrix\n",
    "dtest = xgb.DMatrix(X_test)\n",
    "\n",
    "# Make predictions (probabilities)\n",
    "y_prob = best_model.predict(dtest)\n",
    "\n",
    "# Apply 0.5 threshold to get binary classes\n",
    "y_pred = (y_prob > 0.5).astype(int)\n",
    "\n",
    "# Compute metrics\n",
    "acc = accuracy_score(y_test, y_pred)\n",
    "prec = precision_score(y_test, y_pred)\n",
    "rec = recall_score(y_test, y_pred)\n",
    "f1 = f1_score(y_test, y_pred)\n",
    "\n",
    "# Display the results\n",
    "print(f'Accuracy  : {acc:.3f}')\n",
    "print(f'Precision : {prec:.3f}')\n",
    "print(f'Recall    : {rec:.3f}')\n",
    "print(f'F1-score  : {f1:.3f}')\n",
    "\n",
    "# Confusion matrix\n",
    "cm = confusion_matrix(y_test, y_pred)\n",
    "disp = ConfusionMatrixDisplay(confusion_matrix=cm)\n",
    "disp.plot(cmap='Blues')\n",
    "plt.title(\"Confusion Matrix - Final Test\")\n",
    "plt.show()\n"
   ]
  },
  {
   "cell_type": "markdown",
   "id": "98a569d9",
   "metadata": {},
   "source": [
    "## 🏁 Conclusion \n",
    "\n",
    "As mentioned earlier, we reused the same test set **just to demonstrate** how to load the model from MLflow.\n",
    "To verify whether this is truly the **best-performing final model**, simply go to your MLflow experiment, check the corresponding **run ID**, and compare the logged **metrics** with the ones printed above.\n"
   ]
  }
 ],
 "metadata": {
  "kernelspec": {
   "display_name": "base",
   "language": "python",
   "name": "python3"
  },
  "language_info": {
   "codemirror_mode": {
    "name": "ipython",
    "version": 3
   },
   "file_extension": ".py",
   "mimetype": "text/x-python",
   "name": "python",
   "nbconvert_exporter": "python",
   "pygments_lexer": "ipython3",
   "version": "3.9.12"
  }
 },
 "nbformat": 4,
 "nbformat_minor": 5
}
