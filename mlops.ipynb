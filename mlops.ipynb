{
 "cells": [
  {
   "cell_type": "markdown",
   "id": "f8cf1105",
   "metadata": {},
   "source": [
    "# 🛠️ MLflow Hands-On\n",
    "\n",
    "🎯 **Our goal** is to demonstrate how to integrate **MLflow** into a *machine learning* project, showcasing its role in tracking and managing experiments efficiently.\n",
    "\n",
    "We'll start by **fitting an initial boosting model**, logging parameters, metrics, and artifacts. Then, we'll move on to **hyperparameter optimization using Optuna**, with the entire workflow tracked and versioned through MLflow.\n",
    "\n",
    "---------------\n",
    "\n",
    "🛒 **Dataset**\n",
    "For this project, we used the **Wholesale Customers Data Set**, available from the [UCI Machine Learning Repository](https://archive.ics.uci.edu/ml/datasets/Wholesale+customers).\n",
    "\n",
    "This dataset provides insights into customer spending habits across different product categories, making it a useful resource for unsupervised learning and clustering tasks."
   ]
  },
  {
   "cell_type": "markdown",
   "id": "3ca9df87",
   "metadata": {},
   "source": [
    "## 📚 Importing libraries"
   ]
  },
  {
   "cell_type": "code",
   "execution_count": 1,
   "id": "f3c05965",
   "metadata": {},
   "outputs": [],
   "source": [
    "# Data Manipulation\n",
    "import pandas as pd\n",
    "import numpy as np\n",
    "\n",
    "# Visualization\n",
    "import matplotlib.pyplot as plt\n",
    "import seaborn as sns\n",
    "%matplotlib inline\n",
    "\n",
    "# Modeling and Evaluation\n",
    "import xgboost as xgb\n",
    "from xgboost import XGBClassifier\n",
    "from sklearn.model_selection import train_test_split\n",
    "from sklearn.metrics import mean_squared_error\n",
    "from sklearn.metrics import (\n",
    "    accuracy_score, precision_score, recall_score, \n",
    "    f1_score, roc_auc_score, confusion_matrix, ConfusionMatrixDisplay\n",
    ")\n",
    "\n",
    "# Optimization and Experiment Tracking\n",
    "import optuna\n",
    "import mlflow\n",
    "\n",
    "#  Utilities\n",
    "import warnings\n",
    "import json\n",
    "import math\n",
    "from datetime import datetime, timedelta\n",
    "\n",
    "from sklearn.metrics import f1_score\n",
    "import math\n",
    "\n",
    "# Suppress Warnings\n",
    "warnings.filterwarnings('ignore')"
   ]
  },
  {
   "cell_type": "markdown",
   "id": "87b2d448",
   "metadata": {},
   "source": [
    "## 📥 Import dataset"
   ]
  },
  {
   "cell_type": "code",
   "execution_count": 2,
   "id": "10eb2d90",
   "metadata": {},
   "outputs": [
    {
     "data": {
      "text/html": [
       "<div>\n",
       "<style scoped>\n",
       "    .dataframe tbody tr th:only-of-type {\n",
       "        vertical-align: middle;\n",
       "    }\n",
       "\n",
       "    .dataframe tbody tr th {\n",
       "        vertical-align: top;\n",
       "    }\n",
       "\n",
       "    .dataframe thead th {\n",
       "        text-align: right;\n",
       "    }\n",
       "</style>\n",
       "<table border=\"1\" class=\"dataframe\">\n",
       "  <thead>\n",
       "    <tr style=\"text-align: right;\">\n",
       "      <th></th>\n",
       "      <th>Channel</th>\n",
       "      <th>Region</th>\n",
       "      <th>Fresh</th>\n",
       "      <th>Milk</th>\n",
       "      <th>Grocery</th>\n",
       "      <th>Frozen</th>\n",
       "      <th>Detergents_Paper</th>\n",
       "      <th>Delicassen</th>\n",
       "    </tr>\n",
       "  </thead>\n",
       "  <tbody>\n",
       "    <tr>\n",
       "      <th>435</th>\n",
       "      <td>1</td>\n",
       "      <td>3</td>\n",
       "      <td>29703</td>\n",
       "      <td>12051</td>\n",
       "      <td>16027</td>\n",
       "      <td>13135</td>\n",
       "      <td>182</td>\n",
       "      <td>2204</td>\n",
       "    </tr>\n",
       "    <tr>\n",
       "      <th>436</th>\n",
       "      <td>1</td>\n",
       "      <td>3</td>\n",
       "      <td>39228</td>\n",
       "      <td>1431</td>\n",
       "      <td>764</td>\n",
       "      <td>4510</td>\n",
       "      <td>93</td>\n",
       "      <td>2346</td>\n",
       "    </tr>\n",
       "    <tr>\n",
       "      <th>437</th>\n",
       "      <td>2</td>\n",
       "      <td>3</td>\n",
       "      <td>14531</td>\n",
       "      <td>15488</td>\n",
       "      <td>30243</td>\n",
       "      <td>437</td>\n",
       "      <td>14841</td>\n",
       "      <td>1867</td>\n",
       "    </tr>\n",
       "    <tr>\n",
       "      <th>438</th>\n",
       "      <td>1</td>\n",
       "      <td>3</td>\n",
       "      <td>10290</td>\n",
       "      <td>1981</td>\n",
       "      <td>2232</td>\n",
       "      <td>1038</td>\n",
       "      <td>168</td>\n",
       "      <td>2125</td>\n",
       "    </tr>\n",
       "    <tr>\n",
       "      <th>439</th>\n",
       "      <td>1</td>\n",
       "      <td>3</td>\n",
       "      <td>2787</td>\n",
       "      <td>1698</td>\n",
       "      <td>2510</td>\n",
       "      <td>65</td>\n",
       "      <td>477</td>\n",
       "      <td>52</td>\n",
       "    </tr>\n",
       "  </tbody>\n",
       "</table>\n",
       "</div>"
      ],
      "text/plain": [
       "     Channel  Region  Fresh   Milk  Grocery  Frozen  Detergents_Paper  \\\n",
       "435        1       3  29703  12051    16027   13135               182   \n",
       "436        1       3  39228   1431      764    4510                93   \n",
       "437        2       3  14531  15488    30243     437             14841   \n",
       "438        1       3  10290   1981     2232    1038               168   \n",
       "439        1       3   2787   1698     2510      65               477   \n",
       "\n",
       "     Delicassen  \n",
       "435        2204  \n",
       "436        2346  \n",
       "437        1867  \n",
       "438        2125  \n",
       "439          52  "
      ]
     },
     "execution_count": 2,
     "metadata": {},
     "output_type": "execute_result"
    }
   ],
   "source": [
    "df = pd.read_csv('Wholesale customers data.csv')\n",
    "df.tail()"
   ]
  },
  {
   "cell_type": "markdown",
   "id": "21fb0d2f",
   "metadata": {},
   "source": [
    "## 🔍 Checking for missing values"
   ]
  },
  {
   "cell_type": "code",
   "execution_count": 3,
   "id": "5fb4187d",
   "metadata": {},
   "outputs": [
    {
     "data": {
      "text/plain": [
       "Channel             0\n",
       "Region              0\n",
       "Fresh               0\n",
       "Milk                0\n",
       "Grocery             0\n",
       "Frozen              0\n",
       "Detergents_Paper    0\n",
       "Delicassen          0\n",
       "dtype: int64"
      ]
     },
     "execution_count": 3,
     "metadata": {},
     "output_type": "execute_result"
    }
   ],
   "source": [
    "df.isnull().sum()"
   ]
  },
  {
   "cell_type": "markdown",
   "id": "1d4adb35",
   "metadata": {},
   "source": [
    "## 🎯 Declare feature vector and target variable"
   ]
  },
  {
   "cell_type": "code",
   "execution_count": 4,
   "id": "9de4c41f",
   "metadata": {},
   "outputs": [
    {
     "data": {
      "text/plain": [
       "0    2\n",
       "1    2\n",
       "2    2\n",
       "3    1\n",
       "4    2\n",
       "Name: Channel, dtype: int64"
      ]
     },
     "execution_count": 4,
     "metadata": {},
     "output_type": "execute_result"
    }
   ],
   "source": [
    "X = df.drop('Channel', axis=1)\n",
    "\n",
    "y = df['Channel']\n",
    "y.head()"
   ]
  },
  {
   "cell_type": "markdown",
   "id": "d6476a55",
   "metadata": {},
   "source": [
    "We can see that the \\$y\\$ labels currently contain the values \\$1\\$ and \\$2\\$. For simplicity and easier interpretation, we will convert them to \\$0\\$ and \\$1\\$ for further analysis."
   ]
  },
  {
   "cell_type": "code",
   "execution_count": 5,
   "id": "9bc12073",
   "metadata": {},
   "outputs": [],
   "source": [
    "y[y == 2] = 0\n",
    "y[y == 1] = 1"
   ]
  },
  {
   "cell_type": "markdown",
   "id": "10985fa1",
   "metadata": {},
   "source": [
    "Now, I will convert the dataset into an optimized data structure called **Dmatrix** that XGBoost supports and gives it acclaimed performance and efficiency gains"
   ]
  },
  {
   "cell_type": "code",
   "execution_count": 6,
   "id": "dcb97249",
   "metadata": {},
   "outputs": [],
   "source": [
    "data_dmatrix = xgb.DMatrix(data=X,label=y)"
   ]
  },
  {
   "cell_type": "markdown",
   "id": "aa1c39f7",
   "metadata": {},
   "source": [
    "## ✂️ Split data into separate training and test set"
   ]
  },
  {
   "cell_type": "code",
   "execution_count": 7,
   "id": "9db6392e",
   "metadata": {},
   "outputs": [],
   "source": [
    "X_train, X_test, y_train, y_test = train_test_split(X, y, test_size = 0.3, random_state = 123)"
   ]
  },
  {
   "cell_type": "markdown",
   "id": "d1d9c042",
   "metadata": {},
   "source": [
    "## 🔧 Train the XGBoost Classifier\n",
    "\n",
    "Now it's time to train our **XGBoost classifier**!\n",
    "Before we begin, it’s important to understand the different types of parameters that XGBoost offers. These parameters control the model’s behavior, performance, and complexity.\n",
    "\n",
    "There are **four main categories** of parameters you should know:\n",
    "\n",
    "\n",
    "### ⚙️ General parameters\n",
    "\n",
    "These define which **booster type** to use (e.g., tree-based or linear).\n",
    "Common options include:\n",
    "\n",
    "* `gbtree` – tree-based models (default)\n",
    "* `gblinear` – linear models\n",
    "* `dart` – tree-based models with dropout\n",
    "\n",
    "\n",
    "### 🌲 Booster parameters\n",
    "\n",
    "These depend on the selected booster type and control the training process of individual trees or models.\n",
    "\n",
    "\n",
    "### 🎯 Learning task parameters\n",
    "\n",
    "These define the **objective function** and the type of learning task (e.g., regression, classification, ranking).\n",
    "\n",
    "### 💻 Command line parameters\n",
    "\n",
    "These relate to the CLI (Command Line Interface) version of XGBoost, and aren’t usually needed when using the Python API.\n",
    "\n",
    "\n",
    "## 🧠 Key Parameters to know\n",
    "\n",
    "Here are some of the most important parameters you'll likely tune:\n",
    "\n",
    "* **`learning_rate`** – Controls the step size shrinkage to prevent overfitting. Range: `[0, 1]`.\n",
    "* **`max_depth`** – Maximum depth of a tree. Deeper trees can capture more complex patterns.\n",
    "* **`subsample`** – Fraction of the training data to use for each tree. Lower values can help prevent overfitting.\n",
    "* **`colsample_bytree`** – Fraction of features to use for each tree. Higher values may lead to overfitting.\n",
    "* **`n_estimators`** – Number of boosting rounds (i.e., trees).\n",
    "* **`objective`** – Specifies the learning task and the corresponding loss function:\n",
    "\n",
    "  * `reg:squarederror` – for regression\n",
    "  * `binary:logistic` – for binary classification (probability output)\n",
    "  * `reg:logistic` – for classification with decision outputs\n",
    "\n",
    "\n",
    "## 🛡️ Regularization parameters\n",
    "\n",
    "XGBoost also offers regularization to reduce model complexity and avoid overfitting:\n",
    "\n",
    "* **`gamma`** – Minimum loss reduction required to make a split. Higher values result in fewer splits.\n",
    "* **`alpha`** – L1 regularization term on weights (Lasso). Encourages sparsity.\n",
    "* **`lambda`** – L2 regularization term on weights (Ridge). Adds smoothness.\n",
    "\n",
    "Even though we're using **trees as base learners**, XGBoost also supports linear models (`gblinear`) and dropout-based trees (`dart`) via the `booster` parameter.\n",
    "\n",
    "---\n",
    "\n",
    "Imagine you're a data scientist, and it's time to fine-tune your machine learning model. Fortunately, after some experimentation, you’ve found that the parameter combination below delivers a satisfactory performance for your classification task.\n"
   ]
  },
  {
   "cell_type": "code",
   "execution_count": 14,
   "id": "5a4a6229",
   "metadata": {},
   "outputs": [
    {
     "name": "stdout",
     "output_type": "stream",
     "text": [
      "XGBClassifier(alpha=1.0, base_score=None, booster='gbtree', callbacks=None,\n",
      "              colsample_bylevel=None, colsample_bynode=None,\n",
      "              colsample_bytree=0.8, device=None, early_stopping_rounds=None,\n",
      "              enable_categorical=False, eval_metric='logloss',\n",
      "              feature_types=None, gamma=None, grow_policy=None,\n",
      "              importance_type=None, interaction_constraints=None, lambda=0.0,\n",
      "              learning_rate=0.1, max_bin=None, max_cat_threshold=None,\n",
      "              max_cat_to_onehot=None, max_delta_step=None, max_depth=3,\n",
      "              max_leaves=None, min_child_weight=None, missing=nan,\n",
      "              monotone_constraints=None, multi_strategy=None, n_estimators=None,\n",
      "              n_jobs=None, ...)\n"
     ]
    }
   ],
   "source": [
    "params = {\n",
    "    # Target function for binary classification\n",
    "    'objective': 'binary:logistic',\n",
    "\n",
    "    # Evaluation metric\n",
    "    'eval_metric': 'logloss',\n",
    "\n",
    "    # Booster type (default is 'gbtree')\n",
    "    'booster': 'gbtree',\n",
    "\n",
    "    # Learning rate (step size shrinkage)\n",
    "    'learning_rate': 0.1,\n",
    "\n",
    "    # Maximum depth of each tree\n",
    "    'max_depth': 3,\n",
    "\n",
    "    # Subsample ratio of the training instances\n",
    "    'subsample': 0.8,\n",
    "\n",
    "    # Subsample ratio of columns for each tree\n",
    "    'colsample_bytree': 0.8,\n",
    "\n",
    "    # L2 regularization term on weights (Ridge)\n",
    "    'lambda': 0.0,\n",
    "\n",
    "    # L1 regularization term on weights (Lasso)\n",
    "    'alpha': 1.0}\n",
    "\n",
    "#------------------\n",
    "\n",
    "# Instantiate the classifier\n",
    "xgb_clf = XGBClassifier(**params)\n",
    "\n",
    "# Fit the classifier to the training data\n",
    "xgb_clf.fit(X_train, y_train)\n",
    "print(xgb_clf)\n"
   ]
  },
  {
   "cell_type": "markdown",
   "id": "9c809017",
   "metadata": {},
   "source": [
    "## 🔮 Make Predictions with XGBoost Classifier"
   ]
  },
  {
   "cell_type": "code",
   "execution_count": 15,
   "id": "eb25b790",
   "metadata": {},
   "outputs": [],
   "source": [
    "# make predictions on test data\n",
    "y_pred = xgb_clf.predict(X_test)"
   ]
  },
  {
   "cell_type": "markdown",
   "id": "b4cb2d2d",
   "metadata": {},
   "source": [
    "## ✅ Check Accuracy Score"
   ]
  },
  {
   "cell_type": "code",
   "execution_count": 16,
   "id": "b53760a2",
   "metadata": {},
   "outputs": [
    {
     "name": "stdout",
     "output_type": "stream",
     "text": [
      "Accuracy:  0.9167\n",
      "Precision: 0.9368\n",
      "Recall:    0.9468\n",
      "f1-Score:  0.9418\n",
      "AUC:       0.9600\n"
     ]
    },
    {
     "data": {
      "text/plain": [
       "<sklearn.metrics._plot.confusion_matrix.ConfusionMatrixDisplay at 0x122035bd910>"
      ]
     },
     "execution_count": 16,
     "metadata": {},
     "output_type": "execute_result"
    },
    {
     "data": {
      "image/png": "[encoded data removed]",
      "text/plain": [
       "<Figure size 432x288 with 2 Axes>"
      ]
     },
     "metadata": {
      "needs_background": "light"
     },
     "output_type": "display_data"
    }
   ],
   "source": [
    "# Evaluate metrics\n",
    "accuracy = accuracy_score(y_test, y_pred)\n",
    "precision = precision_score(y_test, y_pred)\n",
    "recall = recall_score(y_test, y_pred)\n",
    "f1 = f1_score(y_test, y_pred)\n",
    "auc = roc_auc_score(y_test, xgb_clf.predict_proba(X_test)[:, 1])\n",
    "\n",
    "# Print scores\n",
    "print(f'Accuracy:  {accuracy:.4f}')\n",
    "print(f'Precision: {precision:.4f}')\n",
    "print(f'Recall:    {recall:.4f}')\n",
    "print(f'f1-Score:  {f1:.4f}')\n",
    "print(f'AUC:       {auc:.4f}')\n",
    "\n",
    "# Confusion Matrix\n",
    "cm = confusion_matrix(y_test, y_pred)\n",
    "disp = ConfusionMatrixDisplay(confusion_matrix=cm)\n",
    "disp.plot(cmap='Blues')"
   ]
  },
  {
   "cell_type": "markdown",
   "id": "85f01fe9",
   "metadata": {},
   "source": [
    "## 🔍 Feature importance with XGBoost"
   ]
  },
  {
   "cell_type": "code",
   "execution_count": 17,
   "id": "2c7604df",
   "metadata": {},
   "outputs": [
    {
     "data": {
      "image/png": "[encoded data removed]",
      "text/plain": [
       "<Figure size 720x432 with 1 Axes>"
      ]
     },
     "metadata": {
      "needs_background": "light"
     },
     "output_type": "display_data"
    }
   ],
   "source": [
    "importances = xgb_clf.get_booster().get_score(importance_type='gain')\n",
    "\n",
    "# Convert to DataFrame and sort\n",
    "importance_df = pd.DataFrame({\n",
    "    'Feature': list(importances.keys()),\n",
    "    'Importance': list(importances.values())\n",
    "}).sort_values(by='Importance', ascending=False)\n",
    "\n",
    "# Optional: show only top N features\n",
    "top_n = 10\n",
    "importance_df = importance_df.head(top_n)\n",
    "\n",
    "# Plot with seaborn\n",
    "plt.figure(figsize=(10, 6))\n",
    "sns.barplot(data=importance_df, x='Importance', y='Feature', palette='viridis')\n",
    "plt.title(f\"Top {top_n} Feature Importances (Gain)\")\n",
    "plt.xlabel(\"Gain\")\n",
    "plt.ylabel(\"Feature\")\n",
    "plt.tight_layout()\n",
    "plt.show()\n"
   ]
  },
  {
   "cell_type": "markdown",
   "id": "556edbaa",
   "metadata": {},
   "source": [
    "------------"
   ]
  },
  {
   "cell_type": "markdown",
   "id": "38e762fd",
   "metadata": {},
   "source": [
    "📦 **Project Handoff to MLOps**\n",
    "\n",
    "Now, imagine this is the final output of a data scientist's work. This project will be handed over to a machine learning engineer, who will be responsible for versioning the model using MLflow.\n",
    "\n",
    "The engineer will set up experiment tracking, store the generated artifacts, monitor model performance metrics, and ensure the entire workflow is reproducible all as part of a well-structured MLOps pipeline.\n",
    "\n",
    "🎯 **Next Step: Hyperparameter Optimization**\n",
    "\n",
    "From this point on, we will perform hyperparameter optimization using Optuna. Meanwhile, MLflow will continue to log each experiment, allowing us to compare versions and easily identify the best set of parameters.\n",
    "\n",
    "\n",
    "---------"
   ]
  },
  {
   "cell_type": "markdown",
   "id": "544afdb2",
   "metadata": {},
   "source": [
    "## ⚙️ MLOps in Practice: Managing the Machine Learning Model Lifecycle\n",
    "\n",
    "Now, we explore how **MLOps** practices help structure, automate, and scale the machine learning model lifecycle — from data preparation and model training to deployment, monitoring, and continuous improvement. We'll demonstrate how tools like **MLflow** can streamline this process and ensure reproducibility, traceability, and collaboration across teams."
   ]
  },
  {
   "cell_type": "markdown",
   "id": "3940ddd0",
   "metadata": {},
   "source": [
    "## 🚀 Initializing the MLflow Server\n",
    "\n",
    "To start the MLflow tracking server locally, follow the steps based on your environment:\n",
    "\n",
    "---\n",
    "\n",
    "### 🐍 **Using Anaconda**\n",
    "\n",
    "1. Open the **Anaconda Command Prompt**  \n",
    "2. Navigate to your project directory:\n",
    "\n",
    "   ```bash\n",
    "   cd your-project-path\n",
    "\n",
    "3. Run the MLflow server:\n",
    "\n",
    "   ```bash\n",
    "   python -m mlflow server --host 127.0.0.1 --port 8282\n",
    "\n",
    "\n",
    "### 💻 **Using VS Code**\n",
    "\n",
    "1. Open the **terminal** in VS Code\n",
    "2. Run the command below:\n",
    "\n",
    "   ```bash\n",
    "   py -m mlflow server --host 127.0.0.1 --port 8282\n",
    "\n",
    "✅ Make sure you're using the same Python environment or kernel as the one used in your notebook or training script.\n",
    "\n",
    "-----\n",
    "\n",
    "🛰️  Now, let's define the address of the MLflow tracking server — that is, where the experiment logs (parameters, metrics, models, etc.) will be sent and stored."
   ]
  },
  {
   "cell_type": "code",
   "execution_count": null,
   "id": "e89f0788",
   "metadata": {},
   "outputs": [],
   "source": [
    "mlflow.set_tracking_uri(\"http://127.0.0.1:8282\")"
   ]
  },
  {
   "cell_type": "markdown",
   "id": "21494f27",
   "metadata": {},
   "source": [
    "Access the URL above from a new tab in your browser: [http://127.0.0.1:8282](http://127.0.0.1:8282)\n"
   ]
  },
  {
   "cell_type": "markdown",
   "id": "42c05a52",
   "metadata": {},
   "source": [
    "## 📈 **Monitoring the Trained Model**\n",
    "\n",
    "To properly monitor the performance of the trained model, we will generate a series of visualizations that will help us better understand how the model is behaving.\n",
    "\n",
    "These plots will assist in:\n",
    "\n",
    "* Evaluating predictive quality\n",
    "* Identifying potential bias or imbalance\n",
    "* Detecting signs of overfitting or underfitting\n",
    "* Supporting model explainability and transparency\n",
    "\n",
    "By visualizing key metrics and outputs, we can gain valuable insights that go beyond raw numbers and ensure the model remains reliable over time."
   ]
  },
  {
   "cell_type": "code",
   "execution_count": null,
   "id": "5b9e477a",
   "metadata": {},
   "outputs": [],
   "source": [
    "def plot_corr(df, target='Channel', save_path=None, top_n=None):\n",
    "    '''\n",
    "    Parameters:\n",
    "    - df: pandas DataFrame containing the dataset\n",
    "    - target: string, name of the target column\n",
    "    - save_path: optional path to save the figure (as PNG)\n",
    "    - top_n: optional, number of top features to display based on absolute correlation\n",
    "    '''\n",
    "    # Compute correlations with the target \n",
    "    corr = df.corr()[target].drop(target)\n",
    "    corr = corr.reindex(corr.abs().sort_values().index)\n",
    "\n",
    "    # Optionally show only top N correlated features\n",
    "    if top_n:\n",
    "        corr = corr.tail(top_n)\n",
    "\n",
    "    # Set clean white style\n",
    "    sns.set_style(\"white\")\n",
    "    fig, ax = plt.subplots(figsize=(10, 0.5 * len(corr) + 1))\n",
    "\n",
    "    # Plot horizontal bars with elegant color\n",
    "    bars = ax.barh(\n",
    "        corr.index, corr.values,\n",
    "        color=\"#4C72B0\", edgecolor=\"black\", height=0.6\n",
    "    )\n",
    "\n",
    "    # Add correlation values next to bars\n",
    "    for bar in bars:\n",
    "        width = bar.get_width()\n",
    "        ax.text(\n",
    "            x=width + 0.02 if width > 0 else width - 0.02,\n",
    "            y=bar.get_y() + bar.get_height() / 2,\n",
    "            s=f\"{width:.2f}\",\n",
    "            va='center',\n",
    "            ha='left' if width > 0 else 'right',\n",
    "            fontsize=11)\n",
    "\n",
    "    # Clean and minimal axes\n",
    "    ax.set_title(f\"Correlation with '{target}'\", fontsize=16, pad=12)\n",
    "    ax.set_xlabel(\"Correlation Coefficient\", fontsize=13)\n",
    "    ax.set_ylabel(\"\")\n",
    "    ax.spines['right'].set_visible(False)\n",
    "    ax.spines['top'].set_visible(False)\n",
    "    ax.spines['left'].set_color('#cccccc')\n",
    "    ax.spines['bottom'].set_color('#cccccc')\n",
    "    plt.grid(axis='x', linestyle='--', alpha=0.4)\n",
    "    plt.xticks(fontsize=11)\n",
    "    plt.yticks(fontsize=11)\n",
    "    plt.tight_layout()\n",
    "\n",
    "    # Save figure if needed\n",
    "    if save_path:\n",
    "        plt.savefig(save_path, dpi=300, bbox_inches='tight')\n",
    "\n",
    "    plt.show()\n"
   ]
  },
  {
   "cell_type": "code",
   "execution_count": null,
   "id": "8201dc6e",
   "metadata": {},
   "outputs": [],
   "source": [
    "plot_corr(df)"
   ]
  },
  {
   "cell_type": "code",
   "execution_count": null,
   "id": "10eb45b5",
   "metadata": {},
   "outputs": [],
   "source": [
    "def plot_confusion_matrix(y_true, y_pred, labels=None, save_path=None):\n",
    "    '''\n",
    "    Plots a styled confusion matrix with annotated counts.\n",
    "\n",
    "    Parameters:\n",
    "    - y_true: array-like, true target labels\n",
    "    - y_pred: array-like, predicted labels\n",
    "    - labels: optional list of label names (for axis ticks)\n",
    "    - save_path: optional path to save the figure as PNG\n",
    "    '''\n",
    "    # Compute confusion matrix\n",
    "    cm = confusion_matrix(y_true, y_pred)\n",
    "\n",
    "    # Set seaborn style\n",
    "    sns.set_style(\"whitegrid\", {\n",
    "        \"axes.facecolor\": \"#eaeaf2\",\n",
    "        \"grid.linewidth\": 1.2\n",
    "    })\n",
    "\n",
    "    # Create figure\n",
    "    fig, ax = plt.subplots(figsize=(8, 6))\n",
    "\n",
    "    # Plot heatmap\n",
    "    sns.heatmap(\n",
    "        cm, annot=True, fmt=\"d\", cmap=\"Blues\",\n",
    "        cbar=False, square=True, linewidths=0.5,\n",
    "        xticklabels=labels if labels else \"auto\",\n",
    "        yticklabels=labels if labels else \"auto\",\n",
    "        ax=ax\n",
    "    )\n",
    "\n",
    "    # Titles and labels\n",
    "    ax.set_title(\"Confusion Matrix\", fontsize=16, pad=12)\n",
    "    ax.set_xlabel(\"Predicted Labels\", fontsize=13)\n",
    "    ax.set_ylabel(\"True Labels\", fontsize=13)\n",
    "    ax.tick_params(axis='both', labelsize=12)\n",
    "\n",
    "    # Adjust layout\n",
    "    plt.tight_layout()\n",
    "\n",
    "    # Save if path provided\n",
    "    if save_path:\n",
    "        plt.savefig(save_path, format=\"png\", dpi=600)\n",
    "\n",
    "    # Close and return figure\n",
    "    plt.close(fig)\n",
    "    return fig\n"
   ]
  },
  {
   "cell_type": "code",
   "execution_count": null,
   "id": "ebb947b0",
   "metadata": {},
   "outputs": [],
   "source": [
    "plot_confusion_matrix(y_test, y_pred, labels=['Class 0', 'Class 1'])"
   ]
  },
  {
   "cell_type": "code",
   "execution_count": null,
   "id": "8f56e464",
   "metadata": {},
   "outputs": [],
   "source": [
    "def plot_feature_importance(model, booster=\"gbtree\", top_n=10, importance_type=None, save_path=None):\n",
    "    '''\n",
    "    Plots feature importance for a trained XGBoost model (either Booster or XGBClassifier).\n",
    "    '''\n",
    "    if importance_type is None:\n",
    "        importance_type = \"weight\" if booster == \"gblinear\" else \"gain\"\n",
    "\n",
    "    # Handle both Booster and XGBClassifier\n",
    "    if hasattr(model, \"get_booster\"):\n",
    "        booster_model = model.get_booster()\n",
    "    else:\n",
    "        booster_model = model  # assume it's already a Booster\n",
    "\n",
    "    # Extract feature importances\n",
    "    importances = booster_model.get_score(importance_type=importance_type)\n",
    "\n",
    "    importance_df = pd.DataFrame({\n",
    "        'Feature': list(importances.keys()),\n",
    "        'Importance': list(importances.values())\n",
    "    }).sort_values(by='Importance', ascending=False)\n",
    "\n",
    "    if top_n:\n",
    "        importance_df = importance_df.head(top_n)\n",
    "\n",
    "    sns.set_style(\"white\")\n",
    "    plt.figure(figsize=(10, 6))\n",
    "    sns.barplot(data=importance_df, x='Importance', y='Feature', palette='viridis')\n",
    "\n",
    "    plt.title(f\"Top {top_n} Feature Importances ({importance_type.title()})\", fontsize=14)\n",
    "    plt.xlabel(importance_type.title(), fontsize=12)\n",
    "    plt.ylabel(\"Feature\", fontsize=12)\n",
    "    plt.xticks(fontsize=11)\n",
    "    plt.yticks(fontsize=11)\n",
    "    plt.grid(axis='x', linestyle='--', alpha=0.3)\n",
    "    plt.tight_layout()\n",
    "\n",
    "    if save_path:\n",
    "        plt.savefig(save_path, dpi=300, bbox_inches='tight', facecolor='white')\n",
    "\n",
    "    fig = plt.gcf()\n",
    "    plt.close()\n",
    "    return fig\n"
   ]
  },
  {
   "cell_type": "code",
   "execution_count": null,
   "id": "54e7c627",
   "metadata": {},
   "outputs": [],
   "source": [
    "plot_feature_importance(xgb_clf, booster=\"gbtree\", top_n=10, importance_type=None, save_path=None)"
   ]
  },
  {
   "cell_type": "markdown",
   "id": "b36ab2d8",
   "metadata": {},
   "source": [
    "## 🧪 Creating the experiment in MLflow"
   ]
  },
  {
   "cell_type": "code",
   "execution_count": null,
   "id": "ec479566",
   "metadata": {},
   "outputs": [],
   "source": [
    "# Function to create an MLflow experiment\n",
    "def create_experiment(experiment_name):\n",
    "    '''\n",
    "    Creates an MLflow experiment if it doesn't already exist.\n",
    "    \n",
    "    Parameters:\n",
    "    - experiment_name: string, name of the experiment to create or retrieve\n",
    "    \n",
    "    Returns:\n",
    "    - experiment_id: the ID of the existing or newly created experiment\n",
    "    '''\n",
    "\n",
    "    # Check if the experiment already exists by name\n",
    "    if experiment := mlflow.get_experiment_by_name(experiment_name):\n",
    "        # If it exists, return its ID\n",
    "        return experiment.experiment_id\n",
    "    else:\n",
    "        # If it doesn't exist, create a new one and return its ID\n",
    "        return mlflow.create_experiment(experiment_name)"
   ]
  },
  {
   "cell_type": "code",
   "execution_count": null,
   "id": "6f0317ff",
   "metadata": {},
   "outputs": [],
   "source": [
    "# creating the experiment\n",
    "id_experiment = create_experiment('mlflow-project')\n",
    "print(f'The ID of experiment is: {id_experiment}')"
   ]
  },
  {
   "cell_type": "markdown",
   "id": "2355e269",
   "metadata": {},
   "source": [
    "View it in your browser: [http://127.0.0.1:8282](http://127.0.0.1:8282)\n"
   ]
  },
  {
   "cell_type": "markdown",
   "id": "eec12ea6",
   "metadata": {},
   "source": [
    "## 📝 Defining the Logging Callback\n",
    "\n",
    "Callback registration that notifies when a new trial iteration improves upon the current best result.\n"
   ]
  },
  {
   "cell_type": "code",
   "execution_count": null,
   "id": "757fcad7",
   "metadata": {},
   "outputs": [],
   "source": [
    "def f1_score_callback(study, frozen_trial):\n",
    "    '''\n",
    "    Callback to track and report whenever a new trial improves the F1-score.\n",
    "    The current best score is stored in study.user_attrs['winner'].\n",
    "    '''\n",
    "\n",
    "    # Get the current best (\"winner\") from study attributes\n",
    "    current_winner = study.user_attrs.get(\"winner\", None)\n",
    "\n",
    "    # Check if there's a new best value\n",
    "    if study.best_value and current_winner != study.best_value:\n",
    "        # Update winner\n",
    "        study.set_user_attr(\"winner\", study.best_value)\n",
    "\n",
    "        # Log improvement\n",
    "        if current_winner:\n",
    "            improvement = (abs(current_winner - study.best_value) / study.best_value) * 100\n",
    "            print(\n",
    "                f\"Trial {frozen_trial.number} reached F1-score: {frozen_trial.value:.4f} \"\n",
    "                f\"with an improvement of {improvement:.4f}% over the previous best.\"\n",
    "            )\n",
    "        else:\n",
    "            # First time logging a best value\n",
    "            print(\n",
    "                f\"Initial trial {frozen_trial.number} reached F1-score: {frozen_trial.value:.4f}\"\n",
    "            )\n"
   ]
  },
  {
   "cell_type": "code",
   "execution_count": null,
   "id": "2c2050dc",
   "metadata": {},
   "outputs": [],
   "source": [
    "def optimize_hyperparameters(trial):\n",
    "    # define dtrain usando X_train, y_train\n",
    "    dtrain = xgb.DMatrix(X_train, label=y_train)\n",
    "\n",
    "    # define dvalid com os dados de teste\n",
    "    dvalid = xgb.DMatrix(X_test, label=y_test)\n",
    "\n",
    "    # hiperparâmetros\n",
    "    params = {\n",
    "        \"objective\": \"binary:logistic\",\n",
    "        \"eval_metric\": \"logloss\",\n",
    "        \"booster\": trial.suggest_categorical(\"booster\", [\"gbtree\", \"gblinear\", \"dart\"]),\n",
    "        \"learning_rate\": trial.suggest_float(\"learning_rate\", 0.01, 0.3),\n",
    "        \"max_depth\": trial.suggest_int(\"max_depth\", 3, 10),\n",
    "        \"subsample\": trial.suggest_float(\"subsample\", 0.5, 1.0),\n",
    "        \"colsample_bytree\": trial.suggest_float(\"colsample_bytree\", 0.5, 1.0),\n",
    "        \"lambda\": trial.suggest_float(\"lambda\", 1e-8, 1.0, log=True),\n",
    "        \"alpha\": trial.suggest_float(\"alpha\", 1e-8, 1.0, log=True),\n",
    "    }\n",
    "\n",
    "    with mlflow.start_run(nested=True):\n",
    "        # treina o modelo\n",
    "        model = xgb.train(params, dtrain)\n",
    "\n",
    "        # faz predições\n",
    "        preds_proba = model.predict(dvalid)\n",
    "        preds = [1 if p > 0.5 else 0 for p in preds_proba]\n",
    "\n",
    "        # calcula f1-score\n",
    "        f1 = f1_score(y_test, preds)\n",
    "\n",
    "        # registra no MLflow\n",
    "        mlflow.log_params(params)\n",
    "        mlflow.log_metric(\"f1_score\", f1)\n",
    "\n",
    "    return 1.0 - f1  # porque estamos minimizando\n"
   ]
  },
  {
   "cell_type": "code",
   "execution_count": null,
   "id": "966c0b50",
   "metadata": {},
   "outputs": [],
   "source": [
    "# ----------------------------------------------------------\n",
    "# IMPORTS\n",
    "# ----------------------------------------------------------\n",
    "import math, optuna, mlflow, xgboost as xgb, tempfile, shutil\n",
    "from sklearn.metrics import f1_score, accuracy_score, log_loss\n",
    "from sklearn.model_selection import train_test_split\n",
    "try:\n",
    "    from mlflow.models.signature import infer_signature   # MLflow ≤ 3.1\n",
    "except ImportError:\n",
    "    from mlflow.models import infer_signature             # MLflow ≥ 3.2\n",
    "\n",
    "# ----------------------------------------------------------\n",
    "# PREPARE DATA (EXAMPLE)\n",
    "# ----------------------------------------------------------\n",
    "# Assume X and y already exist\n",
    "# X, y = ...\n",
    "\n",
    "X_train, X_test, y_train, y_test = train_test_split(X, y, test_size=0.3, random_state=123)\n",
    "\n",
    "# Convert to DMatrix for XGBoost\n",
    "dtrain = xgb.DMatrix(X_train, label=y_train)\n",
    "dtest = xgb.DMatrix(X_test, label=y_test)\n",
    "\n",
    "# ----------------------------------------------------------\n",
    "# EXPERIMENT / MAIN RUN\n",
    "# ----------------------------------------------------------\n",
    "run_name = \"experiment_1\"\n",
    "mlflow.set_experiment(experiment_id=id_experiment)\n",
    "\n",
    "with mlflow.start_run(run_name=run_name):\n",
    "\n",
    "    # 1) Run Optuna study\n",
    "    study = optuna.create_study(direction=\"minimize\")\n",
    "    study.optimize(optimize_hyperparameters, n_trials=100, callbacks=[f1_score_callback])\n",
    "\n",
    "    # 2) Log best parameters and metrics\n",
    "    mlflow.log_params(study.best_params)\n",
    "    mlflow.log_metric(\"best_f1_score\", 1.0 - study.best_value)  # Because we're minimizing 1 - f1\n",
    "    mlflow.set_tags({\n",
    "        \"project\": \"DSA MLOps Project 1\",\n",
    "        \"optimizer_engine\": \"optuna\",\n",
    "        \"model_family\": \"xgboost\",\n",
    "        \"task\": \"binary_classification\",\n",
    "        \"feature_set_version\": 1\n",
    "    })\n",
    "\n",
    "    # 3) Final training using best params\n",
    "    final_model = xgb.train(study.best_params, dtrain)\n",
    "\n",
    "    # 4) Log figures\n",
    "    y_pred_test = final_model.predict(dtest)\n",
    "    y_pred_binary = [1 if p > 0.5 else 0 for p in y_pred_test]\n",
    "\n",
    "    mlflow.log_figure(\n",
    "        plot_feature_importance(final_model, booster=study.best_params[\"booster\"]),\n",
    "        \"feature_importance.png\"\n",
    "    )\n",
    "    mlflow.log_figure(\n",
    "        plot_confusion_matrix(y_test, y_pred_binary),\n",
    "        \"confusion_matrix.png\"\n",
    "    )\n",
    "\n",
    "    # 5) Signature for model input/output\n",
    "    signature = infer_signature(X_train, final_model.predict(dtrain))\n",
    "\n",
    "    # ------------------------------------------------------\n",
    "    # 6) SAVE MODEL MANUALLY IN 'model/' FOLDER\n",
    "    # ------------------------------------------------------\n",
    "    tmp_dir = tempfile.mkdtemp()\n",
    "    model_save_path = f\"{tmp_dir}/model\"\n",
    "\n",
    "    mlflow.xgboost.save_model(\n",
    "        final_model,\n",
    "        path=model_save_path,\n",
    "        input_example=X_train.iloc[[0]],\n",
    "        signature=signature,\n",
    "        model_format=\"ubj\",\n",
    "        metadata={\"model_data_version\": 1}\n",
    "    )\n",
    "\n",
    "    mlflow.log_artifacts(model_save_path, artifact_path=\"model\")\n",
    "    shutil.rmtree(tmp_dir)\n",
    "\n",
    "print(\"✅ Model and figures logged successfully — check the 'model/' folder in Artifacts.\")\n"
   ]
  },
  {
   "cell_type": "code",
   "execution_count": null,
   "id": "4fb13686",
   "metadata": {},
   "outputs": [],
   "source": []
  },
  {
   "cell_type": "code",
   "execution_count": null,
   "id": "e28f0264",
   "metadata": {},
   "outputs": [],
   "source": []
  },
  {
   "cell_type": "code",
   "execution_count": null,
   "id": "6aa8fd77",
   "metadata": {},
   "outputs": [],
   "source": []
  }
 ],
 "metadata": {
  "kernelspec": {
   "display_name": "base",
   "language": "python",
   "name": "python3"
  },
  "language_info": {
   "codemirror_mode": {
    "name": "ipython",
    "version": 3
   },
   "file_extension": ".py",
   "mimetype": "text/x-python",
   "name": "python",
   "nbconvert_exporter": "python",
   "pygments_lexer": "ipython3",
   "version": "3.9.12"
  }
 },
 "nbformat": 4,
 "nbformat_minor": 5
}
